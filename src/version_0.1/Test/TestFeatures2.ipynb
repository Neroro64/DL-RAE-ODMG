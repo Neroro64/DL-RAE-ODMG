{
 "cells": [
  {
   "cell_type": "code",
   "execution_count": 1,
   "outputs": [],
   "source": [
    "import numpy as np\n",
    "import sys, os\n",
    "import _pickle as pickle\n",
    "import matplotlib.pyplot as plt\n",
    "\n",
    "import plotly.graph_objects as go\n",
    "import plotly.express as ex\n",
    "from plotly.subplots import make_subplots\n",
    "from cytoolz.itertoolz import concat, sliding_window\n",
    "import scipy.signal as signal\n",
    "from scipy.optimize import minimize\n",
    "\n",
    "\n",
    "sys.path.append(\"../\")\n",
    "import func as F"
   ],
   "metadata": {
    "collapsed": false,
    "pycharm": {
     "name": "#%%\n"
    }
   }
  },
  {
   "cell_type": "markdown",
   "source": [
    "# Test local motion phases"
   ],
   "metadata": {
    "collapsed": false
   }
  },
  {
   "cell_type": "code",
   "execution_count": 4,
   "outputs": [
    {
     "ename": "NameError",
     "evalue": "name 'np' is not defined",
     "output_type": "error",
     "traceback": [
      "\u001B[0;31m---------------------------------------------------------------------------\u001B[0m",
      "\u001B[0;31mNameError\u001B[0m                                 Traceback (most recent call last)",
      "\u001B[0;32m<ipython-input-4-e65c3a21a6e9>\u001B[0m in \u001B[0;36m<module>\u001B[0;34m\u001B[0m\n\u001B[1;32m     12\u001B[0m     \u001B[0;32mreturn\u001B[0m \u001B[0mcontact_info\u001B[0m\u001B[0;34m.\u001B[0m\u001B[0mT\u001B[0m\u001B[0;34m,\u001B[0m \u001B[0mvelocity_info\u001B[0m\u001B[0;34m.\u001B[0m\u001B[0mT\u001B[0m\u001B[0;34m\u001B[0m\u001B[0;34m\u001B[0m\u001B[0m\n\u001B[1;32m     13\u001B[0m \u001B[0;34m\u001B[0m\u001B[0m\n\u001B[0;32m---> 14\u001B[0;31m \u001B[0;32mdef\u001B[0m \u001B[0mnormalise\u001B[0m\u001B[0;34m(\u001B[0m\u001B[0mblock_fn\u001B[0m\u001B[0;34m:\u001B[0m\u001B[0mnp\u001B[0m\u001B[0;34m.\u001B[0m\u001B[0mndarray\u001B[0m\u001B[0;34m,\u001B[0m \u001B[0mwindow_size_half\u001B[0m\u001B[0;34m:\u001B[0m\u001B[0mint\u001B[0m\u001B[0;34m=\u001B[0m\u001B[0;36m30\u001B[0m\u001B[0;34m)\u001B[0m \u001B[0;34m->\u001B[0m \u001B[0mnp\u001B[0m\u001B[0;34m.\u001B[0m\u001B[0mndarray\u001B[0m\u001B[0;34m:\u001B[0m\u001B[0;34m\u001B[0m\u001B[0;34m\u001B[0m\u001B[0m\n\u001B[0m\u001B[1;32m     15\u001B[0m     \"\"\"\n\u001B[1;32m     16\u001B[0m     \u001B[0mTakes\u001B[0m \u001B[0man\u001B[0m \u001B[0mndarray\u001B[0m \u001B[0mof\u001B[0m \u001B[0mshape\u001B[0m\u001B[0;34m(\u001B[0m\u001B[0mn_joints\u001B[0m\u001B[0;34m,\u001B[0m \u001B[0mn_frames\u001B[0m\u001B[0;34m)\u001B[0m\u001B[0;34m,\u001B[0m \u001B[0mwhere\u001B[0m \u001B[0;36m1\u001B[0m \u001B[0;34m=\u001B[0m \u001B[0mcontact\u001B[0m \u001B[0;32mand\u001B[0m \u001B[0;36m0\u001B[0m \u001B[0motherwise\u001B[0m\u001B[0;34m.\u001B[0m\u001B[0;34m\u001B[0m\u001B[0;34m\u001B[0m\u001B[0m\n",
      "\u001B[0;31mNameError\u001B[0m: name 'np' is not defined"
     ]
    }
   ],
   "source": [
    "def extract_info(data):\n",
    "    contact_info = []\n",
    "    velocity_info = []\n",
    "    for f in data[\"frames\"]:\n",
    "        contacts = np.asarray([jo[\"contact\"] for jo in f]).astype(np.float32)\n",
    "        velocity = np.concatenate([jo[\"velocity\"]for jo in f])\n",
    "\n",
    "        contact_info.append(contacts)\n",
    "        velocity_info.append(velocity)\n",
    "    contact_info = np.vstack(contact_info)\n",
    "    velocity_info = np.vstack(velocity_info)\n",
    "    return contact_info.T, velocity_info.T\n",
    "\n",
    "def normalise(block_fn:np.ndarray, window_size_half:int=30) -> np.ndarray:\n",
    "    \"\"\"\n",
    "    Takes an ndarray of shape(n_joints, n_frames), where 1 = contact and 0 otherwise.\n",
    "    :param block_fn:\n",
    "    :param n_windows:\n",
    "    :return:\n",
    "    \"\"\"\n",
    "    Frames = block_fn.shape[1]\n",
    "    t = np.arange(Frames)\n",
    "    normalised_block_fn = np.zeros_like(block_fn, dtype=np.float32)\n",
    "\n",
    "    for ts in t:\n",
    "        low = max(ts-window_size_half, 0)\n",
    "        high = min(ts+window_size_half, Frames)\n",
    "        window = np.arange(low, high)\n",
    "        slice = block_fn[:, window]\n",
    "        mean = np.mean(slice, axis=1)\n",
    "        std = np.std(slice, axis=1)\n",
    "        std[std == 0] = 1\n",
    "        normalised_block_fn[:, ts] = (block_fn[:, ts]-mean) / std\n",
    "\n",
    "    filter = signal.butter(3, .1, \"low\", analog=False, output=\"sos\")\n",
    "    normalised_block_fn = signal.sosfilt(filter, normalised_block_fn)\n",
    "    return normalised_block_fn\n",
    "\n",
    "def calc_local_motion_phase(block_fn:np.ndarray):\n",
    "    \"\"\"\n",
    "    Takes the contact info and approximates the local motion phase, as described in [Local Motion Phases for Learning Multi-Contact Character Movements]\n",
    "    :param block_fn:\n",
    "    :return:\n",
    "    \"\"\"\n",
    "    block_fn = normalise(block_fn)\n",
    "    results = [fit(row) for row in block_fn]\n",
    "    return block_fn, results\n",
    "\n",
    "def infer(t, params):\n",
    "    return params[0] * np.sin(params[1] * t - params[2]) + params[3]\n",
    "\n",
    "def func(x, *args):\n",
    "    window = args[0]\n",
    "    row_fn = args[1]\n",
    "    N = float(len(window))\n",
    "    return np.sqrt(\n",
    "        np.sum((infer(window, x) - row_fn)**2) / N\n",
    "    )\n",
    "\n",
    "def fit(row_fn):\n",
    "    Frames = len(row_fn)\n",
    "    a = np.ones(Frames) * 0.001\n",
    "    f = np.ones(Frames) * 0.001\n",
    "    s = np.ones(Frames) * 0.001\n",
    "    b = np.ones(Frames) * 0.001\n",
    "    params = np.column_stack([a,f,s,b])\n",
    "    t = np.arange(Frames)\n",
    "\n",
    "    results = []\n",
    "    for ts in t:\n",
    "        low = max(ts-120, 0)\n",
    "        high = min(ts+120, Frames)\n",
    "        window = np.arange(low, high)\n",
    "        res = minimize(func, params[ts], args=(window, row_fn[window]), method=\"BFGS\")\n",
    "        results.append(res)\n",
    "    return results\n",
    "\n",
    "def plot_contact(original, normalised, optimised, local_phase, amp):\n",
    "    fig = make_subplots(rows=4, cols=1, subplot_titles=[\"Original\", \"Normalised\", \"Optimised\", \"Local phase vector\"])\n",
    "    x = np.arange(original.shape[1])\n",
    "\n",
    "    for i in range(len(original)):\n",
    "        fig.add_trace(go.Scatter(x=x, y=original[i], name=\"J\"+str(i)), row=1, col=1)\n",
    "        fig.add_trace(go.Scatter(x=x, y=normalised[i], name=\"J\"+str(i)), row=2, col=1)\n",
    "        fig.add_trace(go.Scatter(x=x, y=optimised[i], name=\"J\"+str(i)), row=3, col=1)\n",
    "        fig.add_trace(ex.bar(x=x, y=amp[i]).data[0], row=3, col=1)\n",
    "        fig.add_trace(go.Scatter(x=x, y=local_phase[0][i], name=\"J\"+str(i)), row=4, col=1)\n",
    "        fig.add_trace(go.Scatter(x=x, y=local_phase[1][i], name=\"J\"+str(i)), row=4, col=1)\n",
    "\n",
    "    fig.update_layout(\n",
    "        title=\"Contact info\",\n",
    "        width=800,\n",
    "        height=800\n",
    "    )\n",
    "    fig.update_xaxes(title_text=\"frames\")\n",
    "    return fig\n",
    "def plot_contact_single(original, normalised, optimised, local_phase, amp, velocity, i=14):\n",
    "    fig = make_subplots(rows=5, cols=1,\n",
    "                        subplot_titles=\n",
    "                        [\"Original\", \"Normalised\", \"Optimised\", \"Local phase vector\", \"Velocity Magnitude\"])\n",
    "    x = np.arange(len(original))\n",
    "\n",
    "    fig.add_trace(go.Scatter(x=x, y=original, name=\"J\"+str(i)), row=1, col=1)\n",
    "    fig.add_trace(go.Scatter(x=x, y=normalised, name=\"J\"+str(i)), row=2, col=1)\n",
    "    fig.add_trace(go.Scatter(x=x, y=optimised, name=\"J\"+str(i)), row=3, col=1)\n",
    "    fig.add_trace(ex.bar(x=x, y=amp).data[0], row=3, col=1)\n",
    "    fig.add_trace(go.Scatter(x=x, y=local_phase[0], name=\"J\"+str(i)), row=4, col=1)\n",
    "    fig.add_trace(go.Scatter(x=x, y=local_phase[1], name=\"J\"+str(i)), row=4, col=1)\n",
    "    fig.add_trace(go.Scatter(x=x, y=velocity, name=\"J\"+str(i)), row=5, col=1)\n",
    "\n",
    "    fig.update_layout(\n",
    "        title=\"Contact info\",\n",
    "        width=800,\n",
    "        height=800\n",
    "    )\n",
    "    fig.update_xaxes(title_text=\"frames\")\n",
    "    return fig\n",
    "\n",
    "def plot_local_phase(results):\n",
    "    fig = make_subplots(rows=2, cols=2)\n",
    "    x = np.arange(len(results))\n",
    "    # plot the approximated motion phases\n",
    "    amp = np.asarray([res.x[0] for res in results], dtype=np.float32)\n",
    "    freq = np.asarray([res.x[1] for res in results], dtype=np.float32)\n",
    "    phase = np.asarray([res.x[2] for res in results], dtype=np.float32)\n",
    "    bias = np.asarray([res.x[3] for res in results], dtype=np.float32)\n",
    "\n",
    "    y = infer(x, [amp.mean(), freq.mean(), phase.mean(), bias.mean()])\n",
    "    amp = (amp-amp.mean()) / amp.std()\n",
    "    fig.add_trace(go.Scatter(x=x, y=y, name=\"Y\"), row=1, col=1)\n",
    "    fig.add_trace(go.Scatter(x=x, y=amp, name=\"amplitude\"), row=1, col=2)\n",
    "    fig.add_trace(go.Scatter(x=x, y=phase, name=\"phase\"), row=2, col=1)\n",
    "    fig.add_trace(go.Scatter(x=x, y=freq, name=\"freq\"), row=2, col=2)\n",
    "\n",
    "    fig.show()\n",
    "\n",
    "def calc_local_phase_vec(results, velocity):\n",
    "    phi = np.asarray([np.asarray([(r.x[1] * i - r.x[2]) % (2*np.pi) for i, r in enumerate(res)]) for res in results])\n",
    "    velocity = np.reshape(velocity, (-1, 3, len(results))).T\n",
    "    velocity = np.sqrt(np.sum(velocity**2, axis=1))\n",
    "    # velocity = np.squeeze(velocity, axis=1)\n",
    "    Phi = (1 / np.diff(phi, prepend=0, axis=1)) * velocity\n",
    "    amp = np.asarray([np.asarray([(r.x[0]) for r in res]) for res in results])\n",
    "    P = [Phi * amp * np.sin(phi), np.abs(Phi) * amp * np.cos(phi)]\n",
    "    return P, amp, velocity\n",
    "\n"
   ],
   "metadata": {
    "collapsed": false,
    "pycharm": {
     "name": "#%%\n"
    }
   }
  },
  {
   "cell_type": "code",
   "execution_count": 183,
   "outputs": [],
   "source": [
    "# Load data\n",
    "data_path = \"../../data/\"\n",
    "data1 = F.load(data_path+\"TWO_ROT_R2-default-Two.pbz2\")\n",
    "data2 = F.load(data_path+\"TWO_ROT_R1-default-Two.pbz2\")\n",
    "d1 = pickle.loads(data1[10])  # only inspect the first animation sequence\n",
    "d2 = pickle.loads(data2[10])  # only inspect the first animation sequence"
   ],
   "metadata": {
    "collapsed": false,
    "pycharm": {
     "name": "#%%\n"
    }
   }
  },
  {
   "cell_type": "code",
   "execution_count": 2,
   "outputs": [
    {
     "ename": "NameError",
     "evalue": "name 'd1' is not defined",
     "output_type": "error",
     "traceback": [
      "\u001B[0;31m---------------------------------------------------------------------------\u001B[0m",
      "\u001B[0;31mNameError\u001B[0m                                 Traceback (most recent call last)",
      "\u001B[0;32m<ipython-input-2-ff12bbddf95a>\u001B[0m in \u001B[0;36m<module>\u001B[0;34m\u001B[0m\n\u001B[1;32m      1\u001B[0m \u001B[0;31m# plot the contact info\u001B[0m\u001B[0;34m\u001B[0m\u001B[0;34m\u001B[0m\u001B[0;34m\u001B[0m\u001B[0m\n\u001B[0;32m----> 2\u001B[0;31m \u001B[0mcInfo1\u001B[0m\u001B[0;34m,\u001B[0m \u001B[0mvInfo1\u001B[0m\u001B[0;34m=\u001B[0m \u001B[0mextract_info\u001B[0m\u001B[0;34m(\u001B[0m\u001B[0md1\u001B[0m\u001B[0;34m)\u001B[0m\u001B[0;34m\u001B[0m\u001B[0;34m\u001B[0m\u001B[0m\n\u001B[0m\u001B[1;32m      3\u001B[0m \u001B[0mcInfo2\u001B[0m\u001B[0;34m,\u001B[0m \u001B[0mvInfo2\u001B[0m \u001B[0;34m=\u001B[0m \u001B[0mextract_info\u001B[0m\u001B[0;34m(\u001B[0m\u001B[0md2\u001B[0m\u001B[0;34m)\u001B[0m\u001B[0;34m\u001B[0m\u001B[0;34m\u001B[0m\u001B[0m\n\u001B[1;32m      4\u001B[0m \u001B[0;34m\u001B[0m\u001B[0m\n\u001B[1;32m      5\u001B[0m \u001B[0;34m\u001B[0m\u001B[0m\n",
      "\u001B[0;31mNameError\u001B[0m: name 'd1' is not defined"
     ]
    }
   ],
   "source": [
    "# plot the contact info\n",
    "cInfo1, vInfo1= extract_info(d1)\n",
    "cInfo2, vInfo2 = extract_info(d2)\n",
    "\n"
   ],
   "metadata": {
    "collapsed": false,
    "pycharm": {
     "name": "#%%\n"
    }
   }
  },
  {
   "cell_type": "code",
   "execution_count": 3,
   "outputs": [
    {
     "ename": "NameError",
     "evalue": "name 'calc_local_motion_phase' is not defined",
     "output_type": "error",
     "traceback": [
      "\u001B[0;31m---------------------------------------------------------------------------\u001B[0m",
      "\u001B[0;31mNameError\u001B[0m                                 Traceback (most recent call last)",
      "\u001B[0;32m<ipython-input-3-beabe34619e9>\u001B[0m in \u001B[0;36m<module>\u001B[0;34m\u001B[0m\n\u001B[0;32m----> 1\u001B[0;31m \u001B[0mcNormalised1\u001B[0m\u001B[0;34m,\u001B[0m \u001B[0mcOptimised1\u001B[0m \u001B[0;34m=\u001B[0m \u001B[0mcalc_local_motion_phase\u001B[0m\u001B[0;34m(\u001B[0m\u001B[0mnp\u001B[0m\u001B[0;34m.\u001B[0m\u001B[0mcopy\u001B[0m\u001B[0;34m(\u001B[0m\u001B[0mcInfo1\u001B[0m\u001B[0;34m)\u001B[0m\u001B[0;34m)\u001B[0m\u001B[0;34m\u001B[0m\u001B[0;34m\u001B[0m\u001B[0m\n\u001B[0m\u001B[1;32m      2\u001B[0m \u001B[0mcNormalised2\u001B[0m\u001B[0;34m,\u001B[0m \u001B[0mcOptimised2\u001B[0m \u001B[0;34m=\u001B[0m \u001B[0mcalc_local_motion_phase\u001B[0m\u001B[0;34m(\u001B[0m\u001B[0mnp\u001B[0m\u001B[0;34m.\u001B[0m\u001B[0mcopy\u001B[0m\u001B[0;34m(\u001B[0m\u001B[0mcInfo2\u001B[0m\u001B[0;34m)\u001B[0m\u001B[0;34m)\u001B[0m\u001B[0;34m\u001B[0m\u001B[0;34m\u001B[0m\u001B[0m\n\u001B[1;32m      3\u001B[0m \u001B[0;34m\u001B[0m\u001B[0m\n\u001B[1;32m      4\u001B[0m \u001B[0;34m\u001B[0m\u001B[0m\n",
      "\u001B[0;31mNameError\u001B[0m: name 'calc_local_motion_phase' is not defined"
     ]
    }
   ],
   "source": [
    "cNormalised1, cOptimised1 = calc_local_motion_phase(np.copy(cInfo1))\n",
    "cNormalised2, cOptimised2 = calc_local_motion_phase(np.copy(cInfo2))\n"
   ],
   "metadata": {
    "collapsed": false,
    "pycharm": {
     "name": "#%%\n"
    }
   }
  },
  {
   "cell_type": "code",
   "execution_count": 253,
   "outputs": [],
   "source": [
    "cLocalPhase1, cAmp1, cVel1 = calc_local_phase_vec(cOptimised1, vInfo1)\n",
    "cLocalPhase2, cAmp2, cVel2 = calc_local_phase_vec(cOptimised2, vInfo2)"
   ],
   "metadata": {
    "collapsed": false,
    "pycharm": {
     "name": "#%%\n"
    }
   }
  },
  {
   "cell_type": "code",
   "execution_count": 254,
   "outputs": [],
   "source": [
    "cOpt1 = [[infer(i, jo[i].x) for i in range(len(jo))] for jo in cOptimised1]\n",
    "cOpt2 = [[infer(i, jo[i].x) for i in range(len(jo))] for jo in cOptimised2]"
   ],
   "metadata": {
    "collapsed": false,
    "pycharm": {
     "name": "#%%\n"
    }
   }
  },
  {
   "cell_type": "code",
   "execution_count": 255,
   "outputs": [],
   "source": [
    "cO_14 = cInfo1[14]\n",
    "cN_14 = cNormalised1[14]\n",
    "cOpt_14 = cOpt1[14]\n",
    "cAmp_14 = cAmp1[14]\n",
    "cVel_14 = cVel1[14]\n",
    "cLocal_14 = [cLocalPhase1[0][14], cLocalPhase1[1][14]]\n",
    "cO_20 = cInfo1[20]\n",
    "cN_20 = cNormalised1[20]\n",
    "cOpt_20 = cOpt1[20]\n",
    "cAmp_20 = cAmp1[20]\n",
    "cVel_20 = cVel1[20]\n",
    "cLocal_20 = [cLocalPhase1[0][20], cLocalPhase1[1][20]]\n"
   ],
   "metadata": {
    "collapsed": false,
    "pycharm": {
     "name": "#%%\n"
    }
   }
  },
  {
   "cell_type": "code",
   "execution_count": 259,
   "outputs": [
    {
     "data": {
      "application/vnd.plotly.v1+json": {
       "config": {
        "plotlyServerURL": "https://plot.ly"
       },
       "data": [
        {
         "name": "J14",
         "type": "scatter",
         "x": [
          0,
          1,
          2,
          3,
          4,
          5,
          6,
          7,
          8,
          9,
          10,
          11,
          12,
          13,
          14,
          15,
          16,
          17,
          18,
          19,
          20,
          21,
          22,
          23,
          24,
          25,
          26,
          27,
          28,
          29,
          30,
          31,
          32,
          33,
          34,
          35,
          36,
          37,
          38,
          39,
          40,
          41,
          42,
          43,
          44,
          45,
          46,
          47,
          48,
          49,
          50,
          51,
          52,
          53,
          54,
          55,
          56,
          57,
          58,
          59,
          60,
          61,
          62,
          63,
          64,
          65,
          66,
          67,
          68,
          69,
          70,
          71,
          72,
          73,
          74,
          75,
          76,
          77,
          78,
          79,
          80,
          81,
          82,
          83,
          84,
          85,
          86,
          87,
          88,
          89,
          90,
          91,
          92,
          93,
          94,
          95,
          96,
          97,
          98,
          99,
          100,
          101,
          102,
          103,
          104,
          105,
          106,
          107,
          108,
          109,
          110,
          111,
          112,
          113,
          114,
          115,
          116,
          117,
          118,
          119
         ],
         "xaxis": "x",
         "y": [
          0.0,
          0.0,
          0.0,
          0.0,
          0.0,
          0.0,
          0.0,
          0.0,
          0.0,
          0.0,
          0.0,
          0.0,
          0.0,
          0.0,
          0.0,
          0.0,
          0.0,
          0.0,
          0.0,
          0.0,
          0.0,
          0.0,
          0.0,
          0.0,
          0.0,
          0.0,
          0.0,
          0.0,
          0.0,
          0.0,
          0.0,
          0.0,
          0.0,
          0.0,
          0.0,
          0.0,
          0.0,
          0.0,
          1.0,
          1.0,
          1.0,
          1.0,
          1.0,
          1.0,
          1.0,
          1.0,
          1.0,
          1.0,
          1.0,
          1.0,
          1.0,
          0.0,
          0.0,
          0.0,
          0.0,
          0.0,
          0.0,
          0.0,
          0.0,
          0.0,
          0.0,
          0.0,
          0.0,
          0.0,
          0.0,
          0.0,
          0.0,
          0.0,
          0.0,
          0.0,
          0.0,
          0.0,
          0.0,
          0.0,
          0.0,
          0.0,
          0.0,
          0.0,
          0.0,
          0.0,
          0.0,
          0.0,
          0.0,
          0.0,
          0.0,
          0.0,
          0.0,
          0.0,
          0.0,
          0.0,
          0.0,
          0.0,
          0.0,
          0.0,
          0.0,
          0.0,
          0.0,
          0.0,
          0.0,
          0.0,
          0.0,
          0.0,
          0.0,
          0.0,
          0.0,
          0.0,
          0.0,
          0.0,
          0.0,
          0.0,
          0.0,
          0.0,
          0.0,
          0.0,
          0.0,
          0.0,
          0.0,
          0.0,
          0.0,
          0.0
         ],
         "yaxis": "y"
        },
        {
         "name": "J14",
         "type": "scatter",
         "x": [
          0,
          1,
          2,
          3,
          4,
          5,
          6,
          7,
          8,
          9,
          10,
          11,
          12,
          13,
          14,
          15,
          16,
          17,
          18,
          19,
          20,
          21,
          22,
          23,
          24,
          25,
          26,
          27,
          28,
          29,
          30,
          31,
          32,
          33,
          34,
          35,
          36,
          37,
          38,
          39,
          40,
          41,
          42,
          43,
          44,
          45,
          46,
          47,
          48,
          49,
          50,
          51,
          52,
          53,
          54,
          55,
          56,
          57,
          58,
          59,
          60,
          61,
          62,
          63,
          64,
          65,
          66,
          67,
          68,
          69,
          70,
          71,
          72,
          73,
          74,
          75,
          76,
          77,
          78,
          79,
          80,
          81,
          82,
          83,
          84,
          85,
          86,
          87,
          88,
          89,
          90,
          91,
          92,
          93,
          94,
          95,
          96,
          97,
          98,
          99,
          100,
          101,
          102,
          103,
          104,
          105,
          106,
          107,
          108,
          109,
          110,
          111,
          112,
          113,
          114,
          115,
          116,
          117,
          118,
          119
         ],
         "xaxis": "x2",
         "y": [
          0.0,
          0.0,
          0.0,
          0.0,
          0.0,
          0.0,
          0.0,
          0.0,
          0.0,
          -4.701492397343394E-4,
          -0.0031915180377412094,
          -0.010889325605887328,
          -0.025792961390956524,
          -0.04890371995989893,
          -0.08007291090449262,
          -0.1182647378636614,
          -0.16187067258833024,
          -0.20900951012643454,
          -0.2577793656391731,
          -0.30644701310255273,
          -0.35357221988482695,
          -0.39807246737381463,
          -0.4391520511883972,
          -0.4760784063410017,
          -0.5080828927330416,
          -0.5345125535632059,
          -0.5549992755943063,
          -0.5695195781928577,
          -0.5783801877146585,
          -0.5821584383088165,
          -0.5816204192593976,
          -0.577649921023911,
          -0.5712054653518349,
          -0.5632634750373325,
          -0.55472948035118,
          -0.5463629561630573,
          -0.5387394083254294,
          -0.5322416558100895,
          -0.5200373865303487,
          -0.47843875982139195,
          -0.37866405224867683,
          -0.20851949582586285,
          0.025052508188408547,
          0.3043928749769672,
          0.6074596289145624,
          0.9122998062246244,
          1.199925837568755,
          1.4558865172013937,
          1.6708264567800832,
          1.8403137757969568,
          1.964187510948989,
          2.038603519374476,
          2.0453530000771654,
          1.9626074143388934,
          1.7856994281102694,
          1.5289400054246394,
          1.2166603477586528,
          0.876530719747641,
          0.5349139211735584,
          0.21395798747594102,
          -0.06989609779001571,
          -0.30632032331529013,
          -0.49073109245193486,
          -0.6234250772797295,
          -0.70845471318025,
          -0.7524296608584827,
          -0.7633811437808854,
          -0.7497798620610093,
          -0.7197578114432487,
          -0.6804762118577729,
          -0.6376029621823702,
          -0.5951017633231986,
          -0.5554041525779716,
          -0.5197226816537307,
          -0.48834985546052345,
          -0.46092943481482157,
          -0.4366898165188571,
          -0.41463265483023465,
          -0.3936726260777094,
          -0.3727245625753181,
          -0.3507258393402625,
          -0.3264130045445366,
          -0.29824819101301536,
          -0.2652925750309534,
          -0.22807918941383531,
          -0.18832838721476483,
          -0.14821920165057825,
          -0.10988930474351205,
          -0.07512495979964823,
          -0.0452020054114897,
          -0.020840468667802307,
          -0.0022386423805483722,
          0.010843053584273798,
          0.018972873845944607,
          0.022932166698489926,
          0.023607036436606128,
          0.02189603413394527,
          0.018638531008364424,
          0.014565123517243858,
          0.01026896814563887,
          0.006195302919943644,
          0.0026454876503685812,
          -2.0843947676663644E-4,
          -0.0023025735789886275,
          -0.0036567751287838613,
          -0.004349952735422884,
          -0.00449712278434675,
          -0.004229669567248374,
          -0.0036795896524934243,
          -0.0029679657568647197,
          -0.0021974977397464413,
          -0.0014486252941574619,
          -7.786004476901879E-4,
          -2.2279222587997198E-4,
          2.024894983720302E-4,
          4.963005777996386E-4,
          6.690480757963666E-4,
          7.385828611116601E-4,
          7.267033031529644E-4,
          6.562574634201335E-4
         ],
         "yaxis": "y2"
        },
        {
         "name": "J14",
         "type": "scatter",
         "x": [
          0,
          1,
          2,
          3,
          4,
          5,
          6,
          7,
          8,
          9,
          10,
          11,
          12,
          13,
          14,
          15,
          16,
          17,
          18,
          19,
          20,
          21,
          22,
          23,
          24,
          25,
          26,
          27,
          28,
          29,
          30,
          31,
          32,
          33,
          34,
          35,
          36,
          37,
          38,
          39,
          40,
          41,
          42,
          43,
          44,
          45,
          46,
          47,
          48,
          49,
          50,
          51,
          52,
          53,
          54,
          55,
          56,
          57,
          58,
          59,
          60,
          61,
          62,
          63,
          64,
          65,
          66,
          67,
          68,
          69,
          70,
          71,
          72,
          73,
          74,
          75,
          76,
          77,
          78,
          79,
          80,
          81,
          82,
          83,
          84,
          85,
          86,
          87,
          88,
          89,
          90,
          91,
          92,
          93,
          94,
          95,
          96,
          97,
          98,
          99,
          100,
          101,
          102,
          103,
          104,
          105,
          106,
          107,
          108,
          109,
          110,
          111,
          112,
          113,
          114,
          115,
          116,
          117,
          118,
          119
         ],
         "xaxis": "x3",
         "y": [
          0.5425231614729548,
          0.5351164994422822,
          0.5186695012576487,
          0.4934343417644347,
          0.4597979409569102,
          0.4182760314981165,
          0.36950525120974836,
          0.3142333817745328,
          0.2533078833169406,
          0.18766290065664068,
          0.11830494046229931,
          0.046297438911848975,
          -0.02725554352325683,
          -0.10122625016884305,
          -0.1744805195626396,
          -0.24589517507080244,
          -0.3143752460787235,
          -0.37887075671091436,
          -0.43839282466564145,
          -0.492028823327719,
          -0.5389563746852076,
          -0.5784559585025715,
          -0.6099219444191865,
          -0.6328718778227159,
          -0.6469538771209954,
          -0.6519520289931973,
          -0.6477896988971751,
          -0.6345307060743859,
          -0.6123783450365364,
          -0.5816722685370853,
          -0.5428832798196741,
          -0.4966061139917356,
          -0.44355031920341276,
          -0.38452937744680504,
          -0.3204482317817104,
          -0.25228941122761966,
          -0.1810979660631057,
          -0.10796544451327654,
          -0.034013156503937006,
          0.03962501890777705,
          0.1118200188199257,
          0.18146490792822226,
          0.24749185069542912,
          0.3088884840206107,
          0.36471343937305606,
          0.41411077639657773,
          0.45632310667985054,
          0.49070320647159515,
          0.5167239402877661,
          0.5339863432562862,
          0.5422257382761666,
          0.5413157941992034,
          0.5312704628118767,
          0.5122437649185282,
          0.4845274288057113,
          0.4485464172961434,
          0.40485241197403865,
          0.35411535448543285,
          0.29711317460715403,
          0.23471986257959643,
          0.16789206858516484,
          0.09765443483689346,
          0.025083885174108207,
          -0.04870688695390968,
          -0.12258647894450814,
          -0.1954221263577647,
          -0.26609707111306075,
          -0.3335276842669313,
          -0.39668008083592365,
          -0.45458597191640615,
          -0.5063575110475288,
          -0.5512009071843278,
          -0.5884285955590436,
          -0.6174697798200034,
          -0.6378791838099125,
          -0.649343878796264,
          -0.6516880814748303,
          -0.6448758491804896,
          -0.6290116309808613,
          -0.6043386662030653,
          -0.5712352549483167,
          -0.5302089577769687,
          -0.4818888134977817,
          -0.4270156943827395,
          -0.3664309466868263,
          -0.3010634906428506,
          -0.23191557772161167,
          -0.16004742353531964,
          -0.08656095200141227,
          -0.012582900010632739,
          0.0607524583516847,
          0.13232070314894673,
          0.20102450884713535,
          0.26581046914167816,
          0.3256852483893961,
          0.37973081200248654,
          0.42711850228337966,
          0.4671217438816435,
          0.49912718406558165,
          0.5226440969994447,
          0.5373119078344756,
          0.5429057212500894,
          0.5393397696784091,
          0.5266687283419972,
          0.505086876941863,
          0.4749251208492342,
          0.4366459174738872,
          0.39083618560088507,
          0.33819830641385423,
          0.2795393541822823,
          0.21575872173415883,
          0.1478343304473128,
          0.07680763619582112,
          0.0037676611489409553,
          -0.07016570374379094,
          -0.14385886956535582,
          -0.21618193026918964,
          -0.28602598704921933,
          -0.35232015061479316,
          -0.4140479606818462
         ],
         "yaxis": "y3"
        },
        {
         "alignmentgroup": "True",
         "hovertemplate": "x=%{x}<br>y=%{y}<extra></extra>",
         "legendgroup": "",
         "marker": {
          "color": "#636efa"
         },
         "name": "",
         "offsetgroup": "",
         "orientation": "v",
         "showlegend": false,
         "textposition": "auto",
         "type": "bar",
         "x": [
          0,
          1,
          2,
          3,
          4,
          5,
          6,
          7,
          8,
          9,
          10,
          11,
          12,
          13,
          14,
          15,
          16,
          17,
          18,
          19,
          20,
          21,
          22,
          23,
          24,
          25,
          26,
          27,
          28,
          29,
          30,
          31,
          32,
          33,
          34,
          35,
          36,
          37,
          38,
          39,
          40,
          41,
          42,
          43,
          44,
          45,
          46,
          47,
          48,
          49,
          50,
          51,
          52,
          53,
          54,
          55,
          56,
          57,
          58,
          59,
          60,
          61,
          62,
          63,
          64,
          65,
          66,
          67,
          68,
          69,
          70,
          71,
          72,
          73,
          74,
          75,
          76,
          77,
          78,
          79,
          80,
          81,
          82,
          83,
          84,
          85,
          86,
          87,
          88,
          89,
          90,
          91,
          92,
          93,
          94,
          95,
          96,
          97,
          98,
          99,
          100,
          101,
          102,
          103,
          104,
          105,
          106,
          107,
          108,
          109,
          110,
          111,
          112,
          113,
          114,
          115,
          116,
          117,
          118,
          119
         ],
         "xaxis": "x3",
         "y": [
          -0.5974618254628687,
          -0.5974618254628687,
          -0.5974618254628687,
          -0.5974618254628687,
          -0.5974618254628687,
          -0.5974618254628687,
          -0.5974618254628687,
          -0.5974618254628687,
          -0.5974618254628687,
          -0.5974618254628687,
          -0.5974618254628687,
          -0.5974618254628687,
          -0.5974618254628687,
          -0.5974618254628687,
          -0.5974618254628687,
          -0.5974618254628687,
          -0.5974618254628687,
          -0.5974618254628687,
          -0.5974618254628687,
          -0.5974618254628687,
          -0.5974618254628687,
          -0.5974618254628687,
          -0.5974618254628687,
          -0.5974618254628687,
          -0.5974618254628687,
          -0.5974618254628687,
          -0.5974618254628687,
          -0.5974618254628687,
          -0.5974618254628687,
          -0.5974618254628687,
          -0.5974618254628687,
          -0.5974618254628687,
          -0.5974618254628687,
          -0.5974618254628687,
          -0.5974618254628687,
          -0.5974618254628687,
          -0.5974618254628687,
          -0.5974618254628687,
          -0.5974618254628687,
          -0.5974618254628687,
          -0.5974618254628687,
          -0.5974618254628687,
          -0.5974618254628687,
          -0.5974618254628687,
          -0.5974618254628687,
          -0.5974618254628687,
          -0.5974618254628687,
          -0.5974618254628687,
          -0.5974618254628687,
          -0.5974618254628687,
          -0.5974618254628687,
          -0.5974618254628687,
          -0.5974618254628687,
          -0.5974618254628687,
          -0.5974618254628687,
          -0.5974618254628687,
          -0.5974618254628687,
          -0.5974618254628687,
          -0.5974618254628687,
          -0.5974618254628687,
          -0.5974618254628687,
          -0.5974618254628687,
          -0.5974618254628687,
          -0.5974618254628687,
          -0.5974618254628687,
          -0.5974618254628687,
          -0.5974618254628687,
          -0.5974618254628687,
          -0.5974618254628687,
          -0.5974618254628687,
          -0.5974618254628687,
          -0.5974618254628687,
          -0.5974618254628687,
          -0.5974618254628687,
          -0.5974618254628687,
          -0.5974618254628687,
          -0.5974618254628687,
          -0.5974618254628687,
          -0.5974618254628687,
          -0.5974618254628687,
          -0.5974618254628687,
          -0.5974618254628687,
          -0.5974618254628687,
          -0.5974618254628687,
          -0.5974618254628687,
          -0.5974618254628687,
          -0.5974618254628687,
          -0.5974618254628687,
          -0.5974618254628687,
          -0.5974618254628687,
          -0.5974618254628687,
          -0.5974618254628687,
          -0.5974618254628687,
          -0.5974618254628687,
          -0.5974618254628687,
          -0.5974618254628687,
          -0.5974618254628687,
          -0.5974618254628687,
          -0.5974618254628687,
          -0.5974618254628687,
          -0.5974618254628687,
          -0.5974618254628687,
          -0.5974618254628687,
          -0.5974618254628687,
          -0.5974618254628687,
          -0.5974618254628687,
          -0.5974618254628687,
          -0.5974618254628687,
          -0.5974618254628687,
          -0.5974618254628687,
          -0.5974618254628687,
          -0.5974618254628687,
          -0.5974618254628687,
          -0.5974618254628687,
          -0.5974618254628687,
          -0.5974618254628687,
          -0.5974618254628687,
          -0.5974618254628687,
          -0.5974618254628687,
          -0.5974618254628687
         ],
         "yaxis": "y3"
        },
        {
         "name": "J14",
         "type": "scatter",
         "x": [
          0,
          1,
          2,
          3,
          4,
          5,
          6,
          7,
          8,
          9,
          10,
          11,
          12,
          13,
          14,
          15,
          16,
          17,
          18,
          19,
          20,
          21,
          22,
          23,
          24,
          25,
          26,
          27,
          28,
          29,
          30,
          31,
          32,
          33,
          34,
          35,
          36,
          37,
          38,
          39,
          40,
          41,
          42,
          43,
          44,
          45,
          46,
          47,
          48,
          49,
          50,
          51,
          52,
          53,
          54,
          55,
          56,
          57,
          58,
          59,
          60,
          61,
          62,
          63,
          64,
          65,
          66,
          67,
          68,
          69,
          70,
          71,
          72,
          73,
          74,
          75,
          76,
          77,
          78,
          79,
          80,
          81,
          82,
          83,
          84,
          85,
          86,
          87,
          88,
          89,
          90,
          91,
          92,
          93,
          94,
          95,
          96,
          97,
          98,
          99,
          100,
          101,
          102,
          103,
          104,
          105,
          106,
          107,
          108,
          109,
          110,
          111,
          112,
          113,
          114,
          115,
          116,
          117,
          118,
          119
         ],
         "xaxis": "x4",
         "y": [
          0.0,
          -0.0,
          -0.0,
          -0.0,
          -0.0,
          -0.0,
          -0.0,
          -0.0,
          -0.0,
          -0.0,
          -0.0,
          -0.0,
          -0.0,
          0.0,
          0.0,
          0.0,
          0.0,
          0.0,
          0.0,
          0.0,
          0.0,
          0.0,
          0.0,
          0.0,
          0.0,
          0.0,
          0.0,
          0.0,
          0.0,
          0.0,
          0.0,
          0.0,
          0.0,
          0.0,
          0.0,
          0.0,
          0.0,
          0.0,
          0.0,
          -0.0,
          -0.0,
          -0.0,
          -0.0,
          -0.0,
          -0.0,
          -0.0,
          -0.0,
          -0.0,
          -0.0,
          -0.0,
          -0.0,
          -0.39146869185843153,
          -0.4399163948996249,
          -0.15441237215994022,
          -0.2987741742298378,
          -0.62156345978389,
          -0.5684278094916785,
          -0.8613494579523416,
          -0.9855503743538154,
          -0.6999232510473743,
          -0.038788449938026576,
          -0.4004931324344509,
          -0.04182797380519274,
          -0.05585024213524125,
          0.03257603282319766,
          0.7589172419725957,
          0.23893412603117836,
          0.6345157058372763,
          3.6152664282523133,
          3.6005539212690474,
          2.652275848714524,
          0.8592073282482935,
          1.585253065887335,
          1.4463014757273076,
          9.718256517557075,
          5.918569771559106,
          5.973085836343897,
          0.8680415914600442,
          3.1406228775955904,
          2.5855284666134692,
          8.561458714691861,
          2.4928419579876913,
          5.325702887008726,
          1.7983969900082526,
          4.124809153106662,
          1.6362283297150608,
          0.9336361339911212,
          0.4632470376269075,
          0.27771855447947597,
          0.0011078374112917068,
          -0.36176692024104246,
          -1.0501782500251147,
          -2.3358027016887952,
          -1.8854397638726774,
          -3.8231434755822122,
          -0.4827653115378133,
          -1.6011260113977464,
          -1.1704334657508972,
          -2.9023948987857757,
          -2.8562862144061376,
          -0.9192904931969709,
          -0.5579225025747607,
          -0.3469964447498864,
          -1.5928490626455414,
          -1.7077144774353463,
          -2.6860998875391027,
          -0.3393723886699821,
          -1.4281670636773645,
          -4.88064789214491,
          -2.078938454499195,
          -1.4203952623811502,
          -1.3294705500018895,
          -0.6751108004132272,
          -0.40840640691046404,
          0.3403329464219594,
          1.3320716314308658,
          0.7248745918052899,
          1.6960514541859213,
          3.077445311606105,
          3.5580266325833154
         ],
         "yaxis": "y4"
        },
        {
         "name": "J14",
         "type": "scatter",
         "x": [
          0,
          1,
          2,
          3,
          4,
          5,
          6,
          7,
          8,
          9,
          10,
          11,
          12,
          13,
          14,
          15,
          16,
          17,
          18,
          19,
          20,
          21,
          22,
          23,
          24,
          25,
          26,
          27,
          28,
          29,
          30,
          31,
          32,
          33,
          34,
          35,
          36,
          37,
          38,
          39,
          40,
          41,
          42,
          43,
          44,
          45,
          46,
          47,
          48,
          49,
          50,
          51,
          52,
          53,
          54,
          55,
          56,
          57,
          58,
          59,
          60,
          61,
          62,
          63,
          64,
          65,
          66,
          67,
          68,
          69,
          70,
          71,
          72,
          73,
          74,
          75,
          76,
          77,
          78,
          79,
          80,
          81,
          82,
          83,
          84,
          85,
          86,
          87,
          88,
          89,
          90,
          91,
          92,
          93,
          94,
          95,
          96,
          97,
          98,
          99,
          100,
          101,
          102,
          103,
          104,
          105,
          106,
          107,
          108,
          109,
          110,
          111,
          112,
          113,
          114,
          115,
          116,
          117,
          118,
          119
         ],
         "xaxis": "x4",
         "y": [
          0.0,
          0.0,
          0.0,
          0.0,
          0.0,
          0.0,
          0.0,
          0.0,
          0.0,
          0.0,
          0.0,
          0.0,
          0.0,
          0.0,
          0.0,
          0.0,
          0.0,
          0.0,
          0.0,
          0.0,
          0.0,
          0.0,
          0.0,
          0.0,
          0.0,
          0.0,
          -0.0,
          -0.0,
          -0.0,
          -0.0,
          -0.0,
          -0.0,
          -0.0,
          -0.0,
          -0.0,
          -0.0,
          -0.0,
          -0.0,
          -0.0,
          -0.0,
          -0.0,
          -0.0,
          -0.0,
          -0.0,
          -0.0,
          -0.0,
          -0.0,
          -0.0,
          -0.0,
          -0.0,
          -0.0,
          0.029120906617200487,
          0.08833129459396614,
          0.05152391050443643,
          0.14284009227820596,
          0.3982870409670327,
          0.4727600927626152,
          0.9188301598406206,
          1.35393650705323,
          1.26518053386149,
          0.09671813208311407,
          1.5207597235948704,
          0.3112186780059829,
          5.759964792609644,
          0.28399290977228786,
          3.126762464150091,
          0.6309219287269988,
          1.2013728230828056,
          5.174593314118647,
          3.9932768067497646,
          2.2943392501186,
          0.5743668866621913,
          0.796014941217524,
          0.5139743367007693,
          2.14818449938666,
          0.5558646052236552,
          -0.18080061489349963,
          -0.134891089157037,
          -0.8965339892518671,
          -1.0991591145731887,
          -4.968990608177818,
          -1.894204525488374,
          -5.202370764845182,
          -2.255073273290434,
          -6.738252040500028,
          -3.611461971628883,
          -3.0022741371140036,
          -2.5810079250073943,
          -5.167843566078857,
          -0.01575164211978991,
          -1.8401579251266131,
          -3.190113181441509,
          -4.93683205065641,
          -2.968711100865106,
          -4.634717616054433,
          -0.45623899903972986,
          -1.1753990255345539,
          -0.6536909837417552,
          -1.1776155682035834,
          -0.764546123800721,
          -0.12733268423937108,
          -0.0076619520600609775,
          0.0383846790867416,
          0.37980983978063443,
          0.6388531200318744,
          1.4048510834581829,
          0.23507228125831575,
          1.2772997659362242,
          5.596260230246003,
          3.082922030167314,
          2.8004550330878537,
          3.6937540741284596,
          2.9967170617027645,
          4.167749592387973,
          12.975036953520313,
          8.806155122803318,
          2.5786734017130035,
          4.034737857083859,
          5.352009220570283,
          4.721934951520753
         ],
         "yaxis": "y4"
        },
        {
         "name": "J14",
         "type": "scatter",
         "x": [
          0,
          1,
          2,
          3,
          4,
          5,
          6,
          7,
          8,
          9,
          10,
          11,
          12,
          13,
          14,
          15,
          16,
          17,
          18,
          19,
          20,
          21,
          22,
          23,
          24,
          25,
          26,
          27,
          28,
          29,
          30,
          31,
          32,
          33,
          34,
          35,
          36,
          37,
          38,
          39,
          40,
          41,
          42,
          43,
          44,
          45,
          46,
          47,
          48,
          49,
          50,
          51,
          52,
          53,
          54,
          55,
          56,
          57,
          58,
          59,
          60,
          61,
          62,
          63,
          64,
          65,
          66,
          67,
          68,
          69,
          70,
          71,
          72,
          73,
          74,
          75,
          76,
          77,
          78,
          79,
          80,
          81,
          82,
          83,
          84,
          85,
          86,
          87,
          88,
          89,
          90,
          91,
          92,
          93,
          94,
          95,
          96,
          97,
          98,
          99,
          100,
          101,
          102,
          103,
          104,
          105,
          106,
          107,
          108,
          109,
          110,
          111,
          112,
          113,
          114,
          115,
          116,
          117,
          118,
          119
         ],
         "xaxis": "x5",
         "y": [
          0.0,
          0.0,
          0.0,
          0.0,
          0.0,
          0.0,
          0.0,
          0.0,
          0.0,
          0.0,
          0.0,
          0.0,
          0.0,
          0.0,
          0.0,
          0.0,
          0.0,
          0.0,
          0.0,
          0.0,
          0.0,
          0.0,
          0.0,
          0.0,
          0.0,
          0.0,
          0.0,
          0.0,
          0.0,
          0.0,
          0.0,
          0.0,
          0.0,
          0.0,
          0.0,
          0.0,
          0.0,
          0.0,
          0.0,
          0.0,
          0.0,
          0.0,
          0.0,
          0.0,
          0.0,
          0.0,
          0.0,
          0.0,
          0.0,
          0.0,
          0.0,
          0.08140865713357925,
          0.09305254369974136,
          0.03375832736492157,
          0.06867802143096924,
          0.15309570729732513,
          0.15332569181919098,
          0.26118627190589905,
          0.3472956717014313,
          0.29985275864601135,
          0.02161070704460144,
          0.3261343240737915,
          0.065122090280056,
          1.1945806741714478,
          0.059281785041093826,
          0.6672674417495728,
          0.13991151750087738,
          0.2817605137825012,
          1.3090935945510864,
          1.115067481994629,
          0.7272812128067017,
          0.21433259546756744,
          0.3678753077983856,
          0.31831637024879456,
          2.0640616416931152,
          1.2328181266784668,
          1.2392897605895996,
          0.1821785271167755,
          0.6773329377174377,
          0.5826386213302612,
          2.0528862476348877,
          0.6492898464202881,
          1.5439703464508057,
          0.5981720685958862,
          1.6384397745132446,
          0.8222429156303406,
          0.6520347595214844,
          0.5438128709793091,
          1.0732744932174683,
          0.16278605163097382,
          0.38892415165901184,
          0.696504533290863,
          1.1326334476470947,
          0.7293353080749512,
          1.2459797859191895,
          0.13775299489498138,
          0.4119153320789337,
          0.27802038192749023,
          0.6495680809020996,
          0.6132012605667114,
          0.19246627390384674,
          0.11571510881185532,
          0.07240045815706253,
          0.3395923972129822,
          0.3781231939792633,
          0.6286417245864868,
          0.08561533689498901,
          0.3973531424999237,
          1.5399410724639893,
          0.7711337208747864,
          0.6512013077735901,
          0.8141323924064636,
          0.6370466351509094,
          0.868464469909668,
          2.6917405128479004,
          1.8470311164855957,
          0.555502712726593,
          0.9076622128486633,
          1.2803282737731934,
          1.2261327505111694
         ],
         "yaxis": "y5"
        }
       ],
       "layout": {
        "annotations": [
         {
          "font": {
           "size": 16
          },
          "showarrow": false,
          "text": "Original",
          "x": 0.5,
          "xanchor": "center",
          "xref": "paper",
          "y": 1.0,
          "yanchor": "bottom",
          "yref": "paper"
         },
         {
          "font": {
           "size": 16
          },
          "showarrow": false,
          "text": "Normalised",
          "x": 0.5,
          "xanchor": "center",
          "xref": "paper",
          "y": 0.78,
          "yanchor": "bottom",
          "yref": "paper"
         },
         {
          "font": {
           "size": 16
          },
          "showarrow": false,
          "text": "Optimised",
          "x": 0.5,
          "xanchor": "center",
          "xref": "paper",
          "y": 0.56,
          "yanchor": "bottom",
          "yref": "paper"
         },
         {
          "font": {
           "size": 16
          },
          "showarrow": false,
          "text": "Local phase vector",
          "x": 0.5,
          "xanchor": "center",
          "xref": "paper",
          "y": 0.33999999999999997,
          "yanchor": "bottom",
          "yref": "paper"
         },
         {
          "font": {
           "size": 16
          },
          "showarrow": false,
          "text": "Velocity Magnitude",
          "x": 0.5,
          "xanchor": "center",
          "xref": "paper",
          "y": 0.12,
          "yanchor": "bottom",
          "yref": "paper"
         }
        ],
        "height": 800,
        "template": {
         "data": {
          "bar": [
           {
            "error_x": {
             "color": "#2a3f5f"
            },
            "error_y": {
             "color": "#2a3f5f"
            },
            "marker": {
             "line": {
              "color": "#E5ECF6",
              "width": 0.5
             }
            },
            "type": "bar"
           }
          ],
          "barpolar": [
           {
            "marker": {
             "line": {
              "color": "#E5ECF6",
              "width": 0.5
             }
            },
            "type": "barpolar"
           }
          ],
          "carpet": [
           {
            "aaxis": {
             "endlinecolor": "#2a3f5f",
             "gridcolor": "white",
             "linecolor": "white",
             "minorgridcolor": "white",
             "startlinecolor": "#2a3f5f"
            },
            "baxis": {
             "endlinecolor": "#2a3f5f",
             "gridcolor": "white",
             "linecolor": "white",
             "minorgridcolor": "white",
             "startlinecolor": "#2a3f5f"
            },
            "type": "carpet"
           }
          ],
          "choropleth": [
           {
            "colorbar": {
             "outlinewidth": 0,
             "ticks": ""
            },
            "type": "choropleth"
           }
          ],
          "contour": [
           {
            "colorbar": {
             "outlinewidth": 0,
             "ticks": ""
            },
            "colorscale": [
             [
              0.0,
              "#0d0887"
             ],
             [
              0.1111111111111111,
              "#46039f"
             ],
             [
              0.2222222222222222,
              "#7201a8"
             ],
             [
              0.3333333333333333,
              "#9c179e"
             ],
             [
              0.4444444444444444,
              "#bd3786"
             ],
             [
              0.5555555555555556,
              "#d8576b"
             ],
             [
              0.6666666666666666,
              "#ed7953"
             ],
             [
              0.7777777777777778,
              "#fb9f3a"
             ],
             [
              0.8888888888888888,
              "#fdca26"
             ],
             [
              1.0,
              "#f0f921"
             ]
            ],
            "type": "contour"
           }
          ],
          "contourcarpet": [
           {
            "colorbar": {
             "outlinewidth": 0,
             "ticks": ""
            },
            "type": "contourcarpet"
           }
          ],
          "heatmap": [
           {
            "colorbar": {
             "outlinewidth": 0,
             "ticks": ""
            },
            "colorscale": [
             [
              0.0,
              "#0d0887"
             ],
             [
              0.1111111111111111,
              "#46039f"
             ],
             [
              0.2222222222222222,
              "#7201a8"
             ],
             [
              0.3333333333333333,
              "#9c179e"
             ],
             [
              0.4444444444444444,
              "#bd3786"
             ],
             [
              0.5555555555555556,
              "#d8576b"
             ],
             [
              0.6666666666666666,
              "#ed7953"
             ],
             [
              0.7777777777777778,
              "#fb9f3a"
             ],
             [
              0.8888888888888888,
              "#fdca26"
             ],
             [
              1.0,
              "#f0f921"
             ]
            ],
            "type": "heatmap"
           }
          ],
          "heatmapgl": [
           {
            "colorbar": {
             "outlinewidth": 0,
             "ticks": ""
            },
            "colorscale": [
             [
              0.0,
              "#0d0887"
             ],
             [
              0.1111111111111111,
              "#46039f"
             ],
             [
              0.2222222222222222,
              "#7201a8"
             ],
             [
              0.3333333333333333,
              "#9c179e"
             ],
             [
              0.4444444444444444,
              "#bd3786"
             ],
             [
              0.5555555555555556,
              "#d8576b"
             ],
             [
              0.6666666666666666,
              "#ed7953"
             ],
             [
              0.7777777777777778,
              "#fb9f3a"
             ],
             [
              0.8888888888888888,
              "#fdca26"
             ],
             [
              1.0,
              "#f0f921"
             ]
            ],
            "type": "heatmapgl"
           }
          ],
          "histogram": [
           {
            "marker": {
             "colorbar": {
              "outlinewidth": 0,
              "ticks": ""
             }
            },
            "type": "histogram"
           }
          ],
          "histogram2d": [
           {
            "colorbar": {
             "outlinewidth": 0,
             "ticks": ""
            },
            "colorscale": [
             [
              0.0,
              "#0d0887"
             ],
             [
              0.1111111111111111,
              "#46039f"
             ],
             [
              0.2222222222222222,
              "#7201a8"
             ],
             [
              0.3333333333333333,
              "#9c179e"
             ],
             [
              0.4444444444444444,
              "#bd3786"
             ],
             [
              0.5555555555555556,
              "#d8576b"
             ],
             [
              0.6666666666666666,
              "#ed7953"
             ],
             [
              0.7777777777777778,
              "#fb9f3a"
             ],
             [
              0.8888888888888888,
              "#fdca26"
             ],
             [
              1.0,
              "#f0f921"
             ]
            ],
            "type": "histogram2d"
           }
          ],
          "histogram2dcontour": [
           {
            "colorbar": {
             "outlinewidth": 0,
             "ticks": ""
            },
            "colorscale": [
             [
              0.0,
              "#0d0887"
             ],
             [
              0.1111111111111111,
              "#46039f"
             ],
             [
              0.2222222222222222,
              "#7201a8"
             ],
             [
              0.3333333333333333,
              "#9c179e"
             ],
             [
              0.4444444444444444,
              "#bd3786"
             ],
             [
              0.5555555555555556,
              "#d8576b"
             ],
             [
              0.6666666666666666,
              "#ed7953"
             ],
             [
              0.7777777777777778,
              "#fb9f3a"
             ],
             [
              0.8888888888888888,
              "#fdca26"
             ],
             [
              1.0,
              "#f0f921"
             ]
            ],
            "type": "histogram2dcontour"
           }
          ],
          "mesh3d": [
           {
            "colorbar": {
             "outlinewidth": 0,
             "ticks": ""
            },
            "type": "mesh3d"
           }
          ],
          "parcoords": [
           {
            "line": {
             "colorbar": {
              "outlinewidth": 0,
              "ticks": ""
             }
            },
            "type": "parcoords"
           }
          ],
          "pie": [
           {
            "automargin": true,
            "type": "pie"
           }
          ],
          "scatter": [
           {
            "marker": {
             "colorbar": {
              "outlinewidth": 0,
              "ticks": ""
             }
            },
            "type": "scatter"
           }
          ],
          "scatter3d": [
           {
            "line": {
             "colorbar": {
              "outlinewidth": 0,
              "ticks": ""
             }
            },
            "marker": {
             "colorbar": {
              "outlinewidth": 0,
              "ticks": ""
             }
            },
            "type": "scatter3d"
           }
          ],
          "scattercarpet": [
           {
            "marker": {
             "colorbar": {
              "outlinewidth": 0,
              "ticks": ""
             }
            },
            "type": "scattercarpet"
           }
          ],
          "scattergeo": [
           {
            "marker": {
             "colorbar": {
              "outlinewidth": 0,
              "ticks": ""
             }
            },
            "type": "scattergeo"
           }
          ],
          "scattergl": [
           {
            "marker": {
             "colorbar": {
              "outlinewidth": 0,
              "ticks": ""
             }
            },
            "type": "scattergl"
           }
          ],
          "scattermapbox": [
           {
            "marker": {
             "colorbar": {
              "outlinewidth": 0,
              "ticks": ""
             }
            },
            "type": "scattermapbox"
           }
          ],
          "scatterpolar": [
           {
            "marker": {
             "colorbar": {
              "outlinewidth": 0,
              "ticks": ""
             }
            },
            "type": "scatterpolar"
           }
          ],
          "scatterpolargl": [
           {
            "marker": {
             "colorbar": {
              "outlinewidth": 0,
              "ticks": ""
             }
            },
            "type": "scatterpolargl"
           }
          ],
          "scatterternary": [
           {
            "marker": {
             "colorbar": {
              "outlinewidth": 0,
              "ticks": ""
             }
            },
            "type": "scatterternary"
           }
          ],
          "surface": [
           {
            "colorbar": {
             "outlinewidth": 0,
             "ticks": ""
            },
            "colorscale": [
             [
              0.0,
              "#0d0887"
             ],
             [
              0.1111111111111111,
              "#46039f"
             ],
             [
              0.2222222222222222,
              "#7201a8"
             ],
             [
              0.3333333333333333,
              "#9c179e"
             ],
             [
              0.4444444444444444,
              "#bd3786"
             ],
             [
              0.5555555555555556,
              "#d8576b"
             ],
             [
              0.6666666666666666,
              "#ed7953"
             ],
             [
              0.7777777777777778,
              "#fb9f3a"
             ],
             [
              0.8888888888888888,
              "#fdca26"
             ],
             [
              1.0,
              "#f0f921"
             ]
            ],
            "type": "surface"
           }
          ],
          "table": [
           {
            "cells": {
             "fill": {
              "color": "#EBF0F8"
             },
             "line": {
              "color": "white"
             }
            },
            "header": {
             "fill": {
              "color": "#C8D4E3"
             },
             "line": {
              "color": "white"
             }
            },
            "type": "table"
           }
          ]
         },
         "layout": {
          "annotationdefaults": {
           "arrowcolor": "#2a3f5f",
           "arrowhead": 0,
           "arrowwidth": 1
          },
          "autotypenumbers": "strict",
          "coloraxis": {
           "colorbar": {
            "outlinewidth": 0,
            "ticks": ""
           }
          },
          "colorscale": {
           "diverging": [
            [
             0,
             "#8e0152"
            ],
            [
             0.1,
             "#c51b7d"
            ],
            [
             0.2,
             "#de77ae"
            ],
            [
             0.3,
             "#f1b6da"
            ],
            [
             0.4,
             "#fde0ef"
            ],
            [
             0.5,
             "#f7f7f7"
            ],
            [
             0.6,
             "#e6f5d0"
            ],
            [
             0.7,
             "#b8e186"
            ],
            [
             0.8,
             "#7fbc41"
            ],
            [
             0.9,
             "#4d9221"
            ],
            [
             1,
             "#276419"
            ]
           ],
           "sequential": [
            [
             0.0,
             "#0d0887"
            ],
            [
             0.1111111111111111,
             "#46039f"
            ],
            [
             0.2222222222222222,
             "#7201a8"
            ],
            [
             0.3333333333333333,
             "#9c179e"
            ],
            [
             0.4444444444444444,
             "#bd3786"
            ],
            [
             0.5555555555555556,
             "#d8576b"
            ],
            [
             0.6666666666666666,
             "#ed7953"
            ],
            [
             0.7777777777777778,
             "#fb9f3a"
            ],
            [
             0.8888888888888888,
             "#fdca26"
            ],
            [
             1.0,
             "#f0f921"
            ]
           ],
           "sequentialminus": [
            [
             0.0,
             "#0d0887"
            ],
            [
             0.1111111111111111,
             "#46039f"
            ],
            [
             0.2222222222222222,
             "#7201a8"
            ],
            [
             0.3333333333333333,
             "#9c179e"
            ],
            [
             0.4444444444444444,
             "#bd3786"
            ],
            [
             0.5555555555555556,
             "#d8576b"
            ],
            [
             0.6666666666666666,
             "#ed7953"
            ],
            [
             0.7777777777777778,
             "#fb9f3a"
            ],
            [
             0.8888888888888888,
             "#fdca26"
            ],
            [
             1.0,
             "#f0f921"
            ]
           ]
          },
          "colorway": [
           "#636efa",
           "#EF553B",
           "#00cc96",
           "#ab63fa",
           "#FFA15A",
           "#19d3f3",
           "#FF6692",
           "#B6E880",
           "#FF97FF",
           "#FECB52"
          ],
          "font": {
           "color": "#2a3f5f"
          },
          "geo": {
           "bgcolor": "white",
           "lakecolor": "white",
           "landcolor": "#E5ECF6",
           "showlakes": true,
           "showland": true,
           "subunitcolor": "white"
          },
          "hoverlabel": {
           "align": "left"
          },
          "hovermode": "closest",
          "mapbox": {
           "style": "light"
          },
          "paper_bgcolor": "white",
          "plot_bgcolor": "#E5ECF6",
          "polar": {
           "angularaxis": {
            "gridcolor": "white",
            "linecolor": "white",
            "ticks": ""
           },
           "bgcolor": "#E5ECF6",
           "radialaxis": {
            "gridcolor": "white",
            "linecolor": "white",
            "ticks": ""
           }
          },
          "scene": {
           "xaxis": {
            "backgroundcolor": "#E5ECF6",
            "gridcolor": "white",
            "gridwidth": 2,
            "linecolor": "white",
            "showbackground": true,
            "ticks": "",
            "zerolinecolor": "white"
           },
           "yaxis": {
            "backgroundcolor": "#E5ECF6",
            "gridcolor": "white",
            "gridwidth": 2,
            "linecolor": "white",
            "showbackground": true,
            "ticks": "",
            "zerolinecolor": "white"
           },
           "zaxis": {
            "backgroundcolor": "#E5ECF6",
            "gridcolor": "white",
            "gridwidth": 2,
            "linecolor": "white",
            "showbackground": true,
            "ticks": "",
            "zerolinecolor": "white"
           }
          },
          "shapedefaults": {
           "line": {
            "color": "#2a3f5f"
           }
          },
          "ternary": {
           "aaxis": {
            "gridcolor": "white",
            "linecolor": "white",
            "ticks": ""
           },
           "baxis": {
            "gridcolor": "white",
            "linecolor": "white",
            "ticks": ""
           },
           "bgcolor": "#E5ECF6",
           "caxis": {
            "gridcolor": "white",
            "linecolor": "white",
            "ticks": ""
           }
          },
          "title": {
           "x": 0.05
          },
          "xaxis": {
           "automargin": true,
           "gridcolor": "white",
           "linecolor": "white",
           "ticks": "",
           "title": {
            "standoff": 15
           },
           "zerolinecolor": "white",
           "zerolinewidth": 2
          },
          "yaxis": {
           "automargin": true,
           "gridcolor": "white",
           "linecolor": "white",
           "ticks": "",
           "title": {
            "standoff": 15
           },
           "zerolinecolor": "white",
           "zerolinewidth": 2
          }
         }
        },
        "title": {
         "text": "Contact info"
        },
        "width": 800,
        "xaxis": {
         "anchor": "y",
         "domain": [
          0.0,
          1.0
         ],
         "title": {
          "text": "frames"
         }
        },
        "xaxis2": {
         "anchor": "y2",
         "domain": [
          0.0,
          1.0
         ],
         "title": {
          "text": "frames"
         }
        },
        "xaxis3": {
         "anchor": "y3",
         "domain": [
          0.0,
          1.0
         ],
         "title": {
          "text": "frames"
         }
        },
        "xaxis4": {
         "anchor": "y4",
         "domain": [
          0.0,
          1.0
         ],
         "title": {
          "text": "frames"
         }
        },
        "xaxis5": {
         "anchor": "y5",
         "domain": [
          0.0,
          1.0
         ],
         "title": {
          "text": "frames"
         }
        },
        "yaxis": {
         "anchor": "x",
         "domain": [
          0.88,
          1.0
         ]
        },
        "yaxis2": {
         "anchor": "x2",
         "domain": [
          0.66,
          0.78
         ]
        },
        "yaxis3": {
         "anchor": "x3",
         "domain": [
          0.44,
          0.56
         ]
        },
        "yaxis4": {
         "anchor": "x4",
         "domain": [
          0.22,
          0.33999999999999997
         ]
        },
        "yaxis5": {
         "anchor": "x5",
         "domain": [
          0.0,
          0.12
         ]
        }
       }
      },
      "text/html": "<div>                            <div id=\"b80fe2b7-83ad-46db-b956-622de8c1c40b\" class=\"plotly-graph-div\" style=\"height:800px; width:800px;\"></div>            <script type=\"text/javascript\">                require([\"plotly\"], function(Plotly) {                    window.PLOTLYENV=window.PLOTLYENV || {};                                    if (document.getElementById(\"b80fe2b7-83ad-46db-b956-622de8c1c40b\")) {                    Plotly.newPlot(                        \"b80fe2b7-83ad-46db-b956-622de8c1c40b\",                        [{\"name\": \"J14\", \"type\": \"scatter\", \"x\": [0, 1, 2, 3, 4, 5, 6, 7, 8, 9, 10, 11, 12, 13, 14, 15, 16, 17, 18, 19, 20, 21, 22, 23, 24, 25, 26, 27, 28, 29, 30, 31, 32, 33, 34, 35, 36, 37, 38, 39, 40, 41, 42, 43, 44, 45, 46, 47, 48, 49, 50, 51, 52, 53, 54, 55, 56, 57, 58, 59, 60, 61, 62, 63, 64, 65, 66, 67, 68, 69, 70, 71, 72, 73, 74, 75, 76, 77, 78, 79, 80, 81, 82, 83, 84, 85, 86, 87, 88, 89, 90, 91, 92, 93, 94, 95, 96, 97, 98, 99, 100, 101, 102, 103, 104, 105, 106, 107, 108, 109, 110, 111, 112, 113, 114, 115, 116, 117, 118, 119], \"xaxis\": \"x\", \"y\": [0.0, 0.0, 0.0, 0.0, 0.0, 0.0, 0.0, 0.0, 0.0, 0.0, 0.0, 0.0, 0.0, 0.0, 0.0, 0.0, 0.0, 0.0, 0.0, 0.0, 0.0, 0.0, 0.0, 0.0, 0.0, 0.0, 0.0, 0.0, 0.0, 0.0, 0.0, 0.0, 0.0, 0.0, 0.0, 0.0, 0.0, 0.0, 1.0, 1.0, 1.0, 1.0, 1.0, 1.0, 1.0, 1.0, 1.0, 1.0, 1.0, 1.0, 1.0, 0.0, 0.0, 0.0, 0.0, 0.0, 0.0, 0.0, 0.0, 0.0, 0.0, 0.0, 0.0, 0.0, 0.0, 0.0, 0.0, 0.0, 0.0, 0.0, 0.0, 0.0, 0.0, 0.0, 0.0, 0.0, 0.0, 0.0, 0.0, 0.0, 0.0, 0.0, 0.0, 0.0, 0.0, 0.0, 0.0, 0.0, 0.0, 0.0, 0.0, 0.0, 0.0, 0.0, 0.0, 0.0, 0.0, 0.0, 0.0, 0.0, 0.0, 0.0, 0.0, 0.0, 0.0, 0.0, 0.0, 0.0, 0.0, 0.0, 0.0, 0.0, 0.0, 0.0, 0.0, 0.0, 0.0, 0.0, 0.0, 0.0], \"yaxis\": \"y\"}, {\"name\": \"J14\", \"type\": \"scatter\", \"x\": [0, 1, 2, 3, 4, 5, 6, 7, 8, 9, 10, 11, 12, 13, 14, 15, 16, 17, 18, 19, 20, 21, 22, 23, 24, 25, 26, 27, 28, 29, 30, 31, 32, 33, 34, 35, 36, 37, 38, 39, 40, 41, 42, 43, 44, 45, 46, 47, 48, 49, 50, 51, 52, 53, 54, 55, 56, 57, 58, 59, 60, 61, 62, 63, 64, 65, 66, 67, 68, 69, 70, 71, 72, 73, 74, 75, 76, 77, 78, 79, 80, 81, 82, 83, 84, 85, 86, 87, 88, 89, 90, 91, 92, 93, 94, 95, 96, 97, 98, 99, 100, 101, 102, 103, 104, 105, 106, 107, 108, 109, 110, 111, 112, 113, 114, 115, 116, 117, 118, 119], \"xaxis\": \"x2\", \"y\": [0.0, 0.0, 0.0, 0.0, 0.0, 0.0, 0.0, 0.0, 0.0, -0.0004701492397343394, -0.0031915180377412094, -0.010889325605887328, -0.025792961390956524, -0.04890371995989893, -0.08007291090449262, -0.1182647378636614, -0.16187067258833024, -0.20900951012643454, -0.2577793656391731, -0.30644701310255273, -0.35357221988482695, -0.39807246737381463, -0.4391520511883972, -0.4760784063410017, -0.5080828927330416, -0.5345125535632059, -0.5549992755943063, -0.5695195781928577, -0.5783801877146585, -0.5821584383088165, -0.5816204192593976, -0.577649921023911, -0.5712054653518349, -0.5632634750373325, -0.55472948035118, -0.5463629561630573, -0.5387394083254294, -0.5322416558100895, -0.5200373865303487, -0.47843875982139195, -0.37866405224867683, -0.20851949582586285, 0.025052508188408547, 0.3043928749769672, 0.6074596289145624, 0.9122998062246244, 1.199925837568755, 1.4558865172013937, 1.6708264567800832, 1.8403137757969568, 1.964187510948989, 2.038603519374476, 2.0453530000771654, 1.9626074143388934, 1.7856994281102694, 1.5289400054246394, 1.2166603477586528, 0.876530719747641, 0.5349139211735584, 0.21395798747594102, -0.06989609779001571, -0.30632032331529013, -0.49073109245193486, -0.6234250772797295, -0.70845471318025, -0.7524296608584827, -0.7633811437808854, -0.7497798620610093, -0.7197578114432487, -0.6804762118577729, -0.6376029621823702, -0.5951017633231986, -0.5554041525779716, -0.5197226816537307, -0.48834985546052345, -0.46092943481482157, -0.4366898165188571, -0.41463265483023465, -0.3936726260777094, -0.3727245625753181, -0.3507258393402625, -0.3264130045445366, -0.29824819101301536, -0.2652925750309534, -0.22807918941383531, -0.18832838721476483, -0.14821920165057825, -0.10988930474351205, -0.07512495979964823, -0.0452020054114897, -0.020840468667802307, -0.0022386423805483722, 0.010843053584273798, 0.018972873845944607, 0.022932166698489926, 0.023607036436606128, 0.02189603413394527, 0.018638531008364424, 0.014565123517243858, 0.01026896814563887, 0.006195302919943644, 0.0026454876503685812, -0.00020843947676663644, -0.0023025735789886275, -0.0036567751287838613, -0.004349952735422884, -0.00449712278434675, -0.004229669567248374, -0.0036795896524934243, -0.0029679657568647197, -0.0021974977397464413, -0.0014486252941574619, -0.0007786004476901879, -0.00022279222587997198, 0.0002024894983720302, 0.0004963005777996386, 0.0006690480757963666, 0.0007385828611116601, 0.0007267033031529644, 0.0006562574634201335], \"yaxis\": \"y2\"}, {\"name\": \"J14\", \"type\": \"scatter\", \"x\": [0, 1, 2, 3, 4, 5, 6, 7, 8, 9, 10, 11, 12, 13, 14, 15, 16, 17, 18, 19, 20, 21, 22, 23, 24, 25, 26, 27, 28, 29, 30, 31, 32, 33, 34, 35, 36, 37, 38, 39, 40, 41, 42, 43, 44, 45, 46, 47, 48, 49, 50, 51, 52, 53, 54, 55, 56, 57, 58, 59, 60, 61, 62, 63, 64, 65, 66, 67, 68, 69, 70, 71, 72, 73, 74, 75, 76, 77, 78, 79, 80, 81, 82, 83, 84, 85, 86, 87, 88, 89, 90, 91, 92, 93, 94, 95, 96, 97, 98, 99, 100, 101, 102, 103, 104, 105, 106, 107, 108, 109, 110, 111, 112, 113, 114, 115, 116, 117, 118, 119], \"xaxis\": \"x3\", \"y\": [0.5425231614729548, 0.5351164994422822, 0.5186695012576487, 0.4934343417644347, 0.4597979409569102, 0.4182760314981165, 0.36950525120974836, 0.3142333817745328, 0.2533078833169406, 0.18766290065664068, 0.11830494046229931, 0.046297438911848975, -0.02725554352325683, -0.10122625016884305, -0.1744805195626396, -0.24589517507080244, -0.3143752460787235, -0.37887075671091436, -0.43839282466564145, -0.492028823327719, -0.5389563746852076, -0.5784559585025715, -0.6099219444191865, -0.6328718778227159, -0.6469538771209954, -0.6519520289931973, -0.6477896988971751, -0.6345307060743859, -0.6123783450365364, -0.5816722685370853, -0.5428832798196741, -0.4966061139917356, -0.44355031920341276, -0.38452937744680504, -0.3204482317817104, -0.25228941122761966, -0.1810979660631057, -0.10796544451327654, -0.034013156503937006, 0.03962501890777705, 0.1118200188199257, 0.18146490792822226, 0.24749185069542912, 0.3088884840206107, 0.36471343937305606, 0.41411077639657773, 0.45632310667985054, 0.49070320647159515, 0.5167239402877661, 0.5339863432562862, 0.5422257382761666, 0.5413157941992034, 0.5312704628118767, 0.5122437649185282, 0.4845274288057113, 0.4485464172961434, 0.40485241197403865, 0.35411535448543285, 0.29711317460715403, 0.23471986257959643, 0.16789206858516484, 0.09765443483689346, 0.025083885174108207, -0.04870688695390968, -0.12258647894450814, -0.1954221263577647, -0.26609707111306075, -0.3335276842669313, -0.39668008083592365, -0.45458597191640615, -0.5063575110475288, -0.5512009071843278, -0.5884285955590436, -0.6174697798200034, -0.6378791838099125, -0.649343878796264, -0.6516880814748303, -0.6448758491804896, -0.6290116309808613, -0.6043386662030653, -0.5712352549483167, -0.5302089577769687, -0.4818888134977817, -0.4270156943827395, -0.3664309466868263, -0.3010634906428506, -0.23191557772161167, -0.16004742353531964, -0.08656095200141227, -0.012582900010632739, 0.0607524583516847, 0.13232070314894673, 0.20102450884713535, 0.26581046914167816, 0.3256852483893961, 0.37973081200248654, 0.42711850228337966, 0.4671217438816435, 0.49912718406558165, 0.5226440969994447, 0.5373119078344756, 0.5429057212500894, 0.5393397696784091, 0.5266687283419972, 0.505086876941863, 0.4749251208492342, 0.4366459174738872, 0.39083618560088507, 0.33819830641385423, 0.2795393541822823, 0.21575872173415883, 0.1478343304473128, 0.07680763619582112, 0.0037676611489409553, -0.07016570374379094, -0.14385886956535582, -0.21618193026918964, -0.28602598704921933, -0.35232015061479316, -0.4140479606818462], \"yaxis\": \"y3\"}, {\"alignmentgroup\": \"True\", \"hovertemplate\": \"x=%{x}<br>y=%{y}<extra></extra>\", \"legendgroup\": \"\", \"marker\": {\"color\": \"#636efa\"}, \"name\": \"\", \"offsetgroup\": \"\", \"orientation\": \"v\", \"showlegend\": false, \"textposition\": \"auto\", \"type\": \"bar\", \"x\": [0, 1, 2, 3, 4, 5, 6, 7, 8, 9, 10, 11, 12, 13, 14, 15, 16, 17, 18, 19, 20, 21, 22, 23, 24, 25, 26, 27, 28, 29, 30, 31, 32, 33, 34, 35, 36, 37, 38, 39, 40, 41, 42, 43, 44, 45, 46, 47, 48, 49, 50, 51, 52, 53, 54, 55, 56, 57, 58, 59, 60, 61, 62, 63, 64, 65, 66, 67, 68, 69, 70, 71, 72, 73, 74, 75, 76, 77, 78, 79, 80, 81, 82, 83, 84, 85, 86, 87, 88, 89, 90, 91, 92, 93, 94, 95, 96, 97, 98, 99, 100, 101, 102, 103, 104, 105, 106, 107, 108, 109, 110, 111, 112, 113, 114, 115, 116, 117, 118, 119], \"xaxis\": \"x3\", \"y\": [-0.5974618254628687, -0.5974618254628687, -0.5974618254628687, -0.5974618254628687, -0.5974618254628687, -0.5974618254628687, -0.5974618254628687, -0.5974618254628687, -0.5974618254628687, -0.5974618254628687, -0.5974618254628687, -0.5974618254628687, -0.5974618254628687, -0.5974618254628687, -0.5974618254628687, -0.5974618254628687, -0.5974618254628687, -0.5974618254628687, -0.5974618254628687, -0.5974618254628687, -0.5974618254628687, -0.5974618254628687, -0.5974618254628687, -0.5974618254628687, -0.5974618254628687, -0.5974618254628687, -0.5974618254628687, -0.5974618254628687, -0.5974618254628687, -0.5974618254628687, -0.5974618254628687, -0.5974618254628687, -0.5974618254628687, -0.5974618254628687, -0.5974618254628687, -0.5974618254628687, -0.5974618254628687, -0.5974618254628687, -0.5974618254628687, -0.5974618254628687, -0.5974618254628687, -0.5974618254628687, -0.5974618254628687, -0.5974618254628687, -0.5974618254628687, -0.5974618254628687, -0.5974618254628687, -0.5974618254628687, -0.5974618254628687, -0.5974618254628687, -0.5974618254628687, -0.5974618254628687, -0.5974618254628687, -0.5974618254628687, -0.5974618254628687, -0.5974618254628687, -0.5974618254628687, -0.5974618254628687, -0.5974618254628687, -0.5974618254628687, -0.5974618254628687, -0.5974618254628687, -0.5974618254628687, -0.5974618254628687, -0.5974618254628687, -0.5974618254628687, -0.5974618254628687, -0.5974618254628687, -0.5974618254628687, -0.5974618254628687, -0.5974618254628687, -0.5974618254628687, -0.5974618254628687, -0.5974618254628687, -0.5974618254628687, -0.5974618254628687, -0.5974618254628687, -0.5974618254628687, -0.5974618254628687, -0.5974618254628687, -0.5974618254628687, -0.5974618254628687, -0.5974618254628687, -0.5974618254628687, -0.5974618254628687, -0.5974618254628687, -0.5974618254628687, -0.5974618254628687, -0.5974618254628687, -0.5974618254628687, -0.5974618254628687, -0.5974618254628687, -0.5974618254628687, -0.5974618254628687, -0.5974618254628687, -0.5974618254628687, -0.5974618254628687, -0.5974618254628687, -0.5974618254628687, -0.5974618254628687, -0.5974618254628687, -0.5974618254628687, -0.5974618254628687, -0.5974618254628687, -0.5974618254628687, -0.5974618254628687, -0.5974618254628687, -0.5974618254628687, -0.5974618254628687, -0.5974618254628687, -0.5974618254628687, -0.5974618254628687, -0.5974618254628687, -0.5974618254628687, -0.5974618254628687, -0.5974618254628687, -0.5974618254628687, -0.5974618254628687, -0.5974618254628687, -0.5974618254628687], \"yaxis\": \"y3\"}, {\"name\": \"J14\", \"type\": \"scatter\", \"x\": [0, 1, 2, 3, 4, 5, 6, 7, 8, 9, 10, 11, 12, 13, 14, 15, 16, 17, 18, 19, 20, 21, 22, 23, 24, 25, 26, 27, 28, 29, 30, 31, 32, 33, 34, 35, 36, 37, 38, 39, 40, 41, 42, 43, 44, 45, 46, 47, 48, 49, 50, 51, 52, 53, 54, 55, 56, 57, 58, 59, 60, 61, 62, 63, 64, 65, 66, 67, 68, 69, 70, 71, 72, 73, 74, 75, 76, 77, 78, 79, 80, 81, 82, 83, 84, 85, 86, 87, 88, 89, 90, 91, 92, 93, 94, 95, 96, 97, 98, 99, 100, 101, 102, 103, 104, 105, 106, 107, 108, 109, 110, 111, 112, 113, 114, 115, 116, 117, 118, 119], \"xaxis\": \"x4\", \"y\": [0.0, -0.0, -0.0, -0.0, -0.0, -0.0, -0.0, -0.0, -0.0, -0.0, -0.0, -0.0, -0.0, 0.0, 0.0, 0.0, 0.0, 0.0, 0.0, 0.0, 0.0, 0.0, 0.0, 0.0, 0.0, 0.0, 0.0, 0.0, 0.0, 0.0, 0.0, 0.0, 0.0, 0.0, 0.0, 0.0, 0.0, 0.0, 0.0, -0.0, -0.0, -0.0, -0.0, -0.0, -0.0, -0.0, -0.0, -0.0, -0.0, -0.0, -0.0, -0.39146869185843153, -0.4399163948996249, -0.15441237215994022, -0.2987741742298378, -0.62156345978389, -0.5684278094916785, -0.8613494579523416, -0.9855503743538154, -0.6999232510473743, -0.038788449938026576, -0.4004931324344509, -0.04182797380519274, -0.05585024213524125, 0.03257603282319766, 0.7589172419725957, 0.23893412603117836, 0.6345157058372763, 3.6152664282523133, 3.6005539212690474, 2.652275848714524, 0.8592073282482935, 1.585253065887335, 1.4463014757273076, 9.718256517557075, 5.918569771559106, 5.973085836343897, 0.8680415914600442, 3.1406228775955904, 2.5855284666134692, 8.561458714691861, 2.4928419579876913, 5.325702887008726, 1.7983969900082526, 4.124809153106662, 1.6362283297150608, 0.9336361339911212, 0.4632470376269075, 0.27771855447947597, 0.0011078374112917068, -0.36176692024104246, -1.0501782500251147, -2.3358027016887952, -1.8854397638726774, -3.8231434755822122, -0.4827653115378133, -1.6011260113977464, -1.1704334657508972, -2.9023948987857757, -2.8562862144061376, -0.9192904931969709, -0.5579225025747607, -0.3469964447498864, -1.5928490626455414, -1.7077144774353463, -2.6860998875391027, -0.3393723886699821, -1.4281670636773645, -4.88064789214491, -2.078938454499195, -1.4203952623811502, -1.3294705500018895, -0.6751108004132272, -0.40840640691046404, 0.3403329464219594, 1.3320716314308658, 0.7248745918052899, 1.6960514541859213, 3.077445311606105, 3.5580266325833154], \"yaxis\": \"y4\"}, {\"name\": \"J14\", \"type\": \"scatter\", \"x\": [0, 1, 2, 3, 4, 5, 6, 7, 8, 9, 10, 11, 12, 13, 14, 15, 16, 17, 18, 19, 20, 21, 22, 23, 24, 25, 26, 27, 28, 29, 30, 31, 32, 33, 34, 35, 36, 37, 38, 39, 40, 41, 42, 43, 44, 45, 46, 47, 48, 49, 50, 51, 52, 53, 54, 55, 56, 57, 58, 59, 60, 61, 62, 63, 64, 65, 66, 67, 68, 69, 70, 71, 72, 73, 74, 75, 76, 77, 78, 79, 80, 81, 82, 83, 84, 85, 86, 87, 88, 89, 90, 91, 92, 93, 94, 95, 96, 97, 98, 99, 100, 101, 102, 103, 104, 105, 106, 107, 108, 109, 110, 111, 112, 113, 114, 115, 116, 117, 118, 119], \"xaxis\": \"x4\", \"y\": [0.0, 0.0, 0.0, 0.0, 0.0, 0.0, 0.0, 0.0, 0.0, 0.0, 0.0, 0.0, 0.0, 0.0, 0.0, 0.0, 0.0, 0.0, 0.0, 0.0, 0.0, 0.0, 0.0, 0.0, 0.0, 0.0, -0.0, -0.0, -0.0, -0.0, -0.0, -0.0, -0.0, -0.0, -0.0, -0.0, -0.0, -0.0, -0.0, -0.0, -0.0, -0.0, -0.0, -0.0, -0.0, -0.0, -0.0, -0.0, -0.0, -0.0, -0.0, 0.029120906617200487, 0.08833129459396614, 0.05152391050443643, 0.14284009227820596, 0.3982870409670327, 0.4727600927626152, 0.9188301598406206, 1.35393650705323, 1.26518053386149, 0.09671813208311407, 1.5207597235948704, 0.3112186780059829, 5.759964792609644, 0.28399290977228786, 3.126762464150091, 0.6309219287269988, 1.2013728230828056, 5.174593314118647, 3.9932768067497646, 2.2943392501186, 0.5743668866621913, 0.796014941217524, 0.5139743367007693, 2.14818449938666, 0.5558646052236552, -0.18080061489349963, -0.134891089157037, -0.8965339892518671, -1.0991591145731887, -4.968990608177818, -1.894204525488374, -5.202370764845182, -2.255073273290434, -6.738252040500028, -3.611461971628883, -3.0022741371140036, -2.5810079250073943, -5.167843566078857, -0.01575164211978991, -1.8401579251266131, -3.190113181441509, -4.93683205065641, -2.968711100865106, -4.634717616054433, -0.45623899903972986, -1.1753990255345539, -0.6536909837417552, -1.1776155682035834, -0.764546123800721, -0.12733268423937108, -0.0076619520600609775, 0.0383846790867416, 0.37980983978063443, 0.6388531200318744, 1.4048510834581829, 0.23507228125831575, 1.2772997659362242, 5.596260230246003, 3.082922030167314, 2.8004550330878537, 3.6937540741284596, 2.9967170617027645, 4.167749592387973, 12.975036953520313, 8.806155122803318, 2.5786734017130035, 4.034737857083859, 5.352009220570283, 4.721934951520753], \"yaxis\": \"y4\"}, {\"name\": \"J14\", \"type\": \"scatter\", \"x\": [0, 1, 2, 3, 4, 5, 6, 7, 8, 9, 10, 11, 12, 13, 14, 15, 16, 17, 18, 19, 20, 21, 22, 23, 24, 25, 26, 27, 28, 29, 30, 31, 32, 33, 34, 35, 36, 37, 38, 39, 40, 41, 42, 43, 44, 45, 46, 47, 48, 49, 50, 51, 52, 53, 54, 55, 56, 57, 58, 59, 60, 61, 62, 63, 64, 65, 66, 67, 68, 69, 70, 71, 72, 73, 74, 75, 76, 77, 78, 79, 80, 81, 82, 83, 84, 85, 86, 87, 88, 89, 90, 91, 92, 93, 94, 95, 96, 97, 98, 99, 100, 101, 102, 103, 104, 105, 106, 107, 108, 109, 110, 111, 112, 113, 114, 115, 116, 117, 118, 119], \"xaxis\": \"x5\", \"y\": [0.0, 0.0, 0.0, 0.0, 0.0, 0.0, 0.0, 0.0, 0.0, 0.0, 0.0, 0.0, 0.0, 0.0, 0.0, 0.0, 0.0, 0.0, 0.0, 0.0, 0.0, 0.0, 0.0, 0.0, 0.0, 0.0, 0.0, 0.0, 0.0, 0.0, 0.0, 0.0, 0.0, 0.0, 0.0, 0.0, 0.0, 0.0, 0.0, 0.0, 0.0, 0.0, 0.0, 0.0, 0.0, 0.0, 0.0, 0.0, 0.0, 0.0, 0.0, 0.08140865713357925, 0.09305254369974136, 0.03375832736492157, 0.06867802143096924, 0.15309570729732513, 0.15332569181919098, 0.26118627190589905, 0.3472956717014313, 0.29985275864601135, 0.02161070704460144, 0.3261343240737915, 0.065122090280056, 1.1945806741714478, 0.059281785041093826, 0.6672674417495728, 0.13991151750087738, 0.2817605137825012, 1.3090935945510864, 1.115067481994629, 0.7272812128067017, 0.21433259546756744, 0.3678753077983856, 0.31831637024879456, 2.0640616416931152, 1.2328181266784668, 1.2392897605895996, 0.1821785271167755, 0.6773329377174377, 0.5826386213302612, 2.0528862476348877, 0.6492898464202881, 1.5439703464508057, 0.5981720685958862, 1.6384397745132446, 0.8222429156303406, 0.6520347595214844, 0.5438128709793091, 1.0732744932174683, 0.16278605163097382, 0.38892415165901184, 0.696504533290863, 1.1326334476470947, 0.7293353080749512, 1.2459797859191895, 0.13775299489498138, 0.4119153320789337, 0.27802038192749023, 0.6495680809020996, 0.6132012605667114, 0.19246627390384674, 0.11571510881185532, 0.07240045815706253, 0.3395923972129822, 0.3781231939792633, 0.6286417245864868, 0.08561533689498901, 0.3973531424999237, 1.5399410724639893, 0.7711337208747864, 0.6512013077735901, 0.8141323924064636, 0.6370466351509094, 0.868464469909668, 2.6917405128479004, 1.8470311164855957, 0.555502712726593, 0.9076622128486633, 1.2803282737731934, 1.2261327505111694], \"yaxis\": \"y5\"}],                        {\"annotations\": [{\"font\": {\"size\": 16}, \"showarrow\": false, \"text\": \"Original\", \"x\": 0.5, \"xanchor\": \"center\", \"xref\": \"paper\", \"y\": 1.0, \"yanchor\": \"bottom\", \"yref\": \"paper\"}, {\"font\": {\"size\": 16}, \"showarrow\": false, \"text\": \"Normalised\", \"x\": 0.5, \"xanchor\": \"center\", \"xref\": \"paper\", \"y\": 0.78, \"yanchor\": \"bottom\", \"yref\": \"paper\"}, {\"font\": {\"size\": 16}, \"showarrow\": false, \"text\": \"Optimised\", \"x\": 0.5, \"xanchor\": \"center\", \"xref\": \"paper\", \"y\": 0.56, \"yanchor\": \"bottom\", \"yref\": \"paper\"}, {\"font\": {\"size\": 16}, \"showarrow\": false, \"text\": \"Local phase vector\", \"x\": 0.5, \"xanchor\": \"center\", \"xref\": \"paper\", \"y\": 0.33999999999999997, \"yanchor\": \"bottom\", \"yref\": \"paper\"}, {\"font\": {\"size\": 16}, \"showarrow\": false, \"text\": \"Velocity Magnitude\", \"x\": 0.5, \"xanchor\": \"center\", \"xref\": \"paper\", \"y\": 0.12, \"yanchor\": \"bottom\", \"yref\": \"paper\"}], \"height\": 800, \"template\": {\"data\": {\"bar\": [{\"error_x\": {\"color\": \"#2a3f5f\"}, \"error_y\": {\"color\": \"#2a3f5f\"}, \"marker\": {\"line\": {\"color\": \"#E5ECF6\", \"width\": 0.5}}, \"type\": \"bar\"}], \"barpolar\": [{\"marker\": {\"line\": {\"color\": \"#E5ECF6\", \"width\": 0.5}}, \"type\": \"barpolar\"}], \"carpet\": [{\"aaxis\": {\"endlinecolor\": \"#2a3f5f\", \"gridcolor\": \"white\", \"linecolor\": \"white\", \"minorgridcolor\": \"white\", \"startlinecolor\": \"#2a3f5f\"}, \"baxis\": {\"endlinecolor\": \"#2a3f5f\", \"gridcolor\": \"white\", \"linecolor\": \"white\", \"minorgridcolor\": \"white\", \"startlinecolor\": \"#2a3f5f\"}, \"type\": \"carpet\"}], \"choropleth\": [{\"colorbar\": {\"outlinewidth\": 0, \"ticks\": \"\"}, \"type\": \"choropleth\"}], \"contour\": [{\"colorbar\": {\"outlinewidth\": 0, \"ticks\": \"\"}, \"colorscale\": [[0.0, \"#0d0887\"], [0.1111111111111111, \"#46039f\"], [0.2222222222222222, \"#7201a8\"], [0.3333333333333333, \"#9c179e\"], [0.4444444444444444, \"#bd3786\"], [0.5555555555555556, \"#d8576b\"], [0.6666666666666666, \"#ed7953\"], [0.7777777777777778, \"#fb9f3a\"], [0.8888888888888888, \"#fdca26\"], [1.0, \"#f0f921\"]], \"type\": \"contour\"}], \"contourcarpet\": [{\"colorbar\": {\"outlinewidth\": 0, \"ticks\": \"\"}, \"type\": \"contourcarpet\"}], \"heatmap\": [{\"colorbar\": {\"outlinewidth\": 0, \"ticks\": \"\"}, \"colorscale\": [[0.0, \"#0d0887\"], [0.1111111111111111, \"#46039f\"], [0.2222222222222222, \"#7201a8\"], [0.3333333333333333, \"#9c179e\"], [0.4444444444444444, \"#bd3786\"], [0.5555555555555556, \"#d8576b\"], [0.6666666666666666, \"#ed7953\"], [0.7777777777777778, \"#fb9f3a\"], [0.8888888888888888, \"#fdca26\"], [1.0, \"#f0f921\"]], \"type\": \"heatmap\"}], \"heatmapgl\": [{\"colorbar\": {\"outlinewidth\": 0, \"ticks\": \"\"}, \"colorscale\": [[0.0, \"#0d0887\"], [0.1111111111111111, \"#46039f\"], [0.2222222222222222, \"#7201a8\"], [0.3333333333333333, \"#9c179e\"], [0.4444444444444444, \"#bd3786\"], [0.5555555555555556, \"#d8576b\"], [0.6666666666666666, \"#ed7953\"], [0.7777777777777778, \"#fb9f3a\"], [0.8888888888888888, \"#fdca26\"], [1.0, \"#f0f921\"]], \"type\": \"heatmapgl\"}], \"histogram\": [{\"marker\": {\"colorbar\": {\"outlinewidth\": 0, \"ticks\": \"\"}}, \"type\": \"histogram\"}], \"histogram2d\": [{\"colorbar\": {\"outlinewidth\": 0, \"ticks\": \"\"}, \"colorscale\": [[0.0, \"#0d0887\"], [0.1111111111111111, \"#46039f\"], [0.2222222222222222, \"#7201a8\"], [0.3333333333333333, \"#9c179e\"], [0.4444444444444444, \"#bd3786\"], [0.5555555555555556, \"#d8576b\"], [0.6666666666666666, \"#ed7953\"], [0.7777777777777778, \"#fb9f3a\"], [0.8888888888888888, \"#fdca26\"], [1.0, \"#f0f921\"]], \"type\": \"histogram2d\"}], \"histogram2dcontour\": [{\"colorbar\": {\"outlinewidth\": 0, \"ticks\": \"\"}, \"colorscale\": [[0.0, \"#0d0887\"], [0.1111111111111111, \"#46039f\"], [0.2222222222222222, \"#7201a8\"], [0.3333333333333333, \"#9c179e\"], [0.4444444444444444, \"#bd3786\"], [0.5555555555555556, \"#d8576b\"], [0.6666666666666666, \"#ed7953\"], [0.7777777777777778, \"#fb9f3a\"], [0.8888888888888888, \"#fdca26\"], [1.0, \"#f0f921\"]], \"type\": \"histogram2dcontour\"}], \"mesh3d\": [{\"colorbar\": {\"outlinewidth\": 0, \"ticks\": \"\"}, \"type\": \"mesh3d\"}], \"parcoords\": [{\"line\": {\"colorbar\": {\"outlinewidth\": 0, \"ticks\": \"\"}}, \"type\": \"parcoords\"}], \"pie\": [{\"automargin\": true, \"type\": \"pie\"}], \"scatter\": [{\"marker\": {\"colorbar\": {\"outlinewidth\": 0, \"ticks\": \"\"}}, \"type\": \"scatter\"}], \"scatter3d\": [{\"line\": {\"colorbar\": {\"outlinewidth\": 0, \"ticks\": \"\"}}, \"marker\": {\"colorbar\": {\"outlinewidth\": 0, \"ticks\": \"\"}}, \"type\": \"scatter3d\"}], \"scattercarpet\": [{\"marker\": {\"colorbar\": {\"outlinewidth\": 0, \"ticks\": \"\"}}, \"type\": \"scattercarpet\"}], \"scattergeo\": [{\"marker\": {\"colorbar\": {\"outlinewidth\": 0, \"ticks\": \"\"}}, \"type\": \"scattergeo\"}], \"scattergl\": [{\"marker\": {\"colorbar\": {\"outlinewidth\": 0, \"ticks\": \"\"}}, \"type\": \"scattergl\"}], \"scattermapbox\": [{\"marker\": {\"colorbar\": {\"outlinewidth\": 0, \"ticks\": \"\"}}, \"type\": \"scattermapbox\"}], \"scatterpolar\": [{\"marker\": {\"colorbar\": {\"outlinewidth\": 0, \"ticks\": \"\"}}, \"type\": \"scatterpolar\"}], \"scatterpolargl\": [{\"marker\": {\"colorbar\": {\"outlinewidth\": 0, \"ticks\": \"\"}}, \"type\": \"scatterpolargl\"}], \"scatterternary\": [{\"marker\": {\"colorbar\": {\"outlinewidth\": 0, \"ticks\": \"\"}}, \"type\": \"scatterternary\"}], \"surface\": [{\"colorbar\": {\"outlinewidth\": 0, \"ticks\": \"\"}, \"colorscale\": [[0.0, \"#0d0887\"], [0.1111111111111111, \"#46039f\"], [0.2222222222222222, \"#7201a8\"], [0.3333333333333333, \"#9c179e\"], [0.4444444444444444, \"#bd3786\"], [0.5555555555555556, \"#d8576b\"], [0.6666666666666666, \"#ed7953\"], [0.7777777777777778, \"#fb9f3a\"], [0.8888888888888888, \"#fdca26\"], [1.0, \"#f0f921\"]], \"type\": \"surface\"}], \"table\": [{\"cells\": {\"fill\": {\"color\": \"#EBF0F8\"}, \"line\": {\"color\": \"white\"}}, \"header\": {\"fill\": {\"color\": \"#C8D4E3\"}, \"line\": {\"color\": \"white\"}}, \"type\": \"table\"}]}, \"layout\": {\"annotationdefaults\": {\"arrowcolor\": \"#2a3f5f\", \"arrowhead\": 0, \"arrowwidth\": 1}, \"autotypenumbers\": \"strict\", \"coloraxis\": {\"colorbar\": {\"outlinewidth\": 0, \"ticks\": \"\"}}, \"colorscale\": {\"diverging\": [[0, \"#8e0152\"], [0.1, \"#c51b7d\"], [0.2, \"#de77ae\"], [0.3, \"#f1b6da\"], [0.4, \"#fde0ef\"], [0.5, \"#f7f7f7\"], [0.6, \"#e6f5d0\"], [0.7, \"#b8e186\"], [0.8, \"#7fbc41\"], [0.9, \"#4d9221\"], [1, \"#276419\"]], \"sequential\": [[0.0, \"#0d0887\"], [0.1111111111111111, \"#46039f\"], [0.2222222222222222, \"#7201a8\"], [0.3333333333333333, \"#9c179e\"], [0.4444444444444444, \"#bd3786\"], [0.5555555555555556, \"#d8576b\"], [0.6666666666666666, \"#ed7953\"], [0.7777777777777778, \"#fb9f3a\"], [0.8888888888888888, \"#fdca26\"], [1.0, \"#f0f921\"]], \"sequentialminus\": [[0.0, \"#0d0887\"], [0.1111111111111111, \"#46039f\"], [0.2222222222222222, \"#7201a8\"], [0.3333333333333333, \"#9c179e\"], [0.4444444444444444, \"#bd3786\"], [0.5555555555555556, \"#d8576b\"], [0.6666666666666666, \"#ed7953\"], [0.7777777777777778, \"#fb9f3a\"], [0.8888888888888888, \"#fdca26\"], [1.0, \"#f0f921\"]]}, \"colorway\": [\"#636efa\", \"#EF553B\", \"#00cc96\", \"#ab63fa\", \"#FFA15A\", \"#19d3f3\", \"#FF6692\", \"#B6E880\", \"#FF97FF\", \"#FECB52\"], \"font\": {\"color\": \"#2a3f5f\"}, \"geo\": {\"bgcolor\": \"white\", \"lakecolor\": \"white\", \"landcolor\": \"#E5ECF6\", \"showlakes\": true, \"showland\": true, \"subunitcolor\": \"white\"}, \"hoverlabel\": {\"align\": \"left\"}, \"hovermode\": \"closest\", \"mapbox\": {\"style\": \"light\"}, \"paper_bgcolor\": \"white\", \"plot_bgcolor\": \"#E5ECF6\", \"polar\": {\"angularaxis\": {\"gridcolor\": \"white\", \"linecolor\": \"white\", \"ticks\": \"\"}, \"bgcolor\": \"#E5ECF6\", \"radialaxis\": {\"gridcolor\": \"white\", \"linecolor\": \"white\", \"ticks\": \"\"}}, \"scene\": {\"xaxis\": {\"backgroundcolor\": \"#E5ECF6\", \"gridcolor\": \"white\", \"gridwidth\": 2, \"linecolor\": \"white\", \"showbackground\": true, \"ticks\": \"\", \"zerolinecolor\": \"white\"}, \"yaxis\": {\"backgroundcolor\": \"#E5ECF6\", \"gridcolor\": \"white\", \"gridwidth\": 2, \"linecolor\": \"white\", \"showbackground\": true, \"ticks\": \"\", \"zerolinecolor\": \"white\"}, \"zaxis\": {\"backgroundcolor\": \"#E5ECF6\", \"gridcolor\": \"white\", \"gridwidth\": 2, \"linecolor\": \"white\", \"showbackground\": true, \"ticks\": \"\", \"zerolinecolor\": \"white\"}}, \"shapedefaults\": {\"line\": {\"color\": \"#2a3f5f\"}}, \"ternary\": {\"aaxis\": {\"gridcolor\": \"white\", \"linecolor\": \"white\", \"ticks\": \"\"}, \"baxis\": {\"gridcolor\": \"white\", \"linecolor\": \"white\", \"ticks\": \"\"}, \"bgcolor\": \"#E5ECF6\", \"caxis\": {\"gridcolor\": \"white\", \"linecolor\": \"white\", \"ticks\": \"\"}}, \"title\": {\"x\": 0.05}, \"xaxis\": {\"automargin\": true, \"gridcolor\": \"white\", \"linecolor\": \"white\", \"ticks\": \"\", \"title\": {\"standoff\": 15}, \"zerolinecolor\": \"white\", \"zerolinewidth\": 2}, \"yaxis\": {\"automargin\": true, \"gridcolor\": \"white\", \"linecolor\": \"white\", \"ticks\": \"\", \"title\": {\"standoff\": 15}, \"zerolinecolor\": \"white\", \"zerolinewidth\": 2}}}, \"title\": {\"text\": \"Contact info\"}, \"width\": 800, \"xaxis\": {\"anchor\": \"y\", \"domain\": [0.0, 1.0], \"title\": {\"text\": \"frames\"}}, \"xaxis2\": {\"anchor\": \"y2\", \"domain\": [0.0, 1.0], \"title\": {\"text\": \"frames\"}}, \"xaxis3\": {\"anchor\": \"y3\", \"domain\": [0.0, 1.0], \"title\": {\"text\": \"frames\"}}, \"xaxis4\": {\"anchor\": \"y4\", \"domain\": [0.0, 1.0], \"title\": {\"text\": \"frames\"}}, \"xaxis5\": {\"anchor\": \"y5\", \"domain\": [0.0, 1.0], \"title\": {\"text\": \"frames\"}}, \"yaxis\": {\"anchor\": \"x\", \"domain\": [0.88, 1.0]}, \"yaxis2\": {\"anchor\": \"x2\", \"domain\": [0.66, 0.78]}, \"yaxis3\": {\"anchor\": \"x3\", \"domain\": [0.44, 0.56]}, \"yaxis4\": {\"anchor\": \"x4\", \"domain\": [0.22, 0.33999999999999997]}, \"yaxis5\": {\"anchor\": \"x5\", \"domain\": [0.0, 0.12]}},                        {\"responsive\": true}                    ).then(function(){\n                            \nvar gd = document.getElementById('b80fe2b7-83ad-46db-b956-622de8c1c40b');\nvar x = new MutationObserver(function (mutations, observer) {{\n        var display = window.getComputedStyle(gd).display;\n        if (!display || display === 'none') {{\n            console.log([gd, 'removed!']);\n            Plotly.purge(gd);\n            observer.disconnect();\n        }}\n}});\n\n// Listen for the removal of the full notebook cells\nvar notebookContainer = gd.closest('#notebook-container');\nif (notebookContainer) {{\n    x.observe(notebookContainer, {childList: true});\n}}\n\n// Listen for the clearing of the current output cell\nvar outputEl = gd.closest('.output');\nif (outputEl) {{\n    x.observe(outputEl, {childList: true});\n}}\n\n                        })                };                });            </script>        </div>"
     },
     "metadata": {},
     "output_type": "display_data"
    }
   ],
   "source": [
    "# plot_contact(cO_14, cNormalised1, cOpt1, cLocalPhase1, cAmp1)\n",
    "plot_contact_single(cO_14, cN_14, cOpt_14, cLocal_14, cAmp_14, cVel_14,  i=14)"
   ],
   "metadata": {
    "collapsed": false,
    "pycharm": {
     "name": "#%%\n"
    }
   }
  },
  {
   "cell_type": "code",
   "execution_count": 260,
   "outputs": [
    {
     "data": {
      "application/vnd.plotly.v1+json": {
       "config": {
        "plotlyServerURL": "https://plot.ly"
       },
       "data": [
        {
         "name": "J20",
         "type": "scatter",
         "x": [
          0,
          1,
          2,
          3,
          4,
          5,
          6,
          7,
          8,
          9,
          10,
          11,
          12,
          13,
          14,
          15,
          16,
          17,
          18,
          19,
          20,
          21,
          22,
          23,
          24,
          25,
          26,
          27,
          28,
          29,
          30,
          31,
          32,
          33,
          34,
          35,
          36,
          37,
          38,
          39,
          40,
          41,
          42,
          43,
          44,
          45,
          46,
          47,
          48,
          49,
          50,
          51,
          52,
          53,
          54,
          55,
          56,
          57,
          58,
          59,
          60,
          61,
          62,
          63,
          64,
          65,
          66,
          67,
          68,
          69,
          70,
          71,
          72,
          73,
          74,
          75,
          76,
          77,
          78,
          79,
          80,
          81,
          82,
          83,
          84,
          85,
          86,
          87,
          88,
          89,
          90,
          91,
          92,
          93,
          94,
          95,
          96,
          97,
          98,
          99,
          100,
          101,
          102,
          103,
          104,
          105,
          106,
          107,
          108,
          109,
          110,
          111,
          112,
          113,
          114,
          115,
          116,
          117,
          118,
          119
         ],
         "xaxis": "x",
         "y": [
          0.0,
          0.0,
          0.0,
          0.0,
          0.0,
          0.0,
          0.0,
          0.0,
          0.0,
          0.0,
          0.0,
          0.0,
          0.0,
          0.0,
          0.0,
          0.0,
          0.0,
          0.0,
          0.0,
          0.0,
          0.0,
          0.0,
          0.0,
          0.0,
          0.0,
          0.0,
          0.0,
          0.0,
          0.0,
          0.0,
          0.0,
          0.0,
          0.0,
          0.0,
          0.0,
          0.0,
          0.0,
          0.0,
          1.0,
          1.0,
          1.0,
          1.0,
          1.0,
          1.0,
          1.0,
          1.0,
          1.0,
          1.0,
          1.0,
          1.0,
          1.0,
          1.0,
          1.0,
          0.0,
          0.0,
          0.0,
          0.0,
          0.0,
          0.0,
          0.0,
          0.0,
          0.0,
          0.0,
          0.0,
          0.0,
          0.0,
          0.0,
          0.0,
          1.0,
          1.0,
          0.0,
          0.0,
          0.0,
          0.0,
          0.0,
          0.0,
          0.0,
          0.0,
          0.0,
          0.0,
          0.0,
          0.0,
          0.0,
          0.0,
          0.0,
          0.0,
          0.0,
          0.0,
          0.0,
          0.0,
          0.0,
          0.0,
          0.0,
          0.0,
          0.0,
          0.0,
          0.0,
          0.0,
          0.0,
          0.0,
          0.0,
          0.0,
          0.0,
          0.0,
          0.0,
          0.0,
          0.0,
          0.0,
          0.0,
          0.0,
          0.0,
          0.0,
          0.0,
          0.0,
          0.0,
          0.0,
          0.0,
          0.0,
          0.0,
          0.0
         ],
         "yaxis": "y"
        },
        {
         "name": "J20",
         "type": "scatter",
         "x": [
          0,
          1,
          2,
          3,
          4,
          5,
          6,
          7,
          8,
          9,
          10,
          11,
          12,
          13,
          14,
          15,
          16,
          17,
          18,
          19,
          20,
          21,
          22,
          23,
          24,
          25,
          26,
          27,
          28,
          29,
          30,
          31,
          32,
          33,
          34,
          35,
          36,
          37,
          38,
          39,
          40,
          41,
          42,
          43,
          44,
          45,
          46,
          47,
          48,
          49,
          50,
          51,
          52,
          53,
          54,
          55,
          56,
          57,
          58,
          59,
          60,
          61,
          62,
          63,
          64,
          65,
          66,
          67,
          68,
          69,
          70,
          71,
          72,
          73,
          74,
          75,
          76,
          77,
          78,
          79,
          80,
          81,
          82,
          83,
          84,
          85,
          86,
          87,
          88,
          89,
          90,
          91,
          92,
          93,
          94,
          95,
          96,
          97,
          98,
          99,
          100,
          101,
          102,
          103,
          104,
          105,
          106,
          107,
          108,
          109,
          110,
          111,
          112,
          113,
          114,
          115,
          116,
          117,
          118,
          119
         ],
         "xaxis": "x2",
         "y": [
          0.0,
          0.0,
          0.0,
          0.0,
          0.0,
          0.0,
          0.0,
          0.0,
          0.0,
          -4.701492397343394E-4,
          -0.0031915180377412094,
          -0.010889325605887328,
          -0.025792961390956524,
          -0.04890371995989893,
          -0.08007291090449262,
          -0.1182647378636614,
          -0.16187067258833024,
          -0.20900951012643454,
          -0.2577793656391731,
          -0.30644701310255273,
          -0.35357221988482695,
          -0.39807246737381463,
          -0.4392379153826511,
          -0.4767085035501524,
          -0.5103421302206204,
          -0.5399566956529244,
          -0.5652120761562398,
          -0.5857516851820554,
          -0.6013740488934435,
          -0.6121074764854242,
          -0.6182178085560907,
          -0.6201923207330811,
          -0.6187257015143549,
          -0.614666521389766,
          -0.6089098625900663,
          -0.6022942594166318,
          -0.5955350432265027,
          -0.5891888987339486,
          -0.5769503889981481,
          -0.5366769900342054,
          -0.44205856344467126,
          -0.2831537446982647,
          -0.06782683198635525,
          0.18694309473238413,
          0.46089817916848047,
          0.7343218491006102,
          0.9904555540527729,
          1.2167744814715307,
          1.4053860416479322,
          1.552800485027086,
          1.6592962839802292,
          1.7280680741567862,
          1.7643061415777483,
          1.7678856775598664,
          1.723764634312631,
          1.612097426557586,
          1.4275870447813366,
          1.1815119572442336,
          0.8938771657561214,
          0.5875978549970824,
          0.2844810759688497,
          0.0027314610657061325,
          -0.24431241978168047,
          -0.4485037540051414,
          -0.6065498459084773,
          -0.7192544981060179,
          -0.790544076624209,
          -0.8264373631749768,
          -0.8276442238170274,
          -0.7796982931077355,
          -0.6692337490610244,
          -0.5124691271877505,
          -0.3468531304025661,
          -0.2033014348258308,
          -0.09801803579369332,
          -0.036302491502932646,
          -0.01592003000651364,
          -0.029958956468745503,
          -0.06913779200010309,
          -0.12356248606188328,
          -0.18396667558127955,
          -0.24249239829073033,
          -0.2930835297450699,
          -0.3315685394082294,
          -0.35565896221389426,
          -0.3650291168592503,
          -0.3611459734182844,
          -0.34666658258785665,
          -0.3247687302210159,
          -0.2986509238254883,
          -0.27118939534049996,
          -0.24473705572693147,
          -0.22104203717624787,
          -0.20124572132995702,
          -0.1859280122009358,
          -0.17518913275942594,
          -0.16875553167516194,
          -0.16609301027740184,
          -0.16651449108368246,
          -0.1690983007564549,
          -0.17210615547732114,
          -0.17275305262669102,
          -0.16846103490843195,
          -0.15821382212220036,
          -0.14251099486431074,
          -0.12271783638323429,
          -0.10057105214526736,
          -0.07782544302374789,
          -0.05602278359866414,
          -0.03636181598387938,
          -0.0196475223256141,
          -0.006298546890331164,
          0.0036064848850585495,
          0.010260311280960837,
          0.014049457365967464,
          0.015477874921479175,
          0.015098800182003798,
          0.0134590266257546,
          0.01105744463955823,
          0.00831787154469345
         ],
         "yaxis": "y2"
        },
        {
         "name": "J20",
         "type": "scatter",
         "x": [
          0,
          1,
          2,
          3,
          4,
          5,
          6,
          7,
          8,
          9,
          10,
          11,
          12,
          13,
          14,
          15,
          16,
          17,
          18,
          19,
          20,
          21,
          22,
          23,
          24,
          25,
          26,
          27,
          28,
          29,
          30,
          31,
          32,
          33,
          34,
          35,
          36,
          37,
          38,
          39,
          40,
          41,
          42,
          43,
          44,
          45,
          46,
          47,
          48,
          49,
          50,
          51,
          52,
          53,
          54,
          55,
          56,
          57,
          58,
          59,
          60,
          61,
          62,
          63,
          64,
          65,
          66,
          67,
          68,
          69,
          70,
          71,
          72,
          73,
          74,
          75,
          76,
          77,
          78,
          79,
          80,
          81,
          82,
          83,
          84,
          85,
          86,
          87,
          88,
          89,
          90,
          91,
          92,
          93,
          94,
          95,
          96,
          97,
          98,
          99,
          100,
          101,
          102,
          103,
          104,
          105,
          106,
          107,
          108,
          109,
          110,
          111,
          112,
          113,
          114,
          115,
          116,
          117,
          118,
          119
         ],
         "xaxis": "x3",
         "y": [
          0.41968219415135544,
          0.4044306979153176,
          0.38264032117812885,
          0.35460733248712917,
          0.32071287682834837,
          0.2814177934640908,
          0.2372563502230566,
          0.1888289794334819,
          0.13679411426374932,
          0.08185923646604701,
          0.024771257240659456,
          -0.03369363799443428,
          -0.09274054285507256,
          -0.1515666377783367,
          -0.2093721053999471,
          -0.26537100511285905,
          -0.31880195895327357,
          -0.36893850352552693,
          -0.41509896721796147,
          -0.45665573841616414,
          -0.49304379870014525,
          -0.5237684050055295,
          -0.5484118162997739,
          -0.5666389733154916,
          -0.5782020541175088,
          -0.5829438435647881,
          -0.5807998708549988,
          -0.5717992860890284,
          -0.5560644639374017,
          -0.5338093397972777,
          -0.5053365010621369,
          -0.47103307305213493,
          -0.43136545554125894,
          -0.3868729814450481,
          -0.33816058388728654,
          -0.28589057134643425,
          -0.23077362270939983,
          -0.17355912466662343,
          -0.11502498282415982,
          -0.055967045063971085,
          0.0028117190443868317,
          0.060512135660698074,
          0.11634969248313362,
          0.16956520521459134,
          0.21943513966183356,
          0.26528144912503426,
          0.3064807933256203,
          0.3424730135290792,
          0.37276874863239584,
          0.39695608866549914,
          0.41470617524369724,
          0.4257776728256587,
          0.4300200499843666,
          0.4273756260778919,
          0.4178803554928323,
          0.4016633387976071,
          0.37894506745211276,
          0.35003442593920087,
          0.31532449207790103,
          0.2752871926186037,
          0.23046688678434005,
          0.18147296499827684,
          0.12897156342736202,
          0.07367650699368425,
          0.01633960399511218,
          -0.04225957570752852,
          -0.10132429995787395,
          -0.16005150691519704,
          -0.2176427237258888,
          -0.27331492280167713,
          -0.32631116809935706,
          -0.37591090665198434,
          -0.4214397654247719,
          -0.46227872029466877,
          -0.497872512489415,
          -0.5277371980536106,
          -0.5514667276969847,
          -0.5687384675632579,
          -0.5793175858575542,
          -0.5830602456904527,
          -0.5799155607278044,
          -0.5699262870567097,
          -0.553228241860837,
          -0.5300484568089479,
          -0.5007020912637197,
          -0.4655881472798047,
          -0.42518404465131465,
          -0.38003912976802035,
          -0.3307672065358188,
          -0.2780381909133323,
          -0.22256900253208384,
          -0.1651138172405236,
          -0.10645381310127897,
          -0.047386549258136006,
          0.011284877919108871,
          0.06876275397559103,
          0.12426559233818682,
          0.17703875964312957,
          0.22636473595928006,
          0.27157287040595157,
          0.3120484995249563,
          0.3472413044307434,
          0.376672793112275,
          0.3999428061550122,
          0.4167349574292476,
          0.4268209357715378,
          0.43006360917228015,
          0.4264188892639571,
          0.4159363307599049,
          0.3987584576934551,
          0.3751188256181056,
          0.34533884611563403,
          0.3098234167870967,
          0.269055416142683,
          0.22358913823956086,
          0.17404275633236274,
          0.12108991800280183,
          0.06545058604356518,
          0.007881249626608869,
          -0.05083536115224151
         ],
         "yaxis": "y3"
        },
        {
         "alignmentgroup": "True",
         "hovertemplate": "x=%{x}<br>y=%{y}<extra></extra>",
         "legendgroup": "",
         "marker": {
          "color": "#636efa"
         },
         "name": "",
         "offsetgroup": "",
         "orientation": "v",
         "showlegend": false,
         "textposition": "auto",
         "type": "bar",
         "x": [
          0,
          1,
          2,
          3,
          4,
          5,
          6,
          7,
          8,
          9,
          10,
          11,
          12,
          13,
          14,
          15,
          16,
          17,
          18,
          19,
          20,
          21,
          22,
          23,
          24,
          25,
          26,
          27,
          28,
          29,
          30,
          31,
          32,
          33,
          34,
          35,
          36,
          37,
          38,
          39,
          40,
          41,
          42,
          43,
          44,
          45,
          46,
          47,
          48,
          49,
          50,
          51,
          52,
          53,
          54,
          55,
          56,
          57,
          58,
          59,
          60,
          61,
          62,
          63,
          64,
          65,
          66,
          67,
          68,
          69,
          70,
          71,
          72,
          73,
          74,
          75,
          76,
          77,
          78,
          79,
          80,
          81,
          82,
          83,
          84,
          85,
          86,
          87,
          88,
          89,
          90,
          91,
          92,
          93,
          94,
          95,
          96,
          97,
          98,
          99,
          100,
          101,
          102,
          103,
          104,
          105,
          106,
          107,
          108,
          109,
          110,
          111,
          112,
          113,
          114,
          115,
          116,
          117,
          118,
          119
         ],
         "xaxis": "x3",
         "y": [
          0.5065666551449016,
          0.5065666551449016,
          0.5065666551449016,
          0.5065666551449016,
          0.5065666551449016,
          0.5065666551449016,
          0.5065666551449016,
          0.5065666551449016,
          0.5065666551449016,
          0.5065666551449016,
          0.5065666551449016,
          0.5065666551449016,
          0.5065666551449016,
          0.5065666551449016,
          0.5065666551449016,
          0.5065666551449016,
          0.5065666551449016,
          0.5065666551449016,
          0.5065666551449016,
          0.5065666551449016,
          0.5065666551449016,
          0.5065666551449016,
          0.5065666551449016,
          0.5065666551449016,
          0.5065666551449016,
          0.5065666551449016,
          0.5065666551449016,
          0.5065666551449016,
          0.5065666551449016,
          0.5065666551449016,
          0.5065666551449016,
          0.5065666551449016,
          0.5065666551449016,
          0.5065666551449016,
          0.5065666551449016,
          0.5065666551449016,
          0.5065666551449016,
          0.5065666551449016,
          0.5065666551449016,
          0.5065666551449016,
          0.5065666551449016,
          0.5065666551449016,
          0.5065666551449016,
          0.5065666551449016,
          0.5065666551449016,
          0.5065666551449016,
          0.5065666551449016,
          0.5065666551449016,
          0.5065666551449016,
          0.5065666551449016,
          0.5065666551449016,
          0.5065666551449016,
          0.5065666551449016,
          0.5065666551449016,
          0.5065666551449016,
          0.5065666551449016,
          0.5065666551449016,
          0.5065666551449016,
          0.5065666551449016,
          0.5065666551449016,
          0.5065666551449016,
          0.5065666551449016,
          0.5065666551449016,
          0.5065666551449016,
          0.5065666551449016,
          0.5065666551449016,
          0.5065666551449016,
          0.5065666551449016,
          0.5065666551449016,
          0.5065666551449016,
          0.5065666551449016,
          0.5065666551449016,
          0.5065666551449016,
          0.5065666551449016,
          0.5065666551449016,
          0.5065666551449016,
          0.5065666551449016,
          0.5065666551449016,
          0.5065666551449016,
          0.5065666551449016,
          0.5065666551449016,
          0.5065666551449016,
          0.5065666551449016,
          0.5065666551449016,
          0.5065666551449016,
          0.5065666551449016,
          0.5065666551449016,
          0.5065666551449016,
          0.5065666551449016,
          0.5065666551449016,
          0.5065666551449016,
          0.5065666551449016,
          0.5065666551449016,
          0.5065666551449016,
          0.5065666551449016,
          0.5065666551449016,
          0.5065666551449016,
          0.5065666551449016,
          0.5065666551449016,
          0.5065666551449016,
          0.5065666551449016,
          0.5065666551449016,
          0.5065666551449016,
          0.5065666551449016,
          0.5065666551449016,
          0.5065666551449016,
          0.5065666551449016,
          0.5065666551449016,
          0.5065666551449016,
          0.5065666551449016,
          0.5065666551449016,
          0.5065666551449016,
          0.5065666551449016,
          0.5065666551449016,
          0.5065666551449016,
          0.5065666551449016,
          0.5065666551449016,
          0.5065666551449016,
          0.5065666551449016,
          0.5065666551449016
         ],
         "yaxis": "y3"
        },
        {
         "name": "J20",
         "type": "scatter",
         "x": [
          0,
          1,
          2,
          3,
          4,
          5,
          6,
          7,
          8,
          9,
          10,
          11,
          12,
          13,
          14,
          15,
          16,
          17,
          18,
          19,
          20,
          21,
          22,
          23,
          24,
          25,
          26,
          27,
          28,
          29,
          30,
          31,
          32,
          33,
          34,
          35,
          36,
          37,
          38,
          39,
          40,
          41,
          42,
          43,
          44,
          45,
          46,
          47,
          48,
          49,
          50,
          51,
          52,
          53,
          54,
          55,
          56,
          57,
          58,
          59,
          60,
          61,
          62,
          63,
          64,
          65,
          66,
          67,
          68,
          69,
          70,
          71,
          72,
          73,
          74,
          75,
          76,
          77,
          78,
          79,
          80,
          81,
          82,
          83,
          84,
          85,
          86,
          87,
          88,
          89,
          90,
          91,
          92,
          93,
          94,
          95,
          96,
          97,
          98,
          99,
          100,
          101,
          102,
          103,
          104,
          105,
          106,
          107,
          108,
          109,
          110,
          111,
          112,
          113,
          114,
          115,
          116,
          117,
          118,
          119
         ],
         "xaxis": "x4",
         "y": [
          0.0,
          -0.0,
          -0.0,
          -0.0,
          -0.0,
          -0.0,
          -0.0,
          -0.0,
          -0.0,
          -0.0,
          -0.0,
          -0.0,
          -0.0,
          0.0,
          0.0,
          0.0,
          0.0,
          0.0,
          0.0,
          0.0,
          0.0,
          0.0,
          0.0,
          0.0,
          0.0,
          0.0,
          0.0,
          0.0,
          0.0,
          0.0,
          0.0,
          0.0,
          0.0,
          0.0,
          0.0,
          0.0,
          0.0,
          0.0,
          0.0,
          -0.0,
          -0.0,
          -0.0,
          -0.0,
          -0.0,
          -0.0,
          -0.0,
          -0.0,
          -0.0,
          -0.0,
          -0.0,
          -0.0,
          -0.46992354089719623,
          -0.37588774545915643,
          -0.2645286664454651,
          -0.2719903387408516,
          -0.48374203549502337,
          -0.4319578212062066,
          -1.0568133531347443,
          -0.7363151955845187,
          -1.039282126111591,
          -0.05814788136955253,
          -0.739677808588439,
          -0.6596298729606596,
          -1.0430127741507849,
          -0.04935986760978595,
          -0.2069109184266035,
          -9.93212815946182E-4,
          0.33026639759708937,
          1.0281017475932015,
          1.5884701597876656,
          1.4340228673086008,
          1.580659758208286,
          1.475605715597387,
          2.1457664957658578,
          7.197356474223148,
          6.471341223639251,
          7.856194370992735,
          1.8834052926240692,
          5.71087393781835,
          1.6673295285804763,
          18.112158100030072,
          2.2856861221687343,
          10.84082848944963,
          6.197320779263124,
          2.5614759195861683,
          3.553852987580934,
          1.5430177747224367,
          2.4216710545669953,
          1.7410829967732322,
          0.2622815554185821,
          0.27934517631040573,
          0.9035109078654977,
          0.1542691289484087,
          -0.31283365814627995,
          -1.2050484748137358,
          -0.26745619303076285,
          -0.6733304345786563,
          -1.060056805005965,
          -1.2223048714295333,
          -3.032533505580369,
          -0.17728102925629252,
          -1.118964049611937,
          -1.213336629102663,
          -1.72563099974422,
          -3.392991100838498,
          -2.438053076500817,
          -0.7581854939107854,
          -1.5432100862140838,
          -5.7583507656990776,
          -3.6951044994056503,
          -6.200109101834524,
          -3.553253667517258,
          -2.315699141117976,
          -2.9836105419545356,
          -7.612895858009584,
          -2.887330303124675,
          -4.155834257926842,
          -0.6487119348231494,
          -0.8325843797919326,
          -0.3239910874602219
         ],
         "yaxis": "y4"
        },
        {
         "name": "J20",
         "type": "scatter",
         "x": [
          0,
          1,
          2,
          3,
          4,
          5,
          6,
          7,
          8,
          9,
          10,
          11,
          12,
          13,
          14,
          15,
          16,
          17,
          18,
          19,
          20,
          21,
          22,
          23,
          24,
          25,
          26,
          27,
          28,
          29,
          30,
          31,
          32,
          33,
          34,
          35,
          36,
          37,
          38,
          39,
          40,
          41,
          42,
          43,
          44,
          45,
          46,
          47,
          48,
          49,
          50,
          51,
          52,
          53,
          54,
          55,
          56,
          57,
          58,
          59,
          60,
          61,
          62,
          63,
          64,
          65,
          66,
          67,
          68,
          69,
          70,
          71,
          72,
          73,
          74,
          75,
          76,
          77,
          78,
          79,
          80,
          81,
          82,
          83,
          84,
          85,
          86,
          87,
          88,
          89,
          90,
          91,
          92,
          93,
          94,
          95,
          96,
          97,
          98,
          99,
          100,
          101,
          102,
          103,
          104,
          105,
          106,
          107,
          108,
          109,
          110,
          111,
          112,
          113,
          114,
          115,
          116,
          117,
          118,
          119
         ],
         "xaxis": "x4",
         "y": [
          0.0,
          0.0,
          0.0,
          0.0,
          0.0,
          0.0,
          0.0,
          0.0,
          0.0,
          0.0,
          0.0,
          0.0,
          0.0,
          0.0,
          0.0,
          0.0,
          0.0,
          0.0,
          0.0,
          0.0,
          0.0,
          0.0,
          0.0,
          0.0,
          0.0,
          0.0,
          -0.0,
          -0.0,
          -0.0,
          -0.0,
          -0.0,
          -0.0,
          -0.0,
          -0.0,
          -0.0,
          -0.0,
          -0.0,
          -0.0,
          -0.0,
          -0.0,
          -0.0,
          -0.0,
          -0.0,
          -0.0,
          -0.0,
          -0.0,
          -0.0,
          -0.0,
          -0.0,
          -0.0,
          -0.0,
          -0.06154138800901593,
          -0.005093595642658385,
          0.027375119134240327,
          0.06076197073952163,
          0.1691919937974701,
          0.21032804185098358,
          0.677081032952028,
          0.6033455999115463,
          1.0768198092653014,
          0.07633257015597203,
          1.2500092027798437,
          1.4864551897186722,
          3.3600669369599556,
          0.2647633132676884,
          3.054113575855909,
          0.0202433131700934,
          1.9749590697570347,
          3.543778185159823,
          3.767243301493266,
          2.5297273840858634,
          2.157153146810033,
          1.5870042017676953,
          1.8260923314815676,
          4.802548676225412,
          3.3014625671796014,
          2.913032879923452,
          0.45772629828610534,
          0.6986957502535227,
          0.008454196068540675,
          -2.0297299224125487,
          -0.5310046210304402,
          -3.895131851892332,
          -3.082867873656763,
          -1.671894697926053,
          -2.9627927691924976,
          -1.6261213971909805,
          -3.2355567527106603,
          -3.0000771513532603,
          -0.6048248466662044,
          -0.9276199161773216,
          -5.0853453121857966,
          -2.6043803985057186,
          -5.434210064466001,
          -6.84856950019607,
          -0.8935139815243893,
          -1.559803614071136,
          -1.8336044655043073,
          -1.6387706865720981,
          -3.206511461674275,
          -0.14829640298144187,
          -0.7330101617085112,
          -0.6060930855905747,
          -0.6232616880621873,
          -0.7941943300676609,
          -0.27732131438420904,
          0.0025847387075151962,
          0.18620205856924552,
          1.3893313896271096,
          1.3631454245968597,
          3.15011841154848,
          2.3624419162216936,
          1.9640844406519102,
          3.1981821220196056,
          10.353326196146647,
          5.073807182885305,
          9.810489621423969,
          2.222250558525595,
          4.928422947609593,
          6.386672878823286
         ],
         "yaxis": "y4"
        },
        {
         "name": "J20",
         "type": "scatter",
         "x": [
          0,
          1,
          2,
          3,
          4,
          5,
          6,
          7,
          8,
          9,
          10,
          11,
          12,
          13,
          14,
          15,
          16,
          17,
          18,
          19,
          20,
          21,
          22,
          23,
          24,
          25,
          26,
          27,
          28,
          29,
          30,
          31,
          32,
          33,
          34,
          35,
          36,
          37,
          38,
          39,
          40,
          41,
          42,
          43,
          44,
          45,
          46,
          47,
          48,
          49,
          50,
          51,
          52,
          53,
          54,
          55,
          56,
          57,
          58,
          59,
          60,
          61,
          62,
          63,
          64,
          65,
          66,
          67,
          68,
          69,
          70,
          71,
          72,
          73,
          74,
          75,
          76,
          77,
          78,
          79,
          80,
          81,
          82,
          83,
          84,
          85,
          86,
          87,
          88,
          89,
          90,
          91,
          92,
          93,
          94,
          95,
          96,
          97,
          98,
          99,
          100,
          101,
          102,
          103,
          104,
          105,
          106,
          107,
          108,
          109,
          110,
          111,
          112,
          113,
          114,
          115,
          116,
          117,
          118,
          119
         ],
         "xaxis": "x5",
         "y": [
          0.0,
          0.0,
          0.0,
          0.0,
          0.0,
          0.0,
          0.0,
          0.0,
          0.0,
          0.0,
          0.0,
          0.0,
          0.0,
          0.0,
          0.0,
          0.0,
          0.0,
          0.0,
          0.0,
          0.0,
          0.0,
          0.0,
          0.0,
          0.0,
          0.0,
          0.0,
          0.0,
          0.0,
          0.0,
          0.0,
          0.0,
          0.0,
          0.0,
          0.0,
          0.0,
          0.0,
          0.0,
          0.0,
          0.0,
          0.0,
          0.0,
          0.0,
          0.0,
          0.0,
          0.0,
          0.0,
          0.0,
          0.0,
          0.0,
          0.0,
          0.0,
          0.10915408283472061,
          0.08658012002706528,
          0.0612499937415123,
          0.06418727338314056,
          0.11803048849105835,
          0.11065269261598587,
          0.2890685498714447,
          0.2192445546388626,
          0.344675213098526,
          0.022100340574979782,
          0.33452221751213074,
          0.37454596161842346,
          0.8102967143058777,
          0.062029313296079636,
          0.7050172090530396,
          0.24672147631645203,
          0.46117672324180603,
          0.8498350977897644,
          0.9416250586509705,
          0.6697321534156799,
          0.6159247756004333,
          0.4990958273410797,
          0.6489347815513611,
          1.9927997589111328,
          1.6731938123703003,
          1.9297714233398438,
          0.446400910615921,
          1.3251008987426758,
          0.3840140998363495,
          4.197593688964844,
          0.540444552898407,
          2.6530683040618896,
          1.5941791534423828,
          0.7044891715049744,
          1.0656346082687378,
          0.51629239320755,
          0.9308021068572998,
          0.7988882660865784,
          0.1518334150314331,
          0.22312085330486298,
          1.1895678043365479,
          0.6008763909339905,
          1.2536462545394897,
          1.6015520095825195,
          0.21481016278266907,
          0.39128705859184265,
          0.4877994954586029,
          0.4708552658557892,
          1.016464114189148,
          0.0532321073114872,
          0.30808600783348083,
          0.31237345933914185,
          0.4225652813911438,
          0.8025748133659363,
          0.5651383996009827,
          0.17462167143821716,
          0.35800060629844666,
          1.3642836809158325,
          0.9070965647697449,
          1.6017102003097534,
          0.9827346801757812,
          0.699338972568512,
          1.0073515176773071,
          2.9597580432891846,
          1.3445321321487427,
          2.4538609981536865,
          0.5331766605377197,
          1.1511675119400024,
          1.4728310108184814
         ],
         "yaxis": "y5"
        }
       ],
       "layout": {
        "annotations": [
         {
          "font": {
           "size": 16
          },
          "showarrow": false,
          "text": "Original",
          "x": 0.5,
          "xanchor": "center",
          "xref": "paper",
          "y": 1.0,
          "yanchor": "bottom",
          "yref": "paper"
         },
         {
          "font": {
           "size": 16
          },
          "showarrow": false,
          "text": "Normalised",
          "x": 0.5,
          "xanchor": "center",
          "xref": "paper",
          "y": 0.78,
          "yanchor": "bottom",
          "yref": "paper"
         },
         {
          "font": {
           "size": 16
          },
          "showarrow": false,
          "text": "Optimised",
          "x": 0.5,
          "xanchor": "center",
          "xref": "paper",
          "y": 0.56,
          "yanchor": "bottom",
          "yref": "paper"
         },
         {
          "font": {
           "size": 16
          },
          "showarrow": false,
          "text": "Local phase vector",
          "x": 0.5,
          "xanchor": "center",
          "xref": "paper",
          "y": 0.33999999999999997,
          "yanchor": "bottom",
          "yref": "paper"
         },
         {
          "font": {
           "size": 16
          },
          "showarrow": false,
          "text": "Velocity Magnitude",
          "x": 0.5,
          "xanchor": "center",
          "xref": "paper",
          "y": 0.12,
          "yanchor": "bottom",
          "yref": "paper"
         }
        ],
        "height": 800,
        "template": {
         "data": {
          "bar": [
           {
            "error_x": {
             "color": "#2a3f5f"
            },
            "error_y": {
             "color": "#2a3f5f"
            },
            "marker": {
             "line": {
              "color": "#E5ECF6",
              "width": 0.5
             }
            },
            "type": "bar"
           }
          ],
          "barpolar": [
           {
            "marker": {
             "line": {
              "color": "#E5ECF6",
              "width": 0.5
             }
            },
            "type": "barpolar"
           }
          ],
          "carpet": [
           {
            "aaxis": {
             "endlinecolor": "#2a3f5f",
             "gridcolor": "white",
             "linecolor": "white",
             "minorgridcolor": "white",
             "startlinecolor": "#2a3f5f"
            },
            "baxis": {
             "endlinecolor": "#2a3f5f",
             "gridcolor": "white",
             "linecolor": "white",
             "minorgridcolor": "white",
             "startlinecolor": "#2a3f5f"
            },
            "type": "carpet"
           }
          ],
          "choropleth": [
           {
            "colorbar": {
             "outlinewidth": 0,
             "ticks": ""
            },
            "type": "choropleth"
           }
          ],
          "contour": [
           {
            "colorbar": {
             "outlinewidth": 0,
             "ticks": ""
            },
            "colorscale": [
             [
              0.0,
              "#0d0887"
             ],
             [
              0.1111111111111111,
              "#46039f"
             ],
             [
              0.2222222222222222,
              "#7201a8"
             ],
             [
              0.3333333333333333,
              "#9c179e"
             ],
             [
              0.4444444444444444,
              "#bd3786"
             ],
             [
              0.5555555555555556,
              "#d8576b"
             ],
             [
              0.6666666666666666,
              "#ed7953"
             ],
             [
              0.7777777777777778,
              "#fb9f3a"
             ],
             [
              0.8888888888888888,
              "#fdca26"
             ],
             [
              1.0,
              "#f0f921"
             ]
            ],
            "type": "contour"
           }
          ],
          "contourcarpet": [
           {
            "colorbar": {
             "outlinewidth": 0,
             "ticks": ""
            },
            "type": "contourcarpet"
           }
          ],
          "heatmap": [
           {
            "colorbar": {
             "outlinewidth": 0,
             "ticks": ""
            },
            "colorscale": [
             [
              0.0,
              "#0d0887"
             ],
             [
              0.1111111111111111,
              "#46039f"
             ],
             [
              0.2222222222222222,
              "#7201a8"
             ],
             [
              0.3333333333333333,
              "#9c179e"
             ],
             [
              0.4444444444444444,
              "#bd3786"
             ],
             [
              0.5555555555555556,
              "#d8576b"
             ],
             [
              0.6666666666666666,
              "#ed7953"
             ],
             [
              0.7777777777777778,
              "#fb9f3a"
             ],
             [
              0.8888888888888888,
              "#fdca26"
             ],
             [
              1.0,
              "#f0f921"
             ]
            ],
            "type": "heatmap"
           }
          ],
          "heatmapgl": [
           {
            "colorbar": {
             "outlinewidth": 0,
             "ticks": ""
            },
            "colorscale": [
             [
              0.0,
              "#0d0887"
             ],
             [
              0.1111111111111111,
              "#46039f"
             ],
             [
              0.2222222222222222,
              "#7201a8"
             ],
             [
              0.3333333333333333,
              "#9c179e"
             ],
             [
              0.4444444444444444,
              "#bd3786"
             ],
             [
              0.5555555555555556,
              "#d8576b"
             ],
             [
              0.6666666666666666,
              "#ed7953"
             ],
             [
              0.7777777777777778,
              "#fb9f3a"
             ],
             [
              0.8888888888888888,
              "#fdca26"
             ],
             [
              1.0,
              "#f0f921"
             ]
            ],
            "type": "heatmapgl"
           }
          ],
          "histogram": [
           {
            "marker": {
             "colorbar": {
              "outlinewidth": 0,
              "ticks": ""
             }
            },
            "type": "histogram"
           }
          ],
          "histogram2d": [
           {
            "colorbar": {
             "outlinewidth": 0,
             "ticks": ""
            },
            "colorscale": [
             [
              0.0,
              "#0d0887"
             ],
             [
              0.1111111111111111,
              "#46039f"
             ],
             [
              0.2222222222222222,
              "#7201a8"
             ],
             [
              0.3333333333333333,
              "#9c179e"
             ],
             [
              0.4444444444444444,
              "#bd3786"
             ],
             [
              0.5555555555555556,
              "#d8576b"
             ],
             [
              0.6666666666666666,
              "#ed7953"
             ],
             [
              0.7777777777777778,
              "#fb9f3a"
             ],
             [
              0.8888888888888888,
              "#fdca26"
             ],
             [
              1.0,
              "#f0f921"
             ]
            ],
            "type": "histogram2d"
           }
          ],
          "histogram2dcontour": [
           {
            "colorbar": {
             "outlinewidth": 0,
             "ticks": ""
            },
            "colorscale": [
             [
              0.0,
              "#0d0887"
             ],
             [
              0.1111111111111111,
              "#46039f"
             ],
             [
              0.2222222222222222,
              "#7201a8"
             ],
             [
              0.3333333333333333,
              "#9c179e"
             ],
             [
              0.4444444444444444,
              "#bd3786"
             ],
             [
              0.5555555555555556,
              "#d8576b"
             ],
             [
              0.6666666666666666,
              "#ed7953"
             ],
             [
              0.7777777777777778,
              "#fb9f3a"
             ],
             [
              0.8888888888888888,
              "#fdca26"
             ],
             [
              1.0,
              "#f0f921"
             ]
            ],
            "type": "histogram2dcontour"
           }
          ],
          "mesh3d": [
           {
            "colorbar": {
             "outlinewidth": 0,
             "ticks": ""
            },
            "type": "mesh3d"
           }
          ],
          "parcoords": [
           {
            "line": {
             "colorbar": {
              "outlinewidth": 0,
              "ticks": ""
             }
            },
            "type": "parcoords"
           }
          ],
          "pie": [
           {
            "automargin": true,
            "type": "pie"
           }
          ],
          "scatter": [
           {
            "marker": {
             "colorbar": {
              "outlinewidth": 0,
              "ticks": ""
             }
            },
            "type": "scatter"
           }
          ],
          "scatter3d": [
           {
            "line": {
             "colorbar": {
              "outlinewidth": 0,
              "ticks": ""
             }
            },
            "marker": {
             "colorbar": {
              "outlinewidth": 0,
              "ticks": ""
             }
            },
            "type": "scatter3d"
           }
          ],
          "scattercarpet": [
           {
            "marker": {
             "colorbar": {
              "outlinewidth": 0,
              "ticks": ""
             }
            },
            "type": "scattercarpet"
           }
          ],
          "scattergeo": [
           {
            "marker": {
             "colorbar": {
              "outlinewidth": 0,
              "ticks": ""
             }
            },
            "type": "scattergeo"
           }
          ],
          "scattergl": [
           {
            "marker": {
             "colorbar": {
              "outlinewidth": 0,
              "ticks": ""
             }
            },
            "type": "scattergl"
           }
          ],
          "scattermapbox": [
           {
            "marker": {
             "colorbar": {
              "outlinewidth": 0,
              "ticks": ""
             }
            },
            "type": "scattermapbox"
           }
          ],
          "scatterpolar": [
           {
            "marker": {
             "colorbar": {
              "outlinewidth": 0,
              "ticks": ""
             }
            },
            "type": "scatterpolar"
           }
          ],
          "scatterpolargl": [
           {
            "marker": {
             "colorbar": {
              "outlinewidth": 0,
              "ticks": ""
             }
            },
            "type": "scatterpolargl"
           }
          ],
          "scatterternary": [
           {
            "marker": {
             "colorbar": {
              "outlinewidth": 0,
              "ticks": ""
             }
            },
            "type": "scatterternary"
           }
          ],
          "surface": [
           {
            "colorbar": {
             "outlinewidth": 0,
             "ticks": ""
            },
            "colorscale": [
             [
              0.0,
              "#0d0887"
             ],
             [
              0.1111111111111111,
              "#46039f"
             ],
             [
              0.2222222222222222,
              "#7201a8"
             ],
             [
              0.3333333333333333,
              "#9c179e"
             ],
             [
              0.4444444444444444,
              "#bd3786"
             ],
             [
              0.5555555555555556,
              "#d8576b"
             ],
             [
              0.6666666666666666,
              "#ed7953"
             ],
             [
              0.7777777777777778,
              "#fb9f3a"
             ],
             [
              0.8888888888888888,
              "#fdca26"
             ],
             [
              1.0,
              "#f0f921"
             ]
            ],
            "type": "surface"
           }
          ],
          "table": [
           {
            "cells": {
             "fill": {
              "color": "#EBF0F8"
             },
             "line": {
              "color": "white"
             }
            },
            "header": {
             "fill": {
              "color": "#C8D4E3"
             },
             "line": {
              "color": "white"
             }
            },
            "type": "table"
           }
          ]
         },
         "layout": {
          "annotationdefaults": {
           "arrowcolor": "#2a3f5f",
           "arrowhead": 0,
           "arrowwidth": 1
          },
          "autotypenumbers": "strict",
          "coloraxis": {
           "colorbar": {
            "outlinewidth": 0,
            "ticks": ""
           }
          },
          "colorscale": {
           "diverging": [
            [
             0,
             "#8e0152"
            ],
            [
             0.1,
             "#c51b7d"
            ],
            [
             0.2,
             "#de77ae"
            ],
            [
             0.3,
             "#f1b6da"
            ],
            [
             0.4,
             "#fde0ef"
            ],
            [
             0.5,
             "#f7f7f7"
            ],
            [
             0.6,
             "#e6f5d0"
            ],
            [
             0.7,
             "#b8e186"
            ],
            [
             0.8,
             "#7fbc41"
            ],
            [
             0.9,
             "#4d9221"
            ],
            [
             1,
             "#276419"
            ]
           ],
           "sequential": [
            [
             0.0,
             "#0d0887"
            ],
            [
             0.1111111111111111,
             "#46039f"
            ],
            [
             0.2222222222222222,
             "#7201a8"
            ],
            [
             0.3333333333333333,
             "#9c179e"
            ],
            [
             0.4444444444444444,
             "#bd3786"
            ],
            [
             0.5555555555555556,
             "#d8576b"
            ],
            [
             0.6666666666666666,
             "#ed7953"
            ],
            [
             0.7777777777777778,
             "#fb9f3a"
            ],
            [
             0.8888888888888888,
             "#fdca26"
            ],
            [
             1.0,
             "#f0f921"
            ]
           ],
           "sequentialminus": [
            [
             0.0,
             "#0d0887"
            ],
            [
             0.1111111111111111,
             "#46039f"
            ],
            [
             0.2222222222222222,
             "#7201a8"
            ],
            [
             0.3333333333333333,
             "#9c179e"
            ],
            [
             0.4444444444444444,
             "#bd3786"
            ],
            [
             0.5555555555555556,
             "#d8576b"
            ],
            [
             0.6666666666666666,
             "#ed7953"
            ],
            [
             0.7777777777777778,
             "#fb9f3a"
            ],
            [
             0.8888888888888888,
             "#fdca26"
            ],
            [
             1.0,
             "#f0f921"
            ]
           ]
          },
          "colorway": [
           "#636efa",
           "#EF553B",
           "#00cc96",
           "#ab63fa",
           "#FFA15A",
           "#19d3f3",
           "#FF6692",
           "#B6E880",
           "#FF97FF",
           "#FECB52"
          ],
          "font": {
           "color": "#2a3f5f"
          },
          "geo": {
           "bgcolor": "white",
           "lakecolor": "white",
           "landcolor": "#E5ECF6",
           "showlakes": true,
           "showland": true,
           "subunitcolor": "white"
          },
          "hoverlabel": {
           "align": "left"
          },
          "hovermode": "closest",
          "mapbox": {
           "style": "light"
          },
          "paper_bgcolor": "white",
          "plot_bgcolor": "#E5ECF6",
          "polar": {
           "angularaxis": {
            "gridcolor": "white",
            "linecolor": "white",
            "ticks": ""
           },
           "bgcolor": "#E5ECF6",
           "radialaxis": {
            "gridcolor": "white",
            "linecolor": "white",
            "ticks": ""
           }
          },
          "scene": {
           "xaxis": {
            "backgroundcolor": "#E5ECF6",
            "gridcolor": "white",
            "gridwidth": 2,
            "linecolor": "white",
            "showbackground": true,
            "ticks": "",
            "zerolinecolor": "white"
           },
           "yaxis": {
            "backgroundcolor": "#E5ECF6",
            "gridcolor": "white",
            "gridwidth": 2,
            "linecolor": "white",
            "showbackground": true,
            "ticks": "",
            "zerolinecolor": "white"
           },
           "zaxis": {
            "backgroundcolor": "#E5ECF6",
            "gridcolor": "white",
            "gridwidth": 2,
            "linecolor": "white",
            "showbackground": true,
            "ticks": "",
            "zerolinecolor": "white"
           }
          },
          "shapedefaults": {
           "line": {
            "color": "#2a3f5f"
           }
          },
          "ternary": {
           "aaxis": {
            "gridcolor": "white",
            "linecolor": "white",
            "ticks": ""
           },
           "baxis": {
            "gridcolor": "white",
            "linecolor": "white",
            "ticks": ""
           },
           "bgcolor": "#E5ECF6",
           "caxis": {
            "gridcolor": "white",
            "linecolor": "white",
            "ticks": ""
           }
          },
          "title": {
           "x": 0.05
          },
          "xaxis": {
           "automargin": true,
           "gridcolor": "white",
           "linecolor": "white",
           "ticks": "",
           "title": {
            "standoff": 15
           },
           "zerolinecolor": "white",
           "zerolinewidth": 2
          },
          "yaxis": {
           "automargin": true,
           "gridcolor": "white",
           "linecolor": "white",
           "ticks": "",
           "title": {
            "standoff": 15
           },
           "zerolinecolor": "white",
           "zerolinewidth": 2
          }
         }
        },
        "title": {
         "text": "Contact info"
        },
        "width": 800,
        "xaxis": {
         "anchor": "y",
         "domain": [
          0.0,
          1.0
         ],
         "title": {
          "text": "frames"
         }
        },
        "xaxis2": {
         "anchor": "y2",
         "domain": [
          0.0,
          1.0
         ],
         "title": {
          "text": "frames"
         }
        },
        "xaxis3": {
         "anchor": "y3",
         "domain": [
          0.0,
          1.0
         ],
         "title": {
          "text": "frames"
         }
        },
        "xaxis4": {
         "anchor": "y4",
         "domain": [
          0.0,
          1.0
         ],
         "title": {
          "text": "frames"
         }
        },
        "xaxis5": {
         "anchor": "y5",
         "domain": [
          0.0,
          1.0
         ],
         "title": {
          "text": "frames"
         }
        },
        "yaxis": {
         "anchor": "x",
         "domain": [
          0.88,
          1.0
         ]
        },
        "yaxis2": {
         "anchor": "x2",
         "domain": [
          0.66,
          0.78
         ]
        },
        "yaxis3": {
         "anchor": "x3",
         "domain": [
          0.44,
          0.56
         ]
        },
        "yaxis4": {
         "anchor": "x4",
         "domain": [
          0.22,
          0.33999999999999997
         ]
        },
        "yaxis5": {
         "anchor": "x5",
         "domain": [
          0.0,
          0.12
         ]
        }
       }
      },
      "text/html": "<div>                            <div id=\"51361217-89a1-4155-9109-de6241dfd076\" class=\"plotly-graph-div\" style=\"height:800px; width:800px;\"></div>            <script type=\"text/javascript\">                require([\"plotly\"], function(Plotly) {                    window.PLOTLYENV=window.PLOTLYENV || {};                                    if (document.getElementById(\"51361217-89a1-4155-9109-de6241dfd076\")) {                    Plotly.newPlot(                        \"51361217-89a1-4155-9109-de6241dfd076\",                        [{\"name\": \"J20\", \"type\": \"scatter\", \"x\": [0, 1, 2, 3, 4, 5, 6, 7, 8, 9, 10, 11, 12, 13, 14, 15, 16, 17, 18, 19, 20, 21, 22, 23, 24, 25, 26, 27, 28, 29, 30, 31, 32, 33, 34, 35, 36, 37, 38, 39, 40, 41, 42, 43, 44, 45, 46, 47, 48, 49, 50, 51, 52, 53, 54, 55, 56, 57, 58, 59, 60, 61, 62, 63, 64, 65, 66, 67, 68, 69, 70, 71, 72, 73, 74, 75, 76, 77, 78, 79, 80, 81, 82, 83, 84, 85, 86, 87, 88, 89, 90, 91, 92, 93, 94, 95, 96, 97, 98, 99, 100, 101, 102, 103, 104, 105, 106, 107, 108, 109, 110, 111, 112, 113, 114, 115, 116, 117, 118, 119], \"xaxis\": \"x\", \"y\": [0.0, 0.0, 0.0, 0.0, 0.0, 0.0, 0.0, 0.0, 0.0, 0.0, 0.0, 0.0, 0.0, 0.0, 0.0, 0.0, 0.0, 0.0, 0.0, 0.0, 0.0, 0.0, 0.0, 0.0, 0.0, 0.0, 0.0, 0.0, 0.0, 0.0, 0.0, 0.0, 0.0, 0.0, 0.0, 0.0, 0.0, 0.0, 1.0, 1.0, 1.0, 1.0, 1.0, 1.0, 1.0, 1.0, 1.0, 1.0, 1.0, 1.0, 1.0, 1.0, 1.0, 0.0, 0.0, 0.0, 0.0, 0.0, 0.0, 0.0, 0.0, 0.0, 0.0, 0.0, 0.0, 0.0, 0.0, 0.0, 1.0, 1.0, 0.0, 0.0, 0.0, 0.0, 0.0, 0.0, 0.0, 0.0, 0.0, 0.0, 0.0, 0.0, 0.0, 0.0, 0.0, 0.0, 0.0, 0.0, 0.0, 0.0, 0.0, 0.0, 0.0, 0.0, 0.0, 0.0, 0.0, 0.0, 0.0, 0.0, 0.0, 0.0, 0.0, 0.0, 0.0, 0.0, 0.0, 0.0, 0.0, 0.0, 0.0, 0.0, 0.0, 0.0, 0.0, 0.0, 0.0, 0.0, 0.0, 0.0], \"yaxis\": \"y\"}, {\"name\": \"J20\", \"type\": \"scatter\", \"x\": [0, 1, 2, 3, 4, 5, 6, 7, 8, 9, 10, 11, 12, 13, 14, 15, 16, 17, 18, 19, 20, 21, 22, 23, 24, 25, 26, 27, 28, 29, 30, 31, 32, 33, 34, 35, 36, 37, 38, 39, 40, 41, 42, 43, 44, 45, 46, 47, 48, 49, 50, 51, 52, 53, 54, 55, 56, 57, 58, 59, 60, 61, 62, 63, 64, 65, 66, 67, 68, 69, 70, 71, 72, 73, 74, 75, 76, 77, 78, 79, 80, 81, 82, 83, 84, 85, 86, 87, 88, 89, 90, 91, 92, 93, 94, 95, 96, 97, 98, 99, 100, 101, 102, 103, 104, 105, 106, 107, 108, 109, 110, 111, 112, 113, 114, 115, 116, 117, 118, 119], \"xaxis\": \"x2\", \"y\": [0.0, 0.0, 0.0, 0.0, 0.0, 0.0, 0.0, 0.0, 0.0, -0.0004701492397343394, -0.0031915180377412094, -0.010889325605887328, -0.025792961390956524, -0.04890371995989893, -0.08007291090449262, -0.1182647378636614, -0.16187067258833024, -0.20900951012643454, -0.2577793656391731, -0.30644701310255273, -0.35357221988482695, -0.39807246737381463, -0.4392379153826511, -0.4767085035501524, -0.5103421302206204, -0.5399566956529244, -0.5652120761562398, -0.5857516851820554, -0.6013740488934435, -0.6121074764854242, -0.6182178085560907, -0.6201923207330811, -0.6187257015143549, -0.614666521389766, -0.6089098625900663, -0.6022942594166318, -0.5955350432265027, -0.5891888987339486, -0.5769503889981481, -0.5366769900342054, -0.44205856344467126, -0.2831537446982647, -0.06782683198635525, 0.18694309473238413, 0.46089817916848047, 0.7343218491006102, 0.9904555540527729, 1.2167744814715307, 1.4053860416479322, 1.552800485027086, 1.6592962839802292, 1.7280680741567862, 1.7643061415777483, 1.7678856775598664, 1.723764634312631, 1.612097426557586, 1.4275870447813366, 1.1815119572442336, 0.8938771657561214, 0.5875978549970824, 0.2844810759688497, 0.0027314610657061325, -0.24431241978168047, -0.4485037540051414, -0.6065498459084773, -0.7192544981060179, -0.790544076624209, -0.8264373631749768, -0.8276442238170274, -0.7796982931077355, -0.6692337490610244, -0.5124691271877505, -0.3468531304025661, -0.2033014348258308, -0.09801803579369332, -0.036302491502932646, -0.01592003000651364, -0.029958956468745503, -0.06913779200010309, -0.12356248606188328, -0.18396667558127955, -0.24249239829073033, -0.2930835297450699, -0.3315685394082294, -0.35565896221389426, -0.3650291168592503, -0.3611459734182844, -0.34666658258785665, -0.3247687302210159, -0.2986509238254883, -0.27118939534049996, -0.24473705572693147, -0.22104203717624787, -0.20124572132995702, -0.1859280122009358, -0.17518913275942594, -0.16875553167516194, -0.16609301027740184, -0.16651449108368246, -0.1690983007564549, -0.17210615547732114, -0.17275305262669102, -0.16846103490843195, -0.15821382212220036, -0.14251099486431074, -0.12271783638323429, -0.10057105214526736, -0.07782544302374789, -0.05602278359866414, -0.03636181598387938, -0.0196475223256141, -0.006298546890331164, 0.0036064848850585495, 0.010260311280960837, 0.014049457365967464, 0.015477874921479175, 0.015098800182003798, 0.0134590266257546, 0.01105744463955823, 0.00831787154469345], \"yaxis\": \"y2\"}, {\"name\": \"J20\", \"type\": \"scatter\", \"x\": [0, 1, 2, 3, 4, 5, 6, 7, 8, 9, 10, 11, 12, 13, 14, 15, 16, 17, 18, 19, 20, 21, 22, 23, 24, 25, 26, 27, 28, 29, 30, 31, 32, 33, 34, 35, 36, 37, 38, 39, 40, 41, 42, 43, 44, 45, 46, 47, 48, 49, 50, 51, 52, 53, 54, 55, 56, 57, 58, 59, 60, 61, 62, 63, 64, 65, 66, 67, 68, 69, 70, 71, 72, 73, 74, 75, 76, 77, 78, 79, 80, 81, 82, 83, 84, 85, 86, 87, 88, 89, 90, 91, 92, 93, 94, 95, 96, 97, 98, 99, 100, 101, 102, 103, 104, 105, 106, 107, 108, 109, 110, 111, 112, 113, 114, 115, 116, 117, 118, 119], \"xaxis\": \"x3\", \"y\": [0.41968219415135544, 0.4044306979153176, 0.38264032117812885, 0.35460733248712917, 0.32071287682834837, 0.2814177934640908, 0.2372563502230566, 0.1888289794334819, 0.13679411426374932, 0.08185923646604701, 0.024771257240659456, -0.03369363799443428, -0.09274054285507256, -0.1515666377783367, -0.2093721053999471, -0.26537100511285905, -0.31880195895327357, -0.36893850352552693, -0.41509896721796147, -0.45665573841616414, -0.49304379870014525, -0.5237684050055295, -0.5484118162997739, -0.5666389733154916, -0.5782020541175088, -0.5829438435647881, -0.5807998708549988, -0.5717992860890284, -0.5560644639374017, -0.5338093397972777, -0.5053365010621369, -0.47103307305213493, -0.43136545554125894, -0.3868729814450481, -0.33816058388728654, -0.28589057134643425, -0.23077362270939983, -0.17355912466662343, -0.11502498282415982, -0.055967045063971085, 0.0028117190443868317, 0.060512135660698074, 0.11634969248313362, 0.16956520521459134, 0.21943513966183356, 0.26528144912503426, 0.3064807933256203, 0.3424730135290792, 0.37276874863239584, 0.39695608866549914, 0.41470617524369724, 0.4257776728256587, 0.4300200499843666, 0.4273756260778919, 0.4178803554928323, 0.4016633387976071, 0.37894506745211276, 0.35003442593920087, 0.31532449207790103, 0.2752871926186037, 0.23046688678434005, 0.18147296499827684, 0.12897156342736202, 0.07367650699368425, 0.01633960399511218, -0.04225957570752852, -0.10132429995787395, -0.16005150691519704, -0.2176427237258888, -0.27331492280167713, -0.32631116809935706, -0.37591090665198434, -0.4214397654247719, -0.46227872029466877, -0.497872512489415, -0.5277371980536106, -0.5514667276969847, -0.5687384675632579, -0.5793175858575542, -0.5830602456904527, -0.5799155607278044, -0.5699262870567097, -0.553228241860837, -0.5300484568089479, -0.5007020912637197, -0.4655881472798047, -0.42518404465131465, -0.38003912976802035, -0.3307672065358188, -0.2780381909133323, -0.22256900253208384, -0.1651138172405236, -0.10645381310127897, -0.047386549258136006, 0.011284877919108871, 0.06876275397559103, 0.12426559233818682, 0.17703875964312957, 0.22636473595928006, 0.27157287040595157, 0.3120484995249563, 0.3472413044307434, 0.376672793112275, 0.3999428061550122, 0.4167349574292476, 0.4268209357715378, 0.43006360917228015, 0.4264188892639571, 0.4159363307599049, 0.3987584576934551, 0.3751188256181056, 0.34533884611563403, 0.3098234167870967, 0.269055416142683, 0.22358913823956086, 0.17404275633236274, 0.12108991800280183, 0.06545058604356518, 0.007881249626608869, -0.05083536115224151], \"yaxis\": \"y3\"}, {\"alignmentgroup\": \"True\", \"hovertemplate\": \"x=%{x}<br>y=%{y}<extra></extra>\", \"legendgroup\": \"\", \"marker\": {\"color\": \"#636efa\"}, \"name\": \"\", \"offsetgroup\": \"\", \"orientation\": \"v\", \"showlegend\": false, \"textposition\": \"auto\", \"type\": \"bar\", \"x\": [0, 1, 2, 3, 4, 5, 6, 7, 8, 9, 10, 11, 12, 13, 14, 15, 16, 17, 18, 19, 20, 21, 22, 23, 24, 25, 26, 27, 28, 29, 30, 31, 32, 33, 34, 35, 36, 37, 38, 39, 40, 41, 42, 43, 44, 45, 46, 47, 48, 49, 50, 51, 52, 53, 54, 55, 56, 57, 58, 59, 60, 61, 62, 63, 64, 65, 66, 67, 68, 69, 70, 71, 72, 73, 74, 75, 76, 77, 78, 79, 80, 81, 82, 83, 84, 85, 86, 87, 88, 89, 90, 91, 92, 93, 94, 95, 96, 97, 98, 99, 100, 101, 102, 103, 104, 105, 106, 107, 108, 109, 110, 111, 112, 113, 114, 115, 116, 117, 118, 119], \"xaxis\": \"x3\", \"y\": [0.5065666551449016, 0.5065666551449016, 0.5065666551449016, 0.5065666551449016, 0.5065666551449016, 0.5065666551449016, 0.5065666551449016, 0.5065666551449016, 0.5065666551449016, 0.5065666551449016, 0.5065666551449016, 0.5065666551449016, 0.5065666551449016, 0.5065666551449016, 0.5065666551449016, 0.5065666551449016, 0.5065666551449016, 0.5065666551449016, 0.5065666551449016, 0.5065666551449016, 0.5065666551449016, 0.5065666551449016, 0.5065666551449016, 0.5065666551449016, 0.5065666551449016, 0.5065666551449016, 0.5065666551449016, 0.5065666551449016, 0.5065666551449016, 0.5065666551449016, 0.5065666551449016, 0.5065666551449016, 0.5065666551449016, 0.5065666551449016, 0.5065666551449016, 0.5065666551449016, 0.5065666551449016, 0.5065666551449016, 0.5065666551449016, 0.5065666551449016, 0.5065666551449016, 0.5065666551449016, 0.5065666551449016, 0.5065666551449016, 0.5065666551449016, 0.5065666551449016, 0.5065666551449016, 0.5065666551449016, 0.5065666551449016, 0.5065666551449016, 0.5065666551449016, 0.5065666551449016, 0.5065666551449016, 0.5065666551449016, 0.5065666551449016, 0.5065666551449016, 0.5065666551449016, 0.5065666551449016, 0.5065666551449016, 0.5065666551449016, 0.5065666551449016, 0.5065666551449016, 0.5065666551449016, 0.5065666551449016, 0.5065666551449016, 0.5065666551449016, 0.5065666551449016, 0.5065666551449016, 0.5065666551449016, 0.5065666551449016, 0.5065666551449016, 0.5065666551449016, 0.5065666551449016, 0.5065666551449016, 0.5065666551449016, 0.5065666551449016, 0.5065666551449016, 0.5065666551449016, 0.5065666551449016, 0.5065666551449016, 0.5065666551449016, 0.5065666551449016, 0.5065666551449016, 0.5065666551449016, 0.5065666551449016, 0.5065666551449016, 0.5065666551449016, 0.5065666551449016, 0.5065666551449016, 0.5065666551449016, 0.5065666551449016, 0.5065666551449016, 0.5065666551449016, 0.5065666551449016, 0.5065666551449016, 0.5065666551449016, 0.5065666551449016, 0.5065666551449016, 0.5065666551449016, 0.5065666551449016, 0.5065666551449016, 0.5065666551449016, 0.5065666551449016, 0.5065666551449016, 0.5065666551449016, 0.5065666551449016, 0.5065666551449016, 0.5065666551449016, 0.5065666551449016, 0.5065666551449016, 0.5065666551449016, 0.5065666551449016, 0.5065666551449016, 0.5065666551449016, 0.5065666551449016, 0.5065666551449016, 0.5065666551449016, 0.5065666551449016, 0.5065666551449016, 0.5065666551449016], \"yaxis\": \"y3\"}, {\"name\": \"J20\", \"type\": \"scatter\", \"x\": [0, 1, 2, 3, 4, 5, 6, 7, 8, 9, 10, 11, 12, 13, 14, 15, 16, 17, 18, 19, 20, 21, 22, 23, 24, 25, 26, 27, 28, 29, 30, 31, 32, 33, 34, 35, 36, 37, 38, 39, 40, 41, 42, 43, 44, 45, 46, 47, 48, 49, 50, 51, 52, 53, 54, 55, 56, 57, 58, 59, 60, 61, 62, 63, 64, 65, 66, 67, 68, 69, 70, 71, 72, 73, 74, 75, 76, 77, 78, 79, 80, 81, 82, 83, 84, 85, 86, 87, 88, 89, 90, 91, 92, 93, 94, 95, 96, 97, 98, 99, 100, 101, 102, 103, 104, 105, 106, 107, 108, 109, 110, 111, 112, 113, 114, 115, 116, 117, 118, 119], \"xaxis\": \"x4\", \"y\": [0.0, -0.0, -0.0, -0.0, -0.0, -0.0, -0.0, -0.0, -0.0, -0.0, -0.0, -0.0, -0.0, 0.0, 0.0, 0.0, 0.0, 0.0, 0.0, 0.0, 0.0, 0.0, 0.0, 0.0, 0.0, 0.0, 0.0, 0.0, 0.0, 0.0, 0.0, 0.0, 0.0, 0.0, 0.0, 0.0, 0.0, 0.0, 0.0, -0.0, -0.0, -0.0, -0.0, -0.0, -0.0, -0.0, -0.0, -0.0, -0.0, -0.0, -0.0, -0.46992354089719623, -0.37588774545915643, -0.2645286664454651, -0.2719903387408516, -0.48374203549502337, -0.4319578212062066, -1.0568133531347443, -0.7363151955845187, -1.039282126111591, -0.05814788136955253, -0.739677808588439, -0.6596298729606596, -1.0430127741507849, -0.04935986760978595, -0.2069109184266035, -0.000993212815946182, 0.33026639759708937, 1.0281017475932015, 1.5884701597876656, 1.4340228673086008, 1.580659758208286, 1.475605715597387, 2.1457664957658578, 7.197356474223148, 6.471341223639251, 7.856194370992735, 1.8834052926240692, 5.71087393781835, 1.6673295285804763, 18.112158100030072, 2.2856861221687343, 10.84082848944963, 6.197320779263124, 2.5614759195861683, 3.553852987580934, 1.5430177747224367, 2.4216710545669953, 1.7410829967732322, 0.2622815554185821, 0.27934517631040573, 0.9035109078654977, 0.1542691289484087, -0.31283365814627995, -1.2050484748137358, -0.26745619303076285, -0.6733304345786563, -1.060056805005965, -1.2223048714295333, -3.032533505580369, -0.17728102925629252, -1.118964049611937, -1.213336629102663, -1.72563099974422, -3.392991100838498, -2.438053076500817, -0.7581854939107854, -1.5432100862140838, -5.7583507656990776, -3.6951044994056503, -6.200109101834524, -3.553253667517258, -2.315699141117976, -2.9836105419545356, -7.612895858009584, -2.887330303124675, -4.155834257926842, -0.6487119348231494, -0.8325843797919326, -0.3239910874602219], \"yaxis\": \"y4\"}, {\"name\": \"J20\", \"type\": \"scatter\", \"x\": [0, 1, 2, 3, 4, 5, 6, 7, 8, 9, 10, 11, 12, 13, 14, 15, 16, 17, 18, 19, 20, 21, 22, 23, 24, 25, 26, 27, 28, 29, 30, 31, 32, 33, 34, 35, 36, 37, 38, 39, 40, 41, 42, 43, 44, 45, 46, 47, 48, 49, 50, 51, 52, 53, 54, 55, 56, 57, 58, 59, 60, 61, 62, 63, 64, 65, 66, 67, 68, 69, 70, 71, 72, 73, 74, 75, 76, 77, 78, 79, 80, 81, 82, 83, 84, 85, 86, 87, 88, 89, 90, 91, 92, 93, 94, 95, 96, 97, 98, 99, 100, 101, 102, 103, 104, 105, 106, 107, 108, 109, 110, 111, 112, 113, 114, 115, 116, 117, 118, 119], \"xaxis\": \"x4\", \"y\": [0.0, 0.0, 0.0, 0.0, 0.0, 0.0, 0.0, 0.0, 0.0, 0.0, 0.0, 0.0, 0.0, 0.0, 0.0, 0.0, 0.0, 0.0, 0.0, 0.0, 0.0, 0.0, 0.0, 0.0, 0.0, 0.0, -0.0, -0.0, -0.0, -0.0, -0.0, -0.0, -0.0, -0.0, -0.0, -0.0, -0.0, -0.0, -0.0, -0.0, -0.0, -0.0, -0.0, -0.0, -0.0, -0.0, -0.0, -0.0, -0.0, -0.0, -0.0, -0.06154138800901593, -0.005093595642658385, 0.027375119134240327, 0.06076197073952163, 0.1691919937974701, 0.21032804185098358, 0.677081032952028, 0.6033455999115463, 1.0768198092653014, 0.07633257015597203, 1.2500092027798437, 1.4864551897186722, 3.3600669369599556, 0.2647633132676884, 3.054113575855909, 0.0202433131700934, 1.9749590697570347, 3.543778185159823, 3.767243301493266, 2.5297273840858634, 2.157153146810033, 1.5870042017676953, 1.8260923314815676, 4.802548676225412, 3.3014625671796014, 2.913032879923452, 0.45772629828610534, 0.6986957502535227, 0.008454196068540675, -2.0297299224125487, -0.5310046210304402, -3.895131851892332, -3.082867873656763, -1.671894697926053, -2.9627927691924976, -1.6261213971909805, -3.2355567527106603, -3.0000771513532603, -0.6048248466662044, -0.9276199161773216, -5.0853453121857966, -2.6043803985057186, -5.434210064466001, -6.84856950019607, -0.8935139815243893, -1.559803614071136, -1.8336044655043073, -1.6387706865720981, -3.206511461674275, -0.14829640298144187, -0.7330101617085112, -0.6060930855905747, -0.6232616880621873, -0.7941943300676609, -0.27732131438420904, 0.0025847387075151962, 0.18620205856924552, 1.3893313896271096, 1.3631454245968597, 3.15011841154848, 2.3624419162216936, 1.9640844406519102, 3.1981821220196056, 10.353326196146647, 5.073807182885305, 9.810489621423969, 2.222250558525595, 4.928422947609593, 6.386672878823286], \"yaxis\": \"y4\"}, {\"name\": \"J20\", \"type\": \"scatter\", \"x\": [0, 1, 2, 3, 4, 5, 6, 7, 8, 9, 10, 11, 12, 13, 14, 15, 16, 17, 18, 19, 20, 21, 22, 23, 24, 25, 26, 27, 28, 29, 30, 31, 32, 33, 34, 35, 36, 37, 38, 39, 40, 41, 42, 43, 44, 45, 46, 47, 48, 49, 50, 51, 52, 53, 54, 55, 56, 57, 58, 59, 60, 61, 62, 63, 64, 65, 66, 67, 68, 69, 70, 71, 72, 73, 74, 75, 76, 77, 78, 79, 80, 81, 82, 83, 84, 85, 86, 87, 88, 89, 90, 91, 92, 93, 94, 95, 96, 97, 98, 99, 100, 101, 102, 103, 104, 105, 106, 107, 108, 109, 110, 111, 112, 113, 114, 115, 116, 117, 118, 119], \"xaxis\": \"x5\", \"y\": [0.0, 0.0, 0.0, 0.0, 0.0, 0.0, 0.0, 0.0, 0.0, 0.0, 0.0, 0.0, 0.0, 0.0, 0.0, 0.0, 0.0, 0.0, 0.0, 0.0, 0.0, 0.0, 0.0, 0.0, 0.0, 0.0, 0.0, 0.0, 0.0, 0.0, 0.0, 0.0, 0.0, 0.0, 0.0, 0.0, 0.0, 0.0, 0.0, 0.0, 0.0, 0.0, 0.0, 0.0, 0.0, 0.0, 0.0, 0.0, 0.0, 0.0, 0.0, 0.10915408283472061, 0.08658012002706528, 0.0612499937415123, 0.06418727338314056, 0.11803048849105835, 0.11065269261598587, 0.2890685498714447, 0.2192445546388626, 0.344675213098526, 0.022100340574979782, 0.33452221751213074, 0.37454596161842346, 0.8102967143058777, 0.062029313296079636, 0.7050172090530396, 0.24672147631645203, 0.46117672324180603, 0.8498350977897644, 0.9416250586509705, 0.6697321534156799, 0.6159247756004333, 0.4990958273410797, 0.6489347815513611, 1.9927997589111328, 1.6731938123703003, 1.9297714233398438, 0.446400910615921, 1.3251008987426758, 0.3840140998363495, 4.197593688964844, 0.540444552898407, 2.6530683040618896, 1.5941791534423828, 0.7044891715049744, 1.0656346082687378, 0.51629239320755, 0.9308021068572998, 0.7988882660865784, 0.1518334150314331, 0.22312085330486298, 1.1895678043365479, 0.6008763909339905, 1.2536462545394897, 1.6015520095825195, 0.21481016278266907, 0.39128705859184265, 0.4877994954586029, 0.4708552658557892, 1.016464114189148, 0.0532321073114872, 0.30808600783348083, 0.31237345933914185, 0.4225652813911438, 0.8025748133659363, 0.5651383996009827, 0.17462167143821716, 0.35800060629844666, 1.3642836809158325, 0.9070965647697449, 1.6017102003097534, 0.9827346801757812, 0.699338972568512, 1.0073515176773071, 2.9597580432891846, 1.3445321321487427, 2.4538609981536865, 0.5331766605377197, 1.1511675119400024, 1.4728310108184814], \"yaxis\": \"y5\"}],                        {\"annotations\": [{\"font\": {\"size\": 16}, \"showarrow\": false, \"text\": \"Original\", \"x\": 0.5, \"xanchor\": \"center\", \"xref\": \"paper\", \"y\": 1.0, \"yanchor\": \"bottom\", \"yref\": \"paper\"}, {\"font\": {\"size\": 16}, \"showarrow\": false, \"text\": \"Normalised\", \"x\": 0.5, \"xanchor\": \"center\", \"xref\": \"paper\", \"y\": 0.78, \"yanchor\": \"bottom\", \"yref\": \"paper\"}, {\"font\": {\"size\": 16}, \"showarrow\": false, \"text\": \"Optimised\", \"x\": 0.5, \"xanchor\": \"center\", \"xref\": \"paper\", \"y\": 0.56, \"yanchor\": \"bottom\", \"yref\": \"paper\"}, {\"font\": {\"size\": 16}, \"showarrow\": false, \"text\": \"Local phase vector\", \"x\": 0.5, \"xanchor\": \"center\", \"xref\": \"paper\", \"y\": 0.33999999999999997, \"yanchor\": \"bottom\", \"yref\": \"paper\"}, {\"font\": {\"size\": 16}, \"showarrow\": false, \"text\": \"Velocity Magnitude\", \"x\": 0.5, \"xanchor\": \"center\", \"xref\": \"paper\", \"y\": 0.12, \"yanchor\": \"bottom\", \"yref\": \"paper\"}], \"height\": 800, \"template\": {\"data\": {\"bar\": [{\"error_x\": {\"color\": \"#2a3f5f\"}, \"error_y\": {\"color\": \"#2a3f5f\"}, \"marker\": {\"line\": {\"color\": \"#E5ECF6\", \"width\": 0.5}}, \"type\": \"bar\"}], \"barpolar\": [{\"marker\": {\"line\": {\"color\": \"#E5ECF6\", \"width\": 0.5}}, \"type\": \"barpolar\"}], \"carpet\": [{\"aaxis\": {\"endlinecolor\": \"#2a3f5f\", \"gridcolor\": \"white\", \"linecolor\": \"white\", \"minorgridcolor\": \"white\", \"startlinecolor\": \"#2a3f5f\"}, \"baxis\": {\"endlinecolor\": \"#2a3f5f\", \"gridcolor\": \"white\", \"linecolor\": \"white\", \"minorgridcolor\": \"white\", \"startlinecolor\": \"#2a3f5f\"}, \"type\": \"carpet\"}], \"choropleth\": [{\"colorbar\": {\"outlinewidth\": 0, \"ticks\": \"\"}, \"type\": \"choropleth\"}], \"contour\": [{\"colorbar\": {\"outlinewidth\": 0, \"ticks\": \"\"}, \"colorscale\": [[0.0, \"#0d0887\"], [0.1111111111111111, \"#46039f\"], [0.2222222222222222, \"#7201a8\"], [0.3333333333333333, \"#9c179e\"], [0.4444444444444444, \"#bd3786\"], [0.5555555555555556, \"#d8576b\"], [0.6666666666666666, \"#ed7953\"], [0.7777777777777778, \"#fb9f3a\"], [0.8888888888888888, \"#fdca26\"], [1.0, \"#f0f921\"]], \"type\": \"contour\"}], \"contourcarpet\": [{\"colorbar\": {\"outlinewidth\": 0, \"ticks\": \"\"}, \"type\": \"contourcarpet\"}], \"heatmap\": [{\"colorbar\": {\"outlinewidth\": 0, \"ticks\": \"\"}, \"colorscale\": [[0.0, \"#0d0887\"], [0.1111111111111111, \"#46039f\"], [0.2222222222222222, \"#7201a8\"], [0.3333333333333333, \"#9c179e\"], [0.4444444444444444, \"#bd3786\"], [0.5555555555555556, \"#d8576b\"], [0.6666666666666666, \"#ed7953\"], [0.7777777777777778, \"#fb9f3a\"], [0.8888888888888888, \"#fdca26\"], [1.0, \"#f0f921\"]], \"type\": \"heatmap\"}], \"heatmapgl\": [{\"colorbar\": {\"outlinewidth\": 0, \"ticks\": \"\"}, \"colorscale\": [[0.0, \"#0d0887\"], [0.1111111111111111, \"#46039f\"], [0.2222222222222222, \"#7201a8\"], [0.3333333333333333, \"#9c179e\"], [0.4444444444444444, \"#bd3786\"], [0.5555555555555556, \"#d8576b\"], [0.6666666666666666, \"#ed7953\"], [0.7777777777777778, \"#fb9f3a\"], [0.8888888888888888, \"#fdca26\"], [1.0, \"#f0f921\"]], \"type\": \"heatmapgl\"}], \"histogram\": [{\"marker\": {\"colorbar\": {\"outlinewidth\": 0, \"ticks\": \"\"}}, \"type\": \"histogram\"}], \"histogram2d\": [{\"colorbar\": {\"outlinewidth\": 0, \"ticks\": \"\"}, \"colorscale\": [[0.0, \"#0d0887\"], [0.1111111111111111, \"#46039f\"], [0.2222222222222222, \"#7201a8\"], [0.3333333333333333, \"#9c179e\"], [0.4444444444444444, \"#bd3786\"], [0.5555555555555556, \"#d8576b\"], [0.6666666666666666, \"#ed7953\"], [0.7777777777777778, \"#fb9f3a\"], [0.8888888888888888, \"#fdca26\"], [1.0, \"#f0f921\"]], \"type\": \"histogram2d\"}], \"histogram2dcontour\": [{\"colorbar\": {\"outlinewidth\": 0, \"ticks\": \"\"}, \"colorscale\": [[0.0, \"#0d0887\"], [0.1111111111111111, \"#46039f\"], [0.2222222222222222, \"#7201a8\"], [0.3333333333333333, \"#9c179e\"], [0.4444444444444444, \"#bd3786\"], [0.5555555555555556, \"#d8576b\"], [0.6666666666666666, \"#ed7953\"], [0.7777777777777778, \"#fb9f3a\"], [0.8888888888888888, \"#fdca26\"], [1.0, \"#f0f921\"]], \"type\": \"histogram2dcontour\"}], \"mesh3d\": [{\"colorbar\": {\"outlinewidth\": 0, \"ticks\": \"\"}, \"type\": \"mesh3d\"}], \"parcoords\": [{\"line\": {\"colorbar\": {\"outlinewidth\": 0, \"ticks\": \"\"}}, \"type\": \"parcoords\"}], \"pie\": [{\"automargin\": true, \"type\": \"pie\"}], \"scatter\": [{\"marker\": {\"colorbar\": {\"outlinewidth\": 0, \"ticks\": \"\"}}, \"type\": \"scatter\"}], \"scatter3d\": [{\"line\": {\"colorbar\": {\"outlinewidth\": 0, \"ticks\": \"\"}}, \"marker\": {\"colorbar\": {\"outlinewidth\": 0, \"ticks\": \"\"}}, \"type\": \"scatter3d\"}], \"scattercarpet\": [{\"marker\": {\"colorbar\": {\"outlinewidth\": 0, \"ticks\": \"\"}}, \"type\": \"scattercarpet\"}], \"scattergeo\": [{\"marker\": {\"colorbar\": {\"outlinewidth\": 0, \"ticks\": \"\"}}, \"type\": \"scattergeo\"}], \"scattergl\": [{\"marker\": {\"colorbar\": {\"outlinewidth\": 0, \"ticks\": \"\"}}, \"type\": \"scattergl\"}], \"scattermapbox\": [{\"marker\": {\"colorbar\": {\"outlinewidth\": 0, \"ticks\": \"\"}}, \"type\": \"scattermapbox\"}], \"scatterpolar\": [{\"marker\": {\"colorbar\": {\"outlinewidth\": 0, \"ticks\": \"\"}}, \"type\": \"scatterpolar\"}], \"scatterpolargl\": [{\"marker\": {\"colorbar\": {\"outlinewidth\": 0, \"ticks\": \"\"}}, \"type\": \"scatterpolargl\"}], \"scatterternary\": [{\"marker\": {\"colorbar\": {\"outlinewidth\": 0, \"ticks\": \"\"}}, \"type\": \"scatterternary\"}], \"surface\": [{\"colorbar\": {\"outlinewidth\": 0, \"ticks\": \"\"}, \"colorscale\": [[0.0, \"#0d0887\"], [0.1111111111111111, \"#46039f\"], [0.2222222222222222, \"#7201a8\"], [0.3333333333333333, \"#9c179e\"], [0.4444444444444444, \"#bd3786\"], [0.5555555555555556, \"#d8576b\"], [0.6666666666666666, \"#ed7953\"], [0.7777777777777778, \"#fb9f3a\"], [0.8888888888888888, \"#fdca26\"], [1.0, \"#f0f921\"]], \"type\": \"surface\"}], \"table\": [{\"cells\": {\"fill\": {\"color\": \"#EBF0F8\"}, \"line\": {\"color\": \"white\"}}, \"header\": {\"fill\": {\"color\": \"#C8D4E3\"}, \"line\": {\"color\": \"white\"}}, \"type\": \"table\"}]}, \"layout\": {\"annotationdefaults\": {\"arrowcolor\": \"#2a3f5f\", \"arrowhead\": 0, \"arrowwidth\": 1}, \"autotypenumbers\": \"strict\", \"coloraxis\": {\"colorbar\": {\"outlinewidth\": 0, \"ticks\": \"\"}}, \"colorscale\": {\"diverging\": [[0, \"#8e0152\"], [0.1, \"#c51b7d\"], [0.2, \"#de77ae\"], [0.3, \"#f1b6da\"], [0.4, \"#fde0ef\"], [0.5, \"#f7f7f7\"], [0.6, \"#e6f5d0\"], [0.7, \"#b8e186\"], [0.8, \"#7fbc41\"], [0.9, \"#4d9221\"], [1, \"#276419\"]], \"sequential\": [[0.0, \"#0d0887\"], [0.1111111111111111, \"#46039f\"], [0.2222222222222222, \"#7201a8\"], [0.3333333333333333, \"#9c179e\"], [0.4444444444444444, \"#bd3786\"], [0.5555555555555556, \"#d8576b\"], [0.6666666666666666, \"#ed7953\"], [0.7777777777777778, \"#fb9f3a\"], [0.8888888888888888, \"#fdca26\"], [1.0, \"#f0f921\"]], \"sequentialminus\": [[0.0, \"#0d0887\"], [0.1111111111111111, \"#46039f\"], [0.2222222222222222, \"#7201a8\"], [0.3333333333333333, \"#9c179e\"], [0.4444444444444444, \"#bd3786\"], [0.5555555555555556, \"#d8576b\"], [0.6666666666666666, \"#ed7953\"], [0.7777777777777778, \"#fb9f3a\"], [0.8888888888888888, \"#fdca26\"], [1.0, \"#f0f921\"]]}, \"colorway\": [\"#636efa\", \"#EF553B\", \"#00cc96\", \"#ab63fa\", \"#FFA15A\", \"#19d3f3\", \"#FF6692\", \"#B6E880\", \"#FF97FF\", \"#FECB52\"], \"font\": {\"color\": \"#2a3f5f\"}, \"geo\": {\"bgcolor\": \"white\", \"lakecolor\": \"white\", \"landcolor\": \"#E5ECF6\", \"showlakes\": true, \"showland\": true, \"subunitcolor\": \"white\"}, \"hoverlabel\": {\"align\": \"left\"}, \"hovermode\": \"closest\", \"mapbox\": {\"style\": \"light\"}, \"paper_bgcolor\": \"white\", \"plot_bgcolor\": \"#E5ECF6\", \"polar\": {\"angularaxis\": {\"gridcolor\": \"white\", \"linecolor\": \"white\", \"ticks\": \"\"}, \"bgcolor\": \"#E5ECF6\", \"radialaxis\": {\"gridcolor\": \"white\", \"linecolor\": \"white\", \"ticks\": \"\"}}, \"scene\": {\"xaxis\": {\"backgroundcolor\": \"#E5ECF6\", \"gridcolor\": \"white\", \"gridwidth\": 2, \"linecolor\": \"white\", \"showbackground\": true, \"ticks\": \"\", \"zerolinecolor\": \"white\"}, \"yaxis\": {\"backgroundcolor\": \"#E5ECF6\", \"gridcolor\": \"white\", \"gridwidth\": 2, \"linecolor\": \"white\", \"showbackground\": true, \"ticks\": \"\", \"zerolinecolor\": \"white\"}, \"zaxis\": {\"backgroundcolor\": \"#E5ECF6\", \"gridcolor\": \"white\", \"gridwidth\": 2, \"linecolor\": \"white\", \"showbackground\": true, \"ticks\": \"\", \"zerolinecolor\": \"white\"}}, \"shapedefaults\": {\"line\": {\"color\": \"#2a3f5f\"}}, \"ternary\": {\"aaxis\": {\"gridcolor\": \"white\", \"linecolor\": \"white\", \"ticks\": \"\"}, \"baxis\": {\"gridcolor\": \"white\", \"linecolor\": \"white\", \"ticks\": \"\"}, \"bgcolor\": \"#E5ECF6\", \"caxis\": {\"gridcolor\": \"white\", \"linecolor\": \"white\", \"ticks\": \"\"}}, \"title\": {\"x\": 0.05}, \"xaxis\": {\"automargin\": true, \"gridcolor\": \"white\", \"linecolor\": \"white\", \"ticks\": \"\", \"title\": {\"standoff\": 15}, \"zerolinecolor\": \"white\", \"zerolinewidth\": 2}, \"yaxis\": {\"automargin\": true, \"gridcolor\": \"white\", \"linecolor\": \"white\", \"ticks\": \"\", \"title\": {\"standoff\": 15}, \"zerolinecolor\": \"white\", \"zerolinewidth\": 2}}}, \"title\": {\"text\": \"Contact info\"}, \"width\": 800, \"xaxis\": {\"anchor\": \"y\", \"domain\": [0.0, 1.0], \"title\": {\"text\": \"frames\"}}, \"xaxis2\": {\"anchor\": \"y2\", \"domain\": [0.0, 1.0], \"title\": {\"text\": \"frames\"}}, \"xaxis3\": {\"anchor\": \"y3\", \"domain\": [0.0, 1.0], \"title\": {\"text\": \"frames\"}}, \"xaxis4\": {\"anchor\": \"y4\", \"domain\": [0.0, 1.0], \"title\": {\"text\": \"frames\"}}, \"xaxis5\": {\"anchor\": \"y5\", \"domain\": [0.0, 1.0], \"title\": {\"text\": \"frames\"}}, \"yaxis\": {\"anchor\": \"x\", \"domain\": [0.88, 1.0]}, \"yaxis2\": {\"anchor\": \"x2\", \"domain\": [0.66, 0.78]}, \"yaxis3\": {\"anchor\": \"x3\", \"domain\": [0.44, 0.56]}, \"yaxis4\": {\"anchor\": \"x4\", \"domain\": [0.22, 0.33999999999999997]}, \"yaxis5\": {\"anchor\": \"x5\", \"domain\": [0.0, 0.12]}},                        {\"responsive\": true}                    ).then(function(){\n                            \nvar gd = document.getElementById('51361217-89a1-4155-9109-de6241dfd076');\nvar x = new MutationObserver(function (mutations, observer) {{\n        var display = window.getComputedStyle(gd).display;\n        if (!display || display === 'none') {{\n            console.log([gd, 'removed!']);\n            Plotly.purge(gd);\n            observer.disconnect();\n        }}\n}});\n\n// Listen for the removal of the full notebook cells\nvar notebookContainer = gd.closest('#notebook-container');\nif (notebookContainer) {{\n    x.observe(notebookContainer, {childList: true});\n}}\n\n// Listen for the clearing of the current output cell\nvar outputEl = gd.closest('.output');\nif (outputEl) {{\n    x.observe(outputEl, {childList: true});\n}}\n\n                        })                };                });            </script>        </div>"
     },
     "metadata": {},
     "output_type": "display_data"
    }
   ],
   "source": [
    "plot_contact_single(cO_20, cN_20, cOpt_20, cLocal_20, cAmp_20, cVel_20, i=20)\n",
    "\n"
   ],
   "metadata": {
    "collapsed": false,
    "pycharm": {
     "name": "#%%\n"
    }
   }
  },
  {
   "cell_type": "code",
   "execution_count": 265,
   "outputs": [],
   "source": [
    "cO_6 = cInfo2[6]\n",
    "cN_6 = cNormalised2[6]\n",
    "cOpt_6 = cOpt2[6]\n",
    "cAmp_6 = cAmp2[6]\n",
    "cVel_6 = cVel2[6]\n",
    "cLocal_6 = [cLocalPhase2[0][6], cLocalPhase2[1][6]]\n",
    "cO_10 = cInfo2[10]\n",
    "cN_10 = cNormalised2[10]\n",
    "cOpt_10 = cOpt2[10]\n",
    "cAmp_10 = cAmp2[10]\n",
    "cVel_10 = cVel2[10]\n",
    "cLocal_10 = [cLocalPhase2[0][10], cLocalPhase2[1][10]]"
   ],
   "metadata": {
    "collapsed": false,
    "pycharm": {
     "name": "#%%\n"
    }
   }
  },
  {
   "cell_type": "code",
   "execution_count": 266,
   "outputs": [
    {
     "data": {
      "application/vnd.plotly.v1+json": {
       "config": {
        "plotlyServerURL": "https://plot.ly"
       },
       "data": [
        {
         "name": "J6",
         "type": "scatter",
         "x": [
          0,
          1,
          2,
          3,
          4,
          5,
          6,
          7,
          8,
          9,
          10,
          11,
          12,
          13,
          14,
          15,
          16,
          17,
          18,
          19,
          20,
          21,
          22,
          23,
          24,
          25,
          26,
          27,
          28,
          29,
          30,
          31,
          32,
          33,
          34,
          35,
          36,
          37,
          38,
          39,
          40,
          41,
          42,
          43,
          44,
          45,
          46,
          47,
          48,
          49,
          50,
          51,
          52,
          53,
          54,
          55,
          56,
          57,
          58,
          59,
          60,
          61,
          62,
          63,
          64,
          65,
          66,
          67,
          68,
          69,
          70,
          71,
          72,
          73,
          74,
          75,
          76,
          77,
          78,
          79,
          80,
          81,
          82,
          83,
          84,
          85,
          86,
          87,
          88,
          89,
          90,
          91,
          92,
          93,
          94,
          95,
          96,
          97,
          98,
          99,
          100,
          101,
          102,
          103,
          104,
          105,
          106,
          107,
          108,
          109,
          110,
          111,
          112,
          113,
          114,
          115,
          116,
          117,
          118,
          119
         ],
         "xaxis": "x",
         "y": [
          0.0,
          0.0,
          0.0,
          0.0,
          0.0,
          0.0,
          0.0,
          0.0,
          0.0,
          0.0,
          0.0,
          0.0,
          0.0,
          0.0,
          0.0,
          0.0,
          0.0,
          0.0,
          0.0,
          0.0,
          0.0,
          0.0,
          0.0,
          0.0,
          0.0,
          0.0,
          0.0,
          0.0,
          0.0,
          0.0,
          0.0,
          0.0,
          0.0,
          0.0,
          0.0,
          0.0,
          0.0,
          0.0,
          0.0,
          1.0,
          1.0,
          1.0,
          1.0,
          1.0,
          1.0,
          1.0,
          1.0,
          1.0,
          1.0,
          1.0,
          1.0,
          1.0,
          1.0,
          1.0,
          1.0,
          1.0,
          1.0,
          1.0,
          1.0,
          1.0,
          1.0,
          1.0,
          1.0,
          0.0,
          0.0,
          0.0,
          0.0,
          0.0,
          0.0,
          0.0,
          0.0,
          0.0,
          0.0,
          0.0,
          0.0,
          0.0,
          0.0,
          0.0,
          0.0,
          0.0,
          0.0,
          0.0,
          0.0,
          0.0,
          0.0,
          0.0,
          0.0,
          0.0,
          0.0,
          0.0,
          0.0,
          0.0,
          0.0,
          0.0,
          0.0,
          0.0,
          0.0,
          0.0,
          0.0,
          0.0,
          0.0,
          0.0,
          0.0,
          0.0,
          0.0,
          0.0,
          0.0,
          0.0,
          0.0,
          0.0,
          0.0,
          0.0,
          0.0,
          0.0,
          0.0,
          0.0,
          0.0,
          0.0,
          0.0,
          0.0
         ],
         "yaxis": "y"
        },
        {
         "name": "J6",
         "type": "scatter",
         "x": [
          0,
          1,
          2,
          3,
          4,
          5,
          6,
          7,
          8,
          9,
          10,
          11,
          12,
          13,
          14,
          15,
          16,
          17,
          18,
          19,
          20,
          21,
          22,
          23,
          24,
          25,
          26,
          27,
          28,
          29,
          30,
          31,
          32,
          33,
          34,
          35,
          36,
          37,
          38,
          39,
          40,
          41,
          42,
          43,
          44,
          45,
          46,
          47,
          48,
          49,
          50,
          51,
          52,
          53,
          54,
          55,
          56,
          57,
          58,
          59,
          60,
          61,
          62,
          63,
          64,
          65,
          66,
          67,
          68,
          69,
          70,
          71,
          72,
          73,
          74,
          75,
          76,
          77,
          78,
          79,
          80,
          81,
          82,
          83,
          84,
          85,
          86,
          87,
          88,
          89,
          90,
          91,
          92,
          93,
          94,
          95,
          96,
          97,
          98,
          99,
          100,
          101,
          102,
          103,
          104,
          105,
          106,
          107,
          108,
          109,
          110,
          111,
          112,
          113,
          114,
          115,
          116,
          117,
          118,
          119
         ],
         "xaxis": "x2",
         "y": [
          0.0,
          0.0,
          0.0,
          0.0,
          0.0,
          0.0,
          0.0,
          0.0,
          0.0,
          0.0,
          -4.6408253463318787E-4,
          -0.0031503353505951508,
          -0.01074881210502875,
          -0.025460134917887706,
          -0.04827267790668627,
          -0.07903966916763376,
          -0.11673867780865396,
          -0.15978193125395204,
          -0.20631249882013863,
          -0.25445303761282384,
          -0.30249268808221014,
          -0.3490098030857867,
          -0.3929358326293228,
          -0.4335700951652527,
          -0.47055717520462415,
          -0.5038389433763667,
          -0.5335922442056539,
          -0.56016159743904,
          -0.5839941839238165,
          -0.6055822336128316,
          -0.6254159141104317,
          -0.6439765275719999,
          -0.6617830735288204,
          -0.6794080737670913,
          -0.6973339928502624,
          -0.7156852103514866,
          -0.7341264369923736,
          -0.7520395701876171,
          -0.768751591023412,
          -0.7777629129470742,
          -0.7586966009358629,
          -0.6871896305851226,
          -0.5530897914608465,
          -0.3625417319036524,
          -0.13084177288278323,
          0.12295212360698973,
          0.3798371787538073,
          0.6233297866669704,
          0.8408191510890196,
          1.0240578748481437,
          1.1690260465906324,
          1.2753822843267486,
          1.3456837167407787,
          1.384520961064192,
          1.3976773258650539,
          1.3913865854224075,
          1.371732805667913,
          1.3442101238416138,
          1.3134406529354394,
          1.2830347638989401,
          1.2555694146176772,
          1.232656170076047,
          1.2150701590343662,
          1.1969975481105268,
          1.1580818057573676,
          1.0734558092941926,
          0.9320960769925851,
          0.739062217646202,
          0.5084873394744245,
          0.2582976724030076,
          0.006557427473755959,
          -0.2307522712397464,
          -0.4410092556533013,
          -0.6156355322650007,
          -0.7501971836846676,
          -0.8440002572624541,
          -0.8993862540864234,
          -0.920892368485349,
          -0.9144020096587631,
          -0.886373381502844,
          -0.8432001643966784,
          -0.7907300190828079,
          -0.7339444299378193,
          -0.67678736292715,
          -0.622119883338986,
          -0.5717724946368927,
          -0.5266655650086434,
          -0.4869697547171831,
          -0.45228179510523764,
          -0.4217952956775744,
          -0.39445035458948824,
          -0.36905249070488116,
          -0.34433920782341887,
          -0.31878286896317076,
          -0.29052617896761945,
          -0.2582894252025278,
          -0.22229174873360988,
          -0.18399132913611563,
          -0.14536244282451277,
          -0.10839546159020902,
          -0.07478249668317287,
          -0.04575110927875192,
          -0.022009989282052198,
          -0.0037735622754445732,
          0.009163264914592748,
          0.017324029683955584,
          0.021441871164633808,
          0.022356366299379246,
          0.020924825507127754,
          0.017952827686743184,
          0.014145554961757574,
          0.010079082046495966,
          0.006189146453760423,
          0.0027739873445336155,
          7.475268512190347E-6,
          -0.0020411688345585554,
          -0.0033843803147949793,
          -0.004092721447293449,
          -0.004272890788210411,
          -0.004048677636890358
         ],
         "yaxis": "y2"
        },
        {
         "name": "J6",
         "type": "scatter",
         "x": [
          0,
          1,
          2,
          3,
          4,
          5,
          6,
          7,
          8,
          9,
          10,
          11,
          12,
          13,
          14,
          15,
          16,
          17,
          18,
          19,
          20,
          21,
          22,
          23,
          24,
          25,
          26,
          27,
          28,
          29,
          30,
          31,
          32,
          33,
          34,
          35,
          36,
          37,
          38,
          39,
          40,
          41,
          42,
          43,
          44,
          45,
          46,
          47,
          48,
          49,
          50,
          51,
          52,
          53,
          54,
          55,
          56,
          57,
          58,
          59,
          60,
          61,
          62,
          63,
          64,
          65,
          66,
          67,
          68,
          69,
          70,
          71,
          72,
          73,
          74,
          75,
          76,
          77,
          78,
          79,
          80,
          81,
          82,
          83,
          84,
          85,
          86,
          87,
          88,
          89,
          90,
          91,
          92,
          93,
          94,
          95,
          96,
          97,
          98,
          99,
          100,
          101,
          102,
          103,
          104,
          105,
          106,
          107,
          108,
          109,
          110,
          111,
          112,
          113,
          114,
          115,
          116,
          117,
          118,
          119
         ],
         "xaxis": "x3",
         "y": [
          0.5856825773678113,
          0.5466473045675839,
          0.5019907110975462,
          0.452163400872071,
          0.397668152524405,
          0.33905484615762155,
          0.27691491482182434,
          0.21187537670454318,
          0.14459250825203987,
          0.07574522206241296,
          0.0060282163703554055,
          -0.06385503475183706,
          -0.1331993797451688,
          -0.20130510484140063,
          -0.26748499447089474,
          -0.33107126555835054,
          -0.39142230573645564,
          -0.4479291474860239,
          -0.5000216128758092,
          -0.5471740668989734,
          -0.588910721352607,
          -0.624810435741919,
          -0.6545109667659385,
          -0.6777126235056213,
          -0.6941812914319709,
          -0.7037507947206464,
          -0.7063245730363105,
          -0.7018766558672505,
          -0.6904519245788245,
          -0.6721656595415045,
          -0.6472023769031827,
          -0.615813966743204,
          -0.5783171513949353,
          -0.5350902895834729,
          -0.4865695586260901,
          -0.4332445532186367,
          -0.3756533452179981,
          -0.3143770542694958,
          -0.2500339840638983,
          -0.18327338339168775,
          -0.11476889494818056,
          -0.045211757993834256,
          0.024696166542229638,
          0.09424947813583644,
          0.1627463544573727,
          0.22949563305590998,
          0.2938237854806444,
          0.3550817134678112,
          0.41265129861668887,
          0.465951639465674,
          0.5144449130337073,
          0.5576418016816106,
          0.5951064305340065,
          0.6264607656411549,
          0.6513884285013829,
          0.6696378884539708,
          0.6810250007298971,
          0.685434864550436,
          0.6828229825246095,
          0.6732157096466806,
          0.656709987363116,
          0.6334723653923917,
          0.6037373211678964,
          0.567804893861463,
          0.5260376568612312,
          0.47885705925282146,
          0.42673917321982113,
          0.37020989027410867,
          0.30983961478809086,
          0.246237508373345,
          0.1800453431823336,
          0.11193102615596466,
          0.04258185956008387,
          -0.02730239418505981,
          -0.09701657340358114,
          -0.16585723254349863,
          -0.23312974023985297,
          -0.29815528843895645,
          -0.3602777418587391,
          -0.4188702586712352,
          -0.4733416156017367,
          -0.523142173621673,
          -0.5677694240388659,
          -0.6067730590227542,
          -0.6397595154008524,
          -0.6663959458776028,
          -0.6864135776043596,
          -0.6996104242111008,
          -0.7058533239343262,
          -0.7050792832755681,
          -0.6972961126324324,
          -0.6825823474883831,
          -0.6610864559565003,
          -0.6330253406734285,
          -0.5986821501600408,
          -0.5584034217331106,
          -0.512595584797231,
          -0.46172085980023225,
          -0.40629259423338016,
          -0.3468700827380843,
          -0.2840529235864242,
          -0.21847496848100673,
          -0.15079792672321268,
          -0.0817046882864956,
          -0.01189243316774148,
          0.057934403453757624,
          0.12707123926517638,
          0.19482045435368103,
          0.26049843048638754,
          0.3234424491074485,
          0.38301737844855915,
          0.438622082277115,
          0.489695485615026,
          0.5357222362225411,
          0.5762379047202999,
          0.6108336708781875,
          0.6391604487843576,
          0.6609324092697154,
          0.6759298640451203,
          0.6840014824491333
         ],
         "yaxis": "y3"
        },
        {
         "alignmentgroup": "True",
         "hovertemplate": "x=%{x}<br>y=%{y}<extra></extra>",
         "legendgroup": "",
         "marker": {
          "color": "#636efa"
         },
         "name": "",
         "offsetgroup": "",
         "orientation": "v",
         "showlegend": false,
         "textposition": "auto",
         "type": "bar",
         "x": [
          0,
          1,
          2,
          3,
          4,
          5,
          6,
          7,
          8,
          9,
          10,
          11,
          12,
          13,
          14,
          15,
          16,
          17,
          18,
          19,
          20,
          21,
          22,
          23,
          24,
          25,
          26,
          27,
          28,
          29,
          30,
          31,
          32,
          33,
          34,
          35,
          36,
          37,
          38,
          39,
          40,
          41,
          42,
          43,
          44,
          45,
          46,
          47,
          48,
          49,
          50,
          51,
          52,
          53,
          54,
          55,
          56,
          57,
          58,
          59,
          60,
          61,
          62,
          63,
          64,
          65,
          66,
          67,
          68,
          69,
          70,
          71,
          72,
          73,
          74,
          75,
          76,
          77,
          78,
          79,
          80,
          81,
          82,
          83,
          84,
          85,
          86,
          87,
          88,
          89,
          90,
          91,
          92,
          93,
          94,
          95,
          96,
          97,
          98,
          99,
          100,
          101,
          102,
          103,
          104,
          105,
          106,
          107,
          108,
          109,
          110,
          111,
          112,
          113,
          114,
          115,
          116,
          117,
          118,
          119
         ],
         "xaxis": "x3",
         "y": [
          -0.6959399061545487,
          -0.6959399061545487,
          -0.6959399061545487,
          -0.6959399061545487,
          -0.6959399061545487,
          -0.6959399061545487,
          -0.6959399061545487,
          -0.6959399061545487,
          -0.6959399061545487,
          -0.6959399061545487,
          -0.6959399061545487,
          -0.6959399061545487,
          -0.6959399061545487,
          -0.6959399061545487,
          -0.6959399061545487,
          -0.6959399061545487,
          -0.6959399061545487,
          -0.6959399061545487,
          -0.6959399061545487,
          -0.6959399061545487,
          -0.6959399061545487,
          -0.6959399061545487,
          -0.6959399061545487,
          -0.6959399061545487,
          -0.6959399061545487,
          -0.6959399061545487,
          -0.6959399061545487,
          -0.6959399061545487,
          -0.6959399061545487,
          -0.6959399061545487,
          -0.6959399061545487,
          -0.6959399061545487,
          -0.6959399061545487,
          -0.6959399061545487,
          -0.6959399061545487,
          -0.6959399061545487,
          -0.6959399061545487,
          -0.6959399061545487,
          -0.6959399061545487,
          -0.6959399061545487,
          -0.6959399061545487,
          -0.6959399061545487,
          -0.6959399061545487,
          -0.6959399061545487,
          -0.6959399061545487,
          -0.6959399061545487,
          -0.6959399061545487,
          -0.6959399061545487,
          -0.6959399061545487,
          -0.6959399061545487,
          -0.6959399061545487,
          -0.6959399061545487,
          -0.6959399061545487,
          -0.6959399061545487,
          -0.6959399061545487,
          -0.6959399061545487,
          -0.6959399061545487,
          -0.6959399061545487,
          -0.6959399061545487,
          -0.6959399061545487,
          -0.6959399061545487,
          -0.6959399061545487,
          -0.6959399061545487,
          -0.6959399061545487,
          -0.6959399061545487,
          -0.6959399061545487,
          -0.6959399061545487,
          -0.6959399061545487,
          -0.6959399061545487,
          -0.6959399061545487,
          -0.6959399061545487,
          -0.6959399061545487,
          -0.6959399061545487,
          -0.6959399061545487,
          -0.6959399061545487,
          -0.6959399061545487,
          -0.6959399061545487,
          -0.6959399061545487,
          -0.6959399061545487,
          -0.6959399061545487,
          -0.6959399061545487,
          -0.6959399061545487,
          -0.6959399061545487,
          -0.6959399061545487,
          -0.6959399061545487,
          -0.6959399061545487,
          -0.6959399061545487,
          -0.6959399061545487,
          -0.6959399061545487,
          -0.6959399061545487,
          -0.6959399061545487,
          -0.6959399061545487,
          -0.6959399061545487,
          -0.6959399061545487,
          -0.6959399061545487,
          -0.6959399061545487,
          -0.6959399061545487,
          -0.6959399061545487,
          -0.6959399061545487,
          -0.6959399061545487,
          -0.6959399061545487,
          -0.6959399061545487,
          -0.6959399061545487,
          -0.6959399061545487,
          -0.6959399061545487,
          -0.6959399061545487,
          -0.6959399061545487,
          -0.6959399061545487,
          -0.6959399061545487,
          -0.6959399061545487,
          -0.6959399061545487,
          -0.6959399061545487,
          -0.6959399061545487,
          -0.6959399061545487,
          -0.6959399061545487,
          -0.6959399061545487,
          -0.6959399061545487,
          -0.6959399061545487,
          -0.6959399061545487,
          -0.6959399061545487
         ],
         "yaxis": "y3"
        },
        {
         "name": "J6",
         "type": "scatter",
         "x": [
          0,
          1,
          2,
          3,
          4,
          5,
          6,
          7,
          8,
          9,
          10,
          11,
          12,
          13,
          14,
          15,
          16,
          17,
          18,
          19,
          20,
          21,
          22,
          23,
          24,
          25,
          26,
          27,
          28,
          29,
          30,
          31,
          32,
          33,
          34,
          35,
          36,
          37,
          38,
          39,
          40,
          41,
          42,
          43,
          44,
          45,
          46,
          47,
          48,
          49,
          50,
          51,
          52,
          53,
          54,
          55,
          56,
          57,
          58,
          59,
          60,
          61,
          62,
          63,
          64,
          65,
          66,
          67,
          68,
          69,
          70,
          71,
          72,
          73,
          74,
          75,
          76,
          77,
          78,
          79,
          80,
          81,
          82,
          83,
          84,
          85,
          86,
          87,
          88,
          89,
          90,
          91,
          92,
          93,
          94,
          95,
          96,
          97,
          98,
          99,
          100,
          101,
          102,
          103,
          104,
          105,
          106,
          107,
          108,
          109,
          110,
          111,
          112,
          113,
          114,
          115,
          116,
          117,
          118,
          119
         ],
         "xaxis": "x4",
         "y": [
          0.0,
          -0.0,
          -0.0,
          -0.0,
          -0.0,
          -0.11820504486161937,
          -0.30866877922424063,
          -0.021096672913559985,
          -2.702721291744508E-4,
          -0.09160466101672815,
          -0.010623070250260444,
          0.06683679108629012,
          0.4120735391883163,
          0.050567193066609006,
          0.09508495987329407,
          0.9528503742999286,
          0.20269092867825497,
          1.2265610437173333,
          1.4672497562371727,
          0.28414965221998395,
          0.5494227662875417,
          3.201246580006426,
          1.2411464825168441,
          2.9575947237677953,
          0.9146158830632221,
          0.6867752499266756,
          2.946645979568546,
          1.9145507105793682,
          3.266694690684853,
          3.6873738424913833,
          1.7921547640400877,
          3.0519839738665326,
          2.294327236035232,
          2.049913604458549,
          3.654558418468491,
          2.8927870082059965,
          2.958154088961828,
          2.190737638207341,
          0.9476808828250878,
          1.3271355001054395,
          0.2679774713192154,
          0.11737602398004468,
          0.0010601280827894732,
          -0.039531002418207895,
          -0.8699728757841672,
          -0.26546373054249306,
          -0.7196389251378513,
          -1.038916203557764,
          -1.7371770856908655,
          -1.7529018190159609,
          -0.7031106784230096,
          -4.213107367217885,
          -2.569708146118352,
          -5.0564894721063105,
          -6.961949207682478,
          -3.3239221810285553,
          -1.5388242325694568,
          -6.693557920483081,
          -4.476657774444943,
          -11.674629868491909,
          -9.809170416597816,
          -4.914403578127951,
          -3.4040354495256375,
          -2.900803218991749,
          -0.8310611351380849,
          -1.0119596100390622,
          -1.711569930655214,
          -1.6052171851716048,
          -1.7890562955830427,
          -0.7003962137798173,
          -0.4063531023978149,
          -0.31071065766623623,
          -0.13444713868078859,
          0.12237555454100306,
          0.0,
          0.0,
          0.0,
          0.0,
          0.0,
          0.0,
          0.0,
          0.0,
          0.0,
          0.0,
          0.0,
          0.0,
          0.0,
          0.0,
          0.0,
          0.0,
          0.0,
          0.0,
          0.0,
          0.0,
          0.0,
          0.0,
          0.0,
          0.0,
          0.0,
          0.0,
          0.0,
          0.0,
          0.0,
          0.0,
          0.0,
          0.0,
          -0.0,
          -0.0,
          -0.0,
          -0.0,
          -0.0,
          -0.0,
          -0.0,
          -0.0,
          -0.0,
          -0.0,
          -0.0,
          -0.0,
          -0.0,
          -0.0
         ],
         "yaxis": "y4"
        },
        {
         "name": "J6",
         "type": "scatter",
         "x": [
          0,
          1,
          2,
          3,
          4,
          5,
          6,
          7,
          8,
          9,
          10,
          11,
          12,
          13,
          14,
          15,
          16,
          17,
          18,
          19,
          20,
          21,
          22,
          23,
          24,
          25,
          26,
          27,
          28,
          29,
          30,
          31,
          32,
          33,
          34,
          35,
          36,
          37,
          38,
          39,
          40,
          41,
          42,
          43,
          44,
          45,
          46,
          47,
          48,
          49,
          50,
          51,
          52,
          53,
          54,
          55,
          56,
          57,
          58,
          59,
          60,
          61,
          62,
          63,
          64,
          65,
          66,
          67,
          68,
          69,
          70,
          71,
          72,
          73,
          74,
          75,
          76,
          77,
          78,
          79,
          80,
          81,
          82,
          83,
          84,
          85,
          86,
          87,
          88,
          89,
          90,
          91,
          92,
          93,
          94,
          95,
          96,
          97,
          98,
          99,
          100,
          101,
          102,
          103,
          104,
          105,
          106,
          107,
          108,
          109,
          110,
          111,
          112,
          113,
          114,
          115,
          116,
          117,
          118,
          119
         ],
         "xaxis": "x4",
         "y": [
          0.0,
          0.0,
          0.0,
          0.0,
          0.0,
          0.20353948726655458,
          0.680837964132316,
          0.06257880840505467,
          0.0011827038961908394,
          0.7339438705193888,
          0.4486004580395737,
          0.8683622807418135,
          2.2996132329024044,
          0.17731779254100047,
          0.23924360554798776,
          1.8356701838011191,
          0.3098558386200009,
          1.517469679334331,
          1.4823731469723025,
          0.2345342393602878,
          0.3675020702565085,
          1.7035828800036505,
          0.5080795269525209,
          0.8763340420968678,
          0.17359046499633532,
          0.05995026850699724,
          -0.03955131180210702,
          -0.2190444618311242,
          -0.7113407958219522,
          -1.2011282381064203,
          -0.790449054025031,
          -1.7308269701261265,
          -1.6254413808255537,
          -1.7866117738965936,
          -3.896037334797887,
          -3.782188550644823,
          -4.798547602863997,
          -4.512711720889064,
          -2.584509744215305,
          -5.176731201429311,
          -1.7675066004829276,
          -2.3467874884982907,
          -0.020966716607498295,
          -0.2597796302823611,
          -3.3858080008027063,
          -0.7227512467731885,
          -1.480332200677568,
          -1.6832142654640962,
          -2.2687153031127947,
          -1.8666852002119927,
          -0.6121249089528163,
          -2.981372271118886,
          -1.4554691361240883,
          -2.2269251471878175,
          -2.2635917219130612,
          -0.7219036865675833,
          -0.17520719929624193,
          -0.08619267666351657,
          0.39323868841640447,
          2.222396187544408,
          2.912273848091005,
          2.0149056611577194,
          1.8138826399469288,
          1.942602186817328,
          0.6867118667459774,
          1.0235061465395245,
          2.1198741813732367,
          2.4568371217272813,
          3.451226616353373,
          1.7650737391459803,
          1.427861294646806,
          1.73941254974786,
          1.7593153535991373,
          5.051369098412825,
          0.0,
          0.0,
          0.0,
          0.0,
          0.0,
          0.0,
          0.0,
          0.0,
          0.0,
          0.0,
          0.0,
          0.0,
          0.0,
          0.0,
          0.0,
          -0.0,
          -0.0,
          -0.0,
          -0.0,
          -0.0,
          -0.0,
          -0.0,
          -0.0,
          -0.0,
          -0.0,
          -0.0,
          -0.0,
          -0.0,
          -0.0,
          -0.0,
          -0.0,
          -0.0,
          -0.0,
          -0.0,
          -0.0,
          -0.0,
          -0.0,
          -0.0,
          -0.0,
          -0.0,
          -0.0,
          -0.0,
          -0.0,
          -0.0,
          -0.0,
          -0.0
         ],
         "yaxis": "y4"
        },
        {
         "name": "J6",
         "type": "scatter",
         "x": [
          0,
          1,
          2,
          3,
          4,
          5,
          6,
          7,
          8,
          9,
          10,
          11,
          12,
          13,
          14,
          15,
          16,
          17,
          18,
          19,
          20,
          21,
          22,
          23,
          24,
          25,
          26,
          27,
          28,
          29,
          30,
          31,
          32,
          33,
          34,
          35,
          36,
          37,
          38,
          39,
          40,
          41,
          42,
          43,
          44,
          45,
          46,
          47,
          48,
          49,
          50,
          51,
          52,
          53,
          54,
          55,
          56,
          57,
          58,
          59,
          60,
          61,
          62,
          63,
          64,
          65,
          66,
          67,
          68,
          69,
          70,
          71,
          72,
          73,
          74,
          75,
          76,
          77,
          78,
          79,
          80,
          81,
          82,
          83,
          84,
          85,
          86,
          87,
          88,
          89,
          90,
          91,
          92,
          93,
          94,
          95,
          96,
          97,
          98,
          99,
          100,
          101,
          102,
          103,
          104,
          105,
          106,
          107,
          108,
          109,
          110,
          111,
          112,
          113,
          114,
          115,
          116,
          117,
          118,
          119
         ],
         "xaxis": "x5",
         "y": [
          0.0,
          0.0,
          0.0,
          0.0,
          0.0,
          0.03398783877491951,
          0.10794447362422943,
          0.00953602883964777,
          1.7518436652608216E-4,
          0.10680342465639114,
          0.0647958442568779,
          0.1257619559764862,
          0.3373521566390991,
          0.02662542089819908,
          0.03717513382434845,
          0.2986525595188141,
          0.05346570909023285,
          0.28175175189971924,
          0.3011777698993683,
          0.053202416747808456,
          0.09544830769300461,
          0.5236383676528931,
          0.1936563402414322,
          0.4454280734062195,
          0.13442778587341309,
          0.0995471253991127,
          0.4255325496196747,
          0.2782636880874634,
          0.4827632009983063,
          0.5599915385246277,
          0.282839834690094,
          0.5066420435905457,
          0.40601682662963867,
          0.392653226852417,
          0.7713543176651001,
          0.6875777244567871,
          0.8139923810958862,
          0.7243603467941284,
          0.39749985933303833,
          0.7716912031173706,
          0.258143812417984,
          0.3392985463142395,
          0.18650510907173157,
          0.03794388100504875,
          0.5047903656959534,
          0.11118202656507492,
          0.23767928779125214,
          0.2856248915195465,
          0.41261014342308044,
          0.36976364254951477,
          0.1346142292022705,
          0.7452868819236755,
          0.4264504015445709,
          0.7978289127349854,
          1.0571048259735107,
          0.4911622107028961,
          0.22364111244678497,
          0.9666265845298767,
          0.6489163637161255,
          1.7160836458206177,
          1.477547526359558,
          0.7669667601585388,
          0.5569709539413452,
          0.50412517786026,
          0.1556728333234787,
          0.2078363448381424,
          0.3934280574321747,
          0.423776775598526,
          0.5613350868225098,
          0.27420854568481445,
          0.21436935663223267,
          0.2551460862159729,
          0.2547850012779236,
          0.7296292185783386,
          0.0,
          0.0,
          0.0,
          0.0,
          0.0,
          0.0,
          0.0,
          0.0,
          0.0,
          0.0,
          0.0,
          0.0,
          0.0,
          0.0,
          0.0,
          0.0,
          0.0,
          0.0,
          0.0,
          0.0,
          0.0,
          0.0,
          0.0,
          0.0,
          0.0,
          0.0,
          0.0,
          0.0,
          0.0,
          0.0,
          0.0,
          0.0,
          0.0,
          0.0,
          0.0,
          0.0,
          0.0,
          0.0,
          0.0,
          0.0,
          0.0,
          0.0,
          0.0,
          0.0,
          0.0,
          0.0
         ],
         "yaxis": "y5"
        }
       ],
       "layout": {
        "annotations": [
         {
          "font": {
           "size": 16
          },
          "showarrow": false,
          "text": "Original",
          "x": 0.5,
          "xanchor": "center",
          "xref": "paper",
          "y": 1.0,
          "yanchor": "bottom",
          "yref": "paper"
         },
         {
          "font": {
           "size": 16
          },
          "showarrow": false,
          "text": "Normalised",
          "x": 0.5,
          "xanchor": "center",
          "xref": "paper",
          "y": 0.78,
          "yanchor": "bottom",
          "yref": "paper"
         },
         {
          "font": {
           "size": 16
          },
          "showarrow": false,
          "text": "Optimised",
          "x": 0.5,
          "xanchor": "center",
          "xref": "paper",
          "y": 0.56,
          "yanchor": "bottom",
          "yref": "paper"
         },
         {
          "font": {
           "size": 16
          },
          "showarrow": false,
          "text": "Local phase vector",
          "x": 0.5,
          "xanchor": "center",
          "xref": "paper",
          "y": 0.33999999999999997,
          "yanchor": "bottom",
          "yref": "paper"
         },
         {
          "font": {
           "size": 16
          },
          "showarrow": false,
          "text": "Velocity Magnitude",
          "x": 0.5,
          "xanchor": "center",
          "xref": "paper",
          "y": 0.12,
          "yanchor": "bottom",
          "yref": "paper"
         }
        ],
        "height": 800,
        "template": {
         "data": {
          "bar": [
           {
            "error_x": {
             "color": "#2a3f5f"
            },
            "error_y": {
             "color": "#2a3f5f"
            },
            "marker": {
             "line": {
              "color": "#E5ECF6",
              "width": 0.5
             }
            },
            "type": "bar"
           }
          ],
          "barpolar": [
           {
            "marker": {
             "line": {
              "color": "#E5ECF6",
              "width": 0.5
             }
            },
            "type": "barpolar"
           }
          ],
          "carpet": [
           {
            "aaxis": {
             "endlinecolor": "#2a3f5f",
             "gridcolor": "white",
             "linecolor": "white",
             "minorgridcolor": "white",
             "startlinecolor": "#2a3f5f"
            },
            "baxis": {
             "endlinecolor": "#2a3f5f",
             "gridcolor": "white",
             "linecolor": "white",
             "minorgridcolor": "white",
             "startlinecolor": "#2a3f5f"
            },
            "type": "carpet"
           }
          ],
          "choropleth": [
           {
            "colorbar": {
             "outlinewidth": 0,
             "ticks": ""
            },
            "type": "choropleth"
           }
          ],
          "contour": [
           {
            "colorbar": {
             "outlinewidth": 0,
             "ticks": ""
            },
            "colorscale": [
             [
              0.0,
              "#0d0887"
             ],
             [
              0.1111111111111111,
              "#46039f"
             ],
             [
              0.2222222222222222,
              "#7201a8"
             ],
             [
              0.3333333333333333,
              "#9c179e"
             ],
             [
              0.4444444444444444,
              "#bd3786"
             ],
             [
              0.5555555555555556,
              "#d8576b"
             ],
             [
              0.6666666666666666,
              "#ed7953"
             ],
             [
              0.7777777777777778,
              "#fb9f3a"
             ],
             [
              0.8888888888888888,
              "#fdca26"
             ],
             [
              1.0,
              "#f0f921"
             ]
            ],
            "type": "contour"
           }
          ],
          "contourcarpet": [
           {
            "colorbar": {
             "outlinewidth": 0,
             "ticks": ""
            },
            "type": "contourcarpet"
           }
          ],
          "heatmap": [
           {
            "colorbar": {
             "outlinewidth": 0,
             "ticks": ""
            },
            "colorscale": [
             [
              0.0,
              "#0d0887"
             ],
             [
              0.1111111111111111,
              "#46039f"
             ],
             [
              0.2222222222222222,
              "#7201a8"
             ],
             [
              0.3333333333333333,
              "#9c179e"
             ],
             [
              0.4444444444444444,
              "#bd3786"
             ],
             [
              0.5555555555555556,
              "#d8576b"
             ],
             [
              0.6666666666666666,
              "#ed7953"
             ],
             [
              0.7777777777777778,
              "#fb9f3a"
             ],
             [
              0.8888888888888888,
              "#fdca26"
             ],
             [
              1.0,
              "#f0f921"
             ]
            ],
            "type": "heatmap"
           }
          ],
          "heatmapgl": [
           {
            "colorbar": {
             "outlinewidth": 0,
             "ticks": ""
            },
            "colorscale": [
             [
              0.0,
              "#0d0887"
             ],
             [
              0.1111111111111111,
              "#46039f"
             ],
             [
              0.2222222222222222,
              "#7201a8"
             ],
             [
              0.3333333333333333,
              "#9c179e"
             ],
             [
              0.4444444444444444,
              "#bd3786"
             ],
             [
              0.5555555555555556,
              "#d8576b"
             ],
             [
              0.6666666666666666,
              "#ed7953"
             ],
             [
              0.7777777777777778,
              "#fb9f3a"
             ],
             [
              0.8888888888888888,
              "#fdca26"
             ],
             [
              1.0,
              "#f0f921"
             ]
            ],
            "type": "heatmapgl"
           }
          ],
          "histogram": [
           {
            "marker": {
             "colorbar": {
              "outlinewidth": 0,
              "ticks": ""
             }
            },
            "type": "histogram"
           }
          ],
          "histogram2d": [
           {
            "colorbar": {
             "outlinewidth": 0,
             "ticks": ""
            },
            "colorscale": [
             [
              0.0,
              "#0d0887"
             ],
             [
              0.1111111111111111,
              "#46039f"
             ],
             [
              0.2222222222222222,
              "#7201a8"
             ],
             [
              0.3333333333333333,
              "#9c179e"
             ],
             [
              0.4444444444444444,
              "#bd3786"
             ],
             [
              0.5555555555555556,
              "#d8576b"
             ],
             [
              0.6666666666666666,
              "#ed7953"
             ],
             [
              0.7777777777777778,
              "#fb9f3a"
             ],
             [
              0.8888888888888888,
              "#fdca26"
             ],
             [
              1.0,
              "#f0f921"
             ]
            ],
            "type": "histogram2d"
           }
          ],
          "histogram2dcontour": [
           {
            "colorbar": {
             "outlinewidth": 0,
             "ticks": ""
            },
            "colorscale": [
             [
              0.0,
              "#0d0887"
             ],
             [
              0.1111111111111111,
              "#46039f"
             ],
             [
              0.2222222222222222,
              "#7201a8"
             ],
             [
              0.3333333333333333,
              "#9c179e"
             ],
             [
              0.4444444444444444,
              "#bd3786"
             ],
             [
              0.5555555555555556,
              "#d8576b"
             ],
             [
              0.6666666666666666,
              "#ed7953"
             ],
             [
              0.7777777777777778,
              "#fb9f3a"
             ],
             [
              0.8888888888888888,
              "#fdca26"
             ],
             [
              1.0,
              "#f0f921"
             ]
            ],
            "type": "histogram2dcontour"
           }
          ],
          "mesh3d": [
           {
            "colorbar": {
             "outlinewidth": 0,
             "ticks": ""
            },
            "type": "mesh3d"
           }
          ],
          "parcoords": [
           {
            "line": {
             "colorbar": {
              "outlinewidth": 0,
              "ticks": ""
             }
            },
            "type": "parcoords"
           }
          ],
          "pie": [
           {
            "automargin": true,
            "type": "pie"
           }
          ],
          "scatter": [
           {
            "marker": {
             "colorbar": {
              "outlinewidth": 0,
              "ticks": ""
             }
            },
            "type": "scatter"
           }
          ],
          "scatter3d": [
           {
            "line": {
             "colorbar": {
              "outlinewidth": 0,
              "ticks": ""
             }
            },
            "marker": {
             "colorbar": {
              "outlinewidth": 0,
              "ticks": ""
             }
            },
            "type": "scatter3d"
           }
          ],
          "scattercarpet": [
           {
            "marker": {
             "colorbar": {
              "outlinewidth": 0,
              "ticks": ""
             }
            },
            "type": "scattercarpet"
           }
          ],
          "scattergeo": [
           {
            "marker": {
             "colorbar": {
              "outlinewidth": 0,
              "ticks": ""
             }
            },
            "type": "scattergeo"
           }
          ],
          "scattergl": [
           {
            "marker": {
             "colorbar": {
              "outlinewidth": 0,
              "ticks": ""
             }
            },
            "type": "scattergl"
           }
          ],
          "scattermapbox": [
           {
            "marker": {
             "colorbar": {
              "outlinewidth": 0,
              "ticks": ""
             }
            },
            "type": "scattermapbox"
           }
          ],
          "scatterpolar": [
           {
            "marker": {
             "colorbar": {
              "outlinewidth": 0,
              "ticks": ""
             }
            },
            "type": "scatterpolar"
           }
          ],
          "scatterpolargl": [
           {
            "marker": {
             "colorbar": {
              "outlinewidth": 0,
              "ticks": ""
             }
            },
            "type": "scatterpolargl"
           }
          ],
          "scatterternary": [
           {
            "marker": {
             "colorbar": {
              "outlinewidth": 0,
              "ticks": ""
             }
            },
            "type": "scatterternary"
           }
          ],
          "surface": [
           {
            "colorbar": {
             "outlinewidth": 0,
             "ticks": ""
            },
            "colorscale": [
             [
              0.0,
              "#0d0887"
             ],
             [
              0.1111111111111111,
              "#46039f"
             ],
             [
              0.2222222222222222,
              "#7201a8"
             ],
             [
              0.3333333333333333,
              "#9c179e"
             ],
             [
              0.4444444444444444,
              "#bd3786"
             ],
             [
              0.5555555555555556,
              "#d8576b"
             ],
             [
              0.6666666666666666,
              "#ed7953"
             ],
             [
              0.7777777777777778,
              "#fb9f3a"
             ],
             [
              0.8888888888888888,
              "#fdca26"
             ],
             [
              1.0,
              "#f0f921"
             ]
            ],
            "type": "surface"
           }
          ],
          "table": [
           {
            "cells": {
             "fill": {
              "color": "#EBF0F8"
             },
             "line": {
              "color": "white"
             }
            },
            "header": {
             "fill": {
              "color": "#C8D4E3"
             },
             "line": {
              "color": "white"
             }
            },
            "type": "table"
           }
          ]
         },
         "layout": {
          "annotationdefaults": {
           "arrowcolor": "#2a3f5f",
           "arrowhead": 0,
           "arrowwidth": 1
          },
          "autotypenumbers": "strict",
          "coloraxis": {
           "colorbar": {
            "outlinewidth": 0,
            "ticks": ""
           }
          },
          "colorscale": {
           "diverging": [
            [
             0,
             "#8e0152"
            ],
            [
             0.1,
             "#c51b7d"
            ],
            [
             0.2,
             "#de77ae"
            ],
            [
             0.3,
             "#f1b6da"
            ],
            [
             0.4,
             "#fde0ef"
            ],
            [
             0.5,
             "#f7f7f7"
            ],
            [
             0.6,
             "#e6f5d0"
            ],
            [
             0.7,
             "#b8e186"
            ],
            [
             0.8,
             "#7fbc41"
            ],
            [
             0.9,
             "#4d9221"
            ],
            [
             1,
             "#276419"
            ]
           ],
           "sequential": [
            [
             0.0,
             "#0d0887"
            ],
            [
             0.1111111111111111,
             "#46039f"
            ],
            [
             0.2222222222222222,
             "#7201a8"
            ],
            [
             0.3333333333333333,
             "#9c179e"
            ],
            [
             0.4444444444444444,
             "#bd3786"
            ],
            [
             0.5555555555555556,
             "#d8576b"
            ],
            [
             0.6666666666666666,
             "#ed7953"
            ],
            [
             0.7777777777777778,
             "#fb9f3a"
            ],
            [
             0.8888888888888888,
             "#fdca26"
            ],
            [
             1.0,
             "#f0f921"
            ]
           ],
           "sequentialminus": [
            [
             0.0,
             "#0d0887"
            ],
            [
             0.1111111111111111,
             "#46039f"
            ],
            [
             0.2222222222222222,
             "#7201a8"
            ],
            [
             0.3333333333333333,
             "#9c179e"
            ],
            [
             0.4444444444444444,
             "#bd3786"
            ],
            [
             0.5555555555555556,
             "#d8576b"
            ],
            [
             0.6666666666666666,
             "#ed7953"
            ],
            [
             0.7777777777777778,
             "#fb9f3a"
            ],
            [
             0.8888888888888888,
             "#fdca26"
            ],
            [
             1.0,
             "#f0f921"
            ]
           ]
          },
          "colorway": [
           "#636efa",
           "#EF553B",
           "#00cc96",
           "#ab63fa",
           "#FFA15A",
           "#19d3f3",
           "#FF6692",
           "#B6E880",
           "#FF97FF",
           "#FECB52"
          ],
          "font": {
           "color": "#2a3f5f"
          },
          "geo": {
           "bgcolor": "white",
           "lakecolor": "white",
           "landcolor": "#E5ECF6",
           "showlakes": true,
           "showland": true,
           "subunitcolor": "white"
          },
          "hoverlabel": {
           "align": "left"
          },
          "hovermode": "closest",
          "mapbox": {
           "style": "light"
          },
          "paper_bgcolor": "white",
          "plot_bgcolor": "#E5ECF6",
          "polar": {
           "angularaxis": {
            "gridcolor": "white",
            "linecolor": "white",
            "ticks": ""
           },
           "bgcolor": "#E5ECF6",
           "radialaxis": {
            "gridcolor": "white",
            "linecolor": "white",
            "ticks": ""
           }
          },
          "scene": {
           "xaxis": {
            "backgroundcolor": "#E5ECF6",
            "gridcolor": "white",
            "gridwidth": 2,
            "linecolor": "white",
            "showbackground": true,
            "ticks": "",
            "zerolinecolor": "white"
           },
           "yaxis": {
            "backgroundcolor": "#E5ECF6",
            "gridcolor": "white",
            "gridwidth": 2,
            "linecolor": "white",
            "showbackground": true,
            "ticks": "",
            "zerolinecolor": "white"
           },
           "zaxis": {
            "backgroundcolor": "#E5ECF6",
            "gridcolor": "white",
            "gridwidth": 2,
            "linecolor": "white",
            "showbackground": true,
            "ticks": "",
            "zerolinecolor": "white"
           }
          },
          "shapedefaults": {
           "line": {
            "color": "#2a3f5f"
           }
          },
          "ternary": {
           "aaxis": {
            "gridcolor": "white",
            "linecolor": "white",
            "ticks": ""
           },
           "baxis": {
            "gridcolor": "white",
            "linecolor": "white",
            "ticks": ""
           },
           "bgcolor": "#E5ECF6",
           "caxis": {
            "gridcolor": "white",
            "linecolor": "white",
            "ticks": ""
           }
          },
          "title": {
           "x": 0.05
          },
          "xaxis": {
           "automargin": true,
           "gridcolor": "white",
           "linecolor": "white",
           "ticks": "",
           "title": {
            "standoff": 15
           },
           "zerolinecolor": "white",
           "zerolinewidth": 2
          },
          "yaxis": {
           "automargin": true,
           "gridcolor": "white",
           "linecolor": "white",
           "ticks": "",
           "title": {
            "standoff": 15
           },
           "zerolinecolor": "white",
           "zerolinewidth": 2
          }
         }
        },
        "title": {
         "text": "Contact info"
        },
        "width": 800,
        "xaxis": {
         "anchor": "y",
         "domain": [
          0.0,
          1.0
         ],
         "title": {
          "text": "frames"
         }
        },
        "xaxis2": {
         "anchor": "y2",
         "domain": [
          0.0,
          1.0
         ],
         "title": {
          "text": "frames"
         }
        },
        "xaxis3": {
         "anchor": "y3",
         "domain": [
          0.0,
          1.0
         ],
         "title": {
          "text": "frames"
         }
        },
        "xaxis4": {
         "anchor": "y4",
         "domain": [
          0.0,
          1.0
         ],
         "title": {
          "text": "frames"
         }
        },
        "xaxis5": {
         "anchor": "y5",
         "domain": [
          0.0,
          1.0
         ],
         "title": {
          "text": "frames"
         }
        },
        "yaxis": {
         "anchor": "x",
         "domain": [
          0.88,
          1.0
         ]
        },
        "yaxis2": {
         "anchor": "x2",
         "domain": [
          0.66,
          0.78
         ]
        },
        "yaxis3": {
         "anchor": "x3",
         "domain": [
          0.44,
          0.56
         ]
        },
        "yaxis4": {
         "anchor": "x4",
         "domain": [
          0.22,
          0.33999999999999997
         ]
        },
        "yaxis5": {
         "anchor": "x5",
         "domain": [
          0.0,
          0.12
         ]
        }
       }
      },
      "text/html": "<div>                            <div id=\"835ced33-425b-495d-a520-28e2e2107382\" class=\"plotly-graph-div\" style=\"height:800px; width:800px;\"></div>            <script type=\"text/javascript\">                require([\"plotly\"], function(Plotly) {                    window.PLOTLYENV=window.PLOTLYENV || {};                                    if (document.getElementById(\"835ced33-425b-495d-a520-28e2e2107382\")) {                    Plotly.newPlot(                        \"835ced33-425b-495d-a520-28e2e2107382\",                        [{\"name\": \"J6\", \"type\": \"scatter\", \"x\": [0, 1, 2, 3, 4, 5, 6, 7, 8, 9, 10, 11, 12, 13, 14, 15, 16, 17, 18, 19, 20, 21, 22, 23, 24, 25, 26, 27, 28, 29, 30, 31, 32, 33, 34, 35, 36, 37, 38, 39, 40, 41, 42, 43, 44, 45, 46, 47, 48, 49, 50, 51, 52, 53, 54, 55, 56, 57, 58, 59, 60, 61, 62, 63, 64, 65, 66, 67, 68, 69, 70, 71, 72, 73, 74, 75, 76, 77, 78, 79, 80, 81, 82, 83, 84, 85, 86, 87, 88, 89, 90, 91, 92, 93, 94, 95, 96, 97, 98, 99, 100, 101, 102, 103, 104, 105, 106, 107, 108, 109, 110, 111, 112, 113, 114, 115, 116, 117, 118, 119], \"xaxis\": \"x\", \"y\": [0.0, 0.0, 0.0, 0.0, 0.0, 0.0, 0.0, 0.0, 0.0, 0.0, 0.0, 0.0, 0.0, 0.0, 0.0, 0.0, 0.0, 0.0, 0.0, 0.0, 0.0, 0.0, 0.0, 0.0, 0.0, 0.0, 0.0, 0.0, 0.0, 0.0, 0.0, 0.0, 0.0, 0.0, 0.0, 0.0, 0.0, 0.0, 0.0, 1.0, 1.0, 1.0, 1.0, 1.0, 1.0, 1.0, 1.0, 1.0, 1.0, 1.0, 1.0, 1.0, 1.0, 1.0, 1.0, 1.0, 1.0, 1.0, 1.0, 1.0, 1.0, 1.0, 1.0, 0.0, 0.0, 0.0, 0.0, 0.0, 0.0, 0.0, 0.0, 0.0, 0.0, 0.0, 0.0, 0.0, 0.0, 0.0, 0.0, 0.0, 0.0, 0.0, 0.0, 0.0, 0.0, 0.0, 0.0, 0.0, 0.0, 0.0, 0.0, 0.0, 0.0, 0.0, 0.0, 0.0, 0.0, 0.0, 0.0, 0.0, 0.0, 0.0, 0.0, 0.0, 0.0, 0.0, 0.0, 0.0, 0.0, 0.0, 0.0, 0.0, 0.0, 0.0, 0.0, 0.0, 0.0, 0.0, 0.0, 0.0], \"yaxis\": \"y\"}, {\"name\": \"J6\", \"type\": \"scatter\", \"x\": [0, 1, 2, 3, 4, 5, 6, 7, 8, 9, 10, 11, 12, 13, 14, 15, 16, 17, 18, 19, 20, 21, 22, 23, 24, 25, 26, 27, 28, 29, 30, 31, 32, 33, 34, 35, 36, 37, 38, 39, 40, 41, 42, 43, 44, 45, 46, 47, 48, 49, 50, 51, 52, 53, 54, 55, 56, 57, 58, 59, 60, 61, 62, 63, 64, 65, 66, 67, 68, 69, 70, 71, 72, 73, 74, 75, 76, 77, 78, 79, 80, 81, 82, 83, 84, 85, 86, 87, 88, 89, 90, 91, 92, 93, 94, 95, 96, 97, 98, 99, 100, 101, 102, 103, 104, 105, 106, 107, 108, 109, 110, 111, 112, 113, 114, 115, 116, 117, 118, 119], \"xaxis\": \"x2\", \"y\": [0.0, 0.0, 0.0, 0.0, 0.0, 0.0, 0.0, 0.0, 0.0, 0.0, -0.00046408253463318787, -0.0031503353505951508, -0.01074881210502875, -0.025460134917887706, -0.04827267790668627, -0.07903966916763376, -0.11673867780865396, -0.15978193125395204, -0.20631249882013863, -0.25445303761282384, -0.30249268808221014, -0.3490098030857867, -0.3929358326293228, -0.4335700951652527, -0.47055717520462415, -0.5038389433763667, -0.5335922442056539, -0.56016159743904, -0.5839941839238165, -0.6055822336128316, -0.6254159141104317, -0.6439765275719999, -0.6617830735288204, -0.6794080737670913, -0.6973339928502624, -0.7156852103514866, -0.7341264369923736, -0.7520395701876171, -0.768751591023412, -0.7777629129470742, -0.7586966009358629, -0.6871896305851226, -0.5530897914608465, -0.3625417319036524, -0.13084177288278323, 0.12295212360698973, 0.3798371787538073, 0.6233297866669704, 0.8408191510890196, 1.0240578748481437, 1.1690260465906324, 1.2753822843267486, 1.3456837167407787, 1.384520961064192, 1.3976773258650539, 1.3913865854224075, 1.371732805667913, 1.3442101238416138, 1.3134406529354394, 1.2830347638989401, 1.2555694146176772, 1.232656170076047, 1.2150701590343662, 1.1969975481105268, 1.1580818057573676, 1.0734558092941926, 0.9320960769925851, 0.739062217646202, 0.5084873394744245, 0.2582976724030076, 0.006557427473755959, -0.2307522712397464, -0.4410092556533013, -0.6156355322650007, -0.7501971836846676, -0.8440002572624541, -0.8993862540864234, -0.920892368485349, -0.9144020096587631, -0.886373381502844, -0.8432001643966784, -0.7907300190828079, -0.7339444299378193, -0.67678736292715, -0.622119883338986, -0.5717724946368927, -0.5266655650086434, -0.4869697547171831, -0.45228179510523764, -0.4217952956775744, -0.39445035458948824, -0.36905249070488116, -0.34433920782341887, -0.31878286896317076, -0.29052617896761945, -0.2582894252025278, -0.22229174873360988, -0.18399132913611563, -0.14536244282451277, -0.10839546159020902, -0.07478249668317287, -0.04575110927875192, -0.022009989282052198, -0.0037735622754445732, 0.009163264914592748, 0.017324029683955584, 0.021441871164633808, 0.022356366299379246, 0.020924825507127754, 0.017952827686743184, 0.014145554961757574, 0.010079082046495966, 0.006189146453760423, 0.0027739873445336155, 7.475268512190347e-06, -0.0020411688345585554, -0.0033843803147949793, -0.004092721447293449, -0.004272890788210411, -0.004048677636890358], \"yaxis\": \"y2\"}, {\"name\": \"J6\", \"type\": \"scatter\", \"x\": [0, 1, 2, 3, 4, 5, 6, 7, 8, 9, 10, 11, 12, 13, 14, 15, 16, 17, 18, 19, 20, 21, 22, 23, 24, 25, 26, 27, 28, 29, 30, 31, 32, 33, 34, 35, 36, 37, 38, 39, 40, 41, 42, 43, 44, 45, 46, 47, 48, 49, 50, 51, 52, 53, 54, 55, 56, 57, 58, 59, 60, 61, 62, 63, 64, 65, 66, 67, 68, 69, 70, 71, 72, 73, 74, 75, 76, 77, 78, 79, 80, 81, 82, 83, 84, 85, 86, 87, 88, 89, 90, 91, 92, 93, 94, 95, 96, 97, 98, 99, 100, 101, 102, 103, 104, 105, 106, 107, 108, 109, 110, 111, 112, 113, 114, 115, 116, 117, 118, 119], \"xaxis\": \"x3\", \"y\": [0.5856825773678113, 0.5466473045675839, 0.5019907110975462, 0.452163400872071, 0.397668152524405, 0.33905484615762155, 0.27691491482182434, 0.21187537670454318, 0.14459250825203987, 0.07574522206241296, 0.0060282163703554055, -0.06385503475183706, -0.1331993797451688, -0.20130510484140063, -0.26748499447089474, -0.33107126555835054, -0.39142230573645564, -0.4479291474860239, -0.5000216128758092, -0.5471740668989734, -0.588910721352607, -0.624810435741919, -0.6545109667659385, -0.6777126235056213, -0.6941812914319709, -0.7037507947206464, -0.7063245730363105, -0.7018766558672505, -0.6904519245788245, -0.6721656595415045, -0.6472023769031827, -0.615813966743204, -0.5783171513949353, -0.5350902895834729, -0.4865695586260901, -0.4332445532186367, -0.3756533452179981, -0.3143770542694958, -0.2500339840638983, -0.18327338339168775, -0.11476889494818056, -0.045211757993834256, 0.024696166542229638, 0.09424947813583644, 0.1627463544573727, 0.22949563305590998, 0.2938237854806444, 0.3550817134678112, 0.41265129861668887, 0.465951639465674, 0.5144449130337073, 0.5576418016816106, 0.5951064305340065, 0.6264607656411549, 0.6513884285013829, 0.6696378884539708, 0.6810250007298971, 0.685434864550436, 0.6828229825246095, 0.6732157096466806, 0.656709987363116, 0.6334723653923917, 0.6037373211678964, 0.567804893861463, 0.5260376568612312, 0.47885705925282146, 0.42673917321982113, 0.37020989027410867, 0.30983961478809086, 0.246237508373345, 0.1800453431823336, 0.11193102615596466, 0.04258185956008387, -0.02730239418505981, -0.09701657340358114, -0.16585723254349863, -0.23312974023985297, -0.29815528843895645, -0.3602777418587391, -0.4188702586712352, -0.4733416156017367, -0.523142173621673, -0.5677694240388659, -0.6067730590227542, -0.6397595154008524, -0.6663959458776028, -0.6864135776043596, -0.6996104242111008, -0.7058533239343262, -0.7050792832755681, -0.6972961126324324, -0.6825823474883831, -0.6610864559565003, -0.6330253406734285, -0.5986821501600408, -0.5584034217331106, -0.512595584797231, -0.46172085980023225, -0.40629259423338016, -0.3468700827380843, -0.2840529235864242, -0.21847496848100673, -0.15079792672321268, -0.0817046882864956, -0.01189243316774148, 0.057934403453757624, 0.12707123926517638, 0.19482045435368103, 0.26049843048638754, 0.3234424491074485, 0.38301737844855915, 0.438622082277115, 0.489695485615026, 0.5357222362225411, 0.5762379047202999, 0.6108336708781875, 0.6391604487843576, 0.6609324092697154, 0.6759298640451203, 0.6840014824491333], \"yaxis\": \"y3\"}, {\"alignmentgroup\": \"True\", \"hovertemplate\": \"x=%{x}<br>y=%{y}<extra></extra>\", \"legendgroup\": \"\", \"marker\": {\"color\": \"#636efa\"}, \"name\": \"\", \"offsetgroup\": \"\", \"orientation\": \"v\", \"showlegend\": false, \"textposition\": \"auto\", \"type\": \"bar\", \"x\": [0, 1, 2, 3, 4, 5, 6, 7, 8, 9, 10, 11, 12, 13, 14, 15, 16, 17, 18, 19, 20, 21, 22, 23, 24, 25, 26, 27, 28, 29, 30, 31, 32, 33, 34, 35, 36, 37, 38, 39, 40, 41, 42, 43, 44, 45, 46, 47, 48, 49, 50, 51, 52, 53, 54, 55, 56, 57, 58, 59, 60, 61, 62, 63, 64, 65, 66, 67, 68, 69, 70, 71, 72, 73, 74, 75, 76, 77, 78, 79, 80, 81, 82, 83, 84, 85, 86, 87, 88, 89, 90, 91, 92, 93, 94, 95, 96, 97, 98, 99, 100, 101, 102, 103, 104, 105, 106, 107, 108, 109, 110, 111, 112, 113, 114, 115, 116, 117, 118, 119], \"xaxis\": \"x3\", \"y\": [-0.6959399061545487, -0.6959399061545487, -0.6959399061545487, -0.6959399061545487, -0.6959399061545487, -0.6959399061545487, -0.6959399061545487, -0.6959399061545487, -0.6959399061545487, -0.6959399061545487, -0.6959399061545487, -0.6959399061545487, -0.6959399061545487, -0.6959399061545487, -0.6959399061545487, -0.6959399061545487, -0.6959399061545487, -0.6959399061545487, -0.6959399061545487, -0.6959399061545487, -0.6959399061545487, -0.6959399061545487, -0.6959399061545487, -0.6959399061545487, -0.6959399061545487, -0.6959399061545487, -0.6959399061545487, -0.6959399061545487, -0.6959399061545487, -0.6959399061545487, -0.6959399061545487, -0.6959399061545487, -0.6959399061545487, -0.6959399061545487, -0.6959399061545487, -0.6959399061545487, -0.6959399061545487, -0.6959399061545487, -0.6959399061545487, -0.6959399061545487, -0.6959399061545487, -0.6959399061545487, -0.6959399061545487, -0.6959399061545487, -0.6959399061545487, -0.6959399061545487, -0.6959399061545487, -0.6959399061545487, -0.6959399061545487, -0.6959399061545487, -0.6959399061545487, -0.6959399061545487, -0.6959399061545487, -0.6959399061545487, -0.6959399061545487, -0.6959399061545487, -0.6959399061545487, -0.6959399061545487, -0.6959399061545487, -0.6959399061545487, -0.6959399061545487, -0.6959399061545487, -0.6959399061545487, -0.6959399061545487, -0.6959399061545487, -0.6959399061545487, -0.6959399061545487, -0.6959399061545487, -0.6959399061545487, -0.6959399061545487, -0.6959399061545487, -0.6959399061545487, -0.6959399061545487, -0.6959399061545487, -0.6959399061545487, -0.6959399061545487, -0.6959399061545487, -0.6959399061545487, -0.6959399061545487, -0.6959399061545487, -0.6959399061545487, -0.6959399061545487, -0.6959399061545487, -0.6959399061545487, -0.6959399061545487, -0.6959399061545487, -0.6959399061545487, -0.6959399061545487, -0.6959399061545487, -0.6959399061545487, -0.6959399061545487, -0.6959399061545487, -0.6959399061545487, -0.6959399061545487, -0.6959399061545487, -0.6959399061545487, -0.6959399061545487, -0.6959399061545487, -0.6959399061545487, -0.6959399061545487, -0.6959399061545487, -0.6959399061545487, -0.6959399061545487, -0.6959399061545487, -0.6959399061545487, -0.6959399061545487, -0.6959399061545487, -0.6959399061545487, -0.6959399061545487, -0.6959399061545487, -0.6959399061545487, -0.6959399061545487, -0.6959399061545487, -0.6959399061545487, -0.6959399061545487, -0.6959399061545487, -0.6959399061545487, -0.6959399061545487, -0.6959399061545487, -0.6959399061545487], \"yaxis\": \"y3\"}, {\"name\": \"J6\", \"type\": \"scatter\", \"x\": [0, 1, 2, 3, 4, 5, 6, 7, 8, 9, 10, 11, 12, 13, 14, 15, 16, 17, 18, 19, 20, 21, 22, 23, 24, 25, 26, 27, 28, 29, 30, 31, 32, 33, 34, 35, 36, 37, 38, 39, 40, 41, 42, 43, 44, 45, 46, 47, 48, 49, 50, 51, 52, 53, 54, 55, 56, 57, 58, 59, 60, 61, 62, 63, 64, 65, 66, 67, 68, 69, 70, 71, 72, 73, 74, 75, 76, 77, 78, 79, 80, 81, 82, 83, 84, 85, 86, 87, 88, 89, 90, 91, 92, 93, 94, 95, 96, 97, 98, 99, 100, 101, 102, 103, 104, 105, 106, 107, 108, 109, 110, 111, 112, 113, 114, 115, 116, 117, 118, 119], \"xaxis\": \"x4\", \"y\": [0.0, -0.0, -0.0, -0.0, -0.0, -0.11820504486161937, -0.30866877922424063, -0.021096672913559985, -0.0002702721291744508, -0.09160466101672815, -0.010623070250260444, 0.06683679108629012, 0.4120735391883163, 0.050567193066609006, 0.09508495987329407, 0.9528503742999286, 0.20269092867825497, 1.2265610437173333, 1.4672497562371727, 0.28414965221998395, 0.5494227662875417, 3.201246580006426, 1.2411464825168441, 2.9575947237677953, 0.9146158830632221, 0.6867752499266756, 2.946645979568546, 1.9145507105793682, 3.266694690684853, 3.6873738424913833, 1.7921547640400877, 3.0519839738665326, 2.294327236035232, 2.049913604458549, 3.654558418468491, 2.8927870082059965, 2.958154088961828, 2.190737638207341, 0.9476808828250878, 1.3271355001054395, 0.2679774713192154, 0.11737602398004468, 0.0010601280827894732, -0.039531002418207895, -0.8699728757841672, -0.26546373054249306, -0.7196389251378513, -1.038916203557764, -1.7371770856908655, -1.7529018190159609, -0.7031106784230096, -4.213107367217885, -2.569708146118352, -5.0564894721063105, -6.961949207682478, -3.3239221810285553, -1.5388242325694568, -6.693557920483081, -4.476657774444943, -11.674629868491909, -9.809170416597816, -4.914403578127951, -3.4040354495256375, -2.900803218991749, -0.8310611351380849, -1.0119596100390622, -1.711569930655214, -1.6052171851716048, -1.7890562955830427, -0.7003962137798173, -0.4063531023978149, -0.31071065766623623, -0.13444713868078859, 0.12237555454100306, 0.0, 0.0, 0.0, 0.0, 0.0, 0.0, 0.0, 0.0, 0.0, 0.0, 0.0, 0.0, 0.0, 0.0, 0.0, 0.0, 0.0, 0.0, 0.0, 0.0, 0.0, 0.0, 0.0, 0.0, 0.0, 0.0, 0.0, 0.0, 0.0, 0.0, 0.0, 0.0, -0.0, -0.0, -0.0, -0.0, -0.0, -0.0, -0.0, -0.0, -0.0, -0.0, -0.0, -0.0, -0.0, -0.0], \"yaxis\": \"y4\"}, {\"name\": \"J6\", \"type\": \"scatter\", \"x\": [0, 1, 2, 3, 4, 5, 6, 7, 8, 9, 10, 11, 12, 13, 14, 15, 16, 17, 18, 19, 20, 21, 22, 23, 24, 25, 26, 27, 28, 29, 30, 31, 32, 33, 34, 35, 36, 37, 38, 39, 40, 41, 42, 43, 44, 45, 46, 47, 48, 49, 50, 51, 52, 53, 54, 55, 56, 57, 58, 59, 60, 61, 62, 63, 64, 65, 66, 67, 68, 69, 70, 71, 72, 73, 74, 75, 76, 77, 78, 79, 80, 81, 82, 83, 84, 85, 86, 87, 88, 89, 90, 91, 92, 93, 94, 95, 96, 97, 98, 99, 100, 101, 102, 103, 104, 105, 106, 107, 108, 109, 110, 111, 112, 113, 114, 115, 116, 117, 118, 119], \"xaxis\": \"x4\", \"y\": [0.0, 0.0, 0.0, 0.0, 0.0, 0.20353948726655458, 0.680837964132316, 0.06257880840505467, 0.0011827038961908394, 0.7339438705193888, 0.4486004580395737, 0.8683622807418135, 2.2996132329024044, 0.17731779254100047, 0.23924360554798776, 1.8356701838011191, 0.3098558386200009, 1.517469679334331, 1.4823731469723025, 0.2345342393602878, 0.3675020702565085, 1.7035828800036505, 0.5080795269525209, 0.8763340420968678, 0.17359046499633532, 0.05995026850699724, -0.03955131180210702, -0.2190444618311242, -0.7113407958219522, -1.2011282381064203, -0.790449054025031, -1.7308269701261265, -1.6254413808255537, -1.7866117738965936, -3.896037334797887, -3.782188550644823, -4.798547602863997, -4.512711720889064, -2.584509744215305, -5.176731201429311, -1.7675066004829276, -2.3467874884982907, -0.020966716607498295, -0.2597796302823611, -3.3858080008027063, -0.7227512467731885, -1.480332200677568, -1.6832142654640962, -2.2687153031127947, -1.8666852002119927, -0.6121249089528163, -2.981372271118886, -1.4554691361240883, -2.2269251471878175, -2.2635917219130612, -0.7219036865675833, -0.17520719929624193, -0.08619267666351657, 0.39323868841640447, 2.222396187544408, 2.912273848091005, 2.0149056611577194, 1.8138826399469288, 1.942602186817328, 0.6867118667459774, 1.0235061465395245, 2.1198741813732367, 2.4568371217272813, 3.451226616353373, 1.7650737391459803, 1.427861294646806, 1.73941254974786, 1.7593153535991373, 5.051369098412825, 0.0, 0.0, 0.0, 0.0, 0.0, 0.0, 0.0, 0.0, 0.0, 0.0, 0.0, 0.0, 0.0, 0.0, 0.0, -0.0, -0.0, -0.0, -0.0, -0.0, -0.0, -0.0, -0.0, -0.0, -0.0, -0.0, -0.0, -0.0, -0.0, -0.0, -0.0, -0.0, -0.0, -0.0, -0.0, -0.0, -0.0, -0.0, -0.0, -0.0, -0.0, -0.0, -0.0, -0.0, -0.0, -0.0], \"yaxis\": \"y4\"}, {\"name\": \"J6\", \"type\": \"scatter\", \"x\": [0, 1, 2, 3, 4, 5, 6, 7, 8, 9, 10, 11, 12, 13, 14, 15, 16, 17, 18, 19, 20, 21, 22, 23, 24, 25, 26, 27, 28, 29, 30, 31, 32, 33, 34, 35, 36, 37, 38, 39, 40, 41, 42, 43, 44, 45, 46, 47, 48, 49, 50, 51, 52, 53, 54, 55, 56, 57, 58, 59, 60, 61, 62, 63, 64, 65, 66, 67, 68, 69, 70, 71, 72, 73, 74, 75, 76, 77, 78, 79, 80, 81, 82, 83, 84, 85, 86, 87, 88, 89, 90, 91, 92, 93, 94, 95, 96, 97, 98, 99, 100, 101, 102, 103, 104, 105, 106, 107, 108, 109, 110, 111, 112, 113, 114, 115, 116, 117, 118, 119], \"xaxis\": \"x5\", \"y\": [0.0, 0.0, 0.0, 0.0, 0.0, 0.03398783877491951, 0.10794447362422943, 0.00953602883964777, 0.00017518436652608216, 0.10680342465639114, 0.0647958442568779, 0.1257619559764862, 0.3373521566390991, 0.02662542089819908, 0.03717513382434845, 0.2986525595188141, 0.05346570909023285, 0.28175175189971924, 0.3011777698993683, 0.053202416747808456, 0.09544830769300461, 0.5236383676528931, 0.1936563402414322, 0.4454280734062195, 0.13442778587341309, 0.0995471253991127, 0.4255325496196747, 0.2782636880874634, 0.4827632009983063, 0.5599915385246277, 0.282839834690094, 0.5066420435905457, 0.40601682662963867, 0.392653226852417, 0.7713543176651001, 0.6875777244567871, 0.8139923810958862, 0.7243603467941284, 0.39749985933303833, 0.7716912031173706, 0.258143812417984, 0.3392985463142395, 0.18650510907173157, 0.03794388100504875, 0.5047903656959534, 0.11118202656507492, 0.23767928779125214, 0.2856248915195465, 0.41261014342308044, 0.36976364254951477, 0.1346142292022705, 0.7452868819236755, 0.4264504015445709, 0.7978289127349854, 1.0571048259735107, 0.4911622107028961, 0.22364111244678497, 0.9666265845298767, 0.6489163637161255, 1.7160836458206177, 1.477547526359558, 0.7669667601585388, 0.5569709539413452, 0.50412517786026, 0.1556728333234787, 0.2078363448381424, 0.3934280574321747, 0.423776775598526, 0.5613350868225098, 0.27420854568481445, 0.21436935663223267, 0.2551460862159729, 0.2547850012779236, 0.7296292185783386, 0.0, 0.0, 0.0, 0.0, 0.0, 0.0, 0.0, 0.0, 0.0, 0.0, 0.0, 0.0, 0.0, 0.0, 0.0, 0.0, 0.0, 0.0, 0.0, 0.0, 0.0, 0.0, 0.0, 0.0, 0.0, 0.0, 0.0, 0.0, 0.0, 0.0, 0.0, 0.0, 0.0, 0.0, 0.0, 0.0, 0.0, 0.0, 0.0, 0.0, 0.0, 0.0, 0.0, 0.0, 0.0, 0.0], \"yaxis\": \"y5\"}],                        {\"annotations\": [{\"font\": {\"size\": 16}, \"showarrow\": false, \"text\": \"Original\", \"x\": 0.5, \"xanchor\": \"center\", \"xref\": \"paper\", \"y\": 1.0, \"yanchor\": \"bottom\", \"yref\": \"paper\"}, {\"font\": {\"size\": 16}, \"showarrow\": false, \"text\": \"Normalised\", \"x\": 0.5, \"xanchor\": \"center\", \"xref\": \"paper\", \"y\": 0.78, \"yanchor\": \"bottom\", \"yref\": \"paper\"}, {\"font\": {\"size\": 16}, \"showarrow\": false, \"text\": \"Optimised\", \"x\": 0.5, \"xanchor\": \"center\", \"xref\": \"paper\", \"y\": 0.56, \"yanchor\": \"bottom\", \"yref\": \"paper\"}, {\"font\": {\"size\": 16}, \"showarrow\": false, \"text\": \"Local phase vector\", \"x\": 0.5, \"xanchor\": \"center\", \"xref\": \"paper\", \"y\": 0.33999999999999997, \"yanchor\": \"bottom\", \"yref\": \"paper\"}, {\"font\": {\"size\": 16}, \"showarrow\": false, \"text\": \"Velocity Magnitude\", \"x\": 0.5, \"xanchor\": \"center\", \"xref\": \"paper\", \"y\": 0.12, \"yanchor\": \"bottom\", \"yref\": \"paper\"}], \"height\": 800, \"template\": {\"data\": {\"bar\": [{\"error_x\": {\"color\": \"#2a3f5f\"}, \"error_y\": {\"color\": \"#2a3f5f\"}, \"marker\": {\"line\": {\"color\": \"#E5ECF6\", \"width\": 0.5}}, \"type\": \"bar\"}], \"barpolar\": [{\"marker\": {\"line\": {\"color\": \"#E5ECF6\", \"width\": 0.5}}, \"type\": \"barpolar\"}], \"carpet\": [{\"aaxis\": {\"endlinecolor\": \"#2a3f5f\", \"gridcolor\": \"white\", \"linecolor\": \"white\", \"minorgridcolor\": \"white\", \"startlinecolor\": \"#2a3f5f\"}, \"baxis\": {\"endlinecolor\": \"#2a3f5f\", \"gridcolor\": \"white\", \"linecolor\": \"white\", \"minorgridcolor\": \"white\", \"startlinecolor\": \"#2a3f5f\"}, \"type\": \"carpet\"}], \"choropleth\": [{\"colorbar\": {\"outlinewidth\": 0, \"ticks\": \"\"}, \"type\": \"choropleth\"}], \"contour\": [{\"colorbar\": {\"outlinewidth\": 0, \"ticks\": \"\"}, \"colorscale\": [[0.0, \"#0d0887\"], [0.1111111111111111, \"#46039f\"], [0.2222222222222222, \"#7201a8\"], [0.3333333333333333, \"#9c179e\"], [0.4444444444444444, \"#bd3786\"], [0.5555555555555556, \"#d8576b\"], [0.6666666666666666, \"#ed7953\"], [0.7777777777777778, \"#fb9f3a\"], [0.8888888888888888, \"#fdca26\"], [1.0, \"#f0f921\"]], \"type\": \"contour\"}], \"contourcarpet\": [{\"colorbar\": {\"outlinewidth\": 0, \"ticks\": \"\"}, \"type\": \"contourcarpet\"}], \"heatmap\": [{\"colorbar\": {\"outlinewidth\": 0, \"ticks\": \"\"}, \"colorscale\": [[0.0, \"#0d0887\"], [0.1111111111111111, \"#46039f\"], [0.2222222222222222, \"#7201a8\"], [0.3333333333333333, \"#9c179e\"], [0.4444444444444444, \"#bd3786\"], [0.5555555555555556, \"#d8576b\"], [0.6666666666666666, \"#ed7953\"], [0.7777777777777778, \"#fb9f3a\"], [0.8888888888888888, \"#fdca26\"], [1.0, \"#f0f921\"]], \"type\": \"heatmap\"}], \"heatmapgl\": [{\"colorbar\": {\"outlinewidth\": 0, \"ticks\": \"\"}, \"colorscale\": [[0.0, \"#0d0887\"], [0.1111111111111111, \"#46039f\"], [0.2222222222222222, \"#7201a8\"], [0.3333333333333333, \"#9c179e\"], [0.4444444444444444, \"#bd3786\"], [0.5555555555555556, \"#d8576b\"], [0.6666666666666666, \"#ed7953\"], [0.7777777777777778, \"#fb9f3a\"], [0.8888888888888888, \"#fdca26\"], [1.0, \"#f0f921\"]], \"type\": \"heatmapgl\"}], \"histogram\": [{\"marker\": {\"colorbar\": {\"outlinewidth\": 0, \"ticks\": \"\"}}, \"type\": \"histogram\"}], \"histogram2d\": [{\"colorbar\": {\"outlinewidth\": 0, \"ticks\": \"\"}, \"colorscale\": [[0.0, \"#0d0887\"], [0.1111111111111111, \"#46039f\"], [0.2222222222222222, \"#7201a8\"], [0.3333333333333333, \"#9c179e\"], [0.4444444444444444, \"#bd3786\"], [0.5555555555555556, \"#d8576b\"], [0.6666666666666666, \"#ed7953\"], [0.7777777777777778, \"#fb9f3a\"], [0.8888888888888888, \"#fdca26\"], [1.0, \"#f0f921\"]], \"type\": \"histogram2d\"}], \"histogram2dcontour\": [{\"colorbar\": {\"outlinewidth\": 0, \"ticks\": \"\"}, \"colorscale\": [[0.0, \"#0d0887\"], [0.1111111111111111, \"#46039f\"], [0.2222222222222222, \"#7201a8\"], [0.3333333333333333, \"#9c179e\"], [0.4444444444444444, \"#bd3786\"], [0.5555555555555556, \"#d8576b\"], [0.6666666666666666, \"#ed7953\"], [0.7777777777777778, \"#fb9f3a\"], [0.8888888888888888, \"#fdca26\"], [1.0, \"#f0f921\"]], \"type\": \"histogram2dcontour\"}], \"mesh3d\": [{\"colorbar\": {\"outlinewidth\": 0, \"ticks\": \"\"}, \"type\": \"mesh3d\"}], \"parcoords\": [{\"line\": {\"colorbar\": {\"outlinewidth\": 0, \"ticks\": \"\"}}, \"type\": \"parcoords\"}], \"pie\": [{\"automargin\": true, \"type\": \"pie\"}], \"scatter\": [{\"marker\": {\"colorbar\": {\"outlinewidth\": 0, \"ticks\": \"\"}}, \"type\": \"scatter\"}], \"scatter3d\": [{\"line\": {\"colorbar\": {\"outlinewidth\": 0, \"ticks\": \"\"}}, \"marker\": {\"colorbar\": {\"outlinewidth\": 0, \"ticks\": \"\"}}, \"type\": \"scatter3d\"}], \"scattercarpet\": [{\"marker\": {\"colorbar\": {\"outlinewidth\": 0, \"ticks\": \"\"}}, \"type\": \"scattercarpet\"}], \"scattergeo\": [{\"marker\": {\"colorbar\": {\"outlinewidth\": 0, \"ticks\": \"\"}}, \"type\": \"scattergeo\"}], \"scattergl\": [{\"marker\": {\"colorbar\": {\"outlinewidth\": 0, \"ticks\": \"\"}}, \"type\": \"scattergl\"}], \"scattermapbox\": [{\"marker\": {\"colorbar\": {\"outlinewidth\": 0, \"ticks\": \"\"}}, \"type\": \"scattermapbox\"}], \"scatterpolar\": [{\"marker\": {\"colorbar\": {\"outlinewidth\": 0, \"ticks\": \"\"}}, \"type\": \"scatterpolar\"}], \"scatterpolargl\": [{\"marker\": {\"colorbar\": {\"outlinewidth\": 0, \"ticks\": \"\"}}, \"type\": \"scatterpolargl\"}], \"scatterternary\": [{\"marker\": {\"colorbar\": {\"outlinewidth\": 0, \"ticks\": \"\"}}, \"type\": \"scatterternary\"}], \"surface\": [{\"colorbar\": {\"outlinewidth\": 0, \"ticks\": \"\"}, \"colorscale\": [[0.0, \"#0d0887\"], [0.1111111111111111, \"#46039f\"], [0.2222222222222222, \"#7201a8\"], [0.3333333333333333, \"#9c179e\"], [0.4444444444444444, \"#bd3786\"], [0.5555555555555556, \"#d8576b\"], [0.6666666666666666, \"#ed7953\"], [0.7777777777777778, \"#fb9f3a\"], [0.8888888888888888, \"#fdca26\"], [1.0, \"#f0f921\"]], \"type\": \"surface\"}], \"table\": [{\"cells\": {\"fill\": {\"color\": \"#EBF0F8\"}, \"line\": {\"color\": \"white\"}}, \"header\": {\"fill\": {\"color\": \"#C8D4E3\"}, \"line\": {\"color\": \"white\"}}, \"type\": \"table\"}]}, \"layout\": {\"annotationdefaults\": {\"arrowcolor\": \"#2a3f5f\", \"arrowhead\": 0, \"arrowwidth\": 1}, \"autotypenumbers\": \"strict\", \"coloraxis\": {\"colorbar\": {\"outlinewidth\": 0, \"ticks\": \"\"}}, \"colorscale\": {\"diverging\": [[0, \"#8e0152\"], [0.1, \"#c51b7d\"], [0.2, \"#de77ae\"], [0.3, \"#f1b6da\"], [0.4, \"#fde0ef\"], [0.5, \"#f7f7f7\"], [0.6, \"#e6f5d0\"], [0.7, \"#b8e186\"], [0.8, \"#7fbc41\"], [0.9, \"#4d9221\"], [1, \"#276419\"]], \"sequential\": [[0.0, \"#0d0887\"], [0.1111111111111111, \"#46039f\"], [0.2222222222222222, \"#7201a8\"], [0.3333333333333333, \"#9c179e\"], [0.4444444444444444, \"#bd3786\"], [0.5555555555555556, \"#d8576b\"], [0.6666666666666666, \"#ed7953\"], [0.7777777777777778, \"#fb9f3a\"], [0.8888888888888888, \"#fdca26\"], [1.0, \"#f0f921\"]], \"sequentialminus\": [[0.0, \"#0d0887\"], [0.1111111111111111, \"#46039f\"], [0.2222222222222222, \"#7201a8\"], [0.3333333333333333, \"#9c179e\"], [0.4444444444444444, \"#bd3786\"], [0.5555555555555556, \"#d8576b\"], [0.6666666666666666, \"#ed7953\"], [0.7777777777777778, \"#fb9f3a\"], [0.8888888888888888, \"#fdca26\"], [1.0, \"#f0f921\"]]}, \"colorway\": [\"#636efa\", \"#EF553B\", \"#00cc96\", \"#ab63fa\", \"#FFA15A\", \"#19d3f3\", \"#FF6692\", \"#B6E880\", \"#FF97FF\", \"#FECB52\"], \"font\": {\"color\": \"#2a3f5f\"}, \"geo\": {\"bgcolor\": \"white\", \"lakecolor\": \"white\", \"landcolor\": \"#E5ECF6\", \"showlakes\": true, \"showland\": true, \"subunitcolor\": \"white\"}, \"hoverlabel\": {\"align\": \"left\"}, \"hovermode\": \"closest\", \"mapbox\": {\"style\": \"light\"}, \"paper_bgcolor\": \"white\", \"plot_bgcolor\": \"#E5ECF6\", \"polar\": {\"angularaxis\": {\"gridcolor\": \"white\", \"linecolor\": \"white\", \"ticks\": \"\"}, \"bgcolor\": \"#E5ECF6\", \"radialaxis\": {\"gridcolor\": \"white\", \"linecolor\": \"white\", \"ticks\": \"\"}}, \"scene\": {\"xaxis\": {\"backgroundcolor\": \"#E5ECF6\", \"gridcolor\": \"white\", \"gridwidth\": 2, \"linecolor\": \"white\", \"showbackground\": true, \"ticks\": \"\", \"zerolinecolor\": \"white\"}, \"yaxis\": {\"backgroundcolor\": \"#E5ECF6\", \"gridcolor\": \"white\", \"gridwidth\": 2, \"linecolor\": \"white\", \"showbackground\": true, \"ticks\": \"\", \"zerolinecolor\": \"white\"}, \"zaxis\": {\"backgroundcolor\": \"#E5ECF6\", \"gridcolor\": \"white\", \"gridwidth\": 2, \"linecolor\": \"white\", \"showbackground\": true, \"ticks\": \"\", \"zerolinecolor\": \"white\"}}, \"shapedefaults\": {\"line\": {\"color\": \"#2a3f5f\"}}, \"ternary\": {\"aaxis\": {\"gridcolor\": \"white\", \"linecolor\": \"white\", \"ticks\": \"\"}, \"baxis\": {\"gridcolor\": \"white\", \"linecolor\": \"white\", \"ticks\": \"\"}, \"bgcolor\": \"#E5ECF6\", \"caxis\": {\"gridcolor\": \"white\", \"linecolor\": \"white\", \"ticks\": \"\"}}, \"title\": {\"x\": 0.05}, \"xaxis\": {\"automargin\": true, \"gridcolor\": \"white\", \"linecolor\": \"white\", \"ticks\": \"\", \"title\": {\"standoff\": 15}, \"zerolinecolor\": \"white\", \"zerolinewidth\": 2}, \"yaxis\": {\"automargin\": true, \"gridcolor\": \"white\", \"linecolor\": \"white\", \"ticks\": \"\", \"title\": {\"standoff\": 15}, \"zerolinecolor\": \"white\", \"zerolinewidth\": 2}}}, \"title\": {\"text\": \"Contact info\"}, \"width\": 800, \"xaxis\": {\"anchor\": \"y\", \"domain\": [0.0, 1.0], \"title\": {\"text\": \"frames\"}}, \"xaxis2\": {\"anchor\": \"y2\", \"domain\": [0.0, 1.0], \"title\": {\"text\": \"frames\"}}, \"xaxis3\": {\"anchor\": \"y3\", \"domain\": [0.0, 1.0], \"title\": {\"text\": \"frames\"}}, \"xaxis4\": {\"anchor\": \"y4\", \"domain\": [0.0, 1.0], \"title\": {\"text\": \"frames\"}}, \"xaxis5\": {\"anchor\": \"y5\", \"domain\": [0.0, 1.0], \"title\": {\"text\": \"frames\"}}, \"yaxis\": {\"anchor\": \"x\", \"domain\": [0.88, 1.0]}, \"yaxis2\": {\"anchor\": \"x2\", \"domain\": [0.66, 0.78]}, \"yaxis3\": {\"anchor\": \"x3\", \"domain\": [0.44, 0.56]}, \"yaxis4\": {\"anchor\": \"x4\", \"domain\": [0.22, 0.33999999999999997]}, \"yaxis5\": {\"anchor\": \"x5\", \"domain\": [0.0, 0.12]}},                        {\"responsive\": true}                    ).then(function(){\n                            \nvar gd = document.getElementById('835ced33-425b-495d-a520-28e2e2107382');\nvar x = new MutationObserver(function (mutations, observer) {{\n        var display = window.getComputedStyle(gd).display;\n        if (!display || display === 'none') {{\n            console.log([gd, 'removed!']);\n            Plotly.purge(gd);\n            observer.disconnect();\n        }}\n}});\n\n// Listen for the removal of the full notebook cells\nvar notebookContainer = gd.closest('#notebook-container');\nif (notebookContainer) {{\n    x.observe(notebookContainer, {childList: true});\n}}\n\n// Listen for the clearing of the current output cell\nvar outputEl = gd.closest('.output');\nif (outputEl) {{\n    x.observe(outputEl, {childList: true});\n}}\n\n                        })                };                });            </script>        </div>"
     },
     "metadata": {},
     "output_type": "display_data"
    }
   ],
   "source": [
    "# plot_contact(cO_14, cNormalised1, cOpt1, cLocalPhase1, cAmp1)\n",
    "plot_contact_single(cO_6, cN_6, cOpt_6, cLocal_6, cAmp_6, cVel_6, i=6)"
   ],
   "metadata": {
    "collapsed": false,
    "pycharm": {
     "name": "#%%\n"
    }
   }
  },
  {
   "cell_type": "code",
   "execution_count": 267,
   "outputs": [
    {
     "data": {
      "application/vnd.plotly.v1+json": {
       "config": {
        "plotlyServerURL": "https://plot.ly"
       },
       "data": [
        {
         "name": "J10",
         "type": "scatter",
         "x": [
          0,
          1,
          2,
          3,
          4,
          5,
          6,
          7,
          8,
          9,
          10,
          11,
          12,
          13,
          14,
          15,
          16,
          17,
          18,
          19,
          20,
          21,
          22,
          23,
          24,
          25,
          26,
          27,
          28,
          29,
          30,
          31,
          32,
          33,
          34,
          35,
          36,
          37,
          38,
          39,
          40,
          41,
          42,
          43,
          44,
          45,
          46,
          47,
          48,
          49,
          50,
          51,
          52,
          53,
          54,
          55,
          56,
          57,
          58,
          59,
          60,
          61,
          62,
          63,
          64,
          65,
          66,
          67,
          68,
          69,
          70,
          71,
          72,
          73,
          74,
          75,
          76,
          77,
          78,
          79,
          80,
          81,
          82,
          83,
          84,
          85,
          86,
          87,
          88,
          89,
          90,
          91,
          92,
          93,
          94,
          95,
          96,
          97,
          98,
          99,
          100,
          101,
          102,
          103,
          104,
          105,
          106,
          107,
          108,
          109,
          110,
          111,
          112,
          113,
          114,
          115,
          116,
          117,
          118,
          119
         ],
         "xaxis": "x",
         "y": [
          0.0,
          0.0,
          0.0,
          0.0,
          0.0,
          0.0,
          0.0,
          0.0,
          0.0,
          0.0,
          0.0,
          0.0,
          0.0,
          0.0,
          0.0,
          0.0,
          0.0,
          0.0,
          0.0,
          0.0,
          0.0,
          0.0,
          0.0,
          0.0,
          0.0,
          0.0,
          0.0,
          0.0,
          0.0,
          0.0,
          0.0,
          0.0,
          0.0,
          0.0,
          0.0,
          0.0,
          0.0,
          0.0,
          0.0,
          0.0,
          0.0,
          0.0,
          0.0,
          0.0,
          0.0,
          0.0,
          0.0,
          0.0,
          1.0,
          1.0,
          1.0,
          1.0,
          1.0,
          1.0,
          1.0,
          1.0,
          1.0,
          1.0,
          1.0,
          1.0,
          1.0,
          1.0,
          1.0,
          1.0,
          0.0,
          0.0,
          0.0,
          0.0,
          0.0,
          0.0,
          0.0,
          0.0,
          0.0,
          0.0,
          0.0,
          0.0,
          0.0,
          0.0,
          0.0,
          0.0,
          0.0,
          0.0,
          0.0,
          0.0,
          0.0,
          0.0,
          0.0,
          0.0,
          0.0,
          0.0,
          0.0,
          0.0,
          0.0,
          0.0,
          0.0,
          0.0,
          0.0,
          0.0,
          0.0,
          0.0,
          0.0,
          0.0,
          0.0,
          0.0,
          0.0,
          0.0,
          0.0,
          0.0,
          0.0,
          0.0,
          0.0,
          0.0,
          0.0,
          0.0,
          0.0,
          0.0,
          0.0,
          0.0,
          0.0,
          0.0
         ],
         "yaxis": "y"
        },
        {
         "name": "J10",
         "type": "scatter",
         "x": [
          0,
          1,
          2,
          3,
          4,
          5,
          6,
          7,
          8,
          9,
          10,
          11,
          12,
          13,
          14,
          15,
          16,
          17,
          18,
          19,
          20,
          21,
          22,
          23,
          24,
          25,
          26,
          27,
          28,
          29,
          30,
          31,
          32,
          33,
          34,
          35,
          36,
          37,
          38,
          39,
          40,
          41,
          42,
          43,
          44,
          45,
          46,
          47,
          48,
          49,
          50,
          51,
          52,
          53,
          54,
          55,
          56,
          57,
          58,
          59,
          60,
          61,
          62,
          63,
          64,
          65,
          66,
          67,
          68,
          69,
          70,
          71,
          72,
          73,
          74,
          75,
          76,
          77,
          78,
          79,
          80,
          81,
          82,
          83,
          84,
          85,
          86,
          87,
          88,
          89,
          90,
          91,
          92,
          93,
          94,
          95,
          96,
          97,
          98,
          99,
          100,
          101,
          102,
          103,
          104,
          105,
          106,
          107,
          108,
          109,
          110,
          111,
          112,
          113,
          114,
          115,
          116,
          117,
          118,
          119
         ],
         "xaxis": "x2",
         "y": [
          0.0,
          0.0,
          0.0,
          0.0,
          0.0,
          0.0,
          0.0,
          0.0,
          0.0,
          0.0,
          0.0,
          0.0,
          0.0,
          0.0,
          0.0,
          0.0,
          0.0,
          0.0,
          0.0,
          -4.183183554776743E-4,
          -0.0028396739560364623,
          -0.009688848289112378,
          -0.022949455127116263,
          -0.04351240292068252,
          -0.07124539368282631,
          -0.10522682110786093,
          -0.14402548661185738,
          -0.18596757549732046,
          -0.22936087332685906,
          -0.27266323159039496,
          -0.31459319439133,
          -0.3542035440860143,
          -0.3909342512114547,
          -0.42460928757912636,
          -0.45536277597364405,
          -0.48346791875576084,
          -0.5090730466046413,
          -0.5320748068653295,
          -0.5522358211387454,
          -0.5693452611169302,
          -0.5833055962074211,
          -0.5941657389626007,
          -0.6021178068951065,
          -0.6074716420184755,
          -0.6106182009533577,
          -0.6119900774815586,
          -0.6120248553304205,
          -0.6111347905040541,
          -0.6031307449317765,
          -0.5662027669550413,
          -0.4738399454733711,
          -0.31499651321638417,
          -0.09643942103275524,
          0.16511432845607804,
          0.44891002355799875,
          0.734326528595766,
          1.003555828394405,
          1.2430624411943179,
          1.4440978479145794,
          1.6025317883145371,
          1.7182357420546124,
          1.7942184584791263,
          1.8356733449530689,
          1.8490567131832278,
          1.8347236176963921,
          1.777269961142415,
          1.6559827598585521,
          1.464703911444989,
          1.2140262767569647,
          0.9234048201479271,
          0.6153134994830112,
          0.31120827440117527,
          0.029018875039606432,
          -0.2181261583108206,
          -0.422235065838287,
          -0.5801243082784315,
          -0.6926694358128769,
          -0.7638390486805476,
          -0.7996718494881949,
          -0.8072389027445921,
          -0.7936395651811564,
          -0.7652985940531419,
          -0.7276819750593991,
          -0.6852208569197513,
          -0.6413055787592649,
          -0.598341556624257,
          -0.5578528625439615,
          -0.5206169056915153,
          -0.4868137235714769,
          -0.4561750841536488,
          -0.42812102968471644,
          -0.40187959779437177,
          -0.3765797082726517,
          -0.35127727009429155,
          -0.3247153455275435,
          -0.29524455874507516,
          -0.2617404326110059,
          -0.2245378591630117,
          -0.18517612105065234,
          -0.14567790122874613,
          -0.10805360476654716,
          -0.07399266332874627,
          -0.04470338111097055,
          -0.020864559210726625,
          -0.0026553921710377178,
          0.01016543503114167,
          0.018155383787087587,
          0.022076992745421076,
          0.022793457387916848,
          0.021179488781114707,
          0.018052050806372507,
          0.014122349419067507,
          0.009968053256510977,
          0.006023119510321918,
          0.0025816905785183085,
          -1.878061326966013E-4,
          -0.0022221153741327788,
          -0.0035395136374030993,
          -0.004215816844614258,
          -0.004362100765214377
         ],
         "yaxis": "y2"
        },
        {
         "name": "J10",
         "type": "scatter",
         "x": [
          0,
          1,
          2,
          3,
          4,
          5,
          6,
          7,
          8,
          9,
          10,
          11,
          12,
          13,
          14,
          15,
          16,
          17,
          18,
          19,
          20,
          21,
          22,
          23,
          24,
          25,
          26,
          27,
          28,
          29,
          30,
          31,
          32,
          33,
          34,
          35,
          36,
          37,
          38,
          39,
          40,
          41,
          42,
          43,
          44,
          45,
          46,
          47,
          48,
          49,
          50,
          51,
          52,
          53,
          54,
          55,
          56,
          57,
          58,
          59,
          60,
          61,
          62,
          63,
          64,
          65,
          66,
          67,
          68,
          69,
          70,
          71,
          72,
          73,
          74,
          75,
          76,
          77,
          78,
          79,
          80,
          81,
          82,
          83,
          84,
          85,
          86,
          87,
          88,
          89,
          90,
          91,
          92,
          93,
          94,
          95,
          96,
          97,
          98,
          99,
          100,
          101,
          102,
          103,
          104,
          105,
          106,
          107,
          108,
          109,
          110,
          111,
          112,
          113,
          114,
          115,
          116,
          117,
          118,
          119
         ],
         "xaxis": "x3",
         "y": [
          -0.356148439577273,
          -0.27647381067892085,
          -0.19356779927324053,
          -0.10890930725135312,
          -0.024008497770640708,
          0.05962014348119357,
          0.14048482412863628,
          0.21714305614088653,
          0.2882273873589214,
          0.3524697945105441,
          0.4087243025836226,
          0.4559874270664458,
          0.49341607440050494,
          0.520342581332125,
          0.536286624886563,
          0.5409637905109425,
          0.5342906455449571,
          0.5163862275172801,
          0.4875699207190094,
          0.4483557589324534,
          0.3994432559448696,
          0.34170492741515,
          0.2761707266820791,
          0.20400967215281285,
          0.12650899400763715,
          0.04505117220823979,
          -0.038910724587714406,
          -0.12387895929399764,
          -0.20833784347184064,
          -0.29078077462747187,
          -0.36973711143189475,
          -0.4437984074547951,
          -0.5116435354474992,
          -0.5720622540006033,
          -0.6239767961872921,
          -0.6664610950877532,
          -0.6987573032441065,
          -0.7202893113669456,
          -0.7306730251428127,
          -0.7297232168218784,
          -0.7174568293651924,
          -0.6940926742111453,
          -0.6600475280524744,
          -0.615928698250658,
          -0.5625231895080285,
          -0.5007836650457016,
          -0.43181145271597693,
          -0.35683689919118433,
          -0.2771974226767536,
          -0.1943136556506921,
          -0.10966410320231287,
          -0.02475876902224823,
          0.05888778048887497,
          0.13978343350273234,
          0.21648514949431308,
          0.2876247006245406,
          0.3519330785921341,
          0.40826313157808247,
          0.45561002747823165,
          0.49312917839481507,
          0.5201513066445511,
          0.5361943835314137,
          0.5409722279167248,
          0.5343996112027375,
          0.5165937776655072,
          0.48787235301690546,
          0.4487476785034623,
          0.39991767161205655,
          0.34225337641187725,
          0.27678342561333413,
          0.20467569151429715,
          0.12721645314948515,
          0.04578745126555778,
          -0.038158759577973336,
          -0.12312472210552916,
          -0.20759478841013493,
          -0.2900621565279412,
          -0.36905574921621165,
          -0.44316645546318595,
          -0.5110722666260329,
          -0.5715618588110587,
          -0.623556200826691,
          -0.6661278022602257,
          -0.6985172583254412,
          -0.7201467963492219,
          -0.7306305822509624,
          -0.7297816031647285,
          -0.7176150034299335,
          -0.6943478144421446,
          -0.6603950831830172,
          -0.6163624684897876,
          -0.5630354371342443,
          -0.501365252434719,
          -0.4324520053403662,
          -0.3575249906842498,
          -0.27792077865943465,
          -0.19505937268555978,
          -0.11041887896889066,
          -0.025509139607730755,
          0.05815520041637143,
          0.1390817119226739,
          0.2158268039232734,
          0.2870214748250458,
          0.35139573308396516,
          0.40780125168894676,
          0.455231852357859,
          0.4928414540425752,
          0.5199591655723267,
          0.536101253208338,
          0.5409797696289772,
          0.5345076904190295,
          0.5168004664368923,
          0.48817396436810045,
          0.4491388322022004,
          0.40039139014325836,
          0.3428012094446215,
          0.27739560074035796,
          0.20534128857507444,
          0.12792359902727443,
          0.04652353168356474
         ],
         "yaxis": "y3"
        },
        {
         "alignmentgroup": "True",
         "hovertemplate": "x=%{x}<br>y=%{y}<extra></extra>",
         "legendgroup": "",
         "marker": {
          "color": "#636efa"
         },
         "name": "",
         "offsetgroup": "",
         "orientation": "v",
         "showlegend": false,
         "textposition": "auto",
         "type": "bar",
         "x": [
          0,
          1,
          2,
          3,
          4,
          5,
          6,
          7,
          8,
          9,
          10,
          11,
          12,
          13,
          14,
          15,
          16,
          17,
          18,
          19,
          20,
          21,
          22,
          23,
          24,
          25,
          26,
          27,
          28,
          29,
          30,
          31,
          32,
          33,
          34,
          35,
          36,
          37,
          38,
          39,
          40,
          41,
          42,
          43,
          44,
          45,
          46,
          47,
          48,
          49,
          50,
          51,
          52,
          53,
          54,
          55,
          56,
          57,
          58,
          59,
          60,
          61,
          62,
          63,
          64,
          65,
          66,
          67,
          68,
          69,
          70,
          71,
          72,
          73,
          74,
          75,
          76,
          77,
          78,
          79,
          80,
          81,
          82,
          83,
          84,
          85,
          86,
          87,
          88,
          89,
          90,
          91,
          92,
          93,
          94,
          95,
          96,
          97,
          98,
          99,
          100,
          101,
          102,
          103,
          104,
          105,
          106,
          107,
          108,
          109,
          110,
          111,
          112,
          113,
          114,
          115,
          116,
          117,
          118,
          119
         ],
         "xaxis": "x3",
         "y": [
          0.6363330520600886,
          0.6363330520600886,
          0.6363330520600886,
          0.6363330520600886,
          0.6363330520600886,
          0.6363330520600886,
          0.6363330520600886,
          0.6363330520600886,
          0.6363330520600886,
          0.6363330520600886,
          0.6363330520600886,
          0.6363330520600886,
          0.6363330520600886,
          0.6363330520600886,
          0.6363330520600886,
          0.6363330520600886,
          0.6363330520600886,
          0.6363330520600886,
          0.6363330520600886,
          0.6363330520600886,
          0.6363330520600886,
          0.6363330520600886,
          0.6363330520600886,
          0.6363330520600886,
          0.6363330520600886,
          0.6363330520600886,
          0.6363330520600886,
          0.6363330520600886,
          0.6363330520600886,
          0.6363330520600886,
          0.6363330520600886,
          0.6363330520600886,
          0.6363330520600886,
          0.6363330520600886,
          0.6363330520600886,
          0.6363330520600886,
          0.6363330520600886,
          0.6363330520600886,
          0.6363330520600886,
          0.6363330520600886,
          0.6363330520600886,
          0.6363330520600886,
          0.6363330520600886,
          0.6363330520600886,
          0.6363330520600886,
          0.6363330520600886,
          0.6363330520600886,
          0.6363330520600886,
          0.6363330520600886,
          0.6363330520600886,
          0.6363330520600886,
          0.6363330520600886,
          0.6363330520600886,
          0.6363330520600886,
          0.6363330520600886,
          0.6363330520600886,
          0.6363330520600886,
          0.6363330520600886,
          0.6363330520600886,
          0.6363330520600886,
          0.6363330520600886,
          0.6363330520600886,
          0.6363330520600886,
          0.6363330520600886,
          0.6363330520600886,
          0.6363330520600886,
          0.6363330520600886,
          0.6363330520600886,
          0.6363330520600886,
          0.6363330520600886,
          0.6363330520600886,
          0.6363330520600886,
          0.6363330520600886,
          0.6363330520600886,
          0.6363330520600886,
          0.6363330520600886,
          0.6363330520600886,
          0.6363330520600886,
          0.6363330520600886,
          0.6363330520600886,
          0.6363330520600886,
          0.6363330520600886,
          0.6363330520600886,
          0.6363330520600886,
          0.6363330520600886,
          0.6363330520600886,
          0.6363330520600886,
          0.6363330520600886,
          0.6363330520600886,
          0.6363330520600886,
          0.6363330520600886,
          0.6363330520600886,
          0.6363330520600886,
          0.6363330520600886,
          0.6363330520600886,
          0.6363330520600886,
          0.6363330520600886,
          0.6363330520600886,
          0.6363330520600886,
          0.6363330520600886,
          0.6363330520600886,
          0.6363330520600886,
          0.6363330520600886,
          0.6363330520600886,
          0.6363330520600886,
          0.6363330520600886,
          0.6363330520600886,
          0.6363330520600886,
          0.6363330520600886,
          0.6363330520600886,
          0.6363330520600886,
          0.6363330520600886,
          0.6363330520600886,
          0.6363330520600886,
          0.6363330520600886,
          0.6363330520600886,
          0.6363330520600886,
          0.6363330520600886,
          0.6363330520600886,
          0.6363330520600886
         ],
         "yaxis": "y3"
        },
        {
         "name": "J10",
         "type": "scatter",
         "x": [
          0,
          1,
          2,
          3,
          4,
          5,
          6,
          7,
          8,
          9,
          10,
          11,
          12,
          13,
          14,
          15,
          16,
          17,
          18,
          19,
          20,
          21,
          22,
          23,
          24,
          25,
          26,
          27,
          28,
          29,
          30,
          31,
          32,
          33,
          34,
          35,
          36,
          37,
          38,
          39,
          40,
          41,
          42,
          43,
          44,
          45,
          46,
          47,
          48,
          49,
          50,
          51,
          52,
          53,
          54,
          55,
          56,
          57,
          58,
          59,
          60,
          61,
          62,
          63,
          64,
          65,
          66,
          67,
          68,
          69,
          70,
          71,
          72,
          73,
          74,
          75,
          76,
          77,
          78,
          79,
          80,
          81,
          82,
          83,
          84,
          85,
          86,
          87,
          88,
          89,
          90,
          91,
          92,
          93,
          94,
          95,
          96,
          97,
          98,
          99,
          100,
          101,
          102,
          103,
          104,
          105,
          106,
          107,
          108,
          109,
          110,
          111,
          112,
          113,
          114,
          115,
          116,
          117,
          118,
          119
         ],
         "xaxis": "x4",
         "y": [
          -0.0,
          0.0,
          0.0,
          0.0,
          -0.0,
          -0.11087179339500472,
          -0.08354939897923506,
          -0.04994039320136616,
          -0.026359149277161237,
          -0.19491772796694862,
          -0.4847955071136279,
          -0.5665942190934732,
          -1.3570390344125098,
          -0.2572271891561714,
          -0.05397562055703301,
          -0.8548550664208254,
          -0.8059547445034537,
          -0.7257876752431729,
          -1.777095588634216,
          -0.11343350730783543,
          -0.08330718518770121,
          -1.5753306138293541,
          -0.21854540050702176,
          -0.9566070524895802,
          -0.12175712775170261,
          -0.07978691203928251,
          -0.2558888078932263,
          -4.5466288141443286E-4,
          0.3540890584390469,
          0.8568641425210377,
          0.7526823918284882,
          1.5226474441130964,
          2.3487223414964693,
          1.2174540390020243,
          3.0912568981765123,
          2.7464805942471515,
          3.561704101956745,
          4.673303318573206,
          3.449217710518973,
          3.0424147986624512,
          2.0029956866102636,
          0.9664359306823523,
          1.1805997245222004,
          0.1514435146006703,
          1.9430567296331944,
          0.8887915826850766,
          0.4430099543522157,
          0.9012805399350726,
          0.4459132420053834,
          0.07646405708721209,
          0.032246884002650376,
          -0.43333851448514193,
          -0.7849321401152896,
          -1.9281649845065618,
          -2.8730973225458554,
          -0.4860491512250395,
          -0.3835251366104088,
          -14.67671872131597,
          -2.9940579933323144,
          -5.8893350711826535,
          -7.087262197033335,
          -4.70096181865873,
          -2.218998561021176,
          -2.173706645514742,
          -0.35493322744601136,
          -0.5009301733445791,
          -2.7054548156774056,
          -0.828170558997744,
          -1.559370132902199,
          -0.7944462511847679,
          -0.31885765236054275,
          -0.38912122668341925,
          -0.6394048181899036,
          -0.2099009817458481,
          -0.0,
          0.0,
          0.0,
          0.0,
          0.0,
          0.0,
          0.0,
          0.0,
          0.0,
          0.0,
          0.0,
          0.0,
          0.0,
          0.0,
          0.0,
          0.0,
          0.0,
          0.0,
          0.0,
          0.0,
          0.0,
          0.0,
          0.0,
          0.0,
          -0.0,
          -0.0,
          -0.0,
          -0.0,
          -0.0,
          -0.0,
          -0.0,
          -0.0,
          -0.0,
          -0.0,
          -0.0,
          -0.0,
          -0.0,
          -0.0,
          -0.0,
          -0.0,
          -0.0,
          -0.0,
          -0.0,
          -0.0,
          -0.0,
          -0.0
         ],
         "yaxis": "y4"
        },
        {
         "name": "J10",
         "type": "scatter",
         "x": [
          0,
          1,
          2,
          3,
          4,
          5,
          6,
          7,
          8,
          9,
          10,
          11,
          12,
          13,
          14,
          15,
          16,
          17,
          18,
          19,
          20,
          21,
          22,
          23,
          24,
          25,
          26,
          27,
          28,
          29,
          30,
          31,
          32,
          33,
          34,
          35,
          36,
          37,
          38,
          39,
          40,
          41,
          42,
          43,
          44,
          45,
          46,
          47,
          48,
          49,
          50,
          51,
          52,
          53,
          54,
          55,
          56,
          57,
          58,
          59,
          60,
          61,
          62,
          63,
          64,
          65,
          66,
          67,
          68,
          69,
          70,
          71,
          72,
          73,
          74,
          75,
          76,
          77,
          78,
          79,
          80,
          81,
          82,
          83,
          84,
          85,
          86,
          87,
          88,
          89,
          90,
          91,
          92,
          93,
          94,
          95,
          96,
          97,
          98,
          99,
          100,
          101,
          102,
          103,
          104,
          105,
          106,
          107,
          108,
          109,
          110,
          111,
          112,
          113,
          114,
          115,
          116,
          117,
          118,
          119
         ],
         "xaxis": "x4",
         "y": [
          -0.0,
          -0.0,
          -0.0,
          -0.0,
          -0.0,
          -0.44162608807727,
          -0.2094057964065445,
          -0.08859629846882743,
          -0.03489425895604403,
          -0.19679403279128177,
          -0.3735627957182073,
          -0.32657227206517253,
          -0.5565639609568646,
          -0.06720373241434052,
          -0.006611886779951306,
          0.010061390653380794,
          0.11804231370718363,
          0.2079871270197024,
          0.7781937173309097,
          0.0689871908641585,
          0.06737652269882519,
          1.6672108727733481,
          0.30392783929242007,
          1.7945308447313661,
          0.32735091504504943,
          0.3527677120901223,
          2.8749599765419527,
          0.010122152824744778,
          1.9620514220119654,
          2.6547848646582644,
          1.5747591722122554,
          2.3264616290106828,
          2.7150277626138775,
          1.0763311452341737,
          2.0710762551221444,
          1.3492404764869592,
          1.1920742060145046,
          0.8954419579938317,
          0.19216064890771273,
          -0.2378082675118371,
          -0.4304116777632402,
          -0.3476650270642879,
          -0.613109771022948,
          -0.10644382869475259,
          -1.796774601683404,
          -1.075058309829878,
          -0.7110693241076952,
          -1.9993169188382987,
          -1.4950762400701496,
          -0.48555432775272894,
          -1.430690746937817,
          -3.883530150208573,
          -3.1423343561236368,
          -4.849405219022275,
          -5.111158888540243,
          -0.6450219435556162,
          -0.3881369745583454,
          -11.337032985515958,
          -1.7304439130627722,
          -2.423566401024754,
          -1.860618903139848,
          -0.5815187627146302,
          0.02348389373507164,
          0.31573309782798176,
          0.10125677364016011,
          0.21865039728553665,
          1.640990463219157,
          0.6681774523290968,
          1.6464020842056517,
          1.1020636355750206,
          0.5964497988549636,
          1.0423876720458114,
          2.8115400667931523,
          2.3270098096701717,
          0.0,
          0.0,
          0.0,
          0.0,
          0.0,
          0.0,
          0.0,
          0.0,
          0.0,
          0.0,
          0.0,
          0.0,
          -0.0,
          -0.0,
          -0.0,
          -0.0,
          -0.0,
          -0.0,
          -0.0,
          -0.0,
          -0.0,
          -0.0,
          -0.0,
          -0.0,
          -0.0,
          -0.0,
          -0.0,
          -0.0,
          -0.0,
          -0.0,
          -0.0,
          -0.0,
          -0.0,
          -0.0,
          -0.0,
          0.0,
          0.0,
          0.0,
          0.0,
          0.0,
          0.0,
          0.0,
          0.0,
          0.0,
          0.0,
          0.0
         ],
         "yaxis": "y4"
        },
        {
         "name": "J10",
         "type": "scatter",
         "x": [
          0,
          1,
          2,
          3,
          4,
          5,
          6,
          7,
          8,
          9,
          10,
          11,
          12,
          13,
          14,
          15,
          16,
          17,
          18,
          19,
          20,
          21,
          22,
          23,
          24,
          25,
          26,
          27,
          28,
          29,
          30,
          31,
          32,
          33,
          34,
          35,
          36,
          37,
          38,
          39,
          40,
          41,
          42,
          43,
          44,
          45,
          46,
          47,
          48,
          49,
          50,
          51,
          52,
          53,
          54,
          55,
          56,
          57,
          58,
          59,
          60,
          61,
          62,
          63,
          64,
          65,
          66,
          67,
          68,
          69,
          70,
          71,
          72,
          73,
          74,
          75,
          76,
          77,
          78,
          79,
          80,
          81,
          82,
          83,
          84,
          85,
          86,
          87,
          88,
          89,
          90,
          91,
          92,
          93,
          94,
          95,
          96,
          97,
          98,
          99,
          100,
          101,
          102,
          103,
          104,
          105,
          106,
          107,
          108,
          109,
          110,
          111,
          112,
          113,
          114,
          115,
          116,
          117,
          118,
          119
         ],
         "xaxis": "x5",
         "y": [
          0.0,
          0.0,
          0.0,
          0.0,
          0.0,
          0.09564065933227539,
          0.04735666140913963,
          0.02136220410466194,
          0.009185577742755413,
          0.05817978456616402,
          0.12855394184589386,
          0.13736440241336823,
          0.30808308720588684,
          0.05584321916103363,
          0.01142213772982359,
          0.17957177758216858,
          0.17109408974647522,
          0.158585324883461,
          0.4074932038784027,
          0.027886707335710526,
          0.022505074739456177,
          0.4817928373813629,
          0.07862988114356995,
          0.42714592814445496,
          0.0733611136674881,
          0.07596921920776367,
          0.6062626242637634,
          0.09791916608810425,
          0.41877952218055725,
          0.585954487323761,
          0.3666137754917145,
          0.5840229988098145,
          0.7540603876113892,
          0.3413293659687042,
          0.78156578540802,
          0.6427425742149353,
          0.7889135479927063,
          0.9994679689407349,
          0.7256196737289429,
          0.6409978866577148,
          0.4303261339664459,
          0.215732142329216,
          0.27942657470703125,
          0.03888155147433281,
          0.5558844208717346,
          0.292990505695343,
          0.175973042845726,
          0.4606476426124573,
          0.3277056813240051,
          0.10324588418006897,
          0.3005879521369934,
          0.8207845687866211,
          0.6803168058395386,
          1.0961642265319824,
          1.2315720319747925,
          0.16964389383792877,
          0.11461341381072998,
          3.895411252975464,
          0.7263729572296143,
          1.3376837968826294,
          1.5391006469726562,
          0.9949468970298767,
          0.46611905097961426,
          0.4613708257675171,
          0.07752695679664612,
          0.1148051843047142,
          0.6646350026130676,
          0.22351236641407013,
          0.4763137996196747,
          0.285361111164093,
          0.14206081628799438,
          0.23370802402496338,
          0.6056336164474487,
          0.4907647669315338,
          0.0,
          0.0,
          0.0,
          0.0,
          0.0,
          0.0,
          0.0,
          0.0,
          0.0,
          0.0,
          0.0,
          0.0,
          0.0,
          0.0,
          0.0,
          0.0,
          0.0,
          0.0,
          0.0,
          0.0,
          0.0,
          0.0,
          0.0,
          0.0,
          0.0,
          0.0,
          0.0,
          0.0,
          0.0,
          0.0,
          0.0,
          0.0,
          0.0,
          0.0,
          0.0,
          0.0,
          0.0,
          0.0,
          0.0,
          0.0,
          0.0,
          0.0,
          0.0,
          0.0,
          0.0,
          0.0
         ],
         "yaxis": "y5"
        }
       ],
       "layout": {
        "annotations": [
         {
          "font": {
           "size": 16
          },
          "showarrow": false,
          "text": "Original",
          "x": 0.5,
          "xanchor": "center",
          "xref": "paper",
          "y": 1.0,
          "yanchor": "bottom",
          "yref": "paper"
         },
         {
          "font": {
           "size": 16
          },
          "showarrow": false,
          "text": "Normalised",
          "x": 0.5,
          "xanchor": "center",
          "xref": "paper",
          "y": 0.78,
          "yanchor": "bottom",
          "yref": "paper"
         },
         {
          "font": {
           "size": 16
          },
          "showarrow": false,
          "text": "Optimised",
          "x": 0.5,
          "xanchor": "center",
          "xref": "paper",
          "y": 0.56,
          "yanchor": "bottom",
          "yref": "paper"
         },
         {
          "font": {
           "size": 16
          },
          "showarrow": false,
          "text": "Local phase vector",
          "x": 0.5,
          "xanchor": "center",
          "xref": "paper",
          "y": 0.33999999999999997,
          "yanchor": "bottom",
          "yref": "paper"
         },
         {
          "font": {
           "size": 16
          },
          "showarrow": false,
          "text": "Velocity Magnitude",
          "x": 0.5,
          "xanchor": "center",
          "xref": "paper",
          "y": 0.12,
          "yanchor": "bottom",
          "yref": "paper"
         }
        ],
        "height": 800,
        "template": {
         "data": {
          "bar": [
           {
            "error_x": {
             "color": "#2a3f5f"
            },
            "error_y": {
             "color": "#2a3f5f"
            },
            "marker": {
             "line": {
              "color": "#E5ECF6",
              "width": 0.5
             }
            },
            "type": "bar"
           }
          ],
          "barpolar": [
           {
            "marker": {
             "line": {
              "color": "#E5ECF6",
              "width": 0.5
             }
            },
            "type": "barpolar"
           }
          ],
          "carpet": [
           {
            "aaxis": {
             "endlinecolor": "#2a3f5f",
             "gridcolor": "white",
             "linecolor": "white",
             "minorgridcolor": "white",
             "startlinecolor": "#2a3f5f"
            },
            "baxis": {
             "endlinecolor": "#2a3f5f",
             "gridcolor": "white",
             "linecolor": "white",
             "minorgridcolor": "white",
             "startlinecolor": "#2a3f5f"
            },
            "type": "carpet"
           }
          ],
          "choropleth": [
           {
            "colorbar": {
             "outlinewidth": 0,
             "ticks": ""
            },
            "type": "choropleth"
           }
          ],
          "contour": [
           {
            "colorbar": {
             "outlinewidth": 0,
             "ticks": ""
            },
            "colorscale": [
             [
              0.0,
              "#0d0887"
             ],
             [
              0.1111111111111111,
              "#46039f"
             ],
             [
              0.2222222222222222,
              "#7201a8"
             ],
             [
              0.3333333333333333,
              "#9c179e"
             ],
             [
              0.4444444444444444,
              "#bd3786"
             ],
             [
              0.5555555555555556,
              "#d8576b"
             ],
             [
              0.6666666666666666,
              "#ed7953"
             ],
             [
              0.7777777777777778,
              "#fb9f3a"
             ],
             [
              0.8888888888888888,
              "#fdca26"
             ],
             [
              1.0,
              "#f0f921"
             ]
            ],
            "type": "contour"
           }
          ],
          "contourcarpet": [
           {
            "colorbar": {
             "outlinewidth": 0,
             "ticks": ""
            },
            "type": "contourcarpet"
           }
          ],
          "heatmap": [
           {
            "colorbar": {
             "outlinewidth": 0,
             "ticks": ""
            },
            "colorscale": [
             [
              0.0,
              "#0d0887"
             ],
             [
              0.1111111111111111,
              "#46039f"
             ],
             [
              0.2222222222222222,
              "#7201a8"
             ],
             [
              0.3333333333333333,
              "#9c179e"
             ],
             [
              0.4444444444444444,
              "#bd3786"
             ],
             [
              0.5555555555555556,
              "#d8576b"
             ],
             [
              0.6666666666666666,
              "#ed7953"
             ],
             [
              0.7777777777777778,
              "#fb9f3a"
             ],
             [
              0.8888888888888888,
              "#fdca26"
             ],
             [
              1.0,
              "#f0f921"
             ]
            ],
            "type": "heatmap"
           }
          ],
          "heatmapgl": [
           {
            "colorbar": {
             "outlinewidth": 0,
             "ticks": ""
            },
            "colorscale": [
             [
              0.0,
              "#0d0887"
             ],
             [
              0.1111111111111111,
              "#46039f"
             ],
             [
              0.2222222222222222,
              "#7201a8"
             ],
             [
              0.3333333333333333,
              "#9c179e"
             ],
             [
              0.4444444444444444,
              "#bd3786"
             ],
             [
              0.5555555555555556,
              "#d8576b"
             ],
             [
              0.6666666666666666,
              "#ed7953"
             ],
             [
              0.7777777777777778,
              "#fb9f3a"
             ],
             [
              0.8888888888888888,
              "#fdca26"
             ],
             [
              1.0,
              "#f0f921"
             ]
            ],
            "type": "heatmapgl"
           }
          ],
          "histogram": [
           {
            "marker": {
             "colorbar": {
              "outlinewidth": 0,
              "ticks": ""
             }
            },
            "type": "histogram"
           }
          ],
          "histogram2d": [
           {
            "colorbar": {
             "outlinewidth": 0,
             "ticks": ""
            },
            "colorscale": [
             [
              0.0,
              "#0d0887"
             ],
             [
              0.1111111111111111,
              "#46039f"
             ],
             [
              0.2222222222222222,
              "#7201a8"
             ],
             [
              0.3333333333333333,
              "#9c179e"
             ],
             [
              0.4444444444444444,
              "#bd3786"
             ],
             [
              0.5555555555555556,
              "#d8576b"
             ],
             [
              0.6666666666666666,
              "#ed7953"
             ],
             [
              0.7777777777777778,
              "#fb9f3a"
             ],
             [
              0.8888888888888888,
              "#fdca26"
             ],
             [
              1.0,
              "#f0f921"
             ]
            ],
            "type": "histogram2d"
           }
          ],
          "histogram2dcontour": [
           {
            "colorbar": {
             "outlinewidth": 0,
             "ticks": ""
            },
            "colorscale": [
             [
              0.0,
              "#0d0887"
             ],
             [
              0.1111111111111111,
              "#46039f"
             ],
             [
              0.2222222222222222,
              "#7201a8"
             ],
             [
              0.3333333333333333,
              "#9c179e"
             ],
             [
              0.4444444444444444,
              "#bd3786"
             ],
             [
              0.5555555555555556,
              "#d8576b"
             ],
             [
              0.6666666666666666,
              "#ed7953"
             ],
             [
              0.7777777777777778,
              "#fb9f3a"
             ],
             [
              0.8888888888888888,
              "#fdca26"
             ],
             [
              1.0,
              "#f0f921"
             ]
            ],
            "type": "histogram2dcontour"
           }
          ],
          "mesh3d": [
           {
            "colorbar": {
             "outlinewidth": 0,
             "ticks": ""
            },
            "type": "mesh3d"
           }
          ],
          "parcoords": [
           {
            "line": {
             "colorbar": {
              "outlinewidth": 0,
              "ticks": ""
             }
            },
            "type": "parcoords"
           }
          ],
          "pie": [
           {
            "automargin": true,
            "type": "pie"
           }
          ],
          "scatter": [
           {
            "marker": {
             "colorbar": {
              "outlinewidth": 0,
              "ticks": ""
             }
            },
            "type": "scatter"
           }
          ],
          "scatter3d": [
           {
            "line": {
             "colorbar": {
              "outlinewidth": 0,
              "ticks": ""
             }
            },
            "marker": {
             "colorbar": {
              "outlinewidth": 0,
              "ticks": ""
             }
            },
            "type": "scatter3d"
           }
          ],
          "scattercarpet": [
           {
            "marker": {
             "colorbar": {
              "outlinewidth": 0,
              "ticks": ""
             }
            },
            "type": "scattercarpet"
           }
          ],
          "scattergeo": [
           {
            "marker": {
             "colorbar": {
              "outlinewidth": 0,
              "ticks": ""
             }
            },
            "type": "scattergeo"
           }
          ],
          "scattergl": [
           {
            "marker": {
             "colorbar": {
              "outlinewidth": 0,
              "ticks": ""
             }
            },
            "type": "scattergl"
           }
          ],
          "scattermapbox": [
           {
            "marker": {
             "colorbar": {
              "outlinewidth": 0,
              "ticks": ""
             }
            },
            "type": "scattermapbox"
           }
          ],
          "scatterpolar": [
           {
            "marker": {
             "colorbar": {
              "outlinewidth": 0,
              "ticks": ""
             }
            },
            "type": "scatterpolar"
           }
          ],
          "scatterpolargl": [
           {
            "marker": {
             "colorbar": {
              "outlinewidth": 0,
              "ticks": ""
             }
            },
            "type": "scatterpolargl"
           }
          ],
          "scatterternary": [
           {
            "marker": {
             "colorbar": {
              "outlinewidth": 0,
              "ticks": ""
             }
            },
            "type": "scatterternary"
           }
          ],
          "surface": [
           {
            "colorbar": {
             "outlinewidth": 0,
             "ticks": ""
            },
            "colorscale": [
             [
              0.0,
              "#0d0887"
             ],
             [
              0.1111111111111111,
              "#46039f"
             ],
             [
              0.2222222222222222,
              "#7201a8"
             ],
             [
              0.3333333333333333,
              "#9c179e"
             ],
             [
              0.4444444444444444,
              "#bd3786"
             ],
             [
              0.5555555555555556,
              "#d8576b"
             ],
             [
              0.6666666666666666,
              "#ed7953"
             ],
             [
              0.7777777777777778,
              "#fb9f3a"
             ],
             [
              0.8888888888888888,
              "#fdca26"
             ],
             [
              1.0,
              "#f0f921"
             ]
            ],
            "type": "surface"
           }
          ],
          "table": [
           {
            "cells": {
             "fill": {
              "color": "#EBF0F8"
             },
             "line": {
              "color": "white"
             }
            },
            "header": {
             "fill": {
              "color": "#C8D4E3"
             },
             "line": {
              "color": "white"
             }
            },
            "type": "table"
           }
          ]
         },
         "layout": {
          "annotationdefaults": {
           "arrowcolor": "#2a3f5f",
           "arrowhead": 0,
           "arrowwidth": 1
          },
          "autotypenumbers": "strict",
          "coloraxis": {
           "colorbar": {
            "outlinewidth": 0,
            "ticks": ""
           }
          },
          "colorscale": {
           "diverging": [
            [
             0,
             "#8e0152"
            ],
            [
             0.1,
             "#c51b7d"
            ],
            [
             0.2,
             "#de77ae"
            ],
            [
             0.3,
             "#f1b6da"
            ],
            [
             0.4,
             "#fde0ef"
            ],
            [
             0.5,
             "#f7f7f7"
            ],
            [
             0.6,
             "#e6f5d0"
            ],
            [
             0.7,
             "#b8e186"
            ],
            [
             0.8,
             "#7fbc41"
            ],
            [
             0.9,
             "#4d9221"
            ],
            [
             1,
             "#276419"
            ]
           ],
           "sequential": [
            [
             0.0,
             "#0d0887"
            ],
            [
             0.1111111111111111,
             "#46039f"
            ],
            [
             0.2222222222222222,
             "#7201a8"
            ],
            [
             0.3333333333333333,
             "#9c179e"
            ],
            [
             0.4444444444444444,
             "#bd3786"
            ],
            [
             0.5555555555555556,
             "#d8576b"
            ],
            [
             0.6666666666666666,
             "#ed7953"
            ],
            [
             0.7777777777777778,
             "#fb9f3a"
            ],
            [
             0.8888888888888888,
             "#fdca26"
            ],
            [
             1.0,
             "#f0f921"
            ]
           ],
           "sequentialminus": [
            [
             0.0,
             "#0d0887"
            ],
            [
             0.1111111111111111,
             "#46039f"
            ],
            [
             0.2222222222222222,
             "#7201a8"
            ],
            [
             0.3333333333333333,
             "#9c179e"
            ],
            [
             0.4444444444444444,
             "#bd3786"
            ],
            [
             0.5555555555555556,
             "#d8576b"
            ],
            [
             0.6666666666666666,
             "#ed7953"
            ],
            [
             0.7777777777777778,
             "#fb9f3a"
            ],
            [
             0.8888888888888888,
             "#fdca26"
            ],
            [
             1.0,
             "#f0f921"
            ]
           ]
          },
          "colorway": [
           "#636efa",
           "#EF553B",
           "#00cc96",
           "#ab63fa",
           "#FFA15A",
           "#19d3f3",
           "#FF6692",
           "#B6E880",
           "#FF97FF",
           "#FECB52"
          ],
          "font": {
           "color": "#2a3f5f"
          },
          "geo": {
           "bgcolor": "white",
           "lakecolor": "white",
           "landcolor": "#E5ECF6",
           "showlakes": true,
           "showland": true,
           "subunitcolor": "white"
          },
          "hoverlabel": {
           "align": "left"
          },
          "hovermode": "closest",
          "mapbox": {
           "style": "light"
          },
          "paper_bgcolor": "white",
          "plot_bgcolor": "#E5ECF6",
          "polar": {
           "angularaxis": {
            "gridcolor": "white",
            "linecolor": "white",
            "ticks": ""
           },
           "bgcolor": "#E5ECF6",
           "radialaxis": {
            "gridcolor": "white",
            "linecolor": "white",
            "ticks": ""
           }
          },
          "scene": {
           "xaxis": {
            "backgroundcolor": "#E5ECF6",
            "gridcolor": "white",
            "gridwidth": 2,
            "linecolor": "white",
            "showbackground": true,
            "ticks": "",
            "zerolinecolor": "white"
           },
           "yaxis": {
            "backgroundcolor": "#E5ECF6",
            "gridcolor": "white",
            "gridwidth": 2,
            "linecolor": "white",
            "showbackground": true,
            "ticks": "",
            "zerolinecolor": "white"
           },
           "zaxis": {
            "backgroundcolor": "#E5ECF6",
            "gridcolor": "white",
            "gridwidth": 2,
            "linecolor": "white",
            "showbackground": true,
            "ticks": "",
            "zerolinecolor": "white"
           }
          },
          "shapedefaults": {
           "line": {
            "color": "#2a3f5f"
           }
          },
          "ternary": {
           "aaxis": {
            "gridcolor": "white",
            "linecolor": "white",
            "ticks": ""
           },
           "baxis": {
            "gridcolor": "white",
            "linecolor": "white",
            "ticks": ""
           },
           "bgcolor": "#E5ECF6",
           "caxis": {
            "gridcolor": "white",
            "linecolor": "white",
            "ticks": ""
           }
          },
          "title": {
           "x": 0.05
          },
          "xaxis": {
           "automargin": true,
           "gridcolor": "white",
           "linecolor": "white",
           "ticks": "",
           "title": {
            "standoff": 15
           },
           "zerolinecolor": "white",
           "zerolinewidth": 2
          },
          "yaxis": {
           "automargin": true,
           "gridcolor": "white",
           "linecolor": "white",
           "ticks": "",
           "title": {
            "standoff": 15
           },
           "zerolinecolor": "white",
           "zerolinewidth": 2
          }
         }
        },
        "title": {
         "text": "Contact info"
        },
        "width": 800,
        "xaxis": {
         "anchor": "y",
         "domain": [
          0.0,
          1.0
         ],
         "title": {
          "text": "frames"
         }
        },
        "xaxis2": {
         "anchor": "y2",
         "domain": [
          0.0,
          1.0
         ],
         "title": {
          "text": "frames"
         }
        },
        "xaxis3": {
         "anchor": "y3",
         "domain": [
          0.0,
          1.0
         ],
         "title": {
          "text": "frames"
         }
        },
        "xaxis4": {
         "anchor": "y4",
         "domain": [
          0.0,
          1.0
         ],
         "title": {
          "text": "frames"
         }
        },
        "xaxis5": {
         "anchor": "y5",
         "domain": [
          0.0,
          1.0
         ],
         "title": {
          "text": "frames"
         }
        },
        "yaxis": {
         "anchor": "x",
         "domain": [
          0.88,
          1.0
         ]
        },
        "yaxis2": {
         "anchor": "x2",
         "domain": [
          0.66,
          0.78
         ]
        },
        "yaxis3": {
         "anchor": "x3",
         "domain": [
          0.44,
          0.56
         ]
        },
        "yaxis4": {
         "anchor": "x4",
         "domain": [
          0.22,
          0.33999999999999997
         ]
        },
        "yaxis5": {
         "anchor": "x5",
         "domain": [
          0.0,
          0.12
         ]
        }
       }
      },
      "text/html": "<div>                            <div id=\"6e3a1c2a-f7c7-4846-9392-eeb6b3f3db39\" class=\"plotly-graph-div\" style=\"height:800px; width:800px;\"></div>            <script type=\"text/javascript\">                require([\"plotly\"], function(Plotly) {                    window.PLOTLYENV=window.PLOTLYENV || {};                                    if (document.getElementById(\"6e3a1c2a-f7c7-4846-9392-eeb6b3f3db39\")) {                    Plotly.newPlot(                        \"6e3a1c2a-f7c7-4846-9392-eeb6b3f3db39\",                        [{\"name\": \"J10\", \"type\": \"scatter\", \"x\": [0, 1, 2, 3, 4, 5, 6, 7, 8, 9, 10, 11, 12, 13, 14, 15, 16, 17, 18, 19, 20, 21, 22, 23, 24, 25, 26, 27, 28, 29, 30, 31, 32, 33, 34, 35, 36, 37, 38, 39, 40, 41, 42, 43, 44, 45, 46, 47, 48, 49, 50, 51, 52, 53, 54, 55, 56, 57, 58, 59, 60, 61, 62, 63, 64, 65, 66, 67, 68, 69, 70, 71, 72, 73, 74, 75, 76, 77, 78, 79, 80, 81, 82, 83, 84, 85, 86, 87, 88, 89, 90, 91, 92, 93, 94, 95, 96, 97, 98, 99, 100, 101, 102, 103, 104, 105, 106, 107, 108, 109, 110, 111, 112, 113, 114, 115, 116, 117, 118, 119], \"xaxis\": \"x\", \"y\": [0.0, 0.0, 0.0, 0.0, 0.0, 0.0, 0.0, 0.0, 0.0, 0.0, 0.0, 0.0, 0.0, 0.0, 0.0, 0.0, 0.0, 0.0, 0.0, 0.0, 0.0, 0.0, 0.0, 0.0, 0.0, 0.0, 0.0, 0.0, 0.0, 0.0, 0.0, 0.0, 0.0, 0.0, 0.0, 0.0, 0.0, 0.0, 0.0, 0.0, 0.0, 0.0, 0.0, 0.0, 0.0, 0.0, 0.0, 0.0, 1.0, 1.0, 1.0, 1.0, 1.0, 1.0, 1.0, 1.0, 1.0, 1.0, 1.0, 1.0, 1.0, 1.0, 1.0, 1.0, 0.0, 0.0, 0.0, 0.0, 0.0, 0.0, 0.0, 0.0, 0.0, 0.0, 0.0, 0.0, 0.0, 0.0, 0.0, 0.0, 0.0, 0.0, 0.0, 0.0, 0.0, 0.0, 0.0, 0.0, 0.0, 0.0, 0.0, 0.0, 0.0, 0.0, 0.0, 0.0, 0.0, 0.0, 0.0, 0.0, 0.0, 0.0, 0.0, 0.0, 0.0, 0.0, 0.0, 0.0, 0.0, 0.0, 0.0, 0.0, 0.0, 0.0, 0.0, 0.0, 0.0, 0.0, 0.0, 0.0], \"yaxis\": \"y\"}, {\"name\": \"J10\", \"type\": \"scatter\", \"x\": [0, 1, 2, 3, 4, 5, 6, 7, 8, 9, 10, 11, 12, 13, 14, 15, 16, 17, 18, 19, 20, 21, 22, 23, 24, 25, 26, 27, 28, 29, 30, 31, 32, 33, 34, 35, 36, 37, 38, 39, 40, 41, 42, 43, 44, 45, 46, 47, 48, 49, 50, 51, 52, 53, 54, 55, 56, 57, 58, 59, 60, 61, 62, 63, 64, 65, 66, 67, 68, 69, 70, 71, 72, 73, 74, 75, 76, 77, 78, 79, 80, 81, 82, 83, 84, 85, 86, 87, 88, 89, 90, 91, 92, 93, 94, 95, 96, 97, 98, 99, 100, 101, 102, 103, 104, 105, 106, 107, 108, 109, 110, 111, 112, 113, 114, 115, 116, 117, 118, 119], \"xaxis\": \"x2\", \"y\": [0.0, 0.0, 0.0, 0.0, 0.0, 0.0, 0.0, 0.0, 0.0, 0.0, 0.0, 0.0, 0.0, 0.0, 0.0, 0.0, 0.0, 0.0, 0.0, -0.0004183183554776743, -0.0028396739560364623, -0.009688848289112378, -0.022949455127116263, -0.04351240292068252, -0.07124539368282631, -0.10522682110786093, -0.14402548661185738, -0.18596757549732046, -0.22936087332685906, -0.27266323159039496, -0.31459319439133, -0.3542035440860143, -0.3909342512114547, -0.42460928757912636, -0.45536277597364405, -0.48346791875576084, -0.5090730466046413, -0.5320748068653295, -0.5522358211387454, -0.5693452611169302, -0.5833055962074211, -0.5941657389626007, -0.6021178068951065, -0.6074716420184755, -0.6106182009533577, -0.6119900774815586, -0.6120248553304205, -0.6111347905040541, -0.6031307449317765, -0.5662027669550413, -0.4738399454733711, -0.31499651321638417, -0.09643942103275524, 0.16511432845607804, 0.44891002355799875, 0.734326528595766, 1.003555828394405, 1.2430624411943179, 1.4440978479145794, 1.6025317883145371, 1.7182357420546124, 1.7942184584791263, 1.8356733449530689, 1.8490567131832278, 1.8347236176963921, 1.777269961142415, 1.6559827598585521, 1.464703911444989, 1.2140262767569647, 0.9234048201479271, 0.6153134994830112, 0.31120827440117527, 0.029018875039606432, -0.2181261583108206, -0.422235065838287, -0.5801243082784315, -0.6926694358128769, -0.7638390486805476, -0.7996718494881949, -0.8072389027445921, -0.7936395651811564, -0.7652985940531419, -0.7276819750593991, -0.6852208569197513, -0.6413055787592649, -0.598341556624257, -0.5578528625439615, -0.5206169056915153, -0.4868137235714769, -0.4561750841536488, -0.42812102968471644, -0.40187959779437177, -0.3765797082726517, -0.35127727009429155, -0.3247153455275435, -0.29524455874507516, -0.2617404326110059, -0.2245378591630117, -0.18517612105065234, -0.14567790122874613, -0.10805360476654716, -0.07399266332874627, -0.04470338111097055, -0.020864559210726625, -0.0026553921710377178, 0.01016543503114167, 0.018155383787087587, 0.022076992745421076, 0.022793457387916848, 0.021179488781114707, 0.018052050806372507, 0.014122349419067507, 0.009968053256510977, 0.006023119510321918, 0.0025816905785183085, -0.0001878061326966013, -0.0022221153741327788, -0.0035395136374030993, -0.004215816844614258, -0.004362100765214377], \"yaxis\": \"y2\"}, {\"name\": \"J10\", \"type\": \"scatter\", \"x\": [0, 1, 2, 3, 4, 5, 6, 7, 8, 9, 10, 11, 12, 13, 14, 15, 16, 17, 18, 19, 20, 21, 22, 23, 24, 25, 26, 27, 28, 29, 30, 31, 32, 33, 34, 35, 36, 37, 38, 39, 40, 41, 42, 43, 44, 45, 46, 47, 48, 49, 50, 51, 52, 53, 54, 55, 56, 57, 58, 59, 60, 61, 62, 63, 64, 65, 66, 67, 68, 69, 70, 71, 72, 73, 74, 75, 76, 77, 78, 79, 80, 81, 82, 83, 84, 85, 86, 87, 88, 89, 90, 91, 92, 93, 94, 95, 96, 97, 98, 99, 100, 101, 102, 103, 104, 105, 106, 107, 108, 109, 110, 111, 112, 113, 114, 115, 116, 117, 118, 119], \"xaxis\": \"x3\", \"y\": [-0.356148439577273, -0.27647381067892085, -0.19356779927324053, -0.10890930725135312, -0.024008497770640708, 0.05962014348119357, 0.14048482412863628, 0.21714305614088653, 0.2882273873589214, 0.3524697945105441, 0.4087243025836226, 0.4559874270664458, 0.49341607440050494, 0.520342581332125, 0.536286624886563, 0.5409637905109425, 0.5342906455449571, 0.5163862275172801, 0.4875699207190094, 0.4483557589324534, 0.3994432559448696, 0.34170492741515, 0.2761707266820791, 0.20400967215281285, 0.12650899400763715, 0.04505117220823979, -0.038910724587714406, -0.12387895929399764, -0.20833784347184064, -0.29078077462747187, -0.36973711143189475, -0.4437984074547951, -0.5116435354474992, -0.5720622540006033, -0.6239767961872921, -0.6664610950877532, -0.6987573032441065, -0.7202893113669456, -0.7306730251428127, -0.7297232168218784, -0.7174568293651924, -0.6940926742111453, -0.6600475280524744, -0.615928698250658, -0.5625231895080285, -0.5007836650457016, -0.43181145271597693, -0.35683689919118433, -0.2771974226767536, -0.1943136556506921, -0.10966410320231287, -0.02475876902224823, 0.05888778048887497, 0.13978343350273234, 0.21648514949431308, 0.2876247006245406, 0.3519330785921341, 0.40826313157808247, 0.45561002747823165, 0.49312917839481507, 0.5201513066445511, 0.5361943835314137, 0.5409722279167248, 0.5343996112027375, 0.5165937776655072, 0.48787235301690546, 0.4487476785034623, 0.39991767161205655, 0.34225337641187725, 0.27678342561333413, 0.20467569151429715, 0.12721645314948515, 0.04578745126555778, -0.038158759577973336, -0.12312472210552916, -0.20759478841013493, -0.2900621565279412, -0.36905574921621165, -0.44316645546318595, -0.5110722666260329, -0.5715618588110587, -0.623556200826691, -0.6661278022602257, -0.6985172583254412, -0.7201467963492219, -0.7306305822509624, -0.7297816031647285, -0.7176150034299335, -0.6943478144421446, -0.6603950831830172, -0.6163624684897876, -0.5630354371342443, -0.501365252434719, -0.4324520053403662, -0.3575249906842498, -0.27792077865943465, -0.19505937268555978, -0.11041887896889066, -0.025509139607730755, 0.05815520041637143, 0.1390817119226739, 0.2158268039232734, 0.2870214748250458, 0.35139573308396516, 0.40780125168894676, 0.455231852357859, 0.4928414540425752, 0.5199591655723267, 0.536101253208338, 0.5409797696289772, 0.5345076904190295, 0.5168004664368923, 0.48817396436810045, 0.4491388322022004, 0.40039139014325836, 0.3428012094446215, 0.27739560074035796, 0.20534128857507444, 0.12792359902727443, 0.04652353168356474], \"yaxis\": \"y3\"}, {\"alignmentgroup\": \"True\", \"hovertemplate\": \"x=%{x}<br>y=%{y}<extra></extra>\", \"legendgroup\": \"\", \"marker\": {\"color\": \"#636efa\"}, \"name\": \"\", \"offsetgroup\": \"\", \"orientation\": \"v\", \"showlegend\": false, \"textposition\": \"auto\", \"type\": \"bar\", \"x\": [0, 1, 2, 3, 4, 5, 6, 7, 8, 9, 10, 11, 12, 13, 14, 15, 16, 17, 18, 19, 20, 21, 22, 23, 24, 25, 26, 27, 28, 29, 30, 31, 32, 33, 34, 35, 36, 37, 38, 39, 40, 41, 42, 43, 44, 45, 46, 47, 48, 49, 50, 51, 52, 53, 54, 55, 56, 57, 58, 59, 60, 61, 62, 63, 64, 65, 66, 67, 68, 69, 70, 71, 72, 73, 74, 75, 76, 77, 78, 79, 80, 81, 82, 83, 84, 85, 86, 87, 88, 89, 90, 91, 92, 93, 94, 95, 96, 97, 98, 99, 100, 101, 102, 103, 104, 105, 106, 107, 108, 109, 110, 111, 112, 113, 114, 115, 116, 117, 118, 119], \"xaxis\": \"x3\", \"y\": [0.6363330520600886, 0.6363330520600886, 0.6363330520600886, 0.6363330520600886, 0.6363330520600886, 0.6363330520600886, 0.6363330520600886, 0.6363330520600886, 0.6363330520600886, 0.6363330520600886, 0.6363330520600886, 0.6363330520600886, 0.6363330520600886, 0.6363330520600886, 0.6363330520600886, 0.6363330520600886, 0.6363330520600886, 0.6363330520600886, 0.6363330520600886, 0.6363330520600886, 0.6363330520600886, 0.6363330520600886, 0.6363330520600886, 0.6363330520600886, 0.6363330520600886, 0.6363330520600886, 0.6363330520600886, 0.6363330520600886, 0.6363330520600886, 0.6363330520600886, 0.6363330520600886, 0.6363330520600886, 0.6363330520600886, 0.6363330520600886, 0.6363330520600886, 0.6363330520600886, 0.6363330520600886, 0.6363330520600886, 0.6363330520600886, 0.6363330520600886, 0.6363330520600886, 0.6363330520600886, 0.6363330520600886, 0.6363330520600886, 0.6363330520600886, 0.6363330520600886, 0.6363330520600886, 0.6363330520600886, 0.6363330520600886, 0.6363330520600886, 0.6363330520600886, 0.6363330520600886, 0.6363330520600886, 0.6363330520600886, 0.6363330520600886, 0.6363330520600886, 0.6363330520600886, 0.6363330520600886, 0.6363330520600886, 0.6363330520600886, 0.6363330520600886, 0.6363330520600886, 0.6363330520600886, 0.6363330520600886, 0.6363330520600886, 0.6363330520600886, 0.6363330520600886, 0.6363330520600886, 0.6363330520600886, 0.6363330520600886, 0.6363330520600886, 0.6363330520600886, 0.6363330520600886, 0.6363330520600886, 0.6363330520600886, 0.6363330520600886, 0.6363330520600886, 0.6363330520600886, 0.6363330520600886, 0.6363330520600886, 0.6363330520600886, 0.6363330520600886, 0.6363330520600886, 0.6363330520600886, 0.6363330520600886, 0.6363330520600886, 0.6363330520600886, 0.6363330520600886, 0.6363330520600886, 0.6363330520600886, 0.6363330520600886, 0.6363330520600886, 0.6363330520600886, 0.6363330520600886, 0.6363330520600886, 0.6363330520600886, 0.6363330520600886, 0.6363330520600886, 0.6363330520600886, 0.6363330520600886, 0.6363330520600886, 0.6363330520600886, 0.6363330520600886, 0.6363330520600886, 0.6363330520600886, 0.6363330520600886, 0.6363330520600886, 0.6363330520600886, 0.6363330520600886, 0.6363330520600886, 0.6363330520600886, 0.6363330520600886, 0.6363330520600886, 0.6363330520600886, 0.6363330520600886, 0.6363330520600886, 0.6363330520600886, 0.6363330520600886, 0.6363330520600886, 0.6363330520600886], \"yaxis\": \"y3\"}, {\"name\": \"J10\", \"type\": \"scatter\", \"x\": [0, 1, 2, 3, 4, 5, 6, 7, 8, 9, 10, 11, 12, 13, 14, 15, 16, 17, 18, 19, 20, 21, 22, 23, 24, 25, 26, 27, 28, 29, 30, 31, 32, 33, 34, 35, 36, 37, 38, 39, 40, 41, 42, 43, 44, 45, 46, 47, 48, 49, 50, 51, 52, 53, 54, 55, 56, 57, 58, 59, 60, 61, 62, 63, 64, 65, 66, 67, 68, 69, 70, 71, 72, 73, 74, 75, 76, 77, 78, 79, 80, 81, 82, 83, 84, 85, 86, 87, 88, 89, 90, 91, 92, 93, 94, 95, 96, 97, 98, 99, 100, 101, 102, 103, 104, 105, 106, 107, 108, 109, 110, 111, 112, 113, 114, 115, 116, 117, 118, 119], \"xaxis\": \"x4\", \"y\": [-0.0, 0.0, 0.0, 0.0, -0.0, -0.11087179339500472, -0.08354939897923506, -0.04994039320136616, -0.026359149277161237, -0.19491772796694862, -0.4847955071136279, -0.5665942190934732, -1.3570390344125098, -0.2572271891561714, -0.05397562055703301, -0.8548550664208254, -0.8059547445034537, -0.7257876752431729, -1.777095588634216, -0.11343350730783543, -0.08330718518770121, -1.5753306138293541, -0.21854540050702176, -0.9566070524895802, -0.12175712775170261, -0.07978691203928251, -0.2558888078932263, -0.00045466288141443286, 0.3540890584390469, 0.8568641425210377, 0.7526823918284882, 1.5226474441130964, 2.3487223414964693, 1.2174540390020243, 3.0912568981765123, 2.7464805942471515, 3.561704101956745, 4.673303318573206, 3.449217710518973, 3.0424147986624512, 2.0029956866102636, 0.9664359306823523, 1.1805997245222004, 0.1514435146006703, 1.9430567296331944, 0.8887915826850766, 0.4430099543522157, 0.9012805399350726, 0.4459132420053834, 0.07646405708721209, 0.032246884002650376, -0.43333851448514193, -0.7849321401152896, -1.9281649845065618, -2.8730973225458554, -0.4860491512250395, -0.3835251366104088, -14.67671872131597, -2.9940579933323144, -5.8893350711826535, -7.087262197033335, -4.70096181865873, -2.218998561021176, -2.173706645514742, -0.35493322744601136, -0.5009301733445791, -2.7054548156774056, -0.828170558997744, -1.559370132902199, -0.7944462511847679, -0.31885765236054275, -0.38912122668341925, -0.6394048181899036, -0.2099009817458481, -0.0, 0.0, 0.0, 0.0, 0.0, 0.0, 0.0, 0.0, 0.0, 0.0, 0.0, 0.0, 0.0, 0.0, 0.0, 0.0, 0.0, 0.0, 0.0, 0.0, 0.0, 0.0, 0.0, 0.0, -0.0, -0.0, -0.0, -0.0, -0.0, -0.0, -0.0, -0.0, -0.0, -0.0, -0.0, -0.0, -0.0, -0.0, -0.0, -0.0, -0.0, -0.0, -0.0, -0.0, -0.0, -0.0], \"yaxis\": \"y4\"}, {\"name\": \"J10\", \"type\": \"scatter\", \"x\": [0, 1, 2, 3, 4, 5, 6, 7, 8, 9, 10, 11, 12, 13, 14, 15, 16, 17, 18, 19, 20, 21, 22, 23, 24, 25, 26, 27, 28, 29, 30, 31, 32, 33, 34, 35, 36, 37, 38, 39, 40, 41, 42, 43, 44, 45, 46, 47, 48, 49, 50, 51, 52, 53, 54, 55, 56, 57, 58, 59, 60, 61, 62, 63, 64, 65, 66, 67, 68, 69, 70, 71, 72, 73, 74, 75, 76, 77, 78, 79, 80, 81, 82, 83, 84, 85, 86, 87, 88, 89, 90, 91, 92, 93, 94, 95, 96, 97, 98, 99, 100, 101, 102, 103, 104, 105, 106, 107, 108, 109, 110, 111, 112, 113, 114, 115, 116, 117, 118, 119], \"xaxis\": \"x4\", \"y\": [-0.0, -0.0, -0.0, -0.0, -0.0, -0.44162608807727, -0.2094057964065445, -0.08859629846882743, -0.03489425895604403, -0.19679403279128177, -0.3735627957182073, -0.32657227206517253, -0.5565639609568646, -0.06720373241434052, -0.006611886779951306, 0.010061390653380794, 0.11804231370718363, 0.2079871270197024, 0.7781937173309097, 0.0689871908641585, 0.06737652269882519, 1.6672108727733481, 0.30392783929242007, 1.7945308447313661, 0.32735091504504943, 0.3527677120901223, 2.8749599765419527, 0.010122152824744778, 1.9620514220119654, 2.6547848646582644, 1.5747591722122554, 2.3264616290106828, 2.7150277626138775, 1.0763311452341737, 2.0710762551221444, 1.3492404764869592, 1.1920742060145046, 0.8954419579938317, 0.19216064890771273, -0.2378082675118371, -0.4304116777632402, -0.3476650270642879, -0.613109771022948, -0.10644382869475259, -1.796774601683404, -1.075058309829878, -0.7110693241076952, -1.9993169188382987, -1.4950762400701496, -0.48555432775272894, -1.430690746937817, -3.883530150208573, -3.1423343561236368, -4.849405219022275, -5.111158888540243, -0.6450219435556162, -0.3881369745583454, -11.337032985515958, -1.7304439130627722, -2.423566401024754, -1.860618903139848, -0.5815187627146302, 0.02348389373507164, 0.31573309782798176, 0.10125677364016011, 0.21865039728553665, 1.640990463219157, 0.6681774523290968, 1.6464020842056517, 1.1020636355750206, 0.5964497988549636, 1.0423876720458114, 2.8115400667931523, 2.3270098096701717, 0.0, 0.0, 0.0, 0.0, 0.0, 0.0, 0.0, 0.0, 0.0, 0.0, 0.0, 0.0, -0.0, -0.0, -0.0, -0.0, -0.0, -0.0, -0.0, -0.0, -0.0, -0.0, -0.0, -0.0, -0.0, -0.0, -0.0, -0.0, -0.0, -0.0, -0.0, -0.0, -0.0, -0.0, -0.0, 0.0, 0.0, 0.0, 0.0, 0.0, 0.0, 0.0, 0.0, 0.0, 0.0, 0.0], \"yaxis\": \"y4\"}, {\"name\": \"J10\", \"type\": \"scatter\", \"x\": [0, 1, 2, 3, 4, 5, 6, 7, 8, 9, 10, 11, 12, 13, 14, 15, 16, 17, 18, 19, 20, 21, 22, 23, 24, 25, 26, 27, 28, 29, 30, 31, 32, 33, 34, 35, 36, 37, 38, 39, 40, 41, 42, 43, 44, 45, 46, 47, 48, 49, 50, 51, 52, 53, 54, 55, 56, 57, 58, 59, 60, 61, 62, 63, 64, 65, 66, 67, 68, 69, 70, 71, 72, 73, 74, 75, 76, 77, 78, 79, 80, 81, 82, 83, 84, 85, 86, 87, 88, 89, 90, 91, 92, 93, 94, 95, 96, 97, 98, 99, 100, 101, 102, 103, 104, 105, 106, 107, 108, 109, 110, 111, 112, 113, 114, 115, 116, 117, 118, 119], \"xaxis\": \"x5\", \"y\": [0.0, 0.0, 0.0, 0.0, 0.0, 0.09564065933227539, 0.04735666140913963, 0.02136220410466194, 0.009185577742755413, 0.05817978456616402, 0.12855394184589386, 0.13736440241336823, 0.30808308720588684, 0.05584321916103363, 0.01142213772982359, 0.17957177758216858, 0.17109408974647522, 0.158585324883461, 0.4074932038784027, 0.027886707335710526, 0.022505074739456177, 0.4817928373813629, 0.07862988114356995, 0.42714592814445496, 0.0733611136674881, 0.07596921920776367, 0.6062626242637634, 0.09791916608810425, 0.41877952218055725, 0.585954487323761, 0.3666137754917145, 0.5840229988098145, 0.7540603876113892, 0.3413293659687042, 0.78156578540802, 0.6427425742149353, 0.7889135479927063, 0.9994679689407349, 0.7256196737289429, 0.6409978866577148, 0.4303261339664459, 0.215732142329216, 0.27942657470703125, 0.03888155147433281, 0.5558844208717346, 0.292990505695343, 0.175973042845726, 0.4606476426124573, 0.3277056813240051, 0.10324588418006897, 0.3005879521369934, 0.8207845687866211, 0.6803168058395386, 1.0961642265319824, 1.2315720319747925, 0.16964389383792877, 0.11461341381072998, 3.895411252975464, 0.7263729572296143, 1.3376837968826294, 1.5391006469726562, 0.9949468970298767, 0.46611905097961426, 0.4613708257675171, 0.07752695679664612, 0.1148051843047142, 0.6646350026130676, 0.22351236641407013, 0.4763137996196747, 0.285361111164093, 0.14206081628799438, 0.23370802402496338, 0.6056336164474487, 0.4907647669315338, 0.0, 0.0, 0.0, 0.0, 0.0, 0.0, 0.0, 0.0, 0.0, 0.0, 0.0, 0.0, 0.0, 0.0, 0.0, 0.0, 0.0, 0.0, 0.0, 0.0, 0.0, 0.0, 0.0, 0.0, 0.0, 0.0, 0.0, 0.0, 0.0, 0.0, 0.0, 0.0, 0.0, 0.0, 0.0, 0.0, 0.0, 0.0, 0.0, 0.0, 0.0, 0.0, 0.0, 0.0, 0.0, 0.0], \"yaxis\": \"y5\"}],                        {\"annotations\": [{\"font\": {\"size\": 16}, \"showarrow\": false, \"text\": \"Original\", \"x\": 0.5, \"xanchor\": \"center\", \"xref\": \"paper\", \"y\": 1.0, \"yanchor\": \"bottom\", \"yref\": \"paper\"}, {\"font\": {\"size\": 16}, \"showarrow\": false, \"text\": \"Normalised\", \"x\": 0.5, \"xanchor\": \"center\", \"xref\": \"paper\", \"y\": 0.78, \"yanchor\": \"bottom\", \"yref\": \"paper\"}, {\"font\": {\"size\": 16}, \"showarrow\": false, \"text\": \"Optimised\", \"x\": 0.5, \"xanchor\": \"center\", \"xref\": \"paper\", \"y\": 0.56, \"yanchor\": \"bottom\", \"yref\": \"paper\"}, {\"font\": {\"size\": 16}, \"showarrow\": false, \"text\": \"Local phase vector\", \"x\": 0.5, \"xanchor\": \"center\", \"xref\": \"paper\", \"y\": 0.33999999999999997, \"yanchor\": \"bottom\", \"yref\": \"paper\"}, {\"font\": {\"size\": 16}, \"showarrow\": false, \"text\": \"Velocity Magnitude\", \"x\": 0.5, \"xanchor\": \"center\", \"xref\": \"paper\", \"y\": 0.12, \"yanchor\": \"bottom\", \"yref\": \"paper\"}], \"height\": 800, \"template\": {\"data\": {\"bar\": [{\"error_x\": {\"color\": \"#2a3f5f\"}, \"error_y\": {\"color\": \"#2a3f5f\"}, \"marker\": {\"line\": {\"color\": \"#E5ECF6\", \"width\": 0.5}}, \"type\": \"bar\"}], \"barpolar\": [{\"marker\": {\"line\": {\"color\": \"#E5ECF6\", \"width\": 0.5}}, \"type\": \"barpolar\"}], \"carpet\": [{\"aaxis\": {\"endlinecolor\": \"#2a3f5f\", \"gridcolor\": \"white\", \"linecolor\": \"white\", \"minorgridcolor\": \"white\", \"startlinecolor\": \"#2a3f5f\"}, \"baxis\": {\"endlinecolor\": \"#2a3f5f\", \"gridcolor\": \"white\", \"linecolor\": \"white\", \"minorgridcolor\": \"white\", \"startlinecolor\": \"#2a3f5f\"}, \"type\": \"carpet\"}], \"choropleth\": [{\"colorbar\": {\"outlinewidth\": 0, \"ticks\": \"\"}, \"type\": \"choropleth\"}], \"contour\": [{\"colorbar\": {\"outlinewidth\": 0, \"ticks\": \"\"}, \"colorscale\": [[0.0, \"#0d0887\"], [0.1111111111111111, \"#46039f\"], [0.2222222222222222, \"#7201a8\"], [0.3333333333333333, \"#9c179e\"], [0.4444444444444444, \"#bd3786\"], [0.5555555555555556, \"#d8576b\"], [0.6666666666666666, \"#ed7953\"], [0.7777777777777778, \"#fb9f3a\"], [0.8888888888888888, \"#fdca26\"], [1.0, \"#f0f921\"]], \"type\": \"contour\"}], \"contourcarpet\": [{\"colorbar\": {\"outlinewidth\": 0, \"ticks\": \"\"}, \"type\": \"contourcarpet\"}], \"heatmap\": [{\"colorbar\": {\"outlinewidth\": 0, \"ticks\": \"\"}, \"colorscale\": [[0.0, \"#0d0887\"], [0.1111111111111111, \"#46039f\"], [0.2222222222222222, \"#7201a8\"], [0.3333333333333333, \"#9c179e\"], [0.4444444444444444, \"#bd3786\"], [0.5555555555555556, \"#d8576b\"], [0.6666666666666666, \"#ed7953\"], [0.7777777777777778, \"#fb9f3a\"], [0.8888888888888888, \"#fdca26\"], [1.0, \"#f0f921\"]], \"type\": \"heatmap\"}], \"heatmapgl\": [{\"colorbar\": {\"outlinewidth\": 0, \"ticks\": \"\"}, \"colorscale\": [[0.0, \"#0d0887\"], [0.1111111111111111, \"#46039f\"], [0.2222222222222222, \"#7201a8\"], [0.3333333333333333, \"#9c179e\"], [0.4444444444444444, \"#bd3786\"], [0.5555555555555556, \"#d8576b\"], [0.6666666666666666, \"#ed7953\"], [0.7777777777777778, \"#fb9f3a\"], [0.8888888888888888, \"#fdca26\"], [1.0, \"#f0f921\"]], \"type\": \"heatmapgl\"}], \"histogram\": [{\"marker\": {\"colorbar\": {\"outlinewidth\": 0, \"ticks\": \"\"}}, \"type\": \"histogram\"}], \"histogram2d\": [{\"colorbar\": {\"outlinewidth\": 0, \"ticks\": \"\"}, \"colorscale\": [[0.0, \"#0d0887\"], [0.1111111111111111, \"#46039f\"], [0.2222222222222222, \"#7201a8\"], [0.3333333333333333, \"#9c179e\"], [0.4444444444444444, \"#bd3786\"], [0.5555555555555556, \"#d8576b\"], [0.6666666666666666, \"#ed7953\"], [0.7777777777777778, \"#fb9f3a\"], [0.8888888888888888, \"#fdca26\"], [1.0, \"#f0f921\"]], \"type\": \"histogram2d\"}], \"histogram2dcontour\": [{\"colorbar\": {\"outlinewidth\": 0, \"ticks\": \"\"}, \"colorscale\": [[0.0, \"#0d0887\"], [0.1111111111111111, \"#46039f\"], [0.2222222222222222, \"#7201a8\"], [0.3333333333333333, \"#9c179e\"], [0.4444444444444444, \"#bd3786\"], [0.5555555555555556, \"#d8576b\"], [0.6666666666666666, \"#ed7953\"], [0.7777777777777778, \"#fb9f3a\"], [0.8888888888888888, \"#fdca26\"], [1.0, \"#f0f921\"]], \"type\": \"histogram2dcontour\"}], \"mesh3d\": [{\"colorbar\": {\"outlinewidth\": 0, \"ticks\": \"\"}, \"type\": \"mesh3d\"}], \"parcoords\": [{\"line\": {\"colorbar\": {\"outlinewidth\": 0, \"ticks\": \"\"}}, \"type\": \"parcoords\"}], \"pie\": [{\"automargin\": true, \"type\": \"pie\"}], \"scatter\": [{\"marker\": {\"colorbar\": {\"outlinewidth\": 0, \"ticks\": \"\"}}, \"type\": \"scatter\"}], \"scatter3d\": [{\"line\": {\"colorbar\": {\"outlinewidth\": 0, \"ticks\": \"\"}}, \"marker\": {\"colorbar\": {\"outlinewidth\": 0, \"ticks\": \"\"}}, \"type\": \"scatter3d\"}], \"scattercarpet\": [{\"marker\": {\"colorbar\": {\"outlinewidth\": 0, \"ticks\": \"\"}}, \"type\": \"scattercarpet\"}], \"scattergeo\": [{\"marker\": {\"colorbar\": {\"outlinewidth\": 0, \"ticks\": \"\"}}, \"type\": \"scattergeo\"}], \"scattergl\": [{\"marker\": {\"colorbar\": {\"outlinewidth\": 0, \"ticks\": \"\"}}, \"type\": \"scattergl\"}], \"scattermapbox\": [{\"marker\": {\"colorbar\": {\"outlinewidth\": 0, \"ticks\": \"\"}}, \"type\": \"scattermapbox\"}], \"scatterpolar\": [{\"marker\": {\"colorbar\": {\"outlinewidth\": 0, \"ticks\": \"\"}}, \"type\": \"scatterpolar\"}], \"scatterpolargl\": [{\"marker\": {\"colorbar\": {\"outlinewidth\": 0, \"ticks\": \"\"}}, \"type\": \"scatterpolargl\"}], \"scatterternary\": [{\"marker\": {\"colorbar\": {\"outlinewidth\": 0, \"ticks\": \"\"}}, \"type\": \"scatterternary\"}], \"surface\": [{\"colorbar\": {\"outlinewidth\": 0, \"ticks\": \"\"}, \"colorscale\": [[0.0, \"#0d0887\"], [0.1111111111111111, \"#46039f\"], [0.2222222222222222, \"#7201a8\"], [0.3333333333333333, \"#9c179e\"], [0.4444444444444444, \"#bd3786\"], [0.5555555555555556, \"#d8576b\"], [0.6666666666666666, \"#ed7953\"], [0.7777777777777778, \"#fb9f3a\"], [0.8888888888888888, \"#fdca26\"], [1.0, \"#f0f921\"]], \"type\": \"surface\"}], \"table\": [{\"cells\": {\"fill\": {\"color\": \"#EBF0F8\"}, \"line\": {\"color\": \"white\"}}, \"header\": {\"fill\": {\"color\": \"#C8D4E3\"}, \"line\": {\"color\": \"white\"}}, \"type\": \"table\"}]}, \"layout\": {\"annotationdefaults\": {\"arrowcolor\": \"#2a3f5f\", \"arrowhead\": 0, \"arrowwidth\": 1}, \"autotypenumbers\": \"strict\", \"coloraxis\": {\"colorbar\": {\"outlinewidth\": 0, \"ticks\": \"\"}}, \"colorscale\": {\"diverging\": [[0, \"#8e0152\"], [0.1, \"#c51b7d\"], [0.2, \"#de77ae\"], [0.3, \"#f1b6da\"], [0.4, \"#fde0ef\"], [0.5, \"#f7f7f7\"], [0.6, \"#e6f5d0\"], [0.7, \"#b8e186\"], [0.8, \"#7fbc41\"], [0.9, \"#4d9221\"], [1, \"#276419\"]], \"sequential\": [[0.0, \"#0d0887\"], [0.1111111111111111, \"#46039f\"], [0.2222222222222222, \"#7201a8\"], [0.3333333333333333, \"#9c179e\"], [0.4444444444444444, \"#bd3786\"], [0.5555555555555556, \"#d8576b\"], [0.6666666666666666, \"#ed7953\"], [0.7777777777777778, \"#fb9f3a\"], [0.8888888888888888, \"#fdca26\"], [1.0, \"#f0f921\"]], \"sequentialminus\": [[0.0, \"#0d0887\"], [0.1111111111111111, \"#46039f\"], [0.2222222222222222, \"#7201a8\"], [0.3333333333333333, \"#9c179e\"], [0.4444444444444444, \"#bd3786\"], [0.5555555555555556, \"#d8576b\"], [0.6666666666666666, \"#ed7953\"], [0.7777777777777778, \"#fb9f3a\"], [0.8888888888888888, \"#fdca26\"], [1.0, \"#f0f921\"]]}, \"colorway\": [\"#636efa\", \"#EF553B\", \"#00cc96\", \"#ab63fa\", \"#FFA15A\", \"#19d3f3\", \"#FF6692\", \"#B6E880\", \"#FF97FF\", \"#FECB52\"], \"font\": {\"color\": \"#2a3f5f\"}, \"geo\": {\"bgcolor\": \"white\", \"lakecolor\": \"white\", \"landcolor\": \"#E5ECF6\", \"showlakes\": true, \"showland\": true, \"subunitcolor\": \"white\"}, \"hoverlabel\": {\"align\": \"left\"}, \"hovermode\": \"closest\", \"mapbox\": {\"style\": \"light\"}, \"paper_bgcolor\": \"white\", \"plot_bgcolor\": \"#E5ECF6\", \"polar\": {\"angularaxis\": {\"gridcolor\": \"white\", \"linecolor\": \"white\", \"ticks\": \"\"}, \"bgcolor\": \"#E5ECF6\", \"radialaxis\": {\"gridcolor\": \"white\", \"linecolor\": \"white\", \"ticks\": \"\"}}, \"scene\": {\"xaxis\": {\"backgroundcolor\": \"#E5ECF6\", \"gridcolor\": \"white\", \"gridwidth\": 2, \"linecolor\": \"white\", \"showbackground\": true, \"ticks\": \"\", \"zerolinecolor\": \"white\"}, \"yaxis\": {\"backgroundcolor\": \"#E5ECF6\", \"gridcolor\": \"white\", \"gridwidth\": 2, \"linecolor\": \"white\", \"showbackground\": true, \"ticks\": \"\", \"zerolinecolor\": \"white\"}, \"zaxis\": {\"backgroundcolor\": \"#E5ECF6\", \"gridcolor\": \"white\", \"gridwidth\": 2, \"linecolor\": \"white\", \"showbackground\": true, \"ticks\": \"\", \"zerolinecolor\": \"white\"}}, \"shapedefaults\": {\"line\": {\"color\": \"#2a3f5f\"}}, \"ternary\": {\"aaxis\": {\"gridcolor\": \"white\", \"linecolor\": \"white\", \"ticks\": \"\"}, \"baxis\": {\"gridcolor\": \"white\", \"linecolor\": \"white\", \"ticks\": \"\"}, \"bgcolor\": \"#E5ECF6\", \"caxis\": {\"gridcolor\": \"white\", \"linecolor\": \"white\", \"ticks\": \"\"}}, \"title\": {\"x\": 0.05}, \"xaxis\": {\"automargin\": true, \"gridcolor\": \"white\", \"linecolor\": \"white\", \"ticks\": \"\", \"title\": {\"standoff\": 15}, \"zerolinecolor\": \"white\", \"zerolinewidth\": 2}, \"yaxis\": {\"automargin\": true, \"gridcolor\": \"white\", \"linecolor\": \"white\", \"ticks\": \"\", \"title\": {\"standoff\": 15}, \"zerolinecolor\": \"white\", \"zerolinewidth\": 2}}}, \"title\": {\"text\": \"Contact info\"}, \"width\": 800, \"xaxis\": {\"anchor\": \"y\", \"domain\": [0.0, 1.0], \"title\": {\"text\": \"frames\"}}, \"xaxis2\": {\"anchor\": \"y2\", \"domain\": [0.0, 1.0], \"title\": {\"text\": \"frames\"}}, \"xaxis3\": {\"anchor\": \"y3\", \"domain\": [0.0, 1.0], \"title\": {\"text\": \"frames\"}}, \"xaxis4\": {\"anchor\": \"y4\", \"domain\": [0.0, 1.0], \"title\": {\"text\": \"frames\"}}, \"xaxis5\": {\"anchor\": \"y5\", \"domain\": [0.0, 1.0], \"title\": {\"text\": \"frames\"}}, \"yaxis\": {\"anchor\": \"x\", \"domain\": [0.88, 1.0]}, \"yaxis2\": {\"anchor\": \"x2\", \"domain\": [0.66, 0.78]}, \"yaxis3\": {\"anchor\": \"x3\", \"domain\": [0.44, 0.56]}, \"yaxis4\": {\"anchor\": \"x4\", \"domain\": [0.22, 0.33999999999999997]}, \"yaxis5\": {\"anchor\": \"x5\", \"domain\": [0.0, 0.12]}},                        {\"responsive\": true}                    ).then(function(){\n                            \nvar gd = document.getElementById('6e3a1c2a-f7c7-4846-9392-eeb6b3f3db39');\nvar x = new MutationObserver(function (mutations, observer) {{\n        var display = window.getComputedStyle(gd).display;\n        if (!display || display === 'none') {{\n            console.log([gd, 'removed!']);\n            Plotly.purge(gd);\n            observer.disconnect();\n        }}\n}});\n\n// Listen for the removal of the full notebook cells\nvar notebookContainer = gd.closest('#notebook-container');\nif (notebookContainer) {{\n    x.observe(notebookContainer, {childList: true});\n}}\n\n// Listen for the clearing of the current output cell\nvar outputEl = gd.closest('.output');\nif (outputEl) {{\n    x.observe(outputEl, {childList: true});\n}}\n\n                        })                };                });            </script>        </div>"
     },
     "metadata": {},
     "output_type": "display_data"
    }
   ],
   "source": [
    "plot_contact_single(cO_10, cN_10, cOpt_10, cLocal_10, cAmp_10, cVel_10, i=10)\n"
   ],
   "metadata": {
    "collapsed": false,
    "pycharm": {
     "name": "#%%\n"
    }
   }
  },
  {
   "cell_type": "code",
   "execution_count": null,
   "outputs": [],
   "source": [
    "# plot_contact(cInfo2, cNormalised2, cOpt2, cLocalPhase2, cAmp2)\n",
    "def func2(x0, *args):\n",
    "    curve = cN_14\n",
    "    t = np.arange(120)\n",
    "    pred = infer(t,x0)\n",
    "    return np.sqrt((pred - curve)**2).mean()\n",
    "\n",
    "param = [.01,.01,.01,.01]\n",
    "results = minimize(func2, param, method=\"BFGS\", options={\"disp\":True})"
   ],
   "metadata": {
    "collapsed": false,
    "pycharm": {
     "name": "#%%\n"
    }
   }
  },
  {
   "cell_type": "code",
   "execution_count": null,
   "outputs": [],
   "source": [
    "print(results)"
   ],
   "metadata": {
    "collapsed": false,
    "pycharm": {
     "name": "#%%\n"
    }
   }
  },
  {
   "cell_type": "code",
   "execution_count": null,
   "outputs": [],
   "source": [
    "x = np.arange(120)\n",
    "phi = (results.x[1] * x - results.x[2]) % (2*np.pi)\n",
    "velocity = np.reshape(vInfo2, (-1, 3, 120)).T\n",
    "velocity = np.sqrt(np.sum(velocity**2, axis=1))\n",
    "print(velocity.shape)\n",
    "print(phi.shape)\n",
    "print(velocity.T[10])\n",
    "# velocity.T[10][velocity.T[10] > 4] = 0"
   ],
   "metadata": {
    "collapsed": false,
    "pycharm": {
     "name": "#%%\n"
    }
   }
  },
  {
   "cell_type": "code",
   "execution_count": null,
   "outputs": [],
   "source": [
    "Phi = (1 / np.diff(phi, prepend=0)) * velocity.T[10]\n",
    "# amp = np.asarray([np.asarray([(r.x[0]) for r in res]) for res in results])\n",
    "P = [Phi * results.x[0] * np.sin(phi), np.abs(Phi) * results.x[0] * np.cos(phi)]"
   ],
   "metadata": {
    "collapsed": false,
    "pycharm": {
     "name": "#%%\n"
    }
   }
  },
  {
   "cell_type": "code",
   "execution_count": null,
   "outputs": [],
   "source": [
    "fig = ex.line(x=x, y=P[0])\n",
    "fig.show()"
   ],
   "metadata": {
    "collapsed": false,
    "pycharm": {
     "name": "#%%\n"
    }
   }
  },
  {
   "cell_type": "code",
   "execution_count": null,
   "outputs": [],
   "source": [
    "fig = ex.line(x=x, y=P[1])\n",
    "fig.show()"
   ],
   "metadata": {
    "collapsed": false,
    "pycharm": {
     "name": "#%%\n"
    }
   }
  },
  {
   "cell_type": "code",
   "execution_count": null,
   "outputs": [],
   "source": [
    "fig = ex.line(x=x, y=P[0]+P[1])\n",
    "fig.show()"
   ],
   "metadata": {
    "collapsed": false,
    "pycharm": {
     "name": "#%%\n"
    }
   }
  },
  {
   "cell_type": "code",
   "execution_count": null,
   "outputs": [],
   "source": [
    "param_opt2 = results.x\n",
    "y = infer(x, param_opt2)\n",
    "\n",
    "fig = ex.line(x=x, y=y)\n",
    "fig.show()"
   ],
   "metadata": {
    "collapsed": false,
    "pycharm": {
     "name": "#%%\n"
    }
   }
  },
  {
   "cell_type": "code",
   "execution_count": null,
   "outputs": [],
   "source": [
    "fig = ex.line(x=x, y=P[0])\n",
    "fig.show()"
   ],
   "metadata": {
    "collapsed": false,
    "pycharm": {
     "name": "#%%\n"
    }
   }
  },
  {
   "cell_type": "code",
   "execution_count": null,
   "outputs": [],
   "source": [
    "fig = ex.line(x=x, y=P[1])\n",
    "fig.show()"
   ],
   "metadata": {
    "collapsed": false,
    "pycharm": {
     "name": "#%%\n"
    }
   }
  },
  {
   "cell_type": "code",
   "execution_count": null,
   "outputs": [],
   "source": [
    "fig = ex.line(x=x, y=P[0]+P[1])\n",
    "fig.show()"
   ],
   "metadata": {
    "collapsed": false,
    "pycharm": {
     "name": "#%%\n"
    }
   }
  },
  {
   "cell_type": "code",
   "execution_count": null,
   "outputs": [],
   "source": [
    "param_opt2 = results.x\n",
    "y = infer(x, param_opt2)\n",
    "\n",
    "fig = ex.line(x=x, y=y)\n",
    "fig.show()"
   ],
   "metadata": {
    "collapsed": false,
    "pycharm": {
     "name": "#%%\n"
    }
   }
  }
 ],
 "metadata": {
  "kernelspec": {
   "display_name": "Python 3",
   "language": "python",
   "name": "python3"
  },
  "language_info": {
   "codemirror_mode": {
    "name": "ipython",
    "version": 2
   },
   "file_extension": ".py",
   "mimetype": "text/x-python",
   "name": "python",
   "nbconvert_exporter": "python",
   "pygments_lexer": "ipython2",
   "version": "2.7.6"
  }
 },
 "nbformat": 4,
 "nbformat_minor": 0
}