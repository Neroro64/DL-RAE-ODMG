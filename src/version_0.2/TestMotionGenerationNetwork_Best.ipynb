{
 "cells": [
  {
   "cell_type": "code",
   "execution_count": 19,
   "metadata": {
    "collapsed": true
   },
   "outputs": [],
   "source": [
    "import os, sys\n",
    "sys.path.append(\"motion_generation\")\n",
    "sys.path.append(\"rig_agnostic_encoding/functions\")\n",
    "sys.path.append(\"rig_agnostic_encoding/models\")\n",
    "\n",
    "from motion_generation.MoE import MoE\n",
    "import motion_generation\n",
    "from motion_generation.GRU import GRU\n",
    "from motion_generation.LSTM import LSTM\n",
    "from motion_generation.MotionGeneration import MotionGenerationModel\n",
    "# from motion_generation.MotionGeneration_v2 import MotionGenerationModel as MotionGenerationModel_v2\n",
    "# from motion_generation.MotionGeneration_v3 import MotionGenerationModel as MotionGenerationModel_v3\n",
    "# from motion_generation.MotionGenerationRNN import MotionGenerationModelRNN\n",
    "# from motion_generation.MotionGenerationBatch import MotionGenerationModelBatch\n",
    "from rig_agnostic_encoding.models.MLP import MLP\n",
    "# from rig_agnostic_encoding.models.MLP_MIX import MLP_MIX\n",
    "from rig_agnostic_encoding.models.VAE import VAE\n",
    "from rig_agnostic_encoding.functions.DataProcessingFunctions import clean_checkpoints\n",
    "# from DataProcessingFunctions import calc_tta_embedding\n",
    "from GlobalSettings import MODEL_PATH\n",
    "import bz2\n",
    "\n",
    "import torch\n",
    "import torch.nn as nn\n",
    "from cytoolz import sliding_window, accumulate\n",
    "from operator import add\n",
    "\n",
    "import numpy as np\n",
    "import pytorch_lightning as pl\n",
    "from pytorch_lightning.callbacks import ModelCheckpoint, EarlyStopping\n",
    "from pytorch_lightning.callbacks import ModelCheckpoint\n",
    "from pytorch_lightning.loggers import TensorBoardLogger\n",
    "\n",
    "from torch.utils.data import Dataset, TensorDataset\n",
    "from torch.utils.data import DataLoader\n",
    "from torch.utils.data.dataset import random_split\n",
    "import func as F\n",
    "import _pickle as pickle\n",
    "import json as js\n",
    "import importlib"
   ]
  },
  {
   "cell_type": "code",
   "execution_count": 2,
   "outputs": [],
   "source": [
    "class MLP_MIX(pl.LightningModule):\n",
    "    def __init__(self, config:dict=None, input_dims:list=None, pose_labels=None,\n",
    "                 train_set=None, val_set=None, test_set=None,\n",
    "                 name:str=\"model\", save_period=5, workers=6):\n",
    "\n",
    "        super().__init__()\n",
    "\n",
    "        M = len(input_dims)\n",
    "\n",
    "        self.name = name\n",
    "        self.input_dims = input_dims\n",
    "        self.input_slice = [0] + list(accumulate(add, input_dims))\n",
    "\n",
    "        self.act = nn.ELU\n",
    "        self.save_period = save_period\n",
    "        self.workers = workers\n",
    "        self.pose_labels = pose_labels if pose_labels is not None else [None for _ in range(M)]\n",
    "\n",
    "        self.config = config\n",
    "        self.hidden_dim = config[\"hidden_dim\"]\n",
    "        self.keep_prob = config[\"keep_prob\"]\n",
    "        self.k = config[\"k\"]\n",
    "        self.learning_rate = config[\"lr\"]\n",
    "        self.batch_size = config[\"batch_size\"]\n",
    "\n",
    "        self.loss_fn = config[\"loss_fn\"] if \"loss_fn\" in config else nn.functional.mse_loss\n",
    "        self.opt = config[\"optimizer\"] if \"optimizer\" in config else torch.optim.Adam\n",
    "        self.scheduler = config[\"scheduler\"] if \"scheduler\" in config else None\n",
    "        self.scheduler_param = config[\"scheduler_param\"] if \"scheduler_param\" in config else None\n",
    "\n",
    "        self.models = []\n",
    "        self.active_models = []\n",
    "        self.cluster_model = nn.Sequential()\n",
    "\n",
    "        self.train_set = train_set\n",
    "        self.val_set = val_set\n",
    "        self.test_set = test_set\n",
    "\n",
    "        self.best_val_loss = np.inf\n",
    "\n",
    "        self.models = [MLP(config=self.config, dimensions=[self.input_dims[i]], pose_labels=self.pose_labels[i],\n",
    "                           name=\"M\"+str(i), single_module=0) for i in range(M)]\n",
    "        self.active_models = self.models\n",
    "\n",
    "        self.cluster_model = nn.Sequential(\n",
    "            nn.Linear(in_features=self.k, out_features=self.k))\n",
    "        self.init_params(self.cluster_model)\n",
    "\n",
    "    def forward(self, x:torch.Tensor) -> torch.Tensor:\n",
    "        x_tensors = [x[:, d0:d1] for d0, d1 in zip(self.input_slice[:-1], self.input_slice[1:])]\n",
    "\n",
    "        encoded = [m.encode(x_tensors[i]) for i, m in enumerate(self.active_models)]\n",
    "        embeddings = [self.cluster_model(vec) for vec in encoded]\n",
    "        decoded = [m.decode(embeddings[i]) for i, m in enumerate(self.active_models)]\n",
    "\n",
    "        return torch.cat(decoded, dim=1)\n",
    "\n",
    "    def training_step(self, batch, batch_idx):\n",
    "        x, y = batch\n",
    "\n",
    "        x = x.view(-1, x.shape[-1])\n",
    "        y = y.view(-1, y.shape[-1])\n",
    "        prediction = self(x)\n",
    "        loss = self.loss_fn(prediction, y)\n",
    "\n",
    "        self.log(\"ptl/train_loss\", loss)\n",
    "        return loss\n",
    "\n",
    "    def validation_step(self, batch, batch_idx):\n",
    "        x, y = batch\n",
    "\n",
    "        x = x.view(-1, x.shape[-1])\n",
    "        y = y.view(-1, y.shape[-1])\n",
    "        prediction = self(x)\n",
    "        loss = self.loss_fn(prediction, y)\n",
    "\n",
    "        self.log('ptl/val_loss', loss, prog_bar=True)\n",
    "        return {\"val_loss\":loss}\n",
    "\n",
    "    def test_step(self, batch, batch_idx):\n",
    "        x, y = batch\n",
    "\n",
    "        x = x.view(-1, x.shape[-1])\n",
    "        y = y.view(-1, y.shape[-1])\n",
    "        prediction = self(x)\n",
    "        loss = self.loss_fn(prediction, y)\n",
    "\n",
    "        self.log('ptl/test_loss', loss, prog_bar=True)\n",
    "        return {\"test_loss\":loss}\n",
    "\n",
    "    def validation_epoch_end(self, outputs):\n",
    "        avg_loss = torch.stack([x[\"val_loss\"] for x in outputs]).mean()\n",
    "        self.log(\"avg_val_loss\", avg_loss)\n",
    "        if avg_loss < self.best_val_loss:\n",
    "            self.best_val_loss = avg_loss\n",
    "            if self.current_epoch % self.save_period == 0:\n",
    "                self.save_checkpoint(best_val_loss=self.best_val_loss.item())\n",
    "\n",
    "    def save_checkpoint(self, best_val_loss:float=np.inf, checkpoint_dir=MODEL_PATH):\n",
    "        path = os.path.join(checkpoint_dir, self.name)\n",
    "\n",
    "        config = {\n",
    "            \"hidden_dim\": self.hidden_dim,\n",
    "            \"k\": self.k,\n",
    "            \"lr\": self.learning_rate,\n",
    "            \"batch_size\": self.batch_size,\n",
    "            \"keep_prob\":self.keep_prob,\n",
    "            \"optimizer\": self.opt,\n",
    "            \"scheduler\": self.scheduler,\n",
    "            \"scheduler_param\": self.scheduler_param,\n",
    "        }\n",
    "\n",
    "        model_paths = [m.save_checkpoint(best_val_loss=best_val_loss, checkpoint_dir=path) for m in self.models]\n",
    "        model = {\"config\":config, \"name\":self.name, \"model_paths\":model_paths,\n",
    "                 \"input_dims\":self.input_dims, \"pose_labels\":self.pose_labels,\n",
    "                 \"cluster_model\":self.cluster_model.state_dict()\n",
    "                 }\n",
    "\n",
    "        if not os.path.exists(checkpoint_dir):\n",
    "            os.mkdir(checkpoint_dir)\n",
    "        path = os.path.join(checkpoint_dir, self.name)\n",
    "        if not os.path.exists(path):\n",
    "            os.mkdir(path)\n",
    "\n",
    "        filePath = os.path.join(path, str(best_val_loss)+\".\"+str(self.k)+\".pbz2\")\n",
    "        with bz2.BZ2File(filePath, \"w\") as f:\n",
    "            pickle.dump(model, f)\n",
    "        return filePath\n",
    "\n",
    "    @staticmethod\n",
    "    def load_checkpoint(filePath):\n",
    "        with bz2.BZ2File(filePath, \"rb\") as f:\n",
    "            obj = pickle.load(f)\n",
    "        model = MLP_MIX(config=obj[\"config\"], name=obj[\"name\"],\n",
    "                    input_dims=obj[\"input_dims\"], pose_labels=obj[\"pose_labels\"])\n",
    "\n",
    "        models = [MLP.load_checkpoint(path) for path in obj[\"model_paths\"]]\n",
    "        model.models = models\n",
    "        model.cluster_model.load_state_dict(obj[\"cluster_model\"])\n",
    "        return model\n",
    "\n",
    "    def configure_optimizers(self):\n",
    "        optimizer = self.opt(self.parameters(), lr=self.learning_rate)\n",
    "        if self.scheduler is not None:\n",
    "            scheduler = self.scheduler(optimizer, **self.scheduler_param)\n",
    "            return [optimizer], [scheduler]\n",
    "        return optimizer\n",
    "\n",
    "    def train_dataloader(self):\n",
    "        return DataLoader(self.train_set, batch_size=self.batch_size, pin_memory=True, num_workers=self.workers)\n",
    "\n",
    "    def val_dataloader(self):\n",
    "        return DataLoader(self.val_set, batch_size=self.batch_size, pin_memory=True, num_workers=self.workers)\n",
    "\n",
    "    def test_dataloader(self):\n",
    "        return DataLoader(self.test_set, batch_size=self.batch_size, pin_memory=True, num_workers=self.workers)\n",
    "\n",
    "    @staticmethod\n",
    "    def init_params(m):\n",
    "        if type(m) == nn.Linear:\n",
    "            nn.init.xavier_uniform_(m.weight)\n",
    "            m.bias.data.fill_(.01)\n",
    "\n",
    "    def add_models(self, input_dims:list=None, pose_labels:list=None, freeze=False):\n",
    "        n = len(self.models)+1\n",
    "        if pose_labels is not None:\n",
    "            self.models += [MLP(config=self.config, dimensions=[input_dims[i]], pose_labels=pose_labels[i],\n",
    "                            name=\"M\" + str(i+n), single_module=0) for i in range(len(input_dims))]\n",
    "        else:\n",
    "            self.models += [MLP(config=self.config, dimensions=[input_dims[i]],\n",
    "                            name=\"M\" + str(i+n), single_module=0) for i in range(len(input_dims))]\n",
    "\n",
    "        if freeze:\n",
    "            for model in self.active_models:\n",
    "                model.freeze(True)\n",
    "            self.active_models = self.models[n-1:]\n",
    "            self.input_dims = input_dims\n",
    "        else:\n",
    "            self.active_models = self.models\n",
    "            self.input_dims += input_dims\n",
    "\n",
    "        self.input_slice = [0] + list(accumulate(add, self.input_dims))\n"
   ],
   "metadata": {
    "collapsed": false,
    "pycharm": {
     "name": "#%%\n"
    }
   }
  },
  {
   "cell_type": "code",
   "execution_count": 54,
   "outputs": [],
   "source": [
    "def calc_tta_embedding(embedd_dim:float, tta, basis: float = 1e5, window=30, device=\"cuda\"):\n",
    "    \"\"\"\n",
    "    Calculates time-to-arriaval-embeddings, according to the paper [Robust Motion In-betweening]\n",
    "    :param contacts:\n",
    "    :param basis\n",
    "    :return:\n",
    "    \"\"\"\n",
    "\n",
    "    # if embedd_dim % 2 != 0:\n",
    "    #     d1 = embedd_dim / 2 + 1\n",
    "    #     d2 = embedd_dim / 2\n",
    "    # else:\n",
    "    #     d1 = d2 = embedd_dim / 2\n",
    "\n",
    "    basis = torch.Tensor([basis]).to(device)\n",
    "\n",
    "    tta[tta > window] = 0\n",
    "    d1 = torch.arange(0, embedd_dim, 2).to(device)\n",
    "    d2 = torch.arange(1, embedd_dim, 2).to(device)\n",
    "\n",
    "    z_sin = torch.sin(tta / (torch.pow(basis, 2.0*d1 / embedd_dim)))\n",
    "    z_cos = torch.cos(tta / (torch.pow(basis, 2.0*d2 / embedd_dim)))\n",
    "\n",
    "    z = torch.zeros(embedd_dim).to(device)\n",
    "    z[0::2] += z_sin\n",
    "    z[1::2] += z_cos\n",
    "    return z\n",
    "\n",
    "class MotionGenerationModel(pl.LightningModule):\n",
    "    def __init__(self, config:dict=None, Model=None, pose_autoencoder=None, middle_layer=None, feature_dims=None,\n",
    "                 input_slicers:list=None, output_slicers:list=None,\n",
    "                 train_set=None, val_set=None, test_set=None, name=\"MotionGeneration\", workers=8):\n",
    "        super().__init__()\n",
    "\n",
    "        self.feature_dims = feature_dims\n",
    "        self.config=config\n",
    "        self.workers = workers\n",
    "\n",
    "        self.loss_fn = config[\"loss_fn\"] if \"loss_fn\" in config else nn.functional.mse_loss\n",
    "        self.opt = config[\"optimizer\"] if \"optimizer\" in config else torch.optim.Adam\n",
    "        self.scheduler = config[\"scheduler\"] if \"scheduler\" in config else None\n",
    "        self.scheduler_param = config[\"scheduler_param\"] if \"scheduler_param\" in config else None\n",
    "        self.batch_size = config[\"batch_size\"]\n",
    "        self.learning_rate = config[\"lr\"]\n",
    "        self.seq_len = config[\"seq_len\"]\n",
    "\n",
    "        self.autoregress_prob = config[\"autoregress_prob\"]\n",
    "        self.autoregress_inc = config[\"autoregress_inc\"]\n",
    "        self.autoregress_ep = config[\"autoregress_ep\"]\n",
    "        self.autoregress_max_prob = config[\"autoregress_max_prob\"]\n",
    "\n",
    "        self.best_val_loss = np.inf\n",
    "        self.phase_smooth_factor = 0.9\n",
    "\n",
    "        self.pose_autoencoder = pose_autoencoder if pose_autoencoder is not None else \\\n",
    "            MLP(config=config, dimensions=[feature_dims[\"pose_dim\"]], name=\"PoseAE\")\n",
    "        self.middle_layer = middle_layer if middle_layer is not None else \\\n",
    "            nn.Linear(in_features=self.pose_autoencoder.dimensions[-1], out_features=self.pose_autoencoder.dimensions[-1])\n",
    "        self.use_label = pose_autoencoder is not None and pose_autoencoder.use_label\n",
    "\n",
    "        cost_hidden_dim = config[\"cost_hidden_dim\"]\n",
    "        self.cost_encoder = MLP(config=config,\n",
    "                            dimensions=[feature_dims[\"cost_dim\"], cost_hidden_dim, cost_hidden_dim, cost_hidden_dim],\n",
    "                            name=\"CostEncoder\", single_module=-1)\n",
    "\n",
    "        self.generationModel =  Model(config=config,\n",
    "                                      dimensions=[feature_dims[\"g_input_dim\"], feature_dims[\"g_output_dim\"]],\n",
    "                                      phase_input_dim = feature_dims[\"phase_dim\"])\n",
    "\n",
    "        self.input_dims = input_slicers\n",
    "        self.output_dims = output_slicers\n",
    "        self.in_slices = [0] + list(accumulate(add, input_slicers))\n",
    "        self.out_slices = [0] + list(accumulate(add, output_slicers))\n",
    "        self.noise = torch.autograd.Variable(torch.zeros(1)).to(config[\"device\"])\n",
    "        self.std = 1\n",
    "\n",
    "        self.train_set = train_set\n",
    "        self.val_set = val_set\n",
    "        self.test_set = test_set\n",
    "        self.name = name\n",
    "\n",
    "        self.automatic_optimization = False\n",
    "\n",
    "    def forward(self, x):\n",
    "        x_tensors = [x[:, d0:d1] for d0, d1 in zip(self.in_slices[:-1], self.in_slices[1:])]\n",
    "\n",
    "        pose_h = self.middle_layer(self.pose_autoencoder.encode(x_tensors[1]))\n",
    "        embedding = torch.cat([pose_h, self.cost_encoder(x_tensors[2])], dim=1)\n",
    "\n",
    "        # tta = torch.max(x_tensors[-1])\n",
    "        # tta_embedding = calc_tta_embedding(embedd_dim=embedding.shape[-1], tta=tta, device=self.config[\"device\"])\n",
    "        # embedding += tta\n",
    "        # self.std = min(1, torch.mean(x_tensors[-1])/30.0)\n",
    "        self.noise.data.normal_(0, std=self.std)\n",
    "        embedding += self.noise\n",
    "\n",
    "        out = self.generationModel(embedding, x_tensors[0])\n",
    "        out_tensors = [out[:, d0:d1] for d0, d1 in zip(self.out_slices[:-1], self.out_slices[1:])]\n",
    "        phase = self.update_phase(x_tensors[0], out_tensors[0])\n",
    "        new_pose = self.pose_autoencoder.decode(out_tensors[1])\n",
    "\n",
    "        return [phase, new_pose, out_tensors[-1]]\n",
    "\n",
    "\n",
    "\n",
    "    def step(self, x, y):\n",
    "        opt = self.optimizers()\n",
    "\n",
    "        n = x.size()[1]\n",
    "        tot_loss = 0\n",
    "\n",
    "        x_c = x[:,0,:]\n",
    "        autoregress_bools = torch.randn(n) < self.autoregress_prob\n",
    "        for i in range(1, n):\n",
    "            y_c = y[:,i-1,:]\n",
    "\n",
    "            out= self(x_c)\n",
    "            recon = torch.cat(out, dim=1)\n",
    "            loss = self.loss_fn(recon, y_c)\n",
    "            tot_loss += loss.detach()\n",
    "\n",
    "            opt.zero_grad()\n",
    "            self.manual_backward(loss)\n",
    "            opt.step()\n",
    "\n",
    "            if autoregress_bools[i]:\n",
    "                x_c = torch.cat(out,dim=1).detach()\n",
    "            else:\n",
    "                x_c = x[:,i,:]\n",
    "\n",
    "        tot_loss /= float(n)\n",
    "        return tot_loss\n",
    "\n",
    "    def step_eval(self, x, y):\n",
    "        n = x.size()[1]\n",
    "        tot_loss = 0\n",
    "\n",
    "        x_c = x[:,0,:]\n",
    "        autoregress_bools = torch.randn(n) < self.autoregress_prob\n",
    "        for i in range(1, n):\n",
    "            y_c = y[:,i-1,:]\n",
    "\n",
    "            out= self(x_c)\n",
    "            recon = torch.cat(out, dim=1)\n",
    "            loss = self.loss_fn(recon, y_c)\n",
    "            tot_loss += loss.detach()\n",
    "\n",
    "            if autoregress_bools[i]:\n",
    "                x_c = torch.cat(out,dim=1).detach()\n",
    "            else:\n",
    "                x_c = x[:,i,:]\n",
    "\n",
    "        tot_loss /= float(n)\n",
    "        return tot_loss\n",
    "\n",
    "    def training_step(self, batch, batch_idx):\n",
    "        x, y = batch\n",
    "\n",
    "        x = x.view(-1, self.seq_len, x.shape[-1])\n",
    "        y = y.view(-1, self.seq_len, y.shape[-1])\n",
    "        loss = self.step(x,y)\n",
    "        self.log(\"ptl/train_loss\", loss, prog_bar=True)\n",
    "\n",
    "    def validation_step(self, batch, batch_idx):\n",
    "        x, y = batch\n",
    "\n",
    "        x = x.view(-1, self.seq_len, x.shape[-1])\n",
    "        y = y.view(-1, self.seq_len, y.shape[-1])\n",
    "        loss = self.step_eval(x,y)\n",
    "        self.log(\"ptl/val_loss\", loss, prog_bar=True)\n",
    "\n",
    "        return {\"val_loss\":loss}\n",
    "\n",
    "    def test_step(self, batch, batch_idx):\n",
    "        x, y = batch\n",
    "\n",
    "        x = x.view(-1, self.seq_len, x.shape[-1])\n",
    "        y = y.view(-1, self.seq_len, y.shape[-1])\n",
    "        loss = self.step_eval(x,y)\n",
    "        self.log(\"ptl/test_loss\", loss, prog_bar=True)\n",
    "\n",
    "        return {\"test_loss\":loss}\n",
    "\n",
    "    def validation_epoch_end(self, outputs):\n",
    "        if self.current_epoch > 0 and self.current_epoch % self.autoregress_ep == 0:\n",
    "            self.autoregress_prob = min(self.autoregress_max_prob, self.autoregress_prob+self.autoregress_inc)\n",
    "\n",
    "        avg_loss = torch.stack([x[\"val_loss\"] for x in outputs]).mean()\n",
    "        self.log(\"avg_val_loss\", avg_loss)\n",
    "        if avg_loss < self.best_val_loss:\n",
    "            self.best_val_loss = avg_loss\n",
    "            self.save_checkpoint(best_val_loss=self.best_val_loss.item())\n",
    "\n",
    "    def save_checkpoint(self, best_val_loss=np.inf, checkpoint_dir=MODEL_PATH):\n",
    "        path = os.path.join(checkpoint_dir, self.name)\n",
    "\n",
    "        config = {}\n",
    "        for key, val in self.config.items():\n",
    "            config[key] = val\n",
    "\n",
    "        pose_autoencoder_path = self.pose_autoencoder.save_checkpoint(best_val_loss=best_val_loss, checkpoint_dir=path)\n",
    "        cost_encoder_path = self.cost_encoder.save_checkpoint(best_val_loss=best_val_loss, checkpoint_dir=path)\n",
    "        generationModel_path = self.generationModel.save_checkpoint(best_val_loss=best_val_loss, checkpoint_dir=path)\n",
    "\n",
    "        model = {\"name\":self.name,\n",
    "                 \"config\":config,\n",
    "                 \"pose_autoencoder_path\":pose_autoencoder_path,\n",
    "                 \"cost_encoder_path\": cost_encoder_path,\n",
    "                 \"motionGenerationModelPath\":generationModel_path,\n",
    "                 \"in_slices\":self.in_slices,\n",
    "                 \"out_slices\":self.out_slices,\n",
    "                 \"feature_dims\":self.feature_dims,\n",
    "                 \"middle_layer_dict\":self.middle_layer.state_dict(),\n",
    "                 }\n",
    "\n",
    "        if not os.path.exists(path):\n",
    "            os.mkdir(path)\n",
    "        with bz2.BZ2File(os.path.join(path,\n",
    "                                      str(best_val_loss)+\".pbz2\"), \"w\") as f:\n",
    "            pickle.dump(model, f)\n",
    "\n",
    "    @staticmethod\n",
    "    def load_checkpoint(filename, Model, MiddleModel:nn.Module=None):\n",
    "        with bz2.BZ2File(filename, \"rb\") as f:\n",
    "            obj = pickle.load(f)\n",
    "\n",
    "        pose_autoencoder = MLP.load_checkpoint(obj[\"pose_autoencoder_path\"])\n",
    "        cost_encoder = MLP.load_checkpoint(obj[\"cost_encoder_path\"])\n",
    "        generationModel = Model.load_checkpoint(obj[\"motionGenerationModelPath\"])\n",
    "\n",
    "        model = MotionGenerationModel(config=obj[\"config\"], feature_dims=obj[\"feature_dims\"], Model=Model,\n",
    "                                      input_slicers=obj[\"in_slices\"], output_slicers=obj[\"out_slices\"],\n",
    "                                      name=obj[\"name\"])\n",
    "        if MiddleModel is None:\n",
    "            MiddleModel = nn.Linear(in_features=pose_autoencoder.dimensions[-1], out_features=pose_autoencoder.dimensions[-11])\n",
    "\n",
    "        MiddleModel.load_state_dict(obj[\"middle_layer_dict\"])\n",
    "        model.in_slices = obj[\"in_slices\"]\n",
    "        model.out_slices = obj[\"out_slices\"]\n",
    "        model.pose_autoencoder = pose_autoencoder\n",
    "        model.cost_encoder = cost_encoder\n",
    "        model.generationModel = generationModel\n",
    "\n",
    "        return model\n",
    "\n",
    "    def update_phase(self, p1, p2):\n",
    "        return self.phase_smooth_factor * p2 + (1-self.phase_smooth_factor)*p1\n",
    "\n",
    "    def configure_optimizers(self):\n",
    "        optimizer = self.opt(self.parameters(), lr=self.learning_rate)\n",
    "        if self.scheduler is not None:\n",
    "            scheduler = self.scheduler(optimizer, **self.scheduler_param)\n",
    "            return [optimizer], [scheduler]\n",
    "        return optimizer\n",
    "\n",
    "    def train_dataloader(self):\n",
    "        return DataLoader(self.train_set, batch_size=self.batch_size, pin_memory=True, num_workers=self.workers)\n",
    "\n",
    "    def val_dataloader(self):\n",
    "        return DataLoader(self.val_set, batch_size=self.batch_size, pin_memory=True, num_workers=self.workers)\n",
    "\n",
    "    def test_dataloader(self):\n",
    "        return DataLoader(self.test_set, batch_size=self.batch_size, pin_memory=True, num_workers=self.workers)\n",
    "\n",
    "    def swap_pose_encoder(self, pose_encoder=None,\n",
    "                          input_dim=None, output_dim=None,\n",
    "                          feature_dims=None, freeze=False):\n",
    "        self.pose_autoencoder = pose_encoder\n",
    "        self.input_dims = input_dim\n",
    "        self.output_dims = output_dim\n",
    "        self.feature_dims = feature_dims\n",
    "        self.in_slices = [0] + list(accumulate(add, self.input_dims))\n",
    "        self.out_slices = [0] + list(accumulate(add, self.output_dims))\n",
    "\n",
    "        if freeze:\n",
    "            self.generationModel.freeze()\n",
    "            self.cost_encoder.freeze()\n"
   ],
   "metadata": {
    "collapsed": false,
    "pycharm": {
     "name": "#%%\n"
    }
   }
  },
  {
   "cell_type": "code",
   "execution_count": 34,
   "outputs": [],
   "source": [
    "config = {\n",
    "    \"hidden_dim\": 512,\n",
    "    \"k\": 256,\n",
    "    \"lr\": 1e-4,\n",
    "    \"batch_size\": 32,\n",
    "    \"keep_prob\": .2,\n",
    "    \"loss_fn\":torch.nn.functional.mse_loss,\n",
    "    \"optimizer\":torch.optim.AdamW,\n",
    "    # \"scheduler\":torch.optim.lr_scheduler.StepLR,\n",
    "    # \"scheduler_param\": {\"step_size\":80, \"gamma\":.9},\n",
    "    \"basis_func\":\"gaussian\",\n",
    "    \"n_centroid\":128,\n",
    "    \"k_experts\": 4,\n",
    "    \"gate_size\": 128,\n",
    "    \"g_hidden_dim\": 512,\n",
    "    \"num_layers\": 4,\n",
    "    \"autoregress_prob\":0,\n",
    "    \"autoregress_inc\":.2,\n",
    "    \"autoregress_ep\":50,\n",
    "    \"autoregress_max_prob\":.5,\n",
    "    \"cost_hidden_dim\":128,\n",
    "    \"seq_len\":13,\n",
    "    \"device\":\"cuda\"\n",
    "    }"
   ],
   "metadata": {
    "collapsed": false,
    "pycharm": {
     "name": "#%%\n"
    }
   }
  },
  {
   "cell_type": "code",
   "execution_count": 6,
   "outputs": [],
   "source": [
    "MAX_FILES = -1\n",
    "data_path = \"/home/nuoc/Documents/MEX/data/Dataset_R1_One_1\"\n",
    "dir = []\n",
    "file_paths = []\n",
    "for dname, dirs, files in os.walk(data_path):\n",
    "    for i, file in enumerate(files):\n",
    "        file_paths.append(os.path.join(dname, file))\n",
    "        if MAX_FILES > 0 and i >= MAX_FILES:\n",
    "            break\n",
    "\n",
    "\n"
   ],
   "metadata": {
    "collapsed": false,
    "pycharm": {
     "name": "#%%\n"
    }
   }
  },
  {
   "cell_type": "code",
   "execution_count": 7,
   "outputs": [],
   "source": [
    "phase_features = [\"phase_vec_l2\", \"targetPosition\", \"targetRotation\"]\n",
    "pose_features = [\"pos\", \"rotMat2\", \"velocity\"]\n",
    "cost_features = [\"posCost\", \"rotCost\", \"tta\"]\n",
    "features = phase_features + pose_features + cost_features\n",
    "clips = []\n",
    "feature_dims = {}"
   ],
   "metadata": {
    "collapsed": false,
    "pycharm": {
     "name": "#%%\n"
    }
   }
  },
  {
   "cell_type": "code",
   "execution_count": 8,
   "outputs": [
    {
     "name": "stderr",
     "output_type": "stream",
     "text": [
      "2021-05-07 11:48:58,663\tINFO services.py:1172 -- View the Ray dashboard at \u001B[1m\u001B[32mhttp://127.0.0.1:8265\u001B[39m\u001B[22m\n"
     ]
    }
   ],
   "source": [
    "data = F.process_data_multithread(file_paths, features)\n",
    "\n",
    "feature_dims = data[0][1]\n",
    "\n",
    "clips = [np.copy(d[0]) for d in data]\n"
   ],
   "metadata": {
    "collapsed": false,
    "pycharm": {
     "name": "#%%\n"
    }
   }
  },
  {
   "cell_type": "code",
   "execution_count": 11,
   "outputs": [
    {
     "name": "stdout",
     "output_type": "stream",
     "text": [
      "56   372   28\n"
     ]
    }
   ],
   "source": [
    "phase_dim = sum([feature_dims[feature] for feature in phase_features])\n",
    "pose_dim = sum([feature_dims[feature] for feature in pose_features])\n",
    "cost_dim = sum([feature_dims[feature] for feature in cost_features])\n",
    "print(phase_dim, \" \", pose_dim, \" \", cost_dim)"
   ],
   "metadata": {
    "collapsed": false,
    "pycharm": {
     "name": "#%%\n"
    }
   }
  },
  {
   "cell_type": "code",
   "execution_count": 12,
   "outputs": [
    {
     "name": "stdout",
     "output_type": "stream",
     "text": [
      "168 36 36\n"
     ]
    }
   ],
   "source": [
    "x_tensors = torch.stack([F.normaliseT(torch.from_numpy(clip[:-1])).float() for clip in clips])\n",
    "y_tensors = torch.stack([torch.from_numpy(clip[1:]).float() for clip in clips])\n",
    "\n",
    "dataset = TensorDataset(torch.Tensor(x_tensors), torch.Tensor(y_tensors))\n",
    "N = len(x_tensors)\n",
    "\n",
    "train_ratio = int(.7*N)\n",
    "val_ratio = int((N-train_ratio) / 2.0)\n",
    "test_ratio = N - train_ratio - val_ratio\n",
    "train_set, val_set, test_set = random_split(dataset, [train_ratio, val_ratio, test_ratio], generator=torch.Generator().manual_seed(2021))\n",
    "print(len(train_set), len(val_set), len(test_set))"
   ],
   "metadata": {
    "collapsed": false,
    "pycharm": {
     "name": "#%%\n"
    }
   }
  },
  {
   "cell_type": "code",
   "execution_count": 16,
   "outputs": [],
   "source": [
    "dataset_name = \"R1_MoGenData_ALL\""
   ],
   "metadata": {
    "collapsed": false,
    "pycharm": {
     "name": "#%%\n"
    }
   }
  },
  {
   "cell_type": "code",
   "execution_count": 17,
   "outputs": [],
   "source": [
    "data = {\"data\":[train_set, val_set, test_set],\n",
    "        \"feature_dims\":feature_dims,\n",
    "        \"dims\":[phase_dim, pose_dim, cost_dim]}\n",
    "F.save(data, dataset_name, \"/home/nuoc/Documents/MEX/data\")"
   ],
   "metadata": {
    "collapsed": false,
    "pycharm": {
     "name": "#%%\n"
    }
   }
  },
  {
   "cell_type": "code",
   "execution_count": 14,
   "outputs": [],
   "source": [
    "# obj = F.load(\"/home/nuoc/Documents/MEX/data/\"+dataset_name+\".pbz2\")\n",
    "# train_set, val_set, test_set = obj[\"data\"]\n",
    "# feature_dims = obj[\"feature_dims\"]\n",
    "# phase_dim, pose_dim, cost_dim= obj[\"dims\"]\n",
    "\n",
    "obj = F.load(\"/home/nuoc/Documents/MEX/data/\"+dataset_name2+\".pbz2\")\n",
    "train_set2, val_set2, test_set2 = obj[\"data\"]\n",
    "feature_dims2 = obj[\"feature_dims\"]\n",
    "phase_dim2, pose_dim2, cost_dim2= obj[\"dims\"]"
   ],
   "metadata": {
    "collapsed": false,
    "pycharm": {
     "name": "#%%\n"
    }
   }
  },
  {
   "cell_type": "code",
   "execution_count": 19,
   "outputs": [
    {
     "name": "stdout",
     "output_type": "stream",
     "text": [
      "1362 torch.Size([299, 404])\n",
      "292 torch.Size([299, 404])\n",
      "293 torch.Size([299, 404])\n",
      "{'phase_vec_l2': 8, 'pos': 93, 'rotMat2': 186, 'velocity': 93, 'posCost': 12, 'rotCost': 12}\n"
     ]
    }
   ],
   "source": [
    "print(len(train_set), train_set[0][0].shape)\n",
    "print(len(val_set), val_set[0][0].shape)\n",
    "print(len(test_set), test_set[0][0].shape)\n",
    "print(feature_dims)\n"
   ],
   "metadata": {
    "collapsed": false,
    "pycharm": {
     "name": "#%%\n"
    }
   }
  },
  {
   "cell_type": "code",
   "execution_count": 55,
   "outputs": [],
   "source": [
    "model_name = \"MLP_MoE_R1_BEST\"\n",
    "\n",
    "feature_dims2 = {\n",
    "    \"phase_dim\": phase_dim,\n",
    "    \"pose_dim\": pose_dim,\n",
    "    \"cost_dim\": cost_dim-feature_dims[\"tta\"],\n",
    "    \"g_input_dim\": config[\"k\"] + config[\"cost_hidden_dim\"],\n",
    "    \"g_output_dim\":phase_dim + config[\"k\"] + cost_dim\n",
    "    }\n",
    "\n",
    "in_slice = [phase_dim, pose_dim, cost_dim-feature_dims[\"tta\"], feature_dims[\"tta\"]]\n",
    "out_slice = [phase_dim, config[\"k\"], cost_dim]\n",
    "\n",
    "MLPMIX = MLP_MIX(config=config, input_dims=[pose_dim])\n",
    "pose_encoder = MLPMIX.active_models[0]\n",
    "middle_layer = MLPMIX.cluster_model\n",
    "# cost_encoder = model2.cost_encoder\n",
    "\n",
    "# generation_model = model2.generationModel\n",
    "model = MotionGenerationModel(config=config, Model=MoE, pose_autoencoder=pose_encoder, middle_layer=middle_layer,\n",
    "                                 feature_dims=feature_dims2,\n",
    "                                 input_slicers=in_slice, output_slicers=out_slice,\n",
    "                                 train_set=train_set, val_set=val_set, test_set=test_set,\n",
    "                                 name=model_name\n",
    "                                   )\n",
    "# model.generationModel = generation_model\n",
    "# model.cost_encoder = cost_encoder\n",
    "#\n",
    "# model.cost_encoder.freeze()\n",
    "# model.generationModel.freeze()\n",
    "# model.middle_layer.requires_grad_(False)\n",
    "\n"
   ],
   "metadata": {
    "collapsed": false,
    "pycharm": {
     "name": "#%%\n"
    }
   }
  },
  {
   "cell_type": "code",
   "execution_count": 56,
   "outputs": [
    {
     "name": "stderr",
     "output_type": "stream",
     "text": [
      "GPU available: True, used: True\n",
      "TPU available: None, using: 0 TPU cores\n",
      "Using native 16bit precision.\n"
     ]
    }
   ],
   "source": [
    "MAX_EPOCHS = 300\n",
    "\n",
    "checkpoint_callback = ModelCheckpoint(monitor=\"avg_val_loss\", save_top_k=3)\n",
    "earlystopping = EarlyStopping(monitor=\"avg_val_loss\", patience=20)\n",
    "logger=TensorBoardLogger(save_dir=\"logs/\", name=model_name, version=\"0.1\")\n",
    "\n",
    "trainer = pl.Trainer(\n",
    "    default_root_dir=\"/home/nuoc/Documents/MEX/src/motion_generation/checkpoints\",\n",
    "    gpus=1, precision=16,\n",
    "    callbacks=[earlystopping],\n",
    "    min_epochs=20,\n",
    "    logger=logger,\n",
    "    max_epochs=MAX_EPOCHS,\n",
    "    stochastic_weight_avg=True\n",
    ")"
   ],
   "metadata": {
    "collapsed": false,
    "pycharm": {
     "name": "#%%\n"
    }
   }
  },
  {
   "cell_type": "code",
   "execution_count": 57,
   "outputs": [
    {
     "name": "stderr",
     "output_type": "stream",
     "text": [
      "LOCAL_RANK: 0 - CUDA_VISIBLE_DEVICES: [0]\n",
      "\n",
      "  | Name             | Type       | Params\n",
      "------------------------------------------------\n",
      "0 | pose_autoencoder | MLP        | 1.2 M \n",
      "1 | middle_layer     | Sequential | 65.8 K\n",
      "2 | cost_encoder     | MLP        | 36.2 K\n",
      "3 | generationModel  | MoE        | 2.6 M \n",
      "------------------------------------------------\n",
      "3.8 M     Trainable params\n",
      "0         Non-trainable params\n",
      "3.8 M     Total params\n",
      "15.333    Total estimated model params size (MB)\n"
     ]
    },
    {
     "data": {
      "text/plain": "HBox(children=(HTML(value='Validation sanity check'), FloatProgress(value=1.0, bar_style='info', layout=Layout…",
      "application/vnd.jupyter.widget-view+json": {
       "version_major": 2,
       "version_minor": 0,
       "model_id": "8f04e16126eb4720a27c0390fc85e3f9"
      }
     },
     "metadata": {},
     "output_type": "display_data"
    },
    {
     "data": {
      "text/plain": "HBox(children=(HTML(value='Training'), FloatProgress(value=1.0, bar_style='info', layout=Layout(flex='2'), max…",
      "application/vnd.jupyter.widget-view+json": {
       "version_major": 2,
       "version_minor": 0,
       "model_id": "1e197d7db76840bba622ed3ada2c6052"
      }
     },
     "metadata": {},
     "output_type": "display_data"
    },
    {
     "data": {
      "text/plain": "HBox(children=(HTML(value='Validating'), FloatProgress(value=1.0, bar_style='info', layout=Layout(flex='2'), m…",
      "application/vnd.jupyter.widget-view+json": {
       "version_major": 2,
       "version_minor": 0,
       "model_id": "00821b990eb6491d820652e50a15115e"
      }
     },
     "metadata": {},
     "output_type": "display_data"
    },
    {
     "data": {
      "text/plain": "HBox(children=(HTML(value='Validating'), FloatProgress(value=1.0, bar_style='info', layout=Layout(flex='2'), m…",
      "application/vnd.jupyter.widget-view+json": {
       "version_major": 2,
       "version_minor": 0,
       "model_id": "3b5ec8d8e9a64e40a916eb080b956076"
      }
     },
     "metadata": {},
     "output_type": "display_data"
    },
    {
     "data": {
      "text/plain": "HBox(children=(HTML(value='Validating'), FloatProgress(value=1.0, bar_style='info', layout=Layout(flex='2'), m…",
      "application/vnd.jupyter.widget-view+json": {
       "version_major": 2,
       "version_minor": 0,
       "model_id": "65be15b7fe9f4519bf7e383e37091523"
      }
     },
     "metadata": {},
     "output_type": "display_data"
    },
    {
     "data": {
      "text/plain": "HBox(children=(HTML(value='Validating'), FloatProgress(value=1.0, bar_style='info', layout=Layout(flex='2'), m…",
      "application/vnd.jupyter.widget-view+json": {
       "version_major": 2,
       "version_minor": 0,
       "model_id": "84ed5c1bf5af4053b3f4356445d8b0a3"
      }
     },
     "metadata": {},
     "output_type": "display_data"
    },
    {
     "data": {
      "text/plain": "HBox(children=(HTML(value='Validating'), FloatProgress(value=1.0, bar_style='info', layout=Layout(flex='2'), m…",
      "application/vnd.jupyter.widget-view+json": {
       "version_major": 2,
       "version_minor": 0,
       "model_id": "b80dd31465d442b7a007f3a08065edfb"
      }
     },
     "metadata": {},
     "output_type": "display_data"
    },
    {
     "data": {
      "text/plain": "HBox(children=(HTML(value='Validating'), FloatProgress(value=1.0, bar_style='info', layout=Layout(flex='2'), m…",
      "application/vnd.jupyter.widget-view+json": {
       "version_major": 2,
       "version_minor": 0,
       "model_id": "5daceab2b25e49348c5c9cf366ea3087"
      }
     },
     "metadata": {},
     "output_type": "display_data"
    },
    {
     "data": {
      "text/plain": "HBox(children=(HTML(value='Validating'), FloatProgress(value=1.0, bar_style='info', layout=Layout(flex='2'), m…",
      "application/vnd.jupyter.widget-view+json": {
       "version_major": 2,
       "version_minor": 0,
       "model_id": "db0a6040883646b992f46f7f02e93764"
      }
     },
     "metadata": {},
     "output_type": "display_data"
    },
    {
     "data": {
      "text/plain": "HBox(children=(HTML(value='Validating'), FloatProgress(value=1.0, bar_style='info', layout=Layout(flex='2'), m…",
      "application/vnd.jupyter.widget-view+json": {
       "version_major": 2,
       "version_minor": 0,
       "model_id": "7974e328e94140a3a9b1bbbd0b3a8972"
      }
     },
     "metadata": {},
     "output_type": "display_data"
    },
    {
     "data": {
      "text/plain": "HBox(children=(HTML(value='Validating'), FloatProgress(value=1.0, bar_style='info', layout=Layout(flex='2'), m…",
      "application/vnd.jupyter.widget-view+json": {
       "version_major": 2,
       "version_minor": 0,
       "model_id": "fa8e9d4ee304492aa0fcbf6835287550"
      }
     },
     "metadata": {},
     "output_type": "display_data"
    },
    {
     "data": {
      "text/plain": "HBox(children=(HTML(value='Validating'), FloatProgress(value=1.0, bar_style='info', layout=Layout(flex='2'), m…",
      "application/vnd.jupyter.widget-view+json": {
       "version_major": 2,
       "version_minor": 0,
       "model_id": "d65dbfd6b6264f469851ff3dbf349722"
      }
     },
     "metadata": {},
     "output_type": "display_data"
    },
    {
     "data": {
      "text/plain": "HBox(children=(HTML(value='Validating'), FloatProgress(value=1.0, bar_style='info', layout=Layout(flex='2'), m…",
      "application/vnd.jupyter.widget-view+json": {
       "version_major": 2,
       "version_minor": 0,
       "model_id": "5b430e97464340319d53b6a691b2195f"
      }
     },
     "metadata": {},
     "output_type": "display_data"
    },
    {
     "data": {
      "text/plain": "HBox(children=(HTML(value='Validating'), FloatProgress(value=1.0, bar_style='info', layout=Layout(flex='2'), m…",
      "application/vnd.jupyter.widget-view+json": {
       "version_major": 2,
       "version_minor": 0,
       "model_id": "f73b1c7f8a18469f8cf74ef4a3896e8b"
      }
     },
     "metadata": {},
     "output_type": "display_data"
    },
    {
     "data": {
      "text/plain": "HBox(children=(HTML(value='Validating'), FloatProgress(value=1.0, bar_style='info', layout=Layout(flex='2'), m…",
      "application/vnd.jupyter.widget-view+json": {
       "version_major": 2,
       "version_minor": 0,
       "model_id": "6094fded7be146d38c8901a09c2db0cd"
      }
     },
     "metadata": {},
     "output_type": "display_data"
    },
    {
     "data": {
      "text/plain": "HBox(children=(HTML(value='Validating'), FloatProgress(value=1.0, bar_style='info', layout=Layout(flex='2'), m…",
      "application/vnd.jupyter.widget-view+json": {
       "version_major": 2,
       "version_minor": 0,
       "model_id": "305acf982c34486a92a6ca30d5a0e747"
      }
     },
     "metadata": {},
     "output_type": "display_data"
    },
    {
     "data": {
      "text/plain": "HBox(children=(HTML(value='Validating'), FloatProgress(value=1.0, bar_style='info', layout=Layout(flex='2'), m…",
      "application/vnd.jupyter.widget-view+json": {
       "version_major": 2,
       "version_minor": 0,
       "model_id": "06f2ca1d208f404c86c53bc3d7824835"
      }
     },
     "metadata": {},
     "output_type": "display_data"
    },
    {
     "data": {
      "text/plain": "HBox(children=(HTML(value='Validating'), FloatProgress(value=1.0, bar_style='info', layout=Layout(flex='2'), m…",
      "application/vnd.jupyter.widget-view+json": {
       "version_major": 2,
       "version_minor": 0,
       "model_id": "faf3c77c2f784c41a157eb4d1d65d1aa"
      }
     },
     "metadata": {},
     "output_type": "display_data"
    },
    {
     "data": {
      "text/plain": "HBox(children=(HTML(value='Validating'), FloatProgress(value=1.0, bar_style='info', layout=Layout(flex='2'), m…",
      "application/vnd.jupyter.widget-view+json": {
       "version_major": 2,
       "version_minor": 0,
       "model_id": "78e502c074284c059f2283b7816e0be9"
      }
     },
     "metadata": {},
     "output_type": "display_data"
    },
    {
     "data": {
      "text/plain": "HBox(children=(HTML(value='Validating'), FloatProgress(value=1.0, bar_style='info', layout=Layout(flex='2'), m…",
      "application/vnd.jupyter.widget-view+json": {
       "version_major": 2,
       "version_minor": 0,
       "model_id": "bce1cdff6584454b902c22cb9b487a60"
      }
     },
     "metadata": {},
     "output_type": "display_data"
    },
    {
     "data": {
      "text/plain": "HBox(children=(HTML(value='Validating'), FloatProgress(value=1.0, bar_style='info', layout=Layout(flex='2'), m…",
      "application/vnd.jupyter.widget-view+json": {
       "version_major": 2,
       "version_minor": 0,
       "model_id": "eb2e20ac17fd492f8751f55af4f1060b"
      }
     },
     "metadata": {},
     "output_type": "display_data"
    },
    {
     "data": {
      "text/plain": "HBox(children=(HTML(value='Validating'), FloatProgress(value=1.0, bar_style='info', layout=Layout(flex='2'), m…",
      "application/vnd.jupyter.widget-view+json": {
       "version_major": 2,
       "version_minor": 0,
       "model_id": "1b3bb236953945179db8b81b16a66e20"
      }
     },
     "metadata": {},
     "output_type": "display_data"
    },
    {
     "data": {
      "text/plain": "HBox(children=(HTML(value='Validating'), FloatProgress(value=1.0, bar_style='info', layout=Layout(flex='2'), m…",
      "application/vnd.jupyter.widget-view+json": {
       "version_major": 2,
       "version_minor": 0,
       "model_id": "92fef5269ad04f7fafc42c2b88cd9e92"
      }
     },
     "metadata": {},
     "output_type": "display_data"
    },
    {
     "data": {
      "text/plain": "HBox(children=(HTML(value='Validating'), FloatProgress(value=1.0, bar_style='info', layout=Layout(flex='2'), m…",
      "application/vnd.jupyter.widget-view+json": {
       "version_major": 2,
       "version_minor": 0,
       "model_id": "f8be9a68d075402ab615f5ec18c517ab"
      }
     },
     "metadata": {},
     "output_type": "display_data"
    },
    {
     "data": {
      "text/plain": "HBox(children=(HTML(value='Validating'), FloatProgress(value=1.0, bar_style='info', layout=Layout(flex='2'), m…",
      "application/vnd.jupyter.widget-view+json": {
       "version_major": 2,
       "version_minor": 0,
       "model_id": "0885b3805eaa4bae8a16f6daaa4a6daf"
      }
     },
     "metadata": {},
     "output_type": "display_data"
    },
    {
     "data": {
      "text/plain": "HBox(children=(HTML(value='Validating'), FloatProgress(value=1.0, bar_style='info', layout=Layout(flex='2'), m…",
      "application/vnd.jupyter.widget-view+json": {
       "version_major": 2,
       "version_minor": 0,
       "model_id": "aef47a0b09b2485aa4bfae1791a1e45c"
      }
     },
     "metadata": {},
     "output_type": "display_data"
    },
    {
     "data": {
      "text/plain": "HBox(children=(HTML(value='Validating'), FloatProgress(value=1.0, bar_style='info', layout=Layout(flex='2'), m…",
      "application/vnd.jupyter.widget-view+json": {
       "version_major": 2,
       "version_minor": 0,
       "model_id": "839eb10cdba84947a6b63320e8ea7da1"
      }
     },
     "metadata": {},
     "output_type": "display_data"
    },
    {
     "data": {
      "text/plain": "HBox(children=(HTML(value='Validating'), FloatProgress(value=1.0, bar_style='info', layout=Layout(flex='2'), m…",
      "application/vnd.jupyter.widget-view+json": {
       "version_major": 2,
       "version_minor": 0,
       "model_id": "66b8821413544d7489617e0310ad0567"
      }
     },
     "metadata": {},
     "output_type": "display_data"
    },
    {
     "data": {
      "text/plain": "HBox(children=(HTML(value='Validating'), FloatProgress(value=1.0, bar_style='info', layout=Layout(flex='2'), m…",
      "application/vnd.jupyter.widget-view+json": {
       "version_major": 2,
       "version_minor": 0,
       "model_id": "834b8814e1394b6aa02c33030f686cde"
      }
     },
     "metadata": {},
     "output_type": "display_data"
    },
    {
     "data": {
      "text/plain": "HBox(children=(HTML(value='Validating'), FloatProgress(value=1.0, bar_style='info', layout=Layout(flex='2'), m…",
      "application/vnd.jupyter.widget-view+json": {
       "version_major": 2,
       "version_minor": 0,
       "model_id": "fafcaed275bf4d15b16f6a3808ea4624"
      }
     },
     "metadata": {},
     "output_type": "display_data"
    },
    {
     "data": {
      "text/plain": "HBox(children=(HTML(value='Validating'), FloatProgress(value=1.0, bar_style='info', layout=Layout(flex='2'), m…",
      "application/vnd.jupyter.widget-view+json": {
       "version_major": 2,
       "version_minor": 0,
       "model_id": "2e8fba7f3d124cab84a7f35ca6dd21f1"
      }
     },
     "metadata": {},
     "output_type": "display_data"
    },
    {
     "data": {
      "text/plain": "HBox(children=(HTML(value='Validating'), FloatProgress(value=1.0, bar_style='info', layout=Layout(flex='2'), m…",
      "application/vnd.jupyter.widget-view+json": {
       "version_major": 2,
       "version_minor": 0,
       "model_id": "cf122a5b9f3b41879f1d89c3e4f75fb2"
      }
     },
     "metadata": {},
     "output_type": "display_data"
    },
    {
     "data": {
      "text/plain": "HBox(children=(HTML(value='Validating'), FloatProgress(value=1.0, bar_style='info', layout=Layout(flex='2'), m…",
      "application/vnd.jupyter.widget-view+json": {
       "version_major": 2,
       "version_minor": 0,
       "model_id": "4a9c2457a1054f11b53fd28de935d537"
      }
     },
     "metadata": {},
     "output_type": "display_data"
    },
    {
     "data": {
      "text/plain": "HBox(children=(HTML(value='Validating'), FloatProgress(value=1.0, bar_style='info', layout=Layout(flex='2'), m…",
      "application/vnd.jupyter.widget-view+json": {
       "version_major": 2,
       "version_minor": 0,
       "model_id": "2216c617bbb44e5db899853ab87dd54c"
      }
     },
     "metadata": {},
     "output_type": "display_data"
    },
    {
     "data": {
      "text/plain": "HBox(children=(HTML(value='Validating'), FloatProgress(value=1.0, bar_style='info', layout=Layout(flex='2'), m…",
      "application/vnd.jupyter.widget-view+json": {
       "version_major": 2,
       "version_minor": 0,
       "model_id": "c42d1eb2b27a4a61bc21f287ac120902"
      }
     },
     "metadata": {},
     "output_type": "display_data"
    },
    {
     "data": {
      "text/plain": "HBox(children=(HTML(value='Validating'), FloatProgress(value=1.0, bar_style='info', layout=Layout(flex='2'), m…",
      "application/vnd.jupyter.widget-view+json": {
       "version_major": 2,
       "version_minor": 0,
       "model_id": "bf8499aa677c44cd979e5f1b791aeb63"
      }
     },
     "metadata": {},
     "output_type": "display_data"
    },
    {
     "data": {
      "text/plain": "HBox(children=(HTML(value='Validating'), FloatProgress(value=1.0, bar_style='info', layout=Layout(flex='2'), m…",
      "application/vnd.jupyter.widget-view+json": {
       "version_major": 2,
       "version_minor": 0,
       "model_id": "b8d51401494046c9a1f6ab0049c2fb3e"
      }
     },
     "metadata": {},
     "output_type": "display_data"
    },
    {
     "data": {
      "text/plain": "HBox(children=(HTML(value='Validating'), FloatProgress(value=1.0, bar_style='info', layout=Layout(flex='2'), m…",
      "application/vnd.jupyter.widget-view+json": {
       "version_major": 2,
       "version_minor": 0,
       "model_id": "bc9ed89ab47640438ef6d34c47a166cf"
      }
     },
     "metadata": {},
     "output_type": "display_data"
    },
    {
     "data": {
      "text/plain": "HBox(children=(HTML(value='Validating'), FloatProgress(value=1.0, bar_style='info', layout=Layout(flex='2'), m…",
      "application/vnd.jupyter.widget-view+json": {
       "version_major": 2,
       "version_minor": 0,
       "model_id": "2799471402ee4f4db9a3d508a55e2ec3"
      }
     },
     "metadata": {},
     "output_type": "display_data"
    },
    {
     "data": {
      "text/plain": "HBox(children=(HTML(value='Validating'), FloatProgress(value=1.0, bar_style='info', layout=Layout(flex='2'), m…",
      "application/vnd.jupyter.widget-view+json": {
       "version_major": 2,
       "version_minor": 0,
       "model_id": "13626f2a5bb7420f9232c63c6ab9bf25"
      }
     },
     "metadata": {},
     "output_type": "display_data"
    },
    {
     "data": {
      "text/plain": "HBox(children=(HTML(value='Validating'), FloatProgress(value=1.0, bar_style='info', layout=Layout(flex='2'), m…",
      "application/vnd.jupyter.widget-view+json": {
       "version_major": 2,
       "version_minor": 0,
       "model_id": "f1e57c321bf7412280d269e07e9aeb8e"
      }
     },
     "metadata": {},
     "output_type": "display_data"
    },
    {
     "data": {
      "text/plain": "HBox(children=(HTML(value='Validating'), FloatProgress(value=1.0, bar_style='info', layout=Layout(flex='2'), m…",
      "application/vnd.jupyter.widget-view+json": {
       "version_major": 2,
       "version_minor": 0,
       "model_id": "ee79085d11bf4843998a82e876db6c34"
      }
     },
     "metadata": {},
     "output_type": "display_data"
    },
    {
     "data": {
      "text/plain": "HBox(children=(HTML(value='Validating'), FloatProgress(value=1.0, bar_style='info', layout=Layout(flex='2'), m…",
      "application/vnd.jupyter.widget-view+json": {
       "version_major": 2,
       "version_minor": 0,
       "model_id": "e7301e7c47894a7c8eb0159117e0781b"
      }
     },
     "metadata": {},
     "output_type": "display_data"
    },
    {
     "data": {
      "text/plain": "HBox(children=(HTML(value='Validating'), FloatProgress(value=1.0, bar_style='info', layout=Layout(flex='2'), m…",
      "application/vnd.jupyter.widget-view+json": {
       "version_major": 2,
       "version_minor": 0,
       "model_id": "4a073a791be34b81a7f3291cfbb46af7"
      }
     },
     "metadata": {},
     "output_type": "display_data"
    },
    {
     "data": {
      "text/plain": "HBox(children=(HTML(value='Validating'), FloatProgress(value=1.0, bar_style='info', layout=Layout(flex='2'), m…",
      "application/vnd.jupyter.widget-view+json": {
       "version_major": 2,
       "version_minor": 0,
       "model_id": "84e6cac4d292424a95bca02996f2c507"
      }
     },
     "metadata": {},
     "output_type": "display_data"
    },
    {
     "data": {
      "text/plain": "HBox(children=(HTML(value='Validating'), FloatProgress(value=1.0, bar_style='info', layout=Layout(flex='2'), m…",
      "application/vnd.jupyter.widget-view+json": {
       "version_major": 2,
       "version_minor": 0,
       "model_id": "876b86fdbe0643ec9f8fc554f16f8ce5"
      }
     },
     "metadata": {},
     "output_type": "display_data"
    },
    {
     "data": {
      "text/plain": "HBox(children=(HTML(value='Validating'), FloatProgress(value=1.0, bar_style='info', layout=Layout(flex='2'), m…",
      "application/vnd.jupyter.widget-view+json": {
       "version_major": 2,
       "version_minor": 0,
       "model_id": "2ec400856eac4539a6ded50a91b9baa2"
      }
     },
     "metadata": {},
     "output_type": "display_data"
    },
    {
     "data": {
      "text/plain": "HBox(children=(HTML(value='Validating'), FloatProgress(value=1.0, bar_style='info', layout=Layout(flex='2'), m…",
      "application/vnd.jupyter.widget-view+json": {
       "version_major": 2,
       "version_minor": 0,
       "model_id": "a359306d882c4764b9083de0aef78ec5"
      }
     },
     "metadata": {},
     "output_type": "display_data"
    },
    {
     "data": {
      "text/plain": "HBox(children=(HTML(value='Validating'), FloatProgress(value=1.0, bar_style='info', layout=Layout(flex='2'), m…",
      "application/vnd.jupyter.widget-view+json": {
       "version_major": 2,
       "version_minor": 0,
       "model_id": "7eec88a7f4ca4af4a256b775c38a43f6"
      }
     },
     "metadata": {},
     "output_type": "display_data"
    },
    {
     "data": {
      "text/plain": "HBox(children=(HTML(value='Validating'), FloatProgress(value=1.0, bar_style='info', layout=Layout(flex='2'), m…",
      "application/vnd.jupyter.widget-view+json": {
       "version_major": 2,
       "version_minor": 0,
       "model_id": "565c513a48ac4a58a020d8598e02e24e"
      }
     },
     "metadata": {},
     "output_type": "display_data"
    },
    {
     "data": {
      "text/plain": "HBox(children=(HTML(value='Validating'), FloatProgress(value=1.0, bar_style='info', layout=Layout(flex='2'), m…",
      "application/vnd.jupyter.widget-view+json": {
       "version_major": 2,
       "version_minor": 0,
       "model_id": "555bb1ef8e8e4a0cb90c82e7c0b25a92"
      }
     },
     "metadata": {},
     "output_type": "display_data"
    },
    {
     "data": {
      "text/plain": "HBox(children=(HTML(value='Validating'), FloatProgress(value=1.0, bar_style='info', layout=Layout(flex='2'), m…",
      "application/vnd.jupyter.widget-view+json": {
       "version_major": 2,
       "version_minor": 0,
       "model_id": "eb60d91b979a49169854c90f7be7e553"
      }
     },
     "metadata": {},
     "output_type": "display_data"
    },
    {
     "data": {
      "text/plain": "HBox(children=(HTML(value='Validating'), FloatProgress(value=1.0, bar_style='info', layout=Layout(flex='2'), m…",
      "application/vnd.jupyter.widget-view+json": {
       "version_major": 2,
       "version_minor": 0,
       "model_id": "9299525968da44bf9bfb75b0f2b61218"
      }
     },
     "metadata": {},
     "output_type": "display_data"
    },
    {
     "data": {
      "text/plain": "HBox(children=(HTML(value='Validating'), FloatProgress(value=1.0, bar_style='info', layout=Layout(flex='2'), m…",
      "application/vnd.jupyter.widget-view+json": {
       "version_major": 2,
       "version_minor": 0,
       "model_id": "99d56a0a6155468990bf5daedfb7e210"
      }
     },
     "metadata": {},
     "output_type": "display_data"
    },
    {
     "data": {
      "text/plain": "HBox(children=(HTML(value='Validating'), FloatProgress(value=1.0, bar_style='info', layout=Layout(flex='2'), m…",
      "application/vnd.jupyter.widget-view+json": {
       "version_major": 2,
       "version_minor": 0,
       "model_id": "ca6e282f034040f59bd3a0acb4609619"
      }
     },
     "metadata": {},
     "output_type": "display_data"
    },
    {
     "data": {
      "text/plain": "HBox(children=(HTML(value='Validating'), FloatProgress(value=1.0, bar_style='info', layout=Layout(flex='2'), m…",
      "application/vnd.jupyter.widget-view+json": {
       "version_major": 2,
       "version_minor": 0,
       "model_id": "bda4339251f54e8db0f1746dcb518859"
      }
     },
     "metadata": {},
     "output_type": "display_data"
    },
    {
     "data": {
      "text/plain": "HBox(children=(HTML(value='Validating'), FloatProgress(value=1.0, bar_style='info', layout=Layout(flex='2'), m…",
      "application/vnd.jupyter.widget-view+json": {
       "version_major": 2,
       "version_minor": 0,
       "model_id": "45a69ac25c064a839d5f3aab96730394"
      }
     },
     "metadata": {},
     "output_type": "display_data"
    },
    {
     "data": {
      "text/plain": "HBox(children=(HTML(value='Validating'), FloatProgress(value=1.0, bar_style='info', layout=Layout(flex='2'), m…",
      "application/vnd.jupyter.widget-view+json": {
       "version_major": 2,
       "version_minor": 0,
       "model_id": "a363551ff7f74eab81088aba51e5195b"
      }
     },
     "metadata": {},
     "output_type": "display_data"
    },
    {
     "data": {
      "text/plain": "HBox(children=(HTML(value='Validating'), FloatProgress(value=1.0, bar_style='info', layout=Layout(flex='2'), m…",
      "application/vnd.jupyter.widget-view+json": {
       "version_major": 2,
       "version_minor": 0,
       "model_id": "bd245badf76a47a190f654bb097b8503"
      }
     },
     "metadata": {},
     "output_type": "display_data"
    },
    {
     "data": {
      "text/plain": "HBox(children=(HTML(value='Validating'), FloatProgress(value=1.0, bar_style='info', layout=Layout(flex='2'), m…",
      "application/vnd.jupyter.widget-view+json": {
       "version_major": 2,
       "version_minor": 0,
       "model_id": "91d9683f25714049a2be9798eae62856"
      }
     },
     "metadata": {},
     "output_type": "display_data"
    },
    {
     "data": {
      "text/plain": "HBox(children=(HTML(value='Validating'), FloatProgress(value=1.0, bar_style='info', layout=Layout(flex='2'), m…",
      "application/vnd.jupyter.widget-view+json": {
       "version_major": 2,
       "version_minor": 0,
       "model_id": "f587f228c5fe4def9d40cc5edab1b6c4"
      }
     },
     "metadata": {},
     "output_type": "display_data"
    },
    {
     "data": {
      "text/plain": "HBox(children=(HTML(value='Validating'), FloatProgress(value=1.0, bar_style='info', layout=Layout(flex='2'), m…",
      "application/vnd.jupyter.widget-view+json": {
       "version_major": 2,
       "version_minor": 0,
       "model_id": "25db1fcac3034db8a80793dcfc65aaed"
      }
     },
     "metadata": {},
     "output_type": "display_data"
    },
    {
     "data": {
      "text/plain": "HBox(children=(HTML(value='Validating'), FloatProgress(value=1.0, bar_style='info', layout=Layout(flex='2'), m…",
      "application/vnd.jupyter.widget-view+json": {
       "version_major": 2,
       "version_minor": 0,
       "model_id": "0288234a9b954f4d969ac453f7d1b503"
      }
     },
     "metadata": {},
     "output_type": "display_data"
    },
    {
     "data": {
      "text/plain": "HBox(children=(HTML(value='Validating'), FloatProgress(value=1.0, bar_style='info', layout=Layout(flex='2'), m…",
      "application/vnd.jupyter.widget-view+json": {
       "version_major": 2,
       "version_minor": 0,
       "model_id": "63f92acee08a46f38cf9e2880d4509db"
      }
     },
     "metadata": {},
     "output_type": "display_data"
    },
    {
     "data": {
      "text/plain": "HBox(children=(HTML(value='Validating'), FloatProgress(value=1.0, bar_style='info', layout=Layout(flex='2'), m…",
      "application/vnd.jupyter.widget-view+json": {
       "version_major": 2,
       "version_minor": 0,
       "model_id": "a61ffbe4830a4c4ab112d6cf0ba3595a"
      }
     },
     "metadata": {},
     "output_type": "display_data"
    },
    {
     "data": {
      "text/plain": "HBox(children=(HTML(value='Validating'), FloatProgress(value=1.0, bar_style='info', layout=Layout(flex='2'), m…",
      "application/vnd.jupyter.widget-view+json": {
       "version_major": 2,
       "version_minor": 0,
       "model_id": "024f6f1b154049129aff5f0df3cce9b2"
      }
     },
     "metadata": {},
     "output_type": "display_data"
    },
    {
     "data": {
      "text/plain": "HBox(children=(HTML(value='Validating'), FloatProgress(value=1.0, bar_style='info', layout=Layout(flex='2'), m…",
      "application/vnd.jupyter.widget-view+json": {
       "version_major": 2,
       "version_minor": 0,
       "model_id": "6fe9e06ab9024aa1b64df101b29cd934"
      }
     },
     "metadata": {},
     "output_type": "display_data"
    },
    {
     "data": {
      "text/plain": "HBox(children=(HTML(value='Validating'), FloatProgress(value=1.0, bar_style='info', layout=Layout(flex='2'), m…",
      "application/vnd.jupyter.widget-view+json": {
       "version_major": 2,
       "version_minor": 0,
       "model_id": "aba2e3d6f137417ca4efdf243fe078e5"
      }
     },
     "metadata": {},
     "output_type": "display_data"
    },
    {
     "data": {
      "text/plain": "HBox(children=(HTML(value='Validating'), FloatProgress(value=1.0, bar_style='info', layout=Layout(flex='2'), m…",
      "application/vnd.jupyter.widget-view+json": {
       "version_major": 2,
       "version_minor": 0,
       "model_id": "5692dc7df85f449c85f0a6ce115cde2b"
      }
     },
     "metadata": {},
     "output_type": "display_data"
    },
    {
     "data": {
      "text/plain": "HBox(children=(HTML(value='Validating'), FloatProgress(value=1.0, bar_style='info', layout=Layout(flex='2'), m…",
      "application/vnd.jupyter.widget-view+json": {
       "version_major": 2,
       "version_minor": 0,
       "model_id": "aec5f985ddc945618b4f0b77818e2387"
      }
     },
     "metadata": {},
     "output_type": "display_data"
    },
    {
     "data": {
      "text/plain": "HBox(children=(HTML(value='Validating'), FloatProgress(value=1.0, bar_style='info', layout=Layout(flex='2'), m…",
      "application/vnd.jupyter.widget-view+json": {
       "version_major": 2,
       "version_minor": 0,
       "model_id": "ed032e5050ca4e9ca4b99354a39cb7c3"
      }
     },
     "metadata": {},
     "output_type": "display_data"
    },
    {
     "data": {
      "text/plain": "HBox(children=(HTML(value='Validating'), FloatProgress(value=1.0, bar_style='info', layout=Layout(flex='2'), m…",
      "application/vnd.jupyter.widget-view+json": {
       "version_major": 2,
       "version_minor": 0,
       "model_id": "f9ae94b9bb1b43f18bc035d8357d5aa4"
      }
     },
     "metadata": {},
     "output_type": "display_data"
    },
    {
     "data": {
      "text/plain": "HBox(children=(HTML(value='Validating'), FloatProgress(value=1.0, bar_style='info', layout=Layout(flex='2'), m…",
      "application/vnd.jupyter.widget-view+json": {
       "version_major": 2,
       "version_minor": 0,
       "model_id": "c19690f87e1e437d856cd2b758d135a4"
      }
     },
     "metadata": {},
     "output_type": "display_data"
    },
    {
     "data": {
      "text/plain": "HBox(children=(HTML(value='Validating'), FloatProgress(value=1.0, bar_style='info', layout=Layout(flex='2'), m…",
      "application/vnd.jupyter.widget-view+json": {
       "version_major": 2,
       "version_minor": 0,
       "model_id": "a8440bd102fa41a3910ffc104ae0d29d"
      }
     },
     "metadata": {},
     "output_type": "display_data"
    },
    {
     "data": {
      "text/plain": "HBox(children=(HTML(value='Validating'), FloatProgress(value=1.0, bar_style='info', layout=Layout(flex='2'), m…",
      "application/vnd.jupyter.widget-view+json": {
       "version_major": 2,
       "version_minor": 0,
       "model_id": "44d54bad1a1e46db97db8a11dba34e91"
      }
     },
     "metadata": {},
     "output_type": "display_data"
    },
    {
     "data": {
      "text/plain": "HBox(children=(HTML(value='Validating'), FloatProgress(value=1.0, bar_style='info', layout=Layout(flex='2'), m…",
      "application/vnd.jupyter.widget-view+json": {
       "version_major": 2,
       "version_minor": 0,
       "model_id": "0bfbc10343f7443f9ebd4f7d28e7a149"
      }
     },
     "metadata": {},
     "output_type": "display_data"
    },
    {
     "data": {
      "text/plain": "HBox(children=(HTML(value='Validating'), FloatProgress(value=1.0, bar_style='info', layout=Layout(flex='2'), m…",
      "application/vnd.jupyter.widget-view+json": {
       "version_major": 2,
       "version_minor": 0,
       "model_id": "c9c0d2def18146889c77a3b1650d9316"
      }
     },
     "metadata": {},
     "output_type": "display_data"
    },
    {
     "data": {
      "text/plain": "HBox(children=(HTML(value='Validating'), FloatProgress(value=1.0, bar_style='info', layout=Layout(flex='2'), m…",
      "application/vnd.jupyter.widget-view+json": {
       "version_major": 2,
       "version_minor": 0,
       "model_id": "3d7cc1e9ea5f4ff7b3a365d0c8b64c1b"
      }
     },
     "metadata": {},
     "output_type": "display_data"
    },
    {
     "data": {
      "text/plain": "HBox(children=(HTML(value='Validating'), FloatProgress(value=1.0, bar_style='info', layout=Layout(flex='2'), m…",
      "application/vnd.jupyter.widget-view+json": {
       "version_major": 2,
       "version_minor": 0,
       "model_id": "56f1d68bd7b14c08a4bf2b18125fdf25"
      }
     },
     "metadata": {},
     "output_type": "display_data"
    },
    {
     "data": {
      "text/plain": "HBox(children=(HTML(value='Validating'), FloatProgress(value=1.0, bar_style='info', layout=Layout(flex='2'), m…",
      "application/vnd.jupyter.widget-view+json": {
       "version_major": 2,
       "version_minor": 0,
       "model_id": "e53d25f24de949e981865dc7959ce51b"
      }
     },
     "metadata": {},
     "output_type": "display_data"
    },
    {
     "data": {
      "text/plain": "HBox(children=(HTML(value='Validating'), FloatProgress(value=1.0, bar_style='info', layout=Layout(flex='2'), m…",
      "application/vnd.jupyter.widget-view+json": {
       "version_major": 2,
       "version_minor": 0,
       "model_id": "3cb36d91b75249d89ca49aaaee47b56c"
      }
     },
     "metadata": {},
     "output_type": "display_data"
    },
    {
     "data": {
      "text/plain": "HBox(children=(HTML(value='Validating'), FloatProgress(value=1.0, bar_style='info', layout=Layout(flex='2'), m…",
      "application/vnd.jupyter.widget-view+json": {
       "version_major": 2,
       "version_minor": 0,
       "model_id": "a7456269489a435396c3b3cb26481627"
      }
     },
     "metadata": {},
     "output_type": "display_data"
    },
    {
     "data": {
      "text/plain": "HBox(children=(HTML(value='Validating'), FloatProgress(value=1.0, bar_style='info', layout=Layout(flex='2'), m…",
      "application/vnd.jupyter.widget-view+json": {
       "version_major": 2,
       "version_minor": 0,
       "model_id": "fb2315a1aabe4e23b23569d3e48ec173"
      }
     },
     "metadata": {},
     "output_type": "display_data"
    },
    {
     "data": {
      "text/plain": "HBox(children=(HTML(value='Validating'), FloatProgress(value=1.0, bar_style='info', layout=Layout(flex='2'), m…",
      "application/vnd.jupyter.widget-view+json": {
       "version_major": 2,
       "version_minor": 0,
       "model_id": "adf9e71e2860450a8b8251c4b9fc08bb"
      }
     },
     "metadata": {},
     "output_type": "display_data"
    },
    {
     "name": "stdout",
     "output_type": "stream",
     "text": [
      "\n"
     ]
    },
    {
     "data": {
      "text/plain": "1"
     },
     "execution_count": 57,
     "metadata": {},
     "output_type": "execute_result"
    }
   ],
   "source": [
    "trainer.fit(model)"
   ],
   "metadata": {
    "collapsed": false,
    "pycharm": {
     "name": "#%%\n"
    }
   }
  },
  {
   "cell_type": "code",
   "execution_count": 23,
   "outputs": [
    {
     "name": "stderr",
     "output_type": "stream",
     "text": [
      "LOCAL_RANK: 0 - CUDA_VISIBLE_DEVICES: [0]\n"
     ]
    },
    {
     "data": {
      "text/plain": "HBox(children=(HTML(value='Testing'), FloatProgress(value=1.0, bar_style='info', layout=Layout(flex='2'), max=…",
      "application/vnd.jupyter.widget-view+json": {
       "version_major": 2,
       "version_minor": 0,
       "model_id": "642d12fa923e44eba7389cd7223948a6"
      }
     },
     "metadata": {},
     "output_type": "display_data"
    },
    {
     "name": "stdout",
     "output_type": "stream",
     "text": [
      "\n",
      "--------------------------------------------------------------------------------\n",
      "DATALOADER:0 TEST RESULTS\n",
      "{'ptl/test_loss': 0.023196307942271233, 'test_loss': 0.0217161662876606}\n",
      "--------------------------------------------------------------------------------\n"
     ]
    },
    {
     "data": {
      "text/plain": "[{'test_loss': 0.0217161662876606, 'ptl/test_loss': 0.023196307942271233}]"
     },
     "execution_count": 23,
     "metadata": {},
     "output_type": "execute_result"
    }
   ],
   "source": [
    "trainer.test(model)"
   ],
   "metadata": {
    "collapsed": false,
    "pycharm": {
     "name": "#%%\n"
    }
   }
  },
  {
   "cell_type": "code",
   "execution_count": 24,
   "outputs": [],
   "source": [
    "clean_checkpoints(path=os.path.join(MODEL_PATH,model_name))\n",
    "# clean_checkpoints(path=\"/home/nuoc/Documents/MEX/models/version_0.2/MLP_MoE_R1_One_1_Full_v3_smooth_loss\")"
   ],
   "metadata": {
    "collapsed": false,
    "pycharm": {
     "name": "#%%\n"
    }
   }
  },
  {
   "cell_type": "code",
   "execution_count": 61,
   "outputs": [],
   "source": [
    "filename = \"/home/nuoc/Documents/MEX/models/version_0.2/MLP_MoE_R1_One_1_Full_TUNE/0.06325527280569077.pbz2\"\n",
    "with bz2.BZ2File(filename, \"rb\") as f:\n",
    "    obj = pickle.load(f)\n",
    "\n",
    "pose_autoencoder = MLP.load_checkpoint(obj[\"pose_autoencoder_path\"])\n",
    "cost_encoder = MLP.load_checkpoint(obj[\"cost_encoder_path\"])\n",
    "generationModel = MoE.load_checkpoint(obj[\"motionGenerationModelPath\"])\n",
    "\n",
    "model = MotionGenerationModel_v2(config=obj[\"config\"], feature_dims=obj[\"feature_dims\"], Model=MoE,\n",
    "                              input_slicers=obj[\"in_slices\"], output_slicers=obj[\"out_slices\"],\n",
    "                              name=obj[\"name\"])\n",
    "\n",
    "model.in_slices = obj[\"in_slices\"]\n",
    "model.out_slices = obj[\"out_slices\"]\n",
    "model.pose_autoencoder = pose_autoencoder\n",
    "model.cost_encoder = cost_encoder\n",
    "model.generationModel = generationModel"
   ],
   "metadata": {
    "collapsed": false,
    "pycharm": {
     "name": "#%%\n"
    }
   }
  },
  {
   "cell_type": "code",
   "execution_count": 64,
   "outputs": [],
   "source": [
    "model.test_set = test_set"
   ],
   "metadata": {
    "collapsed": false,
    "pycharm": {
     "name": "#%%\n"
    }
   }
  },
  {
   "cell_type": "code",
   "execution_count": 62,
   "outputs": [
    {
     "name": "stdout",
     "output_type": "stream",
     "text": [
      "[0, 62, 434, 458]\n",
      "MLP(\n",
      "  (encoder): Sequential(\n",
      "    (fc0): Linear(in_features=372, out_features=512, bias=True)\n",
      "    (act0): ELU(alpha=1.0)\n",
      "    (drop): Dropout(p=0.2, inplace=False)\n",
      "    (fc1): Linear(in_features=512, out_features=512, bias=True)\n",
      "    (act1): ELU(alpha=1.0)\n",
      "    (fc2): Linear(in_features=512, out_features=256, bias=True)\n",
      "  )\n",
      "  (decoder): Sequential(\n",
      "    (fc0): Linear(in_features=256, out_features=512, bias=True)\n",
      "    (act0): ELU(alpha=1.0)\n",
      "    (drop): Dropout(p=0.2, inplace=False)\n",
      "    (fc1): Linear(in_features=512, out_features=512, bias=True)\n",
      "    (act1): ELU(alpha=1.0)\n",
      "    (fc2): Linear(in_features=512, out_features=372, bias=True)\n",
      "  )\n",
      ")\n",
      "MLP(\n",
      "  (encoder): Sequential(\n",
      "    (fc0): Linear(in_features=24, out_features=128, bias=True)\n",
      "    (act0): ELU(alpha=1.0)\n",
      "    (drop): Dropout(p=0.2, inplace=False)\n",
      "    (fc1): Linear(in_features=128, out_features=128, bias=True)\n",
      "    (act1): ELU(alpha=1.0)\n",
      "    (fc2): Linear(in_features=128, out_features=128, bias=True)\n",
      "  )\n",
      "  (decoder): Sequential()\n",
      ")\n",
      "MoE(\n",
      "  (gate): Sequential(\n",
      "    (0): Linear(in_features=62, out_features=128, bias=True)\n",
      "    (1): ELU(alpha=1.0)\n",
      "    (2): Linear(in_features=128, out_features=128, bias=True)\n",
      "    (3): ELU(alpha=1.0)\n",
      "    (4): Linear(in_features=128, out_features=8, bias=True)\n",
      "  )\n",
      ")\n"
     ]
    }
   ],
   "source": [],
   "metadata": {
    "collapsed": false,
    "pycharm": {
     "name": "#%%\n"
    }
   }
  },
  {
   "cell_type": "code",
   "execution_count": 86,
   "outputs": [
    {
     "name": "stderr",
     "output_type": "stream",
     "text": [
      "LOCAL_RANK: 0 - CUDA_VISIBLE_DEVICES: [0]\n"
     ]
    },
    {
     "data": {
      "text/plain": "HBox(children=(HTML(value='Testing'), FloatProgress(value=1.0, bar_style='info', layout=Layout(flex='2'), max=…",
      "application/vnd.jupyter.widget-view+json": {
       "version_major": 2,
       "version_minor": 0,
       "model_id": "cb34dbb5780047a58448cd0b062a2bf7"
      }
     },
     "metadata": {},
     "output_type": "display_data"
    },
    {
     "name": "stdout",
     "output_type": "stream",
     "text": [
      "\n",
      "--------------------------------------------------------------------------------\n",
      "DATALOADER:0 TEST RESULTS\n",
      "{'ptl/test_loss': 0.03506697714328766, 'test_loss': 0.05357477068901062}\n",
      "--------------------------------------------------------------------------------\n"
     ]
    },
    {
     "data": {
      "text/plain": "[{'test_loss': 0.05357477068901062, 'ptl/test_loss': 0.03506697714328766}]"
     },
     "execution_count": 86,
     "metadata": {},
     "output_type": "execute_result"
    }
   ],
   "source": [
    "model.autoregress_prob = 0\n",
    "trainer.test(model)\n"
   ],
   "metadata": {
    "collapsed": false,
    "pycharm": {
     "name": "#%%\n"
    }
   }
  },
  {
   "cell_type": "code",
   "execution_count": 87,
   "outputs": [
    {
     "name": "stderr",
     "output_type": "stream",
     "text": [
      "LOCAL_RANK: 0 - CUDA_VISIBLE_DEVICES: [0]\n"
     ]
    },
    {
     "data": {
      "text/plain": "HBox(children=(HTML(value='Testing'), FloatProgress(value=1.0, bar_style='info', layout=Layout(flex='2'), max=…",
      "application/vnd.jupyter.widget-view+json": {
       "version_major": 2,
       "version_minor": 0,
       "model_id": "9b4bdf8f97fb4e74b3929b2673906972"
      }
     },
     "metadata": {},
     "output_type": "display_data"
    },
    {
     "name": "stdout",
     "output_type": "stream",
     "text": [
      "\n",
      "--------------------------------------------------------------------------------\n",
      "DATALOADER:0 TEST RESULTS\n",
      "{'ptl/test_loss': 0.0814722552895546, 'test_loss': 0.1374703049659729}\n",
      "--------------------------------------------------------------------------------\n"
     ]
    },
    {
     "data": {
      "text/plain": "[{'test_loss': 0.1374703049659729, 'ptl/test_loss': 0.0814722552895546}]"
     },
     "execution_count": 87,
     "metadata": {},
     "output_type": "execute_result"
    }
   ],
   "source": [
    "model.autoregress_prob = 1\n",
    "trainer.test(model)"
   ],
   "metadata": {
    "collapsed": false,
    "pycharm": {
     "name": "#%%\n"
    }
   }
  },
  {
   "cell_type": "code",
   "execution_count": 25,
   "outputs": [
    {
     "name": "stdout",
     "output_type": "stream",
     "text": [
      "287\n"
     ]
    }
   ],
   "source": [
    "# model.autoregress_prob = 0\n",
    "\n",
    "n = 10\n",
    "idx = np.random.randint(0, len(test_set), n)\n",
    "original = []\n",
    "generated = []\n",
    "# pose_idx_upper = feature_dims2[\"phase_dim\"] + feature_dims[\"pos\"] + feature_dims[\"rotMat2\"]\n",
    "pose_idx_upper = model.in_slices[1] + feature_dims[\"pos\"] + feature_dims[\"rotMat2\"]\n",
    "print(pose_idx_upper)\n"
   ],
   "metadata": {
    "collapsed": false,
    "pycharm": {
     "name": "#%%\n"
    }
   }
  },
  {
   "cell_type": "code",
   "execution_count": 35,
   "outputs": [],
   "source": [
    "model.autoregress_prob = 1\n",
    "with torch.no_grad():\n",
    "    model.eval()\n",
    "    model.cpu()\n",
    "    # for i in range(1):\n",
    "    # original =\n",
    "    # x = x_tensors[idx]\n",
    "    x = torch.stack([test_set[i][0] for i in idx])\n",
    "    y = torch.stack([test_set[i][1] for i in idx])\n",
    "    shape = x.shape\n",
    "    # x = x.view(-1, shape[-1])\n",
    "\n",
    "    x = x.view(-1, 13, shape[-1])\n",
    "    x_c = x[:,0,:]\n",
    "    # n = shape[1]\n",
    "    g_frames = []\n",
    "    #\n",
    "    for i in range(0, 13):\n",
    "        out= model(x_c)\n",
    "        x_c = torch.cat(out,dim=1).detach()\n",
    "        g_frames.append(x_c.unsqueeze(1))\n",
    "\n",
    "    # out = torch.cat(model(x), dim=1).view(shape)\n",
    "            # x_c = torch.cat(out, dim=1)\n",
    "    # g_frames.append(x_c.unsqueeze(1))\n",
    "        # original.append(o_frames)\n",
    "    # generated.append(torch.cat(g_frames, dim=1))\n",
    "    # generated = out\n",
    "    generated = torch.cat(g_frames, dim=1)\n",
    "    generated = generated.view(shape)\n"
   ],
   "metadata": {
    "collapsed": false,
    "pycharm": {
     "name": "#%%\n"
    }
   }
  },
  {
   "cell_type": "code",
   "execution_count": null,
   "outputs": [],
   "source": [],
   "metadata": {
    "collapsed": false,
    "pycharm": {
     "name": "#%%\n"
    }
   }
  },
  {
   "cell_type": "code",
   "execution_count": 36,
   "outputs": [
    {
     "name": "stdout",
     "output_type": "stream",
     "text": [
      "torch.Size([10, 299, 404])\n",
      "torch.Size([10, 299, 404])\n"
     ]
    }
   ],
   "source": [
    "print(y.size())\n",
    "# generated = generated.view(-1, 298, generated.shape[-1])\n",
    "print(generated.size())"
   ],
   "metadata": {
    "collapsed": false,
    "pycharm": {
     "name": "#%%\n"
    }
   }
  },
  {
   "cell_type": "code",
   "execution_count": 37,
   "outputs": [
    {
     "name": "stdout",
     "output_type": "stream",
     "text": [
      "torch.Size([10, 299, 93]) torch.Size([10, 299, 186])\n",
      "torch.Size([10, 299, 93]) torch.Size([10, 299, 186])\n"
     ]
    }
   ],
   "source": [
    "phase_dim = feature_dims2[\"phase_dim\"]\n",
    "toPosDim = phase_dim+feature_dims[\"pos\"]\n",
    "toRotDim = toPosDim + feature_dims[\"rotMat2\"]\n",
    "\n",
    "gPos = generated[:, :, phase_dim:toPosDim]\n",
    "gRot = generated[:, :, toPosDim:toRotDim]\n",
    "\n",
    "oPos = y[:, :, phase_dim:toPosDim]\n",
    "oRot = y[:, :, toPosDim:toRotDim]\n",
    "\n",
    "print(gPos.shape, gRot.shape)\n",
    "print(oPos.shape, oRot.shape)\n"
   ],
   "metadata": {
    "collapsed": false,
    "pycharm": {
     "name": "#%%\n"
    }
   }
  },
  {
   "cell_type": "code",
   "execution_count": 38,
   "outputs": [
    {
     "name": "stdout",
     "output_type": "stream",
     "text": [
      "Pos loss:  tensor(0.0153)\n",
      "Rot loss:  tensor(0.0500)\n"
     ]
    }
   ],
   "source": [
    "n = 10\n",
    "clip_length = gPos.shape[1]\n",
    "gPos_r = gPos.reshape((n, clip_length, -1, 3))\n",
    "gRot_r = gRot.reshape((n, clip_length, -1, 3, 2))\n",
    "oPos_r = oPos.reshape((n, clip_length, -1, 3))\n",
    "oRot_r = oRot.reshape((n, clip_length, -1, 3, 2))\n",
    "\n",
    "print(\"Pos loss: \", torch.nn.functional.mse_loss(gPos_r, oPos_r))\n",
    "print(\"Rot loss: \", torch.nn.functional.mse_loss(gRot_r, oRot_r))"
   ],
   "metadata": {
    "collapsed": false,
    "pycharm": {
     "name": "#%%\n"
    }
   }
  },
  {
   "cell_type": "code",
   "execution_count": 30,
   "outputs": [],
   "source": [
    "template = js.load(open(\"/home/nuoc/.config/unity3d/DefaultCompany/Procedural Animation/TestAll_1_R1_One_1/False_2_0.json\"))"
   ],
   "metadata": {
    "collapsed": false,
    "pycharm": {
     "name": "#%%\n"
    }
   }
  },
  {
   "cell_type": "code",
   "execution_count": 39,
   "outputs": [],
   "source": [
    "def insert_pos(positions, rotations, name=\"Replay\"):\n",
    "    shape = positions.shape\n",
    "    for c in range(shape[0]):\n",
    "        for f in range(shape[1]):\n",
    "            for j in range(shape[2]):\n",
    "                template[\"frames\"][f][\"joints\"][j][\"position\"][\"x\"] = positions[c,f,j,0].item()\n",
    "                template[\"frames\"][f][\"joints\"][j][\"position\"][\"y\"] = positions[c,f,j,1].item()\n",
    "                template[\"frames\"][f][\"joints\"][j][\"position\"][\"z\"] = positions[c,f,j,2].item()\n",
    "\n",
    "                for r, cell in enumerate([\"x\", \"y\", \"z\"]):\n",
    "                    for col, column in enumerate([\"c0\", \"c1\"]):\n",
    "                        template[\"frames\"][f][\"joints\"][j][\"rotMat\"][column][cell] = rotations[c,f,j,r, col].item()\n",
    "        with open(\"{}_{}.json\".format(name, c), \"w\") as f:\n",
    "            js.dump(template, f)\n",
    "\n",
    "# os.mkdir(\"/home/nuoc/.config/unity3d/DefaultCompany/Procedural Animation/R1_ALL\")\n",
    "insert_pos(oPos_r, oRot_r, \"/home/nuoc/.config/unity3d/DefaultCompany/Procedural Animation/R1_ALL/Original\")\n",
    "insert_pos(gPos_r, gRot_r, \"/home/nuoc/.config/unity3d/DefaultCompany/Procedural Animation/R1_ALL/Generated\")\n"
   ],
   "metadata": {
    "collapsed": false,
    "pycharm": {
     "name": "#%%\n"
    }
   }
  },
  {
   "cell_type": "code",
   "execution_count": null,
   "outputs": [],
   "source": [],
   "metadata": {
    "collapsed": false,
    "pycharm": {
     "name": "#%%\n"
    }
   }
  }
 ],
 "metadata": {
  "kernelspec": {
   "display_name": "Python 3",
   "language": "python",
   "name": "python3"
  },
  "language_info": {
   "codemirror_mode": {
    "name": "ipython",
    "version": 2
   },
   "file_extension": ".py",
   "mimetype": "text/x-python",
   "name": "python",
   "nbconvert_exporter": "python",
   "pygments_lexer": "ipython2",
   "version": "2.7.6"
  }
 },
 "nbformat": 4,
 "nbformat_minor": 0
}