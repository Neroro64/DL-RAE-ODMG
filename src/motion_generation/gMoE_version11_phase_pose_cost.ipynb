{
 "cells": [
  {
   "cell_type": "code",
   "execution_count": 1,
   "outputs": [],
   "source": [
    "\n",
    "import os, sys, math, time\n",
    "import numpy as np\n",
    "import numpy.linalg as la\n",
    "import plotly.graph_objects as go\n",
    "import plotly.express as ex\n",
    "from plotly.subplots import make_subplots\n",
    "import pandas as pd\n",
    "\n",
    "import json as js\n",
    "import _pickle as pickle\n",
    "import bz2\n",
    "import ray\n",
    "\n",
    "import torch\n",
    "import torch.nn as nn\n",
    "import torch.nn.functional as F\n",
    "import torchvision\n",
    "from torch.utils.data import Dataset, TensorDataset\n",
    "from torch.utils.data import DataLoader\n",
    "from torch.utils.data.dataset import random_split\n",
    "from collections import OrderedDict\n",
    "\n",
    "from cytoolz import sliding_window, accumulate, get\n",
    "import pytorch_lightning as pl\n",
    "from operator import add\n",
    "from tabulate import tabulate\n",
    "\n",
    "from pytorch_lightning.loggers import TensorBoardLogger\n",
    "from pytorch_lightning.callbacks import EarlyStopping\n",
    "from ray.tune import CLIReporter, JupyterNotebookReporter\n",
    "from ray.tune.schedulers import ASHAScheduler, PopulationBasedTraining\n",
    "from ray.tune.integration.pytorch_lightning import TuneReportCallback, TuneReportCheckpointCallback\n",
    "\n",
    "import ray\n",
    "import ray.tune as tune\n",
    "\n",
    "\n",
    "sys.path.append(\"../\")\n",
    "sys.path.append(\"../rig_agnostic_encoding\")\n",
    "sys.path.append(\"../rig_agnostic_encoding/models\")\n",
    "sys.path.append(\"../rig_agnostic_encoding/functions\")\n",
    "import func\n",
    "# from MLP_withLabel import MLP_withLabel\n",
    "# from MLP import MLP"
   ],
   "metadata": {
    "collapsed": false,
    "pycharm": {
     "name": "#%%\n"
    }
   }
  },
  {
   "cell_type": "code",
   "execution_count": 2,
   "outputs": [],
   "source": [
    "DATA_PATH = \"/home/nuoc/Documents/MEX/data\"\n",
    "MODEL_PATH = \"/home/nuoc/Documents/MEX/models\"\n",
    "RESULTS_PATH = \"/home/nuoc/Documents/MEX/results\"\n"
   ],
   "metadata": {
    "collapsed": false,
    "pycharm": {
     "name": "#%%\n"
    }
   }
  },
  {
   "cell_type": "code",
   "execution_count": 9,
   "outputs": [],
   "source": [
    "class MLP_withLabel(pl.LightningModule):\n",
    "    def __init__(self, config:dict=None, dimensions:list=None, extra_feature_len:int=0,\n",
    "                 train_set=None, val_set=None, test_set=None,\n",
    "                 keep_prob:float=.2, name:str=\"model\", load=False,\n",
    "                 single_module:int=0):\n",
    "\n",
    "        super(MLP_withLabel, self).__init__()\n",
    "        self.name = name\n",
    "        self.dimensions = dimensions\n",
    "        self.keep_prob = keep_prob\n",
    "        self.single_module = single_module\n",
    "        self.extra_feature_len = extra_feature_len\n",
    "        self.act = nn.ELU\n",
    "        self.k = 0\n",
    "        if load:\n",
    "            self.build()\n",
    "        else:\n",
    "            self.hidden_dim = config[\"hidden_dim\"]\n",
    "            self.k = config[\"k\"]\n",
    "            self.learning_rate = config[\"lr\"]\n",
    "            self.act = config[\"activation\"]\n",
    "            self.loss_fn = config[\"ae_loss_fn\"]\n",
    "            self.batch_size = config[\"batch_size\"]\n",
    "\n",
    "            self.dimensions = [self.dimensions[0]-extra_feature_len, self.hidden_dim, self.k]\n",
    "            self.train_set = train_set\n",
    "            self.val_set = val_set\n",
    "            self.test_set = test_set\n",
    "\n",
    "            self.best_val_loss = np.inf\n",
    "\n",
    "        self.build()\n",
    "        self.encoder.apply(self.init_params)\n",
    "        self.decoder.apply(self.init_params)\n",
    "\n",
    "\n",
    "    def build(self):\n",
    "        layer_sizes = list(sliding_window(2, self.dimensions))\n",
    "        if self.single_module == -1 or self.single_module == 0:\n",
    "            layers = []\n",
    "            for i, size in enumerate(layer_sizes):\n",
    "                layers.append((\"fc\"+str(i), nn.Linear(size[0], size[1])))\n",
    "                if i < len(self.dimensions)-2:\n",
    "                    layers.append((\"act\"+str(i), self.act()))\n",
    "                    layers.append((\"drop\"+str(i+1), nn.Dropout(self.keep_prob)))\n",
    "            self.encoder = nn.Sequential(OrderedDict(layers))\n",
    "        else:\n",
    "            self.encoder = nn.Sequential()\n",
    "\n",
    "        if self.single_module == 0 or self.single_module == 1:\n",
    "            layers = []\n",
    "            layer_sizes[-1] = (layer_sizes[-1][0], layer_sizes[-1][1] + self.extra_feature_len)\n",
    "            for i, size in enumerate(layer_sizes[-1::-1]):\n",
    "                layers.append((\"fc\"+str(i), nn.Linear(size[1], size[0])))\n",
    "                if i < len(self.dimensions)-2:\n",
    "                    layers.append((\"act\"+str(i), self.act()))\n",
    "                    layers.append((\"drop\"+str(i+1), nn.Dropout(self.keep_prob)))\n",
    "            self.decoder = nn.Sequential(OrderedDict(layers))\n",
    "        else:\n",
    "            self.decoder = nn.Sequential()\n",
    "\n",
    "    def forward(self, x:torch.Tensor) -> torch.Tensor:\n",
    "        return self.decode(*self.encode(x))\n",
    "\n",
    "    def encode(self, x):\n",
    "        _x, label = x[:, :-self.extra_feature_len], x[:, -self.extra_feature_len:]\n",
    "        h = self.encoder(_x)\n",
    "        return h, label\n",
    "\n",
    "    def decode(self, h, label):\n",
    "        hr = torch.cat((h, label), dim=1)\n",
    "        return self.decoder(hr)\n",
    "\n",
    "    def training_step(self, batch, batch_idx):\n",
    "        x, y = batch\n",
    "        prediction = self(x)\n",
    "        loss = self.loss_fn(prediction, y)\n",
    "\n",
    "        self.log(\"ptl/train_loss\", loss)\n",
    "        return loss\n",
    "\n",
    "    def validation_step(self, batch, batch_idx):\n",
    "        x, y = batch\n",
    "\n",
    "        prediction = self(x)\n",
    "        loss = self.loss_fn(prediction, y)\n",
    "\n",
    "        self.log('ptl/val_loss', loss, prog_bar=True)\n",
    "        return {\"val_loss\":loss}\n",
    "\n",
    "    def test_step(self, batch, batch_idx):\n",
    "        x, y = batch\n",
    "\n",
    "        prediction = self(x)\n",
    "        loss = self.loss_fn(prediction, y)\n",
    "\n",
    "        self.log('ptl/test_loss', loss, prog_bar=True)\n",
    "        return {\"val_loss\":loss}\n",
    "\n",
    "    def validation_epoch_end(self, outputs):\n",
    "        avg_loss = torch.stack([x[\"val_loss\"] for x in outputs]).mean()\n",
    "        self.log(\"avg_val_loss\", avg_loss)\n",
    "        if avg_loss < self.best_val_loss:\n",
    "            self.best_val_loss = avg_loss\n",
    "            self.save_checkpoint(best_val_loss=self.best_val_loss.cpu().numpy())\n",
    "\n",
    "    def save_checkpoint(self, best_val_loss:float=np.inf, checkpoint_dir=MODEL_PATH):\n",
    "\n",
    "        model = {\"k\":self.k, \"dimensions\":self.dimensions,\"keep_prob\":self.keep_prob, \"name\":self.name,\n",
    "                 \"extra_feature_len\" : self.extra_feature_len,\n",
    "                 \"encoder\":self.encoder.state_dict(),\n",
    "                 \"decoder\":self.decoder.state_dict()}\n",
    "\n",
    "        if not os.path.exists(checkpoint_dir):\n",
    "            os.mkdir(checkpoint_dir)\n",
    "        path = os.path.join(checkpoint_dir, self.name)\n",
    "        if not os.path.exists(path):\n",
    "            os.mkdir(path)\n",
    "\n",
    "        filePath = os.path.join(path, str(best_val_loss)+\".\"+str(self.k)+\".pbz2\")\n",
    "        with bz2.BZ2File(filePath, \"w\") as f:\n",
    "            pickle.dump(model, f)\n",
    "        return filePath\n",
    "\n",
    "    @staticmethod\n",
    "    def load_checkpoint(filePath):\n",
    "        with bz2.BZ2File(filePath, \"rb\") as f:\n",
    "            obj = pickle.load(f)\n",
    "\n",
    "        model = MLP_withLabel(name=obj[\"name\"], dimensions=obj[\"dimensions\"], extra_feature_len=obj[\"extra_feature_len\"], keep_prob=obj[\"keep_prob\"], load=True)\n",
    "        model.encoder.load_state_dict(obj[\"encoder\"])\n",
    "        model.decoder.load_state_dict(obj[\"decoder\"])\n",
    "        return model\n",
    "\n",
    "    def configure_optimizers(self):\n",
    "        optimizer = torch.optim.AdamW(self.parameters(), lr=self.learning_rate)\n",
    "        return optimizer\n",
    "\n",
    "    def setup_data(self):\n",
    "        pass\n",
    "    def train_dataloader(self):\n",
    "        return DataLoader(self.train_set, batch_size=self.batch_size, pin_memory=True)\n",
    "\n",
    "    def val_dataloader(self):\n",
    "        return DataLoader(self.val_set, batch_size=self.batch_size, pin_memory=True)\n",
    "\n",
    "    def test_dataloader(self):\n",
    "        return DataLoader(self.test_set, batch_size=self.batch_size, pin_memory=True)\n",
    "\n",
    "    @staticmethod\n",
    "    def init_params(m):\n",
    "        if type(m) == nn.Linear:\n",
    "            nn.init.xavier_uniform_(m.weight)\n",
    "            m.bias.data.fill_(.01)"
   ],
   "metadata": {
    "collapsed": false,
    "pycharm": {
     "name": "#%%\n"
    }
   }
  },
  {
   "cell_type": "code",
   "execution_count": 10,
   "outputs": [],
   "source": [
    "class MLP(pl.LightningModule):\n",
    "    def __init__(self, config:dict=None, dimensions:list=None,\n",
    "                 train_set=None, val_set=None, test_set=None,\n",
    "                 keep_prob:float=.2, name:str=\"model\", load=False,\n",
    "                 single_module:int=0):\n",
    "\n",
    "        super(MLP, self).__init__()\n",
    "        self.name = name\n",
    "        self.dimensions = dimensions\n",
    "        self.keep_prob = keep_prob\n",
    "        self.single_module = single_module\n",
    "        self.act = nn.ELU\n",
    "        self.k = 0\n",
    "        if load:\n",
    "            self.build()\n",
    "        else:\n",
    "            self.hidden_dim = config[\"hidden_dim\"]\n",
    "            self.k = config[\"k\"]\n",
    "            self.learning_rate = config[\"lr\"]\n",
    "            self.act = config[\"activation\"]\n",
    "            self.loss_fn = config[\"loss_fn\"]\n",
    "            self.batch_size = config[\"batch_size\"]\n",
    "\n",
    "            self.dimensions = dimensions + [self.hidden_dim, self.k]\n",
    "            self.train_set = train_set\n",
    "            self.val_set = val_set\n",
    "            self.test_set = test_set\n",
    "\n",
    "            self.best_val_loss = np.inf\n",
    "\n",
    "            self.build()\n",
    "        self.encoder.apply(self.init_params)\n",
    "        self.decoder.apply(self.init_params)\n",
    "\n",
    "\n",
    "    def build(self):\n",
    "        layer_sizes = list(sliding_window(2, self.dimensions))\n",
    "        if self.single_module == -1 or self.single_module == 0:\n",
    "            layers = []\n",
    "            for i, size in enumerate(layer_sizes):\n",
    "                layers.append((\"fc\"+str(i), nn.Linear(size[0], size[1])))\n",
    "                if i < len(self.dimensions)-2:\n",
    "                    layers.append((\"act\"+str(i), self.act()))\n",
    "                    layers.append((\"drop\"+str(i+1), nn.Dropout(self.keep_prob)))\n",
    "            self.encoder = nn.Sequential(OrderedDict(layers))\n",
    "        else:\n",
    "            self.encoder = nn.Sequential()\n",
    "\n",
    "        if self.single_module == 0 or self.single_module == 1:\n",
    "            layers = []\n",
    "            for i, size in enumerate(layer_sizes[-1::-1]):\n",
    "                layers.append((\"fc\"+str(i), nn.Linear(size[1], size[0])))\n",
    "                if i < len(self.dimensions)-2:\n",
    "                    layers.append((\"act\"+str(i), self.act()))\n",
    "                    layers.append((\"drop\"+str(i+1), nn.Dropout(self.keep_prob)))\n",
    "            self.decoder = nn.Sequential(OrderedDict(layers))\n",
    "        else:\n",
    "            self.decoder = nn.Sequential()\n",
    "\n",
    "    def forward(self, x:torch.Tensor) -> torch.Tensor:\n",
    "        return self.decode(self.encode(x))\n",
    "\n",
    "    def encode(self, x):\n",
    "        return self.encoder(x)\n",
    "\n",
    "    def decode(self, h):\n",
    "        return self.decoder(h)\n",
    "\n",
    "    def training_step(self, batch, batch_idx):\n",
    "        x, y = batch\n",
    "        prediction = self(x)\n",
    "        loss = self.loss_fn(prediction, y)\n",
    "\n",
    "        self.log(\"ptl/train_loss\", loss)\n",
    "        return loss\n",
    "\n",
    "    def validation_step(self, batch, batch_idx):\n",
    "        x, y = batch\n",
    "\n",
    "        prediction = self(x)\n",
    "        loss = self.loss_fn(prediction, y)\n",
    "\n",
    "        self.log('ptl/val_loss', loss, prog_bar=True)\n",
    "        return {\"val_loss\":loss}\n",
    "\n",
    "    def test_step(self, batch, batch_idx):\n",
    "        x, y = batch\n",
    "\n",
    "        prediction = self(x)\n",
    "        loss = self.loss_fn(prediction, y)\n",
    "\n",
    "        self.log('ptl/test_loss', loss, prog_bar=True)\n",
    "        return {\"val_loss\":loss}\n",
    "\n",
    "    def validation_epoch_end(self, outputs):\n",
    "        avg_loss = torch.stack([x[\"val_loss\"] for x in outputs]).mean()\n",
    "        self.log(\"avg_val_loss\", avg_loss)\n",
    "        if avg_loss < self.best_val_loss:\n",
    "            self.best_val_loss = avg_loss\n",
    "            self.save_checkpoint(best_val_loss=self.best_val_loss.cpu().numpy())\n",
    "\n",
    "    def save_checkpoint(self, best_val_loss:float=np.inf, checkpoint_dir=MODEL_PATH):\n",
    "\n",
    "        model = {\"k\":self.k, \"dimensions\":self.dimensions,\"keep_prob\":self.keep_prob, \"name\":self.name,\n",
    "                 \"single_module\":self.single_module,\n",
    "                 \"encoder\":self.encoder.state_dict(),\n",
    "                 \"decoder\":self.decoder.state_dict()}\n",
    "\n",
    "        if not os.path.exists(checkpoint_dir):\n",
    "            os.mkdir(checkpoint_dir)\n",
    "        path = os.path.join(checkpoint_dir, self.name)\n",
    "        if not os.path.exists(path):\n",
    "            os.mkdir(path)\n",
    "\n",
    "        filePath = os.path.join(path, str(best_val_loss)+\".\"+str(self.k)+\".pbz2\")\n",
    "        with bz2.BZ2File(filePath, \"w\") as f:\n",
    "            pickle.dump(model, f)\n",
    "        return filePath\n",
    "\n",
    "    @staticmethod\n",
    "    def load_checkpoint(filePath):\n",
    "        with bz2.BZ2File(filePath, \"rb\") as f:\n",
    "            obj = pickle.load(f)\n",
    "\n",
    "        model = MLP(name=obj[\"name\"], dimensions=obj[\"dimensions\"], keep_prob=obj[\"keep_prob\"],\n",
    "                  load=True)\n",
    "        model.encoder.load_state_dict(obj[\"encoder\"])\n",
    "        # model.decoder.load_state_dict(obj[\"decoder\"])\n",
    "        return model\n",
    "\n",
    "    def configure_optimizers(self):\n",
    "        optimizer = torch.optim.AdamW(self.parameters(), lr=self.learning_rate)\n",
    "        return optimizer\n",
    "\n",
    "    def setup_data(self):\n",
    "        pass\n",
    "    def train_dataloader(self):\n",
    "        return DataLoader(self.train_set, batch_size=self.batch_size, pin_memory=True)\n",
    "\n",
    "    def val_dataloader(self):\n",
    "        return DataLoader(self.val_set, batch_size=self.batch_size, pin_memory=True)\n",
    "\n",
    "    def test_dataloader(self):\n",
    "        return DataLoader(self.test_set, batch_size=self.batch_size, pin_memory=True)\n",
    "\n",
    "    @staticmethod\n",
    "    def init_params(m):\n",
    "        if type(m) == nn.Linear:\n",
    "            nn.init.xavier_uniform_(m.weight)\n",
    "            m.bias.data.fill_(.01)"
   ],
   "metadata": {
    "collapsed": false,
    "pycharm": {
     "name": "#%%\n"
    }
   }
  },
  {
   "cell_type": "code",
   "execution_count": 11,
   "outputs": [],
   "source": [
    "class MoE(nn.Module):\n",
    "    def __init__(self, config=None, dimensions=None, phase_input_dim:int=0,\n",
    "                 gate_size=0, k_experts=1, keep_prob=.2,\n",
    "                 name=\"model\", load=False):\n",
    "        super().__init__()\n",
    "\n",
    "        self.phase_input_dim = phase_input_dim\n",
    "        self.dimensions = dimensions\n",
    "        self.act_fn = nn.ELU\n",
    "        self.name = name\n",
    "        self.config=config\n",
    "        self.gate_size=gate_size\n",
    "        self.k_experts = k_experts\n",
    "        self.keep_prob = .2\n",
    "        if not load:\n",
    "            self.k_experts = config[\"k_experts\"]\n",
    "            self.gate_size = config[\"gate_size\"]\n",
    "            self.keep_prob = config[\"keep_prob\"]\n",
    "            self.dimensions = [self.dimensions[0], config[\"hidden_dim\"], config[\"hidden_dim\"], self.dimensions[-1]]\n",
    "\n",
    "        self.layers = []\n",
    "\n",
    "        self.build()\n",
    "        self.gate = nn.Sequential(\n",
    "            nn.Linear(phase_input_dim, self.gate_size),\n",
    "            nn.ELU(),\n",
    "            nn.Linear(self.gate_size, self.gate_size),\n",
    "            nn.ELU(),\n",
    "            nn.Linear(self.gate_size, self.k_experts)\n",
    "        )\n",
    "        self.init_params()\n",
    "\n",
    "\n",
    "    def forward(self, x:torch.Tensor, phase) -> torch.Tensor:\n",
    "        coefficients = F.softmax(self.gate(phase), dim=1)\n",
    "\n",
    "        layer_out = x\n",
    "        for (weight, bias, activation) in self.layers:\n",
    "            if weight is None:\n",
    "                layer_out = activation(layer_out, p=self.keep_prob)\n",
    "            else:\n",
    "                flat_weight = weight.flatten(start_dim=1, end_dim=2)\n",
    "                mixed_weight = torch.matmul(coefficients, flat_weight).view(\n",
    "                    coefficients.shape[0], *weight.shape[1:3]\n",
    "                )\n",
    "\n",
    "                input = layer_out.unsqueeze(1)\n",
    "                mixed_bias = torch.matmul(coefficients, bias).unsqueeze(1)\n",
    "                out = torch.baddbmm(mixed_bias, input, mixed_weight).squeeze(1)\n",
    "                layer_out = activation(out) if activation is not None else out\n",
    "\n",
    "        return layer_out\n",
    "\n",
    "    def build(self):\n",
    "        layers = []\n",
    "        for i, size in enumerate(zip(self.dimensions[0:], self.dimensions[1:])):\n",
    "            if i < len(self.dimensions) - 2:\n",
    "                layers.append(\n",
    "                    (\n",
    "                        nn.Parameter(torch.empty(self.k_experts, size[0], size[1])),\n",
    "                        nn.Parameter(torch.empty(self.k_experts, size[1])),\n",
    "                        self.act_fn()\n",
    "                    )\n",
    "                )\n",
    "            else:\n",
    "                layers.append(\n",
    "                    (\n",
    "                        nn.Parameter(torch.empty(self.k_experts, size[0], size[1])),\n",
    "                        nn.Parameter(torch.empty(self.k_experts, size[1])),\n",
    "                        None\n",
    "                    )\n",
    "                )\n",
    "\n",
    "            if self.keep_prob > 0:\n",
    "                layers.append((None, None, F.dropout))\n",
    "\n",
    "        self.layers = layers\n",
    "\n",
    "    def init_params(self):\n",
    "        for i, (w, b, _) in enumerate(self.layers):\n",
    "            if w is None:\n",
    "                continue\n",
    "\n",
    "            i = str(i)\n",
    "            torch.nn.init.kaiming_uniform_(w)\n",
    "            b.data.fill_(0.01)\n",
    "            self.register_parameter(\"w\" + i, w)\n",
    "            self.register_parameter(\"b\" + i, b)\n",
    "\n",
    "    def save_checkpoint(self, best_val_loss:float=np.inf, checkpoint_dir=MODEL_PATH):\n",
    "\n",
    "        model = {\"dimensions\":self.dimensions,\n",
    "                 \"name\":self.name,\n",
    "                 \"gate\":self.gate.state_dict(), \"phase_input_dim\":self.phase_input_dim,\n",
    "                 \"generationNetwork\":self.state_dict(),\n",
    "                 \"gate_size\":self.gate_size,\n",
    "                 \"k_experts\":self.k_experts,\n",
    "                 }\n",
    "\n",
    "        if not os.path.exists(checkpoint_dir):\n",
    "            os.mkdir(checkpoint_dir)\n",
    "        path = os.path.join(checkpoint_dir, self.name)\n",
    "        if not os.path.exists(path):\n",
    "            os.mkdir(path)\n",
    "\n",
    "        filePath = os.path.join(path, str(best_val_loss)+\".pbz2\")\n",
    "        with bz2.BZ2File(filePath, \"w\") as f:\n",
    "            pickle.dump(model, f)\n",
    "        return filePath\n",
    "\n",
    "    @staticmethod\n",
    "    def load_checkpoint(filePath):\n",
    "        with bz2.BZ2File(filePath, \"rb\") as f:\n",
    "            obj = pickle.load(f)\n",
    "\n",
    "        model = MoE(name=obj[\"name\"], dimensions=obj[\"dimensions\"], gate_size=obj[\"gate_size\"],k_experts=obj[\"k_experts\"],\n",
    "                    phase_input_dim=obj[\"phase_input_dim\"], load=True)\n",
    "        model.gate.load_state_dict(obj[\"gate\"])\n",
    "        model.load_state_dict(obj[\"generationNetwork\"])\n",
    "        return model\n",
    "\n",
    "    def configure_optimizers(self):\n",
    "        optimizer = torch.optim.AdamW(self.parameters(), lr=self.learning_rate)\n",
    "        # scheduler = torch.optim.lr_scheduler.StepLR(optimizer, step_size=100, gamma=0.99)\n",
    "        return optimizer\n"
   ],
   "metadata": {
    "collapsed": false,
    "pycharm": {
     "name": "#%%\n"
    }
   }
  },
  {
   "cell_type": "code",
   "execution_count": 39,
   "outputs": [],
   "source": [
    "class MotionGenerationModel(pl.LightningModule):\n",
    "    def __init__(self, config:dict=None, pose_autoencoder=None, cost_input_dimension=None, phase_dim=0,\n",
    "                 input_slicers:list=None, output_slicers:list=None, train_set=None, val_set=None, name=\"model\", load=False):\n",
    "        super().__init__()\n",
    "\n",
    "        if not load:\n",
    "            self.pose_autoencoder = pose_autoencoder # start with 3\n",
    "            cost_hidden_dim = config[\"cost_hidden_dim\"]\n",
    "            cost_output_dim = config[\"cost_output_dim\"]\n",
    "            self.cost_encoder = MLP(dimensions=[cost_input_dimension, cost_hidden_dim, cost_hidden_dim, cost_output_dim],\n",
    "                                    name=\"CostEncoder\", load=True, single_module=-1)\n",
    "\n",
    "\n",
    "            self.phase_dim = phase_dim\n",
    "            phase_dim = input_slicers[0]\n",
    "            moe_input_dim = pose_autoencoder.dimensions[-1] + cost_output_dim\n",
    "            moe_output_dim = pose_autoencoder.dimensions[-1] +  self.phase_dim*2 + cost_input_dimension\n",
    "            self.generationModel =  MoE(config=config, dimensions=[moe_input_dim, moe_output_dim], phase_input_dim=phase_dim,\n",
    "                                        name=\"MixtureOfExperts\")\n",
    "\n",
    "            self.in_slices = [0] + list(accumulate(add, input_slicers))\n",
    "            self.out_slices = [0] + list(accumulate(add, output_slicers))\n",
    "            # self.phase_dim = phase_dim\n",
    "\n",
    "            self.config=config\n",
    "            self.batch_size = config[\"batch_size\"]\n",
    "            self.learning_rate = config[\"lr\"]\n",
    "            self.loss_fn = config[\"loss_fn\"]\n",
    "            self.window_size = config[\"window_size\"]\n",
    "            self.autoregress_chunk_size = config[\"autoregress_chunk_size\"]\n",
    "            self.autoregress_prob = config[\"autoregress_prob\"]\n",
    "            self.autoregress_inc = config[\"autoregress_inc\"]\n",
    "            self.best_val_loss = np.inf\n",
    "            self.phase_smooth_factor = 0.9\n",
    "\n",
    "        self.train_set = train_set\n",
    "        self.val_set = val_set\n",
    "        self.name = name\n",
    "        self.epochs = 0\n",
    "\n",
    "\n",
    "\n",
    "    def forward(self, x):\n",
    "        x_tensors = [x[:, d0:d1] for d0, d1 in zip(self.in_slices[:-1], self.in_slices[1:])]\n",
    "        pose_h, pose_label = self.pose_autoencoder.encode(x_tensors[1])\n",
    "        phase = x_tensors[0][:, :self.phase_dim]\n",
    "        targets = x_tensors[0][:, self.phase_dim:]\n",
    "        embedding = torch.cat([pose_h, self.cost_encoder(x_tensors[2])], dim=1)\n",
    "        # embedding = torch.cat([pose_h, x_tensors[2]], dim=1)\n",
    "        out = self.generationModel(embedding, x_tensors[0])\n",
    "        out_tensors = [out[:, d0:d1] for d0, d1 in zip(self.out_slices[:-1], self.out_slices[1:])] # phase, phase_update, pose\n",
    "        phase = self.update_phase(phase, out_tensors[0], out_tensors[1]) # phase_0, phase_1, phase_update\n",
    "        new_pose = self.pose_autoencoder.decode(out_tensors[2], pose_label)\n",
    "        return torch.cat([phase, targets, new_pose, pose_label, out_tensors[-1]],dim=1)\n",
    "\n",
    "    def training_step(self, batch, batch_idx):\n",
    "        x, y = batch\n",
    "\n",
    "        # x_chunks = torch.split(x, self.autoregress_chunk_size, dim=1)\n",
    "        # y_chunks = torch.split(y, self.autoregress_chunk_size, dim=1)\n",
    "        # if len(x_chunks) == 1:\n",
    "        #     x_chunks = x_chunks[0]\n",
    "        #     y_chunks = y_chunks[0]\n",
    "        # else:\n",
    "        #     x_chunks = torch.cat(x_chunks[:-1], dim=0)\n",
    "        #     y_chunks = torch.cat(y_chunks[:-1], dim=0)\n",
    "        #\n",
    "        # if self.autoregress_chunk_size == 1:\n",
    "        #     out = self(x_chunks.view((-1, x_chunks.size()[-1])))\n",
    "        #     loss = self.loss_fn(out, y_chunks.view((-1, y_chunks.size()[-1])))\n",
    "        # else:\n",
    "        #     loss = 0\n",
    "        #     x_c = x_chunks[:, 0, :]\n",
    "        #     outputs = []\n",
    "        #     for i in range(y_chunks.size()[1]):\n",
    "        #         out = self(x_c)\n",
    "        #         # loss += self.loss_fn(out, y_chunks[:, i, :])\n",
    "        #         outputs.append(out.unsqueeze(dim=1))\n",
    "        #         x_c = out\n",
    "        #     loss = self.loss_fn(torch.cat(outputs, dim=1), y_chunks)\n",
    "\n",
    "        n = x.size()[1]\n",
    "        loss = 0\n",
    "        x_c = x[:,0,:]\n",
    "        if self.autoregress_prob < 1:\n",
    "            autoregress_bools = torch.randn(n) < self.autoregress_prob\n",
    "            for i in range(1, n):\n",
    "                y_c = y[:,i-1,:]\n",
    "                out = self(x_c)\n",
    "                loss += self.loss_fn(out, y_c)\n",
    "                if autoregress_bools[i]:\n",
    "                    x_c = out\n",
    "                else:\n",
    "                    x_c = x[:,i,:]\n",
    "\n",
    "            loss /= float(n)\n",
    "        else:\n",
    "            for i in range(1, n):\n",
    "                y_c = y[:,i-1,:]\n",
    "                out = self(x_c)\n",
    "                loss += self.loss_fn(out, y_c)\n",
    "                x_c = x[:,i,:]\n",
    "\n",
    "            loss /= float(n)\n",
    "        #\n",
    "\n",
    "        self.log(\"ptl/train_loss\", loss)\n",
    "        return loss\n",
    "\n",
    "    def validation_step(self, batch, batch_idx):\n",
    "        x, y = batch\n",
    "\n",
    "        # x_chunks = torch.split(x, self.autoregress_chunk_size, dim=1)\n",
    "        # y_chunks = torch.split(y, self.autoregress_chunk_size, dim=1)\n",
    "        # if len(x_chunks) == 1:\n",
    "        #     x_chunks = x_chunks[0]\n",
    "        #     y_chunks = y_chunks[0]\n",
    "        # else:\n",
    "        #     x_chunks = torch.cat(x_chunks[:-1], dim=0)\n",
    "        #     y_chunks = torch.cat(y_chunks[:-1], dim=0)\n",
    "        #\n",
    "        # if self.autoregress_chunk_size == 1:\n",
    "        #     out = self(x_chunks.view((-1, x_chunks.size()[-1])))\n",
    "        #     loss = self.loss_fn(out, y_chunks.view((-1, y_chunks.size()[-1])))\n",
    "        # else:\n",
    "        #     loss = 0\n",
    "        #     x_c = x_chunks[:, 0, :]\n",
    "        #     outputs = []\n",
    "        #     for i in range(y_chunks.size()[1]):\n",
    "        #         out = self(x_c)\n",
    "        #         # loss += self.loss_fn(out, y_chunks[:, i, :])\n",
    "        #         outputs.append(out.unsqueeze(dim=1))\n",
    "        #         x_c = out\n",
    "        #     loss = self.loss_fn(torch.cat(outputs, dim=1), y_chunks)\n",
    "\n",
    "            # loss /= float(self.autoregress_chunk_size)\n",
    "\n",
    "        n = x.size()[1]\n",
    "        loss = 0\n",
    "        x_c = x[:,0,:]\n",
    "        if self.autoregress_prob < 1:\n",
    "            autoregress_bools = torch.randn(n) < self.autoregress_prob\n",
    "            for i in range(1, n):\n",
    "                y_c = y[:,i-1,:]\n",
    "                out = self(x_c)\n",
    "                loss += self.loss_fn(out, y_c)\n",
    "                if autoregress_bools[i]:\n",
    "                    x_c = out\n",
    "                else:\n",
    "                    x_c = x[:,i,:]\n",
    "\n",
    "            loss /= float(n)\n",
    "        else:\n",
    "            for i in range(1, n):\n",
    "                y_c = y[:,i-1,:]\n",
    "                out = self(x_c)\n",
    "                loss += self.loss_fn(out, y_c)\n",
    "                x_c = x[:,i,:]\n",
    "\n",
    "            loss /= float(n)\n",
    "        #\n",
    "\n",
    "        self.log(\"ptl/val_loss\", loss, prog_bar=True)\n",
    "        return {\"val_loss\":loss}\n",
    "\n",
    "    def validation_epoch_end(self, outputs):\n",
    "        if self.epochs > 0 and self.epochs % 10==0:\n",
    "            self.autoregress_prob = min(1, self.autoregress_prob+self.autoregress_inc)\n",
    "            self.autoregress_chunk_size = min(120, self.autoregress_chunk_size+self.autoregress_inc)\n",
    "        elif self.epochs > 0 and self.epochs % 50==0:\n",
    "            self.scheduler.step()\n",
    "        self.epochs += 1\n",
    "\n",
    "\n",
    "        avg_loss = torch.stack([x[\"val_loss\"] for x in outputs]).mean()\n",
    "        self.log(\"avg_val_loss\", avg_loss)\n",
    "        if avg_loss < self.best_val_loss:\n",
    "            self.best_val_loss = avg_loss\n",
    "            self.save_checkpoint()\n",
    "\n",
    "    def save_checkpoint(self, checkpoint_dir=MODEL_PATH):\n",
    "        path = os.path.join(checkpoint_dir, self.name)\n",
    "        loss = self.best_val_loss.cpu().numpy()\n",
    "\n",
    "        pose_autoencoder_path = self.pose_autoencoder.save_checkpoint(best_val_loss=loss, checkpoint_dir=path)\n",
    "        cost_encoder_path = self.cost_encoder.save_checkpoint(best_val_loss=loss, checkpoint_dir=path)\n",
    "        generationModel_path = self.generationModel.save_checkpoint(best_val_loss=loss, checkpoint_dir=path)\n",
    "\n",
    "        model = {\"name\":self.name,\n",
    "                 \"pose_autoencoder_path\":pose_autoencoder_path,\n",
    "                 \"cost_encoder_path\": cost_encoder_path,\n",
    "                 \"motionGenerationModelPath\":generationModel_path,\n",
    "                 \"in_slices\":self.in_slices,\n",
    "                 \"out_slices\":self.out_slices,\n",
    "                 }\n",
    "\n",
    "        if not os.path.exists(path):\n",
    "            os.mkdir(path)\n",
    "        with bz2.BZ2File(os.path.join(path,\n",
    "                                      str(loss)+\".pbz2\"), \"w\") as f:\n",
    "            pickle.dump(model, f)\n",
    "\n",
    "    @staticmethod\n",
    "    def load_checkpoint(filename, pose_ae_model, cost_encoder_model, generation_model):\n",
    "        with bz2.BZ2File(filename, \"rb\") as f:\n",
    "            obj = pickle.load(f)\n",
    "\n",
    "        pose_autoencoder = pose_ae_model.load_checkpoint(obj[\"pose_autoencoder_path\"])\n",
    "        cost_encoder = cost_encoder_model.load_checkpoint(obj[\"cost_encoder_path\"])\n",
    "        generationModel = generation_model.load_checkpoint(obj[\"motionGenerationModelPath\"])\n",
    "        model = MotionGenerationModel(name=obj[\"name\"])\n",
    "        model.pose_autoencoder = pose_autoencoder\n",
    "        model.cost_encoder = cost_encoder\n",
    "        model.generationModel = generationModel\n",
    "        model.in_slices = obj[\"in_slices\"]\n",
    "        model.out_slices = obj[\"out_slices\"]\n",
    "\n",
    "        return model\n",
    "\n",
    "    def update_phase(self, p1, p2, p_delta):\n",
    "        return self.phase_smooth_factor * p2 + (1-self.phase_smooth_factor)*(p1+p_delta)\n",
    "\n",
    "    def configure_optimizers(self):\n",
    "        optimizer = torch.optim.AdamW(self.parameters(), lr=self.learning_rate)\n",
    "        scheduler = torch.optim.lr_scheduler.StepLR(optimizer, step_size=32, gamma=0.1)\n",
    "        self.scheduler = scheduler\n",
    "        return optimizer\n",
    "\n",
    "    def train_dataloader(self):\n",
    "        return DataLoader(self.train_set, batch_size=self.batch_size, pin_memory=True)\n",
    "\n",
    "    def val_dataloader(self):\n",
    "        return DataLoader(self.val_set, batch_size=self.batch_size, pin_memory=True)\n",
    "\n",
    "    def test_dataloader(self):\n",
    "        return DataLoader(self.test_set, batch_size=self.batch_size, pin_memory=True)\n",
    "\n",
    "\n",
    "\n",
    "\n"
   ],
   "metadata": {
    "collapsed": false,
    "pycharm": {
     "name": "#%%\n"
    }
   }
  },
  {
   "cell_type": "code",
   "execution_count": 118,
   "outputs": [],
   "source": [
    "data_path = [\n",
    "             \"/home/nuoc/Documents/MEX/data/TWO_R2-default-Two.pbz2\",\n",
    "            \"/home/nuoc/Documents/MEX/data/ONE_R2-default-One.pbz2\",\n",
    "             \"/home/nuoc/Documents/MEX/data/ONE_R2-default-One-large.pbz2\",\n",
    "             \"/home/nuoc/Documents/MEX/data/ONE_R2-default-One-small.pbz2\",\n",
    "             \"/home/nuoc/Documents/MEX/data/TWO_R2-default-Two-small.pbz2\",\n",
    "             \"/home/nuoc/Documents/MEX/data/TWO_R2-default-Two-large.pbz2\",\n",
    "             \"/home/nuoc/Documents/MEX/data/TWO_ROT_R2-default-Two.pbz2\",\n",
    "             \"/home/nuoc/Documents/MEX/data/TWO_ROT_R2-default-Two-large.pbz2\",\n",
    "             \"/home/nuoc/Documents/MEX/data/TWO_ROT_R2-default-Two-small.pbz2\",\n",
    "             ]\n",
    "\n",
    "\n",
    "\n",
    "# pose_features = [\"pos\", \"rotMat\", \"velocity\", \"isLeft\", \"chainPos\", \"geoDistanceNormalised\"]\n",
    "# cost_features = [\"tPos\", \"tRot\", \"posCost\", \"rotCost\"]\n",
    "# phase_features = [\"phase_vec\", \"targetPosition\", \"targetRotation\"]\n",
    "\n",
    "pose_features = [\"pos\", \"rotMat\", \"velocity\", \"isLeft\", \"chainPos\", \"geoDistanceNormalised\"]\n",
    "cost_features = [\"tPos\", \"tRot\", \"posCost\", \"rotCost\"]\n",
    "phase_features = [\"phase_vec\", \"targetPosition\", \"targetRotation\"]\n",
    "\n"
   ],
   "metadata": {
    "collapsed": false,
    "pycharm": {
     "name": "#%%\n"
    }
   }
  },
  {
   "cell_type": "code",
   "execution_count": 119,
   "outputs": [],
   "source": [
    "def load(file_path):\n",
    "    with bz2.BZ2File(file_path, \"rb\") as f:\n",
    "        obj = pickle.load(f)\n",
    "        return obj\n",
    "\n",
    "data = [load(path) for path in data_path]"
   ],
   "metadata": {
    "collapsed": false,
    "pycharm": {
     "name": "#%%\n"
    }
   }
  },
  {
   "cell_type": "code",
   "execution_count": 129,
   "outputs": [],
   "source": [
    "window_size = 3\n",
    "frame_window = 15\n",
    "sampling_step = frame_window / window_size\n",
    "\n",
    "data_tensors = []\n",
    "\n",
    "data_dims = []\n",
    "feature_list = []\n",
    "feature_data = [{}, {}]\n",
    "features = phase_features + pose_features + cost_features\n",
    "for f in features:\n",
    "    feature_data[0][f] = []\n",
    "    feature_data[1][f] = []\n",
    "\n",
    "first_row = True\n",
    "first_time = True\n",
    "key_joints = []\n",
    "\n",
    "a = []\n",
    "b = []\n",
    "for Data in data:\n",
    "    for clip in Data:\n",
    "        d = pickle.loads(clip)\n",
    "        sequence = []\n",
    "        n_frames = len(d[\"frames\"])\n",
    "        if first_time:\n",
    "            key_joints = [i for i in range(len(d[\"frames\"][0])) if d[\"frames\"][0][i][\"key\"]]\n",
    "            first_time = False\n",
    "\n",
    "        idx = [int(n_frames/2)] * len(key_joints)\n",
    "        for i, jo in enumerate(key_joints):\n",
    "            for f_id, frame in enumerate(d[\"frames\"]):\n",
    "                if frame[jo][\"contact\"]:\n",
    "                    idx[i] = f_id\n",
    "                    break\n",
    "\n",
    "        max_id = max(idx)\n",
    "        max_id2 = max_id + 3\n",
    "        min_id = min(idx)\n",
    "        min_id2 = min(idx) - 3\n",
    "        start1 = 0\n",
    "        end1 = max_id2 if max_id2 <= n_frames else max_id\n",
    "        end2 = min_id2 if min_id2 >= 0 else min_id\n",
    "        start2 = n_frames-1\n",
    "        clip_idx = [(start1, end1), (start2, end2)]\n",
    "\n",
    "\n",
    "        for i, (start, end) in enumerate(clip_idx):\n",
    "            frames = d[\"frames\"]\n",
    "            inc = 1 if start < end else -1\n",
    "            for f in range(start, end, inc):\n",
    "                row_vec = []\n",
    "                if i == 0:\n",
    "                    n = end-start\n",
    "                else:\n",
    "                    n = start\n",
    "\n",
    "                if i == 0:\n",
    "                    f_idx = np.arange(f-frame_window, f+frame_window, sampling_step, dtype=int)\n",
    "                else:    \n",
    "                    f_idx = np.arange(f+frame_window, f-frame_window, -sampling_step, dtype=int)\n",
    "                \n",
    "                f_idx[f_idx < 0] = 0\n",
    "                f_idx[f_idx >= n] = n\n",
    "                f_idx = f_idx.tolist()\n",
    "\n",
    "\n",
    "                for feature in phase_features:\n",
    "                    if feature == \"phase_vec\":\n",
    "                        sin = np.asarray([frames[idx][jj][\"phase_vec\"] for jj in key_joints for idx in f_idx])\n",
    "                        vel = np.concatenate([frames[idx][jj][\"velocity\"] for jj in key_joints for idx in f_idx])\n",
    "                        vel = np.reshape(vel, (3,-1))\n",
    "                        vel = np.sqrt(np.sum(vel**2, axis=0))\n",
    "                        cos = np.cos(np.arcsin(np.asarray([frames[idx][jj][\"sin_normalised_contact\"] for jj in key_joints for idx in f_idx])))\n",
    "                        cos = cos * vel\n",
    "                        row_vec.append(np.concatenate([np.asarray([sin[i], cos[i]]) for i in range(len(sin))]))\n",
    "                    elif feature == \"targetRotation\" or feature == \"targetPosition\":\n",
    "                        row_vec.append(np.concatenate([frames[idx][jj][feature].ravel() for jj in key_joints for idx in f_idx]))\n",
    "                    elif feature == \"contact\":\n",
    "                        row_vec.append(np.asarray([frames[idx][jj][\"contact\"] for jj in key_joints for idx in f_idx]))\n",
    "                    else:\n",
    "                        row_vec.append(np.concatenate([frames[f][jj][feature] for jj in key_joints]))\n",
    "\n",
    "                    # feature_data[i][feature].append(row_vec)\n",
    "                    if first_row:\n",
    "                        data_dims.append(row_vec[-1].shape)\n",
    "                        feature_list.append(feature)\n",
    "\n",
    "                for feature in pose_features:\n",
    "                    if feature==\"rotMat\":\n",
    "                        joRot = np.concatenate([frames[idx][jj][\"rotMat\"].ravel() for jj in key_joints for idx in f_idx])\n",
    "                        joRot = joRot.reshape((len(key_joints), len(f_idx), 3, 3))\n",
    "                        joRot_s = np.sqrt(np.sum(joRot**2, axis=2))\n",
    "                        joRot = joRot / joRot_s[:, :, None, :]\n",
    "\n",
    "                        row_vec.append(joRot.ravel())\n",
    "                    elif feature == \"isLeft\" or feature == \"chainPos\" or feature == \"geoDistanceNormalised\":\n",
    "                        row_vec.append(np.concatenate([[jo[feature]] for jo in frames[f]]))\n",
    "                    else:\n",
    "                        row_vec.append(np.concatenate([jo[feature] for jo in frames[f]]))\n",
    "\n",
    "                    # feature_data[i][feature].append(row_vec)\n",
    "                    if first_row:\n",
    "                        data_dims.append(row_vec[-1].shape)\n",
    "                        feature_list.append(feature)\n",
    "                for feature in cost_features:\n",
    "                    if feature == \"posCost\":\n",
    "                        targetPos = np.concatenate([frames[idx][jj][\"targetPosition\"].ravel() for jj in key_joints for idx in f_idx])\n",
    "                        targetPos = targetPos.reshape((len(key_joints), len(f_idx), 3))\n",
    "                        joPos = np.concatenate([frames[idx][jj][\"pos\"] for jj in key_joints for idx in f_idx])\n",
    "                        joPos = joPos.reshape((len(key_joints), len(f_idx), 3))\n",
    "                        posCost = np.sum(((targetPos - joPos)**2), axis=2).ravel()\n",
    "                        row_vec.append(posCost)\n",
    "                    elif feature == \"rotCost\":\n",
    "                        targetRot = np.concatenate([frames[idx][jj][\"targetRotation\"].ravel() for jj in key_joints for idx in f_idx])\n",
    "                        targetRot = targetRot.reshape((len(key_joints), len(f_idx), 3, 3))\n",
    "\n",
    "                        joRot = np.concatenate([frames[idx][jj][\"rotMat\"].ravel() for jj in key_joints for idx in f_idx])\n",
    "                        joRot = joRot.reshape((len(key_joints), len(f_idx), 3, 3))\n",
    "                        joRot_s = np.sqrt(np.sum(joRot**2, axis=2))\n",
    "                        joRot = joRot / joRot_s[:, :, None, :]\n",
    "\n",
    "                        joRotT = np.transpose(joRot, (0, 1, 3, 2))\n",
    "                        rotDiff = np.arccos((np.clip(np.trace(targetRot @ joRotT, axis1=2, axis2=3),-1,1) - 1) / 2).ravel()\n",
    "\n",
    "\n",
    "                        row_vec.append(rotDiff)\n",
    "                    elif feature == \"tPos\" or feature == \"tRot\":\n",
    "                        feature = \"pos\" if feature == \"tPos\" else \"rotMat\"\n",
    "                        row_vec.append(np.concatenate([frames[idx][jj][feature].ravel() for jj in key_joints for idx in f_idx]))\n",
    "                    else:\n",
    "                        row_vec.append(np.concatenate([frames[f][jj][feature] for jj in key_joints]))\n",
    "\n",
    "                    # feature_data[i][feature].append(row_vec)\n",
    "                    if first_row:\n",
    "                        data_dims.append(row_vec[-1].shape)\n",
    "                        feature_list.append(feature)\n",
    "\n",
    "                if first_row: first_row = False\n",
    "                # if i == 1:\n",
    "                #     row_vec = np.flip(np.concatenate(row_vec))\n",
    "                #     sequence.append(row_vec)\n",
    "                # else:\n",
    "                sequence.append(np.concatenate(row_vec))\n",
    "            data_tensors.append(np.vstack(sequence))\n",
    "            sequence = []\n"
   ],
   "metadata": {
    "collapsed": false,
    "pycharm": {
     "name": "#%%\n",
     "is_executing": true
    }
   }
  },
  {
   "cell_type": "code",
   "execution_count": 138,
   "metadata": {},
   "outputs": [
    {
     "output_type": "stream",
     "name": "stdout",
     "text": [
      "1152\n"
     ]
    }
   ],
   "source": [
    "print(len(data_tensors))"
   ]
  },
  {
   "cell_type": "code",
   "execution_count": 97,
   "outputs": [],
   "source": [
    "phase_vec_sin_l = data_tensors[0][:, :6]\n",
    "phase_vec_sin_r = data_tensors[0][:, 6:12]\n",
    "phase_vec_cos_l = data_tensors[0][:, 12:18]\n",
    "phase_vec_cos_r = data_tensors[0][:, 18:24]\n"
   ],
   "metadata": {
    "collapsed": false,
    "pycharm": {
     "name": "#%%\n"
    }
   }
  },
  {
   "cell_type": "code",
   "execution_count": 101,
   "metadata": {},
   "outputs": [
    {
     "output_type": "display_data",
     "data": {
      "application/vnd.plotly.v1+json": {
       "config": {
        "plotlyServerURL": "https://plot.ly"
       },
       "data": [
        {
         "name": "sin_left_0",
         "type": "scatter",
         "x": [
          0,
          1,
          2,
          3,
          4,
          5,
          6,
          7,
          8,
          9,
          10,
          11,
          12,
          13,
          14,
          15,
          16,
          17,
          18,
          19,
          20,
          21,
          22,
          23,
          24,
          25,
          26,
          27,
          28,
          29,
          30,
          31,
          32,
          33,
          34,
          35,
          36,
          37,
          38,
          39,
          40,
          41,
          42,
          43,
          44,
          45,
          46,
          47,
          48,
          49,
          50,
          51,
          52,
          53
         ],
         "xaxis": "x",
         "y": [
          0,
          0,
          0,
          0,
          0,
          0,
          0,
          0,
          0,
          0,
          0,
          0,
          0,
          0,
          0,
          0,
          0,
          0,
          0,
          0,
          0,
          0,
          0,
          0,
          0,
          0,
          0,
          0,
          -0.0015247087997527706,
          -0.01108074308722773,
          -0.03987185395018058,
          -0.09879043995995396,
          -0.1949233054241169,
          -0.3308175067172079,
          -0.5045981780675758,
          -0.681714862874341,
          -0.8491396733060932,
          -0.9997573483461556,
          -1.1269249233476324,
          -1.227344788555114,
          -1.2884311023751474,
          -1.314595049785215,
          -1.308519181047005,
          -1.2927553137238676,
          -1.2663703504229333,
          -1.2310169907096231,
          -1.1796031729120415,
          -1.1207371021040344,
          -1.060718597260485,
          -1.0040692709416512,
          -0.9533971008338079,
          -0.9095051617285255,
          -0.8714635657008774,
          -0.8366463235724259
         ],
         "yaxis": "y"
        },
        {
         "name": "sin_right_0",
         "type": "scatter",
         "x": [
          0,
          1,
          2,
          3,
          4,
          5,
          6,
          7,
          8,
          9,
          10,
          11,
          12,
          13,
          14,
          15,
          16,
          17,
          18,
          19,
          20,
          21,
          22,
          23,
          24,
          25,
          26,
          27,
          28,
          29,
          30,
          31,
          32,
          33,
          34,
          35,
          36,
          37,
          38,
          39,
          40,
          41,
          42,
          43,
          44,
          45,
          46,
          47,
          48,
          49,
          50,
          51,
          52,
          53
         ],
         "xaxis": "x2",
         "y": [
          0,
          0,
          0,
          0,
          0,
          0,
          0,
          0,
          0,
          0,
          0,
          0,
          0,
          -0.0015247087997527706,
          -0.01108074308722773,
          -0.03987185395018058,
          -0.09879043995995396,
          -0.1949233054241169,
          -0.3308175067172079,
          -0.5045981780675758,
          -0.681714862874341,
          -0.8491396733060932,
          -0.9997573483461556,
          -1.1269249233476324,
          -1.227344788555114,
          -1.2884311023751474,
          -1.314595049785215,
          -1.308519181047005,
          -1.2927553137238676,
          -1.2663703504229333,
          -1.2310169907096231,
          -1.1796031729120415,
          -1.1207371021040344,
          -1.060718597260485,
          -1.0040692709416512,
          -0.9533971008338079,
          -0.9095051617285255,
          -0.8714635657008774,
          -0.8366463235724259,
          -0.8003991485122567,
          -0.7631910914471002,
          -0.7245773767948182,
          -0.6797489998909241,
          -0.6163460239916975,
          -0.5227326003631788,
          -0.3969635854077589,
          -0.24786497189336182,
          -0.09344499857325854,
          0.04374180325833398,
          0.14708498773765122,
          0.21068909763130217,
          0.23758247545646835,
          0.23672750170952547,
          0.21822352116129545
         ],
         "yaxis": "y2"
        },
        {
         "name": "sin_left_1",
         "type": "scatter",
         "x": [
          0,
          1,
          2,
          3,
          4,
          5,
          6,
          7,
          8,
          9,
          10,
          11,
          12,
          13,
          14,
          15,
          16,
          17,
          18,
          19,
          20,
          21,
          22,
          23,
          24,
          25,
          26,
          27,
          28,
          29,
          30,
          31,
          32,
          33,
          34,
          35,
          36,
          37,
          38,
          39,
          40,
          41,
          42,
          43,
          44,
          45,
          46,
          47,
          48,
          49,
          50,
          51,
          52,
          53
         ],
         "xaxis": "x",
         "y": [
          0.09581795334815979,
          0.07217990607023239,
          0.02007678896188736,
          0.06579037010669708,
          0.1912032663822174,
          0.353358656167984,
          0.5577070116996765,
          0.8090980648994446,
          1.1102781295776367,
          1.4625022411346436,
          1.835584282875061,
          2.2305908203125,
          2.644794225692749,
          3.073004722595215,
          3.5068280696868896,
          3.7890782356262207,
          3.956500768661499,
          4.055655479431152,
          4.109982967376709,
          4.146519660949707,
          4.167789459228516,
          4.224138259887695,
          4.337902069091797,
          4.53499174118042,
          4.781854629516602,
          4.869920253753662,
          4.82110595703125,
          4.667835235595703,
          4.442331823552713,
          4.183020867224701,
          3.8897089503294042,
          3.66105352624333,
          3.5544495496977127,
          3.5847666992676537,
          3.7393620847513405,
          3.8324578285269943,
          3.839494657082077,
          3.7832809174035704,
          3.664640082700969,
          3.4905038550832783,
          3.243449477261649,
          2.9593261632989956,
          2.653736003456974,
          2.368467832113281,
          2.093760679542469,
          1.8268890993300477,
          1.5609713643329708,
          1.3069068346589152,
          1.0697614906786126,
          0.8547588543941438,
          0.6612894046543777,
          0.49134523993126195,
          0.34751475181505614,
          0.23515658839699324
         ],
         "yaxis": "y"
        },
        {
         "name": "sin_right_1",
         "type": "scatter",
         "x": [
          0,
          1,
          2,
          3,
          4,
          5,
          6,
          7,
          8,
          9,
          10,
          11,
          12,
          13,
          14,
          15,
          16,
          17,
          18,
          19,
          20,
          21,
          22,
          23,
          24,
          25,
          26,
          27,
          28,
          29,
          30,
          31,
          32,
          33,
          34,
          35,
          36,
          37,
          38,
          39,
          40,
          41,
          42,
          43,
          44,
          45,
          46,
          47,
          48,
          49,
          50,
          51,
          52,
          53
         ],
         "xaxis": "x2",
         "y": [
          0.353358656167984,
          0.5577070116996765,
          0.8090980648994446,
          1.1102781295776367,
          1.4625022411346436,
          1.835584282875061,
          2.2305908203125,
          2.644794225692749,
          3.073004722595215,
          3.5068280696868896,
          3.7890782356262207,
          3.956500768661499,
          4.055655479431152,
          4.109982556401274,
          4.146500554396095,
          4.167565891967221,
          4.222867032902155,
          4.3332097280945705,
          4.521844273428529,
          4.751630540537279,
          4.812309391115169,
          4.726143447240123,
          4.528217955358842,
          4.2549411766124,
          3.948695371129514,
          3.614384336122335,
          3.3471530074825426,
          3.1987161175393033,
          3.1797166613358216,
          3.276554176260358,
          3.326912682853604,
          3.312609718186794,
          3.2541509561796835,
          3.15053885674295,
          3.004499182755535,
          2.7972460814494604,
          2.556333890802126,
          2.2931671876126343,
          2.0433466494170878,
          1.7994256078775788,
          1.5611175673592168,
          1.3248802878606718,
          1.1083510840958557,
          0.9316123023842576,
          0.8010989465900379,
          0.6919616246941819,
          0.575476913356982,
          0.4414280894537729,
          0.30702028046426527,
          0.20245824017375577,
          0.17188581946576412,
          0.17944137860364984,
          0.1768974045981465,
          0.15851818972909687
         ],
         "yaxis": "y2"
        },
        {
         "name": "sin_left_2",
         "type": "scatter",
         "x": [
          0,
          1,
          2,
          3,
          4,
          5,
          6,
          7,
          8,
          9,
          10,
          11,
          12,
          13,
          14,
          15,
          16,
          17,
          18,
          19,
          20,
          21,
          22,
          23,
          24,
          25,
          26,
          27,
          28,
          29,
          30,
          31,
          32,
          33,
          34,
          35,
          36,
          37,
          38,
          39,
          40,
          41,
          42,
          43,
          44,
          45,
          46,
          47,
          48,
          49,
          50,
          51,
          52,
          53
         ],
         "xaxis": "x",
         "y": [
          0,
          0,
          0,
          0,
          0,
          0,
          0,
          0,
          0,
          0,
          0,
          0,
          0,
          0,
          0,
          0,
          0,
          0,
          0,
          0,
          0,
          0,
          0,
          -0.0015247087997527706,
          -0.01108074308722773,
          -0.03987185395018058,
          -0.09879043995995396,
          -0.1949233054241169,
          -0.3308175067172079,
          -0.5045981780675758,
          -0.681714862874341,
          -0.8491396733060932,
          -0.9997573483461556,
          -1.1269249233476324,
          -1.227344788555114,
          -1.2884311023751474,
          -1.314595049785215,
          -1.308519181047005,
          -1.2927553137238676,
          -1.2663703504229333,
          -1.2310169907096231,
          -1.1796031729120415,
          -1.1207371021040344,
          -1.060718597260485,
          -1.0040692709416512,
          -0.9533971008338079,
          -0.9095051617285255,
          -0.8714635657008774,
          -0.8366463235724259,
          -0.8003991485122567,
          -0.7631910914471002,
          -0.7245773767948182,
          -0.6797489998909241,
          -0.6163460239916975
         ],
         "yaxis": "y"
        },
        {
         "name": "sin_right_2",
         "type": "scatter",
         "x": [
          0,
          1,
          2,
          3,
          4,
          5,
          6,
          7,
          8,
          9,
          10,
          11,
          12,
          13,
          14,
          15,
          16,
          17,
          18,
          19,
          20,
          21,
          22,
          23,
          24,
          25,
          26,
          27,
          28,
          29,
          30,
          31,
          32,
          33,
          34,
          35,
          36,
          37,
          38,
          39,
          40,
          41,
          42,
          43,
          44,
          45,
          46,
          47,
          48,
          49,
          50,
          51,
          52,
          53
         ],
         "xaxis": "x2",
         "y": [
          0,
          0,
          0,
          0,
          0,
          0,
          0,
          0,
          -0.0015247087997527706,
          -0.01108074308722773,
          -0.03987185395018058,
          -0.09879043995995396,
          -0.1949233054241169,
          -0.3308175067172079,
          -0.5045981780675758,
          -0.681714862874341,
          -0.8491396733060932,
          -0.9997573483461556,
          -1.1269249233476324,
          -1.227344788555114,
          -1.2884311023751474,
          -1.314595049785215,
          -1.308519181047005,
          -1.2927553137238676,
          -1.2663703504229333,
          -1.2310169907096231,
          -1.1796031729120415,
          -1.1207371021040344,
          -1.060718597260485,
          -1.0040692709416512,
          -0.9533971008338079,
          -0.9095051617285255,
          -0.8714635657008774,
          -0.8366463235724259,
          -0.8003991485122567,
          -0.7631910914471002,
          -0.7245773767948182,
          -0.6797489998909241,
          -0.6163460239916975,
          -0.5227326003631788,
          -0.3969635854077589,
          -0.24786497189336182,
          -0.09344499857325854,
          0.04374180325833398,
          0.14708498773765122,
          0.21068909763130217,
          0.23758247545646835,
          0.23672750170952547,
          0.21822352116129545,
          0.21822352116129545,
          0.21822352116129545,
          0.21822352116129545,
          0.21822352116129545,
          0.21822352116129545
         ],
         "yaxis": "y2"
        },
        {
         "name": "sin_left_3",
         "type": "scatter",
         "x": [
          0,
          1,
          2,
          3,
          4,
          5,
          6,
          7,
          8,
          9,
          10,
          11,
          12,
          13,
          14,
          15,
          16,
          17,
          18,
          19,
          20,
          21,
          22,
          23,
          24,
          25,
          26,
          27,
          28,
          29,
          30,
          31,
          32,
          33,
          34,
          35,
          36,
          37,
          38,
          39,
          40,
          41,
          42,
          43,
          44,
          45,
          46,
          47,
          48,
          49,
          50,
          51,
          52,
          53
         ],
         "xaxis": "x",
         "y": [
          1.161332368850708,
          1.4008808135986328,
          1.6339503526687622,
          1.851975679397583,
          2.064239025115967,
          2.2786271572113037,
          2.490546941757202,
          2.6969401836395264,
          2.891094446182251,
          3.0629074573516846,
          3.166717767715454,
          3.2247369289398193,
          3.2439019680023193,
          3.225985527038574,
          3.170475482940674,
          2.9835095405578613,
          2.794541835784912,
          2.6728808879852295,
          2.652390956878662,
          2.7206149101257324,
          2.8383069038391113,
          2.926825523376465,
          2.9589383602142334,
          2.91635126515902,
          2.8170081510958553,
          2.7198205080012987,
          2.7740908512407816,
          3.0313901090053275,
          3.4448981335353697,
          3.9293334704121694,
          4.3735187642069935,
          4.739274438538795,
          4.989237962674167,
          5.048426560470109,
          4.932688303651383,
          4.615065995745572,
          4.187643455824174,
          3.709713029080475,
          3.2263416818056654,
          2.767807375341988,
          2.356843393898051,
          2.001298021036827,
          1.7021342543982827,
          1.4703937630116426,
          1.3111103391484815,
          1.2160577348138046,
          1.1538197677173347,
          1.1071541228651696,
          1.063826270840417,
          1.0198586514471768,
          0.9709136016480902,
          0.9182084232975839,
          0.8679942793835539,
          0.8359428309272194
         ],
         "yaxis": "y"
        },
        {
         "name": "sin_right_3",
         "type": "scatter",
         "x": [
          0,
          1,
          2,
          3,
          4,
          5,
          6,
          7,
          8,
          9,
          10,
          11,
          12,
          13,
          14,
          15,
          16,
          17,
          18,
          19,
          20,
          21,
          22,
          23,
          24,
          25,
          26,
          27,
          28,
          29,
          30,
          31,
          32,
          33,
          34,
          35,
          36,
          37,
          38,
          39,
          40,
          41,
          42,
          43,
          44,
          45,
          46,
          47,
          48,
          49,
          50,
          51,
          52,
          53
         ],
         "xaxis": "x2",
         "y": [
          2.2786271572113037,
          2.490546941757202,
          2.6969401836395264,
          2.891094446182251,
          3.0629074573516846,
          3.166717767715454,
          3.2247369289398193,
          3.2439019680023193,
          3.2259852044579658,
          3.1704608738552853,
          2.9833495000703185,
          2.7937008365620395,
          2.6699896128085125,
          2.644701367445829,
          2.7034190492113193,
          2.804729904495657,
          2.869175121187066,
          2.870435037926572,
          2.79333097491733,
          2.659204292721208,
          2.5273039105796546,
          2.536238945757289,
          2.7280050721353484,
          3.0556521276670203,
          3.443013460745066,
          3.796601475176801,
          4.088914808957962,
          4.291442755984017,
          4.3401981327594665,
          4.245879274857519,
          3.9801684480465687,
          3.6173825722492667,
          3.205666344604179,
          2.783459575007217,
          2.378716687883899,
          2.0139753568391385,
          1.698609185786881,
          1.4435323896912626,
          1.2805068521411822,
          1.22880167447886,
          1.2724614669177676,
          1.3513851046753467,
          1.4063544831827344,
          1.3889308492912904,
          1.2844058160863474,
          1.106210805849009,
          0.892721170552773,
          0.6826682955497284,
          0.5025721026615046,
          0.4692262554126159,
          0.43165645282953,
          0.39256139157499204,
          0.35407720470572507,
          0.31746899220748015
         ],
         "yaxis": "y2"
        },
        {
         "name": "sin_left_4",
         "type": "scatter",
         "x": [
          0,
          1,
          2,
          3,
          4,
          5,
          6,
          7,
          8,
          9,
          10,
          11,
          12,
          13,
          14,
          15,
          16,
          17,
          18,
          19,
          20,
          21,
          22,
          23,
          24,
          25,
          26,
          27,
          28,
          29,
          30,
          31,
          32,
          33,
          34,
          35,
          36,
          37,
          38,
          39,
          40,
          41,
          42,
          43,
          44,
          45,
          46,
          47,
          48,
          49,
          50,
          51,
          52,
          53
         ],
         "xaxis": "x",
         "y": [
          0,
          0,
          0,
          0,
          0,
          0,
          0,
          0,
          0,
          0,
          0,
          0,
          0,
          0,
          0,
          0,
          0,
          0,
          -0.0015247087997527706,
          -0.01108074308722773,
          -0.03987185395018058,
          -0.09879043995995396,
          -0.1949233054241169,
          -0.3308175067172079,
          -0.5045981780675758,
          -0.681714862874341,
          -0.8491396733060932,
          -0.9997573483461556,
          -1.1269249233476324,
          -1.227344788555114,
          -1.2884311023751474,
          -1.314595049785215,
          -1.308519181047005,
          -1.2927553137238676,
          -1.2663703504229333,
          -1.2310169907096231,
          -1.1796031729120415,
          -1.1207371021040344,
          -1.060718597260485,
          -1.0040692709416512,
          -0.9533971008338079,
          -0.9095051617285255,
          -0.8714635657008774,
          -0.8366463235724259,
          -0.8003991485122567,
          -0.7631910914471002,
          -0.7245773767948182,
          -0.6797489998909241,
          -0.6163460239916975,
          -0.5227326003631788,
          -0.3969635854077589,
          -0.24786497189336182,
          -0.09344499857325854,
          0.04374180325833398
         ],
         "yaxis": "y"
        },
        {
         "name": "sin_right_4",
         "type": "scatter",
         "x": [
          0,
          1,
          2,
          3,
          4,
          5,
          6,
          7,
          8,
          9,
          10,
          11,
          12,
          13,
          14,
          15,
          16,
          17,
          18,
          19,
          20,
          21,
          22,
          23,
          24,
          25,
          26,
          27,
          28,
          29,
          30,
          31,
          32,
          33,
          34,
          35,
          36,
          37,
          38,
          39,
          40,
          41,
          42,
          43,
          44,
          45,
          46,
          47,
          48,
          49,
          50,
          51,
          52,
          53
         ],
         "xaxis": "x2",
         "y": [
          0,
          0,
          0,
          -0.0015247087997527706,
          -0.01108074308722773,
          -0.03987185395018058,
          -0.09879043995995396,
          -0.1949233054241169,
          -0.3308175067172079,
          -0.5045981780675758,
          -0.681714862874341,
          -0.8491396733060932,
          -0.9997573483461556,
          -1.1269249233476324,
          -1.227344788555114,
          -1.2884311023751474,
          -1.314595049785215,
          -1.308519181047005,
          -1.2927553137238676,
          -1.2663703504229333,
          -1.2310169907096231,
          -1.1796031729120415,
          -1.1207371021040344,
          -1.060718597260485,
          -1.0040692709416512,
          -0.9533971008338079,
          -0.9095051617285255,
          -0.8714635657008774,
          -0.8366463235724259,
          -0.8003991485122567,
          -0.7631910914471002,
          -0.7245773767948182,
          -0.6797489998909241,
          -0.6163460239916975,
          -0.5227326003631788,
          -0.3969635854077589,
          -0.24786497189336182,
          -0.09344499857325854,
          0.04374180325833398,
          0.14708498773765122,
          0.21068909763130217,
          0.23758247545646835,
          0.23672750170952547,
          0.21822352116129545,
          0.21822352116129545,
          0.21822352116129545,
          0.21822352116129545,
          0.21822352116129545,
          0.21822352116129545,
          0.21822352116129545,
          0.21822352116129545,
          0.21822352116129545,
          0.21822352116129545,
          0.21822352116129545
         ],
         "yaxis": "y2"
        },
        {
         "name": "sin_left_5",
         "type": "scatter",
         "x": [
          0,
          1,
          2,
          3,
          4,
          5,
          6,
          7,
          8,
          9,
          10,
          11,
          12,
          13,
          14,
          15,
          16,
          17,
          18,
          19,
          20,
          21,
          22,
          23,
          24,
          25,
          26,
          27,
          28,
          29,
          30,
          31,
          32,
          33,
          34,
          35,
          36,
          37,
          38,
          39,
          40,
          41,
          42,
          43,
          44,
          45,
          46,
          47,
          48,
          49,
          50,
          51,
          52,
          53
         ],
         "xaxis": "x",
         "y": [
          0.5651150345802307,
          0.7301480770111084,
          0.894359290599823,
          1.0735708475112915,
          1.2531009912490845,
          1.3655873537063599,
          1.4346684217453003,
          1.4709374904632568,
          1.4779815673828125,
          1.456045150756836,
          1.4079970121383667,
          1.3239383697509766,
          1.2095882892608643,
          1.0617190599441528,
          0.8851718306541443,
          0.7302947044372559,
          0.6748014688491821,
          0.7779173851013184,
          0.9807331773456408,
          1.2444314835284693,
          1.551007394988657,
          1.9132946061200156,
          2.3170328653585623,
          2.7618441469467205,
          3.2279215100422802,
          3.5597827111671974,
          3.76906288238783,
          3.862070575761319,
          3.84388753509849,
          3.7205518493757013,
          3.4854926488145135,
          3.1678742605016117,
          2.77386296697901,
          2.288791662413891,
          1.7832066010922605,
          1.301389659615291,
          0.8870524493974398,
          0.5903277280622997,
          0.44987996715962475,
          0.46616883797688624,
          0.5389729843816021,
          0.6009420250639701,
          0.639837050783913,
          0.6566968057563972,
          0.654310001966861,
          0.6397883555028927,
          0.6194381049564501,
          0.6019361046313728,
          0.6011223925182904,
          0.6297150712950038,
          0.6816773851784692,
          0.7373604798493738,
          0.7700306594081865,
          0.7535212344231008
         ],
         "yaxis": "y"
        },
        {
         "name": "sin_right_5",
         "type": "scatter",
         "x": [
          0,
          1,
          2,
          3,
          4,
          5,
          6,
          7,
          8,
          9,
          10,
          11,
          12,
          13,
          14,
          15,
          16,
          17,
          18,
          19,
          20,
          21,
          22,
          23,
          24,
          25,
          26,
          27,
          28,
          29,
          30,
          31,
          32,
          33,
          34,
          35,
          36,
          37,
          38,
          39,
          40,
          41,
          42,
          43,
          44,
          45,
          46,
          47,
          48,
          49,
          50,
          51,
          52,
          53
         ],
         "xaxis": "x2",
         "y": [
          1.3655873537063599,
          1.4346684217453003,
          1.4709374904632568,
          1.4779814195928769,
          1.4560384415146257,
          1.4079214848021144,
          1.323539939093817,
          1.2082798685936702,
          1.0586410130812605,
          0.8795770323500426,
          0.7216553621666049,
          0.6615097383492126,
          0.7546494880837503,
          0.9393629619096285,
          1.1747206133248154,
          1.4412226994984199,
          1.7492477914263338,
          2.085141529697902,
          2.449777792193113,
          2.828412832097533,
          3.0902065410428867,
          3.2518431324354764,
          3.3219210868359865,
          3.304640228502861,
          3.2025161566773828,
          3.005991220818632,
          2.7364825257694303,
          2.396972242349587,
          1.974607681470721,
          1.5325283608071825,
          1.1120665509198635,
          0.7528890864743012,
          0.5006404129338372,
          0.391782388554914,
          0.4369037689595932,
          0.5639718696746496,
          0.703839649975419,
          0.8127483665487449,
          0.8573828990193588,
          0.824035341424207,
          0.728943122346111,
          0.6022439961460639,
          0.4734163626866043,
          0.3613971357703219,
          0.3565020717601305,
          0.35049115723540003,
          0.34378053302547085,
          0.3364465455798904,
          0.3260997643147768,
          0.31631713988351134,
          0.3042627781497263,
          0.28897655377029197,
          0.27052592195559594,
          0.24942449310183595
         ],
         "yaxis": "y2"
        }
       ],
       "layout": {
        "template": {
         "data": {
          "bar": [
           {
            "error_x": {
             "color": "#2a3f5f"
            },
            "error_y": {
             "color": "#2a3f5f"
            },
            "marker": {
             "line": {
              "color": "#E5ECF6",
              "width": 0.5
             }
            },
            "type": "bar"
           }
          ],
          "barpolar": [
           {
            "marker": {
             "line": {
              "color": "#E5ECF6",
              "width": 0.5
             }
            },
            "type": "barpolar"
           }
          ],
          "carpet": [
           {
            "aaxis": {
             "endlinecolor": "#2a3f5f",
             "gridcolor": "white",
             "linecolor": "white",
             "minorgridcolor": "white",
             "startlinecolor": "#2a3f5f"
            },
            "baxis": {
             "endlinecolor": "#2a3f5f",
             "gridcolor": "white",
             "linecolor": "white",
             "minorgridcolor": "white",
             "startlinecolor": "#2a3f5f"
            },
            "type": "carpet"
           }
          ],
          "choropleth": [
           {
            "colorbar": {
             "outlinewidth": 0,
             "ticks": ""
            },
            "type": "choropleth"
           }
          ],
          "contour": [
           {
            "colorbar": {
             "outlinewidth": 0,
             "ticks": ""
            },
            "colorscale": [
             [
              0,
              "#0d0887"
             ],
             [
              0.1111111111111111,
              "#46039f"
             ],
             [
              0.2222222222222222,
              "#7201a8"
             ],
             [
              0.3333333333333333,
              "#9c179e"
             ],
             [
              0.4444444444444444,
              "#bd3786"
             ],
             [
              0.5555555555555556,
              "#d8576b"
             ],
             [
              0.6666666666666666,
              "#ed7953"
             ],
             [
              0.7777777777777778,
              "#fb9f3a"
             ],
             [
              0.8888888888888888,
              "#fdca26"
             ],
             [
              1,
              "#f0f921"
             ]
            ],
            "type": "contour"
           }
          ],
          "contourcarpet": [
           {
            "colorbar": {
             "outlinewidth": 0,
             "ticks": ""
            },
            "type": "contourcarpet"
           }
          ],
          "heatmap": [
           {
            "colorbar": {
             "outlinewidth": 0,
             "ticks": ""
            },
            "colorscale": [
             [
              0,
              "#0d0887"
             ],
             [
              0.1111111111111111,
              "#46039f"
             ],
             [
              0.2222222222222222,
              "#7201a8"
             ],
             [
              0.3333333333333333,
              "#9c179e"
             ],
             [
              0.4444444444444444,
              "#bd3786"
             ],
             [
              0.5555555555555556,
              "#d8576b"
             ],
             [
              0.6666666666666666,
              "#ed7953"
             ],
             [
              0.7777777777777778,
              "#fb9f3a"
             ],
             [
              0.8888888888888888,
              "#fdca26"
             ],
             [
              1,
              "#f0f921"
             ]
            ],
            "type": "heatmap"
           }
          ],
          "heatmapgl": [
           {
            "colorbar": {
             "outlinewidth": 0,
             "ticks": ""
            },
            "colorscale": [
             [
              0,
              "#0d0887"
             ],
             [
              0.1111111111111111,
              "#46039f"
             ],
             [
              0.2222222222222222,
              "#7201a8"
             ],
             [
              0.3333333333333333,
              "#9c179e"
             ],
             [
              0.4444444444444444,
              "#bd3786"
             ],
             [
              0.5555555555555556,
              "#d8576b"
             ],
             [
              0.6666666666666666,
              "#ed7953"
             ],
             [
              0.7777777777777778,
              "#fb9f3a"
             ],
             [
              0.8888888888888888,
              "#fdca26"
             ],
             [
              1,
              "#f0f921"
             ]
            ],
            "type": "heatmapgl"
           }
          ],
          "histogram": [
           {
            "marker": {
             "colorbar": {
              "outlinewidth": 0,
              "ticks": ""
             }
            },
            "type": "histogram"
           }
          ],
          "histogram2d": [
           {
            "colorbar": {
             "outlinewidth": 0,
             "ticks": ""
            },
            "colorscale": [
             [
              0,
              "#0d0887"
             ],
             [
              0.1111111111111111,
              "#46039f"
             ],
             [
              0.2222222222222222,
              "#7201a8"
             ],
             [
              0.3333333333333333,
              "#9c179e"
             ],
             [
              0.4444444444444444,
              "#bd3786"
             ],
             [
              0.5555555555555556,
              "#d8576b"
             ],
             [
              0.6666666666666666,
              "#ed7953"
             ],
             [
              0.7777777777777778,
              "#fb9f3a"
             ],
             [
              0.8888888888888888,
              "#fdca26"
             ],
             [
              1,
              "#f0f921"
             ]
            ],
            "type": "histogram2d"
           }
          ],
          "histogram2dcontour": [
           {
            "colorbar": {
             "outlinewidth": 0,
             "ticks": ""
            },
            "colorscale": [
             [
              0,
              "#0d0887"
             ],
             [
              0.1111111111111111,
              "#46039f"
             ],
             [
              0.2222222222222222,
              "#7201a8"
             ],
             [
              0.3333333333333333,
              "#9c179e"
             ],
             [
              0.4444444444444444,
              "#bd3786"
             ],
             [
              0.5555555555555556,
              "#d8576b"
             ],
             [
              0.6666666666666666,
              "#ed7953"
             ],
             [
              0.7777777777777778,
              "#fb9f3a"
             ],
             [
              0.8888888888888888,
              "#fdca26"
             ],
             [
              1,
              "#f0f921"
             ]
            ],
            "type": "histogram2dcontour"
           }
          ],
          "mesh3d": [
           {
            "colorbar": {
             "outlinewidth": 0,
             "ticks": ""
            },
            "type": "mesh3d"
           }
          ],
          "parcoords": [
           {
            "line": {
             "colorbar": {
              "outlinewidth": 0,
              "ticks": ""
             }
            },
            "type": "parcoords"
           }
          ],
          "pie": [
           {
            "automargin": true,
            "type": "pie"
           }
          ],
          "scatter": [
           {
            "marker": {
             "colorbar": {
              "outlinewidth": 0,
              "ticks": ""
             }
            },
            "type": "scatter"
           }
          ],
          "scatter3d": [
           {
            "line": {
             "colorbar": {
              "outlinewidth": 0,
              "ticks": ""
             }
            },
            "marker": {
             "colorbar": {
              "outlinewidth": 0,
              "ticks": ""
             }
            },
            "type": "scatter3d"
           }
          ],
          "scattercarpet": [
           {
            "marker": {
             "colorbar": {
              "outlinewidth": 0,
              "ticks": ""
             }
            },
            "type": "scattercarpet"
           }
          ],
          "scattergeo": [
           {
            "marker": {
             "colorbar": {
              "outlinewidth": 0,
              "ticks": ""
             }
            },
            "type": "scattergeo"
           }
          ],
          "scattergl": [
           {
            "marker": {
             "colorbar": {
              "outlinewidth": 0,
              "ticks": ""
             }
            },
            "type": "scattergl"
           }
          ],
          "scattermapbox": [
           {
            "marker": {
             "colorbar": {
              "outlinewidth": 0,
              "ticks": ""
             }
            },
            "type": "scattermapbox"
           }
          ],
          "scatterpolar": [
           {
            "marker": {
             "colorbar": {
              "outlinewidth": 0,
              "ticks": ""
             }
            },
            "type": "scatterpolar"
           }
          ],
          "scatterpolargl": [
           {
            "marker": {
             "colorbar": {
              "outlinewidth": 0,
              "ticks": ""
             }
            },
            "type": "scatterpolargl"
           }
          ],
          "scatterternary": [
           {
            "marker": {
             "colorbar": {
              "outlinewidth": 0,
              "ticks": ""
             }
            },
            "type": "scatterternary"
           }
          ],
          "surface": [
           {
            "colorbar": {
             "outlinewidth": 0,
             "ticks": ""
            },
            "colorscale": [
             [
              0,
              "#0d0887"
             ],
             [
              0.1111111111111111,
              "#46039f"
             ],
             [
              0.2222222222222222,
              "#7201a8"
             ],
             [
              0.3333333333333333,
              "#9c179e"
             ],
             [
              0.4444444444444444,
              "#bd3786"
             ],
             [
              0.5555555555555556,
              "#d8576b"
             ],
             [
              0.6666666666666666,
              "#ed7953"
             ],
             [
              0.7777777777777778,
              "#fb9f3a"
             ],
             [
              0.8888888888888888,
              "#fdca26"
             ],
             [
              1,
              "#f0f921"
             ]
            ],
            "type": "surface"
           }
          ],
          "table": [
           {
            "cells": {
             "fill": {
              "color": "#EBF0F8"
             },
             "line": {
              "color": "white"
             }
            },
            "header": {
             "fill": {
              "color": "#C8D4E3"
             },
             "line": {
              "color": "white"
             }
            },
            "type": "table"
           }
          ]
         },
         "layout": {
          "annotationdefaults": {
           "arrowcolor": "#2a3f5f",
           "arrowhead": 0,
           "arrowwidth": 1
          },
          "autotypenumbers": "strict",
          "coloraxis": {
           "colorbar": {
            "outlinewidth": 0,
            "ticks": ""
           }
          },
          "colorscale": {
           "diverging": [
            [
             0,
             "#8e0152"
            ],
            [
             0.1,
             "#c51b7d"
            ],
            [
             0.2,
             "#de77ae"
            ],
            [
             0.3,
             "#f1b6da"
            ],
            [
             0.4,
             "#fde0ef"
            ],
            [
             0.5,
             "#f7f7f7"
            ],
            [
             0.6,
             "#e6f5d0"
            ],
            [
             0.7,
             "#b8e186"
            ],
            [
             0.8,
             "#7fbc41"
            ],
            [
             0.9,
             "#4d9221"
            ],
            [
             1,
             "#276419"
            ]
           ],
           "sequential": [
            [
             0,
             "#0d0887"
            ],
            [
             0.1111111111111111,
             "#46039f"
            ],
            [
             0.2222222222222222,
             "#7201a8"
            ],
            [
             0.3333333333333333,
             "#9c179e"
            ],
            [
             0.4444444444444444,
             "#bd3786"
            ],
            [
             0.5555555555555556,
             "#d8576b"
            ],
            [
             0.6666666666666666,
             "#ed7953"
            ],
            [
             0.7777777777777778,
             "#fb9f3a"
            ],
            [
             0.8888888888888888,
             "#fdca26"
            ],
            [
             1,
             "#f0f921"
            ]
           ],
           "sequentialminus": [
            [
             0,
             "#0d0887"
            ],
            [
             0.1111111111111111,
             "#46039f"
            ],
            [
             0.2222222222222222,
             "#7201a8"
            ],
            [
             0.3333333333333333,
             "#9c179e"
            ],
            [
             0.4444444444444444,
             "#bd3786"
            ],
            [
             0.5555555555555556,
             "#d8576b"
            ],
            [
             0.6666666666666666,
             "#ed7953"
            ],
            [
             0.7777777777777778,
             "#fb9f3a"
            ],
            [
             0.8888888888888888,
             "#fdca26"
            ],
            [
             1,
             "#f0f921"
            ]
           ]
          },
          "colorway": [
           "#636efa",
           "#EF553B",
           "#00cc96",
           "#ab63fa",
           "#FFA15A",
           "#19d3f3",
           "#FF6692",
           "#B6E880",
           "#FF97FF",
           "#FECB52"
          ],
          "font": {
           "color": "#2a3f5f"
          },
          "geo": {
           "bgcolor": "white",
           "lakecolor": "white",
           "landcolor": "#E5ECF6",
           "showlakes": true,
           "showland": true,
           "subunitcolor": "white"
          },
          "hoverlabel": {
           "align": "left"
          },
          "hovermode": "closest",
          "mapbox": {
           "style": "light"
          },
          "paper_bgcolor": "white",
          "plot_bgcolor": "#E5ECF6",
          "polar": {
           "angularaxis": {
            "gridcolor": "white",
            "linecolor": "white",
            "ticks": ""
           },
           "bgcolor": "#E5ECF6",
           "radialaxis": {
            "gridcolor": "white",
            "linecolor": "white",
            "ticks": ""
           }
          },
          "scene": {
           "xaxis": {
            "backgroundcolor": "#E5ECF6",
            "gridcolor": "white",
            "gridwidth": 2,
            "linecolor": "white",
            "showbackground": true,
            "ticks": "",
            "zerolinecolor": "white"
           },
           "yaxis": {
            "backgroundcolor": "#E5ECF6",
            "gridcolor": "white",
            "gridwidth": 2,
            "linecolor": "white",
            "showbackground": true,
            "ticks": "",
            "zerolinecolor": "white"
           },
           "zaxis": {
            "backgroundcolor": "#E5ECF6",
            "gridcolor": "white",
            "gridwidth": 2,
            "linecolor": "white",
            "showbackground": true,
            "ticks": "",
            "zerolinecolor": "white"
           }
          },
          "shapedefaults": {
           "line": {
            "color": "#2a3f5f"
           }
          },
          "ternary": {
           "aaxis": {
            "gridcolor": "white",
            "linecolor": "white",
            "ticks": ""
           },
           "baxis": {
            "gridcolor": "white",
            "linecolor": "white",
            "ticks": ""
           },
           "bgcolor": "#E5ECF6",
           "caxis": {
            "gridcolor": "white",
            "linecolor": "white",
            "ticks": ""
           }
          },
          "title": {
           "x": 0.05
          },
          "xaxis": {
           "automargin": true,
           "gridcolor": "white",
           "linecolor": "white",
           "ticks": "",
           "title": {
            "standoff": 15
           },
           "zerolinecolor": "white",
           "zerolinewidth": 2
          },
          "yaxis": {
           "automargin": true,
           "gridcolor": "white",
           "linecolor": "white",
           "ticks": "",
           "title": {
            "standoff": 15
           },
           "zerolinecolor": "white",
           "zerolinewidth": 2
          }
         }
        },
        "xaxis": {
         "anchor": "y",
         "domain": [
          0,
          0.45
         ]
        },
        "xaxis2": {
         "anchor": "y2",
         "domain": [
          0.55,
          1
         ]
        },
        "xaxis3": {
         "anchor": "y3",
         "domain": [
          0,
          0.45
         ]
        },
        "xaxis4": {
         "anchor": "y4",
         "domain": [
          0.55,
          1
         ]
        },
        "yaxis": {
         "anchor": "x",
         "domain": [
          0.575,
          1
         ]
        },
        "yaxis2": {
         "anchor": "x2",
         "domain": [
          0.575,
          1
         ]
        },
        "yaxis3": {
         "anchor": "x3",
         "domain": [
          0,
          0.425
         ]
        },
        "yaxis4": {
         "anchor": "x4",
         "domain": [
          0,
          0.425
         ]
        }
       }
      }
     },
     "metadata": {}
    }
   ],
   "source": [
    "fig = make_subplots(rows=2, cols=2)\n",
    "n = np.arange(len(phase_vec_cos_l))\n",
    "for i in range(6):\n",
    "    fig.add_trace(go.Scatter(x=n, y=phase_vec_sin_l[:, i], name=\"sin_left_\"+str(i)), row=1, col=1)\n",
    "    fig.add_trace(go.Scatter(x=n, y=phase_vec_sin_r[:, i], name=\"sin_right_\"+str(i)), row=1, col=2)\n",
    "# fig.add_trace(go.Scatter(x=n, y=phase_vec_cos_l, name=\"cos_left\"), row=2, col=1)\n",
    "# fig.add_trace(go.Scatter(x=n, y=phase_vec_cos_r, name=\"cos_right\"), row=2, col=2)\n",
    "fig.show()\n"
   ]
  },
  {
   "cell_type": "code",
   "execution_count": 114,
   "metadata": {},
   "outputs": [],
   "source": [
    "phase_vec_sin_l = data_tensors[1][:, :6]\n",
    "phase_vec_sin_r = data_tensors[1][:, 6:12]\n",
    "phase_vec_cos_l = data_tensors[1][:, 12:18]\n",
    "phase_vec_cos_r = data_tensors[1][:, 18:24]"
   ]
  },
  {
   "cell_type": "code",
   "execution_count": 115,
   "metadata": {},
   "outputs": [
    {
     "output_type": "display_data",
     "data": {
      "application/vnd.plotly.v1+json": {
       "config": {
        "plotlyServerURL": "https://plot.ly"
       },
       "data": [
        {
         "name": "sin_left_0",
         "type": "scatter",
         "x": [
          0,
          1,
          2,
          3,
          4,
          5,
          6,
          7,
          8,
          9,
          10,
          11,
          12,
          13,
          14,
          15,
          16,
          17,
          18,
          19,
          20,
          21,
          22,
          23,
          24,
          25,
          26,
          27,
          28,
          29,
          30,
          31,
          32,
          33,
          34,
          35,
          36,
          37,
          38,
          39,
          40,
          41,
          42,
          43,
          44,
          45,
          46,
          47,
          48,
          49,
          50,
          51,
          52,
          53,
          54,
          55,
          56,
          57,
          58,
          59,
          60,
          61,
          62,
          63,
          64,
          65,
          66,
          67,
          68,
          69,
          70,
          71,
          72,
          73,
          74,
          75,
          76,
          77,
          78,
          79
         ],
         "xaxis": "x",
         "y": [
          -0.00008897510112088147,
          -0.00008897510112088147,
          -0.00008897510112088147,
          -0.00008897510112088147,
          -0.00008897510112088147,
          -0.00008897510112088147,
          -0.00008897510112088147,
          -0.00008897510112088147,
          -0.00008897510112088147,
          -0.00008897510112088147,
          -0.00008897510112088147,
          -0.00008897510112088147,
          -0.00008897510112088147,
          -0.00008897510112088147,
          -0.00008897510112088147,
          -0.00008897510112088147,
          0.000013559541909641294,
          0.0002672620755642593,
          0.000709374084289273,
          0.001357530454853455,
          0.002195171674762034,
          0.0031551905240125434,
          0.004102588830772627,
          0.004820111246820171,
          0.005002999799497667,
          0.004273035069813464,
          0.002243712231415716,
          -0.0013499851721139697,
          -0.006815365965591416,
          -0.014432311258624346,
          -0.024589056102419755,
          -0.03816256422146967,
          -0.05751305521399452,
          -0.08237643801275292,
          -0.11301325084429804,
          -0.14945492664358462,
          -0.19187362488806758,
          -0.24129882779912276,
          -0.30005864387333847,
          -0.3707258908158868,
          -0.4548052461128878,
          -0.5532562021258706,
          -0.6670686053282169,
          -0.7968095854316825,
          -0.9414359494395665,
          -1.096088858454789,
          -1.2690961856237715,
          -1.4581087437909683,
          -1.6584714771406843,
          -1.862726592462596,
          -2.0607251992038513,
          -2.2416606180380985,
          -2.3939937225275303,
          -2.5090542005516445,
          -2.5505886840787233,
          -2.4901214854114286,
          -2.2911873851737314,
          -1.9530047243790645,
          -1.4547225692123023,
          -0.8047876305661321,
          -0.06599663574714916,
          0.6294344302143311,
          1.1721125130446917,
          1.5147139480042735,
          1.6555997675019811,
          1.6233701005842986,
          1.4460590175147972,
          1.2462529902630641,
          1.0696861164819895,
          0.9154431764027954,
          0.7778518837857977,
          0.6546471664727318,
          0.543589441678799,
          0.44275161605329005,
          0.3509068702673781,
          0.2682738318577189,
          0.19818312205394453,
          0.15042175203771607,
          0.13937679888280277,
          0.15968267903276506
         ],
         "yaxis": "y"
        },
        {
         "name": "sin_right_0",
         "type": "scatter",
         "x": [
          0,
          1,
          2,
          3,
          4,
          5,
          6,
          7,
          8,
          9,
          10,
          11,
          12,
          13,
          14,
          15,
          16,
          17,
          18,
          19,
          20,
          21,
          22,
          23,
          24,
          25,
          26,
          27,
          28,
          29,
          30,
          31,
          32,
          33,
          34,
          35,
          36,
          37,
          38,
          39,
          40,
          41,
          42,
          43,
          44,
          45,
          46,
          47,
          48,
          49,
          50,
          51,
          52,
          53,
          54,
          55,
          56,
          57,
          58,
          59,
          60,
          61,
          62,
          63,
          64,
          65,
          66,
          67,
          68,
          69,
          70,
          71,
          72,
          73,
          74,
          75,
          76,
          77,
          78,
          79
         ],
         "xaxis": "x2",
         "y": [
          -0.00008897510112088147,
          0.000013559541909641294,
          0.0002672620755642593,
          0.000709374084289273,
          0.001357530454853455,
          0.002195171674762034,
          0.0031551905240125434,
          0.004102588830772627,
          0.004820111246820171,
          0.005002999799497667,
          0.004273035069813464,
          0.002243712231415716,
          -0.0013499851721139697,
          -0.006815365965591416,
          -0.014432311258624346,
          -0.024589056102419755,
          -0.03816256422146967,
          -0.05751305521399452,
          -0.08237643801275292,
          -0.11301325084429804,
          -0.14945492664358462,
          -0.19187362488806758,
          -0.24129882779912276,
          -0.30005864387333847,
          -0.3707258908158868,
          -0.4548052461128878,
          -0.5532562021258706,
          -0.6670686053282169,
          -0.7968095854316825,
          -0.9414359494395665,
          -1.096088858454789,
          -1.2690961856237715,
          -1.4581087437909683,
          -1.6584714771406843,
          -1.862726592462596,
          -2.0607251992038513,
          -2.2416606180380985,
          -2.3939937225275303,
          -2.5090542005516445,
          -2.5505886840787233,
          -2.4901214854114286,
          -2.2911873851737314,
          -1.9530047243790645,
          -1.4547225692123023,
          -0.8047876305661321,
          -0.06599663574714916,
          0.6294344302143311,
          1.1721125130446917,
          1.5147139480042735,
          1.6555997675019811,
          1.6233701005842986,
          1.4460590175147972,
          1.2462529902630641,
          1.0696861164819895,
          0.9154431764027954,
          0.7778518837857977,
          0.6546471664727318,
          0.543589441678799,
          0.44275161605329005,
          0.3509068702673781,
          0.2682738318577189,
          0.19818312205394453,
          0.15042175203771607,
          0.13937679888280277,
          0.15968267903276506,
          0.19058283660614725,
          0.21822352116129545,
          0.23672750170952547,
          0.23758247545646835,
          0.21068909763130217,
          0.14708498773765122,
          0.04374180325833398,
          -0.09344499857325854,
          -0.24786497189336182,
          -0.3969635854077589,
          -0.5227326003631788,
          -0.6163460239916975,
          -0.6797489998909241,
          -0.7245773767948182,
          -0.7631910914471002
         ],
         "yaxis": "y2"
        },
        {
         "name": "sin_left_1",
         "type": "scatter",
         "x": [
          0,
          1,
          2,
          3,
          4,
          5,
          6,
          7,
          8,
          9,
          10,
          11,
          12,
          13,
          14,
          15,
          16,
          17,
          18,
          19,
          20,
          21,
          22,
          23,
          24,
          25,
          26,
          27,
          28,
          29,
          30,
          31,
          32,
          33,
          34,
          35,
          36,
          37,
          38,
          39,
          40,
          41,
          42,
          43,
          44,
          45,
          46,
          47,
          48,
          49,
          50,
          51,
          52,
          53,
          54,
          55,
          56,
          57,
          58,
          59,
          60,
          61,
          62,
          63,
          64,
          65,
          66,
          67,
          68,
          69,
          70,
          71,
          72,
          73,
          74,
          75,
          76,
          77,
          78,
          79
         ],
         "xaxis": "x",
         "y": [
          0.28893184409527883,
          0.2889987799865013,
          0.2891212673030304,
          0.28933101565673647,
          0.2896704336732693,
          0.2901895593585784,
          0.3217230994366583,
          0.35501589712593756,
          0.38991938812644106,
          0.42613945386716506,
          0.46337601532374656,
          0.5013920848706286,
          0.5401855763491356,
          0.5791262314210781,
          0.6171010546307153,
          0.6515854959578087,
          0.6773848989329679,
          0.6841614302707458,
          0.6904849785244416,
          0.6980397995903627,
          0.7100243389577184,
          0.731052874190278,
          0.7660468480905241,
          0.8186550756584384,
          0.8887458789836773,
          0.9687506476864214,
          1.070859298668421,
          1.195847714826017,
          1.3435952478657558,
          1.5131312343590382,
          1.702146981455618,
          1.9081071815186947,
          2.1272211832072654,
          2.360612743618708,
          2.5813675511033303,
          2.7740767694372073,
          2.917582726198952,
          3.03899547920345,
          3.1324922420413994,
          3.1874717144360023,
          3.18550823791309,
          3.0931820099942313,
          3.0148261224056694,
          2.9608460524086637,
          2.9246309736834197,
          2.884213858615859,
          2.809802102611787,
          2.7196616105619804,
          2.5932157153960738,
          2.412975690107021,
          2.184153760941238,
          1.9303789248107788,
          1.7581529144654746,
          1.695243109977958,
          1.7452011548684507,
          1.9045974244767339,
          2.149218050152121,
          2.4591486140459713,
          2.7721195600664172,
          2.9905487579137886,
          2.9997464548152597,
          2.70461673152073,
          2.251640369664739,
          1.7373443224700917,
          1.2641570225750451,
          0.8974991825803234,
          0.64566731806044,
          0.5038153182248176,
          0.4210754864971275,
          0.3545726969346533,
          0.2913366206290726,
          0.23320545041483032,
          0.17966184090521073,
          0.1318465341114914,
          0.09342147150212406,
          0.07179529592273884,
          0.07395340683489017,
          0.09604632940102546,
          0.13995817819568268,
          0.2171591970219313
         ],
         "yaxis": "y"
        },
        {
         "name": "sin_right_1",
         "type": "scatter",
         "x": [
          0,
          1,
          2,
          3,
          4,
          5,
          6,
          7,
          8,
          9,
          10,
          11,
          12,
          13,
          14,
          15,
          16,
          17,
          18,
          19,
          20,
          21,
          22,
          23,
          24,
          25,
          26,
          27,
          28,
          29,
          30,
          31,
          32,
          33,
          34,
          35,
          36,
          37,
          38,
          39,
          40,
          41,
          42,
          43,
          44,
          45,
          46,
          47,
          48,
          49,
          50,
          51,
          52,
          53,
          54,
          55,
          56,
          57,
          58,
          59,
          60,
          61,
          62,
          63,
          64,
          65,
          66,
          67,
          68,
          69,
          70,
          71,
          72,
          73,
          74,
          75,
          76,
          77,
          78,
          79
         ],
         "xaxis": "x2",
         "y": [
          0.2901895593585784,
          0.3217236929039202,
          0.3550148921113766,
          0.38991168842517776,
          0.4261165434175127,
          0.4633270045506541,
          0.5013072679247925,
          0.5400626396686588,
          0.5789777078294162,
          0.6169582794343704,
          0.65149082394173,
          0.6773600958130528,
          0.6841563710308988,
          0.6903046379169495,
          0.6972676448196314,
          0.707945584199776,
          0.7265818606898312,
          0.7576572495233502,
          0.8043449208905099,
          0.8661563688374465,
          0.9356545895272272,
          1.024840121239799,
          1.134486623046643,
          1.2641618518208577,
          1.4123072636207616,
          1.576068088000806,
          1.7522422658561576,
          1.9359043474405286,
          2.1254829638139383,
          2.292676006831718,
          2.4188779839818486,
          2.4812796346401336,
          2.501275573031245,
          2.4761611742011924,
          2.406158053134721,
          2.293194954109676,
          2.1363111841819427,
          2.0315425316800857,
          2.005246030890911,
          2.0735786308525603,
          2.2392970432447834,
          2.483497839530368,
          2.800707725771627,
          3.1173904533394308,
          3.31590415973807,
          3.285939763643211,
          2.983442849138645,
          2.5761361054263223,
          2.1553298401773286,
          1.7782571343444318,
          1.4910163059482644,
          1.3169586813507965,
          1.2526459353889976,
          1.233223304451674,
          1.1949098046410132,
          1.11062707864447,
          0.96859876153908,
          0.8188097762877559,
          0.6716423791785514,
          0.5361823380173835,
          0.41895968018724977,
          0.32256894460844604,
          0.26389480115346836,
          0.2412337131915725,
          0.2438736116483773,
          0.2620973545323047,
          0.288216969555492,
          0.30946640219394134,
          0.3125601327605609,
          0.294240822639016,
          0.28320083049297845,
          0.33454572537212707,
          0.4417465065580901,
          0.5681228860807741,
          0.6851217915073705,
          0.7983796721275488,
          0.9316123023842576,
          1.1083510840958557,
          1.3248802878606718,
          1.5611175673592168
         ],
         "yaxis": "y2"
        },
        {
         "name": "sin_left_2",
         "type": "scatter",
         "x": [
          0,
          1,
          2,
          3,
          4,
          5,
          6,
          7,
          8,
          9,
          10,
          11,
          12,
          13,
          14,
          15,
          16,
          17,
          18,
          19,
          20,
          21,
          22,
          23,
          24,
          25,
          26,
          27,
          28,
          29,
          30,
          31,
          32,
          33,
          34,
          35,
          36,
          37,
          38,
          39,
          40,
          41,
          42,
          43,
          44,
          45,
          46,
          47,
          48,
          49,
          50,
          51,
          52,
          53,
          54,
          55,
          56,
          57,
          58,
          59,
          60,
          61,
          62,
          63,
          64,
          65,
          66,
          67,
          68,
          69,
          70,
          71,
          72,
          73,
          74,
          75,
          76,
          77,
          78,
          79
         ],
         "xaxis": "x",
         "y": [
          -0.00008897510112088147,
          -0.00008897510112088147,
          -0.00008897510112088147,
          -0.00008897510112088147,
          -0.00008897510112088147,
          -0.00008897510112088147,
          -0.00008897510112088147,
          -0.00008897510112088147,
          -0.00008897510112088147,
          -0.00008897510112088147,
          -0.00008897510112088147,
          0.000013559541909641294,
          0.0002672620755642593,
          0.000709374084289273,
          0.001357530454853455,
          0.002195171674762034,
          0.0031551905240125434,
          0.004102588830772627,
          0.004820111246820171,
          0.005002999799497667,
          0.004273035069813464,
          0.002243712231415716,
          -0.0013499851721139697,
          -0.006815365965591416,
          -0.014432311258624346,
          -0.024589056102419755,
          -0.03816256422146967,
          -0.05751305521399452,
          -0.08237643801275292,
          -0.11301325084429804,
          -0.14945492664358462,
          -0.19187362488806758,
          -0.24129882779912276,
          -0.30005864387333847,
          -0.3707258908158868,
          -0.4548052461128878,
          -0.5532562021258706,
          -0.6670686053282169,
          -0.7968095854316825,
          -0.9414359494395665,
          -1.096088858454789,
          -1.2690961856237715,
          -1.4581087437909683,
          -1.6584714771406843,
          -1.862726592462596,
          -2.0607251992038513,
          -2.2416606180380985,
          -2.3939937225275303,
          -2.5090542005516445,
          -2.5505886840787233,
          -2.4901214854114286,
          -2.2911873851737314,
          -1.9530047243790645,
          -1.4547225692123023,
          -0.8047876305661321,
          -0.06599663574714916,
          0.6294344302143311,
          1.1721125130446917,
          1.5147139480042735,
          1.6555997675019811,
          1.6233701005842986,
          1.4460590175147972,
          1.2462529902630641,
          1.0696861164819895,
          0.9154431764027954,
          0.7778518837857977,
          0.6546471664727318,
          0.543589441678799,
          0.44275161605329005,
          0.3509068702673781,
          0.2682738318577189,
          0.19818312205394453,
          0.15042175203771607,
          0.13937679888280277,
          0.15968267903276506,
          0.19058283660614725,
          0.21822352116129545,
          0.23672750170952547,
          0.23758247545646835,
          0.21068909763130217
         ],
         "yaxis": "y"
        },
        {
         "name": "sin_right_2",
         "type": "scatter",
         "x": [
          0,
          1,
          2,
          3,
          4,
          5,
          6,
          7,
          8,
          9,
          10,
          11,
          12,
          13,
          14,
          15,
          16,
          17,
          18,
          19,
          20,
          21,
          22,
          23,
          24,
          25,
          26,
          27,
          28,
          29,
          30,
          31,
          32,
          33,
          34,
          35,
          36,
          37,
          38,
          39,
          40,
          41,
          42,
          43,
          44,
          45,
          46,
          47,
          48,
          49,
          50,
          51,
          52,
          53,
          54,
          55,
          56,
          57,
          58,
          59,
          60,
          61,
          62,
          63,
          64,
          65,
          66,
          67,
          68,
          69,
          70,
          71,
          72,
          73,
          74,
          75,
          76,
          77,
          78,
          79
         ],
         "xaxis": "x2",
         "y": [
          0.002195171674762034,
          0.0031551905240125434,
          0.004102588830772627,
          0.004820111246820171,
          0.005002999799497667,
          0.004273035069813464,
          0.002243712231415716,
          -0.0013499851721139697,
          -0.006815365965591416,
          -0.014432311258624346,
          -0.024589056102419755,
          -0.03816256422146967,
          -0.05751305521399452,
          -0.08237643801275292,
          -0.11301325084429804,
          -0.14945492664358462,
          -0.19187362488806758,
          -0.24129882779912276,
          -0.30005864387333847,
          -0.3707258908158868,
          -0.4548052461128878,
          -0.5532562021258706,
          -0.6670686053282169,
          -0.7968095854316825,
          -0.9414359494395665,
          -1.096088858454789,
          -1.2690961856237715,
          -1.4581087437909683,
          -1.6584714771406843,
          -1.862726592462596,
          -2.0607251992038513,
          -2.2416606180380985,
          -2.3939937225275303,
          -2.5090542005516445,
          -2.5505886840787233,
          -2.4901214854114286,
          -2.2911873851737314,
          -1.9530047243790645,
          -1.4547225692123023,
          -0.8047876305661321,
          -0.06599663574714916,
          0.6294344302143311,
          1.1721125130446917,
          1.5147139480042735,
          1.6555997675019811,
          1.6233701005842986,
          1.4460590175147972,
          1.2462529902630641,
          1.0696861164819895,
          0.9154431764027954,
          0.7778518837857977,
          0.6546471664727318,
          0.543589441678799,
          0.44275161605329005,
          0.3509068702673781,
          0.2682738318577189,
          0.19818312205394453,
          0.15042175203771607,
          0.13937679888280277,
          0.15968267903276506,
          0.19058283660614725,
          0.21822352116129545,
          0.23672750170952547,
          0.23758247545646835,
          0.21068909763130217,
          0.14708498773765122,
          0.04374180325833398,
          -0.09344499857325854,
          -0.24786497189336182,
          -0.3969635854077589,
          -0.5227326003631788,
          -0.6163460239916975,
          -0.6797489998909241,
          -0.7245773767948182,
          -0.7631910914471002,
          -0.8003991485122567,
          -0.8366463235724259,
          -0.8714635657008774,
          -0.9095051617285255,
          -0.9533971008338079
         ],
         "yaxis": "y2"
        },
        {
         "name": "sin_left_3",
         "type": "scatter",
         "x": [
          0,
          1,
          2,
          3,
          4,
          5,
          6,
          7,
          8,
          9,
          10,
          11,
          12,
          13,
          14,
          15,
          16,
          17,
          18,
          19,
          20,
          21,
          22,
          23,
          24,
          25,
          26,
          27,
          28,
          29,
          30,
          31,
          32,
          33,
          34,
          35,
          36,
          37,
          38,
          39,
          40,
          41,
          42,
          43,
          44,
          45,
          46,
          47,
          48,
          49,
          50,
          51,
          52,
          53,
          54,
          55,
          56,
          57,
          58,
          59,
          60,
          61,
          62,
          63,
          64,
          65,
          66,
          67,
          68,
          69,
          70,
          71,
          72,
          73,
          74,
          75,
          76,
          77,
          78,
          79
         ],
         "xaxis": "x",
         "y": [
          0.5596974780472864,
          0.5656352220790686,
          0.5722373778467874,
          0.579346768195364,
          0.5866471314695656,
          0.5934868709081774,
          0.6063881529948395,
          0.6165700974454884,
          0.6233362848896492,
          0.625989699911511,
          0.6241943517552224,
          0.6193115582897213,
          0.6171758396837148,
          0.6125830338467688,
          0.6059233826334802,
          0.598069661228823,
          0.5929035215114373,
          0.5932285696728642,
          0.6170418292873459,
          0.6680897591145315,
          0.7444633065797368,
          0.84003744375641,
          0.9469311183121997,
          1.0567031619505816,
          1.1602419406613866,
          1.2471528174738025,
          1.3318029145251815,
          1.4121692217927662,
          1.4870830338439838,
          1.5565364526969034,
          1.621705102149149,
          1.687054334137039,
          1.741650011310573,
          1.78267468484955,
          1.800951965692447,
          1.8005333347368604,
          1.7898707994251255,
          1.7632385533437256,
          1.7217338268538513,
          1.666341932311859,
          1.5992542166054833,
          1.5289347136486273,
          1.4440721348678238,
          1.3394898017250858,
          1.2120524274651407,
          1.0712478696975547,
          0.9544748103116906,
          0.9291821283955202,
          1.0269392283608536,
          1.24996224096282,
          1.5719029031889478,
          1.9236388262155322,
          2.2927778884502668,
          2.6229897706530005,
          2.8294236426225874,
          2.8403553921289904,
          2.632805574938911,
          2.2346538856835467,
          1.746222016638215,
          1.2789503621205647,
          0.9194712834059348,
          0.6950061560432638,
          0.5771647077362803,
          0.5103963490204025,
          0.4577556467587325,
          0.4037082118120921,
          0.33961221030213956,
          0.28158117499761737,
          0.23602406436063694,
          0.20669084388975076,
          0.18818291504686724,
          0.17940453178842486,
          0.1847444730282174,
          0.2105839608767741,
          0.26556546957662097,
          0.358962012293675,
          0.4967584143233364,
          0.6755225354020622,
          0.886010266832745,
          1.1017053003984516
         ],
         "yaxis": "y"
        },
        {
         "name": "sin_right_3",
         "type": "scatter",
         "x": [
          0,
          1,
          2,
          3,
          4,
          5,
          6,
          7,
          8,
          9,
          10,
          11,
          12,
          13,
          14,
          15,
          16,
          17,
          18,
          19,
          20,
          21,
          22,
          23,
          24,
          25,
          26,
          27,
          28,
          29,
          30,
          31,
          32,
          33,
          34,
          35,
          36,
          37,
          38,
          39,
          40,
          41,
          42,
          43,
          44,
          45,
          46,
          47,
          48,
          49,
          50,
          51,
          52,
          53,
          54,
          55,
          56,
          57,
          58,
          59,
          60,
          61,
          62,
          63,
          64,
          65,
          66,
          67,
          68,
          69,
          70,
          71,
          72,
          73,
          74,
          75,
          76,
          77,
          78,
          79
         ],
         "xaxis": "x2",
         "y": [
          0.5934240984525442,
          0.6062855746082232,
          0.6164297769993679,
          0.6231764231206219,
          0.6258448681993561,
          0.6241036595312975,
          0.6192888815827718,
          0.6171712757891972,
          0.6124230396399443,
          0.6052531248188503,
          0.5963186787826642,
          0.5892774094438578,
          0.5867316438379236,
          0.6062558898386888,
          0.6511087291609875,
          0.7190297226633889,
          0.8039376197935588,
          0.8983423836939681,
          0.9942308356317381,
          1.0829319249679246,
          1.1547755733760676,
          1.2230137694697285,
          1.2851623316708736,
          1.3389615313890169,
          1.382458603127569,
          1.4140584757124202,
          1.434767735713608,
          1.4334824318996906,
          1.4091622579659255,
          1.3595022838740527,
          1.2961743149124094,
          1.2361771776435817,
          1.1881594391113757,
          1.1660518181080968,
          1.1814451305573352,
          1.2416573160632547,
          1.3513784670457167,
          1.4871055902650026,
          1.6102450310831675,
          1.6655989127988404,
          1.611633775380514,
          1.475161695409884,
          1.3614854599858992,
          1.305649172031501,
          1.2736378648688405,
          1.2305660135322565,
          1.1787323542107284,
          1.1678996894749303,
          1.1668804474039822,
          1.1305303226058567,
          1.0516140810529149,
          0.942881181477106,
          0.812632635685757,
          0.6750744194227215,
          0.5424568175661697,
          0.4292164297348922,
          0.34721813537767243,
          0.30231467815930857,
          0.2924055434759996,
          0.31484241114048556,
          0.3631910540132,
          0.419724332785579,
          0.4850218205101777,
          0.5595271304505084,
          0.6509947120313765,
          0.7422987417339052,
          0.8115788276827471,
          0.8496964545660086,
          0.8548094091962409,
          0.8378401319123304,
          0.820897432543492,
          0.8262727536153271,
          0.8589086385672822,
          0.9113059228003084,
          0.9669591505605434,
          1.017692427712968,
          1.063826270840417,
          1.1071541228651696,
          1.1538197677173347,
          1.2160577348138046
         ],
         "yaxis": "y2"
        },
        {
         "name": "sin_left_4",
         "type": "scatter",
         "x": [
          0,
          1,
          2,
          3,
          4,
          5,
          6,
          7,
          8,
          9,
          10,
          11,
          12,
          13,
          14,
          15,
          16,
          17,
          18,
          19,
          20,
          21,
          22,
          23,
          24,
          25,
          26,
          27,
          28,
          29,
          30,
          31,
          32,
          33,
          34,
          35,
          36,
          37,
          38,
          39,
          40,
          41,
          42,
          43,
          44,
          45,
          46,
          47,
          48,
          49,
          50,
          51,
          52,
          53,
          54,
          55,
          56,
          57,
          58,
          59,
          60,
          61,
          62,
          63,
          64,
          65,
          66,
          67,
          68,
          69,
          70,
          71,
          72,
          73,
          74,
          75,
          76,
          77,
          78,
          79
         ],
         "xaxis": "x",
         "y": [
          -0.00008897510112088147,
          -0.00008897510112088147,
          -0.00008897510112088147,
          -0.00008897510112088147,
          -0.00008897510112088147,
          -0.00008897510112088147,
          0.000013559541909641294,
          0.0002672620755642593,
          0.000709374084289273,
          0.001357530454853455,
          0.002195171674762034,
          0.0031551905240125434,
          0.004102588830772627,
          0.004820111246820171,
          0.005002999799497667,
          0.004273035069813464,
          0.002243712231415716,
          -0.0013499851721139697,
          -0.006815365965591416,
          -0.014432311258624346,
          -0.024589056102419755,
          -0.03816256422146967,
          -0.05751305521399452,
          -0.08237643801275292,
          -0.11301325084429804,
          -0.14945492664358462,
          -0.19187362488806758,
          -0.24129882779912276,
          -0.30005864387333847,
          -0.3707258908158868,
          -0.4548052461128878,
          -0.5532562021258706,
          -0.6670686053282169,
          -0.7968095854316825,
          -0.9414359494395665,
          -1.096088858454789,
          -1.2690961856237715,
          -1.4581087437909683,
          -1.6584714771406843,
          -1.862726592462596,
          -2.0607251992038513,
          -2.2416606180380985,
          -2.3939937225275303,
          -2.5090542005516445,
          -2.5505886840787233,
          -2.4901214854114286,
          -2.2911873851737314,
          -1.9530047243790645,
          -1.4547225692123023,
          -0.8047876305661321,
          -0.06599663574714916,
          0.6294344302143311,
          1.1721125130446917,
          1.5147139480042735,
          1.6555997675019811,
          1.6233701005842986,
          1.4460590175147972,
          1.2462529902630641,
          1.0696861164819895,
          0.9154431764027954,
          0.7778518837857977,
          0.6546471664727318,
          0.543589441678799,
          0.44275161605329005,
          0.3509068702673781,
          0.2682738318577189,
          0.19818312205394453,
          0.15042175203771607,
          0.13937679888280277,
          0.15968267903276506,
          0.19058283660614725,
          0.21822352116129545,
          0.23672750170952547,
          0.23758247545646835,
          0.21068909763130217,
          0.14708498773765122,
          0.04374180325833398,
          -0.09344499857325854,
          -0.24786497189336182,
          -0.3969635854077589
         ],
         "yaxis": "y"
        },
        {
         "name": "sin_right_4",
         "type": "scatter",
         "x": [
          0,
          1,
          2,
          3,
          4,
          5,
          6,
          7,
          8,
          9,
          10,
          11,
          12,
          13,
          14,
          15,
          16,
          17,
          18,
          19,
          20,
          21,
          22,
          23,
          24,
          25,
          26,
          27,
          28,
          29,
          30,
          31,
          32,
          33,
          34,
          35,
          36,
          37,
          38,
          39,
          40,
          41,
          42,
          43,
          44,
          45,
          46,
          47,
          48,
          49,
          50,
          51,
          52,
          53,
          54,
          55,
          56,
          57,
          58,
          59,
          60,
          61,
          62,
          63,
          64,
          65,
          66,
          67,
          68,
          69,
          70,
          71,
          72,
          73,
          74,
          75,
          76,
          77,
          78,
          79
         ],
         "xaxis": "x2",
         "y": [
          0.004273035069813464,
          0.002243712231415716,
          -0.0013499851721139697,
          -0.006815365965591416,
          -0.014432311258624346,
          -0.024589056102419755,
          -0.03816256422146967,
          -0.05751305521399452,
          -0.08237643801275292,
          -0.11301325084429804,
          -0.14945492664358462,
          -0.19187362488806758,
          -0.24129882779912276,
          -0.30005864387333847,
          -0.3707258908158868,
          -0.4548052461128878,
          -0.5532562021258706,
          -0.6670686053282169,
          -0.7968095854316825,
          -0.9414359494395665,
          -1.096088858454789,
          -1.2690961856237715,
          -1.4581087437909683,
          -1.6584714771406843,
          -1.862726592462596,
          -2.0607251992038513,
          -2.2416606180380985,
          -2.3939937225275303,
          -2.5090542005516445,
          -2.5505886840787233,
          -2.4901214854114286,
          -2.2911873851737314,
          -1.9530047243790645,
          -1.4547225692123023,
          -0.8047876305661321,
          -0.06599663574714916,
          0.6294344302143311,
          1.1721125130446917,
          1.5147139480042735,
          1.6555997675019811,
          1.6233701005842986,
          1.4460590175147972,
          1.2462529902630641,
          1.0696861164819895,
          0.9154431764027954,
          0.7778518837857977,
          0.6546471664727318,
          0.543589441678799,
          0.44275161605329005,
          0.3509068702673781,
          0.2682738318577189,
          0.19818312205394453,
          0.15042175203771607,
          0.13937679888280277,
          0.15968267903276506,
          0.19058283660614725,
          0.21822352116129545,
          0.23672750170952547,
          0.23758247545646835,
          0.21068909763130217,
          0.14708498773765122,
          0.04374180325833398,
          -0.09344499857325854,
          -0.24786497189336182,
          -0.3969635854077589,
          -0.5227326003631788,
          -0.6163460239916975,
          -0.6797489998909241,
          -0.7245773767948182,
          -0.7631910914471002,
          -0.8003991485122567,
          -0.8366463235724259,
          -0.8714635657008774,
          -0.9095051617285255,
          -0.9533971008338079,
          -1.0040692709416512,
          -1.060718597260485,
          -1.1207371021040344,
          -1.1796031729120415,
          -1.2310169907096231
         ],
         "yaxis": "y2"
        },
        {
         "name": "sin_left_5",
         "type": "scatter",
         "x": [
          0,
          1,
          2,
          3,
          4,
          5,
          6,
          7,
          8,
          9,
          10,
          11,
          12,
          13,
          14,
          15,
          16,
          17,
          18,
          19,
          20,
          21,
          22,
          23,
          24,
          25,
          26,
          27,
          28,
          29,
          30,
          31,
          32,
          33,
          34,
          35,
          36,
          37,
          38,
          39,
          40,
          41,
          42,
          43,
          44,
          45,
          46,
          47,
          48,
          49,
          50,
          51,
          52,
          53,
          54,
          55,
          56,
          57,
          58,
          59,
          60,
          61,
          62,
          63,
          64,
          65,
          66,
          67,
          68,
          69,
          70,
          71,
          72,
          73,
          74,
          75,
          76,
          77,
          78,
          79
         ],
         "xaxis": "x",
         "y": [
          0.007273310732178432,
          0.007251458220050705,
          0.006691166291088783,
          0.005421668422215438,
          0.0034022831222736897,
          0.0038328306499116212,
          0.012090495537058387,
          0.02610809947118706,
          0.04780329638583526,
          0.07947208439364928,
          0.12248241439065863,
          0.1766585566983667,
          0.24106966213648678,
          0.3138595153112255,
          0.3936128293234588,
          0.4795768727058919,
          0.5717537732009739,
          0.6708495565612819,
          0.7776821463132835,
          0.8917175230138913,
          1.0101122230676602,
          1.1289466309428182,
          1.2442211220937787,
          1.3520103898003475,
          1.448774840233933,
          1.531615516266205,
          1.6026161641567733,
          1.6612946148706074,
          1.7065041610842433,
          1.7357001086483541,
          1.7444573543220236,
          1.7259537578243014,
          1.68823659425444,
          1.6310390697512644,
          1.5507702127467402,
          1.4495464588035263,
          1.3319563845752578,
          1.2278882015378818,
          1.142652444537176,
          1.0782988366093993,
          1.0325225409271144,
          1.0000312402399352,
          0.9926306135196336,
          1.0210825100734515,
          1.0926754482772492,
          1.2137044896350977,
          1.385691195492268,
          1.5958277568268469,
          1.8075418015198648,
          1.9610905313821825,
          1.9859733733585303,
          1.834507307253303,
          1.5681978106278252,
          1.2432229769423493,
          0.9244012773134925,
          0.6639572749005892,
          0.4756907223175235,
          0.3544518773707515,
          0.2632907837120534,
          0.18507101873953116,
          0.12316653494675481,
          0.08702959881543552,
          0.06375445931595639,
          0.04965678610095312,
          0.043786226229187576,
          0.04589472345499755,
          0.05434890317954783,
          0.06813783190512762,
          0.08955738345006936,
          0.12383408042287386,
          0.17372863131039054,
          0.2480334767233611,
          0.34756207343279183,
          0.46584862203187544,
          0.5871820836338432,
          0.6890168398904709,
          0.7510460897363863,
          0.7676679386228642,
          0.7352330226908415,
          0.6799222208292032
         ],
         "yaxis": "y"
        },
        {
         "name": "sin_right_5",
         "type": "scatter",
         "x": [
          0,
          1,
          2,
          3,
          4,
          5,
          6,
          7,
          8,
          9,
          10,
          11,
          12,
          13,
          14,
          15,
          16,
          17,
          18,
          19,
          20,
          21,
          22,
          23,
          24,
          25,
          26,
          27,
          28,
          29,
          30,
          31,
          32,
          33,
          34,
          35,
          36,
          37,
          38,
          39,
          40,
          41,
          42,
          43,
          44,
          45,
          46,
          47,
          48,
          49,
          50,
          51,
          52,
          53,
          54,
          55,
          56,
          57,
          58,
          59,
          60,
          61,
          62,
          63,
          64,
          65,
          66,
          67,
          68,
          69,
          70,
          71,
          72,
          73,
          74,
          75,
          76,
          77,
          78,
          79
         ],
         "xaxis": "x2",
         "y": [
          0.0038322737593620825,
          0.012090052831572759,
          0.026107906406902325,
          0.04779081113882993,
          0.07938417429290641,
          0.12212381977958853,
          0.17557813855098894,
          0.23842951330343476,
          0.3083732264295762,
          0.38360825859975906,
          0.4631927762319597,
          0.5471831892156293,
          0.636427062208564,
          0.7317055517820995,
          0.8323000056131317,
          0.9352926964715246,
          1.036727926918364,
          1.1323190547618704,
          1.2173428522693104,
          1.286748690277014,
          1.3355041551257893,
          1.3629566745646162,
          1.367345120524285,
          1.3489512569505462,
          1.3102449742020763,
          1.2558061394973925,
          1.1920327689439083,
          1.1376193204899971,
          1.1046283943692539,
          1.0995041779456995,
          1.1254245553075695,
          1.1772753676732395,
          1.2644793598863802,
          1.373620328203626,
          1.4817951181245617,
          1.5533736382315113,
          1.5455701542646811,
          1.454453444748776,
          1.298202948173665,
          1.1133718918312783,
          0.9501499694328992,
          0.8490986056280981,
          0.8128858669835242,
          0.8041149110291088,
          0.7835773610231762,
          0.7352874115004914,
          0.6569882841924297,
          0.5702756602673229,
          0.48061931494145443,
          0.39207758948060634,
          0.3099404801134215,
          0.23765033472490138,
          0.1856593166456454,
          0.15083901922752066,
          0.12729106933964526,
          0.110805235904606,
          0.10755926667921446,
          0.10981665916881297,
          0.11771816195829707,
          0.13790935872425522,
          0.18103447629337469,
          0.245860116735058,
          0.3133867727818772,
          0.36353430582926416,
          0.390687699128022,
          0.3972938152723504,
          0.412561313289801,
          0.44191577877132304,
          0.4791486332360417,
          0.5153656686680209,
          0.5471010613267498,
          0.5752500646675263,
          0.6043474340226318,
          0.6277458531430685,
          0.6497836651304786,
          0.6707841821461671,
          0.6902630901877266,
          0.709770054325737,
          0.7298207639386243,
          0.7487087436494034
         ],
         "yaxis": "y2"
        }
       ],
       "layout": {
        "template": {
         "data": {
          "bar": [
           {
            "error_x": {
             "color": "#2a3f5f"
            },
            "error_y": {
             "color": "#2a3f5f"
            },
            "marker": {
             "line": {
              "color": "#E5ECF6",
              "width": 0.5
             }
            },
            "type": "bar"
           }
          ],
          "barpolar": [
           {
            "marker": {
             "line": {
              "color": "#E5ECF6",
              "width": 0.5
             }
            },
            "type": "barpolar"
           }
          ],
          "carpet": [
           {
            "aaxis": {
             "endlinecolor": "#2a3f5f",
             "gridcolor": "white",
             "linecolor": "white",
             "minorgridcolor": "white",
             "startlinecolor": "#2a3f5f"
            },
            "baxis": {
             "endlinecolor": "#2a3f5f",
             "gridcolor": "white",
             "linecolor": "white",
             "minorgridcolor": "white",
             "startlinecolor": "#2a3f5f"
            },
            "type": "carpet"
           }
          ],
          "choropleth": [
           {
            "colorbar": {
             "outlinewidth": 0,
             "ticks": ""
            },
            "type": "choropleth"
           }
          ],
          "contour": [
           {
            "colorbar": {
             "outlinewidth": 0,
             "ticks": ""
            },
            "colorscale": [
             [
              0,
              "#0d0887"
             ],
             [
              0.1111111111111111,
              "#46039f"
             ],
             [
              0.2222222222222222,
              "#7201a8"
             ],
             [
              0.3333333333333333,
              "#9c179e"
             ],
             [
              0.4444444444444444,
              "#bd3786"
             ],
             [
              0.5555555555555556,
              "#d8576b"
             ],
             [
              0.6666666666666666,
              "#ed7953"
             ],
             [
              0.7777777777777778,
              "#fb9f3a"
             ],
             [
              0.8888888888888888,
              "#fdca26"
             ],
             [
              1,
              "#f0f921"
             ]
            ],
            "type": "contour"
           }
          ],
          "contourcarpet": [
           {
            "colorbar": {
             "outlinewidth": 0,
             "ticks": ""
            },
            "type": "contourcarpet"
           }
          ],
          "heatmap": [
           {
            "colorbar": {
             "outlinewidth": 0,
             "ticks": ""
            },
            "colorscale": [
             [
              0,
              "#0d0887"
             ],
             [
              0.1111111111111111,
              "#46039f"
             ],
             [
              0.2222222222222222,
              "#7201a8"
             ],
             [
              0.3333333333333333,
              "#9c179e"
             ],
             [
              0.4444444444444444,
              "#bd3786"
             ],
             [
              0.5555555555555556,
              "#d8576b"
             ],
             [
              0.6666666666666666,
              "#ed7953"
             ],
             [
              0.7777777777777778,
              "#fb9f3a"
             ],
             [
              0.8888888888888888,
              "#fdca26"
             ],
             [
              1,
              "#f0f921"
             ]
            ],
            "type": "heatmap"
           }
          ],
          "heatmapgl": [
           {
            "colorbar": {
             "outlinewidth": 0,
             "ticks": ""
            },
            "colorscale": [
             [
              0,
              "#0d0887"
             ],
             [
              0.1111111111111111,
              "#46039f"
             ],
             [
              0.2222222222222222,
              "#7201a8"
             ],
             [
              0.3333333333333333,
              "#9c179e"
             ],
             [
              0.4444444444444444,
              "#bd3786"
             ],
             [
              0.5555555555555556,
              "#d8576b"
             ],
             [
              0.6666666666666666,
              "#ed7953"
             ],
             [
              0.7777777777777778,
              "#fb9f3a"
             ],
             [
              0.8888888888888888,
              "#fdca26"
             ],
             [
              1,
              "#f0f921"
             ]
            ],
            "type": "heatmapgl"
           }
          ],
          "histogram": [
           {
            "marker": {
             "colorbar": {
              "outlinewidth": 0,
              "ticks": ""
             }
            },
            "type": "histogram"
           }
          ],
          "histogram2d": [
           {
            "colorbar": {
             "outlinewidth": 0,
             "ticks": ""
            },
            "colorscale": [
             [
              0,
              "#0d0887"
             ],
             [
              0.1111111111111111,
              "#46039f"
             ],
             [
              0.2222222222222222,
              "#7201a8"
             ],
             [
              0.3333333333333333,
              "#9c179e"
             ],
             [
              0.4444444444444444,
              "#bd3786"
             ],
             [
              0.5555555555555556,
              "#d8576b"
             ],
             [
              0.6666666666666666,
              "#ed7953"
             ],
             [
              0.7777777777777778,
              "#fb9f3a"
             ],
             [
              0.8888888888888888,
              "#fdca26"
             ],
             [
              1,
              "#f0f921"
             ]
            ],
            "type": "histogram2d"
           }
          ],
          "histogram2dcontour": [
           {
            "colorbar": {
             "outlinewidth": 0,
             "ticks": ""
            },
            "colorscale": [
             [
              0,
              "#0d0887"
             ],
             [
              0.1111111111111111,
              "#46039f"
             ],
             [
              0.2222222222222222,
              "#7201a8"
             ],
             [
              0.3333333333333333,
              "#9c179e"
             ],
             [
              0.4444444444444444,
              "#bd3786"
             ],
             [
              0.5555555555555556,
              "#d8576b"
             ],
             [
              0.6666666666666666,
              "#ed7953"
             ],
             [
              0.7777777777777778,
              "#fb9f3a"
             ],
             [
              0.8888888888888888,
              "#fdca26"
             ],
             [
              1,
              "#f0f921"
             ]
            ],
            "type": "histogram2dcontour"
           }
          ],
          "mesh3d": [
           {
            "colorbar": {
             "outlinewidth": 0,
             "ticks": ""
            },
            "type": "mesh3d"
           }
          ],
          "parcoords": [
           {
            "line": {
             "colorbar": {
              "outlinewidth": 0,
              "ticks": ""
             }
            },
            "type": "parcoords"
           }
          ],
          "pie": [
           {
            "automargin": true,
            "type": "pie"
           }
          ],
          "scatter": [
           {
            "marker": {
             "colorbar": {
              "outlinewidth": 0,
              "ticks": ""
             }
            },
            "type": "scatter"
           }
          ],
          "scatter3d": [
           {
            "line": {
             "colorbar": {
              "outlinewidth": 0,
              "ticks": ""
             }
            },
            "marker": {
             "colorbar": {
              "outlinewidth": 0,
              "ticks": ""
             }
            },
            "type": "scatter3d"
           }
          ],
          "scattercarpet": [
           {
            "marker": {
             "colorbar": {
              "outlinewidth": 0,
              "ticks": ""
             }
            },
            "type": "scattercarpet"
           }
          ],
          "scattergeo": [
           {
            "marker": {
             "colorbar": {
              "outlinewidth": 0,
              "ticks": ""
             }
            },
            "type": "scattergeo"
           }
          ],
          "scattergl": [
           {
            "marker": {
             "colorbar": {
              "outlinewidth": 0,
              "ticks": ""
             }
            },
            "type": "scattergl"
           }
          ],
          "scattermapbox": [
           {
            "marker": {
             "colorbar": {
              "outlinewidth": 0,
              "ticks": ""
             }
            },
            "type": "scattermapbox"
           }
          ],
          "scatterpolar": [
           {
            "marker": {
             "colorbar": {
              "outlinewidth": 0,
              "ticks": ""
             }
            },
            "type": "scatterpolar"
           }
          ],
          "scatterpolargl": [
           {
            "marker": {
             "colorbar": {
              "outlinewidth": 0,
              "ticks": ""
             }
            },
            "type": "scatterpolargl"
           }
          ],
          "scatterternary": [
           {
            "marker": {
             "colorbar": {
              "outlinewidth": 0,
              "ticks": ""
             }
            },
            "type": "scatterternary"
           }
          ],
          "surface": [
           {
            "colorbar": {
             "outlinewidth": 0,
             "ticks": ""
            },
            "colorscale": [
             [
              0,
              "#0d0887"
             ],
             [
              0.1111111111111111,
              "#46039f"
             ],
             [
              0.2222222222222222,
              "#7201a8"
             ],
             [
              0.3333333333333333,
              "#9c179e"
             ],
             [
              0.4444444444444444,
              "#bd3786"
             ],
             [
              0.5555555555555556,
              "#d8576b"
             ],
             [
              0.6666666666666666,
              "#ed7953"
             ],
             [
              0.7777777777777778,
              "#fb9f3a"
             ],
             [
              0.8888888888888888,
              "#fdca26"
             ],
             [
              1,
              "#f0f921"
             ]
            ],
            "type": "surface"
           }
          ],
          "table": [
           {
            "cells": {
             "fill": {
              "color": "#EBF0F8"
             },
             "line": {
              "color": "white"
             }
            },
            "header": {
             "fill": {
              "color": "#C8D4E3"
             },
             "line": {
              "color": "white"
             }
            },
            "type": "table"
           }
          ]
         },
         "layout": {
          "annotationdefaults": {
           "arrowcolor": "#2a3f5f",
           "arrowhead": 0,
           "arrowwidth": 1
          },
          "autotypenumbers": "strict",
          "coloraxis": {
           "colorbar": {
            "outlinewidth": 0,
            "ticks": ""
           }
          },
          "colorscale": {
           "diverging": [
            [
             0,
             "#8e0152"
            ],
            [
             0.1,
             "#c51b7d"
            ],
            [
             0.2,
             "#de77ae"
            ],
            [
             0.3,
             "#f1b6da"
            ],
            [
             0.4,
             "#fde0ef"
            ],
            [
             0.5,
             "#f7f7f7"
            ],
            [
             0.6,
             "#e6f5d0"
            ],
            [
             0.7,
             "#b8e186"
            ],
            [
             0.8,
             "#7fbc41"
            ],
            [
             0.9,
             "#4d9221"
            ],
            [
             1,
             "#276419"
            ]
           ],
           "sequential": [
            [
             0,
             "#0d0887"
            ],
            [
             0.1111111111111111,
             "#46039f"
            ],
            [
             0.2222222222222222,
             "#7201a8"
            ],
            [
             0.3333333333333333,
             "#9c179e"
            ],
            [
             0.4444444444444444,
             "#bd3786"
            ],
            [
             0.5555555555555556,
             "#d8576b"
            ],
            [
             0.6666666666666666,
             "#ed7953"
            ],
            [
             0.7777777777777778,
             "#fb9f3a"
            ],
            [
             0.8888888888888888,
             "#fdca26"
            ],
            [
             1,
             "#f0f921"
            ]
           ],
           "sequentialminus": [
            [
             0,
             "#0d0887"
            ],
            [
             0.1111111111111111,
             "#46039f"
            ],
            [
             0.2222222222222222,
             "#7201a8"
            ],
            [
             0.3333333333333333,
             "#9c179e"
            ],
            [
             0.4444444444444444,
             "#bd3786"
            ],
            [
             0.5555555555555556,
             "#d8576b"
            ],
            [
             0.6666666666666666,
             "#ed7953"
            ],
            [
             0.7777777777777778,
             "#fb9f3a"
            ],
            [
             0.8888888888888888,
             "#fdca26"
            ],
            [
             1,
             "#f0f921"
            ]
           ]
          },
          "colorway": [
           "#636efa",
           "#EF553B",
           "#00cc96",
           "#ab63fa",
           "#FFA15A",
           "#19d3f3",
           "#FF6692",
           "#B6E880",
           "#FF97FF",
           "#FECB52"
          ],
          "font": {
           "color": "#2a3f5f"
          },
          "geo": {
           "bgcolor": "white",
           "lakecolor": "white",
           "landcolor": "#E5ECF6",
           "showlakes": true,
           "showland": true,
           "subunitcolor": "white"
          },
          "hoverlabel": {
           "align": "left"
          },
          "hovermode": "closest",
          "mapbox": {
           "style": "light"
          },
          "paper_bgcolor": "white",
          "plot_bgcolor": "#E5ECF6",
          "polar": {
           "angularaxis": {
            "gridcolor": "white",
            "linecolor": "white",
            "ticks": ""
           },
           "bgcolor": "#E5ECF6",
           "radialaxis": {
            "gridcolor": "white",
            "linecolor": "white",
            "ticks": ""
           }
          },
          "scene": {
           "xaxis": {
            "backgroundcolor": "#E5ECF6",
            "gridcolor": "white",
            "gridwidth": 2,
            "linecolor": "white",
            "showbackground": true,
            "ticks": "",
            "zerolinecolor": "white"
           },
           "yaxis": {
            "backgroundcolor": "#E5ECF6",
            "gridcolor": "white",
            "gridwidth": 2,
            "linecolor": "white",
            "showbackground": true,
            "ticks": "",
            "zerolinecolor": "white"
           },
           "zaxis": {
            "backgroundcolor": "#E5ECF6",
            "gridcolor": "white",
            "gridwidth": 2,
            "linecolor": "white",
            "showbackground": true,
            "ticks": "",
            "zerolinecolor": "white"
           }
          },
          "shapedefaults": {
           "line": {
            "color": "#2a3f5f"
           }
          },
          "ternary": {
           "aaxis": {
            "gridcolor": "white",
            "linecolor": "white",
            "ticks": ""
           },
           "baxis": {
            "gridcolor": "white",
            "linecolor": "white",
            "ticks": ""
           },
           "bgcolor": "#E5ECF6",
           "caxis": {
            "gridcolor": "white",
            "linecolor": "white",
            "ticks": ""
           }
          },
          "title": {
           "x": 0.05
          },
          "xaxis": {
           "automargin": true,
           "gridcolor": "white",
           "linecolor": "white",
           "ticks": "",
           "title": {
            "standoff": 15
           },
           "zerolinecolor": "white",
           "zerolinewidth": 2
          },
          "yaxis": {
           "automargin": true,
           "gridcolor": "white",
           "linecolor": "white",
           "ticks": "",
           "title": {
            "standoff": 15
           },
           "zerolinecolor": "white",
           "zerolinewidth": 2
          }
         }
        },
        "xaxis": {
         "anchor": "y",
         "domain": [
          0,
          0.45
         ]
        },
        "xaxis2": {
         "anchor": "y2",
         "domain": [
          0.55,
          1
         ]
        },
        "xaxis3": {
         "anchor": "y3",
         "domain": [
          0,
          0.45
         ]
        },
        "xaxis4": {
         "anchor": "y4",
         "domain": [
          0.55,
          1
         ]
        },
        "yaxis": {
         "anchor": "x",
         "domain": [
          0.575,
          1
         ]
        },
        "yaxis2": {
         "anchor": "x2",
         "domain": [
          0.575,
          1
         ]
        },
        "yaxis3": {
         "anchor": "x3",
         "domain": [
          0,
          0.425
         ]
        },
        "yaxis4": {
         "anchor": "x4",
         "domain": [
          0,
          0.425
         ]
        }
       }
      }
     },
     "metadata": {}
    }
   ],
   "source": [
    "fig = make_subplots(rows=2, cols=2)\n",
    "n = np.arange(len(phase_vec_cos_l))\n",
    "for i in range(6):\n",
    "    fig.add_trace(go.Scatter(x=n, y=phase_vec_sin_l[:, i], name=\"sin_left_\"+str(i)), row=1, col=1)\n",
    "    fig.add_trace(go.Scatter(x=n, y=phase_vec_sin_r[:, i], name=\"sin_right_\"+str(i)), row=1, col=2)\n",
    "# fig.add_trace(go.Scatter(x=n, y=phase_vec_cos_l, name=\"cos_left\"), row=2, col=1)\n",
    "# fig.add_trace(go.Scatter(x=n, y=phase_vec_cos_r, name=\"cos_right\"), row=2, col=2)\n",
    "fig.show()"
   ]
  },
  {
   "cell_type": "code",
   "execution_count": 136,
   "outputs": [],
   "source": [
    "def loss_fn(x, y):\n",
    "    return nn.functional.mse_loss(x,y)\n",
    "def normalise(x):\n",
    "    std = torch.std(x, dim=0)\n",
    "    std[std==0] = 1\n",
    "    return (x-torch.mean(x, dim=0)) / std"
   ],
   "metadata": {
    "collapsed": false,
    "pycharm": {
     "name": "#%%\n"
    }
   }
  },
  {
   "cell_type": "code",
   "execution_count": 116,
   "metadata": {},
   "outputs": [],
   "source": [
    "posCost = data_tensors[0][:, -24:-12]\n",
    "rotCost = data_tensors[0][:, -12:]\n",
    "posCost2 = data_tensors[1][:, -24:-12]\n",
    "rotCost2 = data_tensors[1][:, -12:]"
   ]
  },
  {
   "cell_type": "code",
   "execution_count": 108,
   "metadata": {},
   "outputs": [
    {
     "output_type": "display_data",
     "data": {
      "application/vnd.plotly.v1+json": {
       "config": {
        "plotlyServerURL": "https://plot.ly"
       },
       "data": [
        {
         "name": "pCost_left_0",
         "type": "scatter",
         "x": [
          0,
          1,
          2,
          3,
          4,
          5,
          6,
          7,
          8,
          9,
          10,
          11,
          12,
          13,
          14,
          15,
          16,
          17,
          18,
          19,
          20,
          21,
          22,
          23,
          24,
          25,
          26,
          27,
          28,
          29,
          30,
          31,
          32,
          33,
          34,
          35,
          36,
          37,
          38,
          39,
          40,
          41,
          42,
          43,
          44,
          45,
          46,
          47,
          48,
          49,
          50,
          51,
          52,
          53
         ],
         "xaxis": "x",
         "y": [
          1.349328875541687,
          1.3462746143341064,
          1.3394134044647217,
          1.3284761905670166,
          1.3132683038711548,
          1.293454885482788,
          1.2686309814453125,
          1.2387067079544067,
          1.2033816576004028,
          1.1624218225479126,
          1.1166528463363647,
          1.0664710998535156,
          1.0120983123779297,
          0.9537206292152405,
          0.891574501991272,
          0.8267704844474792,
          0.7601782083511353,
          0.6926091909408569,
          0.6249145269393921,
          0.5580333471298218,
          0.49482834339141846,
          0.43656906485557556,
          0.3831287622451782,
          0.33434298634529114,
          0.2899964451789856,
          0.25059637427330017,
          0.21635030210018158,
          0.18695275485515594,
          0.16137918829917908,
          0.13893865048885345,
          0.11911726742982864,
          0.10174866765737534,
          0.08656100928783417,
          0.07326547801494598,
          0.061597853899002075,
          0.05134406313300133,
          0.04234331101179123,
          0.0344822034239769,
          0.027685176581144333,
          0.021869536489248276,
          0.016965065151453018,
          0.01289883628487587,
          0.009591319598257542,
          0.006958027835935354,
          0.004911206662654877,
          0.003361612791195512,
          0.002221676055341959,
          0.0014094403013586998,
          0.000851549906656146,
          0.0004806683282367885,
          0.00024688433040864766,
          0.00011188855569344014,
          0.0000461117087979801,
          0.000026814064767677337
         ],
         "yaxis": "y"
        },
        {
         "name": "pCost_right_0",
         "type": "scatter",
         "x": [
          0,
          1,
          2,
          3,
          4,
          5,
          6,
          7,
          8,
          9,
          10,
          11,
          12,
          13,
          14,
          15,
          16,
          17,
          18,
          19,
          20,
          21,
          22,
          23,
          24,
          25,
          26,
          27,
          28,
          29,
          30,
          31,
          32,
          33,
          34,
          35,
          36,
          37,
          38,
          39,
          40,
          41,
          42,
          43,
          44,
          45,
          46,
          47,
          48,
          49,
          50,
          51,
          52,
          53
         ],
         "xaxis": "x2",
         "y": [
          1.4271032810211182,
          1.4268827438354492,
          1.4263124465942383,
          1.4252804517745972,
          1.4236549139022827,
          1.4215004444122314,
          1.419862151145935,
          1.4188240766525269,
          1.418595790863037,
          1.418979525566101,
          1.4185632467269897,
          1.416191577911377,
          1.410752773284912,
          1.4010720252990723,
          1.3858563899993896,
          1.3636804819107056,
          1.333000659942627,
          1.2922098636627197,
          1.2397301197052002,
          1.1741547584533691,
          1.0976955890655518,
          1.0126831531524658,
          0.9215033650398254,
          0.8265575766563416,
          0.7302235960960388,
          0.6352933645248413,
          0.5438584685325623,
          0.45792776346206665,
          0.3802957236766815,
          0.3122106194496155,
          0.25393807888031006,
          0.20522361993789673,
          0.16529670357704163,
          0.13311287760734558,
          0.1075204536318779,
          0.08736476302146912,
          0.07156705111265182,
          0.05927874520421028,
          0.049731623381376266,
          0.04227720573544502,
          0.03639448434114456,
          0.03167947009205818,
          0.027829080820083618,
          0.024624546989798546,
          0.021908726543188095,
          0.01956501603126526,
          0.017501484602689743,
          0.015650004148483276,
          0.013966832309961319,
          0.01242203637957573,
          0.01099453866481781,
          0.00967024452984333,
          0.00844077579677105,
          0.007302614860236645
         ],
         "yaxis": "y2"
        },
        {
         "name": "rCost_left_0",
         "type": "scatter",
         "x": [
          0,
          1,
          2,
          3,
          4,
          5,
          6,
          7,
          8,
          9,
          10,
          11,
          12,
          13,
          14,
          15,
          16,
          17,
          18,
          19,
          20,
          21,
          22,
          23,
          24,
          25,
          26,
          27,
          28,
          29,
          30,
          31,
          32,
          33,
          34,
          35,
          36,
          37,
          38,
          39,
          40,
          41,
          42,
          43,
          44,
          45,
          46,
          47,
          48,
          49,
          50,
          51,
          52,
          53
         ],
         "xaxis": "x3",
         "y": [
          1.5707968473434448,
          1.5708017349243164,
          1.5708949565887451,
          1.5713194608688354,
          1.5725257396697998,
          1.5751945972442627,
          1.5801070928573608,
          1.5882312059402466,
          1.6006525754928589,
          1.6186259984970093,
          1.6435987949371338,
          1.6771680116653442,
          1.7210607528686523,
          1.777122974395752,
          1.8473355770111084,
          1.9333173036575317,
          2.0372540950775146,
          2.1624393463134766,
          2.3147389888763428,
          2.5075252056121826,
          2.782715320587158,
          3.1415927410125732,
          3.1415927410125732,
          3.1415927410125732,
          3.1415927410125732,
          3.1415927410125732,
          3.1415927410125732,
          3.1415927410125732,
          3.1415927410125732,
          3.1415927410125732,
          3.1415927410125732,
          3.1415927410125732,
          3.1415927410125732,
          3.1415927410125732,
          3.1415927410125732,
          3.1415927410125732,
          3.1415927410125732,
          3.1415927410125732,
          3.1415927410125732,
          3.1415927410125732,
          2.8865437507629395,
          2.725904941558838,
          2.61801815032959,
          2.534263849258423,
          2.4656646251678467,
          2.4079806804656982,
          2.3588340282440186,
          2.3167378902435303,
          2.2806732654571533,
          2.2495298385620117,
          2.2226126194000244,
          2.1994309425354004,
          2.179603338241577,
          2.1628201007843018
         ],
         "yaxis": "y3"
        },
        {
         "name": "rCost_right_0",
         "type": "scatter",
         "x": [
          0,
          1,
          2,
          3,
          4,
          5,
          6,
          7,
          8,
          9,
          10,
          11,
          12,
          13,
          14,
          15,
          16,
          17,
          18,
          19,
          20,
          21,
          22,
          23,
          24,
          25,
          26,
          27,
          28,
          29,
          30,
          31,
          32,
          33,
          34,
          35,
          36,
          37,
          38,
          39,
          40,
          41,
          42,
          43,
          44,
          45,
          46,
          47,
          48,
          49,
          50,
          51,
          52,
          53
         ],
         "xaxis": "x4",
         "y": [
          1.5707963705062866,
          1.5707969665527344,
          1.570806860923767,
          1.5708509683609009,
          1.5709755420684814,
          1.571252703666687,
          1.5718069076538086,
          1.5728240013122559,
          1.574561595916748,
          1.577345848083496,
          1.5815458297729492,
          1.5875394344329834,
          1.5956659317016602,
          1.6061666011810303,
          1.6191117763519287,
          1.6343200206756592,
          1.6512762308120728,
          1.6690665483474731,
          1.6863459348678589,
          1.7013684511184692,
          1.711746096611023,
          1.7160694599151611,
          1.713836908340454,
          1.7053422927856445,
          1.6915204524993896,
          1.673710823059082,
          1.653491497039795,
          1.6329903602600098,
          1.6141599416732788,
          1.5983127355575562,
          1.5861166715621948,
          1.5776746273040771,
          1.5727587938308716,
          1.5708708763122559,
          1.571348786354065,
          1.573475956916809,
          1.5765758752822876,
          1.5800453424453735,
          1.583449125289917,
          1.586532711982727,
          1.589187741279602,
          1.5913996696472168,
          1.5931965112686157,
          1.5946149826049805,
          1.5956873893737793,
          1.5964429378509521,
          1.5969141721725464,
          1.597136378288269,
          1.597141981124878,
          1.5969626903533936,
          1.5966299772262573,
          1.5961754322052002,
          1.5956302881240845,
          1.5950238704681396
         ],
         "yaxis": "y4"
        },
        {
         "name": "pCost_left_1",
         "type": "scatter",
         "x": [
          0,
          1,
          2,
          3,
          4,
          5,
          6,
          7,
          8,
          9,
          10,
          11,
          12,
          13,
          14,
          15,
          16,
          17,
          18,
          19,
          20,
          21,
          22,
          23,
          24,
          25,
          26,
          27,
          28,
          29,
          30,
          31,
          32,
          33,
          34,
          35,
          36,
          37,
          38,
          39,
          40,
          41,
          42,
          43,
          44,
          45,
          46,
          47,
          48,
          49,
          50,
          51,
          52,
          53
         ],
         "xaxis": "x",
         "y": [
          1.293454885482788,
          1.2686309814453125,
          1.2387067079544067,
          1.2033816576004028,
          1.1624218225479126,
          1.1166528463363647,
          1.0664710998535156,
          1.0120983123779297,
          0.9537206292152405,
          0.891574501991272,
          0.8267704844474792,
          0.7601782083511353,
          0.6926091909408569,
          0.6249145269393921,
          0.5580333471298218,
          0.49482834339141846,
          0.43656906485557556,
          0.3831287622451782,
          0.33434298634529114,
          0.2899964451789856,
          0.25059637427330017,
          0.21635030210018158,
          0.18695275485515594,
          0.16137918829917908,
          0.13893865048885345,
          0.11911726742982864,
          0.10174866765737534,
          0.08656100928783417,
          0.07326547801494598,
          0.061597853899002075,
          0.05134406313300133,
          0.04234331101179123,
          0.0344822034239769,
          0.027685176581144333,
          0.021869536489248276,
          0.016965065151453018,
          0.01289883628487587,
          0.009591319598257542,
          0.006958027835935354,
          0.004911206662654877,
          0.003361612791195512,
          0.002221676055341959,
          0.0014094403013586998,
          0.000851549906656146,
          0.0004806683282367885,
          0.00024688433040864766,
          0.00011188855569344014,
          0.0000461117087979801,
          0.000026814064767677337,
          0.000026814064767677337,
          0.000026814064767677337,
          0.000026814064767677337,
          0.000026814064767677337,
          0.000026814064767677337
         ],
         "yaxis": "y"
        },
        {
         "name": "pCost_right_1",
         "type": "scatter",
         "x": [
          0,
          1,
          2,
          3,
          4,
          5,
          6,
          7,
          8,
          9,
          10,
          11,
          12,
          13,
          14,
          15,
          16,
          17,
          18,
          19,
          20,
          21,
          22,
          23,
          24,
          25,
          26,
          27,
          28,
          29,
          30,
          31,
          32,
          33,
          34,
          35,
          36,
          37,
          38,
          39,
          40,
          41,
          42,
          43,
          44,
          45,
          46,
          47,
          48,
          49,
          50,
          51,
          52,
          53
         ],
         "xaxis": "x2",
         "y": [
          1.4215004444122314,
          1.419862151145935,
          1.4188240766525269,
          1.418595790863037,
          1.418979525566101,
          1.4185632467269897,
          1.416191577911377,
          1.410752773284912,
          1.4010720252990723,
          1.3858563899993896,
          1.3636804819107056,
          1.333000659942627,
          1.2922098636627197,
          1.2397301197052002,
          1.1741547584533691,
          1.0976955890655518,
          1.0126831531524658,
          0.9215033650398254,
          0.8265575766563416,
          0.7302235960960388,
          0.6352933645248413,
          0.5438584685325623,
          0.45792776346206665,
          0.3802957236766815,
          0.3122106194496155,
          0.25393807888031006,
          0.20522361993789673,
          0.16529670357704163,
          0.13311287760734558,
          0.1075204536318779,
          0.08736476302146912,
          0.07156705111265182,
          0.05927874520421028,
          0.049731623381376266,
          0.04227720573544502,
          0.03639448434114456,
          0.03167947009205818,
          0.027829080820083618,
          0.024624546989798546,
          0.021908726543188095,
          0.01956501603126526,
          0.017501484602689743,
          0.015650004148483276,
          0.013966832309961319,
          0.01242203637957573,
          0.01099453866481781,
          0.00967024452984333,
          0.00844077579677105,
          0.007302614860236645,
          0.007302614860236645,
          0.007302614860236645,
          0.007302614860236645,
          0.007302614860236645,
          0.007302614860236645
         ],
         "yaxis": "y2"
        },
        {
         "name": "rCost_left_1",
         "type": "scatter",
         "x": [
          0,
          1,
          2,
          3,
          4,
          5,
          6,
          7,
          8,
          9,
          10,
          11,
          12,
          13,
          14,
          15,
          16,
          17,
          18,
          19,
          20,
          21,
          22,
          23,
          24,
          25,
          26,
          27,
          28,
          29,
          30,
          31,
          32,
          33,
          34,
          35,
          36,
          37,
          38,
          39,
          40,
          41,
          42,
          43,
          44,
          45,
          46,
          47,
          48,
          49,
          50,
          51,
          52,
          53
         ],
         "xaxis": "x3",
         "y": [
          1.5751945972442627,
          1.5801070928573608,
          1.5882312059402466,
          1.6006525754928589,
          1.6186259984970093,
          1.6435987949371338,
          1.6771680116653442,
          1.7210607528686523,
          1.777122974395752,
          1.8473355770111084,
          1.9333173036575317,
          2.0372540950775146,
          2.1624393463134766,
          2.3147389888763428,
          2.5075252056121826,
          2.782715320587158,
          3.1415927410125732,
          3.1415927410125732,
          3.1415927410125732,
          3.1415927410125732,
          3.1415927410125732,
          3.1415927410125732,
          3.1415927410125732,
          3.1415927410125732,
          3.1415927410125732,
          3.1415927410125732,
          3.1415927410125732,
          3.1415927410125732,
          3.1415927410125732,
          3.1415927410125732,
          3.1415927410125732,
          3.1415927410125732,
          3.1415927410125732,
          3.1415927410125732,
          3.1415927410125732,
          2.8865437507629395,
          2.725904941558838,
          2.61801815032959,
          2.534263849258423,
          2.4656646251678467,
          2.4079806804656982,
          2.3588340282440186,
          2.3167378902435303,
          2.2806732654571533,
          2.2495298385620117,
          2.2226126194000244,
          2.1994309425354004,
          2.179603338241577,
          2.1628201007843018,
          2.1628201007843018,
          2.1628201007843018,
          2.1628201007843018,
          2.1628201007843018,
          2.1628201007843018
         ],
         "yaxis": "y3"
        },
        {
         "name": "rCost_right_1",
         "type": "scatter",
         "x": [
          0,
          1,
          2,
          3,
          4,
          5,
          6,
          7,
          8,
          9,
          10,
          11,
          12,
          13,
          14,
          15,
          16,
          17,
          18,
          19,
          20,
          21,
          22,
          23,
          24,
          25,
          26,
          27,
          28,
          29,
          30,
          31,
          32,
          33,
          34,
          35,
          36,
          37,
          38,
          39,
          40,
          41,
          42,
          43,
          44,
          45,
          46,
          47,
          48,
          49,
          50,
          51,
          52,
          53
         ],
         "xaxis": "x4",
         "y": [
          1.571252703666687,
          1.5718069076538086,
          1.5728240013122559,
          1.574561595916748,
          1.577345848083496,
          1.5815458297729492,
          1.5875394344329834,
          1.5956659317016602,
          1.6061666011810303,
          1.6191117763519287,
          1.6343200206756592,
          1.6512762308120728,
          1.6690665483474731,
          1.6863459348678589,
          1.7013684511184692,
          1.711746096611023,
          1.7160694599151611,
          1.713836908340454,
          1.7053422927856445,
          1.6915204524993896,
          1.673710823059082,
          1.653491497039795,
          1.6329903602600098,
          1.6141599416732788,
          1.5983127355575562,
          1.5861166715621948,
          1.5776746273040771,
          1.5727587938308716,
          1.5708708763122559,
          1.571348786354065,
          1.573475956916809,
          1.5765758752822876,
          1.5800453424453735,
          1.583449125289917,
          1.586532711982727,
          1.589187741279602,
          1.5913996696472168,
          1.5931965112686157,
          1.5946149826049805,
          1.5956873893737793,
          1.5964429378509521,
          1.5969141721725464,
          1.597136378288269,
          1.597141981124878,
          1.5969626903533936,
          1.5966299772262573,
          1.5961754322052002,
          1.5956302881240845,
          1.5950238704681396,
          1.5950238704681396,
          1.5950238704681396,
          1.5950238704681396,
          1.5950238704681396,
          1.5950238704681396
         ],
         "yaxis": "y4"
        },
        {
         "name": "pCost_left_2",
         "type": "scatter",
         "x": [
          0,
          1,
          2,
          3,
          4,
          5,
          6,
          7,
          8,
          9,
          10,
          11,
          12,
          13,
          14,
          15,
          16,
          17,
          18,
          19,
          20,
          21,
          22,
          23,
          24,
          25,
          26,
          27,
          28,
          29,
          30,
          31,
          32,
          33,
          34,
          35,
          36,
          37,
          38,
          39,
          40,
          41,
          42,
          43,
          44,
          45,
          46,
          47,
          48,
          49,
          50,
          51,
          52,
          53
         ],
         "xaxis": "x",
         "y": [
          1.1166528463363647,
          1.0664710998535156,
          1.0120983123779297,
          0.9537206292152405,
          0.891574501991272,
          0.8267704844474792,
          0.7601782083511353,
          0.6926091909408569,
          0.6249145269393921,
          0.5580333471298218,
          0.49482834339141846,
          0.43656906485557556,
          0.3831287622451782,
          0.33434298634529114,
          0.2899964451789856,
          0.25059637427330017,
          0.21635030210018158,
          0.18695275485515594,
          0.16137918829917908,
          0.13893865048885345,
          0.11911726742982864,
          0.10174866765737534,
          0.08656100928783417,
          0.07326547801494598,
          0.061597853899002075,
          0.05134406313300133,
          0.04234331101179123,
          0.0344822034239769,
          0.027685176581144333,
          0.021869536489248276,
          0.016965065151453018,
          0.01289883628487587,
          0.009591319598257542,
          0.006958027835935354,
          0.004911206662654877,
          0.003361612791195512,
          0.002221676055341959,
          0.0014094403013586998,
          0.000851549906656146,
          0.0004806683282367885,
          0.00024688433040864766,
          0.00011188855569344014,
          0.0000461117087979801,
          0.000026814064767677337,
          0.000026814064767677337,
          0.000026814064767677337,
          0.000026814064767677337,
          0.000026814064767677337,
          0.000026814064767677337,
          0.000026814064767677337,
          0.000026814064767677337,
          0.000026814064767677337,
          0.000026814064767677337,
          0.000026814064767677337
         ],
         "yaxis": "y"
        },
        {
         "name": "pCost_right_2",
         "type": "scatter",
         "x": [
          0,
          1,
          2,
          3,
          4,
          5,
          6,
          7,
          8,
          9,
          10,
          11,
          12,
          13,
          14,
          15,
          16,
          17,
          18,
          19,
          20,
          21,
          22,
          23,
          24,
          25,
          26,
          27,
          28,
          29,
          30,
          31,
          32,
          33,
          34,
          35,
          36,
          37,
          38,
          39,
          40,
          41,
          42,
          43,
          44,
          45,
          46,
          47,
          48,
          49,
          50,
          51,
          52,
          53
         ],
         "xaxis": "x2",
         "y": [
          1.4185632467269897,
          1.416191577911377,
          1.410752773284912,
          1.4010720252990723,
          1.3858563899993896,
          1.3636804819107056,
          1.333000659942627,
          1.2922098636627197,
          1.2397301197052002,
          1.1741547584533691,
          1.0976955890655518,
          1.0126831531524658,
          0.9215033650398254,
          0.8265575766563416,
          0.7302235960960388,
          0.6352933645248413,
          0.5438584685325623,
          0.45792776346206665,
          0.3802957236766815,
          0.3122106194496155,
          0.25393807888031006,
          0.20522361993789673,
          0.16529670357704163,
          0.13311287760734558,
          0.1075204536318779,
          0.08736476302146912,
          0.07156705111265182,
          0.05927874520421028,
          0.049731623381376266,
          0.04227720573544502,
          0.03639448434114456,
          0.03167947009205818,
          0.027829080820083618,
          0.024624546989798546,
          0.021908726543188095,
          0.01956501603126526,
          0.017501484602689743,
          0.015650004148483276,
          0.013966832309961319,
          0.01242203637957573,
          0.01099453866481781,
          0.00967024452984333,
          0.00844077579677105,
          0.007302614860236645,
          0.007302614860236645,
          0.007302614860236645,
          0.007302614860236645,
          0.007302614860236645,
          0.007302614860236645,
          0.007302614860236645,
          0.007302614860236645,
          0.007302614860236645,
          0.007302614860236645,
          0.007302614860236645
         ],
         "yaxis": "y2"
        },
        {
         "name": "rCost_left_2",
         "type": "scatter",
         "x": [
          0,
          1,
          2,
          3,
          4,
          5,
          6,
          7,
          8,
          9,
          10,
          11,
          12,
          13,
          14,
          15,
          16,
          17,
          18,
          19,
          20,
          21,
          22,
          23,
          24,
          25,
          26,
          27,
          28,
          29,
          30,
          31,
          32,
          33,
          34,
          35,
          36,
          37,
          38,
          39,
          40,
          41,
          42,
          43,
          44,
          45,
          46,
          47,
          48,
          49,
          50,
          51,
          52,
          53
         ],
         "xaxis": "x3",
         "y": [
          1.6435987949371338,
          1.6771680116653442,
          1.7210607528686523,
          1.777122974395752,
          1.8473355770111084,
          1.9333173036575317,
          2.0372540950775146,
          2.1624393463134766,
          2.3147389888763428,
          2.5075252056121826,
          2.782715320587158,
          3.1415927410125732,
          3.1415927410125732,
          3.1415927410125732,
          3.1415927410125732,
          3.1415927410125732,
          3.1415927410125732,
          3.1415927410125732,
          3.1415927410125732,
          3.1415927410125732,
          3.1415927410125732,
          3.1415927410125732,
          3.1415927410125732,
          3.1415927410125732,
          3.1415927410125732,
          3.1415927410125732,
          3.1415927410125732,
          3.1415927410125732,
          3.1415927410125732,
          3.1415927410125732,
          2.8865437507629395,
          2.725904941558838,
          2.61801815032959,
          2.534263849258423,
          2.4656646251678467,
          2.4079806804656982,
          2.3588340282440186,
          2.3167378902435303,
          2.2806732654571533,
          2.2495298385620117,
          2.2226126194000244,
          2.1994309425354004,
          2.179603338241577,
          2.1628201007843018,
          2.1628201007843018,
          2.1628201007843018,
          2.1628201007843018,
          2.1628201007843018,
          2.1628201007843018,
          2.1628201007843018,
          2.1628201007843018,
          2.1628201007843018,
          2.1628201007843018,
          2.1628201007843018
         ],
         "yaxis": "y3"
        },
        {
         "name": "rCost_right_2",
         "type": "scatter",
         "x": [
          0,
          1,
          2,
          3,
          4,
          5,
          6,
          7,
          8,
          9,
          10,
          11,
          12,
          13,
          14,
          15,
          16,
          17,
          18,
          19,
          20,
          21,
          22,
          23,
          24,
          25,
          26,
          27,
          28,
          29,
          30,
          31,
          32,
          33,
          34,
          35,
          36,
          37,
          38,
          39,
          40,
          41,
          42,
          43,
          44,
          45,
          46,
          47,
          48,
          49,
          50,
          51,
          52,
          53
         ],
         "xaxis": "x4",
         "y": [
          1.5815458297729492,
          1.5875394344329834,
          1.5956659317016602,
          1.6061666011810303,
          1.6191117763519287,
          1.6343200206756592,
          1.6512762308120728,
          1.6690665483474731,
          1.6863459348678589,
          1.7013684511184692,
          1.711746096611023,
          1.7160694599151611,
          1.713836908340454,
          1.7053422927856445,
          1.6915204524993896,
          1.673710823059082,
          1.653491497039795,
          1.6329903602600098,
          1.6141599416732788,
          1.5983127355575562,
          1.5861166715621948,
          1.5776746273040771,
          1.5727587938308716,
          1.5708708763122559,
          1.571348786354065,
          1.573475956916809,
          1.5765758752822876,
          1.5800453424453735,
          1.583449125289917,
          1.586532711982727,
          1.589187741279602,
          1.5913996696472168,
          1.5931965112686157,
          1.5946149826049805,
          1.5956873893737793,
          1.5964429378509521,
          1.5969141721725464,
          1.597136378288269,
          1.597141981124878,
          1.5969626903533936,
          1.5966299772262573,
          1.5961754322052002,
          1.5956302881240845,
          1.5950238704681396,
          1.5950238704681396,
          1.5950238704681396,
          1.5950238704681396,
          1.5950238704681396,
          1.5950238704681396,
          1.5950238704681396,
          1.5950238704681396,
          1.5950238704681396,
          1.5950238704681396,
          1.5950238704681396
         ],
         "yaxis": "y4"
        }
       ],
       "layout": {
        "template": {
         "data": {
          "bar": [
           {
            "error_x": {
             "color": "#2a3f5f"
            },
            "error_y": {
             "color": "#2a3f5f"
            },
            "marker": {
             "line": {
              "color": "#E5ECF6",
              "width": 0.5
             }
            },
            "type": "bar"
           }
          ],
          "barpolar": [
           {
            "marker": {
             "line": {
              "color": "#E5ECF6",
              "width": 0.5
             }
            },
            "type": "barpolar"
           }
          ],
          "carpet": [
           {
            "aaxis": {
             "endlinecolor": "#2a3f5f",
             "gridcolor": "white",
             "linecolor": "white",
             "minorgridcolor": "white",
             "startlinecolor": "#2a3f5f"
            },
            "baxis": {
             "endlinecolor": "#2a3f5f",
             "gridcolor": "white",
             "linecolor": "white",
             "minorgridcolor": "white",
             "startlinecolor": "#2a3f5f"
            },
            "type": "carpet"
           }
          ],
          "choropleth": [
           {
            "colorbar": {
             "outlinewidth": 0,
             "ticks": ""
            },
            "type": "choropleth"
           }
          ],
          "contour": [
           {
            "colorbar": {
             "outlinewidth": 0,
             "ticks": ""
            },
            "colorscale": [
             [
              0,
              "#0d0887"
             ],
             [
              0.1111111111111111,
              "#46039f"
             ],
             [
              0.2222222222222222,
              "#7201a8"
             ],
             [
              0.3333333333333333,
              "#9c179e"
             ],
             [
              0.4444444444444444,
              "#bd3786"
             ],
             [
              0.5555555555555556,
              "#d8576b"
             ],
             [
              0.6666666666666666,
              "#ed7953"
             ],
             [
              0.7777777777777778,
              "#fb9f3a"
             ],
             [
              0.8888888888888888,
              "#fdca26"
             ],
             [
              1,
              "#f0f921"
             ]
            ],
            "type": "contour"
           }
          ],
          "contourcarpet": [
           {
            "colorbar": {
             "outlinewidth": 0,
             "ticks": ""
            },
            "type": "contourcarpet"
           }
          ],
          "heatmap": [
           {
            "colorbar": {
             "outlinewidth": 0,
             "ticks": ""
            },
            "colorscale": [
             [
              0,
              "#0d0887"
             ],
             [
              0.1111111111111111,
              "#46039f"
             ],
             [
              0.2222222222222222,
              "#7201a8"
             ],
             [
              0.3333333333333333,
              "#9c179e"
             ],
             [
              0.4444444444444444,
              "#bd3786"
             ],
             [
              0.5555555555555556,
              "#d8576b"
             ],
             [
              0.6666666666666666,
              "#ed7953"
             ],
             [
              0.7777777777777778,
              "#fb9f3a"
             ],
             [
              0.8888888888888888,
              "#fdca26"
             ],
             [
              1,
              "#f0f921"
             ]
            ],
            "type": "heatmap"
           }
          ],
          "heatmapgl": [
           {
            "colorbar": {
             "outlinewidth": 0,
             "ticks": ""
            },
            "colorscale": [
             [
              0,
              "#0d0887"
             ],
             [
              0.1111111111111111,
              "#46039f"
             ],
             [
              0.2222222222222222,
              "#7201a8"
             ],
             [
              0.3333333333333333,
              "#9c179e"
             ],
             [
              0.4444444444444444,
              "#bd3786"
             ],
             [
              0.5555555555555556,
              "#d8576b"
             ],
             [
              0.6666666666666666,
              "#ed7953"
             ],
             [
              0.7777777777777778,
              "#fb9f3a"
             ],
             [
              0.8888888888888888,
              "#fdca26"
             ],
             [
              1,
              "#f0f921"
             ]
            ],
            "type": "heatmapgl"
           }
          ],
          "histogram": [
           {
            "marker": {
             "colorbar": {
              "outlinewidth": 0,
              "ticks": ""
             }
            },
            "type": "histogram"
           }
          ],
          "histogram2d": [
           {
            "colorbar": {
             "outlinewidth": 0,
             "ticks": ""
            },
            "colorscale": [
             [
              0,
              "#0d0887"
             ],
             [
              0.1111111111111111,
              "#46039f"
             ],
             [
              0.2222222222222222,
              "#7201a8"
             ],
             [
              0.3333333333333333,
              "#9c179e"
             ],
             [
              0.4444444444444444,
              "#bd3786"
             ],
             [
              0.5555555555555556,
              "#d8576b"
             ],
             [
              0.6666666666666666,
              "#ed7953"
             ],
             [
              0.7777777777777778,
              "#fb9f3a"
             ],
             [
              0.8888888888888888,
              "#fdca26"
             ],
             [
              1,
              "#f0f921"
             ]
            ],
            "type": "histogram2d"
           }
          ],
          "histogram2dcontour": [
           {
            "colorbar": {
             "outlinewidth": 0,
             "ticks": ""
            },
            "colorscale": [
             [
              0,
              "#0d0887"
             ],
             [
              0.1111111111111111,
              "#46039f"
             ],
             [
              0.2222222222222222,
              "#7201a8"
             ],
             [
              0.3333333333333333,
              "#9c179e"
             ],
             [
              0.4444444444444444,
              "#bd3786"
             ],
             [
              0.5555555555555556,
              "#d8576b"
             ],
             [
              0.6666666666666666,
              "#ed7953"
             ],
             [
              0.7777777777777778,
              "#fb9f3a"
             ],
             [
              0.8888888888888888,
              "#fdca26"
             ],
             [
              1,
              "#f0f921"
             ]
            ],
            "type": "histogram2dcontour"
           }
          ],
          "mesh3d": [
           {
            "colorbar": {
             "outlinewidth": 0,
             "ticks": ""
            },
            "type": "mesh3d"
           }
          ],
          "parcoords": [
           {
            "line": {
             "colorbar": {
              "outlinewidth": 0,
              "ticks": ""
             }
            },
            "type": "parcoords"
           }
          ],
          "pie": [
           {
            "automargin": true,
            "type": "pie"
           }
          ],
          "scatter": [
           {
            "marker": {
             "colorbar": {
              "outlinewidth": 0,
              "ticks": ""
             }
            },
            "type": "scatter"
           }
          ],
          "scatter3d": [
           {
            "line": {
             "colorbar": {
              "outlinewidth": 0,
              "ticks": ""
             }
            },
            "marker": {
             "colorbar": {
              "outlinewidth": 0,
              "ticks": ""
             }
            },
            "type": "scatter3d"
           }
          ],
          "scattercarpet": [
           {
            "marker": {
             "colorbar": {
              "outlinewidth": 0,
              "ticks": ""
             }
            },
            "type": "scattercarpet"
           }
          ],
          "scattergeo": [
           {
            "marker": {
             "colorbar": {
              "outlinewidth": 0,
              "ticks": ""
             }
            },
            "type": "scattergeo"
           }
          ],
          "scattergl": [
           {
            "marker": {
             "colorbar": {
              "outlinewidth": 0,
              "ticks": ""
             }
            },
            "type": "scattergl"
           }
          ],
          "scattermapbox": [
           {
            "marker": {
             "colorbar": {
              "outlinewidth": 0,
              "ticks": ""
             }
            },
            "type": "scattermapbox"
           }
          ],
          "scatterpolar": [
           {
            "marker": {
             "colorbar": {
              "outlinewidth": 0,
              "ticks": ""
             }
            },
            "type": "scatterpolar"
           }
          ],
          "scatterpolargl": [
           {
            "marker": {
             "colorbar": {
              "outlinewidth": 0,
              "ticks": ""
             }
            },
            "type": "scatterpolargl"
           }
          ],
          "scatterternary": [
           {
            "marker": {
             "colorbar": {
              "outlinewidth": 0,
              "ticks": ""
             }
            },
            "type": "scatterternary"
           }
          ],
          "surface": [
           {
            "colorbar": {
             "outlinewidth": 0,
             "ticks": ""
            },
            "colorscale": [
             [
              0,
              "#0d0887"
             ],
             [
              0.1111111111111111,
              "#46039f"
             ],
             [
              0.2222222222222222,
              "#7201a8"
             ],
             [
              0.3333333333333333,
              "#9c179e"
             ],
             [
              0.4444444444444444,
              "#bd3786"
             ],
             [
              0.5555555555555556,
              "#d8576b"
             ],
             [
              0.6666666666666666,
              "#ed7953"
             ],
             [
              0.7777777777777778,
              "#fb9f3a"
             ],
             [
              0.8888888888888888,
              "#fdca26"
             ],
             [
              1,
              "#f0f921"
             ]
            ],
            "type": "surface"
           }
          ],
          "table": [
           {
            "cells": {
             "fill": {
              "color": "#EBF0F8"
             },
             "line": {
              "color": "white"
             }
            },
            "header": {
             "fill": {
              "color": "#C8D4E3"
             },
             "line": {
              "color": "white"
             }
            },
            "type": "table"
           }
          ]
         },
         "layout": {
          "annotationdefaults": {
           "arrowcolor": "#2a3f5f",
           "arrowhead": 0,
           "arrowwidth": 1
          },
          "autotypenumbers": "strict",
          "coloraxis": {
           "colorbar": {
            "outlinewidth": 0,
            "ticks": ""
           }
          },
          "colorscale": {
           "diverging": [
            [
             0,
             "#8e0152"
            ],
            [
             0.1,
             "#c51b7d"
            ],
            [
             0.2,
             "#de77ae"
            ],
            [
             0.3,
             "#f1b6da"
            ],
            [
             0.4,
             "#fde0ef"
            ],
            [
             0.5,
             "#f7f7f7"
            ],
            [
             0.6,
             "#e6f5d0"
            ],
            [
             0.7,
             "#b8e186"
            ],
            [
             0.8,
             "#7fbc41"
            ],
            [
             0.9,
             "#4d9221"
            ],
            [
             1,
             "#276419"
            ]
           ],
           "sequential": [
            [
             0,
             "#0d0887"
            ],
            [
             0.1111111111111111,
             "#46039f"
            ],
            [
             0.2222222222222222,
             "#7201a8"
            ],
            [
             0.3333333333333333,
             "#9c179e"
            ],
            [
             0.4444444444444444,
             "#bd3786"
            ],
            [
             0.5555555555555556,
             "#d8576b"
            ],
            [
             0.6666666666666666,
             "#ed7953"
            ],
            [
             0.7777777777777778,
             "#fb9f3a"
            ],
            [
             0.8888888888888888,
             "#fdca26"
            ],
            [
             1,
             "#f0f921"
            ]
           ],
           "sequentialminus": [
            [
             0,
             "#0d0887"
            ],
            [
             0.1111111111111111,
             "#46039f"
            ],
            [
             0.2222222222222222,
             "#7201a8"
            ],
            [
             0.3333333333333333,
             "#9c179e"
            ],
            [
             0.4444444444444444,
             "#bd3786"
            ],
            [
             0.5555555555555556,
             "#d8576b"
            ],
            [
             0.6666666666666666,
             "#ed7953"
            ],
            [
             0.7777777777777778,
             "#fb9f3a"
            ],
            [
             0.8888888888888888,
             "#fdca26"
            ],
            [
             1,
             "#f0f921"
            ]
           ]
          },
          "colorway": [
           "#636efa",
           "#EF553B",
           "#00cc96",
           "#ab63fa",
           "#FFA15A",
           "#19d3f3",
           "#FF6692",
           "#B6E880",
           "#FF97FF",
           "#FECB52"
          ],
          "font": {
           "color": "#2a3f5f"
          },
          "geo": {
           "bgcolor": "white",
           "lakecolor": "white",
           "landcolor": "#E5ECF6",
           "showlakes": true,
           "showland": true,
           "subunitcolor": "white"
          },
          "hoverlabel": {
           "align": "left"
          },
          "hovermode": "closest",
          "mapbox": {
           "style": "light"
          },
          "paper_bgcolor": "white",
          "plot_bgcolor": "#E5ECF6",
          "polar": {
           "angularaxis": {
            "gridcolor": "white",
            "linecolor": "white",
            "ticks": ""
           },
           "bgcolor": "#E5ECF6",
           "radialaxis": {
            "gridcolor": "white",
            "linecolor": "white",
            "ticks": ""
           }
          },
          "scene": {
           "xaxis": {
            "backgroundcolor": "#E5ECF6",
            "gridcolor": "white",
            "gridwidth": 2,
            "linecolor": "white",
            "showbackground": true,
            "ticks": "",
            "zerolinecolor": "white"
           },
           "yaxis": {
            "backgroundcolor": "#E5ECF6",
            "gridcolor": "white",
            "gridwidth": 2,
            "linecolor": "white",
            "showbackground": true,
            "ticks": "",
            "zerolinecolor": "white"
           },
           "zaxis": {
            "backgroundcolor": "#E5ECF6",
            "gridcolor": "white",
            "gridwidth": 2,
            "linecolor": "white",
            "showbackground": true,
            "ticks": "",
            "zerolinecolor": "white"
           }
          },
          "shapedefaults": {
           "line": {
            "color": "#2a3f5f"
           }
          },
          "ternary": {
           "aaxis": {
            "gridcolor": "white",
            "linecolor": "white",
            "ticks": ""
           },
           "baxis": {
            "gridcolor": "white",
            "linecolor": "white",
            "ticks": ""
           },
           "bgcolor": "#E5ECF6",
           "caxis": {
            "gridcolor": "white",
            "linecolor": "white",
            "ticks": ""
           }
          },
          "title": {
           "x": 0.05
          },
          "xaxis": {
           "automargin": true,
           "gridcolor": "white",
           "linecolor": "white",
           "ticks": "",
           "title": {
            "standoff": 15
           },
           "zerolinecolor": "white",
           "zerolinewidth": 2
          },
          "yaxis": {
           "automargin": true,
           "gridcolor": "white",
           "linecolor": "white",
           "ticks": "",
           "title": {
            "standoff": 15
           },
           "zerolinecolor": "white",
           "zerolinewidth": 2
          }
         }
        },
        "xaxis": {
         "anchor": "y",
         "domain": [
          0,
          0.45
         ]
        },
        "xaxis2": {
         "anchor": "y2",
         "domain": [
          0.55,
          1
         ]
        },
        "xaxis3": {
         "anchor": "y3",
         "domain": [
          0,
          0.45
         ]
        },
        "xaxis4": {
         "anchor": "y4",
         "domain": [
          0.55,
          1
         ]
        },
        "yaxis": {
         "anchor": "x",
         "domain": [
          0.575,
          1
         ]
        },
        "yaxis2": {
         "anchor": "x2",
         "domain": [
          0.575,
          1
         ]
        },
        "yaxis3": {
         "anchor": "x3",
         "domain": [
          0,
          0.425
         ]
        },
        "yaxis4": {
         "anchor": "x4",
         "domain": [
          0,
          0.425
         ]
        }
       }
      }
     },
     "metadata": {}
    }
   ],
   "source": [
    "fig = make_subplots(rows=2, cols=2)\n",
    "n = np.arange(len(posCost))\n",
    "for i in range(3):\n",
    "    fig.add_trace(go.Scatter(x=n, y=posCost[:, 3+i], name=\"pCost_left_\"+str(i)), row=1, col=1)\n",
    "    fig.add_trace(go.Scatter(x=n, y=posCost[:, 9+i], name=\"pCost_right_\"+str(i)), row=1, col=2)\n",
    "    \n",
    "    fig.add_trace(go.Scatter(x=n, y=rotCost[:, 3+i], name=\"rCost_left_\"+str(i)), row=2, col=1)\n",
    "    fig.add_trace(go.Scatter(x=n, y=rotCost[:, 9+i], name=\"rCost_right_\"+str(i)), row=2, col=2)\n",
    "fig.show()"
   ]
  },
  {
   "cell_type": "code",
   "execution_count": 117,
   "metadata": {},
   "outputs": [
    {
     "output_type": "display_data",
     "data": {
      "application/vnd.plotly.v1+json": {
       "config": {
        "plotlyServerURL": "https://plot.ly"
       },
       "data": [
        {
         "name": "pCost_left_0",
         "type": "scatter",
         "x": [
          0,
          1,
          2,
          3,
          4,
          5,
          6,
          7,
          8,
          9,
          10,
          11,
          12,
          13,
          14,
          15,
          16,
          17,
          18,
          19,
          20,
          21,
          22,
          23,
          24,
          25,
          26,
          27,
          28,
          29,
          30,
          31,
          32,
          33,
          34,
          35,
          36,
          37,
          38,
          39,
          40,
          41,
          42,
          43,
          44,
          45,
          46,
          47,
          48,
          49,
          50,
          51,
          52,
          53
         ],
         "xaxis": "x",
         "y": [
          1.3454456329345703,
          1.3448612689971924,
          1.3440217971801758,
          1.3429174423217773,
          1.3415342569351196,
          1.3398542404174805,
          1.3378574848175049,
          1.3355194330215454,
          1.3328133821487427,
          1.3297103643417358,
          1.3261815309524536,
          1.3221991062164307,
          1.317740797996521,
          1.3127106428146362,
          1.306985855102539,
          1.3004213571548462,
          1.2928590774536133,
          1.2841078042984009,
          1.2738118171691895,
          1.2618052959442139,
          1.2479212284088135,
          1.2319749593734741,
          1.2137452363967896,
          1.1929566860198975,
          1.1692765951156616,
          1.142358422279358,
          1.1119120121002197,
          1.0777393579483032,
          1.0397571325302124,
          0.9980371594429016,
          0.9528927206993103,
          0.9050424098968506,
          0.8546319007873535,
          0.8018532395362854,
          0.746945321559906,
          0.6902062296867371,
          0.6320154070854187,
          0.5728185772895813,
          0.5130727291107178,
          0.4531662166118622,
          0.39409929513931274,
          0.33706703782081604,
          0.2835206091403961,
          0.2340514063835144,
          0.18921712040901184,
          0.14953289926052094,
          0.11546393483877182,
          0.08742546290159225,
          0.06472396850585938,
          0.04669984057545662,
          0.03275226801633835,
          0.02235426940023899,
          0.015045800246298313,
          0.009990380145609379,
          0.006508483551442623,
          0.004149762913584709,
          0.0025909538380801678,
          0.0015889048809185624,
          0.0009641767828725278,
          0.0005868194857612252,
          0.00036473263753578067,
          0.00023452074674423784,
          0.000154705616296269,
          0.00010091553849633783,
          0.0000620883729425259,
          0.000036542835005093366,
          0.000026814064767677337,
          0.0000461117087979801,
          0.00011188855569344014,
          0.00024688433040864766,
          0.0004806683282367885,
          0.000851549906656146,
          0.0014094403013586998,
          0.002221676055341959,
          0.003361612791195512,
          0.004911206662654877,
          0.006958027835935354,
          0.009591319598257542,
          0.01289883628487587,
          0.016965065151453018
         ],
         "yaxis": "y"
        },
        {
         "name": "pCost_right_0",
         "type": "scatter",
         "x": [
          0,
          1,
          2,
          3,
          4,
          5,
          6,
          7,
          8,
          9,
          10,
          11,
          12,
          13,
          14,
          15,
          16,
          17,
          18,
          19,
          20,
          21,
          22,
          23,
          24,
          25,
          26,
          27,
          28,
          29,
          30,
          31,
          32,
          33,
          34,
          35,
          36,
          37,
          38,
          39,
          40,
          41,
          42,
          43,
          44,
          45,
          46,
          47,
          48,
          49,
          50,
          51,
          52,
          53
         ],
         "xaxis": "x2",
         "y": [
          1.2820249795913696,
          1.2682660818099976,
          1.253626823425293,
          1.2380601167678833,
          1.2215025424957275,
          1.2038686275482178,
          1.1850459575653076,
          1.1649115085601807,
          1.143369436264038,
          1.120383620262146,
          1.096001386642456,
          1.0703918933868408,
          1.0439205169677734,
          1.0173019170761108,
          0.9906596541404724,
          0.9641363024711609,
          0.937869668006897,
          0.9119704961776733,
          0.886519730091095,
          0.8615777492523193,
          0.8371963500976562,
          0.8134341239929199,
          0.7903704643249512,
          0.7681159973144531,
          0.7468065023422241,
          0.7265604734420776,
          0.707431435585022,
          0.6893944144248962,
          0.6723542809486389,
          0.6561552882194519,
          0.6405895948410034,
          0.6254032850265503,
          0.6103087067604065,
          0.595004141330719,
          0.5791952013969421,
          0.5626360177993774,
          0.5452041029930115,
          0.5270674824714661,
          0.5075399875640869,
          0.48579084873199463,
          0.4610094726085663,
          0.432498037815094,
          0.3998146653175354,
          0.3630163371562958,
          0.3225972056388855,
          0.27967825531959534,
          0.23625510931015015,
          0.19551832973957062,
          0.15842878818511963,
          0.12557901442050934,
          0.09723256528377533,
          0.07337939739227295,
          0.053816057741642,
          0.03825874626636505,
          0.026296835392713547,
          0.017480410635471344,
          0.011287574656307697,
          0.0072048120200634,
          0.004753362387418747,
          0.003507514949887991,
          0.0031064897775650024,
          0.003261423669755459,
          0.003759114071726799,
          0.004461957607418299,
          0.0053012254647910595,
          0.006255641579627991,
          0.007302614860236645,
          0.00844077579677105,
          0.00967024452984333,
          0.01099453866481781,
          0.01242203637957573,
          0.013966832309961319,
          0.015650004148483276,
          0.017501484602689743,
          0.01956501603126526,
          0.021908726543188095,
          0.024624546989798546,
          0.027829080820083618,
          0.03167947009205818,
          0.03639448434114456
         ],
         "yaxis": "y2"
        },
        {
         "name": "rCost_left_0",
         "type": "scatter",
         "x": [
          0,
          1,
          2,
          3,
          4,
          5,
          6,
          7,
          8,
          9,
          10,
          11,
          12,
          13,
          14,
          15,
          16,
          17,
          18,
          19,
          20,
          21,
          22,
          23,
          24,
          25,
          26,
          27,
          28,
          29,
          30,
          31,
          32,
          33,
          34,
          35,
          36,
          37,
          38,
          39,
          40,
          41,
          42,
          43,
          44,
          45,
          46,
          47,
          48,
          49,
          50,
          51,
          52,
          53
         ],
         "xaxis": "x3",
         "y": [
          1.571533203125,
          1.5714584589004517,
          1.571334958076477,
          1.5711791515350342,
          1.5710153579711914,
          1.5708751678466797,
          1.570799469947815,
          1.5708400011062622,
          1.5710632801055908,
          1.5715546607971191,
          1.5724256038665771,
          1.5738329887390137,
          1.576027512550354,
          1.5792685747146606,
          1.5838454961776733,
          1.590074062347412,
          1.5982944965362549,
          1.608884334564209,
          1.6223211288452148,
          1.6390684843063354,
          1.6596269607543945,
          1.6845468282699585,
          1.7144534587860107,
          1.750083327293396,
          1.7923179864883423,
          1.842177391052246,
          1.9007741212844849,
          1.9693049192428589,
          2.0491201877593994,
          2.1418800354003906,
          2.2498536109924316,
          2.3766324520111084,
          2.5310237407684326,
          2.738842248916626,
          3.1415927410125732,
          3.1415927410125732,
          3.1415927410125732,
          3.1415927410125732,
          3.1415927410125732,
          3.1415927410125732,
          3.1415927410125732,
          3.1415927410125732,
          3.1415927410125732,
          3.1415927410125732,
          3.1415927410125732,
          3.1415927410125732,
          3.1415927410125732,
          3.1415927410125732,
          3.1415927410125732,
          3.1415927410125732,
          2.8765714168548584,
          2.6683812141418457,
          2.536968469619751,
          2.439110040664673,
          2.3621866703033447,
          2.3004660606384277,
          2.2508859634399414,
          2.2114410400390625,
          2.1807210445404053,
          2.157702922821045,
          2.1416358947753906,
          2.1319680213928223,
          2.1282858848571777,
          2.1302294731140137,
          2.1373491287231445,
          2.1488161087036133,
          2.1628201007843018,
          2.179603338241577,
          2.1994309425354004,
          2.2226126194000244,
          2.2495298385620117,
          2.2806732654571533,
          2.3167378902435303,
          2.3588340282440186,
          2.4079806804656982,
          2.4656646251678467,
          2.534263849258423,
          2.61801815032959,
          2.725904941558838,
          2.8865437507629395
         ],
         "yaxis": "y3"
        },
        {
         "name": "rCost_right_0",
         "type": "scatter",
         "x": [
          0,
          1,
          2,
          3,
          4,
          5,
          6,
          7,
          8,
          9,
          10,
          11,
          12,
          13,
          14,
          15,
          16,
          17,
          18,
          19,
          20,
          21,
          22,
          23,
          24,
          25,
          26,
          27,
          28,
          29,
          30,
          31,
          32,
          33,
          34,
          35,
          36,
          37,
          38,
          39,
          40,
          41,
          42,
          43,
          44,
          45,
          46,
          47,
          48,
          49,
          50,
          51,
          52,
          53
         ],
         "xaxis": "x4",
         "y": [
          1.6249732971191406,
          1.6332889795303345,
          1.6424812078475952,
          1.652580976486206,
          1.6636035442352295,
          1.6755461692810059,
          1.6883909702301025,
          1.7021266222000122,
          1.7167713642120361,
          1.732374668121338,
          1.7489876747131348,
          1.7666025161743164,
          1.7850492000579834,
          1.8037956953048706,
          1.822845697402954,
          1.8421903848648071,
          1.8618133068084717,
          1.8817018270492554,
          1.9018409252166748,
          1.9222030639648438,
          1.9427261352539062,
          1.9632830619812012,
          1.9836440086364746,
          2.003434658050537,
          2.0221264362335205,
          2.0391130447387695,
          2.0538296699523926,
          2.065796375274658,
          2.074589252471924,
          2.079803705215454,
          2.0810415744781494,
          2.0779225826263428,
          2.0700936317443848,
          2.0572571754455566,
          2.0392227172851562,
          2.015958547592163,
          1.987659215927124,
          1.9548135995864868,
          1.918986201286316,
          1.8808174133300781,
          1.8409254550933838,
          1.8009647130966187,
          1.7627817392349243,
          1.727414846420288,
          1.6957799196243286,
          1.6686028242111206,
          1.6463522911071777,
          1.629188895225525,
          1.6161696910858154,
          1.6064622402191162,
          1.5993657112121582,
          1.594325065612793,
          1.5909191370010376,
          1.5887515544891357,
          1.5875414609909058,
          1.587013602256775,
          1.5870088338851929,
          1.587403416633606,
          1.5880944728851318,
          1.5889897346496582,
          1.5900027751922607,
          1.5910513401031494,
          1.5920602083206177,
          1.59296715259552,
          1.5937368869781494,
          1.5943843126296997,
          1.5950238704681396,
          1.5956302881240845,
          1.5961754322052002,
          1.5966299772262573,
          1.5969626903533936,
          1.597141981124878,
          1.597136378288269,
          1.5969141721725464,
          1.5964429378509521,
          1.5956873893737793,
          1.5946149826049805,
          1.5931965112686157,
          1.5913996696472168,
          1.589187741279602
         ],
         "yaxis": "y4"
        },
        {
         "name": "pCost_left_1",
         "type": "scatter",
         "x": [
          0,
          1,
          2,
          3,
          4,
          5,
          6,
          7,
          8,
          9,
          10,
          11,
          12,
          13,
          14,
          15,
          16,
          17,
          18,
          19,
          20,
          21,
          22,
          23,
          24,
          25,
          26,
          27,
          28,
          29,
          30,
          31,
          32,
          33,
          34,
          35,
          36,
          37,
          38,
          39,
          40,
          41,
          42,
          43,
          44,
          45,
          46,
          47,
          48,
          49,
          50,
          51,
          52,
          53
         ],
         "xaxis": "x",
         "y": [
          1.3398542404174805,
          1.3378574848175049,
          1.3355194330215454,
          1.3328133821487427,
          1.3297103643417358,
          1.3261815309524536,
          1.3221991062164307,
          1.317740797996521,
          1.3127106428146362,
          1.306985855102539,
          1.3004213571548462,
          1.2928590774536133,
          1.2841078042984009,
          1.2738118171691895,
          1.2618052959442139,
          1.2479212284088135,
          1.2319749593734741,
          1.2137452363967896,
          1.1929566860198975,
          1.1692765951156616,
          1.142358422279358,
          1.1119120121002197,
          1.0777393579483032,
          1.0397571325302124,
          0.9980371594429016,
          0.9528927206993103,
          0.9050424098968506,
          0.8546319007873535,
          0.8018532395362854,
          0.746945321559906,
          0.6902062296867371,
          0.6320154070854187,
          0.5728185772895813,
          0.5130727291107178,
          0.4531662166118622,
          0.39409929513931274,
          0.33706703782081604,
          0.2835206091403961,
          0.2340514063835144,
          0.18921712040901184,
          0.14953289926052094,
          0.11546393483877182,
          0.08742546290159225,
          0.06472396850585938,
          0.04669984057545662,
          0.03275226801633835,
          0.02235426940023899,
          0.015045800246298313,
          0.009990380145609379,
          0.006508483551442623,
          0.004149762913584709,
          0.0025909538380801678,
          0.0015889048809185624,
          0.0009641767828725278,
          0.0005868194857612252,
          0.00036473263753578067,
          0.00023452074674423784,
          0.000154705616296269,
          0.00010091553849633783,
          0.0000620883729425259,
          0.000036542835005093366,
          0.000026814064767677337,
          0.0000461117087979801,
          0.00011188855569344014,
          0.00024688433040864766,
          0.0004806683282367885,
          0.000851549906656146,
          0.0014094403013586998,
          0.002221676055341959,
          0.003361612791195512,
          0.004911206662654877,
          0.006958027835935354,
          0.009591319598257542,
          0.01289883628487587,
          0.016965065151453018,
          0.021869536489248276,
          0.027685176581144333,
          0.0344822034239769,
          0.04234331101179123,
          0.05134406313300133
         ],
         "yaxis": "y"
        },
        {
         "name": "pCost_right_1",
         "type": "scatter",
         "x": [
          0,
          1,
          2,
          3,
          4,
          5,
          6,
          7,
          8,
          9,
          10,
          11,
          12,
          13,
          14,
          15,
          16,
          17,
          18,
          19,
          20,
          21,
          22,
          23,
          24,
          25,
          26,
          27,
          28,
          29,
          30,
          31,
          32,
          33,
          34,
          35,
          36,
          37,
          38,
          39,
          40,
          41,
          42,
          43,
          44,
          45,
          46,
          47,
          48,
          49,
          50,
          51,
          52,
          53
         ],
         "xaxis": "x2",
         "y": [
          1.2038686275482178,
          1.1850459575653076,
          1.1649115085601807,
          1.143369436264038,
          1.120383620262146,
          1.096001386642456,
          1.0703918933868408,
          1.0439205169677734,
          1.0173019170761108,
          0.9906596541404724,
          0.9641363024711609,
          0.937869668006897,
          0.9119704961776733,
          0.886519730091095,
          0.8615777492523193,
          0.8371963500976562,
          0.8134341239929199,
          0.7903704643249512,
          0.7681159973144531,
          0.7468065023422241,
          0.7265604734420776,
          0.707431435585022,
          0.6893944144248962,
          0.6723542809486389,
          0.6561552882194519,
          0.6405895948410034,
          0.6254032850265503,
          0.6103087067604065,
          0.595004141330719,
          0.5791952013969421,
          0.5626360177993774,
          0.5452041029930115,
          0.5270674824714661,
          0.5075399875640869,
          0.48579084873199463,
          0.4610094726085663,
          0.432498037815094,
          0.3998146653175354,
          0.3630163371562958,
          0.3225972056388855,
          0.27967825531959534,
          0.23625510931015015,
          0.19551832973957062,
          0.15842878818511963,
          0.12557901442050934,
          0.09723256528377533,
          0.07337939739227295,
          0.053816057741642,
          0.03825874626636505,
          0.026296835392713547,
          0.017480410635471344,
          0.011287574656307697,
          0.0072048120200634,
          0.004753362387418747,
          0.003507514949887991,
          0.0031064897775650024,
          0.003261423669755459,
          0.003759114071726799,
          0.004461957607418299,
          0.0053012254647910595,
          0.006255641579627991,
          0.007302614860236645,
          0.00844077579677105,
          0.00967024452984333,
          0.01099453866481781,
          0.01242203637957573,
          0.013966832309961319,
          0.015650004148483276,
          0.017501484602689743,
          0.01956501603126526,
          0.021908726543188095,
          0.024624546989798546,
          0.027829080820083618,
          0.03167947009205818,
          0.03639448434114456,
          0.04227720573544502,
          0.049731623381376266,
          0.05927874520421028,
          0.07156705111265182,
          0.08736476302146912
         ],
         "yaxis": "y2"
        },
        {
         "name": "rCost_left_1",
         "type": "scatter",
         "x": [
          0,
          1,
          2,
          3,
          4,
          5,
          6,
          7,
          8,
          9,
          10,
          11,
          12,
          13,
          14,
          15,
          16,
          17,
          18,
          19,
          20,
          21,
          22,
          23,
          24,
          25,
          26,
          27,
          28,
          29,
          30,
          31,
          32,
          33,
          34,
          35,
          36,
          37,
          38,
          39,
          40,
          41,
          42,
          43,
          44,
          45,
          46,
          47,
          48,
          49,
          50,
          51,
          52,
          53
         ],
         "xaxis": "x3",
         "y": [
          1.5708751678466797,
          1.570799469947815,
          1.5708400011062622,
          1.5710632801055908,
          1.5715546607971191,
          1.5724256038665771,
          1.5738329887390137,
          1.576027512550354,
          1.5792685747146606,
          1.5838454961776733,
          1.590074062347412,
          1.5982944965362549,
          1.608884334564209,
          1.6223211288452148,
          1.6390684843063354,
          1.6596269607543945,
          1.6845468282699585,
          1.7144534587860107,
          1.750083327293396,
          1.7923179864883423,
          1.842177391052246,
          1.9007741212844849,
          1.9693049192428589,
          2.0491201877593994,
          2.1418800354003906,
          2.2498536109924316,
          2.3766324520111084,
          2.5310237407684326,
          2.738842248916626,
          3.1415927410125732,
          3.1415927410125732,
          3.1415927410125732,
          3.1415927410125732,
          3.1415927410125732,
          3.1415927410125732,
          3.1415927410125732,
          3.1415927410125732,
          3.1415927410125732,
          3.1415927410125732,
          3.1415927410125732,
          3.1415927410125732,
          3.1415927410125732,
          3.1415927410125732,
          3.1415927410125732,
          3.1415927410125732,
          2.8765714168548584,
          2.6683812141418457,
          2.536968469619751,
          2.439110040664673,
          2.3621866703033447,
          2.3004660606384277,
          2.2508859634399414,
          2.2114410400390625,
          2.1807210445404053,
          2.157702922821045,
          2.1416358947753906,
          2.1319680213928223,
          2.1282858848571777,
          2.1302294731140137,
          2.1373491287231445,
          2.1488161087036133,
          2.1628201007843018,
          2.179603338241577,
          2.1994309425354004,
          2.2226126194000244,
          2.2495298385620117,
          2.2806732654571533,
          2.3167378902435303,
          2.3588340282440186,
          2.4079806804656982,
          2.4656646251678467,
          2.534263849258423,
          2.61801815032959,
          2.725904941558838,
          2.8865437507629395,
          3.1415927410125732,
          3.1415927410125732,
          3.1415927410125732,
          3.1415927410125732,
          3.1415927410125732
         ],
         "yaxis": "y3"
        },
        {
         "name": "rCost_right_1",
         "type": "scatter",
         "x": [
          0,
          1,
          2,
          3,
          4,
          5,
          6,
          7,
          8,
          9,
          10,
          11,
          12,
          13,
          14,
          15,
          16,
          17,
          18,
          19,
          20,
          21,
          22,
          23,
          24,
          25,
          26,
          27,
          28,
          29,
          30,
          31,
          32,
          33,
          34,
          35,
          36,
          37,
          38,
          39,
          40,
          41,
          42,
          43,
          44,
          45,
          46,
          47,
          48,
          49,
          50,
          51,
          52,
          53
         ],
         "xaxis": "x4",
         "y": [
          1.6755461692810059,
          1.6883909702301025,
          1.7021266222000122,
          1.7167713642120361,
          1.732374668121338,
          1.7489876747131348,
          1.7666025161743164,
          1.7850492000579834,
          1.8037956953048706,
          1.822845697402954,
          1.8421903848648071,
          1.8618133068084717,
          1.8817018270492554,
          1.9018409252166748,
          1.9222030639648438,
          1.9427261352539062,
          1.9632830619812012,
          1.9836440086364746,
          2.003434658050537,
          2.0221264362335205,
          2.0391130447387695,
          2.0538296699523926,
          2.065796375274658,
          2.074589252471924,
          2.079803705215454,
          2.0810415744781494,
          2.0779225826263428,
          2.0700936317443848,
          2.0572571754455566,
          2.0392227172851562,
          2.015958547592163,
          1.987659215927124,
          1.9548135995864868,
          1.918986201286316,
          1.8808174133300781,
          1.8409254550933838,
          1.8009647130966187,
          1.7627817392349243,
          1.727414846420288,
          1.6957799196243286,
          1.6686028242111206,
          1.6463522911071777,
          1.629188895225525,
          1.6161696910858154,
          1.6064622402191162,
          1.5993657112121582,
          1.594325065612793,
          1.5909191370010376,
          1.5887515544891357,
          1.5875414609909058,
          1.587013602256775,
          1.5870088338851929,
          1.587403416633606,
          1.5880944728851318,
          1.5889897346496582,
          1.5900027751922607,
          1.5910513401031494,
          1.5920602083206177,
          1.59296715259552,
          1.5937368869781494,
          1.5943843126296997,
          1.5950238704681396,
          1.5956302881240845,
          1.5961754322052002,
          1.5966299772262573,
          1.5969626903533936,
          1.597141981124878,
          1.597136378288269,
          1.5969141721725464,
          1.5964429378509521,
          1.5956873893737793,
          1.5946149826049805,
          1.5931965112686157,
          1.5913996696472168,
          1.589187741279602,
          1.586532711982727,
          1.583449125289917,
          1.5800453424453735,
          1.5765758752822876,
          1.573475956916809
         ],
         "yaxis": "y4"
        },
        {
         "name": "pCost_left_2",
         "type": "scatter",
         "x": [
          0,
          1,
          2,
          3,
          4,
          5,
          6,
          7,
          8,
          9,
          10,
          11,
          12,
          13,
          14,
          15,
          16,
          17,
          18,
          19,
          20,
          21,
          22,
          23,
          24,
          25,
          26,
          27,
          28,
          29,
          30,
          31,
          32,
          33,
          34,
          35,
          36,
          37,
          38,
          39,
          40,
          41,
          42,
          43,
          44,
          45,
          46,
          47,
          48,
          49,
          50,
          51,
          52,
          53
         ],
         "xaxis": "x",
         "y": [
          1.3261815309524536,
          1.3221991062164307,
          1.317740797996521,
          1.3127106428146362,
          1.306985855102539,
          1.3004213571548462,
          1.2928590774536133,
          1.2841078042984009,
          1.2738118171691895,
          1.2618052959442139,
          1.2479212284088135,
          1.2319749593734741,
          1.2137452363967896,
          1.1929566860198975,
          1.1692765951156616,
          1.142358422279358,
          1.1119120121002197,
          1.0777393579483032,
          1.0397571325302124,
          0.9980371594429016,
          0.9528927206993103,
          0.9050424098968506,
          0.8546319007873535,
          0.8018532395362854,
          0.746945321559906,
          0.6902062296867371,
          0.6320154070854187,
          0.5728185772895813,
          0.5130727291107178,
          0.4531662166118622,
          0.39409929513931274,
          0.33706703782081604,
          0.2835206091403961,
          0.2340514063835144,
          0.18921712040901184,
          0.14953289926052094,
          0.11546393483877182,
          0.08742546290159225,
          0.06472396850585938,
          0.04669984057545662,
          0.03275226801633835,
          0.02235426940023899,
          0.015045800246298313,
          0.009990380145609379,
          0.006508483551442623,
          0.004149762913584709,
          0.0025909538380801678,
          0.0015889048809185624,
          0.0009641767828725278,
          0.0005868194857612252,
          0.00036473263753578067,
          0.00023452074674423784,
          0.000154705616296269,
          0.00010091553849633783,
          0.0000620883729425259,
          0.000036542835005093366,
          0.000026814064767677337,
          0.0000461117087979801,
          0.00011188855569344014,
          0.00024688433040864766,
          0.0004806683282367885,
          0.000851549906656146,
          0.0014094403013586998,
          0.002221676055341959,
          0.003361612791195512,
          0.004911206662654877,
          0.006958027835935354,
          0.009591319598257542,
          0.01289883628487587,
          0.016965065151453018,
          0.021869536489248276,
          0.027685176581144333,
          0.0344822034239769,
          0.04234331101179123,
          0.05134406313300133,
          0.061597853899002075,
          0.07326547801494598,
          0.08656100928783417,
          0.10174866765737534,
          0.11911726742982864
         ],
         "yaxis": "y"
        },
        {
         "name": "pCost_right_2",
         "type": "scatter",
         "x": [
          0,
          1,
          2,
          3,
          4,
          5,
          6,
          7,
          8,
          9,
          10,
          11,
          12,
          13,
          14,
          15,
          16,
          17,
          18,
          19,
          20,
          21,
          22,
          23,
          24,
          25,
          26,
          27,
          28,
          29,
          30,
          31,
          32,
          33,
          34,
          35,
          36,
          37,
          38,
          39,
          40,
          41,
          42,
          43,
          44,
          45,
          46,
          47,
          48,
          49,
          50,
          51,
          52,
          53
         ],
         "xaxis": "x2",
         "y": [
          1.096001386642456,
          1.0703918933868408,
          1.0439205169677734,
          1.0173019170761108,
          0.9906596541404724,
          0.9641363024711609,
          0.937869668006897,
          0.9119704961776733,
          0.886519730091095,
          0.8615777492523193,
          0.8371963500976562,
          0.8134341239929199,
          0.7903704643249512,
          0.7681159973144531,
          0.7468065023422241,
          0.7265604734420776,
          0.707431435585022,
          0.6893944144248962,
          0.6723542809486389,
          0.6561552882194519,
          0.6405895948410034,
          0.6254032850265503,
          0.6103087067604065,
          0.595004141330719,
          0.5791952013969421,
          0.5626360177993774,
          0.5452041029930115,
          0.5270674824714661,
          0.5075399875640869,
          0.48579084873199463,
          0.4610094726085663,
          0.432498037815094,
          0.3998146653175354,
          0.3630163371562958,
          0.3225972056388855,
          0.27967825531959534,
          0.23625510931015015,
          0.19551832973957062,
          0.15842878818511963,
          0.12557901442050934,
          0.09723256528377533,
          0.07337939739227295,
          0.053816057741642,
          0.03825874626636505,
          0.026296835392713547,
          0.017480410635471344,
          0.011287574656307697,
          0.0072048120200634,
          0.004753362387418747,
          0.003507514949887991,
          0.0031064897775650024,
          0.003261423669755459,
          0.003759114071726799,
          0.004461957607418299,
          0.0053012254647910595,
          0.006255641579627991,
          0.007302614860236645,
          0.00844077579677105,
          0.00967024452984333,
          0.01099453866481781,
          0.01242203637957573,
          0.013966832309961319,
          0.015650004148483276,
          0.017501484602689743,
          0.01956501603126526,
          0.021908726543188095,
          0.024624546989798546,
          0.027829080820083618,
          0.03167947009205818,
          0.03639448434114456,
          0.04227720573544502,
          0.049731623381376266,
          0.05927874520421028,
          0.07156705111265182,
          0.08736476302146912,
          0.1075204536318779,
          0.13311287760734558,
          0.16529670357704163,
          0.20522361993789673,
          0.25393807888031006
         ],
         "yaxis": "y2"
        },
        {
         "name": "rCost_left_2",
         "type": "scatter",
         "x": [
          0,
          1,
          2,
          3,
          4,
          5,
          6,
          7,
          8,
          9,
          10,
          11,
          12,
          13,
          14,
          15,
          16,
          17,
          18,
          19,
          20,
          21,
          22,
          23,
          24,
          25,
          26,
          27,
          28,
          29,
          30,
          31,
          32,
          33,
          34,
          35,
          36,
          37,
          38,
          39,
          40,
          41,
          42,
          43,
          44,
          45,
          46,
          47,
          48,
          49,
          50,
          51,
          52,
          53
         ],
         "xaxis": "x3",
         "y": [
          1.5724256038665771,
          1.5738329887390137,
          1.576027512550354,
          1.5792685747146606,
          1.5838454961776733,
          1.590074062347412,
          1.5982944965362549,
          1.608884334564209,
          1.6223211288452148,
          1.6390684843063354,
          1.6596269607543945,
          1.6845468282699585,
          1.7144534587860107,
          1.750083327293396,
          1.7923179864883423,
          1.842177391052246,
          1.9007741212844849,
          1.9693049192428589,
          2.0491201877593994,
          2.1418800354003906,
          2.2498536109924316,
          2.3766324520111084,
          2.5310237407684326,
          2.738842248916626,
          3.1415927410125732,
          3.1415927410125732,
          3.1415927410125732,
          3.1415927410125732,
          3.1415927410125732,
          3.1415927410125732,
          3.1415927410125732,
          3.1415927410125732,
          3.1415927410125732,
          3.1415927410125732,
          3.1415927410125732,
          3.1415927410125732,
          3.1415927410125732,
          3.1415927410125732,
          3.1415927410125732,
          3.1415927410125732,
          2.8765714168548584,
          2.6683812141418457,
          2.536968469619751,
          2.439110040664673,
          2.3621866703033447,
          2.3004660606384277,
          2.2508859634399414,
          2.2114410400390625,
          2.1807210445404053,
          2.157702922821045,
          2.1416358947753906,
          2.1319680213928223,
          2.1282858848571777,
          2.1302294731140137,
          2.1373491287231445,
          2.1488161087036133,
          2.1628201007843018,
          2.179603338241577,
          2.1994309425354004,
          2.2226126194000244,
          2.2495298385620117,
          2.2806732654571533,
          2.3167378902435303,
          2.3588340282440186,
          2.4079806804656982,
          2.4656646251678467,
          2.534263849258423,
          2.61801815032959,
          2.725904941558838,
          2.8865437507629395,
          3.1415927410125732,
          3.1415927410125732,
          3.1415927410125732,
          3.1415927410125732,
          3.1415927410125732,
          3.1415927410125732,
          3.1415927410125732,
          3.1415927410125732,
          3.1415927410125732,
          3.1415927410125732
         ],
         "yaxis": "y3"
        },
        {
         "name": "rCost_right_2",
         "type": "scatter",
         "x": [
          0,
          1,
          2,
          3,
          4,
          5,
          6,
          7,
          8,
          9,
          10,
          11,
          12,
          13,
          14,
          15,
          16,
          17,
          18,
          19,
          20,
          21,
          22,
          23,
          24,
          25,
          26,
          27,
          28,
          29,
          30,
          31,
          32,
          33,
          34,
          35,
          36,
          37,
          38,
          39,
          40,
          41,
          42,
          43,
          44,
          45,
          46,
          47,
          48,
          49,
          50,
          51,
          52,
          53
         ],
         "xaxis": "x4",
         "y": [
          1.7489876747131348,
          1.7666025161743164,
          1.7850492000579834,
          1.8037956953048706,
          1.822845697402954,
          1.8421903848648071,
          1.8618133068084717,
          1.8817018270492554,
          1.9018409252166748,
          1.9222030639648438,
          1.9427261352539062,
          1.9632830619812012,
          1.9836440086364746,
          2.003434658050537,
          2.0221264362335205,
          2.0391130447387695,
          2.0538296699523926,
          2.065796375274658,
          2.074589252471924,
          2.079803705215454,
          2.0810415744781494,
          2.0779225826263428,
          2.0700936317443848,
          2.0572571754455566,
          2.0392227172851562,
          2.015958547592163,
          1.987659215927124,
          1.9548135995864868,
          1.918986201286316,
          1.8808174133300781,
          1.8409254550933838,
          1.8009647130966187,
          1.7627817392349243,
          1.727414846420288,
          1.6957799196243286,
          1.6686028242111206,
          1.6463522911071777,
          1.629188895225525,
          1.6161696910858154,
          1.6064622402191162,
          1.5993657112121582,
          1.594325065612793,
          1.5909191370010376,
          1.5887515544891357,
          1.5875414609909058,
          1.587013602256775,
          1.5870088338851929,
          1.587403416633606,
          1.5880944728851318,
          1.5889897346496582,
          1.5900027751922607,
          1.5910513401031494,
          1.5920602083206177,
          1.59296715259552,
          1.5937368869781494,
          1.5943843126296997,
          1.5950238704681396,
          1.5956302881240845,
          1.5961754322052002,
          1.5966299772262573,
          1.5969626903533936,
          1.597141981124878,
          1.597136378288269,
          1.5969141721725464,
          1.5964429378509521,
          1.5956873893737793,
          1.5946149826049805,
          1.5931965112686157,
          1.5913996696472168,
          1.589187741279602,
          1.586532711982727,
          1.583449125289917,
          1.5800453424453735,
          1.5765758752822876,
          1.573475956916809,
          1.571348786354065,
          1.5708708763122559,
          1.5727587938308716,
          1.5776746273040771,
          1.5861166715621948
         ],
         "yaxis": "y4"
        }
       ],
       "layout": {
        "template": {
         "data": {
          "bar": [
           {
            "error_x": {
             "color": "#2a3f5f"
            },
            "error_y": {
             "color": "#2a3f5f"
            },
            "marker": {
             "line": {
              "color": "#E5ECF6",
              "width": 0.5
             }
            },
            "type": "bar"
           }
          ],
          "barpolar": [
           {
            "marker": {
             "line": {
              "color": "#E5ECF6",
              "width": 0.5
             }
            },
            "type": "barpolar"
           }
          ],
          "carpet": [
           {
            "aaxis": {
             "endlinecolor": "#2a3f5f",
             "gridcolor": "white",
             "linecolor": "white",
             "minorgridcolor": "white",
             "startlinecolor": "#2a3f5f"
            },
            "baxis": {
             "endlinecolor": "#2a3f5f",
             "gridcolor": "white",
             "linecolor": "white",
             "minorgridcolor": "white",
             "startlinecolor": "#2a3f5f"
            },
            "type": "carpet"
           }
          ],
          "choropleth": [
           {
            "colorbar": {
             "outlinewidth": 0,
             "ticks": ""
            },
            "type": "choropleth"
           }
          ],
          "contour": [
           {
            "colorbar": {
             "outlinewidth": 0,
             "ticks": ""
            },
            "colorscale": [
             [
              0,
              "#0d0887"
             ],
             [
              0.1111111111111111,
              "#46039f"
             ],
             [
              0.2222222222222222,
              "#7201a8"
             ],
             [
              0.3333333333333333,
              "#9c179e"
             ],
             [
              0.4444444444444444,
              "#bd3786"
             ],
             [
              0.5555555555555556,
              "#d8576b"
             ],
             [
              0.6666666666666666,
              "#ed7953"
             ],
             [
              0.7777777777777778,
              "#fb9f3a"
             ],
             [
              0.8888888888888888,
              "#fdca26"
             ],
             [
              1,
              "#f0f921"
             ]
            ],
            "type": "contour"
           }
          ],
          "contourcarpet": [
           {
            "colorbar": {
             "outlinewidth": 0,
             "ticks": ""
            },
            "type": "contourcarpet"
           }
          ],
          "heatmap": [
           {
            "colorbar": {
             "outlinewidth": 0,
             "ticks": ""
            },
            "colorscale": [
             [
              0,
              "#0d0887"
             ],
             [
              0.1111111111111111,
              "#46039f"
             ],
             [
              0.2222222222222222,
              "#7201a8"
             ],
             [
              0.3333333333333333,
              "#9c179e"
             ],
             [
              0.4444444444444444,
              "#bd3786"
             ],
             [
              0.5555555555555556,
              "#d8576b"
             ],
             [
              0.6666666666666666,
              "#ed7953"
             ],
             [
              0.7777777777777778,
              "#fb9f3a"
             ],
             [
              0.8888888888888888,
              "#fdca26"
             ],
             [
              1,
              "#f0f921"
             ]
            ],
            "type": "heatmap"
           }
          ],
          "heatmapgl": [
           {
            "colorbar": {
             "outlinewidth": 0,
             "ticks": ""
            },
            "colorscale": [
             [
              0,
              "#0d0887"
             ],
             [
              0.1111111111111111,
              "#46039f"
             ],
             [
              0.2222222222222222,
              "#7201a8"
             ],
             [
              0.3333333333333333,
              "#9c179e"
             ],
             [
              0.4444444444444444,
              "#bd3786"
             ],
             [
              0.5555555555555556,
              "#d8576b"
             ],
             [
              0.6666666666666666,
              "#ed7953"
             ],
             [
              0.7777777777777778,
              "#fb9f3a"
             ],
             [
              0.8888888888888888,
              "#fdca26"
             ],
             [
              1,
              "#f0f921"
             ]
            ],
            "type": "heatmapgl"
           }
          ],
          "histogram": [
           {
            "marker": {
             "colorbar": {
              "outlinewidth": 0,
              "ticks": ""
             }
            },
            "type": "histogram"
           }
          ],
          "histogram2d": [
           {
            "colorbar": {
             "outlinewidth": 0,
             "ticks": ""
            },
            "colorscale": [
             [
              0,
              "#0d0887"
             ],
             [
              0.1111111111111111,
              "#46039f"
             ],
             [
              0.2222222222222222,
              "#7201a8"
             ],
             [
              0.3333333333333333,
              "#9c179e"
             ],
             [
              0.4444444444444444,
              "#bd3786"
             ],
             [
              0.5555555555555556,
              "#d8576b"
             ],
             [
              0.6666666666666666,
              "#ed7953"
             ],
             [
              0.7777777777777778,
              "#fb9f3a"
             ],
             [
              0.8888888888888888,
              "#fdca26"
             ],
             [
              1,
              "#f0f921"
             ]
            ],
            "type": "histogram2d"
           }
          ],
          "histogram2dcontour": [
           {
            "colorbar": {
             "outlinewidth": 0,
             "ticks": ""
            },
            "colorscale": [
             [
              0,
              "#0d0887"
             ],
             [
              0.1111111111111111,
              "#46039f"
             ],
             [
              0.2222222222222222,
              "#7201a8"
             ],
             [
              0.3333333333333333,
              "#9c179e"
             ],
             [
              0.4444444444444444,
              "#bd3786"
             ],
             [
              0.5555555555555556,
              "#d8576b"
             ],
             [
              0.6666666666666666,
              "#ed7953"
             ],
             [
              0.7777777777777778,
              "#fb9f3a"
             ],
             [
              0.8888888888888888,
              "#fdca26"
             ],
             [
              1,
              "#f0f921"
             ]
            ],
            "type": "histogram2dcontour"
           }
          ],
          "mesh3d": [
           {
            "colorbar": {
             "outlinewidth": 0,
             "ticks": ""
            },
            "type": "mesh3d"
           }
          ],
          "parcoords": [
           {
            "line": {
             "colorbar": {
              "outlinewidth": 0,
              "ticks": ""
             }
            },
            "type": "parcoords"
           }
          ],
          "pie": [
           {
            "automargin": true,
            "type": "pie"
           }
          ],
          "scatter": [
           {
            "marker": {
             "colorbar": {
              "outlinewidth": 0,
              "ticks": ""
             }
            },
            "type": "scatter"
           }
          ],
          "scatter3d": [
           {
            "line": {
             "colorbar": {
              "outlinewidth": 0,
              "ticks": ""
             }
            },
            "marker": {
             "colorbar": {
              "outlinewidth": 0,
              "ticks": ""
             }
            },
            "type": "scatter3d"
           }
          ],
          "scattercarpet": [
           {
            "marker": {
             "colorbar": {
              "outlinewidth": 0,
              "ticks": ""
             }
            },
            "type": "scattercarpet"
           }
          ],
          "scattergeo": [
           {
            "marker": {
             "colorbar": {
              "outlinewidth": 0,
              "ticks": ""
             }
            },
            "type": "scattergeo"
           }
          ],
          "scattergl": [
           {
            "marker": {
             "colorbar": {
              "outlinewidth": 0,
              "ticks": ""
             }
            },
            "type": "scattergl"
           }
          ],
          "scattermapbox": [
           {
            "marker": {
             "colorbar": {
              "outlinewidth": 0,
              "ticks": ""
             }
            },
            "type": "scattermapbox"
           }
          ],
          "scatterpolar": [
           {
            "marker": {
             "colorbar": {
              "outlinewidth": 0,
              "ticks": ""
             }
            },
            "type": "scatterpolar"
           }
          ],
          "scatterpolargl": [
           {
            "marker": {
             "colorbar": {
              "outlinewidth": 0,
              "ticks": ""
             }
            },
            "type": "scatterpolargl"
           }
          ],
          "scatterternary": [
           {
            "marker": {
             "colorbar": {
              "outlinewidth": 0,
              "ticks": ""
             }
            },
            "type": "scatterternary"
           }
          ],
          "surface": [
           {
            "colorbar": {
             "outlinewidth": 0,
             "ticks": ""
            },
            "colorscale": [
             [
              0,
              "#0d0887"
             ],
             [
              0.1111111111111111,
              "#46039f"
             ],
             [
              0.2222222222222222,
              "#7201a8"
             ],
             [
              0.3333333333333333,
              "#9c179e"
             ],
             [
              0.4444444444444444,
              "#bd3786"
             ],
             [
              0.5555555555555556,
              "#d8576b"
             ],
             [
              0.6666666666666666,
              "#ed7953"
             ],
             [
              0.7777777777777778,
              "#fb9f3a"
             ],
             [
              0.8888888888888888,
              "#fdca26"
             ],
             [
              1,
              "#f0f921"
             ]
            ],
            "type": "surface"
           }
          ],
          "table": [
           {
            "cells": {
             "fill": {
              "color": "#EBF0F8"
             },
             "line": {
              "color": "white"
             }
            },
            "header": {
             "fill": {
              "color": "#C8D4E3"
             },
             "line": {
              "color": "white"
             }
            },
            "type": "table"
           }
          ]
         },
         "layout": {
          "annotationdefaults": {
           "arrowcolor": "#2a3f5f",
           "arrowhead": 0,
           "arrowwidth": 1
          },
          "autotypenumbers": "strict",
          "coloraxis": {
           "colorbar": {
            "outlinewidth": 0,
            "ticks": ""
           }
          },
          "colorscale": {
           "diverging": [
            [
             0,
             "#8e0152"
            ],
            [
             0.1,
             "#c51b7d"
            ],
            [
             0.2,
             "#de77ae"
            ],
            [
             0.3,
             "#f1b6da"
            ],
            [
             0.4,
             "#fde0ef"
            ],
            [
             0.5,
             "#f7f7f7"
            ],
            [
             0.6,
             "#e6f5d0"
            ],
            [
             0.7,
             "#b8e186"
            ],
            [
             0.8,
             "#7fbc41"
            ],
            [
             0.9,
             "#4d9221"
            ],
            [
             1,
             "#276419"
            ]
           ],
           "sequential": [
            [
             0,
             "#0d0887"
            ],
            [
             0.1111111111111111,
             "#46039f"
            ],
            [
             0.2222222222222222,
             "#7201a8"
            ],
            [
             0.3333333333333333,
             "#9c179e"
            ],
            [
             0.4444444444444444,
             "#bd3786"
            ],
            [
             0.5555555555555556,
             "#d8576b"
            ],
            [
             0.6666666666666666,
             "#ed7953"
            ],
            [
             0.7777777777777778,
             "#fb9f3a"
            ],
            [
             0.8888888888888888,
             "#fdca26"
            ],
            [
             1,
             "#f0f921"
            ]
           ],
           "sequentialminus": [
            [
             0,
             "#0d0887"
            ],
            [
             0.1111111111111111,
             "#46039f"
            ],
            [
             0.2222222222222222,
             "#7201a8"
            ],
            [
             0.3333333333333333,
             "#9c179e"
            ],
            [
             0.4444444444444444,
             "#bd3786"
            ],
            [
             0.5555555555555556,
             "#d8576b"
            ],
            [
             0.6666666666666666,
             "#ed7953"
            ],
            [
             0.7777777777777778,
             "#fb9f3a"
            ],
            [
             0.8888888888888888,
             "#fdca26"
            ],
            [
             1,
             "#f0f921"
            ]
           ]
          },
          "colorway": [
           "#636efa",
           "#EF553B",
           "#00cc96",
           "#ab63fa",
           "#FFA15A",
           "#19d3f3",
           "#FF6692",
           "#B6E880",
           "#FF97FF",
           "#FECB52"
          ],
          "font": {
           "color": "#2a3f5f"
          },
          "geo": {
           "bgcolor": "white",
           "lakecolor": "white",
           "landcolor": "#E5ECF6",
           "showlakes": true,
           "showland": true,
           "subunitcolor": "white"
          },
          "hoverlabel": {
           "align": "left"
          },
          "hovermode": "closest",
          "mapbox": {
           "style": "light"
          },
          "paper_bgcolor": "white",
          "plot_bgcolor": "#E5ECF6",
          "polar": {
           "angularaxis": {
            "gridcolor": "white",
            "linecolor": "white",
            "ticks": ""
           },
           "bgcolor": "#E5ECF6",
           "radialaxis": {
            "gridcolor": "white",
            "linecolor": "white",
            "ticks": ""
           }
          },
          "scene": {
           "xaxis": {
            "backgroundcolor": "#E5ECF6",
            "gridcolor": "white",
            "gridwidth": 2,
            "linecolor": "white",
            "showbackground": true,
            "ticks": "",
            "zerolinecolor": "white"
           },
           "yaxis": {
            "backgroundcolor": "#E5ECF6",
            "gridcolor": "white",
            "gridwidth": 2,
            "linecolor": "white",
            "showbackground": true,
            "ticks": "",
            "zerolinecolor": "white"
           },
           "zaxis": {
            "backgroundcolor": "#E5ECF6",
            "gridcolor": "white",
            "gridwidth": 2,
            "linecolor": "white",
            "showbackground": true,
            "ticks": "",
            "zerolinecolor": "white"
           }
          },
          "shapedefaults": {
           "line": {
            "color": "#2a3f5f"
           }
          },
          "ternary": {
           "aaxis": {
            "gridcolor": "white",
            "linecolor": "white",
            "ticks": ""
           },
           "baxis": {
            "gridcolor": "white",
            "linecolor": "white",
            "ticks": ""
           },
           "bgcolor": "#E5ECF6",
           "caxis": {
            "gridcolor": "white",
            "linecolor": "white",
            "ticks": ""
           }
          },
          "title": {
           "x": 0.05
          },
          "xaxis": {
           "automargin": true,
           "gridcolor": "white",
           "linecolor": "white",
           "ticks": "",
           "title": {
            "standoff": 15
           },
           "zerolinecolor": "white",
           "zerolinewidth": 2
          },
          "yaxis": {
           "automargin": true,
           "gridcolor": "white",
           "linecolor": "white",
           "ticks": "",
           "title": {
            "standoff": 15
           },
           "zerolinecolor": "white",
           "zerolinewidth": 2
          }
         }
        },
        "xaxis": {
         "anchor": "y",
         "domain": [
          0,
          0.45
         ]
        },
        "xaxis2": {
         "anchor": "y2",
         "domain": [
          0.55,
          1
         ]
        },
        "xaxis3": {
         "anchor": "y3",
         "domain": [
          0,
          0.45
         ]
        },
        "xaxis4": {
         "anchor": "y4",
         "domain": [
          0.55,
          1
         ]
        },
        "yaxis": {
         "anchor": "x",
         "domain": [
          0.575,
          1
         ]
        },
        "yaxis2": {
         "anchor": "x2",
         "domain": [
          0.575,
          1
         ]
        },
        "yaxis3": {
         "anchor": "x3",
         "domain": [
          0,
          0.425
         ]
        },
        "yaxis4": {
         "anchor": "x4",
         "domain": [
          0,
          0.425
         ]
        }
       }
      }
     },
     "metadata": {}
    }
   ],
   "source": [
    "fig = make_subplots(rows=2, cols=2)\n",
    "n = np.arange(len(posCost))\n",
    "for i in range(3):\n",
    "    fig.add_trace(go.Scatter(x=n, y=posCost2[:, 3+i], name=\"pCost_left_\"+str(i)), row=1, col=1)\n",
    "    fig.add_trace(go.Scatter(x=n, y=posCost2[:, 9+i], name=\"pCost_right_\"+str(i)), row=1, col=2)\n",
    "\n",
    "    fig.add_trace(go.Scatter(x=n, y=rotCost2[:, 3+i], name=\"rCost_left_\"+str(i)), row=2, col=1)\n",
    "    fig.add_trace(go.Scatter(x=n, y=rotCost2[:, 9+i], name=\"rCost_right_\"+str(i)), row=2, col=2)\n",
    "fig.show()"
   ]
  },
  {
   "cell_type": "code",
   "execution_count": 188,
   "outputs": [
    {
     "output_type": "stream",
     "name": "stdout",
     "text": [
      "---------  --------------  --------------  -----  ------  --------  ------  --------  ---------------------  -----  ------  -------  -------\nphase_vec  targetPosition  targetRotation  pos    rotMat  velocity  isLeft  chainPos  geoDistanceNormalised  pos    rotMat  posCost  rotCost\n(24,)      (36,)           (108,)          (63,)  (108,)  (63,)     (21,)   (21,)     (21,)                  (36,)  (108,)  (12,)    (12,)\n---------  --------------  --------------  -----  ------  --------  ------  --------  ---------------------  -----  ------  -------  -------\nphase dim:  168\npose dim:  297\ncost dim:  168\n"
     ]
    }
   ],
   "source": [
    "extra_feature_len = 21 * 3\n",
    "n_phase_features = len(phase_features)\n",
    "n_pose_features = len(pose_features)\n",
    "phase_dim = np.sum(data_dims[0:n_phase_features])\n",
    "pp_dim = data_dims[0][0]\n",
    "pose_dim = np.sum(data_dims[n_phase_features:n_phase_features+n_pose_features])\n",
    "cost_dim = np.sum(data_dims[n_phase_features+n_pose_features:])\n",
    "\n",
    "table = [feature_list, data_dims]\n",
    "print(tabulate(table))\n",
    "print(\"phase dim: \",phase_dim)\n",
    "print(\"pose dim: \", pose_dim)\n",
    "print(\"cost dim: \", cost_dim)\n",
    "\n"
   ],
   "metadata": {
    "collapsed": false,
    "pycharm": {
     "name": "#%%\n"
    }
   }
  },
  {
   "cell_type": "code",
   "execution_count": 185,
   "outputs": [],
   "source": [
    "# x_tensors = torch.cat([normalise(torch.from_numpy(clip[:-1])).float().unsqueeze(dim=0) for clip in data_tensors], dim=0)\n",
    "# y_tensors = torch.stack([torch.from_numpy(clip[1:]).float().unsqueeze(dim=0) for clip in data_tensors])\n",
    "# x_tensors = [normalise(torch.from_numpy(clip[:-1])).float() for clip in data_tensors]\n",
    "# y_tensors = [normalise(torch.from_numpy(clip[1:])).float() for clip in data_tensors]\n",
    "x_tensors = torch.nn.utils.rnn.pad_sequence([normalise(torch.from_numpy(clip[:-1])).float().unsqueeze(dim=1) for clip in data_tensors], batch_first=True)\n",
    "y_tensors = torch.nn.utils.rnn.pad_sequence([normalise(torch.from_numpy(clip[1:])).float().unsqueeze(dim=1) for clip in data_tensors], batch_first=True)\n"
   ],
   "metadata": {
    "collapsed": false,
    "pycharm": {
     "name": "#%%\n"
    }
   }
  },
  {
   "cell_type": "code",
   "execution_count": null,
   "metadata": {},
   "outputs": [],
   "source": []
  },
  {
   "cell_type": "code",
   "execution_count": 184,
   "metadata": {},
   "outputs": [
    {
     "output_type": "stream",
     "name": "stdout",
     "text": [
      "torch.Size([1, 54, 633])\ntorch.Size([1, 80, 633])\ntorch.Size([1, 78, 633])\n"
     ]
    },
    {
     "output_type": "error",
     "ename": "RuntimeError",
     "evalue": "The expanded size of the tensor (54) must match the existing size (80) at non-singleton dimension 1.  Target sizes: [1, 54, 633].  Tensor sizes: [80, 633]",
     "traceback": [
      "\u001b[0;31m---------------------------------------------------------------------------\u001b[0m",
      "\u001b[0;31mRuntimeError\u001b[0m                              Traceback (most recent call last)",
      "\u001b[0;32m<ipython-input-184-6914d140e90d>\u001b[0m in \u001b[0;36m<module>\u001b[0;34m\u001b[0m\n\u001b[1;32m     10\u001b[0m \u001b[0mprint\u001b[0m\u001b[0;34m(\u001b[0m\u001b[0mc\u001b[0m\u001b[0;34m.\u001b[0m\u001b[0mshape\u001b[0m\u001b[0;34m)\u001b[0m\u001b[0;34m\u001b[0m\u001b[0;34m\u001b[0m\u001b[0m\n\u001b[1;32m     11\u001b[0m \u001b[0;34m\u001b[0m\u001b[0m\n\u001b[0;32m---> 12\u001b[0;31m \u001b[0md\u001b[0m \u001b[0;34m=\u001b[0m \u001b[0mtorch\u001b[0m\u001b[0;34m.\u001b[0m\u001b[0mnn\u001b[0m\u001b[0;34m.\u001b[0m\u001b[0mutils\u001b[0m\u001b[0;34m.\u001b[0m\u001b[0mrnn\u001b[0m\u001b[0;34m.\u001b[0m\u001b[0mpad_sequence\u001b[0m\u001b[0;34m(\u001b[0m\u001b[0;34m[\u001b[0m\u001b[0ma\u001b[0m\u001b[0;34m,\u001b[0m\u001b[0mb\u001b[0m\u001b[0;34m,\u001b[0m\u001b[0mc\u001b[0m\u001b[0;34m]\u001b[0m\u001b[0;34m,\u001b[0m \u001b[0mbatch_first\u001b[0m\u001b[0;34m=\u001b[0m\u001b[0;32mFalse\u001b[0m\u001b[0;34m)\u001b[0m\u001b[0;34m\u001b[0m\u001b[0;34m\u001b[0m\u001b[0m\n\u001b[0m\u001b[1;32m     13\u001b[0m \u001b[0mprint\u001b[0m\u001b[0;34m(\u001b[0m\u001b[0md\u001b[0m\u001b[0;34m.\u001b[0m\u001b[0msize\u001b[0m\u001b[0;34m(\u001b[0m\u001b[0;34m)\u001b[0m\u001b[0;34m)\u001b[0m\u001b[0;34m\u001b[0m\u001b[0;34m\u001b[0m\u001b[0m\n\u001b[1;32m     14\u001b[0m \u001b[0;31m# dd = torch.nn.utils.rnn.pack_padded_sequence(d,batch_first=True, lengths=[len(a), len(b), len(c)], enforce_sorted=False)\u001b[0m\u001b[0;34m\u001b[0m\u001b[0;34m\u001b[0m\u001b[0;34m\u001b[0m\u001b[0m\n",
      "\u001b[0;32m~/miniconda3/lib/python3.8/site-packages/torch/nn/utils/rnn.py\u001b[0m in \u001b[0;36mpad_sequence\u001b[0;34m(sequences, batch_first, padding_value)\u001b[0m\n\u001b[1;32m    372\u001b[0m             \u001b[0mout_tensor\u001b[0m\u001b[0;34m[\u001b[0m\u001b[0mi\u001b[0m\u001b[0;34m,\u001b[0m \u001b[0;34m:\u001b[0m\u001b[0mlength\u001b[0m\u001b[0;34m,\u001b[0m \u001b[0;34m...\u001b[0m\u001b[0;34m]\u001b[0m \u001b[0;34m=\u001b[0m \u001b[0mtensor\u001b[0m\u001b[0;34m\u001b[0m\u001b[0;34m\u001b[0m\u001b[0m\n\u001b[1;32m    373\u001b[0m         \u001b[0;32melse\u001b[0m\u001b[0;34m:\u001b[0m\u001b[0;34m\u001b[0m\u001b[0;34m\u001b[0m\u001b[0m\n\u001b[0;32m--> 374\u001b[0;31m             \u001b[0mout_tensor\u001b[0m\u001b[0;34m[\u001b[0m\u001b[0;34m:\u001b[0m\u001b[0mlength\u001b[0m\u001b[0;34m,\u001b[0m \u001b[0mi\u001b[0m\u001b[0;34m,\u001b[0m \u001b[0;34m...\u001b[0m\u001b[0;34m]\u001b[0m \u001b[0;34m=\u001b[0m \u001b[0mtensor\u001b[0m\u001b[0;34m\u001b[0m\u001b[0;34m\u001b[0m\u001b[0m\n\u001b[0m\u001b[1;32m    375\u001b[0m \u001b[0;34m\u001b[0m\u001b[0m\n\u001b[1;32m    376\u001b[0m     \u001b[0;32mreturn\u001b[0m \u001b[0mout_tensor\u001b[0m\u001b[0;34m\u001b[0m\u001b[0;34m\u001b[0m\u001b[0m\n",
      "\u001b[0;31mRuntimeError\u001b[0m: The expanded size of the tensor (54) must match the existing size (80) at non-singleton dimension 1.  Target sizes: [1, 54, 633].  Tensor sizes: [80, 633]"
     ]
    }
   ],
   "source": [
    "a = np.expand_dims(data_tensors[0], axis=1)\n",
    "b = np.expand_dims(data_tensors[1], axis=1)\n",
    "c = np.expand_dims(data_tensors[3], axis=1)\n",
    "# b = data_tensors[1]\n",
    "a = torch.from_numpy(a)\n",
    "b = torch.from_numpy(b)\n",
    "c = torch.from_numpy(c)\n",
    "print(a.shape)\n",
    "print(b.shape)\n",
    "print(c.shape)\n",
    "\n",
    "d = torch.nn.utils.rnn.pad_sequence([a,b,c], batch_first=False)\n",
    "print(d.size())\n",
    "# dd = torch.nn.utils.rnn.pack_padded_sequence(d,batch_first=True, lengths=[len(a), len(b), len(c)], enforce_sorted=False)\n",
    "# print(len(dd))\n"
   ]
  },
  {
   "cell_type": "code",
   "execution_count": 176,
   "metadata": {},
   "outputs": [
    {
     "output_type": "stream",
     "name": "stdout",
     "text": [
      "tensor([[0., 0., 0., 0., 0., 0., 0., 0., 0., 0.],\n        [0., 0., 0., 0., 0., 0., 0., 0., 0., 0.],\n        [0., 0., 0., 0., 0., 0., 0., 0., 0., 0.],\n        [0., 0., 0., 0., 0., 0., 0., 0., 0., 0.],\n        [0., 0., 0., 0., 0., 0., 0., 0., 0., 0.],\n        [0., 0., 0., 0., 0., 0., 0., 0., 0., 0.],\n        [0., 0., 0., 0., 0., 0., 0., 0., 0., 0.],\n        [0., 0., 0., 0., 0., 0., 0., 0., 0., 0.],\n        [0., 0., 0., 0., 0., 0., 0., 0., 0., 0.],\n        [0., 0., 0., 0., 0., 0., 0., 0., 0., 0.]], dtype=torch.float64)\n"
     ]
    }
   ],
   "source": []
  },
  {
   "cell_type": "code",
   "execution_count": 186,
   "outputs": [
    {
     "output_type": "stream",
     "name": "stdout",
     "text": [
      "1152 torch.Size([107, 1, 633])\n1152 torch.Size([107, 1, 633])\n"
     ]
    }
   ],
   "source": [
    "print(len(x_tensors), x_tensors[1].shape)\n",
    "print(len(y_tensors), y_tensors[1].shape)\n"
   ],
   "metadata": {
    "collapsed": false,
    "pycharm": {
     "name": "#%%\n"
    }
   }
  },
  {
   "cell_type": "code",
   "execution_count": 25,
   "outputs": [
    {
     "name": "stdout",
     "output_type": "stream",
     "text": [
      "134 29 29\n",
      "268 58 58\n",
      "403 86 87\n"
     ]
    }
   ],
   "source": [
    "N = len(x_tensors)\n",
    "s = int(N/3)\n",
    "\n",
    "datasets = []\n",
    "for i in range(1,4):\n",
    "    n = i*s\n",
    "    d = TensorDataset(x_tensors[:n], y_tensors[:n])\n",
    "    train_ratio = int(.7*n)\n",
    "    val_ratio = int((n-train_ratio) / 2.0)\n",
    "    test_ratio = n - train_ratio - val_ratio\n",
    "    train_set, val_set, test_set = random_split(d, [train_ratio, val_ratio, test_ratio], generator=torch.Generator().manual_seed(2021))\n",
    "    print(len(train_set), len(val_set), len(test_set))\n",
    "    datasets.append([train_set, val_set, test_set])"
   ],
   "metadata": {
    "collapsed": false,
    "pycharm": {
     "name": "#%%\n"
    }
   }
  },
  {
   "cell_type": "code",
   "execution_count": 187,
   "outputs": [
    {
     "output_type": "stream",
     "name": "stdout",
     "text": [
      "806 173 173\n"
     ]
    }
   ],
   "source": [
    "dataset = TensorDataset(torch.Tensor(x_tensors), torch.Tensor(y_tensors))\n",
    "N = len(x_tensors)\n",
    "\n",
    "train_ratio = int(.7*N)\n",
    "val_ratio = int((N-train_ratio) / 2.0)\n",
    "test_ratio = N - train_ratio - val_ratio\n",
    "train_set, val_set, test_set = random_split(dataset, [train_ratio, val_ratio, test_ratio], generator=torch.Generator().manual_seed(2021))\n",
    "print(len(train_set), len(val_set), len(test_set))"
   ],
   "metadata": {
    "collapsed": false,
    "pycharm": {
     "name": "#%%\n"
    }
   }
  },
  {
   "cell_type": "code",
   "execution_count": 189,
   "outputs": [],
   "source": [
    "data_1 = {\"data_sets\":[train_set, val_set, test_set], \"table\":table}\n",
    "with bz2.BZ2File(\"data_sets_7_terminateAtContact_cost.pbz2\", \"w\") as f:\n",
    "    pickle.dump(data_1, f)"
   ],
   "metadata": {
    "collapsed": false,
    "pycharm": {
     "name": "#%%\n"
    }
   }
  },
  {
   "cell_type": "code",
   "execution_count": 52,
   "outputs": [
    {
     "data": {
      "text/plain": "268"
     },
     "execution_count": 52,
     "metadata": {},
     "output_type": "execute_result"
    }
   ],
   "source": [],
   "metadata": {
    "collapsed": false,
    "pycharm": {
     "name": "#%%\n"
    }
   }
  },
  {
   "cell_type": "code",
   "execution_count": 27,
   "outputs": [
    {
     "name": "stdout",
     "output_type": "stream",
     "text": [
      "738\n",
      "738\n"
     ]
    }
   ],
   "source": [
    "input_dim = phase_dim + pose_dim + cost_dim\n",
    "# output_dim = phase_dim + pose_dim-extra_feature_len\n",
    "output_dim = input_dim\n",
    "print(input_dim)\n",
    "print(output_dim)\n",
    "\n",
    "# config = {\n",
    "#     \"k_experts\":tune.choice([1, 2, 4, 8, 10]),\n",
    "#     \"gate_size\":tune.choice([16, 32, 64, 128]),\n",
    "#     \"keep_prob\":tune.choice([.2, .25, .3]),\n",
    "#     \"hidden_dim\":tune.choice([16, 32, 64, 128, 256, 512]),\n",
    "#     \"cost_hidden_dim\" : tune.choice([16, 32, 64, 128]),\n",
    "#     \"cost_output_dim\" : tune.choice([16,32,64,128]),\n",
    "#     \"batch_size\":tune.choice([1]),\n",
    "#     \"lr\":tune.loguniform(1e-5, 1e-7),\n",
    "#     \"loss_fn\":tune.choice([loss_fn]),\n",
    "#     \"window_size\":tune.choice([1]),\n",
    "#     \"autoregress_prob\" : tune.choice([.2]),\n",
    "#     \"autoregress_inc\" : tune.choice([2, 4]),\n",
    "#     \"autoregress_chunk_size\": tune.choice([1, 2])\n",
    "# }\n",
    "\n",
    "config = {\n",
    "    \"k_experts\": 4,\n",
    "    \"gate_size\": 64,\n",
    "    \"keep_prob\": .2,\n",
    "    \"hidden_dim\": 256,\n",
    "    \"cost_hidden_dim\" : 64,\n",
    "    \"cost_output_dim\" : 64,\n",
    "    \"batch_size\": 32,\n",
    "    \"lr\": 1e-4,\n",
    "    \"loss_fn\": loss_fn,\n",
    "    \"window_size\":1,\n",
    "    \"autoregress_prob\" : 0,\n",
    "    \"autoregress_inc\" : .1,\n",
    "    \"autoregress_chunk_size\": 120\n",
    "}\n",
    "\n",
    "model_name = \"Test_7_phase+pose+cost+trajectory_autoregress_prob_curriculum\"\n",
    "epochs = 200"
   ],
   "metadata": {
    "collapsed": false,
    "pycharm": {
     "name": "#%%\n"
    }
   }
  },
  {
   "cell_type": "code",
   "execution_count": 30,
   "outputs": [],
   "source": [
    "pose_autoencoder = MLP_withLabel.load_checkpoint(\"/home/nuoc/Documents/MEX/models/MLP4_withLabel_best/M3/0.00324857.512.pbz2\")\n",
    "pose_encoder_out_dim = pose_autoencoder.dimensions[-1]\n",
    "input_slices=[phase_dim, pose_dim, cost_dim]\n",
    "output_slices=[pp_dim, pp_dim, pose_encoder_out_dim, cost_dim]"
   ],
   "metadata": {
    "collapsed": false,
    "pycharm": {
     "name": "#%%\n"
    }
   }
  },
  {
   "cell_type": "code",
   "execution_count": 40,
   "outputs": [],
   "source": [
    "model = MotionGenerationModel(config=config, pose_autoencoder=pose_autoencoder, cost_input_dimension=cost_dim,\n",
    "                          input_slicers=input_slices, output_slicers=output_slices,phase_dim=pp_dim,\n",
    "                          train_set=datasets[2][0], val_set=datasets[2][0], name=model_name)\n",
    "\n",
    "# optimizer = model.configure_optimizers()\n"
   ],
   "metadata": {
    "collapsed": false,
    "pycharm": {
     "name": "#%%\n"
    }
   }
  },
  {
   "cell_type": "code",
   "execution_count": 32,
   "outputs": [
    {
     "name": "stderr",
     "output_type": "stream",
     "text": [
      "GPU available: True, used: False\n",
      "TPU available: None, using: 0 TPU cores\n",
      "/home/nuoc/miniconda3/lib/python3.8/site-packages/pytorch_lightning/utilities/distributed.py:52: UserWarning: GPU available but not used. Set the --gpus flag when calling the script.\n",
      "  warnings.warn(*args, **kwargs)\n",
      "\n",
      "  | Name             | Type          | Params\n",
      "---------------------------------------------------\n",
      "0 | pose_autoencoder | MLP_withLabel | 440 K \n",
      "1 | cost_encoder     | MLP           | 26.8 K\n",
      "2 | generationModel  | MoE           | 1.8 M \n",
      "---------------------------------------------------\n",
      "2.3 M     Trainable params\n",
      "0         Non-trainable params\n",
      "2.3 M     Total params\n",
      "9.008     Total estimated model params size (MB)\n",
      "/home/nuoc/miniconda3/lib/python3.8/site-packages/pytorch_lightning/utilities/distributed.py:52: UserWarning: The dataloader, val dataloader 0, does not have many workers which may be a bottleneck. Consider increasing the value of the `num_workers` argument` (try 24 which is the number of cpus on this machine) in the `DataLoader` init to improve performance.\n",
      "  warnings.warn(*args, **kwargs)\n"
     ]
    },
    {
     "ename": "RuntimeError",
     "evalue": "The size of tensor a (72) must match the size of tensor b (48) at non-singleton dimension 1",
     "output_type": "error",
     "traceback": [
      "\u001b[0;31m---------------------------------------------------------------------------\u001b[0m",
      "\u001b[0;31mRuntimeError\u001b[0m                              Traceback (most recent call last)",
      "\u001b[0;32m<ipython-input-32-d4bb900eee60>\u001b[0m in \u001b[0;36m<module>\u001b[0;34m\u001b[0m\n\u001b[1;32m      1\u001b[0m \u001b[0mtrainer\u001b[0m \u001b[0;34m=\u001b[0m \u001b[0mpl\u001b[0m\u001b[0;34m.\u001b[0m\u001b[0mTrainer\u001b[0m\u001b[0;34m(\u001b[0m\u001b[0;34m)\u001b[0m\u001b[0;34m\u001b[0m\u001b[0;34m\u001b[0m\u001b[0m\n\u001b[1;32m      2\u001b[0m \u001b[0;31m# Run learning rate finder\u001b[0m\u001b[0;34m\u001b[0m\u001b[0;34m\u001b[0m\u001b[0;34m\u001b[0m\u001b[0m\n\u001b[0;32m----> 3\u001b[0;31m \u001b[0mlr_finder\u001b[0m \u001b[0;34m=\u001b[0m \u001b[0mtrainer\u001b[0m\u001b[0;34m.\u001b[0m\u001b[0mtuner\u001b[0m\u001b[0;34m.\u001b[0m\u001b[0mlr_find\u001b[0m\u001b[0;34m(\u001b[0m\u001b[0mmodel\u001b[0m\u001b[0;34m)\u001b[0m\u001b[0;34m\u001b[0m\u001b[0;34m\u001b[0m\u001b[0m\n\u001b[0m\u001b[1;32m      4\u001b[0m \u001b[0;34m\u001b[0m\u001b[0m\n\u001b[1;32m      5\u001b[0m \u001b[0;31m# Results can be found in\u001b[0m\u001b[0;34m\u001b[0m\u001b[0;34m\u001b[0m\u001b[0;34m\u001b[0m\u001b[0m\n",
      "\u001b[0;32m~/miniconda3/lib/python3.8/site-packages/pytorch_lightning/tuner/tuning.py\u001b[0m in \u001b[0;36mlr_find\u001b[0;34m(self, model, train_dataloader, val_dataloaders, min_lr, max_lr, num_training, mode, early_stop_threshold, datamodule, update_attr)\u001b[0m\n\u001b[1;32m    135\u001b[0m     ):\n\u001b[1;32m    136\u001b[0m         \u001b[0mself\u001b[0m\u001b[0;34m.\u001b[0m\u001b[0msetup_trainer\u001b[0m\u001b[0;34m(\u001b[0m\u001b[0mmodel\u001b[0m\u001b[0;34m,\u001b[0m \u001b[0mtrain_dataloader\u001b[0m\u001b[0;34m,\u001b[0m \u001b[0mval_dataloaders\u001b[0m\u001b[0;34m,\u001b[0m \u001b[0mdatamodule\u001b[0m\u001b[0;34m)\u001b[0m\u001b[0;34m\u001b[0m\u001b[0;34m\u001b[0m\u001b[0m\n\u001b[0;32m--> 137\u001b[0;31m         return lr_find(\n\u001b[0m\u001b[1;32m    138\u001b[0m             \u001b[0mself\u001b[0m\u001b[0;34m.\u001b[0m\u001b[0mtrainer\u001b[0m\u001b[0;34m,\u001b[0m\u001b[0;34m\u001b[0m\u001b[0;34m\u001b[0m\u001b[0m\n\u001b[1;32m    139\u001b[0m             \u001b[0mmodel\u001b[0m\u001b[0;34m,\u001b[0m\u001b[0;34m\u001b[0m\u001b[0;34m\u001b[0m\u001b[0m\n",
      "\u001b[0;32m~/miniconda3/lib/python3.8/site-packages/pytorch_lightning/tuner/lr_finder.py\u001b[0m in \u001b[0;36mlr_find\u001b[0;34m(trainer, model, train_dataloader, val_dataloaders, min_lr, max_lr, num_training, mode, early_stop_threshold, datamodule, update_attr)\u001b[0m\n\u001b[1;32m    173\u001b[0m \u001b[0;34m\u001b[0m\u001b[0m\n\u001b[1;32m    174\u001b[0m     \u001b[0;31m# Fit, lr & loss logged in callback\u001b[0m\u001b[0;34m\u001b[0m\u001b[0;34m\u001b[0m\u001b[0;34m\u001b[0m\u001b[0m\n\u001b[0;32m--> 175\u001b[0;31m     \u001b[0mtrainer\u001b[0m\u001b[0;34m.\u001b[0m\u001b[0mfit\u001b[0m\u001b[0;34m(\u001b[0m\u001b[0mmodel\u001b[0m\u001b[0;34m,\u001b[0m \u001b[0mtrain_dataloader\u001b[0m\u001b[0;34m=\u001b[0m\u001b[0mtrain_dataloader\u001b[0m\u001b[0;34m,\u001b[0m \u001b[0mval_dataloaders\u001b[0m\u001b[0;34m=\u001b[0m\u001b[0mval_dataloaders\u001b[0m\u001b[0;34m,\u001b[0m \u001b[0mdatamodule\u001b[0m\u001b[0;34m=\u001b[0m\u001b[0mdatamodule\u001b[0m\u001b[0;34m)\u001b[0m\u001b[0;34m\u001b[0m\u001b[0;34m\u001b[0m\u001b[0m\n\u001b[0m\u001b[1;32m    176\u001b[0m \u001b[0;34m\u001b[0m\u001b[0m\n\u001b[1;32m    177\u001b[0m     \u001b[0;31m# Prompt if we stopped early\u001b[0m\u001b[0;34m\u001b[0m\u001b[0;34m\u001b[0m\u001b[0;34m\u001b[0m\u001b[0m\n",
      "\u001b[0;32m~/miniconda3/lib/python3.8/site-packages/pytorch_lightning/trainer/trainer.py\u001b[0m in \u001b[0;36mfit\u001b[0;34m(self, model, train_dataloader, val_dataloaders, datamodule)\u001b[0m\n\u001b[1;32m    497\u001b[0m \u001b[0;34m\u001b[0m\u001b[0m\n\u001b[1;32m    498\u001b[0m         \u001b[0;31m# dispath `start_training` or `start_testing` or `start_predicting`\u001b[0m\u001b[0;34m\u001b[0m\u001b[0;34m\u001b[0m\u001b[0;34m\u001b[0m\u001b[0m\n\u001b[0;32m--> 499\u001b[0;31m         \u001b[0mself\u001b[0m\u001b[0;34m.\u001b[0m\u001b[0mdispatch\u001b[0m\u001b[0;34m(\u001b[0m\u001b[0;34m)\u001b[0m\u001b[0;34m\u001b[0m\u001b[0;34m\u001b[0m\u001b[0m\n\u001b[0m\u001b[1;32m    500\u001b[0m \u001b[0;34m\u001b[0m\u001b[0m\n\u001b[1;32m    501\u001b[0m         \u001b[0;31m# plugin will finalized fitting (e.g. ddp_spawn will load trained model)\u001b[0m\u001b[0;34m\u001b[0m\u001b[0;34m\u001b[0m\u001b[0;34m\u001b[0m\u001b[0m\n",
      "\u001b[0;32m~/miniconda3/lib/python3.8/site-packages/pytorch_lightning/trainer/trainer.py\u001b[0m in \u001b[0;36mdispatch\u001b[0;34m(self)\u001b[0m\n\u001b[1;32m    544\u001b[0m \u001b[0;34m\u001b[0m\u001b[0m\n\u001b[1;32m    545\u001b[0m         \u001b[0;32melse\u001b[0m\u001b[0;34m:\u001b[0m\u001b[0;34m\u001b[0m\u001b[0;34m\u001b[0m\u001b[0m\n\u001b[0;32m--> 546\u001b[0;31m             \u001b[0mself\u001b[0m\u001b[0;34m.\u001b[0m\u001b[0maccelerator\u001b[0m\u001b[0;34m.\u001b[0m\u001b[0mstart_training\u001b[0m\u001b[0;34m(\u001b[0m\u001b[0mself\u001b[0m\u001b[0;34m)\u001b[0m\u001b[0;34m\u001b[0m\u001b[0;34m\u001b[0m\u001b[0m\n\u001b[0m\u001b[1;32m    547\u001b[0m \u001b[0;34m\u001b[0m\u001b[0m\n\u001b[1;32m    548\u001b[0m     \u001b[0;32mdef\u001b[0m \u001b[0mtrain_or_test_or_predict\u001b[0m\u001b[0;34m(\u001b[0m\u001b[0mself\u001b[0m\u001b[0;34m)\u001b[0m\u001b[0;34m:\u001b[0m\u001b[0;34m\u001b[0m\u001b[0;34m\u001b[0m\u001b[0m\n",
      "\u001b[0;32m~/miniconda3/lib/python3.8/site-packages/pytorch_lightning/accelerators/accelerator.py\u001b[0m in \u001b[0;36mstart_training\u001b[0;34m(self, trainer)\u001b[0m\n\u001b[1;32m     71\u001b[0m \u001b[0;34m\u001b[0m\u001b[0m\n\u001b[1;32m     72\u001b[0m     \u001b[0;32mdef\u001b[0m \u001b[0mstart_training\u001b[0m\u001b[0;34m(\u001b[0m\u001b[0mself\u001b[0m\u001b[0;34m,\u001b[0m \u001b[0mtrainer\u001b[0m\u001b[0;34m)\u001b[0m\u001b[0;34m:\u001b[0m\u001b[0;34m\u001b[0m\u001b[0;34m\u001b[0m\u001b[0m\n\u001b[0;32m---> 73\u001b[0;31m         \u001b[0mself\u001b[0m\u001b[0;34m.\u001b[0m\u001b[0mtraining_type_plugin\u001b[0m\u001b[0;34m.\u001b[0m\u001b[0mstart_training\u001b[0m\u001b[0;34m(\u001b[0m\u001b[0mtrainer\u001b[0m\u001b[0;34m)\u001b[0m\u001b[0;34m\u001b[0m\u001b[0;34m\u001b[0m\u001b[0m\n\u001b[0m\u001b[1;32m     74\u001b[0m \u001b[0;34m\u001b[0m\u001b[0m\n\u001b[1;32m     75\u001b[0m     \u001b[0;32mdef\u001b[0m \u001b[0mstart_testing\u001b[0m\u001b[0;34m(\u001b[0m\u001b[0mself\u001b[0m\u001b[0;34m,\u001b[0m \u001b[0mtrainer\u001b[0m\u001b[0;34m)\u001b[0m\u001b[0;34m:\u001b[0m\u001b[0;34m\u001b[0m\u001b[0;34m\u001b[0m\u001b[0m\n",
      "\u001b[0;32m~/miniconda3/lib/python3.8/site-packages/pytorch_lightning/plugins/training_type/training_type_plugin.py\u001b[0m in \u001b[0;36mstart_training\u001b[0;34m(self, trainer)\u001b[0m\n\u001b[1;32m    112\u001b[0m     \u001b[0;32mdef\u001b[0m \u001b[0mstart_training\u001b[0m\u001b[0;34m(\u001b[0m\u001b[0mself\u001b[0m\u001b[0;34m,\u001b[0m \u001b[0mtrainer\u001b[0m\u001b[0;34m:\u001b[0m \u001b[0;34m'Trainer'\u001b[0m\u001b[0;34m)\u001b[0m \u001b[0;34m->\u001b[0m \u001b[0;32mNone\u001b[0m\u001b[0;34m:\u001b[0m\u001b[0;34m\u001b[0m\u001b[0;34m\u001b[0m\u001b[0m\n\u001b[1;32m    113\u001b[0m         \u001b[0;31m# double dispatch to initiate the training loop\u001b[0m\u001b[0;34m\u001b[0m\u001b[0;34m\u001b[0m\u001b[0;34m\u001b[0m\u001b[0m\n\u001b[0;32m--> 114\u001b[0;31m         \u001b[0mself\u001b[0m\u001b[0;34m.\u001b[0m\u001b[0m_results\u001b[0m \u001b[0;34m=\u001b[0m \u001b[0mtrainer\u001b[0m\u001b[0;34m.\u001b[0m\u001b[0mrun_train\u001b[0m\u001b[0;34m(\u001b[0m\u001b[0;34m)\u001b[0m\u001b[0;34m\u001b[0m\u001b[0;34m\u001b[0m\u001b[0m\n\u001b[0m\u001b[1;32m    115\u001b[0m \u001b[0;34m\u001b[0m\u001b[0m\n\u001b[1;32m    116\u001b[0m     \u001b[0;32mdef\u001b[0m \u001b[0mstart_testing\u001b[0m\u001b[0;34m(\u001b[0m\u001b[0mself\u001b[0m\u001b[0;34m,\u001b[0m \u001b[0mtrainer\u001b[0m\u001b[0;34m:\u001b[0m \u001b[0;34m'Trainer'\u001b[0m\u001b[0;34m)\u001b[0m \u001b[0;34m->\u001b[0m \u001b[0;32mNone\u001b[0m\u001b[0;34m:\u001b[0m\u001b[0;34m\u001b[0m\u001b[0;34m\u001b[0m\u001b[0m\n",
      "\u001b[0;32m~/miniconda3/lib/python3.8/site-packages/pytorch_lightning/trainer/trainer.py\u001b[0m in \u001b[0;36mrun_train\u001b[0;34m(self)\u001b[0m\n\u001b[1;32m    605\u001b[0m             \u001b[0mself\u001b[0m\u001b[0;34m.\u001b[0m\u001b[0mprogress_bar_callback\u001b[0m\u001b[0;34m.\u001b[0m\u001b[0mdisable\u001b[0m\u001b[0;34m(\u001b[0m\u001b[0;34m)\u001b[0m\u001b[0;34m\u001b[0m\u001b[0;34m\u001b[0m\u001b[0m\n\u001b[1;32m    606\u001b[0m \u001b[0;34m\u001b[0m\u001b[0m\n\u001b[0;32m--> 607\u001b[0;31m         \u001b[0mself\u001b[0m\u001b[0;34m.\u001b[0m\u001b[0mrun_sanity_check\u001b[0m\u001b[0;34m(\u001b[0m\u001b[0mself\u001b[0m\u001b[0;34m.\u001b[0m\u001b[0mlightning_module\u001b[0m\u001b[0;34m)\u001b[0m\u001b[0;34m\u001b[0m\u001b[0;34m\u001b[0m\u001b[0m\n\u001b[0m\u001b[1;32m    608\u001b[0m \u001b[0;34m\u001b[0m\u001b[0m\n\u001b[1;32m    609\u001b[0m         \u001b[0;31m# set stage for logging\u001b[0m\u001b[0;34m\u001b[0m\u001b[0;34m\u001b[0m\u001b[0;34m\u001b[0m\u001b[0m\n",
      "\u001b[0;32m~/miniconda3/lib/python3.8/site-packages/pytorch_lightning/trainer/trainer.py\u001b[0m in \u001b[0;36mrun_sanity_check\u001b[0;34m(self, ref_model)\u001b[0m\n\u001b[1;32m    854\u001b[0m \u001b[0;34m\u001b[0m\u001b[0m\n\u001b[1;32m    855\u001b[0m             \u001b[0;31m# run eval step\u001b[0m\u001b[0;34m\u001b[0m\u001b[0;34m\u001b[0m\u001b[0;34m\u001b[0m\u001b[0m\n\u001b[0;32m--> 856\u001b[0;31m             \u001b[0m_\u001b[0m\u001b[0;34m,\u001b[0m \u001b[0meval_results\u001b[0m \u001b[0;34m=\u001b[0m \u001b[0mself\u001b[0m\u001b[0;34m.\u001b[0m\u001b[0mrun_evaluation\u001b[0m\u001b[0;34m(\u001b[0m\u001b[0mmax_batches\u001b[0m\u001b[0;34m=\u001b[0m\u001b[0mself\u001b[0m\u001b[0;34m.\u001b[0m\u001b[0mnum_sanity_val_batches\u001b[0m\u001b[0;34m)\u001b[0m\u001b[0;34m\u001b[0m\u001b[0;34m\u001b[0m\u001b[0m\n\u001b[0m\u001b[1;32m    857\u001b[0m \u001b[0;34m\u001b[0m\u001b[0m\n\u001b[1;32m    858\u001b[0m             \u001b[0;31m# allow no returns from eval\u001b[0m\u001b[0;34m\u001b[0m\u001b[0;34m\u001b[0m\u001b[0;34m\u001b[0m\u001b[0m\n",
      "\u001b[0;32m~/miniconda3/lib/python3.8/site-packages/pytorch_lightning/trainer/trainer.py\u001b[0m in \u001b[0;36mrun_evaluation\u001b[0;34m(self, max_batches, on_epoch)\u001b[0m\n\u001b[1;32m    723\u001b[0m                 \u001b[0;31m# lightning module methods\u001b[0m\u001b[0;34m\u001b[0m\u001b[0;34m\u001b[0m\u001b[0;34m\u001b[0m\u001b[0m\n\u001b[1;32m    724\u001b[0m                 \u001b[0;32mwith\u001b[0m \u001b[0mself\u001b[0m\u001b[0;34m.\u001b[0m\u001b[0mprofiler\u001b[0m\u001b[0;34m.\u001b[0m\u001b[0mprofile\u001b[0m\u001b[0;34m(\u001b[0m\u001b[0;34m\"evaluation_step_and_end\"\u001b[0m\u001b[0;34m)\u001b[0m\u001b[0;34m:\u001b[0m\u001b[0;34m\u001b[0m\u001b[0;34m\u001b[0m\u001b[0m\n\u001b[0;32m--> 725\u001b[0;31m                     \u001b[0moutput\u001b[0m \u001b[0;34m=\u001b[0m \u001b[0mself\u001b[0m\u001b[0;34m.\u001b[0m\u001b[0mevaluation_loop\u001b[0m\u001b[0;34m.\u001b[0m\u001b[0mevaluation_step\u001b[0m\u001b[0;34m(\u001b[0m\u001b[0mbatch\u001b[0m\u001b[0;34m,\u001b[0m \u001b[0mbatch_idx\u001b[0m\u001b[0;34m,\u001b[0m \u001b[0mdataloader_idx\u001b[0m\u001b[0;34m)\u001b[0m\u001b[0;34m\u001b[0m\u001b[0;34m\u001b[0m\u001b[0m\n\u001b[0m\u001b[1;32m    726\u001b[0m                     \u001b[0moutput\u001b[0m \u001b[0;34m=\u001b[0m \u001b[0mself\u001b[0m\u001b[0;34m.\u001b[0m\u001b[0mevaluation_loop\u001b[0m\u001b[0;34m.\u001b[0m\u001b[0mevaluation_step_end\u001b[0m\u001b[0;34m(\u001b[0m\u001b[0moutput\u001b[0m\u001b[0;34m)\u001b[0m\u001b[0;34m\u001b[0m\u001b[0;34m\u001b[0m\u001b[0m\n\u001b[1;32m    727\u001b[0m \u001b[0;34m\u001b[0m\u001b[0m\n",
      "\u001b[0;32m~/miniconda3/lib/python3.8/site-packages/pytorch_lightning/trainer/evaluation_loop.py\u001b[0m in \u001b[0;36mevaluation_step\u001b[0;34m(self, batch, batch_idx, dataloader_idx)\u001b[0m\n\u001b[1;32m    162\u001b[0m             \u001b[0mmodel_ref\u001b[0m\u001b[0;34m.\u001b[0m\u001b[0m_current_fx_name\u001b[0m \u001b[0;34m=\u001b[0m \u001b[0;34m\"validation_step\"\u001b[0m\u001b[0;34m\u001b[0m\u001b[0;34m\u001b[0m\u001b[0m\n\u001b[1;32m    163\u001b[0m             \u001b[0;32mwith\u001b[0m \u001b[0mself\u001b[0m\u001b[0;34m.\u001b[0m\u001b[0mtrainer\u001b[0m\u001b[0;34m.\u001b[0m\u001b[0mprofiler\u001b[0m\u001b[0;34m.\u001b[0m\u001b[0mprofile\u001b[0m\u001b[0;34m(\u001b[0m\u001b[0;34m\"validation_step\"\u001b[0m\u001b[0;34m)\u001b[0m\u001b[0;34m:\u001b[0m\u001b[0;34m\u001b[0m\u001b[0;34m\u001b[0m\u001b[0m\n\u001b[0;32m--> 164\u001b[0;31m                 \u001b[0moutput\u001b[0m \u001b[0;34m=\u001b[0m \u001b[0mself\u001b[0m\u001b[0;34m.\u001b[0m\u001b[0mtrainer\u001b[0m\u001b[0;34m.\u001b[0m\u001b[0maccelerator\u001b[0m\u001b[0;34m.\u001b[0m\u001b[0mvalidation_step\u001b[0m\u001b[0;34m(\u001b[0m\u001b[0margs\u001b[0m\u001b[0;34m)\u001b[0m\u001b[0;34m\u001b[0m\u001b[0;34m\u001b[0m\u001b[0m\n\u001b[0m\u001b[1;32m    165\u001b[0m \u001b[0;34m\u001b[0m\u001b[0m\n\u001b[1;32m    166\u001b[0m         \u001b[0;31m# capture any logged information\u001b[0m\u001b[0;34m\u001b[0m\u001b[0;34m\u001b[0m\u001b[0;34m\u001b[0m\u001b[0m\n",
      "\u001b[0;32m~/miniconda3/lib/python3.8/site-packages/pytorch_lightning/accelerators/accelerator.py\u001b[0m in \u001b[0;36mvalidation_step\u001b[0;34m(self, args)\u001b[0m\n\u001b[1;32m    175\u001b[0m \u001b[0;34m\u001b[0m\u001b[0m\n\u001b[1;32m    176\u001b[0m         \u001b[0;32mwith\u001b[0m \u001b[0mself\u001b[0m\u001b[0;34m.\u001b[0m\u001b[0mprecision_plugin\u001b[0m\u001b[0;34m.\u001b[0m\u001b[0mval_step_context\u001b[0m\u001b[0;34m(\u001b[0m\u001b[0;34m)\u001b[0m\u001b[0;34m,\u001b[0m \u001b[0mself\u001b[0m\u001b[0;34m.\u001b[0m\u001b[0mtraining_type_plugin\u001b[0m\u001b[0;34m.\u001b[0m\u001b[0mval_step_context\u001b[0m\u001b[0;34m(\u001b[0m\u001b[0;34m)\u001b[0m\u001b[0;34m:\u001b[0m\u001b[0;34m\u001b[0m\u001b[0;34m\u001b[0m\u001b[0m\n\u001b[0;32m--> 177\u001b[0;31m             \u001b[0;32mreturn\u001b[0m \u001b[0mself\u001b[0m\u001b[0;34m.\u001b[0m\u001b[0mtraining_type_plugin\u001b[0m\u001b[0;34m.\u001b[0m\u001b[0mvalidation_step\u001b[0m\u001b[0;34m(\u001b[0m\u001b[0;34m*\u001b[0m\u001b[0margs\u001b[0m\u001b[0;34m)\u001b[0m\u001b[0;34m\u001b[0m\u001b[0;34m\u001b[0m\u001b[0m\n\u001b[0m\u001b[1;32m    178\u001b[0m \u001b[0;34m\u001b[0m\u001b[0m\n\u001b[1;32m    179\u001b[0m     \u001b[0;32mdef\u001b[0m \u001b[0mtest_step\u001b[0m\u001b[0;34m(\u001b[0m\u001b[0mself\u001b[0m\u001b[0;34m,\u001b[0m \u001b[0margs\u001b[0m\u001b[0;34m)\u001b[0m\u001b[0;34m:\u001b[0m\u001b[0;34m\u001b[0m\u001b[0;34m\u001b[0m\u001b[0m\n",
      "\u001b[0;32m~/miniconda3/lib/python3.8/site-packages/pytorch_lightning/plugins/training_type/training_type_plugin.py\u001b[0m in \u001b[0;36mvalidation_step\u001b[0;34m(self, *args, **kwargs)\u001b[0m\n\u001b[1;32m    129\u001b[0m \u001b[0;34m\u001b[0m\u001b[0m\n\u001b[1;32m    130\u001b[0m     \u001b[0;32mdef\u001b[0m \u001b[0mvalidation_step\u001b[0m\u001b[0;34m(\u001b[0m\u001b[0mself\u001b[0m\u001b[0;34m,\u001b[0m \u001b[0;34m*\u001b[0m\u001b[0margs\u001b[0m\u001b[0;34m,\u001b[0m \u001b[0;34m**\u001b[0m\u001b[0mkwargs\u001b[0m\u001b[0;34m)\u001b[0m\u001b[0;34m:\u001b[0m\u001b[0;34m\u001b[0m\u001b[0;34m\u001b[0m\u001b[0m\n\u001b[0;32m--> 131\u001b[0;31m         \u001b[0;32mreturn\u001b[0m \u001b[0mself\u001b[0m\u001b[0;34m.\u001b[0m\u001b[0mlightning_module\u001b[0m\u001b[0;34m.\u001b[0m\u001b[0mvalidation_step\u001b[0m\u001b[0;34m(\u001b[0m\u001b[0;34m*\u001b[0m\u001b[0margs\u001b[0m\u001b[0;34m,\u001b[0m \u001b[0;34m**\u001b[0m\u001b[0mkwargs\u001b[0m\u001b[0;34m)\u001b[0m\u001b[0;34m\u001b[0m\u001b[0;34m\u001b[0m\u001b[0m\n\u001b[0m\u001b[1;32m    132\u001b[0m \u001b[0;34m\u001b[0m\u001b[0m\n\u001b[1;32m    133\u001b[0m     \u001b[0;32mdef\u001b[0m \u001b[0mtest_step\u001b[0m\u001b[0;34m(\u001b[0m\u001b[0mself\u001b[0m\u001b[0;34m,\u001b[0m \u001b[0;34m*\u001b[0m\u001b[0margs\u001b[0m\u001b[0;34m,\u001b[0m \u001b[0;34m**\u001b[0m\u001b[0mkwargs\u001b[0m\u001b[0;34m)\u001b[0m\u001b[0;34m:\u001b[0m\u001b[0;34m\u001b[0m\u001b[0;34m\u001b[0m\u001b[0m\n",
      "\u001b[0;32m<ipython-input-17-79c07b798e9b>\u001b[0m in \u001b[0;36mvalidation_step\u001b[0;34m(self, batch, batch_idx)\u001b[0m\n\u001b[1;32m    144\u001b[0m             \u001b[0;32mfor\u001b[0m \u001b[0mi\u001b[0m \u001b[0;32min\u001b[0m \u001b[0mrange\u001b[0m\u001b[0;34m(\u001b[0m\u001b[0;36m1\u001b[0m\u001b[0;34m,\u001b[0m \u001b[0mn\u001b[0m\u001b[0;34m)\u001b[0m\u001b[0;34m:\u001b[0m\u001b[0;34m\u001b[0m\u001b[0;34m\u001b[0m\u001b[0m\n\u001b[1;32m    145\u001b[0m                 \u001b[0my_c\u001b[0m \u001b[0;34m=\u001b[0m \u001b[0my\u001b[0m\u001b[0;34m[\u001b[0m\u001b[0;34m:\u001b[0m\u001b[0;34m,\u001b[0m\u001b[0mi\u001b[0m\u001b[0;34m-\u001b[0m\u001b[0;36m1\u001b[0m\u001b[0;34m,\u001b[0m\u001b[0;34m:\u001b[0m\u001b[0;34m]\u001b[0m\u001b[0;34m\u001b[0m\u001b[0;34m\u001b[0m\u001b[0m\n\u001b[0;32m--> 146\u001b[0;31m                 \u001b[0mout\u001b[0m \u001b[0;34m=\u001b[0m \u001b[0mself\u001b[0m\u001b[0;34m(\u001b[0m\u001b[0mx_c\u001b[0m\u001b[0;34m)\u001b[0m\u001b[0;34m\u001b[0m\u001b[0;34m\u001b[0m\u001b[0m\n\u001b[0m\u001b[1;32m    147\u001b[0m                 \u001b[0mloss\u001b[0m \u001b[0;34m+=\u001b[0m \u001b[0mself\u001b[0m\u001b[0;34m.\u001b[0m\u001b[0mloss_fn\u001b[0m\u001b[0;34m(\u001b[0m\u001b[0mout\u001b[0m\u001b[0;34m,\u001b[0m \u001b[0my_c\u001b[0m\u001b[0;34m)\u001b[0m\u001b[0;34m\u001b[0m\u001b[0;34m\u001b[0m\u001b[0m\n\u001b[1;32m    148\u001b[0m                 \u001b[0;32mif\u001b[0m \u001b[0mautoregress_bools\u001b[0m\u001b[0;34m[\u001b[0m\u001b[0mi\u001b[0m\u001b[0;34m]\u001b[0m\u001b[0;34m:\u001b[0m\u001b[0;34m\u001b[0m\u001b[0;34m\u001b[0m\u001b[0m\n",
      "\u001b[0;32m~/miniconda3/lib/python3.8/site-packages/torch/nn/modules/module.py\u001b[0m in \u001b[0;36m_call_impl\u001b[0;34m(self, *input, **kwargs)\u001b[0m\n\u001b[1;32m    887\u001b[0m             \u001b[0mresult\u001b[0m \u001b[0;34m=\u001b[0m \u001b[0mself\u001b[0m\u001b[0;34m.\u001b[0m\u001b[0m_slow_forward\u001b[0m\u001b[0;34m(\u001b[0m\u001b[0;34m*\u001b[0m\u001b[0minput\u001b[0m\u001b[0;34m,\u001b[0m \u001b[0;34m**\u001b[0m\u001b[0mkwargs\u001b[0m\u001b[0;34m)\u001b[0m\u001b[0;34m\u001b[0m\u001b[0;34m\u001b[0m\u001b[0m\n\u001b[1;32m    888\u001b[0m         \u001b[0;32melse\u001b[0m\u001b[0;34m:\u001b[0m\u001b[0;34m\u001b[0m\u001b[0;34m\u001b[0m\u001b[0m\n\u001b[0;32m--> 889\u001b[0;31m             \u001b[0mresult\u001b[0m \u001b[0;34m=\u001b[0m \u001b[0mself\u001b[0m\u001b[0;34m.\u001b[0m\u001b[0mforward\u001b[0m\u001b[0;34m(\u001b[0m\u001b[0;34m*\u001b[0m\u001b[0minput\u001b[0m\u001b[0;34m,\u001b[0m \u001b[0;34m**\u001b[0m\u001b[0mkwargs\u001b[0m\u001b[0;34m)\u001b[0m\u001b[0;34m\u001b[0m\u001b[0;34m\u001b[0m\u001b[0m\n\u001b[0m\u001b[1;32m    890\u001b[0m         for hook in itertools.chain(\n\u001b[1;32m    891\u001b[0m                 \u001b[0m_global_forward_hooks\u001b[0m\u001b[0;34m.\u001b[0m\u001b[0mvalues\u001b[0m\u001b[0;34m(\u001b[0m\u001b[0;34m)\u001b[0m\u001b[0;34m,\u001b[0m\u001b[0;34m\u001b[0m\u001b[0;34m\u001b[0m\u001b[0m\n",
      "\u001b[0;32m<ipython-input-17-79c07b798e9b>\u001b[0m in \u001b[0;36mforward\u001b[0;34m(self, x)\u001b[0m\n\u001b[1;32m     51\u001b[0m         \u001b[0mout_tensors\u001b[0m \u001b[0;34m=\u001b[0m \u001b[0;34m[\u001b[0m\u001b[0mout\u001b[0m\u001b[0;34m[\u001b[0m\u001b[0;34m:\u001b[0m\u001b[0;34m,\u001b[0m \u001b[0md0\u001b[0m\u001b[0;34m:\u001b[0m\u001b[0md1\u001b[0m\u001b[0;34m]\u001b[0m \u001b[0;32mfor\u001b[0m \u001b[0md0\u001b[0m\u001b[0;34m,\u001b[0m \u001b[0md1\u001b[0m \u001b[0;32min\u001b[0m \u001b[0mzip\u001b[0m\u001b[0;34m(\u001b[0m\u001b[0mself\u001b[0m\u001b[0;34m.\u001b[0m\u001b[0mout_slices\u001b[0m\u001b[0;34m[\u001b[0m\u001b[0;34m:\u001b[0m\u001b[0;34m-\u001b[0m\u001b[0;36m1\u001b[0m\u001b[0;34m]\u001b[0m\u001b[0;34m,\u001b[0m \u001b[0mself\u001b[0m\u001b[0;34m.\u001b[0m\u001b[0mout_slices\u001b[0m\u001b[0;34m[\u001b[0m\u001b[0;36m1\u001b[0m\u001b[0;34m:\u001b[0m\u001b[0;34m]\u001b[0m\u001b[0;34m)\u001b[0m\u001b[0;34m]\u001b[0m \u001b[0;31m# phase, phase_update, pose\u001b[0m\u001b[0;34m\u001b[0m\u001b[0;34m\u001b[0m\u001b[0m\n\u001b[1;32m     52\u001b[0m \u001b[0;34m\u001b[0m\u001b[0m\n\u001b[0;32m---> 53\u001b[0;31m         \u001b[0mphase\u001b[0m \u001b[0;34m=\u001b[0m \u001b[0mself\u001b[0m\u001b[0;34m.\u001b[0m\u001b[0mupdate_phase\u001b[0m\u001b[0;34m(\u001b[0m\u001b[0mphase\u001b[0m\u001b[0;34m,\u001b[0m \u001b[0mout_tensors\u001b[0m\u001b[0;34m[\u001b[0m\u001b[0;36m0\u001b[0m\u001b[0;34m]\u001b[0m\u001b[0;34m,\u001b[0m \u001b[0mout_tensors\u001b[0m\u001b[0;34m[\u001b[0m\u001b[0;36m1\u001b[0m\u001b[0;34m]\u001b[0m\u001b[0;34m)\u001b[0m \u001b[0;31m# phase_0, phase_1, phase_update\u001b[0m\u001b[0;34m\u001b[0m\u001b[0;34m\u001b[0m\u001b[0m\n\u001b[0m\u001b[1;32m     54\u001b[0m         \u001b[0mnew_pose\u001b[0m \u001b[0;34m=\u001b[0m \u001b[0mself\u001b[0m\u001b[0;34m.\u001b[0m\u001b[0mpose_autoencoder\u001b[0m\u001b[0;34m.\u001b[0m\u001b[0mdecode\u001b[0m\u001b[0;34m(\u001b[0m\u001b[0mout_tensors\u001b[0m\u001b[0;34m[\u001b[0m\u001b[0;36m2\u001b[0m\u001b[0;34m]\u001b[0m\u001b[0;34m,\u001b[0m \u001b[0mpose_label\u001b[0m\u001b[0;34m)\u001b[0m\u001b[0;34m\u001b[0m\u001b[0;34m\u001b[0m\u001b[0m\n\u001b[1;32m     55\u001b[0m         \u001b[0;32mreturn\u001b[0m \u001b[0mtorch\u001b[0m\u001b[0;34m.\u001b[0m\u001b[0mcat\u001b[0m\u001b[0;34m(\u001b[0m\u001b[0;34m[\u001b[0m\u001b[0mphase\u001b[0m\u001b[0;34m,\u001b[0m \u001b[0mtargets\u001b[0m\u001b[0;34m,\u001b[0m \u001b[0mnew_pose\u001b[0m\u001b[0;34m,\u001b[0m \u001b[0mpose_label\u001b[0m\u001b[0;34m,\u001b[0m \u001b[0mout_tensors\u001b[0m\u001b[0;34m[\u001b[0m\u001b[0;34m-\u001b[0m\u001b[0;36m1\u001b[0m\u001b[0;34m]\u001b[0m\u001b[0;34m]\u001b[0m\u001b[0;34m,\u001b[0m\u001b[0mdim\u001b[0m\u001b[0;34m=\u001b[0m\u001b[0;36m1\u001b[0m\u001b[0;34m)\u001b[0m\u001b[0;34m\u001b[0m\u001b[0;34m\u001b[0m\u001b[0m\n",
      "\u001b[0;32m<ipython-input-17-79c07b798e9b>\u001b[0m in \u001b[0;36mupdate_phase\u001b[0;34m(self, p1, p2, p_delta)\u001b[0m\n\u001b[1;32m    220\u001b[0m \u001b[0;34m\u001b[0m\u001b[0m\n\u001b[1;32m    221\u001b[0m     \u001b[0;32mdef\u001b[0m \u001b[0mupdate_phase\u001b[0m\u001b[0;34m(\u001b[0m\u001b[0mself\u001b[0m\u001b[0;34m,\u001b[0m \u001b[0mp1\u001b[0m\u001b[0;34m,\u001b[0m \u001b[0mp2\u001b[0m\u001b[0;34m,\u001b[0m \u001b[0mp_delta\u001b[0m\u001b[0;34m)\u001b[0m\u001b[0;34m:\u001b[0m\u001b[0;34m\u001b[0m\u001b[0;34m\u001b[0m\u001b[0m\n\u001b[0;32m--> 222\u001b[0;31m         \u001b[0;32mreturn\u001b[0m \u001b[0mself\u001b[0m\u001b[0;34m.\u001b[0m\u001b[0mphase_smooth_factor\u001b[0m \u001b[0;34m*\u001b[0m \u001b[0mp2\u001b[0m \u001b[0;34m+\u001b[0m \u001b[0;34m(\u001b[0m\u001b[0;36m1\u001b[0m\u001b[0;34m-\u001b[0m\u001b[0mself\u001b[0m\u001b[0;34m.\u001b[0m\u001b[0mphase_smooth_factor\u001b[0m\u001b[0;34m)\u001b[0m\u001b[0;34m*\u001b[0m\u001b[0;34m(\u001b[0m\u001b[0mp1\u001b[0m\u001b[0;34m+\u001b[0m\u001b[0mp_delta\u001b[0m\u001b[0;34m)\u001b[0m\u001b[0;34m\u001b[0m\u001b[0;34m\u001b[0m\u001b[0m\n\u001b[0m\u001b[1;32m    223\u001b[0m \u001b[0;34m\u001b[0m\u001b[0m\n\u001b[1;32m    224\u001b[0m     \u001b[0;32mdef\u001b[0m \u001b[0mconfigure_optimizers\u001b[0m\u001b[0;34m(\u001b[0m\u001b[0mself\u001b[0m\u001b[0;34m)\u001b[0m\u001b[0;34m:\u001b[0m\u001b[0;34m\u001b[0m\u001b[0;34m\u001b[0m\u001b[0m\n",
      "\u001b[0;31mRuntimeError\u001b[0m: The size of tensor a (72) must match the size of tensor b (48) at non-singleton dimension 1"
     ]
    }
   ],
   "source": [
    "trainer = pl.Trainer()\n",
    "# Run learning rate finder\n",
    "lr_finder = trainer.tuner.lr_find(model)\n",
    "\n",
    "# Results can be found in\n",
    "print(lr_finder.results)\n",
    "\n",
    "# Plot with\n",
    "fig = lr_finder.plot(suggest=True)\n",
    "fig.show()\n",
    "\n",
    "# Pick point based on plot, or get suggestion\n",
    "new_lr = lr_finder.suggestion()\n",
    "\n",
    "# update hparams of the model\n",
    "model.hparams.lr = new_lr\n",
    "model.learning_rate = new_lr\n",
    "print(new_lr)"
   ],
   "metadata": {
    "collapsed": false,
    "pycharm": {
     "name": "#%%\n"
    }
   }
  },
  {
   "cell_type": "code",
   "execution_count": 74,
   "outputs": [
    {
     "name": "stdout",
     "output_type": "stream",
     "text": [
      "3.311311214825911e-07\n",
      "3.311311214825911e-07\n"
     ]
    }
   ],
   "source": [],
   "metadata": {
    "collapsed": false,
    "pycharm": {
     "name": "#%%\n"
    }
   }
  },
  {
   "cell_type": "code",
   "execution_count": 41,
   "outputs": [
    {
     "name": "stderr",
     "output_type": "stream",
     "text": [
      "GPU available: True, used: True\n",
      "TPU available: None, using: 0 TPU cores\n",
      "Using native 16bit precision.\n",
      "LOCAL_RANK: 0 - CUDA_VISIBLE_DEVICES: [0]\n",
      "\n",
      "  | Name             | Type          | Params\n",
      "---------------------------------------------------\n",
      "0 | pose_autoencoder | MLP_withLabel | 440 K \n",
      "1 | cost_encoder     | MLP           | 26.8 K\n",
      "2 | generationModel  | MoE           | 1.8 M \n",
      "---------------------------------------------------\n",
      "2.3 M     Trainable params\n",
      "0         Non-trainable params\n",
      "2.3 M     Total params\n",
      "9.008     Total estimated model params size (MB)\n",
      "/home/nuoc/miniconda3/lib/python3.8/site-packages/pytorch_lightning/utilities/distributed.py:52: UserWarning: Detected KeyboardInterrupt, attempting graceful shutdown...\n",
      "  warnings.warn(*args, **kwargs)\n"
     ]
    },
    {
     "data": {
      "text/plain": "HBox(children=(HTML(value='Validation sanity check'), FloatProgress(value=1.0, bar_style='info', layout=Layout…",
      "application/vnd.jupyter.widget-view+json": {
       "version_major": 2,
       "version_minor": 0,
       "model_id": "d04c48d8c0164e0bb4c242f445e4db83"
      }
     },
     "metadata": {},
     "output_type": "display_data"
    },
    {
     "data": {
      "text/plain": "HBox(children=(HTML(value='Training'), FloatProgress(value=1.0, bar_style='info', layout=Layout(flex='2'), max…",
      "application/vnd.jupyter.widget-view+json": {
       "version_major": 2,
       "version_minor": 0,
       "model_id": "02c9c8ff3fe44e3f9422f36f3614777f"
      }
     },
     "metadata": {},
     "output_type": "display_data"
    },
    {
     "data": {
      "text/plain": "HBox(children=(HTML(value='Validating'), FloatProgress(value=1.0, bar_style='info', layout=Layout(flex='2'), m…",
      "application/vnd.jupyter.widget-view+json": {
       "version_major": 2,
       "version_minor": 0,
       "model_id": "4300f3ef89a04a42b05314a1385f5f33"
      }
     },
     "metadata": {},
     "output_type": "display_data"
    },
    {
     "data": {
      "text/plain": "HBox(children=(HTML(value='Validating'), FloatProgress(value=1.0, bar_style='info', layout=Layout(flex='2'), m…",
      "application/vnd.jupyter.widget-view+json": {
       "version_major": 2,
       "version_minor": 0,
       "model_id": "a527a1fa07f641e1a09366fe772c9f82"
      }
     },
     "metadata": {},
     "output_type": "display_data"
    },
    {
     "data": {
      "text/plain": "HBox(children=(HTML(value='Validating'), FloatProgress(value=1.0, bar_style='info', layout=Layout(flex='2'), m…",
      "application/vnd.jupyter.widget-view+json": {
       "version_major": 2,
       "version_minor": 0,
       "model_id": "ff7cd84933ac4e6e958b88607c46fdb9"
      }
     },
     "metadata": {},
     "output_type": "display_data"
    },
    {
     "data": {
      "text/plain": "HBox(children=(HTML(value='Validating'), FloatProgress(value=1.0, bar_style='info', layout=Layout(flex='2'), m…",
      "application/vnd.jupyter.widget-view+json": {
       "version_major": 2,
       "version_minor": 0,
       "model_id": "af620112fa434f9fb70d2892868e64ba"
      }
     },
     "metadata": {},
     "output_type": "display_data"
    },
    {
     "data": {
      "text/plain": "HBox(children=(HTML(value='Validating'), FloatProgress(value=1.0, bar_style='info', layout=Layout(flex='2'), m…",
      "application/vnd.jupyter.widget-view+json": {
       "version_major": 2,
       "version_minor": 0,
       "model_id": "94471313d5a74a3a90a78066cf7be848"
      }
     },
     "metadata": {},
     "output_type": "display_data"
    },
    {
     "data": {
      "text/plain": "HBox(children=(HTML(value='Validating'), FloatProgress(value=1.0, bar_style='info', layout=Layout(flex='2'), m…",
      "application/vnd.jupyter.widget-view+json": {
       "version_major": 2,
       "version_minor": 0,
       "model_id": "52761ddc622d404babe9f25c6ddabdde"
      }
     },
     "metadata": {},
     "output_type": "display_data"
    },
    {
     "data": {
      "text/plain": "HBox(children=(HTML(value='Validating'), FloatProgress(value=1.0, bar_style='info', layout=Layout(flex='2'), m…",
      "application/vnd.jupyter.widget-view+json": {
       "version_major": 2,
       "version_minor": 0,
       "model_id": "09c8e5f7bf304974b810673d578b253d"
      }
     },
     "metadata": {},
     "output_type": "display_data"
    },
    {
     "data": {
      "text/plain": "HBox(children=(HTML(value='Validating'), FloatProgress(value=1.0, bar_style='info', layout=Layout(flex='2'), m…",
      "application/vnd.jupyter.widget-view+json": {
       "version_major": 2,
       "version_minor": 0,
       "model_id": "8cf0c4aaedac4964a20a0163a2017c7a"
      }
     },
     "metadata": {},
     "output_type": "display_data"
    },
    {
     "data": {
      "text/plain": "HBox(children=(HTML(value='Validating'), FloatProgress(value=1.0, bar_style='info', layout=Layout(flex='2'), m…",
      "application/vnd.jupyter.widget-view+json": {
       "version_major": 2,
       "version_minor": 0,
       "model_id": "a326a9a6562c4658b1583f53cc6dec32"
      }
     },
     "metadata": {},
     "output_type": "display_data"
    },
    {
     "data": {
      "text/plain": "HBox(children=(HTML(value='Validating'), FloatProgress(value=1.0, bar_style='info', layout=Layout(flex='2'), m…",
      "application/vnd.jupyter.widget-view+json": {
       "version_major": 2,
       "version_minor": 0,
       "model_id": "810682cd939e4821bb060ecba2be0933"
      }
     },
     "metadata": {},
     "output_type": "display_data"
    },
    {
     "data": {
      "text/plain": "HBox(children=(HTML(value='Validating'), FloatProgress(value=1.0, bar_style='info', layout=Layout(flex='2'), m…",
      "application/vnd.jupyter.widget-view+json": {
       "version_major": 2,
       "version_minor": 0,
       "model_id": "2d164e19681e45908695e47e10d8016b"
      }
     },
     "metadata": {},
     "output_type": "display_data"
    },
    {
     "data": {
      "text/plain": "HBox(children=(HTML(value='Validating'), FloatProgress(value=1.0, bar_style='info', layout=Layout(flex='2'), m…",
      "application/vnd.jupyter.widget-view+json": {
       "version_major": 2,
       "version_minor": 0,
       "model_id": "30a13d5b1f43479c981caf82f228661c"
      }
     },
     "metadata": {},
     "output_type": "display_data"
    },
    {
     "data": {
      "text/plain": "HBox(children=(HTML(value='Validating'), FloatProgress(value=1.0, bar_style='info', layout=Layout(flex='2'), m…",
      "application/vnd.jupyter.widget-view+json": {
       "version_major": 2,
       "version_minor": 0,
       "model_id": "8577de428ef1470cb36ad4c27f5dc0ed"
      }
     },
     "metadata": {},
     "output_type": "display_data"
    },
    {
     "data": {
      "text/plain": "HBox(children=(HTML(value='Validating'), FloatProgress(value=1.0, bar_style='info', layout=Layout(flex='2'), m…",
      "application/vnd.jupyter.widget-view+json": {
       "version_major": 2,
       "version_minor": 0,
       "model_id": "ef950b0da6ba422da22f7c52b01afef6"
      }
     },
     "metadata": {},
     "output_type": "display_data"
    },
    {
     "data": {
      "text/plain": "HBox(children=(HTML(value='Validating'), FloatProgress(value=1.0, bar_style='info', layout=Layout(flex='2'), m…",
      "application/vnd.jupyter.widget-view+json": {
       "version_major": 2,
       "version_minor": 0,
       "model_id": "87206b1b732e47a988e51133fd1ae000"
      }
     },
     "metadata": {},
     "output_type": "display_data"
    },
    {
     "data": {
      "text/plain": "HBox(children=(HTML(value='Validating'), FloatProgress(value=1.0, bar_style='info', layout=Layout(flex='2'), m…",
      "application/vnd.jupyter.widget-view+json": {
       "version_major": 2,
       "version_minor": 0,
       "model_id": "6c607cb3bfc34fb8a878bc68d03abea2"
      }
     },
     "metadata": {},
     "output_type": "display_data"
    },
    {
     "data": {
      "text/plain": "HBox(children=(HTML(value='Validating'), FloatProgress(value=1.0, bar_style='info', layout=Layout(flex='2'), m…",
      "application/vnd.jupyter.widget-view+json": {
       "version_major": 2,
       "version_minor": 0,
       "model_id": "ccecd94db02c41dd8eb113ddee5c4ee2"
      }
     },
     "metadata": {},
     "output_type": "display_data"
    },
    {
     "data": {
      "text/plain": "HBox(children=(HTML(value='Validating'), FloatProgress(value=1.0, bar_style='info', layout=Layout(flex='2'), m…",
      "application/vnd.jupyter.widget-view+json": {
       "version_major": 2,
       "version_minor": 0,
       "model_id": "16c4349719a94b0b91163a0d22de05e7"
      }
     },
     "metadata": {},
     "output_type": "display_data"
    },
    {
     "data": {
      "text/plain": "HBox(children=(HTML(value='Validating'), FloatProgress(value=1.0, bar_style='info', layout=Layout(flex='2'), m…",
      "application/vnd.jupyter.widget-view+json": {
       "version_major": 2,
       "version_minor": 0,
       "model_id": "b7bf96fad5204605bd4b0232a14278ba"
      }
     },
     "metadata": {},
     "output_type": "display_data"
    },
    {
     "data": {
      "text/plain": "HBox(children=(HTML(value='Validating'), FloatProgress(value=1.0, bar_style='info', layout=Layout(flex='2'), m…",
      "application/vnd.jupyter.widget-view+json": {
       "version_major": 2,
       "version_minor": 0,
       "model_id": "d39fc4c3a26a4e9095c5405acabf764f"
      }
     },
     "metadata": {},
     "output_type": "display_data"
    },
    {
     "data": {
      "text/plain": "HBox(children=(HTML(value='Validating'), FloatProgress(value=1.0, bar_style='info', layout=Layout(flex='2'), m…",
      "application/vnd.jupyter.widget-view+json": {
       "version_major": 2,
       "version_minor": 0,
       "model_id": "cfc353b98edb4c8495940ef9a8eaf6cc"
      }
     },
     "metadata": {},
     "output_type": "display_data"
    },
    {
     "data": {
      "text/plain": "HBox(children=(HTML(value='Validating'), FloatProgress(value=1.0, bar_style='info', layout=Layout(flex='2'), m…",
      "application/vnd.jupyter.widget-view+json": {
       "version_major": 2,
       "version_minor": 0,
       "model_id": "d5fa2c1786a84a7ab96f9a554fbf0c2c"
      }
     },
     "metadata": {},
     "output_type": "display_data"
    },
    {
     "data": {
      "text/plain": "HBox(children=(HTML(value='Validating'), FloatProgress(value=1.0, bar_style='info', layout=Layout(flex='2'), m…",
      "application/vnd.jupyter.widget-view+json": {
       "version_major": 2,
       "version_minor": 0,
       "model_id": "60297f41388e4f63934e36cd487ae91a"
      }
     },
     "metadata": {},
     "output_type": "display_data"
    },
    {
     "data": {
      "text/plain": "HBox(children=(HTML(value='Validating'), FloatProgress(value=1.0, bar_style='info', layout=Layout(flex='2'), m…",
      "application/vnd.jupyter.widget-view+json": {
       "version_major": 2,
       "version_minor": 0,
       "model_id": "0cdaed11e9da4272b934bcea5c8b02b3"
      }
     },
     "metadata": {},
     "output_type": "display_data"
    },
    {
     "data": {
      "text/plain": "HBox(children=(HTML(value='Validating'), FloatProgress(value=1.0, bar_style='info', layout=Layout(flex='2'), m…",
      "application/vnd.jupyter.widget-view+json": {
       "version_major": 2,
       "version_minor": 0,
       "model_id": "0e97a0e2784449bbbb82032ff44dc0fe"
      }
     },
     "metadata": {},
     "output_type": "display_data"
    },
    {
     "data": {
      "text/plain": "HBox(children=(HTML(value='Validating'), FloatProgress(value=1.0, bar_style='info', layout=Layout(flex='2'), m…",
      "application/vnd.jupyter.widget-view+json": {
       "version_major": 2,
       "version_minor": 0,
       "model_id": "916c6d8cee7a46f197dd3971dcd236b0"
      }
     },
     "metadata": {},
     "output_type": "display_data"
    },
    {
     "data": {
      "text/plain": "HBox(children=(HTML(value='Validating'), FloatProgress(value=1.0, bar_style='info', layout=Layout(flex='2'), m…",
      "application/vnd.jupyter.widget-view+json": {
       "version_major": 2,
       "version_minor": 0,
       "model_id": "7adda659882548dd8d7946d0b76f341e"
      }
     },
     "metadata": {},
     "output_type": "display_data"
    },
    {
     "data": {
      "text/plain": "HBox(children=(HTML(value='Validating'), FloatProgress(value=1.0, bar_style='info', layout=Layout(flex='2'), m…",
      "application/vnd.jupyter.widget-view+json": {
       "version_major": 2,
       "version_minor": 0,
       "model_id": "826bf9b48ef94e64be92fc63afca375d"
      }
     },
     "metadata": {},
     "output_type": "display_data"
    },
    {
     "data": {
      "text/plain": "HBox(children=(HTML(value='Validating'), FloatProgress(value=1.0, bar_style='info', layout=Layout(flex='2'), m…",
      "application/vnd.jupyter.widget-view+json": {
       "version_major": 2,
       "version_minor": 0,
       "model_id": "facef4db3da94d4db797da8bddd3527c"
      }
     },
     "metadata": {},
     "output_type": "display_data"
    },
    {
     "data": {
      "text/plain": "HBox(children=(HTML(value='Validating'), FloatProgress(value=1.0, bar_style='info', layout=Layout(flex='2'), m…",
      "application/vnd.jupyter.widget-view+json": {
       "version_major": 2,
       "version_minor": 0,
       "model_id": "5e8d7f0bb4b54e5ba9456fa01fa5de0d"
      }
     },
     "metadata": {},
     "output_type": "display_data"
    },
    {
     "data": {
      "text/plain": "HBox(children=(HTML(value='Validating'), FloatProgress(value=1.0, bar_style='info', layout=Layout(flex='2'), m…",
      "application/vnd.jupyter.widget-view+json": {
       "version_major": 2,
       "version_minor": 0,
       "model_id": "fdfa0b52a7b34defb4af0fbada65b00c"
      }
     },
     "metadata": {},
     "output_type": "display_data"
    },
    {
     "data": {
      "text/plain": "HBox(children=(HTML(value='Validating'), FloatProgress(value=1.0, bar_style='info', layout=Layout(flex='2'), m…",
      "application/vnd.jupyter.widget-view+json": {
       "version_major": 2,
       "version_minor": 0,
       "model_id": "77c155e962f94772b32a2208364c405a"
      }
     },
     "metadata": {},
     "output_type": "display_data"
    },
    {
     "data": {
      "text/plain": "HBox(children=(HTML(value='Validating'), FloatProgress(value=1.0, bar_style='info', layout=Layout(flex='2'), m…",
      "application/vnd.jupyter.widget-view+json": {
       "version_major": 2,
       "version_minor": 0,
       "model_id": "5eedc71bd4d94fd29bac21019a0bfc32"
      }
     },
     "metadata": {},
     "output_type": "display_data"
    },
    {
     "data": {
      "text/plain": "HBox(children=(HTML(value='Validating'), FloatProgress(value=1.0, bar_style='info', layout=Layout(flex='2'), m…",
      "application/vnd.jupyter.widget-view+json": {
       "version_major": 2,
       "version_minor": 0,
       "model_id": "a8e51652fb834711a9863bea17199586"
      }
     },
     "metadata": {},
     "output_type": "display_data"
    },
    {
     "data": {
      "text/plain": "HBox(children=(HTML(value='Validating'), FloatProgress(value=1.0, bar_style='info', layout=Layout(flex='2'), m…",
      "application/vnd.jupyter.widget-view+json": {
       "version_major": 2,
       "version_minor": 0,
       "model_id": "fd9ecce24a0b4d17bb14b2e0af92f75b"
      }
     },
     "metadata": {},
     "output_type": "display_data"
    },
    {
     "data": {
      "text/plain": "HBox(children=(HTML(value='Validating'), FloatProgress(value=1.0, bar_style='info', layout=Layout(flex='2'), m…",
      "application/vnd.jupyter.widget-view+json": {
       "version_major": 2,
       "version_minor": 0,
       "model_id": "a83c5a62bd754c798cc950f8d9694516"
      }
     },
     "metadata": {},
     "output_type": "display_data"
    },
    {
     "data": {
      "text/plain": "HBox(children=(HTML(value='Validating'), FloatProgress(value=1.0, bar_style='info', layout=Layout(flex='2'), m…",
      "application/vnd.jupyter.widget-view+json": {
       "version_major": 2,
       "version_minor": 0,
       "model_id": "120b95cdde294827a04aaa3f3103a1a4"
      }
     },
     "metadata": {},
     "output_type": "display_data"
    },
    {
     "data": {
      "text/plain": "HBox(children=(HTML(value='Validating'), FloatProgress(value=1.0, bar_style='info', layout=Layout(flex='2'), m…",
      "application/vnd.jupyter.widget-view+json": {
       "version_major": 2,
       "version_minor": 0,
       "model_id": "d42e48ee96b94fa380dc4b5d2d8c8ed3"
      }
     },
     "metadata": {},
     "output_type": "display_data"
    },
    {
     "data": {
      "text/plain": "HBox(children=(HTML(value='Validating'), FloatProgress(value=1.0, bar_style='info', layout=Layout(flex='2'), m…",
      "application/vnd.jupyter.widget-view+json": {
       "version_major": 2,
       "version_minor": 0,
       "model_id": "f49c73076c5e483785d696e31be6b14d"
      }
     },
     "metadata": {},
     "output_type": "display_data"
    },
    {
     "data": {
      "text/plain": "HBox(children=(HTML(value='Validating'), FloatProgress(value=1.0, bar_style='info', layout=Layout(flex='2'), m…",
      "application/vnd.jupyter.widget-view+json": {
       "version_major": 2,
       "version_minor": 0,
       "model_id": "3d4f9386b0574128a06213c1099bc0f2"
      }
     },
     "metadata": {},
     "output_type": "display_data"
    },
    {
     "data": {
      "text/plain": "HBox(children=(HTML(value='Validating'), FloatProgress(value=1.0, bar_style='info', layout=Layout(flex='2'), m…",
      "application/vnd.jupyter.widget-view+json": {
       "version_major": 2,
       "version_minor": 0,
       "model_id": "b92a58c2e055431a98265195ad3fe9ab"
      }
     },
     "metadata": {},
     "output_type": "display_data"
    },
    {
     "data": {
      "text/plain": "HBox(children=(HTML(value='Validating'), FloatProgress(value=1.0, bar_style='info', layout=Layout(flex='2'), m…",
      "application/vnd.jupyter.widget-view+json": {
       "version_major": 2,
       "version_minor": 0,
       "model_id": "e13dfa5e754746bdafb632731266be5f"
      }
     },
     "metadata": {},
     "output_type": "display_data"
    },
    {
     "data": {
      "text/plain": "HBox(children=(HTML(value='Validating'), FloatProgress(value=1.0, bar_style='info', layout=Layout(flex='2'), m…",
      "application/vnd.jupyter.widget-view+json": {
       "version_major": 2,
       "version_minor": 0,
       "model_id": "fd5a5fa759254d8f9fa362a09e58f6a2"
      }
     },
     "metadata": {},
     "output_type": "display_data"
    },
    {
     "data": {
      "text/plain": "HBox(children=(HTML(value='Validating'), FloatProgress(value=1.0, bar_style='info', layout=Layout(flex='2'), m…",
      "application/vnd.jupyter.widget-view+json": {
       "version_major": 2,
       "version_minor": 0,
       "model_id": "d3fcb1fb891144968d73a388bacddfe0"
      }
     },
     "metadata": {},
     "output_type": "display_data"
    },
    {
     "data": {
      "text/plain": "HBox(children=(HTML(value='Validating'), FloatProgress(value=1.0, bar_style='info', layout=Layout(flex='2'), m…",
      "application/vnd.jupyter.widget-view+json": {
       "version_major": 2,
       "version_minor": 0,
       "model_id": "0f6bce895f144cf0a9fa058ae34464a8"
      }
     },
     "metadata": {},
     "output_type": "display_data"
    },
    {
     "data": {
      "text/plain": "HBox(children=(HTML(value='Validating'), FloatProgress(value=1.0, bar_style='info', layout=Layout(flex='2'), m…",
      "application/vnd.jupyter.widget-view+json": {
       "version_major": 2,
       "version_minor": 0,
       "model_id": "1c62c0a732514814a06d418a8d6ac3c5"
      }
     },
     "metadata": {},
     "output_type": "display_data"
    },
    {
     "data": {
      "text/plain": "HBox(children=(HTML(value='Validating'), FloatProgress(value=1.0, bar_style='info', layout=Layout(flex='2'), m…",
      "application/vnd.jupyter.widget-view+json": {
       "version_major": 2,
       "version_minor": 0,
       "model_id": "f75b22a9045647329bbf075d3b830ef6"
      }
     },
     "metadata": {},
     "output_type": "display_data"
    },
    {
     "data": {
      "text/plain": "HBox(children=(HTML(value='Validating'), FloatProgress(value=1.0, bar_style='info', layout=Layout(flex='2'), m…",
      "application/vnd.jupyter.widget-view+json": {
       "version_major": 2,
       "version_minor": 0,
       "model_id": "88c7f7f3ed2e4f68ae8646b54333ac49"
      }
     },
     "metadata": {},
     "output_type": "display_data"
    },
    {
     "data": {
      "text/plain": "HBox(children=(HTML(value='Validating'), FloatProgress(value=1.0, bar_style='info', layout=Layout(flex='2'), m…",
      "application/vnd.jupyter.widget-view+json": {
       "version_major": 2,
       "version_minor": 0,
       "model_id": "2a0c0d5c642a4a03aa95342b8ba5fba7"
      }
     },
     "metadata": {},
     "output_type": "display_data"
    },
    {
     "data": {
      "text/plain": "HBox(children=(HTML(value='Validating'), FloatProgress(value=1.0, bar_style='info', layout=Layout(flex='2'), m…",
      "application/vnd.jupyter.widget-view+json": {
       "version_major": 2,
       "version_minor": 0,
       "model_id": "b7ff872f600b4e6a9d8164e89992dad0"
      }
     },
     "metadata": {},
     "output_type": "display_data"
    },
    {
     "data": {
      "text/plain": "HBox(children=(HTML(value='Validating'), FloatProgress(value=1.0, bar_style='info', layout=Layout(flex='2'), m…",
      "application/vnd.jupyter.widget-view+json": {
       "version_major": 2,
       "version_minor": 0,
       "model_id": "9d342944ed19413b966b508afb46e473"
      }
     },
     "metadata": {},
     "output_type": "display_data"
    },
    {
     "data": {
      "text/plain": "HBox(children=(HTML(value='Validating'), FloatProgress(value=1.0, bar_style='info', layout=Layout(flex='2'), m…",
      "application/vnd.jupyter.widget-view+json": {
       "version_major": 2,
       "version_minor": 0,
       "model_id": "4a11363a12164a77b5e879ab29e5720e"
      }
     },
     "metadata": {},
     "output_type": "display_data"
    },
    {
     "data": {
      "text/plain": "HBox(children=(HTML(value='Validating'), FloatProgress(value=1.0, bar_style='info', layout=Layout(flex='2'), m…",
      "application/vnd.jupyter.widget-view+json": {
       "version_major": 2,
       "version_minor": 0,
       "model_id": "f9ea82b74af249d08efc142211b8147a"
      }
     },
     "metadata": {},
     "output_type": "display_data"
    },
    {
     "data": {
      "text/plain": "HBox(children=(HTML(value='Validating'), FloatProgress(value=1.0, bar_style='info', layout=Layout(flex='2'), m…",
      "application/vnd.jupyter.widget-view+json": {
       "version_major": 2,
       "version_minor": 0,
       "model_id": "2fd1e22dea064df585b075a029f364e6"
      }
     },
     "metadata": {},
     "output_type": "display_data"
    },
    {
     "data": {
      "text/plain": "HBox(children=(HTML(value='Validating'), FloatProgress(value=1.0, bar_style='info', layout=Layout(flex='2'), m…",
      "application/vnd.jupyter.widget-view+json": {
       "version_major": 2,
       "version_minor": 0,
       "model_id": "86646ec651e24ccebe9d8f6a30f39a3c"
      }
     },
     "metadata": {},
     "output_type": "display_data"
    },
    {
     "data": {
      "text/plain": "HBox(children=(HTML(value='Validating'), FloatProgress(value=1.0, bar_style='info', layout=Layout(flex='2'), m…",
      "application/vnd.jupyter.widget-view+json": {
       "version_major": 2,
       "version_minor": 0,
       "model_id": "0847d7d804304cb0aef3523bcac8d686"
      }
     },
     "metadata": {},
     "output_type": "display_data"
    },
    {
     "data": {
      "text/plain": "HBox(children=(HTML(value='Validating'), FloatProgress(value=1.0, bar_style='info', layout=Layout(flex='2'), m…",
      "application/vnd.jupyter.widget-view+json": {
       "version_major": 2,
       "version_minor": 0,
       "model_id": "79a1ddf263344c62af1d78588e375f7a"
      }
     },
     "metadata": {},
     "output_type": "display_data"
    },
    {
     "data": {
      "text/plain": "HBox(children=(HTML(value='Validating'), FloatProgress(value=1.0, bar_style='info', layout=Layout(flex='2'), m…",
      "application/vnd.jupyter.widget-view+json": {
       "version_major": 2,
       "version_minor": 0,
       "model_id": "6d328c7ae5224c72b3c0a0caff43a38b"
      }
     },
     "metadata": {},
     "output_type": "display_data"
    },
    {
     "data": {
      "text/plain": "HBox(children=(HTML(value='Validating'), FloatProgress(value=1.0, bar_style='info', layout=Layout(flex='2'), m…",
      "application/vnd.jupyter.widget-view+json": {
       "version_major": 2,
       "version_minor": 0,
       "model_id": "436e0390746c4ce2ade24f87c136252a"
      }
     },
     "metadata": {},
     "output_type": "display_data"
    },
    {
     "data": {
      "text/plain": "HBox(children=(HTML(value='Validating'), FloatProgress(value=1.0, bar_style='info', layout=Layout(flex='2'), m…",
      "application/vnd.jupyter.widget-view+json": {
       "version_major": 2,
       "version_minor": 0,
       "model_id": "44f24eec2cf14abd86a6ad797743856b"
      }
     },
     "metadata": {},
     "output_type": "display_data"
    },
    {
     "data": {
      "text/plain": "HBox(children=(HTML(value='Validating'), FloatProgress(value=1.0, bar_style='info', layout=Layout(flex='2'), m…",
      "application/vnd.jupyter.widget-view+json": {
       "version_major": 2,
       "version_minor": 0,
       "model_id": "379e473c47f64071bff2e9edfb6c4713"
      }
     },
     "metadata": {},
     "output_type": "display_data"
    },
    {
     "data": {
      "text/plain": "HBox(children=(HTML(value='Validating'), FloatProgress(value=1.0, bar_style='info', layout=Layout(flex='2'), m…",
      "application/vnd.jupyter.widget-view+json": {
       "version_major": 2,
       "version_minor": 0,
       "model_id": "93c4621144134c999a03649ab0904d41"
      }
     },
     "metadata": {},
     "output_type": "display_data"
    },
    {
     "data": {
      "text/plain": "HBox(children=(HTML(value='Validating'), FloatProgress(value=1.0, bar_style='info', layout=Layout(flex='2'), m…",
      "application/vnd.jupyter.widget-view+json": {
       "version_major": 2,
       "version_minor": 0,
       "model_id": "a1e53433a07c496ca8c71b0d9cd7feed"
      }
     },
     "metadata": {},
     "output_type": "display_data"
    },
    {
     "data": {
      "text/plain": "HBox(children=(HTML(value='Validating'), FloatProgress(value=1.0, bar_style='info', layout=Layout(flex='2'), m…",
      "application/vnd.jupyter.widget-view+json": {
       "version_major": 2,
       "version_minor": 0,
       "model_id": "1dd83b021f664b4a9b1785827d2c4417"
      }
     },
     "metadata": {},
     "output_type": "display_data"
    },
    {
     "data": {
      "text/plain": "HBox(children=(HTML(value='Validating'), FloatProgress(value=1.0, bar_style='info', layout=Layout(flex='2'), m…",
      "application/vnd.jupyter.widget-view+json": {
       "version_major": 2,
       "version_minor": 0,
       "model_id": "9b1e8bfd7dfd4968a3ba4833f980774a"
      }
     },
     "metadata": {},
     "output_type": "display_data"
    },
    {
     "data": {
      "text/plain": "HBox(children=(HTML(value='Validating'), FloatProgress(value=1.0, bar_style='info', layout=Layout(flex='2'), m…",
      "application/vnd.jupyter.widget-view+json": {
       "version_major": 2,
       "version_minor": 0,
       "model_id": "a5bd316b9c6c46ca9bd3946da02ea4cf"
      }
     },
     "metadata": {},
     "output_type": "display_data"
    },
    {
     "data": {
      "text/plain": "HBox(children=(HTML(value='Validating'), FloatProgress(value=1.0, bar_style='info', layout=Layout(flex='2'), m…",
      "application/vnd.jupyter.widget-view+json": {
       "version_major": 2,
       "version_minor": 0,
       "model_id": "239f3d6a14354dda900269db76d12f36"
      }
     },
     "metadata": {},
     "output_type": "display_data"
    },
    {
     "data": {
      "text/plain": "HBox(children=(HTML(value='Validating'), FloatProgress(value=1.0, bar_style='info', layout=Layout(flex='2'), m…",
      "application/vnd.jupyter.widget-view+json": {
       "version_major": 2,
       "version_minor": 0,
       "model_id": "5c4700e23cfb495992818e77f051502d"
      }
     },
     "metadata": {},
     "output_type": "display_data"
    },
    {
     "data": {
      "text/plain": "HBox(children=(HTML(value='Validating'), FloatProgress(value=1.0, bar_style='info', layout=Layout(flex='2'), m…",
      "application/vnd.jupyter.widget-view+json": {
       "version_major": 2,
       "version_minor": 0,
       "model_id": "84caecb71508402092bea63ba2e9361a"
      }
     },
     "metadata": {},
     "output_type": "display_data"
    },
    {
     "data": {
      "text/plain": "HBox(children=(HTML(value='Validating'), FloatProgress(value=1.0, bar_style='info', layout=Layout(flex='2'), m…",
      "application/vnd.jupyter.widget-view+json": {
       "version_major": 2,
       "version_minor": 0,
       "model_id": "a772398a3aa84f69b91c6c3e302ea80e"
      }
     },
     "metadata": {},
     "output_type": "display_data"
    },
    {
     "data": {
      "text/plain": "HBox(children=(HTML(value='Validating'), FloatProgress(value=1.0, bar_style='info', layout=Layout(flex='2'), m…",
      "application/vnd.jupyter.widget-view+json": {
       "version_major": 2,
       "version_minor": 0,
       "model_id": "e34b1abe05284fe29a17e0ee4a5bf753"
      }
     },
     "metadata": {},
     "output_type": "display_data"
    },
    {
     "data": {
      "text/plain": "HBox(children=(HTML(value='Validating'), FloatProgress(value=1.0, bar_style='info', layout=Layout(flex='2'), m…",
      "application/vnd.jupyter.widget-view+json": {
       "version_major": 2,
       "version_minor": 0,
       "model_id": "9bfe35b7d020450d8a7db561ea56b97b"
      }
     },
     "metadata": {},
     "output_type": "display_data"
    },
    {
     "data": {
      "text/plain": "HBox(children=(HTML(value='Validating'), FloatProgress(value=1.0, bar_style='info', layout=Layout(flex='2'), m…",
      "application/vnd.jupyter.widget-view+json": {
       "version_major": 2,
       "version_minor": 0,
       "model_id": "68d7298a884a4bf2ab4e38c36b9bbb04"
      }
     },
     "metadata": {},
     "output_type": "display_data"
    },
    {
     "data": {
      "text/plain": "HBox(children=(HTML(value='Validating'), FloatProgress(value=1.0, bar_style='info', layout=Layout(flex='2'), m…",
      "application/vnd.jupyter.widget-view+json": {
       "version_major": 2,
       "version_minor": 0,
       "model_id": "f06e1a437bf348d486494c4b8d53401b"
      }
     },
     "metadata": {},
     "output_type": "display_data"
    },
    {
     "data": {
      "text/plain": "HBox(children=(HTML(value='Validating'), FloatProgress(value=1.0, bar_style='info', layout=Layout(flex='2'), m…",
      "application/vnd.jupyter.widget-view+json": {
       "version_major": 2,
       "version_minor": 0,
       "model_id": "d450adb8b74b4ff98f93e613f7c4ce45"
      }
     },
     "metadata": {},
     "output_type": "display_data"
    },
    {
     "data": {
      "text/plain": "HBox(children=(HTML(value='Validating'), FloatProgress(value=1.0, bar_style='info', layout=Layout(flex='2'), m…",
      "application/vnd.jupyter.widget-view+json": {
       "version_major": 2,
       "version_minor": 0,
       "model_id": "c15bf4f4b91d4409b0a3a935630862f2"
      }
     },
     "metadata": {},
     "output_type": "display_data"
    },
    {
     "data": {
      "text/plain": "HBox(children=(HTML(value='Validating'), FloatProgress(value=1.0, bar_style='info', layout=Layout(flex='2'), m…",
      "application/vnd.jupyter.widget-view+json": {
       "version_major": 2,
       "version_minor": 0,
       "model_id": "708118487f234360ac07def0dda7fad9"
      }
     },
     "metadata": {},
     "output_type": "display_data"
    },
    {
     "data": {
      "text/plain": "HBox(children=(HTML(value='Validating'), FloatProgress(value=1.0, bar_style='info', layout=Layout(flex='2'), m…",
      "application/vnd.jupyter.widget-view+json": {
       "version_major": 2,
       "version_minor": 0,
       "model_id": "5b0d741a0d8a4fa3bbe6202b1347500b"
      }
     },
     "metadata": {},
     "output_type": "display_data"
    },
    {
     "data": {
      "text/plain": "HBox(children=(HTML(value='Validating'), FloatProgress(value=1.0, bar_style='info', layout=Layout(flex='2'), m…",
      "application/vnd.jupyter.widget-view+json": {
       "version_major": 2,
       "version_minor": 0,
       "model_id": "d1124c7603ce4a05a8608c90beefd218"
      }
     },
     "metadata": {},
     "output_type": "display_data"
    },
    {
     "data": {
      "text/plain": "HBox(children=(HTML(value='Validating'), FloatProgress(value=1.0, bar_style='info', layout=Layout(flex='2'), m…",
      "application/vnd.jupyter.widget-view+json": {
       "version_major": 2,
       "version_minor": 0,
       "model_id": "7756e3e7c3bd4dedab76813f52e5684a"
      }
     },
     "metadata": {},
     "output_type": "display_data"
    },
    {
     "data": {
      "text/plain": "HBox(children=(HTML(value='Validating'), FloatProgress(value=1.0, bar_style='info', layout=Layout(flex='2'), m…",
      "application/vnd.jupyter.widget-view+json": {
       "version_major": 2,
       "version_minor": 0,
       "model_id": "9014c1fac8b34e59b1f60dc04c5b38cf"
      }
     },
     "metadata": {},
     "output_type": "display_data"
    },
    {
     "data": {
      "text/plain": "HBox(children=(HTML(value='Validating'), FloatProgress(value=1.0, bar_style='info', layout=Layout(flex='2'), m…",
      "application/vnd.jupyter.widget-view+json": {
       "version_major": 2,
       "version_minor": 0,
       "model_id": "ad055179dca64fa58a90918da963c266"
      }
     },
     "metadata": {},
     "output_type": "display_data"
    },
    {
     "data": {
      "text/plain": "HBox(children=(HTML(value='Validating'), FloatProgress(value=1.0, bar_style='info', layout=Layout(flex='2'), m…",
      "application/vnd.jupyter.widget-view+json": {
       "version_major": 2,
       "version_minor": 0,
       "model_id": "1e0da1e646d94106a57bf7fe0fd3cade"
      }
     },
     "metadata": {},
     "output_type": "display_data"
    },
    {
     "data": {
      "text/plain": "HBox(children=(HTML(value='Validating'), FloatProgress(value=1.0, bar_style='info', layout=Layout(flex='2'), m…",
      "application/vnd.jupyter.widget-view+json": {
       "version_major": 2,
       "version_minor": 0,
       "model_id": "6235e9f4e01045cf8999259ea02c31ee"
      }
     },
     "metadata": {},
     "output_type": "display_data"
    },
    {
     "data": {
      "text/plain": "HBox(children=(HTML(value='Validating'), FloatProgress(value=1.0, bar_style='info', layout=Layout(flex='2'), m…",
      "application/vnd.jupyter.widget-view+json": {
       "version_major": 2,
       "version_minor": 0,
       "model_id": "9dbd672903e8442e90efaefe9f5a5334"
      }
     },
     "metadata": {},
     "output_type": "display_data"
    },
    {
     "data": {
      "text/plain": "HBox(children=(HTML(value='Validating'), FloatProgress(value=1.0, bar_style='info', layout=Layout(flex='2'), m…",
      "application/vnd.jupyter.widget-view+json": {
       "version_major": 2,
       "version_minor": 0,
       "model_id": "6f45b49c4f7242d2bc8b4c30f92751cf"
      }
     },
     "metadata": {},
     "output_type": "display_data"
    },
    {
     "data": {
      "text/plain": "HBox(children=(HTML(value='Validating'), FloatProgress(value=1.0, bar_style='info', layout=Layout(flex='2'), m…",
      "application/vnd.jupyter.widget-view+json": {
       "version_major": 2,
       "version_minor": 0,
       "model_id": "d1849d6292084bba8c405097261cefa3"
      }
     },
     "metadata": {},
     "output_type": "display_data"
    },
    {
     "data": {
      "text/plain": "HBox(children=(HTML(value='Validating'), FloatProgress(value=1.0, bar_style='info', layout=Layout(flex='2'), m…",
      "application/vnd.jupyter.widget-view+json": {
       "version_major": 2,
       "version_minor": 0,
       "model_id": "7326c0ceb5984c38984f022cc718fa82"
      }
     },
     "metadata": {},
     "output_type": "display_data"
    },
    {
     "data": {
      "text/plain": "HBox(children=(HTML(value='Validating'), FloatProgress(value=1.0, bar_style='info', layout=Layout(flex='2'), m…",
      "application/vnd.jupyter.widget-view+json": {
       "version_major": 2,
       "version_minor": 0,
       "model_id": "6fff78f4011c4532b9594ca507bd399b"
      }
     },
     "metadata": {},
     "output_type": "display_data"
    },
    {
     "data": {
      "text/plain": "HBox(children=(HTML(value='Validating'), FloatProgress(value=1.0, bar_style='info', layout=Layout(flex='2'), m…",
      "application/vnd.jupyter.widget-view+json": {
       "version_major": 2,
       "version_minor": 0,
       "model_id": "2a290e146cfb44b1911cad57f811d6c9"
      }
     },
     "metadata": {},
     "output_type": "display_data"
    },
    {
     "data": {
      "text/plain": "HBox(children=(HTML(value='Validating'), FloatProgress(value=1.0, bar_style='info', layout=Layout(flex='2'), m…",
      "application/vnd.jupyter.widget-view+json": {
       "version_major": 2,
       "version_minor": 0,
       "model_id": "18da95dec1ae484196d7579be6378c30"
      }
     },
     "metadata": {},
     "output_type": "display_data"
    },
    {
     "name": "stdout",
     "output_type": "stream",
     "text": [
      "\n"
     ]
    },
    {
     "data": {
      "text/plain": "1"
     },
     "execution_count": 41,
     "metadata": {},
     "output_type": "execute_result"
    }
   ],
   "source": [
    "# prob\n",
    "from pytorch_lightning.callbacks import ModelCheckpoint\n",
    "\n",
    "checkpoint_callback = ModelCheckpoint(monitor=\"avg_val_loss\", save_top_k=3)\n",
    "earlystopping = EarlyStopping(monitor=\"avg_val_loss\", patience=20)\n",
    "logger=TensorBoardLogger(save_dir=\"logs/\", name=model_name, version=\"0.0\")\n",
    "\n",
    "trainer = pl.Trainer(\n",
    "    default_root_dir=\"/home/nuoc/Documents/MEX/src/motion_generation/checkpoints\",\n",
    "    gpus=1, precision=16,\n",
    "    callbacks=[checkpoint_callback,earlystopping],\n",
    "    logger=logger,\n",
    "    min_epochs=30,\n",
    "    max_epochs=epochs,\n",
    "    stochastic_weight_avg=True\n",
    ")\n",
    "\n",
    "train_set = datasets[0][0]\n",
    "val_set = datasets[0][1]\n",
    "train_loader = DataLoader(train_set, batch_size=config[\"batch_size\"], pin_memory=True, num_workers=6)\n",
    "val_loader = DataLoader(val_set, batch_size=config[\"batch_size\"], pin_memory=True, num_workers=6)\n",
    "\n",
    "trainer.fit(model,train_loader, val_loader)"
   ],
   "metadata": {
    "collapsed": false,
    "pycharm": {
     "name": "#%%\n"
    }
   }
  },
  {
   "cell_type": "code",
   "execution_count": 60,
   "outputs": [
    {
     "name": "stderr",
     "output_type": "stream",
     "text": [
      "GPU available: True, used: True\n",
      "TPU available: None, using: 0 TPU cores\n",
      "Using native 16bit precision.\n"
     ]
    },
    {
     "ename": "KeyboardInterrupt",
     "evalue": "",
     "output_type": "error",
     "traceback": [
      "\u001b[0;31m---------------------------------------------------------------------------\u001b[0m",
      "\u001b[0;31mKeyboardInterrupt\u001b[0m                         Traceback (most recent call last)",
      "\u001b[0;32m<ipython-input-60-81862f1698e5>\u001b[0m in \u001b[0;36m<module>\u001b[0;34m\u001b[0m\n\u001b[1;32m     30\u001b[0m         \u001b[0moptimizer\u001b[0m\u001b[0;34m.\u001b[0m\u001b[0mzero_grad\u001b[0m\u001b[0;34m(\u001b[0m\u001b[0;34m)\u001b[0m\u001b[0;34m\u001b[0m\u001b[0;34m\u001b[0m\u001b[0m\n\u001b[1;32m     31\u001b[0m         \u001b[0mavg_train_loss\u001b[0m \u001b[0;34m+=\u001b[0m \u001b[0mloss\u001b[0m\u001b[0;34m\u001b[0m\u001b[0;34m\u001b[0m\u001b[0m\n\u001b[0;32m---> 32\u001b[0;31m         \u001b[0mloss\u001b[0m\u001b[0;34m.\u001b[0m\u001b[0mbackward\u001b[0m\u001b[0;34m(\u001b[0m\u001b[0;34m)\u001b[0m\u001b[0;34m\u001b[0m\u001b[0;34m\u001b[0m\u001b[0m\n\u001b[0m\u001b[1;32m     33\u001b[0m         \u001b[0moptimizer\u001b[0m\u001b[0;34m.\u001b[0m\u001b[0mstep\u001b[0m\u001b[0;34m(\u001b[0m\u001b[0;34m)\u001b[0m\u001b[0;34m\u001b[0m\u001b[0;34m\u001b[0m\u001b[0m\n\u001b[1;32m     34\u001b[0m     \u001b[0mavg_train_loss\u001b[0m \u001b[0;34m/=\u001b[0m \u001b[0mfloat\u001b[0m\u001b[0;34m(\u001b[0m\u001b[0mlen\u001b[0m\u001b[0;34m(\u001b[0m\u001b[0mtrain_loader\u001b[0m\u001b[0;34m)\u001b[0m\u001b[0;34m)\u001b[0m\u001b[0;34m\u001b[0m\u001b[0;34m\u001b[0m\u001b[0m\n",
      "\u001b[0;32m~/miniconda3/lib/python3.8/site-packages/torch/tensor.py\u001b[0m in \u001b[0;36mbackward\u001b[0;34m(self, gradient, retain_graph, create_graph, inputs)\u001b[0m\n\u001b[1;32m    243\u001b[0m                 \u001b[0mcreate_graph\u001b[0m\u001b[0;34m=\u001b[0m\u001b[0mcreate_graph\u001b[0m\u001b[0;34m,\u001b[0m\u001b[0;34m\u001b[0m\u001b[0;34m\u001b[0m\u001b[0m\n\u001b[1;32m    244\u001b[0m                 inputs=inputs)\n\u001b[0;32m--> 245\u001b[0;31m         \u001b[0mtorch\u001b[0m\u001b[0;34m.\u001b[0m\u001b[0mautograd\u001b[0m\u001b[0;34m.\u001b[0m\u001b[0mbackward\u001b[0m\u001b[0;34m(\u001b[0m\u001b[0mself\u001b[0m\u001b[0;34m,\u001b[0m \u001b[0mgradient\u001b[0m\u001b[0;34m,\u001b[0m \u001b[0mretain_graph\u001b[0m\u001b[0;34m,\u001b[0m \u001b[0mcreate_graph\u001b[0m\u001b[0;34m,\u001b[0m \u001b[0minputs\u001b[0m\u001b[0;34m=\u001b[0m\u001b[0minputs\u001b[0m\u001b[0;34m)\u001b[0m\u001b[0;34m\u001b[0m\u001b[0;34m\u001b[0m\u001b[0m\n\u001b[0m\u001b[1;32m    246\u001b[0m \u001b[0;34m\u001b[0m\u001b[0m\n\u001b[1;32m    247\u001b[0m     \u001b[0;32mdef\u001b[0m \u001b[0mregister_hook\u001b[0m\u001b[0;34m(\u001b[0m\u001b[0mself\u001b[0m\u001b[0;34m,\u001b[0m \u001b[0mhook\u001b[0m\u001b[0;34m)\u001b[0m\u001b[0;34m:\u001b[0m\u001b[0;34m\u001b[0m\u001b[0;34m\u001b[0m\u001b[0m\n",
      "\u001b[0;32m~/miniconda3/lib/python3.8/site-packages/torch/autograd/__init__.py\u001b[0m in \u001b[0;36mbackward\u001b[0;34m(tensors, grad_tensors, retain_graph, create_graph, grad_variables, inputs)\u001b[0m\n\u001b[1;32m    143\u001b[0m         \u001b[0mretain_graph\u001b[0m \u001b[0;34m=\u001b[0m \u001b[0mcreate_graph\u001b[0m\u001b[0;34m\u001b[0m\u001b[0;34m\u001b[0m\u001b[0m\n\u001b[1;32m    144\u001b[0m \u001b[0;34m\u001b[0m\u001b[0m\n\u001b[0;32m--> 145\u001b[0;31m     Variable._execution_engine.run_backward(\n\u001b[0m\u001b[1;32m    146\u001b[0m         \u001b[0mtensors\u001b[0m\u001b[0;34m,\u001b[0m \u001b[0mgrad_tensors_\u001b[0m\u001b[0;34m,\u001b[0m \u001b[0mretain_graph\u001b[0m\u001b[0;34m,\u001b[0m \u001b[0mcreate_graph\u001b[0m\u001b[0;34m,\u001b[0m \u001b[0minputs\u001b[0m\u001b[0;34m,\u001b[0m\u001b[0;34m\u001b[0m\u001b[0;34m\u001b[0m\u001b[0m\n\u001b[1;32m    147\u001b[0m         allow_unreachable=True, accumulate_grad=True)  # allow_unreachable flag\n",
      "\u001b[0;31mKeyboardInterrupt\u001b[0m: "
     ]
    }
   ],
   "source": [
    "trainer = pl.Trainer(\n",
    "    default_root_dir=\"/home/nuoc/Documents/MEX/src/motion_generation/checkpoints\",\n",
    "    gpus=1, precision=16,\n",
    "    callbacks=[checkpoint_callback,earlystopping],\n",
    "    logger=logger,\n",
    "    min_epochs=30,\n",
    "    max_epochs=epochs,\n",
    "    stochastic_weight_avg=True\n",
    ")\n",
    "\n",
    "# model2 = MotionGenerationModel(config=config, pose_autoencoder=pose_autoencoder, cost_input_dimension=cost_dim,\n",
    "#                           input_slicers=input_slices, output_slicers=output_slices,phase_dim=pp_dim,\n",
    "#                           train_set=datasets[2][0], val_set=datasets[2][0], name=model_name)\n",
    "\n",
    "# model2.pose_autoencoder.load_state_dict(model.pose_autoencoder.state_dict())\n",
    "# model2.cost_encoder.load_state_dict(model.cost_encoder.state_dict())\n",
    "# model2.generationModel.load_state_dict(model.generationModel.state_dict())\n",
    "\n",
    "train_set = datasets[1][0]\n",
    "val_set = datasets[1][1]\n",
    "\n",
    "train_loader = DataLoader(train_set, batch_size=config[\"batch_size\"],  num_workers=6)\n",
    "val_loader = DataLoader(val_set, batch_size=config[\"batch_size\"],  num_workers=6)\n",
    "\n",
    "optimizer = model.configure_optimizers()\n",
    "for e in range(epochs):\n",
    "    avg_train_loss = 0\n",
    "    for idx, batch in enumerate(train_loader):\n",
    "        loss = model.training_step(batch, idx)\n",
    "        optimizer.zero_grad()\n",
    "        avg_train_loss += loss\n",
    "        loss.backward()\n",
    "        optimizer.step()\n",
    "    avg_train_loss /= float(len(train_loader))\n",
    "\n",
    "    avg_val_loss = 0\n",
    "    with torch.no_grad():\n",
    "        for idx, batch in enumerate(val_loader):\n",
    "            loss = model.training_step(batch, idx)\n",
    "            avg_val_loss += loss\n",
    "        avg_val_loss /= float(len(val_loader))\n",
    "\n",
    "    print(\"EPOCH: \", e, \" Train: \", avg_train_loss.item(), \" Val: \", avg_val_loss.item())\n",
    "# trainer.fit(model,train_loader, val_loader)\n",
    "\n"
   ],
   "metadata": {
    "collapsed": false,
    "pycharm": {
     "name": "#%%\n"
    }
   }
  },
  {
   "cell_type": "code",
   "execution_count": 56,
   "outputs": [
    {
     "data": {
      "text/plain": "9"
     },
     "execution_count": 56,
     "metadata": {},
     "output_type": "execute_result"
    }
   ],
   "source": [],
   "metadata": {
    "collapsed": false,
    "pycharm": {
     "name": "#%%\n"
    }
   }
  },
  {
   "cell_type": "code",
   "execution_count": 100,
   "outputs": [
    {
     "name": "stderr",
     "output_type": "stream",
     "text": [
      "GPU available: True, used: True\n",
      "TPU available: None, using: 0 TPU cores\n",
      "Using native 16bit precision.\n",
      "LOCAL_RANK: 0 - CUDA_VISIBLE_DEVICES: [0]\n",
      "\n",
      "  | Name             | Type          | Params\n",
      "---------------------------------------------------\n",
      "0 | pose_autoencoder | MLP_withLabel | 440 K \n",
      "1 | cost_encoder     | MLP           | 26.8 K\n",
      "2 | generationModel  | MoE           | 1.8 M \n",
      "---------------------------------------------------\n",
      "2.3 M     Trainable params\n",
      "0         Non-trainable params\n",
      "2.3 M     Total params\n",
      "9.183     Total estimated model params size (MB)\n",
      "Trainer was signaled to stop but required minimum epochs (50) or minimum steps (None) has not been met. Training will continue...\n",
      "Trainer was signaled to stop but required minimum epochs (50) or minimum steps (None) has not been met. Training will continue...\n",
      "Trainer was signaled to stop but required minimum epochs (50) or minimum steps (None) has not been met. Training will continue...\n",
      "Trainer was signaled to stop but required minimum epochs (50) or minimum steps (None) has not been met. Training will continue...\n",
      "Trainer was signaled to stop but required minimum epochs (50) or minimum steps (None) has not been met. Training will continue...\n",
      "Trainer was signaled to stop but required minimum epochs (50) or minimum steps (None) has not been met. Training will continue...\n",
      "Trainer was signaled to stop but required minimum epochs (50) or minimum steps (None) has not been met. Training will continue...\n",
      "Trainer was signaled to stop but required minimum epochs (50) or minimum steps (None) has not been met. Training will continue...\n",
      "Trainer was signaled to stop but required minimum epochs (50) or minimum steps (None) has not been met. Training will continue...\n",
      "Trainer was signaled to stop but required minimum epochs (50) or minimum steps (None) has not been met. Training will continue...\n",
      "Trainer was signaled to stop but required minimum epochs (50) or minimum steps (None) has not been met. Training will continue...\n",
      "Trainer was signaled to stop but required minimum epochs (50) or minimum steps (None) has not been met. Training will continue...\n",
      "Trainer was signaled to stop but required minimum epochs (50) or minimum steps (None) has not been met. Training will continue...\n",
      "Trainer was signaled to stop but required minimum epochs (50) or minimum steps (None) has not been met. Training will continue...\n",
      "Trainer was signaled to stop but required minimum epochs (50) or minimum steps (None) has not been met. Training will continue...\n",
      "Trainer was signaled to stop but required minimum epochs (50) or minimum steps (None) has not been met. Training will continue...\n",
      "Trainer was signaled to stop but required minimum epochs (50) or minimum steps (None) has not been met. Training will continue...\n",
      "Trainer was signaled to stop but required minimum epochs (50) or minimum steps (None) has not been met. Training will continue...\n",
      "Trainer was signaled to stop but required minimum epochs (50) or minimum steps (None) has not been met. Training will continue...\n",
      "Trainer was signaled to stop but required minimum epochs (50) or minimum steps (None) has not been met. Training will continue...\n",
      "Trainer was signaled to stop but required minimum epochs (50) or minimum steps (None) has not been met. Training will continue...\n",
      "Trainer was signaled to stop but required minimum epochs (50) or minimum steps (None) has not been met. Training will continue...\n",
      "Trainer was signaled to stop but required minimum epochs (50) or minimum steps (None) has not been met. Training will continue...\n",
      "Trainer was signaled to stop but required minimum epochs (50) or minimum steps (None) has not been met. Training will continue...\n",
      "Trainer was signaled to stop but required minimum epochs (50) or minimum steps (None) has not been met. Training will continue...\n"
     ]
    },
    {
     "data": {
      "text/plain": "HBox(children=(HTML(value='Validation sanity check'), FloatProgress(value=1.0, bar_style='info', layout=Layout…",
      "application/vnd.jupyter.widget-view+json": {
       "version_major": 2,
       "version_minor": 0,
       "model_id": "442a519b96f34e198cdcd71f725da5ec"
      }
     },
     "metadata": {},
     "output_type": "display_data"
    },
    {
     "data": {
      "text/plain": "HBox(children=(HTML(value='Training'), FloatProgress(value=1.0, bar_style='info', layout=Layout(flex='2'), max…",
      "application/vnd.jupyter.widget-view+json": {
       "version_major": 2,
       "version_minor": 0,
       "model_id": "ec24bd458618404ebd5c21a87b846f6b"
      }
     },
     "metadata": {},
     "output_type": "display_data"
    },
    {
     "data": {
      "text/plain": "HBox(children=(HTML(value='Validating'), FloatProgress(value=1.0, bar_style='info', layout=Layout(flex='2'), m…",
      "application/vnd.jupyter.widget-view+json": {
       "version_major": 2,
       "version_minor": 0,
       "model_id": "8685e2162e554d91a645011ee0bc3e55"
      }
     },
     "metadata": {},
     "output_type": "display_data"
    },
    {
     "data": {
      "text/plain": "HBox(children=(HTML(value='Validating'), FloatProgress(value=1.0, bar_style='info', layout=Layout(flex='2'), m…",
      "application/vnd.jupyter.widget-view+json": {
       "version_major": 2,
       "version_minor": 0,
       "model_id": "194c6c8c84be4873aa589099e5e587e1"
      }
     },
     "metadata": {},
     "output_type": "display_data"
    },
    {
     "data": {
      "text/plain": "HBox(children=(HTML(value='Validating'), FloatProgress(value=1.0, bar_style='info', layout=Layout(flex='2'), m…",
      "application/vnd.jupyter.widget-view+json": {
       "version_major": 2,
       "version_minor": 0,
       "model_id": "5e569d4cc1c147bf8c522199e6eb08b7"
      }
     },
     "metadata": {},
     "output_type": "display_data"
    },
    {
     "data": {
      "text/plain": "HBox(children=(HTML(value='Validating'), FloatProgress(value=1.0, bar_style='info', layout=Layout(flex='2'), m…",
      "application/vnd.jupyter.widget-view+json": {
       "version_major": 2,
       "version_minor": 0,
       "model_id": "35fb9917c4224208a66f8cd543c8e64e"
      }
     },
     "metadata": {},
     "output_type": "display_data"
    },
    {
     "data": {
      "text/plain": "HBox(children=(HTML(value='Validating'), FloatProgress(value=1.0, bar_style='info', layout=Layout(flex='2'), m…",
      "application/vnd.jupyter.widget-view+json": {
       "version_major": 2,
       "version_minor": 0,
       "model_id": "290fc08dcd0a4646a28678c93b2d6e41"
      }
     },
     "metadata": {},
     "output_type": "display_data"
    },
    {
     "data": {
      "text/plain": "HBox(children=(HTML(value='Validating'), FloatProgress(value=1.0, bar_style='info', layout=Layout(flex='2'), m…",
      "application/vnd.jupyter.widget-view+json": {
       "version_major": 2,
       "version_minor": 0,
       "model_id": "4c30b5306ee54fd8ac663a4796b31f63"
      }
     },
     "metadata": {},
     "output_type": "display_data"
    },
    {
     "data": {
      "text/plain": "HBox(children=(HTML(value='Validating'), FloatProgress(value=1.0, bar_style='info', layout=Layout(flex='2'), m…",
      "application/vnd.jupyter.widget-view+json": {
       "version_major": 2,
       "version_minor": 0,
       "model_id": "0bbea649c5aa4a3a90ec6a47e1938529"
      }
     },
     "metadata": {},
     "output_type": "display_data"
    },
    {
     "data": {
      "text/plain": "HBox(children=(HTML(value='Validating'), FloatProgress(value=1.0, bar_style='info', layout=Layout(flex='2'), m…",
      "application/vnd.jupyter.widget-view+json": {
       "version_major": 2,
       "version_minor": 0,
       "model_id": "90797d86402a4b828e341890a76f5dc9"
      }
     },
     "metadata": {},
     "output_type": "display_data"
    },
    {
     "data": {
      "text/plain": "HBox(children=(HTML(value='Validating'), FloatProgress(value=1.0, bar_style='info', layout=Layout(flex='2'), m…",
      "application/vnd.jupyter.widget-view+json": {
       "version_major": 2,
       "version_minor": 0,
       "model_id": "547db7f0d5014edda8b59511b3baf8d0"
      }
     },
     "metadata": {},
     "output_type": "display_data"
    },
    {
     "data": {
      "text/plain": "HBox(children=(HTML(value='Validating'), FloatProgress(value=1.0, bar_style='info', layout=Layout(flex='2'), m…",
      "application/vnd.jupyter.widget-view+json": {
       "version_major": 2,
       "version_minor": 0,
       "model_id": "c3d0467bceb749f4a04a2f1b8f73a302"
      }
     },
     "metadata": {},
     "output_type": "display_data"
    },
    {
     "data": {
      "text/plain": "HBox(children=(HTML(value='Validating'), FloatProgress(value=1.0, bar_style='info', layout=Layout(flex='2'), m…",
      "application/vnd.jupyter.widget-view+json": {
       "version_major": 2,
       "version_minor": 0,
       "model_id": "db5e89f8461a4a9fb45aa9339b50e5d0"
      }
     },
     "metadata": {},
     "output_type": "display_data"
    },
    {
     "data": {
      "text/plain": "HBox(children=(HTML(value='Validating'), FloatProgress(value=1.0, bar_style='info', layout=Layout(flex='2'), m…",
      "application/vnd.jupyter.widget-view+json": {
       "version_major": 2,
       "version_minor": 0,
       "model_id": "620e6f44dc824243823a2e828c7bae54"
      }
     },
     "metadata": {},
     "output_type": "display_data"
    },
    {
     "data": {
      "text/plain": "HBox(children=(HTML(value='Validating'), FloatProgress(value=1.0, bar_style='info', layout=Layout(flex='2'), m…",
      "application/vnd.jupyter.widget-view+json": {
       "version_major": 2,
       "version_minor": 0,
       "model_id": "d5376ef94afa4c26b21d39f056d0e89f"
      }
     },
     "metadata": {},
     "output_type": "display_data"
    },
    {
     "data": {
      "text/plain": "HBox(children=(HTML(value='Validating'), FloatProgress(value=1.0, bar_style='info', layout=Layout(flex='2'), m…",
      "application/vnd.jupyter.widget-view+json": {
       "version_major": 2,
       "version_minor": 0,
       "model_id": "65fbf13f6ffb449d99ed663869dd0708"
      }
     },
     "metadata": {},
     "output_type": "display_data"
    },
    {
     "data": {
      "text/plain": "HBox(children=(HTML(value='Validating'), FloatProgress(value=1.0, bar_style='info', layout=Layout(flex='2'), m…",
      "application/vnd.jupyter.widget-view+json": {
       "version_major": 2,
       "version_minor": 0,
       "model_id": "a962b62b86924101a501db096249e794"
      }
     },
     "metadata": {},
     "output_type": "display_data"
    },
    {
     "data": {
      "text/plain": "HBox(children=(HTML(value='Validating'), FloatProgress(value=1.0, bar_style='info', layout=Layout(flex='2'), m…",
      "application/vnd.jupyter.widget-view+json": {
       "version_major": 2,
       "version_minor": 0,
       "model_id": "609b5634986f49eba2bb876391d1ebd9"
      }
     },
     "metadata": {},
     "output_type": "display_data"
    },
    {
     "data": {
      "text/plain": "HBox(children=(HTML(value='Validating'), FloatProgress(value=1.0, bar_style='info', layout=Layout(flex='2'), m…",
      "application/vnd.jupyter.widget-view+json": {
       "version_major": 2,
       "version_minor": 0,
       "model_id": "3edbfd8a3f0548ca8b2aac3bf8b7af16"
      }
     },
     "metadata": {},
     "output_type": "display_data"
    },
    {
     "data": {
      "text/plain": "HBox(children=(HTML(value='Validating'), FloatProgress(value=1.0, bar_style='info', layout=Layout(flex='2'), m…",
      "application/vnd.jupyter.widget-view+json": {
       "version_major": 2,
       "version_minor": 0,
       "model_id": "457fe6222e4c4ca1b40fedeafb90017b"
      }
     },
     "metadata": {},
     "output_type": "display_data"
    },
    {
     "data": {
      "text/plain": "HBox(children=(HTML(value='Validating'), FloatProgress(value=1.0, bar_style='info', layout=Layout(flex='2'), m…",
      "application/vnd.jupyter.widget-view+json": {
       "version_major": 2,
       "version_minor": 0,
       "model_id": "4f8507148a844f7bb5919edd20c4e8f4"
      }
     },
     "metadata": {},
     "output_type": "display_data"
    },
    {
     "data": {
      "text/plain": "HBox(children=(HTML(value='Validating'), FloatProgress(value=1.0, bar_style='info', layout=Layout(flex='2'), m…",
      "application/vnd.jupyter.widget-view+json": {
       "version_major": 2,
       "version_minor": 0,
       "model_id": "d338165d1f6c438185677072c77886a3"
      }
     },
     "metadata": {},
     "output_type": "display_data"
    },
    {
     "data": {
      "text/plain": "HBox(children=(HTML(value='Validating'), FloatProgress(value=1.0, bar_style='info', layout=Layout(flex='2'), m…",
      "application/vnd.jupyter.widget-view+json": {
       "version_major": 2,
       "version_minor": 0,
       "model_id": "d4c9e0ddcd44437c8dc48ad6efdde2bd"
      }
     },
     "metadata": {},
     "output_type": "display_data"
    },
    {
     "data": {
      "text/plain": "HBox(children=(HTML(value='Validating'), FloatProgress(value=1.0, bar_style='info', layout=Layout(flex='2'), m…",
      "application/vnd.jupyter.widget-view+json": {
       "version_major": 2,
       "version_minor": 0,
       "model_id": "bc8f0b1efaef4cdfaf836a28bdb84664"
      }
     },
     "metadata": {},
     "output_type": "display_data"
    },
    {
     "data": {
      "text/plain": "HBox(children=(HTML(value='Validating'), FloatProgress(value=1.0, bar_style='info', layout=Layout(flex='2'), m…",
      "application/vnd.jupyter.widget-view+json": {
       "version_major": 2,
       "version_minor": 0,
       "model_id": "c7b62ce84c394e4a953de4720e39127d"
      }
     },
     "metadata": {},
     "output_type": "display_data"
    },
    {
     "data": {
      "text/plain": "HBox(children=(HTML(value='Validating'), FloatProgress(value=1.0, bar_style='info', layout=Layout(flex='2'), m…",
      "application/vnd.jupyter.widget-view+json": {
       "version_major": 2,
       "version_minor": 0,
       "model_id": "1a627fec9a594f05ae58ce8656702d95"
      }
     },
     "metadata": {},
     "output_type": "display_data"
    },
    {
     "data": {
      "text/plain": "HBox(children=(HTML(value='Validating'), FloatProgress(value=1.0, bar_style='info', layout=Layout(flex='2'), m…",
      "application/vnd.jupyter.widget-view+json": {
       "version_major": 2,
       "version_minor": 0,
       "model_id": "d0645ed63b7a42b4a824e99030ff6e49"
      }
     },
     "metadata": {},
     "output_type": "display_data"
    },
    {
     "data": {
      "text/plain": "HBox(children=(HTML(value='Validating'), FloatProgress(value=1.0, bar_style='info', layout=Layout(flex='2'), m…",
      "application/vnd.jupyter.widget-view+json": {
       "version_major": 2,
       "version_minor": 0,
       "model_id": "cdca5f3dcaf44d618ad2d7eccf0b187e"
      }
     },
     "metadata": {},
     "output_type": "display_data"
    },
    {
     "data": {
      "text/plain": "HBox(children=(HTML(value='Validating'), FloatProgress(value=1.0, bar_style='info', layout=Layout(flex='2'), m…",
      "application/vnd.jupyter.widget-view+json": {
       "version_major": 2,
       "version_minor": 0,
       "model_id": "0d835b59fa4f40a4bcaa3eea62e352e0"
      }
     },
     "metadata": {},
     "output_type": "display_data"
    },
    {
     "data": {
      "text/plain": "HBox(children=(HTML(value='Validating'), FloatProgress(value=1.0, bar_style='info', layout=Layout(flex='2'), m…",
      "application/vnd.jupyter.widget-view+json": {
       "version_major": 2,
       "version_minor": 0,
       "model_id": "b3074863c70242aaac2a1d5114b4984a"
      }
     },
     "metadata": {},
     "output_type": "display_data"
    },
    {
     "data": {
      "text/plain": "HBox(children=(HTML(value='Validating'), FloatProgress(value=1.0, bar_style='info', layout=Layout(flex='2'), m…",
      "application/vnd.jupyter.widget-view+json": {
       "version_major": 2,
       "version_minor": 0,
       "model_id": "3e72ad3d1f9f43318a76feffe3740d4a"
      }
     },
     "metadata": {},
     "output_type": "display_data"
    },
    {
     "data": {
      "text/plain": "HBox(children=(HTML(value='Validating'), FloatProgress(value=1.0, bar_style='info', layout=Layout(flex='2'), m…",
      "application/vnd.jupyter.widget-view+json": {
       "version_major": 2,
       "version_minor": 0,
       "model_id": "a49fd533656849b1ab6f3ec84c88e2cf"
      }
     },
     "metadata": {},
     "output_type": "display_data"
    },
    {
     "data": {
      "text/plain": "HBox(children=(HTML(value='Validating'), FloatProgress(value=1.0, bar_style='info', layout=Layout(flex='2'), m…",
      "application/vnd.jupyter.widget-view+json": {
       "version_major": 2,
       "version_minor": 0,
       "model_id": "6341d9a8ee0740349516a0befb5f95d8"
      }
     },
     "metadata": {},
     "output_type": "display_data"
    },
    {
     "data": {
      "text/plain": "HBox(children=(HTML(value='Validating'), FloatProgress(value=1.0, bar_style='info', layout=Layout(flex='2'), m…",
      "application/vnd.jupyter.widget-view+json": {
       "version_major": 2,
       "version_minor": 0,
       "model_id": "82637b36eb784e33853cd5e0e354520d"
      }
     },
     "metadata": {},
     "output_type": "display_data"
    },
    {
     "data": {
      "text/plain": "HBox(children=(HTML(value='Validating'), FloatProgress(value=1.0, bar_style='info', layout=Layout(flex='2'), m…",
      "application/vnd.jupyter.widget-view+json": {
       "version_major": 2,
       "version_minor": 0,
       "model_id": "59bf66e8b46c498dbe79395bd5701615"
      }
     },
     "metadata": {},
     "output_type": "display_data"
    },
    {
     "data": {
      "text/plain": "HBox(children=(HTML(value='Validating'), FloatProgress(value=1.0, bar_style='info', layout=Layout(flex='2'), m…",
      "application/vnd.jupyter.widget-view+json": {
       "version_major": 2,
       "version_minor": 0,
       "model_id": "3cd6654a4d974dfcba2a15c46f9e9f4d"
      }
     },
     "metadata": {},
     "output_type": "display_data"
    },
    {
     "data": {
      "text/plain": "HBox(children=(HTML(value='Validating'), FloatProgress(value=1.0, bar_style='info', layout=Layout(flex='2'), m…",
      "application/vnd.jupyter.widget-view+json": {
       "version_major": 2,
       "version_minor": 0,
       "model_id": "39240bac41444900ae90088415228442"
      }
     },
     "metadata": {},
     "output_type": "display_data"
    },
    {
     "data": {
      "text/plain": "HBox(children=(HTML(value='Validating'), FloatProgress(value=1.0, bar_style='info', layout=Layout(flex='2'), m…",
      "application/vnd.jupyter.widget-view+json": {
       "version_major": 2,
       "version_minor": 0,
       "model_id": "7c53447dcc2b4ba7a501fdf29d3bbaed"
      }
     },
     "metadata": {},
     "output_type": "display_data"
    },
    {
     "data": {
      "text/plain": "HBox(children=(HTML(value='Validating'), FloatProgress(value=1.0, bar_style='info', layout=Layout(flex='2'), m…",
      "application/vnd.jupyter.widget-view+json": {
       "version_major": 2,
       "version_minor": 0,
       "model_id": "e471c44d1213429cb54c42c3941d2e66"
      }
     },
     "metadata": {},
     "output_type": "display_data"
    },
    {
     "data": {
      "text/plain": "HBox(children=(HTML(value='Validating'), FloatProgress(value=1.0, bar_style='info', layout=Layout(flex='2'), m…",
      "application/vnd.jupyter.widget-view+json": {
       "version_major": 2,
       "version_minor": 0,
       "model_id": "3e1ab639a8e041da8781f0d76b066afb"
      }
     },
     "metadata": {},
     "output_type": "display_data"
    },
    {
     "data": {
      "text/plain": "HBox(children=(HTML(value='Validating'), FloatProgress(value=1.0, bar_style='info', layout=Layout(flex='2'), m…",
      "application/vnd.jupyter.widget-view+json": {
       "version_major": 2,
       "version_minor": 0,
       "model_id": "2d9ba160f002462ea1e57b089bd02b5a"
      }
     },
     "metadata": {},
     "output_type": "display_data"
    },
    {
     "data": {
      "text/plain": "HBox(children=(HTML(value='Validating'), FloatProgress(value=1.0, bar_style='info', layout=Layout(flex='2'), m…",
      "application/vnd.jupyter.widget-view+json": {
       "version_major": 2,
       "version_minor": 0,
       "model_id": "9831c9a610fb416dbd10d12eabaf9b87"
      }
     },
     "metadata": {},
     "output_type": "display_data"
    },
    {
     "data": {
      "text/plain": "HBox(children=(HTML(value='Validating'), FloatProgress(value=1.0, bar_style='info', layout=Layout(flex='2'), m…",
      "application/vnd.jupyter.widget-view+json": {
       "version_major": 2,
       "version_minor": 0,
       "model_id": "d2d73e8b560d44fb89113b5467e24db6"
      }
     },
     "metadata": {},
     "output_type": "display_data"
    },
    {
     "data": {
      "text/plain": "HBox(children=(HTML(value='Validating'), FloatProgress(value=1.0, bar_style='info', layout=Layout(flex='2'), m…",
      "application/vnd.jupyter.widget-view+json": {
       "version_major": 2,
       "version_minor": 0,
       "model_id": "6983f487050e4cc88ee05230b735cb2d"
      }
     },
     "metadata": {},
     "output_type": "display_data"
    },
    {
     "data": {
      "text/plain": "HBox(children=(HTML(value='Validating'), FloatProgress(value=1.0, bar_style='info', layout=Layout(flex='2'), m…",
      "application/vnd.jupyter.widget-view+json": {
       "version_major": 2,
       "version_minor": 0,
       "model_id": "b418313a8afc447f89bde46c5cb19108"
      }
     },
     "metadata": {},
     "output_type": "display_data"
    },
    {
     "data": {
      "text/plain": "HBox(children=(HTML(value='Validating'), FloatProgress(value=1.0, bar_style='info', layout=Layout(flex='2'), m…",
      "application/vnd.jupyter.widget-view+json": {
       "version_major": 2,
       "version_minor": 0,
       "model_id": "ccc118feb6d343189ed86de9d0950ff6"
      }
     },
     "metadata": {},
     "output_type": "display_data"
    },
    {
     "data": {
      "text/plain": "HBox(children=(HTML(value='Validating'), FloatProgress(value=1.0, bar_style='info', layout=Layout(flex='2'), m…",
      "application/vnd.jupyter.widget-view+json": {
       "version_major": 2,
       "version_minor": 0,
       "model_id": "f4480737c080453ca08d9af02f0a5ef7"
      }
     },
     "metadata": {},
     "output_type": "display_data"
    },
    {
     "data": {
      "text/plain": "HBox(children=(HTML(value='Validating'), FloatProgress(value=1.0, bar_style='info', layout=Layout(flex='2'), m…",
      "application/vnd.jupyter.widget-view+json": {
       "version_major": 2,
       "version_minor": 0,
       "model_id": "19205b5d4270467b8353dfa1773cd9f0"
      }
     },
     "metadata": {},
     "output_type": "display_data"
    },
    {
     "data": {
      "text/plain": "HBox(children=(HTML(value='Validating'), FloatProgress(value=1.0, bar_style='info', layout=Layout(flex='2'), m…",
      "application/vnd.jupyter.widget-view+json": {
       "version_major": 2,
       "version_minor": 0,
       "model_id": "1ea40a187b594d53a47afdc69db2da2a"
      }
     },
     "metadata": {},
     "output_type": "display_data"
    },
    {
     "data": {
      "text/plain": "HBox(children=(HTML(value='Validating'), FloatProgress(value=1.0, bar_style='info', layout=Layout(flex='2'), m…",
      "application/vnd.jupyter.widget-view+json": {
       "version_major": 2,
       "version_minor": 0,
       "model_id": "6a7b450b3f40482d9fa4df1c6547216f"
      }
     },
     "metadata": {},
     "output_type": "display_data"
    },
    {
     "data": {
      "text/plain": "HBox(children=(HTML(value='Validating'), FloatProgress(value=1.0, bar_style='info', layout=Layout(flex='2'), m…",
      "application/vnd.jupyter.widget-view+json": {
       "version_major": 2,
       "version_minor": 0,
       "model_id": "0d103c05c7b24810b27a87096ff5b9e0"
      }
     },
     "metadata": {},
     "output_type": "display_data"
    },
    {
     "data": {
      "text/plain": "HBox(children=(HTML(value='Validating'), FloatProgress(value=1.0, bar_style='info', layout=Layout(flex='2'), m…",
      "application/vnd.jupyter.widget-view+json": {
       "version_major": 2,
       "version_minor": 0,
       "model_id": "459bc6605f6f43f1923fb9467ca8ded4"
      }
     },
     "metadata": {},
     "output_type": "display_data"
    },
    {
     "name": "stdout",
     "output_type": "stream",
     "text": [
      "\n"
     ]
    },
    {
     "data": {
      "text/plain": "1"
     },
     "execution_count": 100,
     "metadata": {},
     "output_type": "execute_result"
    }
   ],
   "source": [
    "#chunk\n",
    "\n",
    "from pytorch_lightning.callbacks import ModelCheckpoint\n",
    "\n",
    "checkpoint_callback = ModelCheckpoint(monitor=\"avg_val_loss\", save_top_k=3)\n",
    "earlystopping = EarlyStopping(monitor=\"avg_val_loss\", patience=10)\n",
    "logger=TensorBoardLogger(save_dir=\"logs/\", name=model_name, version=\"0.0\")\n",
    "\n",
    "trainer = pl.Trainer(\n",
    "    default_root_dir=\"/home/nuoc/Documents/MEX/src/motion_generation/checkpoints\",\n",
    "    gpus=1, precision=16,\n",
    "    callbacks=[checkpoint_callback,earlystopping],\n",
    "    logger=logger,\n",
    "    min_epochs=50,\n",
    "    max_epochs=epochs,\n",
    "    stochastic_weight_avg=True\n",
    ")\n",
    "\n",
    "train_loader = DataLoader(train_set, batch_size=config[\"batch_size\"], pin_memory=True, num_workers=6)\n",
    "val_loader = DataLoader(val_set, batch_size=config[\"batch_size\"], pin_memory=True, num_workers=6)\n",
    "\n",
    "trainer.fit(model,train_loader, val_loader)\n"
   ],
   "metadata": {
    "collapsed": false,
    "pycharm": {
     "name": "#%%\n"
    }
   }
  },
  {
   "cell_type": "code",
   "execution_count": 36,
   "outputs": [
    {
     "name": "stdout",
     "output_type": "stream",
     "text": [
      "420\n",
      "343\n"
     ]
    }
   ],
   "source": [
    "with bz2.BZ2File(\"data_sets_1_MoE.pbz2\", \"rb\") as f:\n",
    "        obj = pickle.load(f)\n",
    "\n",
    "train_set = obj[\"data_sets\"][0]\n",
    "val_set = obj[\"data_sets\"][1]\n",
    "# train_set = obj[\"data_sets\"][0]\n",
    "phase_dim = obj[\"dims\"][0]\n",
    "pose_dim = obj[\"dims\"][1]\n",
    "cost_dim = obj[\"dims\"][2]\n",
    "extra_feature_len = 21 * 3\n",
    "\n",
    "input_dim = phase_dim + pose_dim + cost_dim\n",
    "output_dim = phase_dim + pose_dim-extra_feature_len\n",
    "print(input_dim)\n",
    "print(output_dim)"
   ],
   "metadata": {
    "collapsed": false,
    "pycharm": {
     "name": "#%%\n"
    }
   }
  },
  {
   "cell_type": "code",
   "execution_count": null,
   "outputs": [],
   "source": [],
   "metadata": {
    "collapsed": false,
    "pycharm": {
     "name": "#%%\n"
    }
   }
  }
 ],
 "metadata": {
  "kernelspec": {
   "name": "python3",
   "language": "python",
   "display_name": "Python 3"
  },
  "language_info": {
   "codemirror_mode": {
    "name": "ipython",
    "version": 2
   },
   "file_extension": ".py",
   "mimetype": "text/x-python",
   "name": "python",
   "nbconvert_exporter": "python",
   "pygments_lexer": "ipython2",
   "version": "3.8.8-final"
  }
 },
 "nbformat": 4,
 "nbformat_minor": 0
}