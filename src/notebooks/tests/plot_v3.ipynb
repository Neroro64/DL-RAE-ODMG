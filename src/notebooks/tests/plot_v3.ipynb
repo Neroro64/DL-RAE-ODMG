{
 "cells": [
  {
   "cell_type": "code",
   "execution_count": 2,
   "source": [
    "import numpy as np\r\n",
    "import pandas as pd\r\n",
    "import plotly.graph_objs as go\r\n",
    "import plotly.express as ex\r\n",
    "import bz2\r\n",
    "import torch\r\n",
    "import _pickle as pickle\r\n",
    "import scipy.stats as stats\r\n",
    "import scipy\r\n",
    "from plotly.subplots import make_subplots\r\n",
    "import plotly.io as pio\r\n",
    "import sys, os\r\n",
    "import matplotlib.pyplot as plt\r\n",
    "import seaborn as sb\r\n",
    "import kaleido"
   ],
   "outputs": [],
   "metadata": {}
  },
  {
   "cell_type": "markdown",
   "source": [
    "# Global definitions"
   ],
   "metadata": {}
  },
  {
   "cell_type": "code",
   "execution_count": 3,
   "source": [
    "RESULT_PATH = \"F:/Documents/MEX/Deep-learning-based-rig-agnostic-encoding/results\"\r\n",
    "AE_SAVE_PATH = \"F:/Documents/MEX/Deep-learning-based-rig-agnostic-encoding/results/organized/AE\"\r\n",
    "REF_SAVE_PATH = \"F:/Documents/MEX/Deep-learning-based-rig-agnostic-encoding/results/organized/REF\"\r\n",
    "TRANS_SAVE_PATH = \"F:/Documents/MEX/Deep-learning-based-rig-agnostic-encoding/results/organized/TRANS\""
   ],
   "outputs": [],
   "metadata": {}
  },
  {
   "cell_type": "markdown",
   "source": [
    "# Function definitions"
   ],
   "metadata": {}
  },
  {
   "cell_type": "code",
   "execution_count": 4,
   "source": [
    "def load(file_path:str):\r\n",
    "    with bz2.BZ2File(file_path, \"rb\") as f:\r\n",
    "        obj = pickle.load(f)\r\n",
    "    return obj\r\n",
    "def save(file:object, file_path:str):\r\n",
    "    with bz2.BZ2File(file_path, \"w\") as f:\r\n",
    "        pickle.dump(file, f)\r\n",
    "def mean_confidence_interval(data, confidence=0.95):\r\n",
    "    data = np.nan_to_num(data, 0)\r\n",
    "    a = 1.0 * np.array(data)\r\n",
    "    n = len(a)\r\n",
    "    m, se = np.mean(a), scipy.stats.sem(a)\r\n",
    "    h = se * scipy.stats.t.ppf((1 + confidence) / 2., n-1)\r\n",
    "    return m, m-h, m+h"
   ],
   "outputs": [],
   "metadata": {}
  },
  {
   "cell_type": "markdown",
   "source": [
    "# MoE vs LSTM\r\n",
    "## AE  "
   ],
   "metadata": {}
  },
  {
   "cell_type": "code",
   "execution_count": 5,
   "source": [
    "def plot_test(results:dict):\r\n",
    "    \"\"\"\r\n",
    "    @param:\r\n",
    "        results : dict (\r\n",
    "            x : array_like\r\n",
    "            y : [y1, y2, y3 ...]\r\n",
    "        )\r\n",
    "    \"\"\"\r\n",
    "    fig = go.Figure()\r\n",
    "    swatches = ex.colors.qualitative.Vivid\r\n",
    "    for i,y in enumerate(results[\"y\"]):\r\n",
    "        fig.add_trace(go.Bar(x=results[\"x\"], y=[res[0] for res in y],\r\n",
    "            marker_color=swatches[i],\r\n",
    "            error_y=dict(type=\"data\", array=[res[2] for res in y], arrayminus=[res[1] for res in y])))\r\n",
    "    return fig\r\n",
    "\r\n",
    "def plot_stapled_bar(results:dict, title=\"\", x_axis_name=None, y_axis_name=None, \r\n",
    "                    width=500, height=300, annotation_text=\"baseline\", annotation_position=\"bottom right\"):\r\n",
    "\r\n",
    "    fig = ex.bar(results, x=\"Models\", y=\"Percentage\", color=\"Metrics\", opacity=0.8, text=\"Percentage\", template=\"seaborn\")\r\n",
    "\r\n",
    "    fig.update_layout(\r\n",
    "        title_text=title,\r\n",
    "        width = width, height=height, \r\n",
    "        font_family=\"Serif\", font_size=14, \r\n",
    "        margin_l=5, margin_t=40, margin_b=5, margin_r=5)\r\n",
    "\r\n",
    "    if x_axis_name is not None:\r\n",
    "        fig.update_xaxes(\r\n",
    "            title_text=x_axis_name\r\n",
    "        )\r\n",
    "    if y_axis_name is not None:\r\n",
    "        fig.update_yaxes(\r\n",
    "            title_text=y_axis_name\r\n",
    "        )\r\n",
    "    return fig\r\n",
    "\r\n",
    "def save_plot(plot:object, file_path=\"figure.svg\"):\r\n",
    "    plot.write_image(file_path)"
   ],
   "outputs": [],
   "metadata": {}
  },
  {
   "cell_type": "code",
   "execution_count": 6,
   "source": [
    "ref_results = load(os.path.join(RESULT_PATH,\"reference_results.pbz2\"))"
   ],
   "outputs": [],
   "metadata": {}
  },
  {
   "cell_type": "code",
   "execution_count": 7,
   "source": [
    "ref_ae_moe = [rig[\"AE+MoE\"] for rig in ref_results]\r\n",
    "ref_ae_lstm = [rig[\"AE+LSTM\"] for rig in ref_results]\r\n",
    "ref_rbf_moe = [rig[\"RBF-CAT+MoE\"] for rig in ref_results]\r\n",
    "ref_rbf_lstm = [rig[\"RBF-CAT+LSTM\"] for rig in ref_results]"
   ],
   "outputs": [],
   "metadata": {}
  },
  {
   "cell_type": "code",
   "execution_count": 8,
   "source": [
    "ref_moe_res = dict(recon=[res[\"recon_error\"] for res in ref_ae_moe], adv=[res[\"adv_error\"] for res in ref_ae_moe], \r\n",
    "rot=[res[\"rot_error\"] for res in ref_ae_moe], deltaRot=[res[\"delta_rot\"] for res in ref_ae_moe])\r\n",
    "ref_lstm_res = dict(recon=[res[\"recon_error\"] for res in ref_ae_lstm], adv=[res[\"adv_error\"] for res in ref_ae_lstm], \r\n",
    "rot=[res[\"rot_error\"] for res in ref_ae_lstm], deltaRot=[res[\"delta_rot\"] for res in ref_ae_lstm])\r\n",
    "\r\n",
    "rbf_moe_res = dict(recon=[res[\"recon_error\"] for res in ref_rbf_moe], adv=[res[\"adv_error\"] for res in ref_rbf_moe], \r\n",
    "rot=[res[\"rot_error\"] for res in ref_rbf_moe], deltaRot=[res[\"delta_rot\"] for res in ref_rbf_moe])\r\n",
    "rbf_lstm_res = dict(recon=[res[\"recon_error\"] for res in ref_rbf_lstm], adv=[res[\"adv_error\"] for res in ref_rbf_lstm], \r\n",
    "rot=[res[\"rot_error\"] for res in ref_rbf_lstm], deltaRot=[res[\"delta_rot\"] for res in ref_rbf_lstm])\r\n",
    "\r\n",
    "# ref_ae_moe_recon = [res[\"recon_error\"] for res in ref_ae_moe]\r\n",
    "# ref_ae_moe_recon_mean = [mean_confidence_interval(rig_res) for rig_res in ref_ae_moe_recon]\r\n",
    "\r\n",
    "# ref_ae_lstm_recon = [res[\"recon_error\"] for res in ref_ae_lstm]\r\n",
    "# ref_ae_lstm_recon_mean = [mean_confidence_interval(rig_res) for rig_res in ref_ae_lstm_recon]"
   ],
   "outputs": [],
   "metadata": {}
  },
  {
   "cell_type": "code",
   "execution_count": 9,
   "source": [
    "def compute_RMS(delta_rot:list):\r\n",
    "    rms = lambda x: np.sqrt(np.mean(x**2))\r\n",
    "    samples = []\r\n",
    "    for (x,y) in delta_rot:\r\n",
    "        rms_x = rms(np.asarray(x, np.float64))\r\n",
    "        rms_y = rms(np.asarray(y, np.float64))\r\n",
    "        samples.append(rms_x + rms_y)\r\n",
    "    return samples "
   ],
   "outputs": [],
   "metadata": {}
  },
  {
   "cell_type": "code",
   "execution_count": 10,
   "source": [
    "for i in range(len(ref_moe_res[\"deltaRot\"])):\r\n",
    "    ref_moe_res[\"deltaRot\"][i] = compute_RMS(ref_moe_res[\"deltaRot\"][i])\r\n",
    "\r\n",
    "for i in range(len(ref_lstm_res[\"deltaRot\"])):\r\n",
    "    ref_lstm_res[\"deltaRot\"][i] = compute_RMS(ref_lstm_res[\"deltaRot\"][i])\r\n",
    "\r\n",
    "for i in range(len(rbf_moe_res[\"deltaRot\"])):\r\n",
    "    rbf_moe_res[\"deltaRot\"][i] = compute_RMS(rbf_moe_res[\"deltaRot\"][i])\r\n",
    "\r\n",
    "for i in range(len(rbf_lstm_res[\"deltaRot\"])):\r\n",
    "    rbf_lstm_res[\"deltaRot\"][i] = compute_RMS(rbf_lstm_res[\"deltaRot\"][i])"
   ],
   "outputs": [],
   "metadata": {}
  },
  {
   "cell_type": "code",
   "execution_count": 11,
   "source": [
    "comp = lambda x,y : np.asarray([1 / (yi / xi) * 100 for xi,yi in zip(x,y)], np.float64)\r\n",
    "l1 = lambda key: np.round(np.mean([comp(m1,m2) for m1,m2 in zip(ref_moe_res[key],ref_lstm_res[key])]), decimals=2)\r\n",
    "l2 = lambda key: np.round(np.mean([comp(m1,m2) for m1,m2 in zip(rbf_moe_res[key],rbf_lstm_res[key])]), decimals=2)\r\n",
    "\r\n",
    "y1 = [l1(\"recon\"), l1(\"adv\") , l1(\"rot\"), l1(\"deltaRot\")]\r\n",
    "y2 = [l2(\"recon\"), l2(\"adv\") , l2(\"rot\"), l2(\"deltaRot\")]\r\n",
    "\r\n",
    "\r\n"
   ],
   "outputs": [],
   "metadata": {}
  },
  {
   "cell_type": "code",
   "execution_count": 12,
   "source": [
    "swatches = ex.colors.qualitative.Vivid\r\n",
    "# res = {\"Models\":[\"AE\"]*4 + [\"RBF\"]*4, \"%\":y1+y2, \"Metrics\":[\"Recon\", \"ADV\", \"Rot\", \"DeltaRot\"]*2}\r\n",
    "res = {\"Models\":[\"AE\"]*4 + [\"RBF\"]*4, \"\":y1+y2, \"Metrics\":[\"Recon\", \"ADV\", \"Rot\", \"DeltaRot\"]*2}\r\n",
    "\r\n",
    "# fig = ex.bar(res, x=\"Models\", y=\"%\", color=\"Metrics\")\r\n",
    "\r\n",
    "# res = {\"Models\":[\"AE\"]*4 + [\"RBF\"]*4, \"%\":y1+y2, \"Metrics\":[\"Recon\", \"ADV\", \"Rot\", \"DeltaRot\"]*2}\r\n",
    "# res = {\"Models\":[\"AE\"]*4 , \"%\":y1, \"Metrics\":[\"Recon\", \"ADV\", \"Rot\", \"DeltaRot\"]}\r\n",
    "# res2 = {\"Models\":[\"RBF\"]*4 , \"%\":y2, \"Metrics\":[\"Recon\", \"ADV\", \"Rot\", \"DeltaRot\"]}\r\n",
    "\r\n",
    "fig = plot_stapled_bar(results=res, title=\"Generation perf of LSTM compared to MoE\", annotation_text=\"\", annotation_position=\"bottom\") \r\n",
    "# fig = sb.histplot(x=\"Models\", data=res, hue=\"Metrics\" )\r\n",
    "# fig2 = sb.histplot(x=\"Models\", data=res2, hue=\"Metrics\")\r\n",
    "fig.show()"
   ],
   "outputs": [
    {
     "output_type": "display_data",
     "data": {
      "application/vnd.plotly.v1+json": {
       "config": {
        "plotlyServerURL": "https://plot.ly"
       },
       "data": [
        {
         "alignmentgroup": "True",
         "hovertemplate": "Metrics=Recon<br>Models=%{x}<br>Percentage=%{text}<extra></extra>",
         "legendgroup": "Recon",
         "marker": {
          "color": "rgb(76,114,176)",
          "opacity": 0.8,
          "pattern": {
           "shape": ""
          }
         },
         "name": "Recon",
         "offsetgroup": "Recon",
         "orientation": "v",
         "showlegend": true,
         "text": [
          31.94,
          30.85
         ],
         "textposition": "auto",
         "type": "bar",
         "x": [
          "AE",
          "RBF"
         ],
         "xaxis": "x",
         "y": [
          31.94,
          30.85
         ],
         "yaxis": "y"
        },
        {
         "alignmentgroup": "True",
         "hovertemplate": "Metrics=ADV<br>Models=%{x}<br>Percentage=%{text}<extra></extra>",
         "legendgroup": "ADV",
         "marker": {
          "color": "rgb(221,132,82)",
          "opacity": 0.8,
          "pattern": {
           "shape": ""
          }
         },
         "name": "ADV",
         "offsetgroup": "ADV",
         "orientation": "v",
         "showlegend": true,
         "text": [
          121.17,
          122.08
         ],
         "textposition": "auto",
         "type": "bar",
         "x": [
          "AE",
          "RBF"
         ],
         "xaxis": "x",
         "y": [
          121.17,
          122.08
         ],
         "yaxis": "y"
        },
        {
         "alignmentgroup": "True",
         "hovertemplate": "Metrics=Rot<br>Models=%{x}<br>Percentage=%{text}<extra></extra>",
         "legendgroup": "Rot",
         "marker": {
          "color": "rgb(85,168,104)",
          "opacity": 0.8,
          "pattern": {
           "shape": ""
          }
         },
         "name": "Rot",
         "offsetgroup": "Rot",
         "orientation": "v",
         "showlegend": true,
         "text": [
          75.04,
          77.88
         ],
         "textposition": "auto",
         "type": "bar",
         "x": [
          "AE",
          "RBF"
         ],
         "xaxis": "x",
         "y": [
          75.04,
          77.88
         ],
         "yaxis": "y"
        },
        {
         "alignmentgroup": "True",
         "hovertemplate": "Metrics=DeltaRot<br>Models=%{x}<br>Percentage=%{text}<extra></extra>",
         "legendgroup": "DeltaRot",
         "marker": {
          "color": "rgb(196,78,82)",
          "opacity": 0.8,
          "pattern": {
           "shape": ""
          }
         },
         "name": "DeltaRot",
         "offsetgroup": "DeltaRot",
         "orientation": "v",
         "showlegend": true,
         "text": [
          58.85,
          57.48
         ],
         "textposition": "auto",
         "type": "bar",
         "x": [
          "AE",
          "RBF"
         ],
         "xaxis": "x",
         "y": [
          58.85,
          57.48
         ],
         "yaxis": "y"
        }
       ],
       "layout": {
        "barmode": "relative",
        "font": {
         "family": "Serif",
         "size": 14
        },
        "height": 300,
        "legend": {
         "title": {
          "text": "Metrics"
         },
         "tracegroupgap": 0
        },
        "margin": {
         "b": 5,
         "l": 5,
         "r": 5,
         "t": 40
        },
        "template": {
         "data": {
          "bar": [
           {
            "error_x": {
             "color": "rgb(36,36,36)"
            },
            "error_y": {
             "color": "rgb(36,36,36)"
            },
            "marker": {
             "line": {
              "color": "rgb(234,234,242)",
              "width": 0.5
             },
             "pattern": {
              "fillmode": "overlay",
              "size": 10,
              "solidity": 0.2
             }
            },
            "type": "bar"
           }
          ],
          "barpolar": [
           {
            "marker": {
             "line": {
              "color": "rgb(234,234,242)",
              "width": 0.5
             },
             "pattern": {
              "fillmode": "overlay",
              "size": 10,
              "solidity": 0.2
             }
            },
            "type": "barpolar"
           }
          ],
          "carpet": [
           {
            "aaxis": {
             "endlinecolor": "rgb(36,36,36)",
             "gridcolor": "white",
             "linecolor": "white",
             "minorgridcolor": "white",
             "startlinecolor": "rgb(36,36,36)"
            },
            "baxis": {
             "endlinecolor": "rgb(36,36,36)",
             "gridcolor": "white",
             "linecolor": "white",
             "minorgridcolor": "white",
             "startlinecolor": "rgb(36,36,36)"
            },
            "type": "carpet"
           }
          ],
          "choropleth": [
           {
            "colorbar": {
             "outlinewidth": 0,
             "tickcolor": "rgb(36,36,36)",
             "ticklen": 8,
             "ticks": "outside",
             "tickwidth": 2
            },
            "type": "choropleth"
           }
          ],
          "contour": [
           {
            "colorbar": {
             "outlinewidth": 0,
             "tickcolor": "rgb(36,36,36)",
             "ticklen": 8,
             "ticks": "outside",
             "tickwidth": 2
            },
            "colorscale": [
             [
              0,
              "rgb(2,4,25)"
             ],
             [
              0.06274509803921569,
              "rgb(24,15,41)"
             ],
             [
              0.12549019607843137,
              "rgb(47,23,57)"
             ],
             [
              0.18823529411764706,
              "rgb(71,28,72)"
             ],
             [
              0.25098039215686274,
              "rgb(97,30,82)"
             ],
             [
              0.3137254901960784,
              "rgb(123,30,89)"
             ],
             [
              0.3764705882352941,
              "rgb(150,27,91)"
             ],
             [
              0.4392156862745098,
              "rgb(177,22,88)"
             ],
             [
              0.5019607843137255,
              "rgb(203,26,79)"
             ],
             [
              0.5647058823529412,
              "rgb(223,47,67)"
             ],
             [
              0.6274509803921569,
              "rgb(236,76,61)"
             ],
             [
              0.6901960784313725,
              "rgb(242,107,73)"
             ],
             [
              0.7529411764705882,
              "rgb(244,135,95)"
             ],
             [
              0.8156862745098039,
              "rgb(245,162,122)"
             ],
             [
              0.8784313725490196,
              "rgb(246,188,153)"
             ],
             [
              0.9411764705882353,
              "rgb(247,212,187)"
             ],
             [
              1,
              "rgb(250,234,220)"
             ]
            ],
            "type": "contour"
           }
          ],
          "contourcarpet": [
           {
            "colorbar": {
             "outlinewidth": 0,
             "tickcolor": "rgb(36,36,36)",
             "ticklen": 8,
             "ticks": "outside",
             "tickwidth": 2
            },
            "type": "contourcarpet"
           }
          ],
          "heatmap": [
           {
            "colorbar": {
             "outlinewidth": 0,
             "tickcolor": "rgb(36,36,36)",
             "ticklen": 8,
             "ticks": "outside",
             "tickwidth": 2
            },
            "colorscale": [
             [
              0,
              "rgb(2,4,25)"
             ],
             [
              0.06274509803921569,
              "rgb(24,15,41)"
             ],
             [
              0.12549019607843137,
              "rgb(47,23,57)"
             ],
             [
              0.18823529411764706,
              "rgb(71,28,72)"
             ],
             [
              0.25098039215686274,
              "rgb(97,30,82)"
             ],
             [
              0.3137254901960784,
              "rgb(123,30,89)"
             ],
             [
              0.3764705882352941,
              "rgb(150,27,91)"
             ],
             [
              0.4392156862745098,
              "rgb(177,22,88)"
             ],
             [
              0.5019607843137255,
              "rgb(203,26,79)"
             ],
             [
              0.5647058823529412,
              "rgb(223,47,67)"
             ],
             [
              0.6274509803921569,
              "rgb(236,76,61)"
             ],
             [
              0.6901960784313725,
              "rgb(242,107,73)"
             ],
             [
              0.7529411764705882,
              "rgb(244,135,95)"
             ],
             [
              0.8156862745098039,
              "rgb(245,162,122)"
             ],
             [
              0.8784313725490196,
              "rgb(246,188,153)"
             ],
             [
              0.9411764705882353,
              "rgb(247,212,187)"
             ],
             [
              1,
              "rgb(250,234,220)"
             ]
            ],
            "type": "heatmap"
           }
          ],
          "heatmapgl": [
           {
            "colorbar": {
             "outlinewidth": 0,
             "tickcolor": "rgb(36,36,36)",
             "ticklen": 8,
             "ticks": "outside",
             "tickwidth": 2
            },
            "colorscale": [
             [
              0,
              "rgb(2,4,25)"
             ],
             [
              0.06274509803921569,
              "rgb(24,15,41)"
             ],
             [
              0.12549019607843137,
              "rgb(47,23,57)"
             ],
             [
              0.18823529411764706,
              "rgb(71,28,72)"
             ],
             [
              0.25098039215686274,
              "rgb(97,30,82)"
             ],
             [
              0.3137254901960784,
              "rgb(123,30,89)"
             ],
             [
              0.3764705882352941,
              "rgb(150,27,91)"
             ],
             [
              0.4392156862745098,
              "rgb(177,22,88)"
             ],
             [
              0.5019607843137255,
              "rgb(203,26,79)"
             ],
             [
              0.5647058823529412,
              "rgb(223,47,67)"
             ],
             [
              0.6274509803921569,
              "rgb(236,76,61)"
             ],
             [
              0.6901960784313725,
              "rgb(242,107,73)"
             ],
             [
              0.7529411764705882,
              "rgb(244,135,95)"
             ],
             [
              0.8156862745098039,
              "rgb(245,162,122)"
             ],
             [
              0.8784313725490196,
              "rgb(246,188,153)"
             ],
             [
              0.9411764705882353,
              "rgb(247,212,187)"
             ],
             [
              1,
              "rgb(250,234,220)"
             ]
            ],
            "type": "heatmapgl"
           }
          ],
          "histogram": [
           {
            "marker": {
             "pattern": {
              "fillmode": "overlay",
              "size": 10,
              "solidity": 0.2
             }
            },
            "type": "histogram"
           }
          ],
          "histogram2d": [
           {
            "colorbar": {
             "outlinewidth": 0,
             "tickcolor": "rgb(36,36,36)",
             "ticklen": 8,
             "ticks": "outside",
             "tickwidth": 2
            },
            "colorscale": [
             [
              0,
              "rgb(2,4,25)"
             ],
             [
              0.06274509803921569,
              "rgb(24,15,41)"
             ],
             [
              0.12549019607843137,
              "rgb(47,23,57)"
             ],
             [
              0.18823529411764706,
              "rgb(71,28,72)"
             ],
             [
              0.25098039215686274,
              "rgb(97,30,82)"
             ],
             [
              0.3137254901960784,
              "rgb(123,30,89)"
             ],
             [
              0.3764705882352941,
              "rgb(150,27,91)"
             ],
             [
              0.4392156862745098,
              "rgb(177,22,88)"
             ],
             [
              0.5019607843137255,
              "rgb(203,26,79)"
             ],
             [
              0.5647058823529412,
              "rgb(223,47,67)"
             ],
             [
              0.6274509803921569,
              "rgb(236,76,61)"
             ],
             [
              0.6901960784313725,
              "rgb(242,107,73)"
             ],
             [
              0.7529411764705882,
              "rgb(244,135,95)"
             ],
             [
              0.8156862745098039,
              "rgb(245,162,122)"
             ],
             [
              0.8784313725490196,
              "rgb(246,188,153)"
             ],
             [
              0.9411764705882353,
              "rgb(247,212,187)"
             ],
             [
              1,
              "rgb(250,234,220)"
             ]
            ],
            "type": "histogram2d"
           }
          ],
          "histogram2dcontour": [
           {
            "colorbar": {
             "outlinewidth": 0,
             "tickcolor": "rgb(36,36,36)",
             "ticklen": 8,
             "ticks": "outside",
             "tickwidth": 2
            },
            "colorscale": [
             [
              0,
              "rgb(2,4,25)"
             ],
             [
              0.06274509803921569,
              "rgb(24,15,41)"
             ],
             [
              0.12549019607843137,
              "rgb(47,23,57)"
             ],
             [
              0.18823529411764706,
              "rgb(71,28,72)"
             ],
             [
              0.25098039215686274,
              "rgb(97,30,82)"
             ],
             [
              0.3137254901960784,
              "rgb(123,30,89)"
             ],
             [
              0.3764705882352941,
              "rgb(150,27,91)"
             ],
             [
              0.4392156862745098,
              "rgb(177,22,88)"
             ],
             [
              0.5019607843137255,
              "rgb(203,26,79)"
             ],
             [
              0.5647058823529412,
              "rgb(223,47,67)"
             ],
             [
              0.6274509803921569,
              "rgb(236,76,61)"
             ],
             [
              0.6901960784313725,
              "rgb(242,107,73)"
             ],
             [
              0.7529411764705882,
              "rgb(244,135,95)"
             ],
             [
              0.8156862745098039,
              "rgb(245,162,122)"
             ],
             [
              0.8784313725490196,
              "rgb(246,188,153)"
             ],
             [
              0.9411764705882353,
              "rgb(247,212,187)"
             ],
             [
              1,
              "rgb(250,234,220)"
             ]
            ],
            "type": "histogram2dcontour"
           }
          ],
          "mesh3d": [
           {
            "colorbar": {
             "outlinewidth": 0,
             "tickcolor": "rgb(36,36,36)",
             "ticklen": 8,
             "ticks": "outside",
             "tickwidth": 2
            },
            "type": "mesh3d"
           }
          ],
          "parcoords": [
           {
            "line": {
             "colorbar": {
              "outlinewidth": 0,
              "tickcolor": "rgb(36,36,36)",
              "ticklen": 8,
              "ticks": "outside",
              "tickwidth": 2
             }
            },
            "type": "parcoords"
           }
          ],
          "pie": [
           {
            "automargin": true,
            "type": "pie"
           }
          ],
          "scatter": [
           {
            "marker": {
             "colorbar": {
              "outlinewidth": 0,
              "tickcolor": "rgb(36,36,36)",
              "ticklen": 8,
              "ticks": "outside",
              "tickwidth": 2
             }
            },
            "type": "scatter"
           }
          ],
          "scatter3d": [
           {
            "line": {
             "colorbar": {
              "outlinewidth": 0,
              "tickcolor": "rgb(36,36,36)",
              "ticklen": 8,
              "ticks": "outside",
              "tickwidth": 2
             }
            },
            "marker": {
             "colorbar": {
              "outlinewidth": 0,
              "tickcolor": "rgb(36,36,36)",
              "ticklen": 8,
              "ticks": "outside",
              "tickwidth": 2
             }
            },
            "type": "scatter3d"
           }
          ],
          "scattercarpet": [
           {
            "marker": {
             "colorbar": {
              "outlinewidth": 0,
              "tickcolor": "rgb(36,36,36)",
              "ticklen": 8,
              "ticks": "outside",
              "tickwidth": 2
             }
            },
            "type": "scattercarpet"
           }
          ],
          "scattergeo": [
           {
            "marker": {
             "colorbar": {
              "outlinewidth": 0,
              "tickcolor": "rgb(36,36,36)",
              "ticklen": 8,
              "ticks": "outside",
              "tickwidth": 2
             }
            },
            "type": "scattergeo"
           }
          ],
          "scattergl": [
           {
            "marker": {
             "colorbar": {
              "outlinewidth": 0,
              "tickcolor": "rgb(36,36,36)",
              "ticklen": 8,
              "ticks": "outside",
              "tickwidth": 2
             }
            },
            "type": "scattergl"
           }
          ],
          "scattermapbox": [
           {
            "marker": {
             "colorbar": {
              "outlinewidth": 0,
              "tickcolor": "rgb(36,36,36)",
              "ticklen": 8,
              "ticks": "outside",
              "tickwidth": 2
             }
            },
            "type": "scattermapbox"
           }
          ],
          "scatterpolar": [
           {
            "marker": {
             "colorbar": {
              "outlinewidth": 0,
              "tickcolor": "rgb(36,36,36)",
              "ticklen": 8,
              "ticks": "outside",
              "tickwidth": 2
             }
            },
            "type": "scatterpolar"
           }
          ],
          "scatterpolargl": [
           {
            "marker": {
             "colorbar": {
              "outlinewidth": 0,
              "tickcolor": "rgb(36,36,36)",
              "ticklen": 8,
              "ticks": "outside",
              "tickwidth": 2
             }
            },
            "type": "scatterpolargl"
           }
          ],
          "scatterternary": [
           {
            "marker": {
             "colorbar": {
              "outlinewidth": 0,
              "tickcolor": "rgb(36,36,36)",
              "ticklen": 8,
              "ticks": "outside",
              "tickwidth": 2
             }
            },
            "type": "scatterternary"
           }
          ],
          "surface": [
           {
            "colorbar": {
             "outlinewidth": 0,
             "tickcolor": "rgb(36,36,36)",
             "ticklen": 8,
             "ticks": "outside",
             "tickwidth": 2
            },
            "colorscale": [
             [
              0,
              "rgb(2,4,25)"
             ],
             [
              0.06274509803921569,
              "rgb(24,15,41)"
             ],
             [
              0.12549019607843137,
              "rgb(47,23,57)"
             ],
             [
              0.18823529411764706,
              "rgb(71,28,72)"
             ],
             [
              0.25098039215686274,
              "rgb(97,30,82)"
             ],
             [
              0.3137254901960784,
              "rgb(123,30,89)"
             ],
             [
              0.3764705882352941,
              "rgb(150,27,91)"
             ],
             [
              0.4392156862745098,
              "rgb(177,22,88)"
             ],
             [
              0.5019607843137255,
              "rgb(203,26,79)"
             ],
             [
              0.5647058823529412,
              "rgb(223,47,67)"
             ],
             [
              0.6274509803921569,
              "rgb(236,76,61)"
             ],
             [
              0.6901960784313725,
              "rgb(242,107,73)"
             ],
             [
              0.7529411764705882,
              "rgb(244,135,95)"
             ],
             [
              0.8156862745098039,
              "rgb(245,162,122)"
             ],
             [
              0.8784313725490196,
              "rgb(246,188,153)"
             ],
             [
              0.9411764705882353,
              "rgb(247,212,187)"
             ],
             [
              1,
              "rgb(250,234,220)"
             ]
            ],
            "type": "surface"
           }
          ],
          "table": [
           {
            "cells": {
             "fill": {
              "color": "rgb(231,231,240)"
             },
             "line": {
              "color": "white"
             }
            },
            "header": {
             "fill": {
              "color": "rgb(183,183,191)"
             },
             "line": {
              "color": "white"
             }
            },
            "type": "table"
           }
          ]
         },
         "layout": {
          "annotationdefaults": {
           "arrowcolor": "rgb(67,103,167)"
          },
          "autotypenumbers": "strict",
          "coloraxis": {
           "colorbar": {
            "outlinewidth": 0,
            "tickcolor": "rgb(36,36,36)",
            "ticklen": 8,
            "ticks": "outside",
            "tickwidth": 2
           }
          },
          "colorscale": {
           "sequential": [
            [
             0,
             "rgb(2,4,25)"
            ],
            [
             0.06274509803921569,
             "rgb(24,15,41)"
            ],
            [
             0.12549019607843137,
             "rgb(47,23,57)"
            ],
            [
             0.18823529411764706,
             "rgb(71,28,72)"
            ],
            [
             0.25098039215686274,
             "rgb(97,30,82)"
            ],
            [
             0.3137254901960784,
             "rgb(123,30,89)"
            ],
            [
             0.3764705882352941,
             "rgb(150,27,91)"
            ],
            [
             0.4392156862745098,
             "rgb(177,22,88)"
            ],
            [
             0.5019607843137255,
             "rgb(203,26,79)"
            ],
            [
             0.5647058823529412,
             "rgb(223,47,67)"
            ],
            [
             0.6274509803921569,
             "rgb(236,76,61)"
            ],
            [
             0.6901960784313725,
             "rgb(242,107,73)"
            ],
            [
             0.7529411764705882,
             "rgb(244,135,95)"
            ],
            [
             0.8156862745098039,
             "rgb(245,162,122)"
            ],
            [
             0.8784313725490196,
             "rgb(246,188,153)"
            ],
            [
             0.9411764705882353,
             "rgb(247,212,187)"
            ],
            [
             1,
             "rgb(250,234,220)"
            ]
           ],
           "sequentialminus": [
            [
             0,
             "rgb(2,4,25)"
            ],
            [
             0.06274509803921569,
             "rgb(24,15,41)"
            ],
            [
             0.12549019607843137,
             "rgb(47,23,57)"
            ],
            [
             0.18823529411764706,
             "rgb(71,28,72)"
            ],
            [
             0.25098039215686274,
             "rgb(97,30,82)"
            ],
            [
             0.3137254901960784,
             "rgb(123,30,89)"
            ],
            [
             0.3764705882352941,
             "rgb(150,27,91)"
            ],
            [
             0.4392156862745098,
             "rgb(177,22,88)"
            ],
            [
             0.5019607843137255,
             "rgb(203,26,79)"
            ],
            [
             0.5647058823529412,
             "rgb(223,47,67)"
            ],
            [
             0.6274509803921569,
             "rgb(236,76,61)"
            ],
            [
             0.6901960784313725,
             "rgb(242,107,73)"
            ],
            [
             0.7529411764705882,
             "rgb(244,135,95)"
            ],
            [
             0.8156862745098039,
             "rgb(245,162,122)"
            ],
            [
             0.8784313725490196,
             "rgb(246,188,153)"
            ],
            [
             0.9411764705882353,
             "rgb(247,212,187)"
            ],
            [
             1,
             "rgb(250,234,220)"
            ]
           ]
          },
          "colorway": [
           "rgb(76,114,176)",
           "rgb(221,132,82)",
           "rgb(85,168,104)",
           "rgb(196,78,82)",
           "rgb(129,114,179)",
           "rgb(147,120,96)",
           "rgb(218,139,195)",
           "rgb(140,140,140)",
           "rgb(204,185,116)",
           "rgb(100,181,205)"
          ],
          "font": {
           "color": "rgb(36,36,36)"
          },
          "geo": {
           "bgcolor": "white",
           "lakecolor": "white",
           "landcolor": "rgb(234,234,242)",
           "showlakes": true,
           "showland": true,
           "subunitcolor": "white"
          },
          "hoverlabel": {
           "align": "left"
          },
          "hovermode": "closest",
          "paper_bgcolor": "white",
          "plot_bgcolor": "rgb(234,234,242)",
          "polar": {
           "angularaxis": {
            "gridcolor": "white",
            "linecolor": "white",
            "showgrid": true,
            "ticks": ""
           },
           "bgcolor": "rgb(234,234,242)",
           "radialaxis": {
            "gridcolor": "white",
            "linecolor": "white",
            "showgrid": true,
            "ticks": ""
           }
          },
          "scene": {
           "xaxis": {
            "backgroundcolor": "rgb(234,234,242)",
            "gridcolor": "white",
            "gridwidth": 2,
            "linecolor": "white",
            "showbackground": true,
            "showgrid": true,
            "ticks": "",
            "zerolinecolor": "white"
           },
           "yaxis": {
            "backgroundcolor": "rgb(234,234,242)",
            "gridcolor": "white",
            "gridwidth": 2,
            "linecolor": "white",
            "showbackground": true,
            "showgrid": true,
            "ticks": "",
            "zerolinecolor": "white"
           },
           "zaxis": {
            "backgroundcolor": "rgb(234,234,242)",
            "gridcolor": "white",
            "gridwidth": 2,
            "linecolor": "white",
            "showbackground": true,
            "showgrid": true,
            "ticks": "",
            "zerolinecolor": "white"
           }
          },
          "shapedefaults": {
           "fillcolor": "rgb(67,103,167)",
           "line": {
            "width": 0
           },
           "opacity": 0.5
          },
          "ternary": {
           "aaxis": {
            "gridcolor": "white",
            "linecolor": "white",
            "showgrid": true,
            "ticks": ""
           },
           "baxis": {
            "gridcolor": "white",
            "linecolor": "white",
            "showgrid": true,
            "ticks": ""
           },
           "bgcolor": "rgb(234,234,242)",
           "caxis": {
            "gridcolor": "white",
            "linecolor": "white",
            "showgrid": true,
            "ticks": ""
           }
          },
          "xaxis": {
           "automargin": true,
           "gridcolor": "white",
           "linecolor": "white",
           "showgrid": true,
           "ticks": "",
           "title": {
            "standoff": 15
           },
           "zerolinecolor": "white"
          },
          "yaxis": {
           "automargin": true,
           "gridcolor": "white",
           "linecolor": "white",
           "showgrid": true,
           "ticks": "",
           "title": {
            "standoff": 15
           },
           "zerolinecolor": "white"
          }
         }
        },
        "title": {
         "text": "Generation perf of LSTM compared to MoE"
        },
        "width": 500,
        "xaxis": {
         "anchor": "y",
         "domain": [
          0,
          1
         ],
         "title": {
          "text": "Models"
         }
        },
        "yaxis": {
         "anchor": "x",
         "domain": [
          0,
          1
         ],
         "title": {
          "text": "Percentage"
         }
        }
       }
      }
     },
     "metadata": {}
    }
   ],
   "metadata": {}
  },
  {
   "cell_type": "code",
   "execution_count": 13,
   "source": [
    "save_plot(fig)"
   ],
   "outputs": [],
   "metadata": {}
  },
  {
   "cell_type": "code",
   "execution_count": 17,
   "source": [
    "# Approach 1 - flattened\r\n",
    "\r\n",
    "# Approach 2 - compute per rig then average\r\n",
    "\r\n",
    "comp_pval = lambda x,y : stats.kruskal(x,y)[1]\r\n",
    "l1 = lambda key: np.mean([comp_pval(m1,m2) for m1,m2 in zip(ref_moe_res[key],ref_lstm_res[key])])\r\n",
    "l2 = lambda key: np.mean([comp_pval(m1,m2) for m1,m2 in zip(rbf_moe_res[key],rbf_lstm_res[key])])\r\n",
    "\r\n",
    "y1 = [l1(\"recon\"), l1(\"adv\") , l1(\"rot\"), l1(\"deltaRot\")]\r\n",
    "y2 = [l2(\"recon\"), l2(\"adv\") , l2(\"rot\"), l2(\"deltaRot\")]\r\n"
   ],
   "outputs": [],
   "metadata": {}
  },
  {
   "cell_type": "code",
   "execution_count": 18,
   "source": [
    "print(y1)"
   ],
   "outputs": [
    {
     "output_type": "stream",
     "name": "stdout",
     "text": [
      "[5.455470728901324e-42, 0.09270252142344164, 1.5319303418694827e-32, 1.2241370411395197e-06]\n"
     ]
    }
   ],
   "metadata": {}
  },
  {
   "cell_type": "code",
   "execution_count": 35,
   "source": [
    "fig = go.Figure()\r\n",
    "swatches = ex.colors.qualitative.Vivid\r\n",
    "x_vals = [\"R\"+str(i) for i in range(1,6)]\r\n",
    "y1 = ref_ae_moe_recon\r\n",
    "y2 = ref_ae_lstm_recon\r\n",
    "y_vals_raw = [[(i22-i11)/i11 * 100 for i11, i22 in zip(i1,i2)] for i1,i2 in zip(y1,y2)]\r\n",
    "y_vals_pval = [stats.kruskal(row, np.random.normal(0,5,len(row)))[1] for row in y_vals_raw]\r\n",
    "y_vals = [mean_confidence_interval(row) for row in y_vals_raw]\r\n"
   ],
   "outputs": [],
   "metadata": {}
  },
  {
   "cell_type": "code",
   "execution_count": null,
   "source": [],
   "outputs": [],
   "metadata": {}
  },
  {
   "cell_type": "code",
   "execution_count": 127,
   "source": [
    "params = [\"recon_error\", \"adv_error\", \"pos_error\", \"rot_error\", \"delta_pos\", \"delta_rot\"]\r\n",
    "delta_pos = ref_ae_moe[0][\"delta_pos\"]\r\n",
    "delta_rot = ref_ae_moe[0][\"delta_rot\"]\r\n",
    "delta_rot2 = ref_ae_lstm[0][\"delta_rot\"]"
   ],
   "outputs": [],
   "metadata": {}
  },
  {
   "cell_type": "code",
   "execution_count": 161,
   "source": [
    "y1 = [x+y for x,y in zip(delta_rot[100][0],delta_rot[100][1])]\r\n",
    "y2 = [x+y for x,y in zip(delta_rot2[100][0],delta_rot2[100][1])]\r\n",
    "yy1 = [y if y >= 0.01 else 0 for y in y1]\r\n",
    "yy2 = [y if y >= 0.01 else 0 for y in y2]\r\n",
    "\r\n",
    "fig = ex.line(x=np.arange(298), y=y1)\r\n",
    "fig.add_trace(go.Scatter(x=np.arange(298), y=y2))\r\n",
    "fig.add_trace(go.Scatter(x=np.arange(298), y=yy1))\r\n",
    "fig.add_trace(go.Scatter(x=np.arange(298), y=yy2))\r\n",
    "fig.add_hline(y=l1(yyy1), x0=0, x1=298)\r\n",
    "fig.add_hline(y=l1(yyy2), x0=0, x1=298)\r\n",
    "fig.show()"
   ],
   "outputs": [
    {
     "output_type": "display_data",
     "data": {
      "application/vnd.plotly.v1+json": {
       "config": {
        "plotlyServerURL": "https://plot.ly"
       },
       "data": [
        {
         "hovertemplate": "x=%{x}<br>y=%{y}<extra></extra>",
         "legendgroup": "",
         "line": {
          "color": "#636efa",
          "dash": "solid"
         },
         "marker": {
          "symbol": "circle"
         },
         "mode": "lines",
         "name": "",
         "orientation": "h",
         "showlegend": false,
         "type": "scatter",
         "x": [
          0,
          1,
          2,
          3,
          4,
          5,
          6,
          7,
          8,
          9,
          10,
          11,
          12,
          13,
          14,
          15,
          16,
          17,
          18,
          19,
          20,
          21,
          22,
          23,
          24,
          25,
          26,
          27,
          28,
          29,
          30,
          31,
          32,
          33,
          34,
          35,
          36,
          37,
          38,
          39,
          40,
          41,
          42,
          43,
          44,
          45,
          46,
          47,
          48,
          49,
          50,
          51,
          52,
          53,
          54,
          55,
          56,
          57,
          58,
          59,
          60,
          61,
          62,
          63,
          64,
          65,
          66,
          67,
          68,
          69,
          70,
          71,
          72,
          73,
          74,
          75,
          76,
          77,
          78,
          79,
          80,
          81,
          82,
          83,
          84,
          85,
          86,
          87,
          88,
          89,
          90,
          91,
          92,
          93,
          94,
          95,
          96,
          97,
          98,
          99,
          100,
          101,
          102,
          103,
          104,
          105,
          106,
          107,
          108,
          109,
          110,
          111,
          112,
          113,
          114,
          115,
          116,
          117,
          118,
          119,
          120,
          121,
          122,
          123,
          124,
          125,
          126,
          127,
          128,
          129,
          130,
          131,
          132,
          133,
          134,
          135,
          136,
          137,
          138,
          139,
          140,
          141,
          142,
          143,
          144,
          145,
          146,
          147,
          148,
          149,
          150,
          151,
          152,
          153,
          154,
          155,
          156,
          157,
          158,
          159,
          160,
          161,
          162,
          163,
          164,
          165,
          166,
          167,
          168,
          169,
          170,
          171,
          172,
          173,
          174,
          175,
          176,
          177,
          178,
          179,
          180,
          181,
          182,
          183,
          184,
          185,
          186,
          187,
          188,
          189,
          190,
          191,
          192,
          193,
          194,
          195,
          196,
          197,
          198,
          199,
          200,
          201,
          202,
          203,
          204,
          205,
          206,
          207,
          208,
          209,
          210,
          211,
          212,
          213,
          214,
          215,
          216,
          217,
          218,
          219,
          220,
          221,
          222,
          223,
          224,
          225,
          226,
          227,
          228,
          229,
          230,
          231,
          232,
          233,
          234,
          235,
          236,
          237,
          238,
          239,
          240,
          241,
          242,
          243,
          244,
          245,
          246,
          247,
          248,
          249,
          250,
          251,
          252,
          253,
          254,
          255,
          256,
          257,
          258,
          259,
          260,
          261,
          262,
          263,
          264,
          265,
          266,
          267,
          268,
          269,
          270,
          271,
          272,
          273,
          274,
          275,
          276,
          277,
          278,
          279,
          280,
          281,
          282,
          283,
          284,
          285,
          286,
          287,
          288,
          289,
          290,
          291,
          292,
          293,
          294,
          295,
          296,
          297
         ],
         "xaxis": "x",
         "y": [
          0.07048361748456955,
          0.015989653766155243,
          0.022318564355373383,
          0.029338642954826355,
          0.03707164525985718,
          0.04328375682234764,
          0.048637427389621735,
          0.05533386766910553,
          0.06236644089221954,
          0.06874099373817444,
          0.07339806854724884,
          0.0762360692024231,
          0.08044705539941788,
          0.08465543389320374,
          0.088223397731781,
          0.09141658246517181,
          0.0923590362071991,
          0.09721048921346664,
          0.10130150616168976,
          0.10235443711280823,
          0.10104101896286011,
          0.09651759266853333,
          0.09347501397132874,
          0.09018629789352417,
          0.08475495129823685,
          0.08005501329898834,
          0.07719185203313828,
          0.07742955535650253,
          0.07672198116779327,
          0.07494637370109558,
          0.07226493954658508,
          0.06838551163673401,
          0.06466780602931976,
          0.060586679726839066,
          0.056997910141944885,
          0.05414126068353653,
          0.05262533575296402,
          0.05303095653653145,
          0.05243075639009476,
          0.0466766282916069,
          0.040339402854442596,
          0.03565509617328644,
          0.032163944095373154,
          0.029425926506519318,
          0.027155324816703796,
          0.025431182235479355,
          0.024015668779611588,
          0.022216033190488815,
          0.018795233219861984,
          0.014915777370333672,
          0.07617843896150589,
          0.07664468139410019,
          0.02304103970527649,
          0.025606665760278702,
          0.02791677787899971,
          0.03169359639286995,
          0.03586264327168465,
          0.04022957757115364,
          0.04573832079768181,
          0.05297808349132538,
          0.0631442666053772,
          0.08497189730405807,
          0.11173456907272339,
          0.10410384833812714,
          0.11743488907814026,
          0.1237419992685318,
          0.12359422445297241,
          0.12366342544555664,
          0.12526193261146545,
          0.12825532257556915,
          0.13004425168037415,
          0.13517864048480988,
          0.1426813304424286,
          0.1566680371761322,
          0.1817505955696106,
          0.19722099602222443,
          0.18378420174121857,
          0.16972830891609192,
          0.17128710448741913,
          0.15683096647262573,
          0.13464301824569702,
          0.11978273093700409,
          0.10964983701705933,
          0.10256026685237885,
          0.0954398587346077,
          0.0871112048625946,
          0.07774446159601212,
          0.06968917697668076,
          0.06291165947914124,
          0.05727309733629227,
          0.05317661166191101,
          0.05040334165096283,
          0.04803915321826935,
          0.04526308923959732,
          0.04301854968070984,
          0.04142837971448898,
          0.0816439539194107,
          0.038451388478279114,
          0.038231514394283295,
          0.038473017513751984,
          0.07662039995193481,
          0.044533323496580124,
          0.05118899419903755,
          0.0556483194231987,
          0.05670719966292381,
          0.06193625554442406,
          0.06947124749422073,
          0.07760480046272278,
          0.08216218650341034,
          0.08520680665969849,
          0.09006853401660919,
          0.09338407218456268,
          0.09781623631715775,
          0.10195337235927582,
          0.10933718085289001,
          0.11495316028594971,
          0.11722652614116669,
          0.11999901384115219,
          0.11408765614032745,
          0.10932084172964096,
          0.10763753950595856,
          0.10622520744800568,
          0.10323058813810349,
          0.10041476786136627,
          0.09378013014793396,
          0.087866872549057,
          0.08271130174398422,
          0.0787406787276268,
          0.07201635837554932,
          0.06692145764827728,
          0.0630255937576294,
          0.05932387337088585,
          0.05621665343642235,
          0.053457312285900116,
          0.050828173756599426,
          0.048508770763874054,
          0.045663174241781235,
          0.04241659492254257,
          0.03906950727105141,
          0.03591638058423996,
          0.03306567668914795,
          0.03071259707212448,
          0.029140271246433258,
          0.028069976717233658,
          0.027104366570711136,
          0.026212040334939957,
          0.0250096395611763,
          0.02410368248820305,
          0.023107245564460754,
          0.02225342020392418,
          0.02006423845887184,
          0.018016181886196136,
          0.016162674874067307,
          0.014587454497814178,
          0.013286653906106949,
          0.012243417091667652,
          0.01135551743209362,
          0.01046040840446949,
          0.009360098280012608,
          0.008685044944286346,
          0.008061489090323448,
          0.007462590001523495,
          0.006900446489453316,
          0.006396923679858446,
          0.005927992053329945,
          0.005493782460689545,
          0.00498550571501255,
          0.004571137949824333,
          0.004270889796316624,
          0.004082023166120052,
          0.003808928420767188,
          0.003567181061953306,
          0.003350213635712862,
          0.0031279572285711765,
          0.0029045180417597294,
          0.002646150765940547,
          0.0024471962824463844,
          0.0022066948004066944,
          0.0020367915276437998,
          0.001799380173906684,
          0.00159499142318964,
          0.0013768270146101713,
          0.001183067448437214,
          0.0010065248934552073,
          0.0008208042709156871,
          0.0006567466189153492,
          0.0005262073245830834,
          0.00042442086851224303,
          0.0003188277187291533,
          0.00030049195629544556,
          0.00034153321757912636,
          0.0002938234538305551,
          0.00023333083663601428,
          0.00012195439194329083,
          0.0001501942751929164,
          0.00006260826921788976,
          0.00005242608312983066,
          0.0000750971375964582,
          0.0000704837657394819,
          0.0000750971375964582,
          0.0000649149515083991,
          0.000033412932680221274,
          0.00003015079528267961,
          0.00004263965820427984,
          0.000033412932680221274,
          0.000027844111173180863,
          0.000011137644833070226,
          0.000051470622565830126,
          0.00003802630089921877,
          0.00001901314863061998,
          0.00003245747939217836,
          0.000041288440115749836,
          0.000027844111173180863,
          0.000022275289666140452,
          0.00004359511876828037,
          0.00003571961497073062,
          0.000027844111173180863,
          0.000030150793463690206,
          0.00003802629726123996,
          0.00004820848334929906,
          0.00003245747575419955,
          0.000041288440115749836,
          0.00002688865424715914,
          0.00001901314863061998,
          0.00003802629726123996,
          0.000005568822416535113,
          0.000051470622565830126,
          0.00006722163379890844,
          0.00004263965820427984,
          0.00006722163379890844,
          0.00004359511876828037,
          0.00001901314863061998,
          0.000005568822416535113,
          0.00003802630089921877,
          0.00003245747939217836,
          0.00003571961497073062,
          0.00004359511876828037,
          0.00004916394027532078,
          0.000027844111173180863,
          0.000038981754187261686,
          0.00004359511876828037,
          0.00002688865424715914,
          0.00007279044802999124,
          0.00006260826921788976,
          0.00004359511876828037,
          0.00004128843647777103,
          0.000057039447710849345,
          0.000045901801058789715,
          0.00003245747211622074,
          0.000029195332899689674,
          0.000030150793463690206,
          0.00004590180469676852,
          0.00004359511876828037,
          0.000022275289666140452,
          0.00002458197013766039,
          0.00004359511876828037,
          0.00004685725798481144,
          0.000033412932680221274,
          0.00008162140875356272,
          0.00005799490099889226,
          0.00006260826921788976,
          0.00004263966184225865,
          0.00003192077201674692,
          0.00002688865424715914,
          0.000013444326214084867,
          0.000011137644833070226,
          0.00001575100759509951,
          0.00004359511876828037,
          0.00004359511876828037,
          0.000011137644833070226,
          0.000016706466340110637,
          0.000011137644833070226,
          0.000016706466340110637,
          0.000023626511392649263,
          0.00003802629726123996,
          0.000016706466340110637,
          0.000027844111173180863,
          0.00003245747575419955,
          0.00004916394391329959,
          0.00003571961497073062,
          0.00004916394391329959,
          0.000022275289666140452,
          0.000011137644833070226,
          0.00003571961497073062,
          0.00004359512240625918,
          0.000051470622565830126,
          0.00005377730485633947,
          0.00004263966184225865,
          0.000030150793463690206,
          0.00003341293631820008,
          0.00003571961497073062,
          0.00001901314863061998,
          0.00004263966184225865,
          0.00001901314863061998,
          0.00004359511876828037,
          0.0000445505756943021,
          0.00003571961497073062,
          0.000016706466340110637
         ],
         "yaxis": "y"
        },
        {
         "type": "scatter",
         "x": [
          0,
          1,
          2,
          3,
          4,
          5,
          6,
          7,
          8,
          9,
          10,
          11,
          12,
          13,
          14,
          15,
          16,
          17,
          18,
          19,
          20,
          21,
          22,
          23,
          24,
          25,
          26,
          27,
          28,
          29,
          30,
          31,
          32,
          33,
          34,
          35,
          36,
          37,
          38,
          39,
          40,
          41,
          42,
          43,
          44,
          45,
          46,
          47,
          48,
          49,
          50,
          51,
          52,
          53,
          54,
          55,
          56,
          57,
          58,
          59,
          60,
          61,
          62,
          63,
          64,
          65,
          66,
          67,
          68,
          69,
          70,
          71,
          72,
          73,
          74,
          75,
          76,
          77,
          78,
          79,
          80,
          81,
          82,
          83,
          84,
          85,
          86,
          87,
          88,
          89,
          90,
          91,
          92,
          93,
          94,
          95,
          96,
          97,
          98,
          99,
          100,
          101,
          102,
          103,
          104,
          105,
          106,
          107,
          108,
          109,
          110,
          111,
          112,
          113,
          114,
          115,
          116,
          117,
          118,
          119,
          120,
          121,
          122,
          123,
          124,
          125,
          126,
          127,
          128,
          129,
          130,
          131,
          132,
          133,
          134,
          135,
          136,
          137,
          138,
          139,
          140,
          141,
          142,
          143,
          144,
          145,
          146,
          147,
          148,
          149,
          150,
          151,
          152,
          153,
          154,
          155,
          156,
          157,
          158,
          159,
          160,
          161,
          162,
          163,
          164,
          165,
          166,
          167,
          168,
          169,
          170,
          171,
          172,
          173,
          174,
          175,
          176,
          177,
          178,
          179,
          180,
          181,
          182,
          183,
          184,
          185,
          186,
          187,
          188,
          189,
          190,
          191,
          192,
          193,
          194,
          195,
          196,
          197,
          198,
          199,
          200,
          201,
          202,
          203,
          204,
          205,
          206,
          207,
          208,
          209,
          210,
          211,
          212,
          213,
          214,
          215,
          216,
          217,
          218,
          219,
          220,
          221,
          222,
          223,
          224,
          225,
          226,
          227,
          228,
          229,
          230,
          231,
          232,
          233,
          234,
          235,
          236,
          237,
          238,
          239,
          240,
          241,
          242,
          243,
          244,
          245,
          246,
          247,
          248,
          249,
          250,
          251,
          252,
          253,
          254,
          255,
          256,
          257,
          258,
          259,
          260,
          261,
          262,
          263,
          264,
          265,
          266,
          267,
          268,
          269,
          270,
          271,
          272,
          273,
          274,
          275,
          276,
          277,
          278,
          279,
          280,
          281,
          282,
          283,
          284,
          285,
          286,
          287,
          288,
          289,
          290,
          291,
          292,
          293,
          294,
          295,
          296,
          297
         ],
         "y": [
          0.036921218037605286,
          0.02925669401884079,
          0.049379635602235794,
          0.043107423931360245,
          0.06334879994392395,
          0.07887865602970123,
          0.0525209978222847,
          0.09514624625444412,
          0.07498881220817566,
          0.0968138724565506,
          0.08276360481977463,
          0.06377348303794861,
          0.12116976082324982,
          0.0912373811006546,
          0.13275182247161865,
          0.12610290944576263,
          0.11135482788085938,
          0.09726767241954803,
          0.10529085993766785,
          0.13068453967571259,
          0.15456965565681458,
          0.21452151238918304,
          0.12482360005378723,
          0.14676089584827423,
          0.16666574776172638,
          0.18146666884422302,
          0.2220769077539444,
          0.14890922605991364,
          0.32145705819129944,
          0.1280686855316162,
          0.18032528460025787,
          0.13792558014392853,
          0.10408719629049301,
          0.16067281365394592,
          0.10671333223581314,
          0.11487925797700882,
          0.12257454544305801,
          0.1447659432888031,
          0.13108399510383606,
          0.11144690215587616,
          0.10925991833209991,
          0.10710494220256805,
          0.12954623997211456,
          0.06637511402368546,
          0.09216001629829407,
          0.07316669821739197,
          0.08180049806833267,
          0.07081657648086548,
          0.13618944585323334,
          0.1097920686006546,
          0.4879983961582184,
          0.2829972803592682,
          0.10017329454421997,
          0.1483757048845291,
          0.13064078986644745,
          0.25653836131095886,
          0.13860459625720978,
          0.21409499645233154,
          0.2764792740345001,
          0.28536456823349,
          0.2123396396636963,
          0.14999942481517792,
          0.21986082196235657,
          0.13065043091773987,
          0.1759255826473236,
          0.16904304921627045,
          0.17478406429290771,
          0.170318603515625,
          0.18184861540794373,
          0.17866289615631104,
          0.14408376812934875,
          0.17157727479934692,
          0.16494804620742798,
          0.14890173077583313,
          0.1576898992061615,
          0.19947558641433716,
          0.2125806212425232,
          0.207078754901886,
          0.16018319129943848,
          0.1535477489233017,
          0.1679423600435257,
          0.14877499639987946,
          0.13318994641304016,
          0.13435380160808563,
          0.1288887858390808,
          0.1396806836128235,
          0.2331928312778473,
          0.18606314063072205,
          0.16354165971279144,
          0.17710596323013306,
          0.14443935453891754,
          0.1973278820514679,
          0.22742855548858643,
          0.2874857485294342,
          0.4584313929080963,
          0.4178113639354706,
          0.38956552743911743,
          0.21379505097866058,
          0.19706648588180542,
          0.1802823543548584,
          0.7948734164237976,
          0.2390773594379425,
          0.32495760917663574,
          0.19960768520832062,
          0.35868629813194275,
          0.14635340869426727,
          0.30224594473838806,
          0.25433674454689026,
          0.23269379138946533,
          0.17522257566452026,
          0.19547942280769348,
          0.28316304087638855,
          0.14071524143218994,
          0.11891394853591919,
          0.17881843447685242,
          0.243979811668396,
          0.11186245083808899,
          0.18387150764465332,
          0.1688762903213501,
          0.17762166261672974,
          0.282817542552948,
          0.2927321791648865,
          0.1359081119298935,
          0.196539968252182,
          0.09302079677581787,
          0.11829164624214172,
          0.10984590649604797,
          0.08694792538881302,
          0.06171782314777374,
          0.07401411235332489,
          0.07833877205848694,
          0.09346979856491089,
          0.059231050312519073,
          0.08121370524168015,
          0.05745638161897659,
          0.05189871788024902,
          0.03667081519961357,
          0.04096679389476776,
          0.040171414613723755,
          0.04598136991262436,
          0.03137394040822983,
          0.034540340304374695,
          0.028323348611593246,
          0.03342515975236893,
          0.023878343403339386,
          0.02616444230079651,
          0.02145763859152794,
          0.016859441995620728,
          0.024669038131833076,
          0.022921878844499588,
          0.013120693154633045,
          0.012297977693378925,
          0.011836455203592777,
          0.009739371947944164,
          0.00837134849280119,
          0.0075780851766467094,
          0.00741959922015667,
          0.0070772371254861355,
          0.0070526860654354095,
          0.005333958193659782,
          0.00617010984569788,
          0.005906268954277039,
          0.004139412194490433,
          0.004279294516891241,
          0.003972652368247509,
          0.004576044622808695,
          0.003660941496491432,
          0.003376886248588562,
          0.0034644969273358583,
          0.003651909064501524,
          0.0029867650009691715,
          0.003276981646195054,
          0.003126936499029398,
          0.00301287486217916,
          0.002191877458244562,
          0.0020238899160176516,
          0.0027038075495511293,
          0.0032707771752029657,
          0.0031769187189638615,
          0.0014117422979325056,
          0.0021705704275518656,
          0.001883004792034626,
          0.0022736070677638054,
          0.0020488137379288673,
          0.0021231588907539845,
          0.002258904743939638,
          0.0036614069249480963,
          0.0026068459264934063,
          0.0012979977764189243,
          0.0009379017865285277,
          0.001026834361255169,
          0.0015902742743492126,
          0.0012323774863034487,
          0.0012426037574186921,
          0.0014042053371667862,
          0.0014146273024380207,
          0.0005136527470313013,
          0.001974233891814947,
          0.001455252175219357,
          0.002411570865660906,
          0.00202945526689291,
          0.0009881402365863323,
          0.0008173566893674433,
          0.0011615552939474583,
          0.0014836008194833994,
          0.0008337125182151794,
          0.0009825677843764424,
          0.0013476040912792087,
          0.001153435092419386,
          0.0006029971991665661,
          0.0013436852023005486,
          0.0011497202794998884,
          0.001423072419129312,
          0.0010061709908768535,
          0.0009544315398670733,
          0.000950626446865499,
          0.0020257197320461273,
          0.001660083536989987,
          0.0004093525931239128,
          0.0009343568235635757,
          0.001528828521259129,
          0.0017271944088861346,
          0.0011320890625938773,
          0.0010766694322228432,
          0.0013900913763791323,
          0.0015197742031887174,
          0.001162793836556375,
          0.001075053121894598,
          0.001229556743055582,
          0.0008280373294837773,
          0.0009690183796919882,
          0.000981657998636365,
          0.0011201852466911077,
          0.0013343390310183167,
          0.0015503038885071874,
          0.0006875479011796415,
          0.0012094936100766063,
          0.0012440555728971958,
          0.0012095386628061533,
          0.0009073704131878912,
          0.0009670424624346197,
          0.0007404644857160747,
          0.0009185833623632789,
          0.001953288447111845,
          0.0017501621041446924,
          0.0011134244268760085,
          0.0019652945920825005,
          0.0014358859043568373,
          0.0005965219461359084,
          0.0007848864188417792,
          0.0021425422746688128,
          0.0017193647800013423,
          0.0009464409085921943,
          0.0010782363824546337,
          0.0006368746398948133,
          0.0009534184355288744,
          0.0010310104116797447,
          0.002063778229057789,
          0.0020385251846164465,
          0.0005569851491600275,
          0.0008021682151593268,
          0.001810245681554079,
          0.0010223520221188664,
          0.000824364076834172,
          0.0012904679169878364,
          0.0015503379981964827,
          0.002333760028705001,
          0.0020952040795236826,
          0.0009923585457727313,
          0.000954177463427186,
          0.0011090516345575452,
          0.0011615188559517264,
          0.0008921529515646398,
          0.0013647143496200442,
          0.001376356347464025,
          0.0010126950219273567,
          0.001812020898796618,
          0.001983384136110544,
          0.0011097824899479747,
          0.0016394357662647963,
          0.0011770928977057338,
          0.001325908931903541,
          0.0017218285938724875,
          0.0014730201801285148,
          0.0016470578266307712,
          0.0011868411675095558,
          0.0009923707693815231,
          0.001374380080960691,
          0.00227216980420053,
          0.0014058143133297563,
          0.001128195901401341,
          0.0011534886434674263,
          0.001431490876711905,
          0.002091299509629607,
          0.0021038218401372433,
          0.0022760918363928795,
          0.0013065977254882455,
          0.0016422600019723177
         ]
        },
        {
         "type": "scatter",
         "x": [
          0,
          1,
          2,
          3,
          4,
          5,
          6,
          7,
          8,
          9,
          10,
          11,
          12,
          13,
          14,
          15,
          16,
          17,
          18,
          19,
          20,
          21,
          22,
          23,
          24,
          25,
          26,
          27,
          28,
          29,
          30,
          31,
          32,
          33,
          34,
          35,
          36,
          37,
          38,
          39,
          40,
          41,
          42,
          43,
          44,
          45,
          46,
          47,
          48,
          49,
          50,
          51,
          52,
          53,
          54,
          55,
          56,
          57,
          58,
          59,
          60,
          61,
          62,
          63,
          64,
          65,
          66,
          67,
          68,
          69,
          70,
          71,
          72,
          73,
          74,
          75,
          76,
          77,
          78,
          79,
          80,
          81,
          82,
          83,
          84,
          85,
          86,
          87,
          88,
          89,
          90,
          91,
          92,
          93,
          94,
          95,
          96,
          97,
          98,
          99,
          100,
          101,
          102,
          103,
          104,
          105,
          106,
          107,
          108,
          109,
          110,
          111,
          112,
          113,
          114,
          115,
          116,
          117,
          118,
          119,
          120,
          121,
          122,
          123,
          124,
          125,
          126,
          127,
          128,
          129,
          130,
          131,
          132,
          133,
          134,
          135,
          136,
          137,
          138,
          139,
          140,
          141,
          142,
          143,
          144,
          145,
          146,
          147,
          148,
          149,
          150,
          151,
          152,
          153,
          154,
          155,
          156,
          157,
          158,
          159,
          160,
          161,
          162,
          163,
          164,
          165,
          166,
          167,
          168,
          169,
          170,
          171,
          172,
          173,
          174,
          175,
          176,
          177,
          178,
          179,
          180,
          181,
          182,
          183,
          184,
          185,
          186,
          187,
          188,
          189,
          190,
          191,
          192,
          193,
          194,
          195,
          196,
          197,
          198,
          199,
          200,
          201,
          202,
          203,
          204,
          205,
          206,
          207,
          208,
          209,
          210,
          211,
          212,
          213,
          214,
          215,
          216,
          217,
          218,
          219,
          220,
          221,
          222,
          223,
          224,
          225,
          226,
          227,
          228,
          229,
          230,
          231,
          232,
          233,
          234,
          235,
          236,
          237,
          238,
          239,
          240,
          241,
          242,
          243,
          244,
          245,
          246,
          247,
          248,
          249,
          250,
          251,
          252,
          253,
          254,
          255,
          256,
          257,
          258,
          259,
          260,
          261,
          262,
          263,
          264,
          265,
          266,
          267,
          268,
          269,
          270,
          271,
          272,
          273,
          274,
          275,
          276,
          277,
          278,
          279,
          280,
          281,
          282,
          283,
          284,
          285,
          286,
          287,
          288,
          289,
          290,
          291,
          292,
          293,
          294,
          295,
          296,
          297
         ],
         "y": [
          0.07048361748456955,
          0.015989653766155243,
          0.022318564355373383,
          0.029338642954826355,
          0.03707164525985718,
          0.04328375682234764,
          0.048637427389621735,
          0.05533386766910553,
          0.06236644089221954,
          0.06874099373817444,
          0.07339806854724884,
          0.0762360692024231,
          0.08044705539941788,
          0.08465543389320374,
          0.088223397731781,
          0.09141658246517181,
          0.0923590362071991,
          0.09721048921346664,
          0.10130150616168976,
          0.10235443711280823,
          0.10104101896286011,
          0.09651759266853333,
          0.09347501397132874,
          0.09018629789352417,
          0.08475495129823685,
          0.08005501329898834,
          0.07719185203313828,
          0.07742955535650253,
          0.07672198116779327,
          0.07494637370109558,
          0.07226493954658508,
          0.06838551163673401,
          0.06466780602931976,
          0.060586679726839066,
          0.056997910141944885,
          0.05414126068353653,
          0.05262533575296402,
          0.05303095653653145,
          0.05243075639009476,
          0.0466766282916069,
          0.040339402854442596,
          0.03565509617328644,
          0.032163944095373154,
          0.029425926506519318,
          0.027155324816703796,
          0.025431182235479355,
          0.024015668779611588,
          0.022216033190488815,
          0.018795233219861984,
          0.014915777370333672,
          0.07617843896150589,
          0.07664468139410019,
          0.02304103970527649,
          0.025606665760278702,
          0.02791677787899971,
          0.03169359639286995,
          0.03586264327168465,
          0.04022957757115364,
          0.04573832079768181,
          0.05297808349132538,
          0.0631442666053772,
          0.08497189730405807,
          0.11173456907272339,
          0.10410384833812714,
          0.11743488907814026,
          0.1237419992685318,
          0.12359422445297241,
          0.12366342544555664,
          0.12526193261146545,
          0.12825532257556915,
          0.13004425168037415,
          0.13517864048480988,
          0.1426813304424286,
          0.1566680371761322,
          0.1817505955696106,
          0.19722099602222443,
          0.18378420174121857,
          0.16972830891609192,
          0.17128710448741913,
          0.15683096647262573,
          0.13464301824569702,
          0.11978273093700409,
          0.10964983701705933,
          0.10256026685237885,
          0.0954398587346077,
          0.0871112048625946,
          0.07774446159601212,
          0.06968917697668076,
          0.06291165947914124,
          0.05727309733629227,
          0.05317661166191101,
          0.05040334165096283,
          0.04803915321826935,
          0.04526308923959732,
          0.04301854968070984,
          0.04142837971448898,
          0.0816439539194107,
          0.038451388478279114,
          0.038231514394283295,
          0.038473017513751984,
          0.07662039995193481,
          0.044533323496580124,
          0.05118899419903755,
          0.0556483194231987,
          0.05670719966292381,
          0.06193625554442406,
          0.06947124749422073,
          0.07760480046272278,
          0.08216218650341034,
          0.08520680665969849,
          0.09006853401660919,
          0.09338407218456268,
          0.09781623631715775,
          0.10195337235927582,
          0.10933718085289001,
          0.11495316028594971,
          0.11722652614116669,
          0.11999901384115219,
          0.11408765614032745,
          0.10932084172964096,
          0.10763753950595856,
          0.10622520744800568,
          0.10323058813810349,
          0.10041476786136627,
          0.09378013014793396,
          0.087866872549057,
          0.08271130174398422,
          0.0787406787276268,
          0.07201635837554932,
          0.06692145764827728,
          0.0630255937576294,
          0.05932387337088585,
          0.05621665343642235,
          0.053457312285900116,
          0.050828173756599426,
          0.048508770763874054,
          0.045663174241781235,
          0.04241659492254257,
          0.03906950727105141,
          0.03591638058423996,
          0.03306567668914795,
          0.03071259707212448,
          0.029140271246433258,
          0.028069976717233658,
          0.027104366570711136,
          0.026212040334939957,
          0.0250096395611763,
          0.02410368248820305,
          0.023107245564460754,
          0.02225342020392418,
          0.02006423845887184,
          0.018016181886196136,
          0.016162674874067307,
          0.014587454497814178,
          0.013286653906106949,
          0.012243417091667652,
          0.01135551743209362,
          0.01046040840446949,
          0,
          0,
          0,
          0,
          0,
          0,
          0,
          0,
          0,
          0,
          0,
          0,
          0,
          0,
          0,
          0,
          0,
          0,
          0,
          0,
          0,
          0,
          0,
          0,
          0,
          0,
          0,
          0,
          0,
          0,
          0,
          0,
          0,
          0,
          0,
          0,
          0,
          0,
          0,
          0,
          0,
          0,
          0,
          0,
          0,
          0,
          0,
          0,
          0,
          0,
          0,
          0,
          0,
          0,
          0,
          0,
          0,
          0,
          0,
          0,
          0,
          0,
          0,
          0,
          0,
          0,
          0,
          0,
          0,
          0,
          0,
          0,
          0,
          0,
          0,
          0,
          0,
          0,
          0,
          0,
          0,
          0,
          0,
          0,
          0,
          0,
          0,
          0,
          0,
          0,
          0,
          0,
          0,
          0,
          0,
          0,
          0,
          0,
          0,
          0,
          0,
          0,
          0,
          0,
          0,
          0,
          0,
          0,
          0,
          0,
          0,
          0,
          0,
          0,
          0,
          0,
          0,
          0,
          0,
          0,
          0,
          0,
          0,
          0,
          0,
          0,
          0,
          0,
          0,
          0,
          0,
          0,
          0,
          0,
          0,
          0,
          0,
          0,
          0,
          0
         ]
        },
        {
         "type": "scatter",
         "x": [
          0,
          1,
          2,
          3,
          4,
          5,
          6,
          7,
          8,
          9,
          10,
          11,
          12,
          13,
          14,
          15,
          16,
          17,
          18,
          19,
          20,
          21,
          22,
          23,
          24,
          25,
          26,
          27,
          28,
          29,
          30,
          31,
          32,
          33,
          34,
          35,
          36,
          37,
          38,
          39,
          40,
          41,
          42,
          43,
          44,
          45,
          46,
          47,
          48,
          49,
          50,
          51,
          52,
          53,
          54,
          55,
          56,
          57,
          58,
          59,
          60,
          61,
          62,
          63,
          64,
          65,
          66,
          67,
          68,
          69,
          70,
          71,
          72,
          73,
          74,
          75,
          76,
          77,
          78,
          79,
          80,
          81,
          82,
          83,
          84,
          85,
          86,
          87,
          88,
          89,
          90,
          91,
          92,
          93,
          94,
          95,
          96,
          97,
          98,
          99,
          100,
          101,
          102,
          103,
          104,
          105,
          106,
          107,
          108,
          109,
          110,
          111,
          112,
          113,
          114,
          115,
          116,
          117,
          118,
          119,
          120,
          121,
          122,
          123,
          124,
          125,
          126,
          127,
          128,
          129,
          130,
          131,
          132,
          133,
          134,
          135,
          136,
          137,
          138,
          139,
          140,
          141,
          142,
          143,
          144,
          145,
          146,
          147,
          148,
          149,
          150,
          151,
          152,
          153,
          154,
          155,
          156,
          157,
          158,
          159,
          160,
          161,
          162,
          163,
          164,
          165,
          166,
          167,
          168,
          169,
          170,
          171,
          172,
          173,
          174,
          175,
          176,
          177,
          178,
          179,
          180,
          181,
          182,
          183,
          184,
          185,
          186,
          187,
          188,
          189,
          190,
          191,
          192,
          193,
          194,
          195,
          196,
          197,
          198,
          199,
          200,
          201,
          202,
          203,
          204,
          205,
          206,
          207,
          208,
          209,
          210,
          211,
          212,
          213,
          214,
          215,
          216,
          217,
          218,
          219,
          220,
          221,
          222,
          223,
          224,
          225,
          226,
          227,
          228,
          229,
          230,
          231,
          232,
          233,
          234,
          235,
          236,
          237,
          238,
          239,
          240,
          241,
          242,
          243,
          244,
          245,
          246,
          247,
          248,
          249,
          250,
          251,
          252,
          253,
          254,
          255,
          256,
          257,
          258,
          259,
          260,
          261,
          262,
          263,
          264,
          265,
          266,
          267,
          268,
          269,
          270,
          271,
          272,
          273,
          274,
          275,
          276,
          277,
          278,
          279,
          280,
          281,
          282,
          283,
          284,
          285,
          286,
          287,
          288,
          289,
          290,
          291,
          292,
          293,
          294,
          295,
          296,
          297
         ],
         "y": [
          0.036921218037605286,
          0.02925669401884079,
          0.049379635602235794,
          0.043107423931360245,
          0.06334879994392395,
          0.07887865602970123,
          0.0525209978222847,
          0.09514624625444412,
          0.07498881220817566,
          0.0968138724565506,
          0.08276360481977463,
          0.06377348303794861,
          0.12116976082324982,
          0.0912373811006546,
          0.13275182247161865,
          0.12610290944576263,
          0.11135482788085938,
          0.09726767241954803,
          0.10529085993766785,
          0.13068453967571259,
          0.15456965565681458,
          0.21452151238918304,
          0.12482360005378723,
          0.14676089584827423,
          0.16666574776172638,
          0.18146666884422302,
          0.2220769077539444,
          0.14890922605991364,
          0.32145705819129944,
          0.1280686855316162,
          0.18032528460025787,
          0.13792558014392853,
          0.10408719629049301,
          0.16067281365394592,
          0.10671333223581314,
          0.11487925797700882,
          0.12257454544305801,
          0.1447659432888031,
          0.13108399510383606,
          0.11144690215587616,
          0.10925991833209991,
          0.10710494220256805,
          0.12954623997211456,
          0.06637511402368546,
          0.09216001629829407,
          0.07316669821739197,
          0.08180049806833267,
          0.07081657648086548,
          0.13618944585323334,
          0.1097920686006546,
          0.4879983961582184,
          0.2829972803592682,
          0.10017329454421997,
          0.1483757048845291,
          0.13064078986644745,
          0.25653836131095886,
          0.13860459625720978,
          0.21409499645233154,
          0.2764792740345001,
          0.28536456823349,
          0.2123396396636963,
          0.14999942481517792,
          0.21986082196235657,
          0.13065043091773987,
          0.1759255826473236,
          0.16904304921627045,
          0.17478406429290771,
          0.170318603515625,
          0.18184861540794373,
          0.17866289615631104,
          0.14408376812934875,
          0.17157727479934692,
          0.16494804620742798,
          0.14890173077583313,
          0.1576898992061615,
          0.19947558641433716,
          0.2125806212425232,
          0.207078754901886,
          0.16018319129943848,
          0.1535477489233017,
          0.1679423600435257,
          0.14877499639987946,
          0.13318994641304016,
          0.13435380160808563,
          0.1288887858390808,
          0.1396806836128235,
          0.2331928312778473,
          0.18606314063072205,
          0.16354165971279144,
          0.17710596323013306,
          0.14443935453891754,
          0.1973278820514679,
          0.22742855548858643,
          0.2874857485294342,
          0.4584313929080963,
          0.4178113639354706,
          0.38956552743911743,
          0.21379505097866058,
          0.19706648588180542,
          0.1802823543548584,
          0.7948734164237976,
          0.2390773594379425,
          0.32495760917663574,
          0.19960768520832062,
          0.35868629813194275,
          0.14635340869426727,
          0.30224594473838806,
          0.25433674454689026,
          0.23269379138946533,
          0.17522257566452026,
          0.19547942280769348,
          0.28316304087638855,
          0.14071524143218994,
          0.11891394853591919,
          0.17881843447685242,
          0.243979811668396,
          0.11186245083808899,
          0.18387150764465332,
          0.1688762903213501,
          0.17762166261672974,
          0.282817542552948,
          0.2927321791648865,
          0.1359081119298935,
          0.196539968252182,
          0.09302079677581787,
          0.11829164624214172,
          0.10984590649604797,
          0.08694792538881302,
          0.06171782314777374,
          0.07401411235332489,
          0.07833877205848694,
          0.09346979856491089,
          0.059231050312519073,
          0.08121370524168015,
          0.05745638161897659,
          0.05189871788024902,
          0.03667081519961357,
          0.04096679389476776,
          0.040171414613723755,
          0.04598136991262436,
          0.03137394040822983,
          0.034540340304374695,
          0.028323348611593246,
          0.03342515975236893,
          0.023878343403339386,
          0.02616444230079651,
          0.02145763859152794,
          0.016859441995620728,
          0.024669038131833076,
          0.022921878844499588,
          0.013120693154633045,
          0.012297977693378925,
          0.011836455203592777,
          0,
          0,
          0,
          0,
          0,
          0,
          0,
          0,
          0,
          0,
          0,
          0,
          0,
          0,
          0,
          0,
          0,
          0,
          0,
          0,
          0,
          0,
          0,
          0,
          0,
          0,
          0,
          0,
          0,
          0,
          0,
          0,
          0,
          0,
          0,
          0,
          0,
          0,
          0,
          0,
          0,
          0,
          0,
          0,
          0,
          0,
          0,
          0,
          0,
          0,
          0,
          0,
          0,
          0,
          0,
          0,
          0,
          0,
          0,
          0,
          0,
          0,
          0,
          0,
          0,
          0,
          0,
          0,
          0,
          0,
          0,
          0,
          0,
          0,
          0,
          0,
          0,
          0,
          0,
          0,
          0,
          0,
          0,
          0,
          0,
          0,
          0,
          0,
          0,
          0,
          0,
          0,
          0,
          0,
          0,
          0,
          0,
          0,
          0,
          0,
          0,
          0,
          0,
          0,
          0,
          0,
          0,
          0,
          0,
          0,
          0,
          0,
          0,
          0,
          0,
          0,
          0,
          0,
          0,
          0,
          0,
          0,
          0,
          0,
          0,
          0,
          0,
          0,
          0,
          0,
          0,
          0,
          0,
          0,
          0,
          0,
          0,
          0,
          0,
          0,
          0,
          0,
          0,
          0,
          0
         ]
        }
       ],
       "layout": {
        "legend": {
         "tracegroupgap": 0
        },
        "margin": {
         "t": 60
        },
        "shapes": [
         {
          "type": "line",
          "x0": 0,
          "x1": 298,
          "xref": "x domain",
          "y0": 0.04538840771473632,
          "y1": 0.04538840771473632,
          "yref": "y"
         },
         {
          "type": "line",
          "x0": 0,
          "x1": 298,
          "xref": "x domain",
          "y0": 0.10520759829718838,
          "y1": 0.10520759829718838,
          "yref": "y"
         }
        ],
        "template": {
         "data": {
          "bar": [
           {
            "error_x": {
             "color": "#2a3f5f"
            },
            "error_y": {
             "color": "#2a3f5f"
            },
            "marker": {
             "line": {
              "color": "#E5ECF6",
              "width": 0.5
             },
             "pattern": {
              "fillmode": "overlay",
              "size": 10,
              "solidity": 0.2
             }
            },
            "type": "bar"
           }
          ],
          "barpolar": [
           {
            "marker": {
             "line": {
              "color": "#E5ECF6",
              "width": 0.5
             },
             "pattern": {
              "fillmode": "overlay",
              "size": 10,
              "solidity": 0.2
             }
            },
            "type": "barpolar"
           }
          ],
          "carpet": [
           {
            "aaxis": {
             "endlinecolor": "#2a3f5f",
             "gridcolor": "white",
             "linecolor": "white",
             "minorgridcolor": "white",
             "startlinecolor": "#2a3f5f"
            },
            "baxis": {
             "endlinecolor": "#2a3f5f",
             "gridcolor": "white",
             "linecolor": "white",
             "minorgridcolor": "white",
             "startlinecolor": "#2a3f5f"
            },
            "type": "carpet"
           }
          ],
          "choropleth": [
           {
            "colorbar": {
             "outlinewidth": 0,
             "ticks": ""
            },
            "type": "choropleth"
           }
          ],
          "contour": [
           {
            "colorbar": {
             "outlinewidth": 0,
             "ticks": ""
            },
            "colorscale": [
             [
              0,
              "#0d0887"
             ],
             [
              0.1111111111111111,
              "#46039f"
             ],
             [
              0.2222222222222222,
              "#7201a8"
             ],
             [
              0.3333333333333333,
              "#9c179e"
             ],
             [
              0.4444444444444444,
              "#bd3786"
             ],
             [
              0.5555555555555556,
              "#d8576b"
             ],
             [
              0.6666666666666666,
              "#ed7953"
             ],
             [
              0.7777777777777778,
              "#fb9f3a"
             ],
             [
              0.8888888888888888,
              "#fdca26"
             ],
             [
              1,
              "#f0f921"
             ]
            ],
            "type": "contour"
           }
          ],
          "contourcarpet": [
           {
            "colorbar": {
             "outlinewidth": 0,
             "ticks": ""
            },
            "type": "contourcarpet"
           }
          ],
          "heatmap": [
           {
            "colorbar": {
             "outlinewidth": 0,
             "ticks": ""
            },
            "colorscale": [
             [
              0,
              "#0d0887"
             ],
             [
              0.1111111111111111,
              "#46039f"
             ],
             [
              0.2222222222222222,
              "#7201a8"
             ],
             [
              0.3333333333333333,
              "#9c179e"
             ],
             [
              0.4444444444444444,
              "#bd3786"
             ],
             [
              0.5555555555555556,
              "#d8576b"
             ],
             [
              0.6666666666666666,
              "#ed7953"
             ],
             [
              0.7777777777777778,
              "#fb9f3a"
             ],
             [
              0.8888888888888888,
              "#fdca26"
             ],
             [
              1,
              "#f0f921"
             ]
            ],
            "type": "heatmap"
           }
          ],
          "heatmapgl": [
           {
            "colorbar": {
             "outlinewidth": 0,
             "ticks": ""
            },
            "colorscale": [
             [
              0,
              "#0d0887"
             ],
             [
              0.1111111111111111,
              "#46039f"
             ],
             [
              0.2222222222222222,
              "#7201a8"
             ],
             [
              0.3333333333333333,
              "#9c179e"
             ],
             [
              0.4444444444444444,
              "#bd3786"
             ],
             [
              0.5555555555555556,
              "#d8576b"
             ],
             [
              0.6666666666666666,
              "#ed7953"
             ],
             [
              0.7777777777777778,
              "#fb9f3a"
             ],
             [
              0.8888888888888888,
              "#fdca26"
             ],
             [
              1,
              "#f0f921"
             ]
            ],
            "type": "heatmapgl"
           }
          ],
          "histogram": [
           {
            "marker": {
             "pattern": {
              "fillmode": "overlay",
              "size": 10,
              "solidity": 0.2
             }
            },
            "type": "histogram"
           }
          ],
          "histogram2d": [
           {
            "colorbar": {
             "outlinewidth": 0,
             "ticks": ""
            },
            "colorscale": [
             [
              0,
              "#0d0887"
             ],
             [
              0.1111111111111111,
              "#46039f"
             ],
             [
              0.2222222222222222,
              "#7201a8"
             ],
             [
              0.3333333333333333,
              "#9c179e"
             ],
             [
              0.4444444444444444,
              "#bd3786"
             ],
             [
              0.5555555555555556,
              "#d8576b"
             ],
             [
              0.6666666666666666,
              "#ed7953"
             ],
             [
              0.7777777777777778,
              "#fb9f3a"
             ],
             [
              0.8888888888888888,
              "#fdca26"
             ],
             [
              1,
              "#f0f921"
             ]
            ],
            "type": "histogram2d"
           }
          ],
          "histogram2dcontour": [
           {
            "colorbar": {
             "outlinewidth": 0,
             "ticks": ""
            },
            "colorscale": [
             [
              0,
              "#0d0887"
             ],
             [
              0.1111111111111111,
              "#46039f"
             ],
             [
              0.2222222222222222,
              "#7201a8"
             ],
             [
              0.3333333333333333,
              "#9c179e"
             ],
             [
              0.4444444444444444,
              "#bd3786"
             ],
             [
              0.5555555555555556,
              "#d8576b"
             ],
             [
              0.6666666666666666,
              "#ed7953"
             ],
             [
              0.7777777777777778,
              "#fb9f3a"
             ],
             [
              0.8888888888888888,
              "#fdca26"
             ],
             [
              1,
              "#f0f921"
             ]
            ],
            "type": "histogram2dcontour"
           }
          ],
          "mesh3d": [
           {
            "colorbar": {
             "outlinewidth": 0,
             "ticks": ""
            },
            "type": "mesh3d"
           }
          ],
          "parcoords": [
           {
            "line": {
             "colorbar": {
              "outlinewidth": 0,
              "ticks": ""
             }
            },
            "type": "parcoords"
           }
          ],
          "pie": [
           {
            "automargin": true,
            "type": "pie"
           }
          ],
          "scatter": [
           {
            "marker": {
             "colorbar": {
              "outlinewidth": 0,
              "ticks": ""
             }
            },
            "type": "scatter"
           }
          ],
          "scatter3d": [
           {
            "line": {
             "colorbar": {
              "outlinewidth": 0,
              "ticks": ""
             }
            },
            "marker": {
             "colorbar": {
              "outlinewidth": 0,
              "ticks": ""
             }
            },
            "type": "scatter3d"
           }
          ],
          "scattercarpet": [
           {
            "marker": {
             "colorbar": {
              "outlinewidth": 0,
              "ticks": ""
             }
            },
            "type": "scattercarpet"
           }
          ],
          "scattergeo": [
           {
            "marker": {
             "colorbar": {
              "outlinewidth": 0,
              "ticks": ""
             }
            },
            "type": "scattergeo"
           }
          ],
          "scattergl": [
           {
            "marker": {
             "colorbar": {
              "outlinewidth": 0,
              "ticks": ""
             }
            },
            "type": "scattergl"
           }
          ],
          "scattermapbox": [
           {
            "marker": {
             "colorbar": {
              "outlinewidth": 0,
              "ticks": ""
             }
            },
            "type": "scattermapbox"
           }
          ],
          "scatterpolar": [
           {
            "marker": {
             "colorbar": {
              "outlinewidth": 0,
              "ticks": ""
             }
            },
            "type": "scatterpolar"
           }
          ],
          "scatterpolargl": [
           {
            "marker": {
             "colorbar": {
              "outlinewidth": 0,
              "ticks": ""
             }
            },
            "type": "scatterpolargl"
           }
          ],
          "scatterternary": [
           {
            "marker": {
             "colorbar": {
              "outlinewidth": 0,
              "ticks": ""
             }
            },
            "type": "scatterternary"
           }
          ],
          "surface": [
           {
            "colorbar": {
             "outlinewidth": 0,
             "ticks": ""
            },
            "colorscale": [
             [
              0,
              "#0d0887"
             ],
             [
              0.1111111111111111,
              "#46039f"
             ],
             [
              0.2222222222222222,
              "#7201a8"
             ],
             [
              0.3333333333333333,
              "#9c179e"
             ],
             [
              0.4444444444444444,
              "#bd3786"
             ],
             [
              0.5555555555555556,
              "#d8576b"
             ],
             [
              0.6666666666666666,
              "#ed7953"
             ],
             [
              0.7777777777777778,
              "#fb9f3a"
             ],
             [
              0.8888888888888888,
              "#fdca26"
             ],
             [
              1,
              "#f0f921"
             ]
            ],
            "type": "surface"
           }
          ],
          "table": [
           {
            "cells": {
             "fill": {
              "color": "#EBF0F8"
             },
             "line": {
              "color": "white"
             }
            },
            "header": {
             "fill": {
              "color": "#C8D4E3"
             },
             "line": {
              "color": "white"
             }
            },
            "type": "table"
           }
          ]
         },
         "layout": {
          "annotationdefaults": {
           "arrowcolor": "#2a3f5f",
           "arrowhead": 0,
           "arrowwidth": 1
          },
          "autotypenumbers": "strict",
          "coloraxis": {
           "colorbar": {
            "outlinewidth": 0,
            "ticks": ""
           }
          },
          "colorscale": {
           "diverging": [
            [
             0,
             "#8e0152"
            ],
            [
             0.1,
             "#c51b7d"
            ],
            [
             0.2,
             "#de77ae"
            ],
            [
             0.3,
             "#f1b6da"
            ],
            [
             0.4,
             "#fde0ef"
            ],
            [
             0.5,
             "#f7f7f7"
            ],
            [
             0.6,
             "#e6f5d0"
            ],
            [
             0.7,
             "#b8e186"
            ],
            [
             0.8,
             "#7fbc41"
            ],
            [
             0.9,
             "#4d9221"
            ],
            [
             1,
             "#276419"
            ]
           ],
           "sequential": [
            [
             0,
             "#0d0887"
            ],
            [
             0.1111111111111111,
             "#46039f"
            ],
            [
             0.2222222222222222,
             "#7201a8"
            ],
            [
             0.3333333333333333,
             "#9c179e"
            ],
            [
             0.4444444444444444,
             "#bd3786"
            ],
            [
             0.5555555555555556,
             "#d8576b"
            ],
            [
             0.6666666666666666,
             "#ed7953"
            ],
            [
             0.7777777777777778,
             "#fb9f3a"
            ],
            [
             0.8888888888888888,
             "#fdca26"
            ],
            [
             1,
             "#f0f921"
            ]
           ],
           "sequentialminus": [
            [
             0,
             "#0d0887"
            ],
            [
             0.1111111111111111,
             "#46039f"
            ],
            [
             0.2222222222222222,
             "#7201a8"
            ],
            [
             0.3333333333333333,
             "#9c179e"
            ],
            [
             0.4444444444444444,
             "#bd3786"
            ],
            [
             0.5555555555555556,
             "#d8576b"
            ],
            [
             0.6666666666666666,
             "#ed7953"
            ],
            [
             0.7777777777777778,
             "#fb9f3a"
            ],
            [
             0.8888888888888888,
             "#fdca26"
            ],
            [
             1,
             "#f0f921"
            ]
           ]
          },
          "colorway": [
           "#636efa",
           "#EF553B",
           "#00cc96",
           "#ab63fa",
           "#FFA15A",
           "#19d3f3",
           "#FF6692",
           "#B6E880",
           "#FF97FF",
           "#FECB52"
          ],
          "font": {
           "color": "#2a3f5f"
          },
          "geo": {
           "bgcolor": "white",
           "lakecolor": "white",
           "landcolor": "#E5ECF6",
           "showlakes": true,
           "showland": true,
           "subunitcolor": "white"
          },
          "hoverlabel": {
           "align": "left"
          },
          "hovermode": "closest",
          "mapbox": {
           "style": "light"
          },
          "paper_bgcolor": "white",
          "plot_bgcolor": "#E5ECF6",
          "polar": {
           "angularaxis": {
            "gridcolor": "white",
            "linecolor": "white",
            "ticks": ""
           },
           "bgcolor": "#E5ECF6",
           "radialaxis": {
            "gridcolor": "white",
            "linecolor": "white",
            "ticks": ""
           }
          },
          "scene": {
           "xaxis": {
            "backgroundcolor": "#E5ECF6",
            "gridcolor": "white",
            "gridwidth": 2,
            "linecolor": "white",
            "showbackground": true,
            "ticks": "",
            "zerolinecolor": "white"
           },
           "yaxis": {
            "backgroundcolor": "#E5ECF6",
            "gridcolor": "white",
            "gridwidth": 2,
            "linecolor": "white",
            "showbackground": true,
            "ticks": "",
            "zerolinecolor": "white"
           },
           "zaxis": {
            "backgroundcolor": "#E5ECF6",
            "gridcolor": "white",
            "gridwidth": 2,
            "linecolor": "white",
            "showbackground": true,
            "ticks": "",
            "zerolinecolor": "white"
           }
          },
          "shapedefaults": {
           "line": {
            "color": "#2a3f5f"
           }
          },
          "ternary": {
           "aaxis": {
            "gridcolor": "white",
            "linecolor": "white",
            "ticks": ""
           },
           "baxis": {
            "gridcolor": "white",
            "linecolor": "white",
            "ticks": ""
           },
           "bgcolor": "#E5ECF6",
           "caxis": {
            "gridcolor": "white",
            "linecolor": "white",
            "ticks": ""
           }
          },
          "title": {
           "x": 0.05
          },
          "xaxis": {
           "automargin": true,
           "gridcolor": "white",
           "linecolor": "white",
           "ticks": "",
           "title": {
            "standoff": 15
           },
           "zerolinecolor": "white",
           "zerolinewidth": 2
          },
          "yaxis": {
           "automargin": true,
           "gridcolor": "white",
           "linecolor": "white",
           "ticks": "",
           "title": {
            "standoff": 15
           },
           "zerolinecolor": "white",
           "zerolinewidth": 2
          }
         }
        },
        "xaxis": {
         "anchor": "y",
         "domain": [
          0,
          1
         ],
         "title": {
          "text": "x"
         }
        },
        "yaxis": {
         "anchor": "x",
         "domain": [
          0,
          1
         ],
         "title": {
          "text": "y"
         }
        }
       }
      }
     },
     "metadata": {}
    }
   ],
   "metadata": {}
  },
  {
   "cell_type": "code",
   "execution_count": 144,
   "source": [
    "grad = np.gradient(np.gradient(yy1))\r\n",
    "grad2 = np.gradient(np.gradient(yy2))\r\n",
    "inflec = np.where(np.diff(np.sign(grad)))[0]\r\n",
    "inflec2 = np.where(np.diff(np.sign(grad2)))[0]\r\n",
    "\r\n",
    "fig=ex.line(y=grad)\r\n",
    "fig.add_trace(go.Scatter(y=grad2))\r\n",
    "print(len(inflec))\r\n",
    "print(len(inflec2))\r\n",
    "print((len(inflec2) - len(inflec)) / len(inflec))"
   ],
   "outputs": [
    {
     "output_type": "stream",
     "name": "stdout",
     "text": [
      "51\n",
      "73\n",
      "0.43137254901960786\n"
     ]
    }
   ],
   "metadata": {}
  },
  {
   "cell_type": "code",
   "execution_count": 160,
   "source": [
    "m1 = np.mean(y1)\r\n",
    "m2 = np.mean(y2)\r\n",
    "yyy1 = [y-m1 for y in yy1]\r\n",
    "yyy2 = [y-m2 for y in yy2]\r\n",
    "print(np.sum(np.abs(yyy1)), np.sum(np.abs(yyy2)))\r\n",
    "print(np.sum(np.abs(y1)), np.sum(np.abs(y2)))\r\n",
    "l1 = lambda x: np.sqrt(np.mean([i**2 for i in x]))\r\n",
    "print(l1(yyy1), l1(yyy2))"
   ],
   "outputs": [
    {
     "output_type": "stream",
     "name": "stdout",
     "text": [
      "11.427347792312503 24.84663025289774\n",
      "11.232755 23.36922\n",
      "0.04538840771473632 0.10520759829718838\n"
     ]
    }
   ],
   "metadata": {}
  },
  {
   "cell_type": "code",
   "execution_count": 102,
   "source": [],
   "outputs": [
    {
     "output_type": "stream",
     "name": "stdout",
     "text": [
      "135\n",
      "135\n"
     ]
    },
    {
     "output_type": "display_data",
     "data": {
      "application/vnd.plotly.v1+json": {
       "config": {
        "plotlyServerURL": "https://plot.ly"
       },
       "data": [
        {
         "hovertemplate": "x=%{x}<br>y=%{y}<extra></extra>",
         "legendgroup": "",
         "line": {
          "color": "#636efa",
          "dash": "solid"
         },
         "marker": {
          "symbol": "circle"
         },
         "mode": "lines",
         "name": "",
         "orientation": "v",
         "showlegend": false,
         "type": "scatter",
         "x": [
          0,
          1,
          2,
          3,
          4,
          5,
          6,
          7,
          8,
          9,
          10,
          11,
          12,
          13,
          14,
          15,
          16,
          17,
          18,
          19,
          20,
          21,
          22,
          23,
          24,
          25,
          26,
          27,
          28,
          29,
          30,
          31,
          32,
          33,
          34,
          35,
          36,
          37,
          38,
          39,
          40,
          41,
          42,
          43,
          44,
          45,
          46,
          47,
          48,
          49,
          50,
          51,
          52,
          53,
          54,
          55,
          56,
          57,
          58,
          59,
          60,
          61,
          62,
          63,
          64,
          65,
          66,
          67,
          68,
          69,
          70,
          71,
          72,
          73,
          74,
          75,
          76,
          77,
          78,
          79,
          80,
          81,
          82,
          83,
          84,
          85,
          86,
          87,
          88,
          89,
          90,
          91,
          92,
          93,
          94,
          95,
          96,
          97,
          98,
          99,
          100,
          101,
          102,
          103,
          104,
          105,
          106,
          107,
          108,
          109,
          110,
          111,
          112,
          113,
          114,
          115,
          116,
          117,
          118,
          119,
          120,
          121,
          122,
          123,
          124,
          125,
          126,
          127,
          128,
          129,
          130,
          131,
          132,
          133,
          134,
          135,
          136,
          137,
          138,
          139,
          140,
          141,
          142,
          143,
          144,
          145,
          146,
          147,
          148,
          149,
          150,
          151,
          152,
          153,
          154,
          155,
          156,
          157,
          158,
          159,
          160,
          161,
          162,
          163,
          164,
          165,
          166,
          167,
          168,
          169,
          170,
          171,
          172,
          173,
          174,
          175,
          176,
          177,
          178,
          179,
          180,
          181,
          182,
          183,
          184,
          185,
          186,
          187,
          188,
          189,
          190,
          191,
          192,
          193,
          194,
          195,
          196,
          197,
          198,
          199,
          200,
          201,
          202,
          203,
          204,
          205,
          206,
          207,
          208,
          209,
          210,
          211,
          212,
          213,
          214,
          215,
          216,
          217,
          218,
          219,
          220,
          221,
          222,
          223,
          224,
          225,
          226,
          227,
          228,
          229,
          230,
          231,
          232,
          233,
          234,
          235,
          236,
          237,
          238,
          239,
          240,
          241,
          242,
          243,
          244,
          245,
          246,
          247,
          248,
          249,
          250,
          251,
          252,
          253,
          254,
          255,
          256,
          257,
          258,
          259,
          260,
          261,
          262,
          263,
          264,
          265,
          266,
          267,
          268,
          269,
          270,
          271,
          272,
          273,
          274,
          275,
          276,
          277,
          278,
          279,
          280,
          281,
          282,
          283,
          284,
          285,
          286,
          287,
          288,
          289,
          290,
          291,
          292,
          293,
          294,
          295,
          296,
          297
         ],
         "xaxis": "x",
         "y": [
          0.00008660624735057354,
          0.00010660628322511911,
          0.00009703158866614103,
          0.00005664059426635504,
          0.00003308127634227276,
          0.00001711072400212288,
          0.000024703331291675568,
          0.000044362619519233704,
          0.00004953145980834961,
          0.000016343314200639725,
          -0.0000018114224076271057,
          0.000015241093933582306,
          -0.00000859331339597702,
          -0.000011966563761234283,
          0.000053491443395614624,
          -0.0000234358012676239,
          -0.00029826536774635315,
          -0.0005154134705662727,
          -0.0007133614271879196,
          -0.0008662501350045204,
          -0.0007597915828227997,
          -0.0005541304126381874,
          -0.0003599245101213455,
          -0.00006676744669675827,
          0.00004435889422893524,
          -0.00021233968436717987,
          -0.0003185989335179329,
          -0.00017514172941446304,
          -0.0001494297757744789,
          -0.0002527395263314247,
          -0.000280013307929039,
          -0.00016597658395767212,
          -0.0000065658241510391235,
          0.00010656099766492844,
          0.00010936660692095757,
          -0.000028220005333423615,
          -0.00020271260291337967,
          -0.00017059780657291412,
          0.00010177260264754295,
          0.0003796233795583248,
          0.0005313376896083355,
          0.0006329654715955257,
          0.0007610367611050606,
          0.0009022941812872887,
          0.0008790916763246059,
          0.0006094472482800484,
          0.00033090822398662567,
          0.0002051154151558876,
          0.00015443284064531326,
          0.0000983397476375103,
          -0.00012503284960985184,
          -0.0004126657731831074,
          -0.00037041306495666504,
          -0.0002560913562774658,
          -0.0003520064055919647,
          -0.00038560107350349426,
          -0.00022507086396217346,
          0.000012404285371303558,
          0.00006829388439655304,
          -0.00007751584053039551,
          -0.000060277059674263,
          0.00009660888463258743,
          0.0004235990345478058,
          0.0010338034480810165,
          -0.000754169188439846,
          -0.0036493446677923203,
          -0.0017857905477285385,
          0.00164851825684309,
          0.0017572920769453049,
          0.000732707791030407,
          0.00019265897572040558,
          -0.00007851794362068176,
          -0.00011899136006832123,
          -0.0001361258327960968,
          -0.00015937350690364838,
          -0.00007563736289739609,
          0.000026631169021129608,
          0.00018032453954219818,
          0.0026392629370093346,
          0.007807401940226555,
          -0.005509981885552406,
          -0.01689957082271576,
          0.001833018846809864,
          0.008162718266248703,
          0.0002723969519138336,
          -0.000014296267181634903,
          0.000027128029614686966,
          0.00013251136988401413,
          0.00013689277693629265,
          0.00010344479233026505,
          0.000040316954255104065,
          -0.000013719778507947922,
          -0.00001813238486647606,
          0.000013071577996015549,
          0.00006096111610531807,
          0.00006559118628501892,
          0.00004940154030919075,
          0.00005601486191153526,
          0.00004903343506157398,
          0.0000295999925583601,
          0.000017964746803045273,
          0.00001150183379650116,
          0.000012091128155589104,
          0.00002333102747797966,
          0.000031669856980443,
          0.000010562129318714142,
          -0.000012851902283728123,
          0.000005250447429716587,
          0.00006472354289144278,
          0.00012719747610390186,
          0.00012190960114821792,
          0.00008063903078436852,
          0.00007346004713326693,
          0.000054295698646456,
          0.000020449893781915307,
          0.000009992305422201753,
          0.000006566755473613739,
          0.000023519445676356554,
          0.000054081028793007135,
          0.0000608603295404464,
          0.00005954915832262486,
          0.00006772560300305486,
          0.00005357059490052052,
          0.00003194879536749795,
          0.000027477544790599495,
          0.000007439721230184659,
          -0.000003767927410081029,
          -0.000004469991836231202,
          -0.00001755571793182753,
          -0.0000225923940888606,
          -0.000018180477127316408,
          -0.000007618433301104233,
          0.000004698405973613262,
          0.00002482455238350667,
          0.000024005297746043652,
          -0.0000027844112082675565,
          -0.0000033610813261475414,
          0.000006145492534415098,
          0.0000011533406905073207,
          -4.547473508864641e-13,
          8.155352588801179e-7,
          -0.0000031222161851474084,
          0.0000013922058315074537,
          0.0000025455460672674235,
          -0.0000033610820082685677,
          0,
          0.0000025455465220147744,
          -0.0000013922058315074537,
          -0.000002545546294641099,
          -5.766701178799849e-7,
          0.0000019688759493874386,
          0.0000019688759493874386,
          0.0000019688759493874386,
          0.000004753287157654995,
          0.0000013922058315074537,
          -0.000008114368938549887,
          -0.000004514422926149564,
          0.000003361081553521217,
          -0.0000030232754397729877,
          -0.0000013922056041337783,
          0.000005568822416535113,
          0.0000013922056041337783,
          -0.0000027844112082675565,
          0.0000019688759493874386,
          0.000003361081553521217,
          -0.000003937751898774877,
          -0.000003937751898774877,
          0.0000019688759493874386,
          0.0000019688759493874386,
          0.0000013922056041337783,
          0,
          5.766705726273358e-7,
          0.0000019688759493874386,
          -0.0000033610820082685677,
          -0.0000019688759493874386,
          8.155354862537934e-7,
          -5.766703452536603e-7,
          0.00000532995727553498,
          0.0000011533406905073207,
          -0.000009506573405815288,
          2.3886491362645756e-7,
          0.000003361081098773866,
          -2.388646862527821e-7,
          0.00000532995727553498,
          -0.0000019688764041347895,
          -0.000003937751898774877,
          -5.766701178799849e-7,
          0,
          0.000006722163107042434,
          -0.000003937751898774877,
          -0.00000950657431530999,
          0.00000532995727553498,
          0.000004753287157654995,
          -0.0000027844112082675565,
          0.0000013922056041337783,
          0.00000532995727553498,
          -8.155352588801179e-7,
          -0.000003698887212522095,
          0.0000013922056041337783,
          3.3780588637455367e-7,
          -5.766701178799849e-7,
          -0.0000033610817808948923,
          -0.000005329957730282331,
          8.155352588801179e-7,
          0.0000064832984207896516,
          0.0000019688759493874386,
          -0.000005091092589282198,
          0,
          0.000002545546294641099,
          0.000004176616585027659,
          0.000005329958185029682,
          -0.000008353233170055319,
          -0.00000926771099329926,
          0.000004176616585027659,
          0.00000254554674938845,
          0,
          0.0000013922056041337783,
          0,
          0,
          0.0000013922056041337783,
          5.766703452536603e-7,
          5.766705726273358e-7,
          -0.000002545546294641099,
          -0.000005329958185029682,
          0.000003361081553521217,
          0.0000033610817808948923,
          -8.155352588801179e-7,
          0,
          -0.0000011533406905073207,
          0,
          -8.155352588801179e-7,
          0,
          0.0000013922056041337783,
          0,
          0.0000013922056041337783,
          0,
          -0.0000027844112082675565,
          0,
          0.0000013922056041337783,
          0,
          0.0000013922056041337783,
          0.0000033610817808948923,
          -0.0000027844112082675565,
          -0.000006722163561789785,
          0.000003361081553521217,
          0.0000033610817808948923,
          -0.000002545546294641099,
          0,
          -8.155352588801179e-7,
          0,
          0.0000013922056041337783,
          0,
          0.0000019688759493874386,
          0,
          -0.000003937751898774877,
          0.000008114368938549887,
          0.0000019688759493874386,
          -0.000014259861927712336,
          0.0000013922056041337783,
          0.0000075376988206699025,
          -0.0000027844112082675565,
          -0.000004753287612402346,
          0.000004753287612402346,
          0.000006722163561789785,
          -0.000006722163561789785,
          -0.000006722163561789785,
          0.0000033610817808948923,
          0.0000033610817808948923,
          0.0000013922056041337783,
          0.0000019688759493874386,
          5.766705726273358e-7,
          -0.000003937751898774877,
          -0.000005329958185029682,
          0.0000019688759493874386,
          0.000005329957730282331,
          0,
          -0.000003937751898774877,
          0,
          0.0000019688759493874386,
          0,
          0.0000013922056041337783,
          0,
          -0.0000027844112082675565,
          0.0000013922056041337783,
          0.0000013922056041337783,
          -0.0000027844112082675565,
          0,
          0.000003361081553521217,
          0,
          -5.766701178799849e-7,
          0.0000013922056041337783,
          -0.000004753287612402346,
          5.766705726273358e-7,
          0.0000033610817808948923,
          -0.000005329958185029682,
          0,
          0.0000033610817808948923,
          0
         ],
         "yaxis": "y"
        },
        {
         "type": "scatter",
         "y": [
          0.00008660624735057354,
          0.00010660628322511911,
          0.00009703158866614103,
          0.00005664059426635504,
          0.00003308127634227276,
          0.00001711072400212288,
          0.000024703331291675568,
          0.000044362619519233704,
          0.00004953145980834961,
          0.000016343314200639725,
          -0.0000018114224076271057,
          0.000015241093933582306,
          -0.00000859331339597702,
          -0.000011966563761234283,
          0.000053491443395614624,
          -0.0000234358012676239,
          -0.00029826536774635315,
          -0.0005154134705662727,
          -0.0007133614271879196,
          -0.0008662501350045204,
          -0.0007597915828227997,
          -0.0005541304126381874,
          -0.0003599245101213455,
          -0.00006676744669675827,
          0.00004435889422893524,
          -0.00021233968436717987,
          -0.0003185989335179329,
          -0.00017514172941446304,
          -0.0001494297757744789,
          -0.0002527395263314247,
          -0.000280013307929039,
          -0.00016597658395767212,
          -0.0000065658241510391235,
          0.00010656099766492844,
          0.00010936660692095757,
          -0.000028220005333423615,
          -0.00020271260291337967,
          -0.00017059780657291412,
          0.00010177260264754295,
          0.0003796233795583248,
          0.0005313376896083355,
          0.0006329654715955257,
          0.0007610367611050606,
          0.0009022941812872887,
          0.0008790916763246059,
          0.0006094472482800484,
          0.00033090822398662567,
          0.0002051154151558876,
          0.00015443284064531326,
          0.0000983397476375103,
          -0.00012503284960985184,
          -0.0004126657731831074,
          -0.00037041306495666504,
          -0.0002560913562774658,
          -0.0003520064055919647,
          -0.00038560107350349426,
          -0.00022507086396217346,
          0.000012404285371303558,
          0.00006829388439655304,
          -0.00007751584053039551,
          -0.000060277059674263,
          0.00009660888463258743,
          0.0004235990345478058,
          0.0010338034480810165,
          -0.000754169188439846,
          -0.0036493446677923203,
          -0.0017857905477285385,
          0.00164851825684309,
          0.0017572920769453049,
          0.000732707791030407,
          0.00019265897572040558,
          -0.00007851794362068176,
          -0.00011899136006832123,
          -0.0001361258327960968,
          -0.00015937350690364838,
          -0.00007563736289739609,
          0.000026631169021129608,
          0.00018032453954219818,
          0.0026392629370093346,
          0.007807401940226555,
          -0.005509981885552406,
          -0.01689957082271576,
          0.001833018846809864,
          0.008162718266248703,
          0.0002723969519138336,
          -0.000014296267181634903,
          0.000027128029614686966,
          0.00013251136988401413,
          0.00013689277693629265,
          0.00010344479233026505,
          0.000040316954255104065,
          -0.000013719778507947922,
          -0.00001813238486647606,
          0.000013071577996015549,
          0.00006096111610531807,
          0.00006559118628501892,
          0.00004940154030919075,
          0.00005601486191153526,
          0.00004903343506157398,
          0.0000295999925583601,
          0.000017964746803045273,
          0.00001150183379650116,
          0.000012091128155589104,
          0.00002333102747797966,
          0.000031669856980443,
          0.000010562129318714142,
          -0.000012851902283728123,
          0.000005250447429716587,
          0.00006472354289144278,
          0.00012719747610390186,
          0.00012190960114821792,
          0.00008063903078436852,
          0.00007346004713326693,
          0.000054295698646456,
          0.000020449893781915307,
          0.000009992305422201753,
          0.000006566755473613739,
          0.000023519445676356554,
          0.000054081028793007135,
          0.0000608603295404464,
          0.00005954915832262486,
          0.00006772560300305486,
          0.00005357059490052052,
          0.00003194879536749795,
          0.000027477544790599495,
          0.000007439721230184659,
          -0.000003767927410081029,
          -0.000004469991836231202,
          -0.00001755571793182753,
          -0.0000225923940888606,
          -0.000018180477127316408,
          -0.000007618433301104233,
          0.000004698405973613262,
          0.00002482455238350667,
          0.000024005297746043652,
          -0.0000027844112082675565,
          -0.0000033610813261475414,
          0.000006145492534415098,
          0.0000011533406905073207,
          -4.547473508864641e-13,
          8.155352588801179e-7,
          -0.0000031222161851474084,
          0.0000013922058315074537,
          0.0000025455460672674235,
          -0.0000033610820082685677,
          0,
          0.0000025455465220147744,
          -0.0000013922058315074537,
          -0.000002545546294641099,
          -5.766701178799849e-7,
          0.0000019688759493874386,
          0.0000019688759493874386,
          0.0000019688759493874386,
          0.000004753287157654995,
          0.0000013922058315074537,
          -0.000008114368938549887,
          -0.000004514422926149564,
          0.000003361081553521217,
          -0.0000030232754397729877,
          -0.0000013922056041337783,
          0.000005568822416535113,
          0.0000013922056041337783,
          -0.0000027844112082675565,
          0.0000019688759493874386,
          0.000003361081553521217,
          -0.000003937751898774877,
          -0.000003937751898774877,
          0.0000019688759493874386,
          0.0000019688759493874386,
          0.0000013922056041337783,
          0,
          5.766705726273358e-7,
          0.0000019688759493874386,
          -0.0000033610820082685677,
          -0.0000019688759493874386,
          8.155354862537934e-7,
          -5.766703452536603e-7,
          0.00000532995727553498,
          0.0000011533406905073207,
          -0.000009506573405815288,
          2.3886491362645756e-7,
          0.000003361081098773866,
          -2.388646862527821e-7,
          0.00000532995727553498,
          -0.0000019688764041347895,
          -0.000003937751898774877,
          -5.766701178799849e-7,
          0,
          0.000006722163107042434,
          -0.000003937751898774877,
          -0.00000950657431530999,
          0.00000532995727553498,
          0.000004753287157654995,
          -0.0000027844112082675565,
          0.0000013922056041337783,
          0.00000532995727553498,
          -8.155352588801179e-7,
          -0.000003698887212522095,
          0.0000013922056041337783,
          3.3780588637455367e-7,
          -5.766701178799849e-7,
          -0.0000033610817808948923,
          -0.000005329957730282331,
          8.155352588801179e-7,
          0.0000064832984207896516,
          0.0000019688759493874386,
          -0.000005091092589282198,
          0,
          0.000002545546294641099,
          0.000004176616585027659,
          0.000005329958185029682,
          -0.000008353233170055319,
          -0.00000926771099329926,
          0.000004176616585027659,
          0.00000254554674938845,
          0,
          0.0000013922056041337783,
          0,
          0,
          0.0000013922056041337783,
          5.766703452536603e-7,
          5.766705726273358e-7,
          -0.000002545546294641099,
          -0.000005329958185029682,
          0.000003361081553521217,
          0.0000033610817808948923,
          -8.155352588801179e-7,
          0,
          -0.0000011533406905073207,
          0,
          -8.155352588801179e-7,
          0,
          0.0000013922056041337783,
          0,
          0.0000013922056041337783,
          0,
          -0.0000027844112082675565,
          0,
          0.0000013922056041337783,
          0,
          0.0000013922056041337783,
          0.0000033610817808948923,
          -0.0000027844112082675565,
          -0.000006722163561789785,
          0.000003361081553521217,
          0.0000033610817808948923,
          -0.000002545546294641099,
          0,
          -8.155352588801179e-7,
          0,
          0.0000013922056041337783,
          0,
          0.0000019688759493874386,
          0,
          -0.000003937751898774877,
          0.000008114368938549887,
          0.0000019688759493874386,
          -0.000014259861927712336,
          0.0000013922056041337783,
          0.0000075376988206699025,
          -0.0000027844112082675565,
          -0.000004753287612402346,
          0.000004753287612402346,
          0.000006722163561789785,
          -0.000006722163561789785,
          -0.000006722163561789785,
          0.0000033610817808948923,
          0.0000033610817808948923,
          0.0000013922056041337783,
          0.0000019688759493874386,
          5.766705726273358e-7,
          -0.000003937751898774877,
          -0.000005329958185029682,
          0.0000019688759493874386,
          0.000005329957730282331,
          0,
          -0.000003937751898774877,
          0,
          0.0000019688759493874386,
          0,
          0.0000013922056041337783,
          0,
          -0.0000027844112082675565,
          0.0000013922056041337783,
          0.0000013922056041337783,
          -0.0000027844112082675565,
          0,
          0.000003361081553521217,
          0,
          -5.766701178799849e-7,
          0.0000013922056041337783,
          -0.000004753287612402346,
          5.766705726273358e-7,
          0.0000033610817808948923,
          -0.000005329958185029682,
          0,
          0.0000033610817808948923,
          0
         ]
        }
       ],
       "layout": {
        "legend": {
         "tracegroupgap": 0
        },
        "margin": {
         "t": 60
        },
        "template": {
         "data": {
          "bar": [
           {
            "error_x": {
             "color": "#2a3f5f"
            },
            "error_y": {
             "color": "#2a3f5f"
            },
            "marker": {
             "line": {
              "color": "#E5ECF6",
              "width": 0.5
             },
             "pattern": {
              "fillmode": "overlay",
              "size": 10,
              "solidity": 0.2
             }
            },
            "type": "bar"
           }
          ],
          "barpolar": [
           {
            "marker": {
             "line": {
              "color": "#E5ECF6",
              "width": 0.5
             },
             "pattern": {
              "fillmode": "overlay",
              "size": 10,
              "solidity": 0.2
             }
            },
            "type": "barpolar"
           }
          ],
          "carpet": [
           {
            "aaxis": {
             "endlinecolor": "#2a3f5f",
             "gridcolor": "white",
             "linecolor": "white",
             "minorgridcolor": "white",
             "startlinecolor": "#2a3f5f"
            },
            "baxis": {
             "endlinecolor": "#2a3f5f",
             "gridcolor": "white",
             "linecolor": "white",
             "minorgridcolor": "white",
             "startlinecolor": "#2a3f5f"
            },
            "type": "carpet"
           }
          ],
          "choropleth": [
           {
            "colorbar": {
             "outlinewidth": 0,
             "ticks": ""
            },
            "type": "choropleth"
           }
          ],
          "contour": [
           {
            "colorbar": {
             "outlinewidth": 0,
             "ticks": ""
            },
            "colorscale": [
             [
              0,
              "#0d0887"
             ],
             [
              0.1111111111111111,
              "#46039f"
             ],
             [
              0.2222222222222222,
              "#7201a8"
             ],
             [
              0.3333333333333333,
              "#9c179e"
             ],
             [
              0.4444444444444444,
              "#bd3786"
             ],
             [
              0.5555555555555556,
              "#d8576b"
             ],
             [
              0.6666666666666666,
              "#ed7953"
             ],
             [
              0.7777777777777778,
              "#fb9f3a"
             ],
             [
              0.8888888888888888,
              "#fdca26"
             ],
             [
              1,
              "#f0f921"
             ]
            ],
            "type": "contour"
           }
          ],
          "contourcarpet": [
           {
            "colorbar": {
             "outlinewidth": 0,
             "ticks": ""
            },
            "type": "contourcarpet"
           }
          ],
          "heatmap": [
           {
            "colorbar": {
             "outlinewidth": 0,
             "ticks": ""
            },
            "colorscale": [
             [
              0,
              "#0d0887"
             ],
             [
              0.1111111111111111,
              "#46039f"
             ],
             [
              0.2222222222222222,
              "#7201a8"
             ],
             [
              0.3333333333333333,
              "#9c179e"
             ],
             [
              0.4444444444444444,
              "#bd3786"
             ],
             [
              0.5555555555555556,
              "#d8576b"
             ],
             [
              0.6666666666666666,
              "#ed7953"
             ],
             [
              0.7777777777777778,
              "#fb9f3a"
             ],
             [
              0.8888888888888888,
              "#fdca26"
             ],
             [
              1,
              "#f0f921"
             ]
            ],
            "type": "heatmap"
           }
          ],
          "heatmapgl": [
           {
            "colorbar": {
             "outlinewidth": 0,
             "ticks": ""
            },
            "colorscale": [
             [
              0,
              "#0d0887"
             ],
             [
              0.1111111111111111,
              "#46039f"
             ],
             [
              0.2222222222222222,
              "#7201a8"
             ],
             [
              0.3333333333333333,
              "#9c179e"
             ],
             [
              0.4444444444444444,
              "#bd3786"
             ],
             [
              0.5555555555555556,
              "#d8576b"
             ],
             [
              0.6666666666666666,
              "#ed7953"
             ],
             [
              0.7777777777777778,
              "#fb9f3a"
             ],
             [
              0.8888888888888888,
              "#fdca26"
             ],
             [
              1,
              "#f0f921"
             ]
            ],
            "type": "heatmapgl"
           }
          ],
          "histogram": [
           {
            "marker": {
             "pattern": {
              "fillmode": "overlay",
              "size": 10,
              "solidity": 0.2
             }
            },
            "type": "histogram"
           }
          ],
          "histogram2d": [
           {
            "colorbar": {
             "outlinewidth": 0,
             "ticks": ""
            },
            "colorscale": [
             [
              0,
              "#0d0887"
             ],
             [
              0.1111111111111111,
              "#46039f"
             ],
             [
              0.2222222222222222,
              "#7201a8"
             ],
             [
              0.3333333333333333,
              "#9c179e"
             ],
             [
              0.4444444444444444,
              "#bd3786"
             ],
             [
              0.5555555555555556,
              "#d8576b"
             ],
             [
              0.6666666666666666,
              "#ed7953"
             ],
             [
              0.7777777777777778,
              "#fb9f3a"
             ],
             [
              0.8888888888888888,
              "#fdca26"
             ],
             [
              1,
              "#f0f921"
             ]
            ],
            "type": "histogram2d"
           }
          ],
          "histogram2dcontour": [
           {
            "colorbar": {
             "outlinewidth": 0,
             "ticks": ""
            },
            "colorscale": [
             [
              0,
              "#0d0887"
             ],
             [
              0.1111111111111111,
              "#46039f"
             ],
             [
              0.2222222222222222,
              "#7201a8"
             ],
             [
              0.3333333333333333,
              "#9c179e"
             ],
             [
              0.4444444444444444,
              "#bd3786"
             ],
             [
              0.5555555555555556,
              "#d8576b"
             ],
             [
              0.6666666666666666,
              "#ed7953"
             ],
             [
              0.7777777777777778,
              "#fb9f3a"
             ],
             [
              0.8888888888888888,
              "#fdca26"
             ],
             [
              1,
              "#f0f921"
             ]
            ],
            "type": "histogram2dcontour"
           }
          ],
          "mesh3d": [
           {
            "colorbar": {
             "outlinewidth": 0,
             "ticks": ""
            },
            "type": "mesh3d"
           }
          ],
          "parcoords": [
           {
            "line": {
             "colorbar": {
              "outlinewidth": 0,
              "ticks": ""
             }
            },
            "type": "parcoords"
           }
          ],
          "pie": [
           {
            "automargin": true,
            "type": "pie"
           }
          ],
          "scatter": [
           {
            "marker": {
             "colorbar": {
              "outlinewidth": 0,
              "ticks": ""
             }
            },
            "type": "scatter"
           }
          ],
          "scatter3d": [
           {
            "line": {
             "colorbar": {
              "outlinewidth": 0,
              "ticks": ""
             }
            },
            "marker": {
             "colorbar": {
              "outlinewidth": 0,
              "ticks": ""
             }
            },
            "type": "scatter3d"
           }
          ],
          "scattercarpet": [
           {
            "marker": {
             "colorbar": {
              "outlinewidth": 0,
              "ticks": ""
             }
            },
            "type": "scattercarpet"
           }
          ],
          "scattergeo": [
           {
            "marker": {
             "colorbar": {
              "outlinewidth": 0,
              "ticks": ""
             }
            },
            "type": "scattergeo"
           }
          ],
          "scattergl": [
           {
            "marker": {
             "colorbar": {
              "outlinewidth": 0,
              "ticks": ""
             }
            },
            "type": "scattergl"
           }
          ],
          "scattermapbox": [
           {
            "marker": {
             "colorbar": {
              "outlinewidth": 0,
              "ticks": ""
             }
            },
            "type": "scattermapbox"
           }
          ],
          "scatterpolar": [
           {
            "marker": {
             "colorbar": {
              "outlinewidth": 0,
              "ticks": ""
             }
            },
            "type": "scatterpolar"
           }
          ],
          "scatterpolargl": [
           {
            "marker": {
             "colorbar": {
              "outlinewidth": 0,
              "ticks": ""
             }
            },
            "type": "scatterpolargl"
           }
          ],
          "scatterternary": [
           {
            "marker": {
             "colorbar": {
              "outlinewidth": 0,
              "ticks": ""
             }
            },
            "type": "scatterternary"
           }
          ],
          "surface": [
           {
            "colorbar": {
             "outlinewidth": 0,
             "ticks": ""
            },
            "colorscale": [
             [
              0,
              "#0d0887"
             ],
             [
              0.1111111111111111,
              "#46039f"
             ],
             [
              0.2222222222222222,
              "#7201a8"
             ],
             [
              0.3333333333333333,
              "#9c179e"
             ],
             [
              0.4444444444444444,
              "#bd3786"
             ],
             [
              0.5555555555555556,
              "#d8576b"
             ],
             [
              0.6666666666666666,
              "#ed7953"
             ],
             [
              0.7777777777777778,
              "#fb9f3a"
             ],
             [
              0.8888888888888888,
              "#fdca26"
             ],
             [
              1,
              "#f0f921"
             ]
            ],
            "type": "surface"
           }
          ],
          "table": [
           {
            "cells": {
             "fill": {
              "color": "#EBF0F8"
             },
             "line": {
              "color": "white"
             }
            },
            "header": {
             "fill": {
              "color": "#C8D4E3"
             },
             "line": {
              "color": "white"
             }
            },
            "type": "table"
           }
          ]
         },
         "layout": {
          "annotationdefaults": {
           "arrowcolor": "#2a3f5f",
           "arrowhead": 0,
           "arrowwidth": 1
          },
          "autotypenumbers": "strict",
          "coloraxis": {
           "colorbar": {
            "outlinewidth": 0,
            "ticks": ""
           }
          },
          "colorscale": {
           "diverging": [
            [
             0,
             "#8e0152"
            ],
            [
             0.1,
             "#c51b7d"
            ],
            [
             0.2,
             "#de77ae"
            ],
            [
             0.3,
             "#f1b6da"
            ],
            [
             0.4,
             "#fde0ef"
            ],
            [
             0.5,
             "#f7f7f7"
            ],
            [
             0.6,
             "#e6f5d0"
            ],
            [
             0.7,
             "#b8e186"
            ],
            [
             0.8,
             "#7fbc41"
            ],
            [
             0.9,
             "#4d9221"
            ],
            [
             1,
             "#276419"
            ]
           ],
           "sequential": [
            [
             0,
             "#0d0887"
            ],
            [
             0.1111111111111111,
             "#46039f"
            ],
            [
             0.2222222222222222,
             "#7201a8"
            ],
            [
             0.3333333333333333,
             "#9c179e"
            ],
            [
             0.4444444444444444,
             "#bd3786"
            ],
            [
             0.5555555555555556,
             "#d8576b"
            ],
            [
             0.6666666666666666,
             "#ed7953"
            ],
            [
             0.7777777777777778,
             "#fb9f3a"
            ],
            [
             0.8888888888888888,
             "#fdca26"
            ],
            [
             1,
             "#f0f921"
            ]
           ],
           "sequentialminus": [
            [
             0,
             "#0d0887"
            ],
            [
             0.1111111111111111,
             "#46039f"
            ],
            [
             0.2222222222222222,
             "#7201a8"
            ],
            [
             0.3333333333333333,
             "#9c179e"
            ],
            [
             0.4444444444444444,
             "#bd3786"
            ],
            [
             0.5555555555555556,
             "#d8576b"
            ],
            [
             0.6666666666666666,
             "#ed7953"
            ],
            [
             0.7777777777777778,
             "#fb9f3a"
            ],
            [
             0.8888888888888888,
             "#fdca26"
            ],
            [
             1,
             "#f0f921"
            ]
           ]
          },
          "colorway": [
           "#636efa",
           "#EF553B",
           "#00cc96",
           "#ab63fa",
           "#FFA15A",
           "#19d3f3",
           "#FF6692",
           "#B6E880",
           "#FF97FF",
           "#FECB52"
          ],
          "font": {
           "color": "#2a3f5f"
          },
          "geo": {
           "bgcolor": "white",
           "lakecolor": "white",
           "landcolor": "#E5ECF6",
           "showlakes": true,
           "showland": true,
           "subunitcolor": "white"
          },
          "hoverlabel": {
           "align": "left"
          },
          "hovermode": "closest",
          "mapbox": {
           "style": "light"
          },
          "paper_bgcolor": "white",
          "plot_bgcolor": "#E5ECF6",
          "polar": {
           "angularaxis": {
            "gridcolor": "white",
            "linecolor": "white",
            "ticks": ""
           },
           "bgcolor": "#E5ECF6",
           "radialaxis": {
            "gridcolor": "white",
            "linecolor": "white",
            "ticks": ""
           }
          },
          "scene": {
           "xaxis": {
            "backgroundcolor": "#E5ECF6",
            "gridcolor": "white",
            "gridwidth": 2,
            "linecolor": "white",
            "showbackground": true,
            "ticks": "",
            "zerolinecolor": "white"
           },
           "yaxis": {
            "backgroundcolor": "#E5ECF6",
            "gridcolor": "white",
            "gridwidth": 2,
            "linecolor": "white",
            "showbackground": true,
            "ticks": "",
            "zerolinecolor": "white"
           },
           "zaxis": {
            "backgroundcolor": "#E5ECF6",
            "gridcolor": "white",
            "gridwidth": 2,
            "linecolor": "white",
            "showbackground": true,
            "ticks": "",
            "zerolinecolor": "white"
           }
          },
          "shapedefaults": {
           "line": {
            "color": "#2a3f5f"
           }
          },
          "ternary": {
           "aaxis": {
            "gridcolor": "white",
            "linecolor": "white",
            "ticks": ""
           },
           "baxis": {
            "gridcolor": "white",
            "linecolor": "white",
            "ticks": ""
           },
           "bgcolor": "#E5ECF6",
           "caxis": {
            "gridcolor": "white",
            "linecolor": "white",
            "ticks": ""
           }
          },
          "title": {
           "x": 0.05
          },
          "xaxis": {
           "automargin": true,
           "gridcolor": "white",
           "linecolor": "white",
           "ticks": "",
           "title": {
            "standoff": 15
           },
           "zerolinecolor": "white",
           "zerolinewidth": 2
          },
          "yaxis": {
           "automargin": true,
           "gridcolor": "white",
           "linecolor": "white",
           "ticks": "",
           "title": {
            "standoff": 15
           },
           "zerolinecolor": "white",
           "zerolinewidth": 2
          }
         }
        },
        "xaxis": {
         "anchor": "y",
         "domain": [
          0,
          1
         ],
         "title": {
          "text": "x"
         }
        },
        "yaxis": {
         "anchor": "x",
         "domain": [
          0,
          1
         ],
         "title": {
          "text": "y"
         }
        }
       }
      }
     },
     "metadata": {}
    }
   ],
   "metadata": {}
  },
  {
   "cell_type": "code",
   "execution_count": 115,
   "source": [
    "N = 298\r\n",
    "beta = 13\r\n",
    "fft = np.fft.fft(y1)\r\n",
    "fft2 = np.fft.fft(y2)\r\n",
    "\r\n",
    "psd = 1/297 * np.abs(np.sum([(v * np.exp(-2j*np.pi*beta) / N) for v in fft]))\r\n",
    "psd2 = 1/297 * np.abs(np.sum([(v * np.exp(-2j*np.pi*beta) / N) for v in fft2]))\r\n",
    "print(psd, psd2)"
   ],
   "outputs": [
    {
     "output_type": "stream",
     "name": "stdout",
     "text": [
      "0.00018197285506861777 6.811912814374731e-05\n"
     ]
    }
   ],
   "metadata": {}
  },
  {
   "cell_type": "markdown",
   "source": [
    "# Test Range"
   ],
   "metadata": {}
  },
  {
   "cell_type": "code",
   "execution_count": 9,
   "source": [
    "ae_results = load(os.path.join(RESULT_PATH,\"ae_results.pbz2\"))\r\n",
    "ae_dfs = load(os.path.join(RESULT_PATH,\"ae_dfs.pbz2\"))\r\n"
   ],
   "outputs": [],
   "metadata": {}
  },
  {
   "cell_type": "code",
   "execution_count": 16,
   "source": [
    "aeRes = ae_results[0]\r\n",
    "print(len(ae_results))\r\n",
    "print(aeRes.keys())\r\n",
    "print((aeRes[\"name\"]))\r\n",
    "print((aeRes[\"params\"]))\r\n",
    "print((aeRes[\"mem\"]))\r\n",
    "print(len(aeRes[\"elapsed_times\"]))\r\n",
    "print(len(aeRes[\"recon_error\"]))\r\n",
    "print(len(aeRes[\"rot_error\"]))\r\n",
    "print(len(aeRes[\"delta_pos\"]))"
   ],
   "outputs": [
    {
     "output_type": "stream",
     "name": "stdout",
     "text": [
      "5\n",
      "dict_keys(['name', 'params', 'mem', 'elapsed_times', 'recon_error', 'adv_error', 'pos_error', 'rot_error', 'delta_pos', 'delta_rot'])\n",
      "AE_R1\n",
      "455565\n",
      "1.82226\n",
      "192\n",
      "192\n",
      "192\n",
      "192\n"
     ]
    }
   ],
   "metadata": {}
  },
  {
   "cell_type": "code",
   "execution_count": 27,
   "source": [
    "ae_dfs[0]\r\n"
   ],
   "outputs": [
    {
     "output_type": "execute_result",
     "data": {
      "text/html": [
       "<div>\n",
       "<style scoped>\n",
       "    .dataframe tbody tr th:only-of-type {\n",
       "        vertical-align: middle;\n",
       "    }\n",
       "\n",
       "    .dataframe tbody tr th {\n",
       "        vertical-align: top;\n",
       "    }\n",
       "\n",
       "    .dataframe thead th {\n",
       "        text-align: right;\n",
       "    }\n",
       "</style>\n",
       "<table border=\"1\" class=\"dataframe\">\n",
       "  <thead>\n",
       "    <tr style=\"text-align: right;\">\n",
       "      <th></th>\n",
       "      <th>name</th>\n",
       "      <th>params</th>\n",
       "      <th>mem</th>\n",
       "      <th>time</th>\n",
       "      <th>recon_err</th>\n",
       "      <th>adv_err</th>\n",
       "      <th>rot_err</th>\n",
       "      <th>sum_delta_rot_x</th>\n",
       "      <th>sum_delta_rot_y</th>\n",
       "    </tr>\n",
       "  </thead>\n",
       "  <tbody>\n",
       "    <tr>\n",
       "      <th>0</th>\n",
       "      <td>AE_R1</td>\n",
       "      <td>455565</td>\n",
       "      <td>1.82226</td>\n",
       "      <td>0.010796</td>\n",
       "      <td>0.264227</td>\n",
       "      <td>22.558304</td>\n",
       "      <td>8.531455</td>\n",
       "      <td>6.408974</td>\n",
       "      <td>4.966479</td>\n",
       "    </tr>\n",
       "  </tbody>\n",
       "</table>\n",
       "</div>"
      ],
      "text/plain": [
       "    name  params      mem      time  recon_err    adv_err   rot_err  \\\n",
       "0  AE_R1  455565  1.82226  0.010796   0.264227  22.558304  8.531455   \n",
       "\n",
       "   sum_delta_rot_x  sum_delta_rot_y  \n",
       "0         6.408974         4.966479  "
      ]
     },
     "metadata": {},
     "execution_count": 27
    }
   ],
   "metadata": {}
  },
  {
   "cell_type": "code",
   "execution_count": 28,
   "source": [
    "ref_results = load(os.path.join(RESULT_PATH,\"reference_results.pbz2\"))"
   ],
   "outputs": [],
   "metadata": {}
  },
  {
   "cell_type": "code",
   "execution_count": 60,
   "source": [
    "aeRes = ref_results[0]\r\n",
    "print(len(ref_results))\r\n",
    "print(len(aeRes.keys()))\r\n",
    "print(aeRes.keys())\r\n",
    "aeMoe = aeRes[\"AE+MoE\"]\r\n",
    "print((aeMoe[\"name\"]))\r\n",
    "print((aeMoe[\"params\"]))\r\n",
    "print((aeMoe[\"mem\"]))\r\n",
    "print(len(aeMoe[\"elapsed_times\"]))\r\n",
    "print(len(aeMoe[\"recon_error\"]))\r\n",
    "print(len(aeMoe[\"rot_error\"]))\r\n",
    "print(len(aeMoe[\"delta_pos\"]))\r\n",
    "print(len(ref_dfs))\r\n",
    "print(aeMoe[\"recon_error\"][:10])"
   ],
   "outputs": [
    {
     "output_type": "stream",
     "name": "stdout",
     "text": [
      "5\n",
      "12\n",
      "dict_keys(['AE+MoE', 'AE+LSTM', 'RBF-CAT+LSTM', 'RBF-IN+LSTM', 'RBF-CAT+MoE', 'RBF-IN+MoE', 'VAE-CAT+LSTM', 'VAE-IN+LSTM', 'VAE-CAT+MoE', 'VAE-IN+MoE', 'DEC-CAT+MoE', 'DEC-IN+MoE'])\n",
      "AE_MoE_256_ZINF_R1\n",
      "2946193\n",
      "11.784772\n",
      "192\n",
      "192\n",
      "192\n",
      "192\n",
      "5\n",
      "[tensor(0.0111), tensor(0.0199), tensor(0.0137), tensor(0.0185), tensor(0.0084), tensor(0.0111), tensor(0.0202), tensor(0.0166), tensor(0.0112), tensor(0.0189)]\n"
     ]
    }
   ],
   "metadata": {}
  },
  {
   "cell_type": "code",
   "execution_count": 74,
   "source": [
    "ref_mean = np.mean(ae_results[0][\"recon_error\"])\r\n",
    "aeMoe = aeRes[\"AE+MoE\"]\r\n",
    "aeLstm = aeRes[\"AE+LSTM\"]\r\n",
    "errMoe = torch.stack(aeMoe[\"recon_error\"]).numpy() \r\n",
    "errLstm = torch.stack(aeLstm[\"recon_error\"]).numpy()"
   ],
   "outputs": [],
   "metadata": {}
  },
  {
   "cell_type": "code",
   "execution_count": 75,
   "source": [
    "fig = ex.bar(x=[\"AE+MoE\", \"AE+LSTM\"], y=[(np.mean(errMoe)/ref_mean)*100, (np.mean(errLstm)/ref_mean)*100])\r\n",
    "fig.show()"
   ],
   "outputs": [
    {
     "output_type": "display_data",
     "data": {
      "application/vnd.plotly.v1+json": {
       "config": {
        "plotlyServerURL": "https://plot.ly"
       },
       "data": [
        {
         "alignmentgroup": "True",
         "hovertemplate": "x=%{x}<br>y=%{y}<extra></extra>",
         "legendgroup": "",
         "marker": {
          "color": "#636efa",
          "pattern": {
           "shape": ""
          }
         },
         "name": "",
         "offsetgroup": "",
         "orientation": "v",
         "showlegend": false,
         "textposition": "auto",
         "type": "bar",
         "x": [
          "AE+MoE",
          "AE+LSTM"
         ],
         "xaxis": "x",
         "y": [
          6.540728360414505,
          23.891571164131165
         ],
         "yaxis": "y"
        }
       ],
       "layout": {
        "barmode": "relative",
        "legend": {
         "tracegroupgap": 0
        },
        "margin": {
         "t": 60
        },
        "template": {
         "data": {
          "bar": [
           {
            "error_x": {
             "color": "#2a3f5f"
            },
            "error_y": {
             "color": "#2a3f5f"
            },
            "marker": {
             "line": {
              "color": "#E5ECF6",
              "width": 0.5
             },
             "pattern": {
              "fillmode": "overlay",
              "size": 10,
              "solidity": 0.2
             }
            },
            "type": "bar"
           }
          ],
          "barpolar": [
           {
            "marker": {
             "line": {
              "color": "#E5ECF6",
              "width": 0.5
             },
             "pattern": {
              "fillmode": "overlay",
              "size": 10,
              "solidity": 0.2
             }
            },
            "type": "barpolar"
           }
          ],
          "carpet": [
           {
            "aaxis": {
             "endlinecolor": "#2a3f5f",
             "gridcolor": "white",
             "linecolor": "white",
             "minorgridcolor": "white",
             "startlinecolor": "#2a3f5f"
            },
            "baxis": {
             "endlinecolor": "#2a3f5f",
             "gridcolor": "white",
             "linecolor": "white",
             "minorgridcolor": "white",
             "startlinecolor": "#2a3f5f"
            },
            "type": "carpet"
           }
          ],
          "choropleth": [
           {
            "colorbar": {
             "outlinewidth": 0,
             "ticks": ""
            },
            "type": "choropleth"
           }
          ],
          "contour": [
           {
            "colorbar": {
             "outlinewidth": 0,
             "ticks": ""
            },
            "colorscale": [
             [
              0,
              "#0d0887"
             ],
             [
              0.1111111111111111,
              "#46039f"
             ],
             [
              0.2222222222222222,
              "#7201a8"
             ],
             [
              0.3333333333333333,
              "#9c179e"
             ],
             [
              0.4444444444444444,
              "#bd3786"
             ],
             [
              0.5555555555555556,
              "#d8576b"
             ],
             [
              0.6666666666666666,
              "#ed7953"
             ],
             [
              0.7777777777777778,
              "#fb9f3a"
             ],
             [
              0.8888888888888888,
              "#fdca26"
             ],
             [
              1,
              "#f0f921"
             ]
            ],
            "type": "contour"
           }
          ],
          "contourcarpet": [
           {
            "colorbar": {
             "outlinewidth": 0,
             "ticks": ""
            },
            "type": "contourcarpet"
           }
          ],
          "heatmap": [
           {
            "colorbar": {
             "outlinewidth": 0,
             "ticks": ""
            },
            "colorscale": [
             [
              0,
              "#0d0887"
             ],
             [
              0.1111111111111111,
              "#46039f"
             ],
             [
              0.2222222222222222,
              "#7201a8"
             ],
             [
              0.3333333333333333,
              "#9c179e"
             ],
             [
              0.4444444444444444,
              "#bd3786"
             ],
             [
              0.5555555555555556,
              "#d8576b"
             ],
             [
              0.6666666666666666,
              "#ed7953"
             ],
             [
              0.7777777777777778,
              "#fb9f3a"
             ],
             [
              0.8888888888888888,
              "#fdca26"
             ],
             [
              1,
              "#f0f921"
             ]
            ],
            "type": "heatmap"
           }
          ],
          "heatmapgl": [
           {
            "colorbar": {
             "outlinewidth": 0,
             "ticks": ""
            },
            "colorscale": [
             [
              0,
              "#0d0887"
             ],
             [
              0.1111111111111111,
              "#46039f"
             ],
             [
              0.2222222222222222,
              "#7201a8"
             ],
             [
              0.3333333333333333,
              "#9c179e"
             ],
             [
              0.4444444444444444,
              "#bd3786"
             ],
             [
              0.5555555555555556,
              "#d8576b"
             ],
             [
              0.6666666666666666,
              "#ed7953"
             ],
             [
              0.7777777777777778,
              "#fb9f3a"
             ],
             [
              0.8888888888888888,
              "#fdca26"
             ],
             [
              1,
              "#f0f921"
             ]
            ],
            "type": "heatmapgl"
           }
          ],
          "histogram": [
           {
            "marker": {
             "pattern": {
              "fillmode": "overlay",
              "size": 10,
              "solidity": 0.2
             }
            },
            "type": "histogram"
           }
          ],
          "histogram2d": [
           {
            "colorbar": {
             "outlinewidth": 0,
             "ticks": ""
            },
            "colorscale": [
             [
              0,
              "#0d0887"
             ],
             [
              0.1111111111111111,
              "#46039f"
             ],
             [
              0.2222222222222222,
              "#7201a8"
             ],
             [
              0.3333333333333333,
              "#9c179e"
             ],
             [
              0.4444444444444444,
              "#bd3786"
             ],
             [
              0.5555555555555556,
              "#d8576b"
             ],
             [
              0.6666666666666666,
              "#ed7953"
             ],
             [
              0.7777777777777778,
              "#fb9f3a"
             ],
             [
              0.8888888888888888,
              "#fdca26"
             ],
             [
              1,
              "#f0f921"
             ]
            ],
            "type": "histogram2d"
           }
          ],
          "histogram2dcontour": [
           {
            "colorbar": {
             "outlinewidth": 0,
             "ticks": ""
            },
            "colorscale": [
             [
              0,
              "#0d0887"
             ],
             [
              0.1111111111111111,
              "#46039f"
             ],
             [
              0.2222222222222222,
              "#7201a8"
             ],
             [
              0.3333333333333333,
              "#9c179e"
             ],
             [
              0.4444444444444444,
              "#bd3786"
             ],
             [
              0.5555555555555556,
              "#d8576b"
             ],
             [
              0.6666666666666666,
              "#ed7953"
             ],
             [
              0.7777777777777778,
              "#fb9f3a"
             ],
             [
              0.8888888888888888,
              "#fdca26"
             ],
             [
              1,
              "#f0f921"
             ]
            ],
            "type": "histogram2dcontour"
           }
          ],
          "mesh3d": [
           {
            "colorbar": {
             "outlinewidth": 0,
             "ticks": ""
            },
            "type": "mesh3d"
           }
          ],
          "parcoords": [
           {
            "line": {
             "colorbar": {
              "outlinewidth": 0,
              "ticks": ""
             }
            },
            "type": "parcoords"
           }
          ],
          "pie": [
           {
            "automargin": true,
            "type": "pie"
           }
          ],
          "scatter": [
           {
            "marker": {
             "colorbar": {
              "outlinewidth": 0,
              "ticks": ""
             }
            },
            "type": "scatter"
           }
          ],
          "scatter3d": [
           {
            "line": {
             "colorbar": {
              "outlinewidth": 0,
              "ticks": ""
             }
            },
            "marker": {
             "colorbar": {
              "outlinewidth": 0,
              "ticks": ""
             }
            },
            "type": "scatter3d"
           }
          ],
          "scattercarpet": [
           {
            "marker": {
             "colorbar": {
              "outlinewidth": 0,
              "ticks": ""
             }
            },
            "type": "scattercarpet"
           }
          ],
          "scattergeo": [
           {
            "marker": {
             "colorbar": {
              "outlinewidth": 0,
              "ticks": ""
             }
            },
            "type": "scattergeo"
           }
          ],
          "scattergl": [
           {
            "marker": {
             "colorbar": {
              "outlinewidth": 0,
              "ticks": ""
             }
            },
            "type": "scattergl"
           }
          ],
          "scattermapbox": [
           {
            "marker": {
             "colorbar": {
              "outlinewidth": 0,
              "ticks": ""
             }
            },
            "type": "scattermapbox"
           }
          ],
          "scatterpolar": [
           {
            "marker": {
             "colorbar": {
              "outlinewidth": 0,
              "ticks": ""
             }
            },
            "type": "scatterpolar"
           }
          ],
          "scatterpolargl": [
           {
            "marker": {
             "colorbar": {
              "outlinewidth": 0,
              "ticks": ""
             }
            },
            "type": "scatterpolargl"
           }
          ],
          "scatterternary": [
           {
            "marker": {
             "colorbar": {
              "outlinewidth": 0,
              "ticks": ""
             }
            },
            "type": "scatterternary"
           }
          ],
          "surface": [
           {
            "colorbar": {
             "outlinewidth": 0,
             "ticks": ""
            },
            "colorscale": [
             [
              0,
              "#0d0887"
             ],
             [
              0.1111111111111111,
              "#46039f"
             ],
             [
              0.2222222222222222,
              "#7201a8"
             ],
             [
              0.3333333333333333,
              "#9c179e"
             ],
             [
              0.4444444444444444,
              "#bd3786"
             ],
             [
              0.5555555555555556,
              "#d8576b"
             ],
             [
              0.6666666666666666,
              "#ed7953"
             ],
             [
              0.7777777777777778,
              "#fb9f3a"
             ],
             [
              0.8888888888888888,
              "#fdca26"
             ],
             [
              1,
              "#f0f921"
             ]
            ],
            "type": "surface"
           }
          ],
          "table": [
           {
            "cells": {
             "fill": {
              "color": "#EBF0F8"
             },
             "line": {
              "color": "white"
             }
            },
            "header": {
             "fill": {
              "color": "#C8D4E3"
             },
             "line": {
              "color": "white"
             }
            },
            "type": "table"
           }
          ]
         },
         "layout": {
          "annotationdefaults": {
           "arrowcolor": "#2a3f5f",
           "arrowhead": 0,
           "arrowwidth": 1
          },
          "autotypenumbers": "strict",
          "coloraxis": {
           "colorbar": {
            "outlinewidth": 0,
            "ticks": ""
           }
          },
          "colorscale": {
           "diverging": [
            [
             0,
             "#8e0152"
            ],
            [
             0.1,
             "#c51b7d"
            ],
            [
             0.2,
             "#de77ae"
            ],
            [
             0.3,
             "#f1b6da"
            ],
            [
             0.4,
             "#fde0ef"
            ],
            [
             0.5,
             "#f7f7f7"
            ],
            [
             0.6,
             "#e6f5d0"
            ],
            [
             0.7,
             "#b8e186"
            ],
            [
             0.8,
             "#7fbc41"
            ],
            [
             0.9,
             "#4d9221"
            ],
            [
             1,
             "#276419"
            ]
           ],
           "sequential": [
            [
             0,
             "#0d0887"
            ],
            [
             0.1111111111111111,
             "#46039f"
            ],
            [
             0.2222222222222222,
             "#7201a8"
            ],
            [
             0.3333333333333333,
             "#9c179e"
            ],
            [
             0.4444444444444444,
             "#bd3786"
            ],
            [
             0.5555555555555556,
             "#d8576b"
            ],
            [
             0.6666666666666666,
             "#ed7953"
            ],
            [
             0.7777777777777778,
             "#fb9f3a"
            ],
            [
             0.8888888888888888,
             "#fdca26"
            ],
            [
             1,
             "#f0f921"
            ]
           ],
           "sequentialminus": [
            [
             0,
             "#0d0887"
            ],
            [
             0.1111111111111111,
             "#46039f"
            ],
            [
             0.2222222222222222,
             "#7201a8"
            ],
            [
             0.3333333333333333,
             "#9c179e"
            ],
            [
             0.4444444444444444,
             "#bd3786"
            ],
            [
             0.5555555555555556,
             "#d8576b"
            ],
            [
             0.6666666666666666,
             "#ed7953"
            ],
            [
             0.7777777777777778,
             "#fb9f3a"
            ],
            [
             0.8888888888888888,
             "#fdca26"
            ],
            [
             1,
             "#f0f921"
            ]
           ]
          },
          "colorway": [
           "#636efa",
           "#EF553B",
           "#00cc96",
           "#ab63fa",
           "#FFA15A",
           "#19d3f3",
           "#FF6692",
           "#B6E880",
           "#FF97FF",
           "#FECB52"
          ],
          "font": {
           "color": "#2a3f5f"
          },
          "geo": {
           "bgcolor": "white",
           "lakecolor": "white",
           "landcolor": "#E5ECF6",
           "showlakes": true,
           "showland": true,
           "subunitcolor": "white"
          },
          "hoverlabel": {
           "align": "left"
          },
          "hovermode": "closest",
          "mapbox": {
           "style": "light"
          },
          "paper_bgcolor": "white",
          "plot_bgcolor": "#E5ECF6",
          "polar": {
           "angularaxis": {
            "gridcolor": "white",
            "linecolor": "white",
            "ticks": ""
           },
           "bgcolor": "#E5ECF6",
           "radialaxis": {
            "gridcolor": "white",
            "linecolor": "white",
            "ticks": ""
           }
          },
          "scene": {
           "xaxis": {
            "backgroundcolor": "#E5ECF6",
            "gridcolor": "white",
            "gridwidth": 2,
            "linecolor": "white",
            "showbackground": true,
            "ticks": "",
            "zerolinecolor": "white"
           },
           "yaxis": {
            "backgroundcolor": "#E5ECF6",
            "gridcolor": "white",
            "gridwidth": 2,
            "linecolor": "white",
            "showbackground": true,
            "ticks": "",
            "zerolinecolor": "white"
           },
           "zaxis": {
            "backgroundcolor": "#E5ECF6",
            "gridcolor": "white",
            "gridwidth": 2,
            "linecolor": "white",
            "showbackground": true,
            "ticks": "",
            "zerolinecolor": "white"
           }
          },
          "shapedefaults": {
           "line": {
            "color": "#2a3f5f"
           }
          },
          "ternary": {
           "aaxis": {
            "gridcolor": "white",
            "linecolor": "white",
            "ticks": ""
           },
           "baxis": {
            "gridcolor": "white",
            "linecolor": "white",
            "ticks": ""
           },
           "bgcolor": "#E5ECF6",
           "caxis": {
            "gridcolor": "white",
            "linecolor": "white",
            "ticks": ""
           }
          },
          "title": {
           "x": 0.05
          },
          "xaxis": {
           "automargin": true,
           "gridcolor": "white",
           "linecolor": "white",
           "ticks": "",
           "title": {
            "standoff": 15
           },
           "zerolinecolor": "white",
           "zerolinewidth": 2
          },
          "yaxis": {
           "automargin": true,
           "gridcolor": "white",
           "linecolor": "white",
           "ticks": "",
           "title": {
            "standoff": 15
           },
           "zerolinecolor": "white",
           "zerolinewidth": 2
          }
         }
        },
        "xaxis": {
         "anchor": "y",
         "domain": [
          0,
          1
         ],
         "title": {
          "text": "x"
         }
        },
        "yaxis": {
         "anchor": "x",
         "domain": [
          0,
          1
         ],
         "title": {
          "text": "y"
         }
        }
       }
      }
     },
     "metadata": {}
    }
   ],
   "metadata": {}
  },
  {
   "cell_type": "code",
   "execution_count": 79,
   "source": [
    "stats.kruskal(errMoe, errLstm)"
   ],
   "outputs": [
    {
     "output_type": "execute_result",
     "data": {
      "text/plain": [
       "KruskalResult(statistic=277.0583096590908, pvalue=3.2858923007027716e-62)"
      ]
     },
     "metadata": {},
     "execution_count": 79
    }
   ],
   "metadata": {}
  },
  {
   "cell_type": "code",
   "execution_count": 76,
   "source": [
    "fig = go.Figure()\r\n",
    "fig.add_trace(go.Scatter(x=np.arange(192), y=ae_results[0][\"recon_error\"], name=\"AE\"))\r\n",
    "fig.add_trace(go.Scatter(x=np.arange(192), y=errMoe, name=\"MoE\"))\r\n",
    "fig.add_trace(go.Scatter(x=np.arange(192), y=errLstm, name=\"LSTM\"))\r\n",
    "fig.show()"
   ],
   "outputs": [
    {
     "output_type": "display_data",
     "data": {
      "application/vnd.plotly.v1+json": {
       "config": {
        "plotlyServerURL": "https://plot.ly"
       },
       "data": [
        {
         "name": "AE",
         "type": "scatter",
         "x": [
          0,
          1,
          2,
          3,
          4,
          5,
          6,
          7,
          8,
          9,
          10,
          11,
          12,
          13,
          14,
          15,
          16,
          17,
          18,
          19,
          20,
          21,
          22,
          23,
          24,
          25,
          26,
          27,
          28,
          29,
          30,
          31,
          32,
          33,
          34,
          35,
          36,
          37,
          38,
          39,
          40,
          41,
          42,
          43,
          44,
          45,
          46,
          47,
          48,
          49,
          50,
          51,
          52,
          53,
          54,
          55,
          56,
          57,
          58,
          59,
          60,
          61,
          62,
          63,
          64,
          65,
          66,
          67,
          68,
          69,
          70,
          71,
          72,
          73,
          74,
          75,
          76,
          77,
          78,
          79,
          80,
          81,
          82,
          83,
          84,
          85,
          86,
          87,
          88,
          89,
          90,
          91,
          92,
          93,
          94,
          95,
          96,
          97,
          98,
          99,
          100,
          101,
          102,
          103,
          104,
          105,
          106,
          107,
          108,
          109,
          110,
          111,
          112,
          113,
          114,
          115,
          116,
          117,
          118,
          119,
          120,
          121,
          122,
          123,
          124,
          125,
          126,
          127,
          128,
          129,
          130,
          131,
          132,
          133,
          134,
          135,
          136,
          137,
          138,
          139,
          140,
          141,
          142,
          143,
          144,
          145,
          146,
          147,
          148,
          149,
          150,
          151,
          152,
          153,
          154,
          155,
          156,
          157,
          158,
          159,
          160,
          161,
          162,
          163,
          164,
          165,
          166,
          167,
          168,
          169,
          170,
          171,
          172,
          173,
          174,
          175,
          176,
          177,
          178,
          179,
          180,
          181,
          182,
          183,
          184,
          185,
          186,
          187,
          188,
          189,
          190,
          191
         ],
         "y": [
          0.2819324731826782,
          0.27972134947776794,
          0.2905154228210449,
          0.24347566068172455,
          0.2887599766254425,
          0.2954130470752716,
          0.2849981486797333,
          0.2956545054912567,
          0.2871462106704712,
          0.2692846655845642,
          0.2812340259552002,
          0.22915734350681305,
          0.26825642585754395,
          0.2522382438182831,
          0.2689647078514099,
          0.23287610709667206,
          0.23991048336029053,
          0.26372694969177246,
          0.17732375860214233,
          0.27109840512275696,
          0.2563556730747223,
          0.29935210943222046,
          0.2328118532896042,
          0.24993404746055603,
          0.28884896636009216,
          0.24947679042816162,
          0.2550663650035858,
          0.2413385957479477,
          0.30280420184135437,
          0.27978214621543884,
          0.30259478092193604,
          0.2892429232597351,
          0.3000178933143616,
          0.2870181202888489,
          0.2444947510957718,
          0.24399171769618988,
          0.29156753420829773,
          0.25566157698631287,
          0.22267206013202667,
          0.27571091055870056,
          0.2834804654121399,
          0.2776261866092682,
          0.252157986164093,
          0.2737734019756317,
          0.28666916489601135,
          0.2511316239833832,
          0.2898328900337219,
          0.23695988953113556,
          0.30061498284339905,
          0.2947023808956146,
          0.2839796543121338,
          0.27911341190338135,
          0.24732515215873718,
          0.2904236316680908,
          0.25826194882392883,
          0.3023429811000824,
          0.2055485099554062,
          0.22008219361305237,
          0.29619327187538147,
          0.24506425857543945,
          0.3055149018764496,
          0.29827073216438293,
          0.25135791301727295,
          0.2974523901939392,
          0.2647404670715332,
          0.23966795206069946,
          0.3044687509536743,
          0.2550120949745178,
          0.293275386095047,
          0.2553749978542328,
          0.2781469225883484,
          0.2561300992965698,
          0.2710447609424591,
          0.26774531602859497,
          0.274740606546402,
          0.2117665559053421,
          0.1763083040714264,
          0.3056260943412781,
          0.24198658764362335,
          0.311398446559906,
          0.2585109770298004,
          0.27539166808128357,
          0.26610055565834045,
          0.23060959577560425,
          0.2493886500597,
          0.2801996171474457,
          0.28889551758766174,
          0.2819238603115082,
          0.27705127000808716,
          0.30797263979911804,
          0.24764829874038696,
          0.26610130071640015,
          0.25290167331695557,
          0.23646481335163116,
          0.27227428555488586,
          0.2618843615055084,
          0.24437996745109558,
          0.24953769147396088,
          0.2975241243839264,
          0.2946523427963257,
          0.24268686771392822,
          0.24635332822799683,
          0.2813318371772766,
          0.2369823306798935,
          0.29441335797309875,
          0.2902008295059204,
          0.266774445772171,
          0.2664381265640259,
          0.2307247668504715,
          0.21980756521224976,
          0.2631604075431824,
          0.25728121399879456,
          0.2259068340063095,
          0.22612734138965607,
          0.25624367594718933,
          0.20072633028030396,
          0.2752283811569214,
          0.2680356204509735,
          0.2830265760421753,
          0.28779906034469604,
          0.2872071862220764,
          0.25736090540885925,
          0.23056627810001373,
          0.26663437485694885,
          0.24843347072601318,
          0.23769177496433258,
          0.2713877260684967,
          0.2439337968826294,
          0.3101145327091217,
          0.30297553539276123,
          0.20894531905651093,
          0.25744736194610596,
          0.25203290581703186,
          0.2951323688030243,
          0.2557659447193146,
          0.23177553713321686,
          0.2828393876552582,
          0.22376999258995056,
          0.2957996129989624,
          0.21378342807292938,
          0.18738621473312378,
          0.24042963981628418,
          0.2144249975681305,
          0.2116343379020691,
          0.23997530341148376,
          0.24874205887317657,
          0.2509002685546875,
          0.28216418623924255,
          0.30026715993881226,
          0.2929169237613678,
          0.284994512796402,
          0.25475677847862244,
          0.25728467106819153,
          0.29595035314559937,
          0.2696239948272705,
          0.2696126699447632,
          0.24156633019447327,
          0.28979501128196716,
          0.24150903522968292,
          0.2776797413825989,
          0.28863102197647095,
          0.2798789441585541,
          0.261081725358963,
          0.2675199508666992,
          0.27863362431526184,
          0.24579700827598572,
          0.29242315888404846,
          0.2439068704843521,
          0.24507290124893188,
          0.2989937961101532,
          0.29759305715560913,
          0.2636786699295044,
          0.2485654056072235,
          0.22992950677871704,
          0.27728134393692017,
          0.24398599565029144,
          0.27133268117904663,
          0.2560635507106781,
          0.23931171000003815,
          0.27945470809936523,
          0.2716224193572998,
          0.26496922969818115,
          0.2582235336303711,
          0.256978303194046,
          0.2638932764530182,
          0.296735018491745,
          0.2760557532310486,
          0.29816335439682007,
          0.22440782189369202,
          0.28573375940322876,
          0.2913598418235779,
          0.24476853013038635
         ]
        },
        {
         "name": "MoE",
         "type": "scatter",
         "x": [
          0,
          1,
          2,
          3,
          4,
          5,
          6,
          7,
          8,
          9,
          10,
          11,
          12,
          13,
          14,
          15,
          16,
          17,
          18,
          19,
          20,
          21,
          22,
          23,
          24,
          25,
          26,
          27,
          28,
          29,
          30,
          31,
          32,
          33,
          34,
          35,
          36,
          37,
          38,
          39,
          40,
          41,
          42,
          43,
          44,
          45,
          46,
          47,
          48,
          49,
          50,
          51,
          52,
          53,
          54,
          55,
          56,
          57,
          58,
          59,
          60,
          61,
          62,
          63,
          64,
          65,
          66,
          67,
          68,
          69,
          70,
          71,
          72,
          73,
          74,
          75,
          76,
          77,
          78,
          79,
          80,
          81,
          82,
          83,
          84,
          85,
          86,
          87,
          88,
          89,
          90,
          91,
          92,
          93,
          94,
          95,
          96,
          97,
          98,
          99,
          100,
          101,
          102,
          103,
          104,
          105,
          106,
          107,
          108,
          109,
          110,
          111,
          112,
          113,
          114,
          115,
          116,
          117,
          118,
          119,
          120,
          121,
          122,
          123,
          124,
          125,
          126,
          127,
          128,
          129,
          130,
          131,
          132,
          133,
          134,
          135,
          136,
          137,
          138,
          139,
          140,
          141,
          142,
          143,
          144,
          145,
          146,
          147,
          148,
          149,
          150,
          151,
          152,
          153,
          154,
          155,
          156,
          157,
          158,
          159,
          160,
          161,
          162,
          163,
          164,
          165,
          166,
          167,
          168,
          169,
          170,
          171,
          172,
          173,
          174,
          175,
          176,
          177,
          178,
          179,
          180,
          181,
          182,
          183,
          184,
          185,
          186,
          187,
          188,
          189,
          190,
          191
         ],
         "y": [
          0.011075055226683617,
          0.01987055502831936,
          0.013682314194738865,
          0.018549347296357155,
          0.00842801108956337,
          0.01111856009811163,
          0.02024671994149685,
          0.016597047448158264,
          0.011161856353282928,
          0.018886512145400047,
          0.018740689381957054,
          0.02049070969223976,
          0.021890856325626373,
          0.026791615411639214,
          0.01121654361486435,
          0.014432796277105808,
          0.019252873957157135,
          0.020905736833810806,
          0.04203876480460167,
          0.01036028191447258,
          0.010655375197529793,
          0.010599851608276367,
          0.026814043521881104,
          0.01844959147274494,
          0.014486796222627163,
          0.01190501730889082,
          0.017577577382326126,
          0.02497771382331848,
          0.011130896396934986,
          0.011956433765590191,
          0.018406707793474197,
          0.011248105205595493,
          0.016464615240693092,
          0.009947161190211773,
          0.019453678280115128,
          0.009486284106969833,
          0.014317458495497704,
          0.019962847232818604,
          0.026405859738588333,
          0.014289190992712975,
          0.010436813347041607,
          0.02107904851436615,
          0.025268850848078728,
          0.010568002238869667,
          0.011675694026052952,
          0.018785446882247925,
          0.021769240498542786,
          0.01890009082853794,
          0.014979253523051739,
          0.00964292697608471,
          0.013277143239974976,
          0.017734207212924957,
          0.018799517303705215,
          0.010816287249326706,
          0.024223115295171738,
          0.01274582464247942,
          0.028151893988251686,
          0.021492110565304756,
          0.01103519182652235,
          0.01993166096508503,
          0.011617175303399563,
          0.012038001790642738,
          0.026954110711812973,
          0.010849999263882637,
          0.021430466324090958,
          0.013341921381652355,
          0.007923717610538006,
          0.023542609065771103,
          0.019984280690550804,
          0.021125411614775658,
          0.01164462510496378,
          0.018512114882469177,
          0.019075149670243263,
          0.017167700454592705,
          0.01817435398697853,
          0.02311425469815731,
          0.04236464574933052,
          0.008910075761377811,
          0.023718945682048798,
          0.009734736755490303,
          0.017524173483252525,
          0.017508162185549736,
          0.010610953904688358,
          0.028617896139621735,
          0.012037772685289383,
          0.01556430384516716,
          0.014917745254933834,
          0.017574995756149292,
          0.024022473022341728,
          0.011897592805325985,
          0.01691075786948204,
          0.019229162484407425,
          0.022676322609186172,
          0.016709867864847183,
          0.01840636506676674,
          0.020866848528385162,
          0.01827903464436531,
          0.012840081937611103,
          0.014433171600103378,
          0.011737873777747154,
          0.016104448586702347,
          0.021630415692925453,
          0.016904855147004128,
          0.018737806007266045,
          0.011220722459256649,
          0.009107282385230064,
          0.0176947433501482,
          0.02279830537736416,
          0.035875365138053894,
          0.026676468551158905,
          0.012359567917883396,
          0.015751268714666367,
          0.012472533620893955,
          0.030722808092832565,
          0.01990463025867939,
          0.0241776742041111,
          0.012143721804022789,
          0.027455827221274376,
          0.009884835220873356,
          0.008274496532976627,
          0.009762445464730263,
          0.016411561518907547,
          0.015835773199796677,
          0.01830965280532837,
          0.012407955713570118,
          0.025284409523010254,
          0.011760756373405457,
          0.017207182943820953,
          0.010899531655013561,
          0.00972912460565567,
          0.02443351037800312,
          0.017584562301635742,
          0.022036468610167503,
          0.01790609210729599,
          0.014465255662798882,
          0.02934279292821884,
          0.013046528212726116,
          0.031566571444272995,
          0.012988616712391376,
          0.017056645825505257,
          0.0269283726811409,
          0.022859087213873863,
          0.024947335943579674,
          0.016561999917030334,
          0.01046996284276247,
          0.018256379291415215,
          0.02283529005944729,
          0.016442719846963882,
          0.011417906731367111,
          0.019078154116868973,
          0.013138694688677788,
          0.018042517825961113,
          0.011270999908447266,
          0.0119119668379426,
          0.012912999838590622,
          0.017000269144773483,
          0.02988639660179615,
          0.01056714914739132,
          0.018660346046090126,
          0.02035505138337612,
          0.011121105402708054,
          0.015407081693410873,
          0.017656268551945686,
          0.015677032992243767,
          0.011909641325473785,
          0.02171095833182335,
          0.010632360354065895,
          0.01699034497141838,
          0.014460799284279346,
          0.012921048328280449,
          0.013917465694248676,
          0.016334690153598785,
          0.023448223248124123,
          0.012078341096639633,
          0.019863644614815712,
          0.015342925675213337,
          0.015081088989973068,
          0.012432605028152466,
          0.018999818712472916,
          0.017528695985674858,
          0.016280299052596092,
          0.018071305006742477,
          0.014244946651160717,
          0.01922280341386795,
          0.018589386716485023,
          0.015720779076218605,
          0.014191855676472187,
          0.015104708261787891,
          0.02238653413951397,
          0.012902265414595604,
          0.01221636775881052,
          0.03512410447001457
         ]
        },
        {
         "name": "LSTM",
         "type": "scatter",
         "x": [
          0,
          1,
          2,
          3,
          4,
          5,
          6,
          7,
          8,
          9,
          10,
          11,
          12,
          13,
          14,
          15,
          16,
          17,
          18,
          19,
          20,
          21,
          22,
          23,
          24,
          25,
          26,
          27,
          28,
          29,
          30,
          31,
          32,
          33,
          34,
          35,
          36,
          37,
          38,
          39,
          40,
          41,
          42,
          43,
          44,
          45,
          46,
          47,
          48,
          49,
          50,
          51,
          52,
          53,
          54,
          55,
          56,
          57,
          58,
          59,
          60,
          61,
          62,
          63,
          64,
          65,
          66,
          67,
          68,
          69,
          70,
          71,
          72,
          73,
          74,
          75,
          76,
          77,
          78,
          79,
          80,
          81,
          82,
          83,
          84,
          85,
          86,
          87,
          88,
          89,
          90,
          91,
          92,
          93,
          94,
          95,
          96,
          97,
          98,
          99,
          100,
          101,
          102,
          103,
          104,
          105,
          106,
          107,
          108,
          109,
          110,
          111,
          112,
          113,
          114,
          115,
          116,
          117,
          118,
          119,
          120,
          121,
          122,
          123,
          124,
          125,
          126,
          127,
          128,
          129,
          130,
          131,
          132,
          133,
          134,
          135,
          136,
          137,
          138,
          139,
          140,
          141,
          142,
          143,
          144,
          145,
          146,
          147,
          148,
          149,
          150,
          151,
          152,
          153,
          154,
          155,
          156,
          157,
          158,
          159,
          160,
          161,
          162,
          163,
          164,
          165,
          166,
          167,
          168,
          169,
          170,
          171,
          172,
          173,
          174,
          175,
          176,
          177,
          178,
          179,
          180,
          181,
          182,
          183,
          184,
          185,
          186,
          187,
          188,
          189,
          190,
          191
         ],
         "y": [
          0.045928243547677994,
          0.06936043500900269,
          0.057857707142829895,
          0.06423607468605042,
          0.024996161460876465,
          0.035836879163980484,
          0.08134926110506058,
          0.047281958162784576,
          0.02977599762380123,
          0.05296287313103676,
          0.06530679762363434,
          0.07590557634830475,
          0.07377897948026657,
          0.1091781035065651,
          0.041402801871299744,
          0.05503876507282257,
          0.0723390206694603,
          0.07833008468151093,
          0.17137867212295532,
          0.030530985444784164,
          0.03044496849179268,
          0.028938623145222664,
          0.10399660468101501,
          0.07094133645296097,
          0.048666488379240036,
          0.04063527286052704,
          0.07159335911273956,
          0.11070670932531357,
          0.038702432066202164,
          0.033215589821338654,
          0.0724705383181572,
          0.03638174757361412,
          0.05414024367928505,
          0.029169591143727303,
          0.06426863372325897,
          0.03407040983438492,
          0.05671640485525131,
          0.07667893916368484,
          0.10047530382871628,
          0.055690985172986984,
          0.03515518456697464,
          0.07424969971179962,
          0.11746487021446228,
          0.042702388018369675,
          0.04821961373090744,
          0.05846849083900452,
          0.07391787320375443,
          0.077935591340065,
          0.04738697037100792,
          0.02853432670235634,
          0.05142679437994957,
          0.06354970484972,
          0.062454842031002045,
          0.039517875760793686,
          0.07260941714048386,
          0.04083972051739693,
          0.11152348667383194,
          0.09897769242525101,
          0.048698823899030685,
          0.0631425753235817,
          0.030878618359565735,
          0.03439934179186821,
          0.09729654341936111,
          0.029086284339427948,
          0.0770886018872261,
          0.04889465123414993,
          0.022731246426701546,
          0.08106683939695358,
          0.07538548111915588,
          0.07413167506456375,
          0.04610750451683998,
          0.06918207556009293,
          0.06515073031187057,
          0.06093454360961914,
          0.0633540153503418,
          0.0913706123828888,
          0.19469167292118073,
          0.02080329693853855,
          0.08990492671728134,
          0.02851487509906292,
          0.07803831994533539,
          0.06172078475356102,
          0.0388079471886158,
          0.10406627506017685,
          0.048720743507146835,
          0.04298391193151474,
          0.04723779112100601,
          0.06540153920650482,
          0.08039439469575882,
          0.042549461126327515,
          0.0793524757027626,
          0.07395286858081818,
          0.07846102863550186,
          0.06166882812976837,
          0.06299848854541779,
          0.09461981803178787,
          0.06140095368027687,
          0.053417470306158066,
          0.04195629060268402,
          0.0322444885969162,
          0.0622919462621212,
          0.07380969822406769,
          0.058866098523139954,
          0.06925876438617706,
          0.03243130072951317,
          0.028437869623303413,
          0.06762194633483887,
          0.07265175879001617,
          0.10275676846504211,
          0.11473488807678223,
          0.040826454758644104,
          0.05697879195213318,
          0.047144610434770584,
          0.1090928316116333,
          0.08981110900640488,
          0.08374342322349548,
          0.039738621562719345,
          0.08921173214912415,
          0.03417219966650009,
          0.01846727356314659,
          0.030471984297037125,
          0.05826430022716522,
          0.07218031585216522,
          0.058479826897382736,
          0.04507322609424591,
          0.0882892832159996,
          0.03415519744157791,
          0.04289403185248375,
          0.033059947192668915,
          0.03330845758318901,
          0.10412147641181946,
          0.06873007118701935,
          0.08256185799837112,
          0.06480857729911804,
          0.052123792469501495,
          0.1406523436307907,
          0.04646017402410507,
          0.11291786283254623,
          0.046866629272699356,
          0.06857889890670776,
          0.11034170538187027,
          0.08195818215608597,
          0.0932696983218193,
          0.07342461496591568,
          0.03992879390716553,
          0.0656915009021759,
          0.08348971605300903,
          0.04451046139001846,
          0.042894862592220306,
          0.05485796183347702,
          0.04709943011403084,
          0.06783833354711533,
          0.034987494349479675,
          0.042794205248355865,
          0.039600785821676254,
          0.061387259513139725,
          0.1216883584856987,
          0.040531937032938004,
          0.06447074562311172,
          0.0851234719157219,
          0.04809730872511864,
          0.06060400605201721,
          0.06357453018426895,
          0.06668872386217117,
          0.03364202752709389,
          0.07417701184749603,
          0.03724325820803642,
          0.06534057855606079,
          0.06956800073385239,
          0.034925978630781174,
          0.05174184590578079,
          0.05443922057747841,
          0.07939201593399048,
          0.04659801349043846,
          0.0641903206706047,
          0.049556393176317215,
          0.06266134232282639,
          0.05572551116347313,
          0.06304462999105453,
          0.06604456156492233,
          0.06382708251476288,
          0.06679672747850418,
          0.06246970221400261,
          0.07114781439304352,
          0.08325416594743729,
          0.051878202706575394,
          0.052881158888339996,
          0.0451931357383728,
          0.10401332378387451,
          0.044517554342746735,
          0.04927021637558937,
          0.15772852301597595
         ]
        }
       ],
       "layout": {
        "template": {
         "data": {
          "bar": [
           {
            "error_x": {
             "color": "#2a3f5f"
            },
            "error_y": {
             "color": "#2a3f5f"
            },
            "marker": {
             "line": {
              "color": "#E5ECF6",
              "width": 0.5
             },
             "pattern": {
              "fillmode": "overlay",
              "size": 10,
              "solidity": 0.2
             }
            },
            "type": "bar"
           }
          ],
          "barpolar": [
           {
            "marker": {
             "line": {
              "color": "#E5ECF6",
              "width": 0.5
             },
             "pattern": {
              "fillmode": "overlay",
              "size": 10,
              "solidity": 0.2
             }
            },
            "type": "barpolar"
           }
          ],
          "carpet": [
           {
            "aaxis": {
             "endlinecolor": "#2a3f5f",
             "gridcolor": "white",
             "linecolor": "white",
             "minorgridcolor": "white",
             "startlinecolor": "#2a3f5f"
            },
            "baxis": {
             "endlinecolor": "#2a3f5f",
             "gridcolor": "white",
             "linecolor": "white",
             "minorgridcolor": "white",
             "startlinecolor": "#2a3f5f"
            },
            "type": "carpet"
           }
          ],
          "choropleth": [
           {
            "colorbar": {
             "outlinewidth": 0,
             "ticks": ""
            },
            "type": "choropleth"
           }
          ],
          "contour": [
           {
            "colorbar": {
             "outlinewidth": 0,
             "ticks": ""
            },
            "colorscale": [
             [
              0,
              "#0d0887"
             ],
             [
              0.1111111111111111,
              "#46039f"
             ],
             [
              0.2222222222222222,
              "#7201a8"
             ],
             [
              0.3333333333333333,
              "#9c179e"
             ],
             [
              0.4444444444444444,
              "#bd3786"
             ],
             [
              0.5555555555555556,
              "#d8576b"
             ],
             [
              0.6666666666666666,
              "#ed7953"
             ],
             [
              0.7777777777777778,
              "#fb9f3a"
             ],
             [
              0.8888888888888888,
              "#fdca26"
             ],
             [
              1,
              "#f0f921"
             ]
            ],
            "type": "contour"
           }
          ],
          "contourcarpet": [
           {
            "colorbar": {
             "outlinewidth": 0,
             "ticks": ""
            },
            "type": "contourcarpet"
           }
          ],
          "heatmap": [
           {
            "colorbar": {
             "outlinewidth": 0,
             "ticks": ""
            },
            "colorscale": [
             [
              0,
              "#0d0887"
             ],
             [
              0.1111111111111111,
              "#46039f"
             ],
             [
              0.2222222222222222,
              "#7201a8"
             ],
             [
              0.3333333333333333,
              "#9c179e"
             ],
             [
              0.4444444444444444,
              "#bd3786"
             ],
             [
              0.5555555555555556,
              "#d8576b"
             ],
             [
              0.6666666666666666,
              "#ed7953"
             ],
             [
              0.7777777777777778,
              "#fb9f3a"
             ],
             [
              0.8888888888888888,
              "#fdca26"
             ],
             [
              1,
              "#f0f921"
             ]
            ],
            "type": "heatmap"
           }
          ],
          "heatmapgl": [
           {
            "colorbar": {
             "outlinewidth": 0,
             "ticks": ""
            },
            "colorscale": [
             [
              0,
              "#0d0887"
             ],
             [
              0.1111111111111111,
              "#46039f"
             ],
             [
              0.2222222222222222,
              "#7201a8"
             ],
             [
              0.3333333333333333,
              "#9c179e"
             ],
             [
              0.4444444444444444,
              "#bd3786"
             ],
             [
              0.5555555555555556,
              "#d8576b"
             ],
             [
              0.6666666666666666,
              "#ed7953"
             ],
             [
              0.7777777777777778,
              "#fb9f3a"
             ],
             [
              0.8888888888888888,
              "#fdca26"
             ],
             [
              1,
              "#f0f921"
             ]
            ],
            "type": "heatmapgl"
           }
          ],
          "histogram": [
           {
            "marker": {
             "pattern": {
              "fillmode": "overlay",
              "size": 10,
              "solidity": 0.2
             }
            },
            "type": "histogram"
           }
          ],
          "histogram2d": [
           {
            "colorbar": {
             "outlinewidth": 0,
             "ticks": ""
            },
            "colorscale": [
             [
              0,
              "#0d0887"
             ],
             [
              0.1111111111111111,
              "#46039f"
             ],
             [
              0.2222222222222222,
              "#7201a8"
             ],
             [
              0.3333333333333333,
              "#9c179e"
             ],
             [
              0.4444444444444444,
              "#bd3786"
             ],
             [
              0.5555555555555556,
              "#d8576b"
             ],
             [
              0.6666666666666666,
              "#ed7953"
             ],
             [
              0.7777777777777778,
              "#fb9f3a"
             ],
             [
              0.8888888888888888,
              "#fdca26"
             ],
             [
              1,
              "#f0f921"
             ]
            ],
            "type": "histogram2d"
           }
          ],
          "histogram2dcontour": [
           {
            "colorbar": {
             "outlinewidth": 0,
             "ticks": ""
            },
            "colorscale": [
             [
              0,
              "#0d0887"
             ],
             [
              0.1111111111111111,
              "#46039f"
             ],
             [
              0.2222222222222222,
              "#7201a8"
             ],
             [
              0.3333333333333333,
              "#9c179e"
             ],
             [
              0.4444444444444444,
              "#bd3786"
             ],
             [
              0.5555555555555556,
              "#d8576b"
             ],
             [
              0.6666666666666666,
              "#ed7953"
             ],
             [
              0.7777777777777778,
              "#fb9f3a"
             ],
             [
              0.8888888888888888,
              "#fdca26"
             ],
             [
              1,
              "#f0f921"
             ]
            ],
            "type": "histogram2dcontour"
           }
          ],
          "mesh3d": [
           {
            "colorbar": {
             "outlinewidth": 0,
             "ticks": ""
            },
            "type": "mesh3d"
           }
          ],
          "parcoords": [
           {
            "line": {
             "colorbar": {
              "outlinewidth": 0,
              "ticks": ""
             }
            },
            "type": "parcoords"
           }
          ],
          "pie": [
           {
            "automargin": true,
            "type": "pie"
           }
          ],
          "scatter": [
           {
            "marker": {
             "colorbar": {
              "outlinewidth": 0,
              "ticks": ""
             }
            },
            "type": "scatter"
           }
          ],
          "scatter3d": [
           {
            "line": {
             "colorbar": {
              "outlinewidth": 0,
              "ticks": ""
             }
            },
            "marker": {
             "colorbar": {
              "outlinewidth": 0,
              "ticks": ""
             }
            },
            "type": "scatter3d"
           }
          ],
          "scattercarpet": [
           {
            "marker": {
             "colorbar": {
              "outlinewidth": 0,
              "ticks": ""
             }
            },
            "type": "scattercarpet"
           }
          ],
          "scattergeo": [
           {
            "marker": {
             "colorbar": {
              "outlinewidth": 0,
              "ticks": ""
             }
            },
            "type": "scattergeo"
           }
          ],
          "scattergl": [
           {
            "marker": {
             "colorbar": {
              "outlinewidth": 0,
              "ticks": ""
             }
            },
            "type": "scattergl"
           }
          ],
          "scattermapbox": [
           {
            "marker": {
             "colorbar": {
              "outlinewidth": 0,
              "ticks": ""
             }
            },
            "type": "scattermapbox"
           }
          ],
          "scatterpolar": [
           {
            "marker": {
             "colorbar": {
              "outlinewidth": 0,
              "ticks": ""
             }
            },
            "type": "scatterpolar"
           }
          ],
          "scatterpolargl": [
           {
            "marker": {
             "colorbar": {
              "outlinewidth": 0,
              "ticks": ""
             }
            },
            "type": "scatterpolargl"
           }
          ],
          "scatterternary": [
           {
            "marker": {
             "colorbar": {
              "outlinewidth": 0,
              "ticks": ""
             }
            },
            "type": "scatterternary"
           }
          ],
          "surface": [
           {
            "colorbar": {
             "outlinewidth": 0,
             "ticks": ""
            },
            "colorscale": [
             [
              0,
              "#0d0887"
             ],
             [
              0.1111111111111111,
              "#46039f"
             ],
             [
              0.2222222222222222,
              "#7201a8"
             ],
             [
              0.3333333333333333,
              "#9c179e"
             ],
             [
              0.4444444444444444,
              "#bd3786"
             ],
             [
              0.5555555555555556,
              "#d8576b"
             ],
             [
              0.6666666666666666,
              "#ed7953"
             ],
             [
              0.7777777777777778,
              "#fb9f3a"
             ],
             [
              0.8888888888888888,
              "#fdca26"
             ],
             [
              1,
              "#f0f921"
             ]
            ],
            "type": "surface"
           }
          ],
          "table": [
           {
            "cells": {
             "fill": {
              "color": "#EBF0F8"
             },
             "line": {
              "color": "white"
             }
            },
            "header": {
             "fill": {
              "color": "#C8D4E3"
             },
             "line": {
              "color": "white"
             }
            },
            "type": "table"
           }
          ]
         },
         "layout": {
          "annotationdefaults": {
           "arrowcolor": "#2a3f5f",
           "arrowhead": 0,
           "arrowwidth": 1
          },
          "autotypenumbers": "strict",
          "coloraxis": {
           "colorbar": {
            "outlinewidth": 0,
            "ticks": ""
           }
          },
          "colorscale": {
           "diverging": [
            [
             0,
             "#8e0152"
            ],
            [
             0.1,
             "#c51b7d"
            ],
            [
             0.2,
             "#de77ae"
            ],
            [
             0.3,
             "#f1b6da"
            ],
            [
             0.4,
             "#fde0ef"
            ],
            [
             0.5,
             "#f7f7f7"
            ],
            [
             0.6,
             "#e6f5d0"
            ],
            [
             0.7,
             "#b8e186"
            ],
            [
             0.8,
             "#7fbc41"
            ],
            [
             0.9,
             "#4d9221"
            ],
            [
             1,
             "#276419"
            ]
           ],
           "sequential": [
            [
             0,
             "#0d0887"
            ],
            [
             0.1111111111111111,
             "#46039f"
            ],
            [
             0.2222222222222222,
             "#7201a8"
            ],
            [
             0.3333333333333333,
             "#9c179e"
            ],
            [
             0.4444444444444444,
             "#bd3786"
            ],
            [
             0.5555555555555556,
             "#d8576b"
            ],
            [
             0.6666666666666666,
             "#ed7953"
            ],
            [
             0.7777777777777778,
             "#fb9f3a"
            ],
            [
             0.8888888888888888,
             "#fdca26"
            ],
            [
             1,
             "#f0f921"
            ]
           ],
           "sequentialminus": [
            [
             0,
             "#0d0887"
            ],
            [
             0.1111111111111111,
             "#46039f"
            ],
            [
             0.2222222222222222,
             "#7201a8"
            ],
            [
             0.3333333333333333,
             "#9c179e"
            ],
            [
             0.4444444444444444,
             "#bd3786"
            ],
            [
             0.5555555555555556,
             "#d8576b"
            ],
            [
             0.6666666666666666,
             "#ed7953"
            ],
            [
             0.7777777777777778,
             "#fb9f3a"
            ],
            [
             0.8888888888888888,
             "#fdca26"
            ],
            [
             1,
             "#f0f921"
            ]
           ]
          },
          "colorway": [
           "#636efa",
           "#EF553B",
           "#00cc96",
           "#ab63fa",
           "#FFA15A",
           "#19d3f3",
           "#FF6692",
           "#B6E880",
           "#FF97FF",
           "#FECB52"
          ],
          "font": {
           "color": "#2a3f5f"
          },
          "geo": {
           "bgcolor": "white",
           "lakecolor": "white",
           "landcolor": "#E5ECF6",
           "showlakes": true,
           "showland": true,
           "subunitcolor": "white"
          },
          "hoverlabel": {
           "align": "left"
          },
          "hovermode": "closest",
          "mapbox": {
           "style": "light"
          },
          "paper_bgcolor": "white",
          "plot_bgcolor": "#E5ECF6",
          "polar": {
           "angularaxis": {
            "gridcolor": "white",
            "linecolor": "white",
            "ticks": ""
           },
           "bgcolor": "#E5ECF6",
           "radialaxis": {
            "gridcolor": "white",
            "linecolor": "white",
            "ticks": ""
           }
          },
          "scene": {
           "xaxis": {
            "backgroundcolor": "#E5ECF6",
            "gridcolor": "white",
            "gridwidth": 2,
            "linecolor": "white",
            "showbackground": true,
            "ticks": "",
            "zerolinecolor": "white"
           },
           "yaxis": {
            "backgroundcolor": "#E5ECF6",
            "gridcolor": "white",
            "gridwidth": 2,
            "linecolor": "white",
            "showbackground": true,
            "ticks": "",
            "zerolinecolor": "white"
           },
           "zaxis": {
            "backgroundcolor": "#E5ECF6",
            "gridcolor": "white",
            "gridwidth": 2,
            "linecolor": "white",
            "showbackground": true,
            "ticks": "",
            "zerolinecolor": "white"
           }
          },
          "shapedefaults": {
           "line": {
            "color": "#2a3f5f"
           }
          },
          "ternary": {
           "aaxis": {
            "gridcolor": "white",
            "linecolor": "white",
            "ticks": ""
           },
           "baxis": {
            "gridcolor": "white",
            "linecolor": "white",
            "ticks": ""
           },
           "bgcolor": "#E5ECF6",
           "caxis": {
            "gridcolor": "white",
            "linecolor": "white",
            "ticks": ""
           }
          },
          "title": {
           "x": 0.05
          },
          "xaxis": {
           "automargin": true,
           "gridcolor": "white",
           "linecolor": "white",
           "ticks": "",
           "title": {
            "standoff": 15
           },
           "zerolinecolor": "white",
           "zerolinewidth": 2
          },
          "yaxis": {
           "automargin": true,
           "gridcolor": "white",
           "linecolor": "white",
           "ticks": "",
           "title": {
            "standoff": 15
           },
           "zerolinecolor": "white",
           "zerolinewidth": 2
          }
         }
        }
       }
      }
     },
     "metadata": {}
    }
   ],
   "metadata": {}
  },
  {
   "cell_type": "code",
   "execution_count": 32,
   "source": [
    "trans_results = load(os.path.join(RESULT_PATH,\"transfer_results.pbz2\"))\r\n",
    "trans_dfs = load(os.path.join(RESULT_PATH,\"transfer_dfs.pbz2\"))\r\n"
   ],
   "outputs": [],
   "metadata": {}
  },
  {
   "cell_type": "code",
   "execution_count": 56,
   "source": [
    "aeRes = trans_results[0]\r\n",
    "print(len(trans_results))\r\n",
    "print(len(aeRes.keys()))\r\n",
    "print(aeRes.keys())\r\n",
    "aeMoe = aeRes[\"AE+MoE_RAW\"]\r\n",
    "print((aeMoe[\"name\"]))\r\n",
    "print((aeMoe[\"params\"]))\r\n",
    "print((aeMoe[\"mem\"]))\r\n",
    "print(len(aeMoe[\"elapsed_times\"]))\r\n",
    "print(len(aeMoe[\"recon_error\"]))\r\n",
    "print(len(aeMoe[\"rot_error\"]))\r\n",
    "print(len(aeMoe[\"delta_pos\"]))\r\n",
    "print(len(trans_dfs))"
   ],
   "outputs": [
    {
     "output_type": "stream",
     "name": "stdout",
     "text": [
      "4\n",
      "36\n",
      "dict_keys(['AE+LSTM_RAW', 'AE+MoE_RAW', 'DEC-CAT+MoE_RAW', 'DEC-IN+MoE_RAW', 'RBF-IN+LSTM_RAW', 'RBF-CAT+LSTM_RAW', 'RBF-CAT+MoE_RAW', 'RBF-IN+MoE_RAW', 'VAE-IN+LSTM_RAW', 'VAE-CAT+LSTM_RAW', 'VAE-CAT+MoE_RAW', 'VAE-IN+MoE_RAW', 'AE+LSTM_F', 'AE+LSTM_T', 'AE+MoE_F', 'AE+MoE_T', 'DEC-CAT+MoE_F', 'DEC-CAT+MoE_T', 'DEC-IN+MoE_F', 'DEC-IN+MoE_T', 'RBF-CAT+LSTM_T', 'RBF-CAT+LSTM_F', 'RBF-IN+LSTM_F', 'RBF-IN+LSTM_T', 'RBF-CAT+MoE_F', 'RBF-CAT+MoE_T', 'RBF-IN+MoE_F', 'RBF-IN+MoE_T', 'VAE-CAT+LSTM_T', 'VAE-CAT+LSTM_F', 'VAE-IN+LSTM_F', 'VAE-IN+LSTM_T', 'VAE-CAT+MoE_F', 'VAE-CAT+MoE_T', 'VAE-IN+MoE_F', 'VAE-IN+MoE_T'])\n",
      "AE_MoE_256_AE_0.10_RAW_F_R2_ZIN\n",
      "2946193\n",
      "11.784772\n",
      "807\n",
      "807\n",
      "807\n",
      "807\n",
      "4\n"
     ]
    }
   ],
   "metadata": {}
  },
  {
   "cell_type": "code",
   "execution_count": 51,
   "source": [
    "print(aeMoe[\"recon_error\"][:10])"
   ],
   "outputs": [
    {
     "output_type": "stream",
     "name": "stdout",
     "text": [
      "[tensor(0.0635), tensor(0.1379), tensor(0.0331), tensor(0.0451), tensor(0.0306), tensor(0.0651), tensor(0.1002), tensor(0.0375), tensor(0.0402), tensor(0.0471)]\n"
     ]
    }
   ],
   "metadata": {}
  },
  {
   "cell_type": "code",
   "execution_count": 52,
   "source": [
    "reduc_results = load(os.path.join(RESULT_PATH,\"transfer_results_reduc.pbz2\"))\r\n"
   ],
   "outputs": [],
   "metadata": {}
  },
  {
   "cell_type": "code",
   "execution_count": 57,
   "source": [
    "aeRes = reduc_results[0]\r\n",
    "print(len(reduc_results))\r\n",
    "print(len(aeRes.keys()))\r\n",
    "print(aeRes.keys())\r\n",
    "aeMoe = aeRes[\"AE+MoE_F\"]\r\n",
    "print((aeMoe[\"name\"]))\r\n",
    "print((aeMoe[\"params\"]))\r\n",
    "print((aeMoe[\"mem\"]))\r\n",
    "print(len(aeMoe[\"elapsed_times\"]))\r\n",
    "print(len(aeMoe[\"recon_error\"]))\r\n",
    "print(len(aeMoe[\"rot_error\"]))\r\n",
    "print(len(aeMoe[\"delta_pos\"]))"
   ],
   "outputs": [
    {
     "output_type": "stream",
     "name": "stdout",
     "text": [
      "4\n",
      "8\n",
      "dict_keys(['AE+MoE_T', 'AE+MoE_F', 'DEC-CAT+MoE_F', 'DEC-CAT+MoE_T', 'RBF-CAT+MoE_F', 'RBF-CAT+MoE_T', 'VAE-CAT+MoE_F', 'VAE-CAT+MoE_T'])\n",
      "AE_MoE_256_AE_0.12_R1_to_F_R2_ZIN_reduced\n",
      "2869393\n",
      "11.477572\n",
      "807\n",
      "807\n",
      "807\n",
      "807\n"
     ]
    }
   ],
   "metadata": {}
  }
 ],
 "metadata": {
  "orig_nbformat": 4,
  "language_info": {
   "name": "python",
   "version": "3.9.5",
   "mimetype": "text/x-python",
   "codemirror_mode": {
    "name": "ipython",
    "version": 3
   },
   "pygments_lexer": "ipython3",
   "nbconvert_exporter": "python",
   "file_extension": ".py"
  },
  "kernelspec": {
   "name": "python3",
   "display_name": "Python 3.9.5 64-bit ('base': conda)"
  },
  "interpreter": {
   "hash": "3c42b2a52d5936a0241853e54acb448ce7a20a8615ca3981a651b06cd49090fb"
  }
 },
 "nbformat": 4,
 "nbformat_minor": 2
}