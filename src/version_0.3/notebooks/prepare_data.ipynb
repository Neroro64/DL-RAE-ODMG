{
 "cells": [
  {
   "cell_type": "code",
   "execution_count": 1,
   "source": [
    "import numpy as np\r\n",
    "import pandas as pd\r\n",
    "import plotly.graph_objs as go\r\n",
    "import plotly.express as ex\r\n",
    "import bz2\r\n",
    "import torch\r\n",
    "import _pickle as pickle\r\n",
    "import scipy.stats as stats\r\n",
    "import scipy\r\n",
    "from plotly.subplots import make_subplots\r\n",
    "import plotly.io as pio\r\n",
    "import sys, os"
   ],
   "outputs": [],
   "metadata": {}
  },
  {
   "cell_type": "markdown",
   "source": [
    "# Functions and global variables"
   ],
   "metadata": {}
  },
  {
   "cell_type": "code",
   "execution_count": 2,
   "source": [
    "RESULT_PATH = \"F:/Documents/MEX/Deep-learning-based-rig-agnostic-encoding/results\"\r\n",
    "REF_SAVE_PATH = \"F:/Documents/MEX/Deep-learning-based-rig-agnostic-encoding/results/organized/REF\"\r\n",
    "TRANS_SAVE_PATH = \"F:/Documents/MEX/Deep-learning-based-rig-agnostic-encoding/results/organized/TRANS\"\r\n",
    "REDC_SAVE_PATH = \"F:/Documents/MEX/Deep-learning-based-rig-agnostic-encoding/results/organized/REDUC\"\r\n",
    "\r\n",
    "METRICS = [\"recon_error\",\"adv_error\", \"rot_error\", \"delta_rot\"]"
   ],
   "outputs": [],
   "metadata": {}
  },
  {
   "cell_type": "code",
   "execution_count": 3,
   "source": [
    "def load(file_path:str):\r\n",
    "    with bz2.BZ2File(file_path, \"rb\") as f:\r\n",
    "        obj = pickle.load(f)\r\n",
    "    return obj\r\n",
    "def save(file:object, file_path:str):\r\n",
    "    with bz2.BZ2File(file_path, \"w\") as f:\r\n",
    "        pickle.dump(file, f)\r\n",
    "def calc_RMS(delta_rot:list, dry_run=False):\r\n",
    "    rms = lambda x: np.sqrt(np.mean(x**2))\r\n",
    "    for i in range(len(delta_rot)):\r\n",
    "        rms_x = rms(np.asarray(delta_rot[i][0], np.float64))\r\n",
    "        rms_y = rms(np.asarray(delta_rot[i][1], np.float64))\r\n",
    "        if not dry_run:\r\n",
    "            delta_rot[i] = rms_x+rms_y\r\n",
    "def extract_model_results(model_name:str, results:list, dry_run=False):\r\n",
    "    df = {}\r\n",
    "    length = 0\r\n",
    "    for metric in METRICS:\r\n",
    "        if length == 0: length = len(results[0][metric])\r\n",
    "        df[metric] = [re[metric] for re in results]\r\n",
    "        if metric == \"delta_rot\":\r\n",
    "            for delta_rot in df[metric]:\r\n",
    "                calc_RMS(delta_rot, dry_run)\r\n",
    "\r\n",
    "    df[\"name\"] = [model_name] * length\r\n",
    "    return df"
   ],
   "outputs": [],
   "metadata": {}
  },
  {
   "cell_type": "markdown",
   "source": [
    "# Prepare data\r\n",
    "## Reference data"
   ],
   "metadata": {}
  },
  {
   "cell_type": "code",
   "execution_count": 30,
   "source": [
    "ref_results = load(os.path.join(RESULT_PATH,\"reference_results.pbz2\"))"
   ],
   "outputs": [],
   "metadata": {}
  },
  {
   "cell_type": "code",
   "execution_count": 35,
   "source": [
    "models = list(ref_results[0].keys())\r\n",
    "for m in models:\r\n",
    "    df = extract_model_results(m, [re[m] for re in ref_results])\r\n",
    "    save(df, os.path.join(REF_SAVE_PATH, m+\".pbz2\"))\r\n"
   ],
   "outputs": [
    {
     "output_type": "error",
     "ename": "IndexError",
     "evalue": "invalid index to scalar variable.",
     "traceback": [
      "\u001b[1;31m---------------------------------------------------------------------------\u001b[0m",
      "\u001b[1;31mIndexError\u001b[0m                                Traceback (most recent call last)",
      "\u001b[1;32m~\\AppData\\Local\\Temp/ipykernel_448/3007286381.py\u001b[0m in \u001b[0;36m<module>\u001b[1;34m\u001b[0m\n\u001b[0;32m      1\u001b[0m \u001b[0mmodels\u001b[0m \u001b[1;33m=\u001b[0m \u001b[0mlist\u001b[0m\u001b[1;33m(\u001b[0m\u001b[0mref_results\u001b[0m\u001b[1;33m[\u001b[0m\u001b[1;36m0\u001b[0m\u001b[1;33m]\u001b[0m\u001b[1;33m.\u001b[0m\u001b[0mkeys\u001b[0m\u001b[1;33m(\u001b[0m\u001b[1;33m)\u001b[0m\u001b[1;33m)\u001b[0m\u001b[1;33m\u001b[0m\u001b[1;33m\u001b[0m\u001b[0m\n\u001b[0;32m      2\u001b[0m \u001b[1;32mfor\u001b[0m \u001b[0mm\u001b[0m \u001b[1;32min\u001b[0m \u001b[0mmodels\u001b[0m\u001b[1;33m:\u001b[0m\u001b[1;33m\u001b[0m\u001b[1;33m\u001b[0m\u001b[0m\n\u001b[1;32m----> 3\u001b[1;33m     \u001b[0mdf\u001b[0m \u001b[1;33m=\u001b[0m \u001b[0mextract_model_results\u001b[0m\u001b[1;33m(\u001b[0m\u001b[0mm\u001b[0m\u001b[1;33m,\u001b[0m \u001b[1;33m[\u001b[0m\u001b[0mre\u001b[0m\u001b[1;33m[\u001b[0m\u001b[0mm\u001b[0m\u001b[1;33m]\u001b[0m \u001b[1;32mfor\u001b[0m \u001b[0mre\u001b[0m \u001b[1;32min\u001b[0m \u001b[0mref_results\u001b[0m\u001b[1;33m]\u001b[0m\u001b[1;33m)\u001b[0m\u001b[1;33m\u001b[0m\u001b[1;33m\u001b[0m\u001b[0m\n\u001b[0m\u001b[0;32m      4\u001b[0m     \u001b[1;31m# save(df, os.path.join(REF_SAVE_PATH, m+\".pbz2\"))\u001b[0m\u001b[1;33m\u001b[0m\u001b[1;33m\u001b[0m\u001b[1;33m\u001b[0m\u001b[0m\n",
      "\u001b[1;32m~\\AppData\\Local\\Temp/ipykernel_448/1288960778.py\u001b[0m in \u001b[0;36mextract_model_results\u001b[1;34m(model_name, results)\u001b[0m\n\u001b[0;32m     20\u001b[0m         \u001b[1;32mif\u001b[0m \u001b[0mmetric\u001b[0m \u001b[1;33m==\u001b[0m \u001b[1;34m\"delta_rot\"\u001b[0m\u001b[1;33m:\u001b[0m\u001b[1;33m\u001b[0m\u001b[1;33m\u001b[0m\u001b[0m\n\u001b[0;32m     21\u001b[0m             \u001b[1;32mfor\u001b[0m \u001b[0mdelta_rot\u001b[0m \u001b[1;32min\u001b[0m \u001b[0mdf\u001b[0m\u001b[1;33m[\u001b[0m\u001b[0mmetric\u001b[0m\u001b[1;33m]\u001b[0m\u001b[1;33m:\u001b[0m\u001b[1;33m\u001b[0m\u001b[1;33m\u001b[0m\u001b[0m\n\u001b[1;32m---> 22\u001b[1;33m                 \u001b[0mcalc_RMS\u001b[0m\u001b[1;33m(\u001b[0m\u001b[0mdelta_rot\u001b[0m\u001b[1;33m)\u001b[0m\u001b[1;33m\u001b[0m\u001b[1;33m\u001b[0m\u001b[0m\n\u001b[0m\u001b[0;32m     23\u001b[0m \u001b[1;33m\u001b[0m\u001b[0m\n\u001b[0;32m     24\u001b[0m     \u001b[0mdf\u001b[0m\u001b[1;33m[\u001b[0m\u001b[1;34m\"name\"\u001b[0m\u001b[1;33m]\u001b[0m \u001b[1;33m=\u001b[0m \u001b[1;33m[\u001b[0m\u001b[0mmodel_name\u001b[0m\u001b[1;33m]\u001b[0m \u001b[1;33m*\u001b[0m \u001b[0mlength\u001b[0m\u001b[1;33m\u001b[0m\u001b[1;33m\u001b[0m\u001b[0m\n",
      "\u001b[1;32m~\\AppData\\Local\\Temp/ipykernel_448/1288960778.py\u001b[0m in \u001b[0;36mcalc_RMS\u001b[1;34m(delta_rot)\u001b[0m\n\u001b[0;32m      9\u001b[0m     \u001b[0mrms\u001b[0m \u001b[1;33m=\u001b[0m \u001b[1;32mlambda\u001b[0m \u001b[0mx\u001b[0m\u001b[1;33m:\u001b[0m \u001b[0mnp\u001b[0m\u001b[1;33m.\u001b[0m\u001b[0msqrt\u001b[0m\u001b[1;33m(\u001b[0m\u001b[0mnp\u001b[0m\u001b[1;33m.\u001b[0m\u001b[0mmean\u001b[0m\u001b[1;33m(\u001b[0m\u001b[0mx\u001b[0m\u001b[1;33m**\u001b[0m\u001b[1;36m2\u001b[0m\u001b[1;33m)\u001b[0m\u001b[1;33m)\u001b[0m\u001b[1;33m\u001b[0m\u001b[1;33m\u001b[0m\u001b[0m\n\u001b[0;32m     10\u001b[0m     \u001b[1;32mfor\u001b[0m \u001b[0mi\u001b[0m \u001b[1;32min\u001b[0m \u001b[0mrange\u001b[0m\u001b[1;33m(\u001b[0m\u001b[0mlen\u001b[0m\u001b[1;33m(\u001b[0m\u001b[0mdelta_rot\u001b[0m\u001b[1;33m)\u001b[0m\u001b[1;33m)\u001b[0m\u001b[1;33m:\u001b[0m\u001b[1;33m\u001b[0m\u001b[1;33m\u001b[0m\u001b[0m\n\u001b[1;32m---> 11\u001b[1;33m         \u001b[0mrms_x\u001b[0m \u001b[1;33m=\u001b[0m \u001b[0mrms\u001b[0m\u001b[1;33m(\u001b[0m\u001b[0mnp\u001b[0m\u001b[1;33m.\u001b[0m\u001b[0masarray\u001b[0m\u001b[1;33m(\u001b[0m\u001b[0mdelta_rot\u001b[0m\u001b[1;33m[\u001b[0m\u001b[0mi\u001b[0m\u001b[1;33m]\u001b[0m\u001b[1;33m[\u001b[0m\u001b[1;36m0\u001b[0m\u001b[1;33m]\u001b[0m\u001b[1;33m,\u001b[0m \u001b[0mnp\u001b[0m\u001b[1;33m.\u001b[0m\u001b[0mfloat64\u001b[0m\u001b[1;33m)\u001b[0m\u001b[1;33m)\u001b[0m\u001b[1;33m\u001b[0m\u001b[1;33m\u001b[0m\u001b[0m\n\u001b[0m\u001b[0;32m     12\u001b[0m         \u001b[0mrms_y\u001b[0m \u001b[1;33m=\u001b[0m \u001b[0mrms\u001b[0m\u001b[1;33m(\u001b[0m\u001b[0mnp\u001b[0m\u001b[1;33m.\u001b[0m\u001b[0masarray\u001b[0m\u001b[1;33m(\u001b[0m\u001b[0mdelta_rot\u001b[0m\u001b[1;33m[\u001b[0m\u001b[0mi\u001b[0m\u001b[1;33m]\u001b[0m\u001b[1;33m[\u001b[0m\u001b[1;36m1\u001b[0m\u001b[1;33m]\u001b[0m\u001b[1;33m,\u001b[0m \u001b[0mnp\u001b[0m\u001b[1;33m.\u001b[0m\u001b[0mfloat64\u001b[0m\u001b[1;33m)\u001b[0m\u001b[1;33m)\u001b[0m\u001b[1;33m\u001b[0m\u001b[1;33m\u001b[0m\u001b[0m\n\u001b[0;32m     13\u001b[0m         \u001b[1;31m# delta_rot[i] = rms_x+rms_y\u001b[0m\u001b[1;33m\u001b[0m\u001b[1;33m\u001b[0m\u001b[1;33m\u001b[0m\u001b[0m\n",
      "\u001b[1;31mIndexError\u001b[0m: invalid index to scalar variable."
     ]
    }
   ],
   "metadata": {}
  },
  {
   "cell_type": "code",
   "execution_count": 24,
   "source": [
    "# REF REDUC\r\n",
    "ref_reduc_results = load(os.path.join(RESULT_PATH, \"reduc_dfs.pbz2\"))"
   ],
   "outputs": [],
   "metadata": {}
  },
  {
   "cell_type": "code",
   "execution_count": 25,
   "source": [
    "models = list(ref_reduc_results[0].keys())\r\n",
    "print(models)\r\n",
    "print(ref_reduc_results[0][models[0]].keys())\r\n",
    "print(ref_reduc_results[0][models[0]][\"sum_delta_rot_x\"])\r\n",
    "# for m in models:\r\n",
    "#     df = extract_model_results(m, [re[m] for re in ref_reduc_results])\r\n",
    "#     # save(df, os.path.join(REF_SAVE_PATH, m+\".pbz2\"))"
   ],
   "outputs": [
    {
     "output_type": "stream",
     "name": "stdout",
     "text": [
      "['AE+MoE_T', 'AE+MoE_F', 'DEC-CAT+MoE_F', 'DEC-CAT+MoE_T', 'RBF-CAT+MoE_F', 'RBF-CAT+MoE_T', 'VAE-CAT+MoE_F', 'VAE-CAT+MoE_T']\n",
      "Index(['recon_err', 'adv_err', 'rot_err', 'sum_delta_rot_x', 'sum_delta_rot_y',\n",
      "       'avg_sum_pCost_x', 'avg_sum_pCost_y', 'avg_sum_rCost_x',\n",
      "       'avg_sum_rCost_t'],\n",
      "      dtype='object')\n",
      "0      0       9.051269\n",
      "1      12.623844\n",
      "2       6.83...\n",
      "1                                                    NaN\n",
      "2                                                    NaN\n",
      "3                                                    NaN\n",
      "4                                                    NaN\n",
      "                             ...                        \n",
      "802                                                  NaN\n",
      "803                                                  NaN\n",
      "804                                                  NaN\n",
      "805                                                  NaN\n",
      "806                                                  NaN\n",
      "Name: sum_delta_rot_x, Length: 807, dtype: object\n"
     ]
    }
   ],
   "metadata": {}
  },
  {
   "cell_type": "markdown",
   "source": [
    "## Tranferred results"
   ],
   "metadata": {}
  },
  {
   "cell_type": "markdown",
   "source": [],
   "metadata": {}
  },
  {
   "cell_type": "code",
   "execution_count": 47,
   "source": [
    "trans_results = load(os.path.join(RESULT_PATH,\"transfer_results.pbz2\")) "
   ],
   "outputs": [],
   "metadata": {}
  },
  {
   "cell_type": "code",
   "execution_count": 48,
   "source": [
    "models = list(trans_results[0].keys())\r\n",
    "for m in models:\r\n",
    "    if \"LSTM\" in m: continue\r\n",
    "    df = extract_model_results(m, [re[m] for re in trans_results], dry_run=False)\r\n",
    "    save(df, os.path.join(TRANS_SAVE_PATH, m+\".pbz2\"))\r\n"
   ],
   "outputs": [],
   "metadata": {}
  },
  {
   "cell_type": "markdown",
   "source": [
    "## Transferred results - Reduced"
   ],
   "metadata": {}
  },
  {
   "cell_type": "code",
   "execution_count": 49,
   "source": [
    "reduc_results = load(os.path.join(RESULT_PATH,\"transfer_results_reduc.pbz2\")) "
   ],
   "outputs": [],
   "metadata": {}
  },
  {
   "cell_type": "code",
   "execution_count": 50,
   "source": [
    "models = list(reduc_results[0].keys())\r\n",
    "for m in models:\r\n",
    "    if \"LSTM\" in m: continue\r\n",
    "    df = extract_model_results(m, [re[m] for re in reduc_results], dry_run=False)\r\n",
    "    save(df, os.path.join(REDC_SAVE_PATH, m+\".pbz2\"))"
   ],
   "outputs": [],
   "metadata": {}
  }
 ],
 "metadata": {
  "orig_nbformat": 4,
  "language_info": {
   "name": "python",
   "version": "3.9.5",
   "mimetype": "text/x-python",
   "codemirror_mode": {
    "name": "ipython",
    "version": 3
   },
   "pygments_lexer": "ipython3",
   "nbconvert_exporter": "python",
   "file_extension": ".py"
  },
  "kernelspec": {
   "name": "python3",
   "display_name": "Python 3.9.5 64-bit ('base': conda)"
  },
  "interpreter": {
   "hash": "3c42b2a52d5936a0241853e54acb448ce7a20a8615ca3981a651b06cd49090fb"
  }
 },
 "nbformat": 4,
 "nbformat_minor": 2
}