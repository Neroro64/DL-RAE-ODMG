{
 "cells": [
  {
   "cell_type": "code",
   "execution_count": 1,
   "metadata": {
    "collapsed": true
   },
   "outputs": [],
   "source": [
    "import numpy as np\n",
    "import pandas as pd\n",
    "import plotly.graph_objs as go\n",
    "import plotly.express as ex\n",
    "import bz2\n",
    "import func as F\n",
    "import torch"
   ]
  },
  {
   "cell_type": "code",
   "execution_count": 2,
   "outputs": [],
   "source": [
    "ae_res_path = \"G:/MEX/results/ae_results.pbz2\"\n",
    "ref_res_path = \"G:/MEX/results/Reference_results.pbz2\"\n",
    "trans_res_path = \"G:/MEX/results/transfer_results.pbz2\"\n",
    "ref_reduc_res_path = \"G:/MEX/results/transfer_results_reduc_ref.pbz2\"\n",
    "ref_reduc_res_path2 = \"G:/MEX/results/transfer_results_reduc_ref_2-5.pbz2\"\n",
    "reduc_res_path = \"G:/MEX/results/transfer_results_reduc.pbz2\"\n"
   ],
   "metadata": {
    "collapsed": false,
    "pycharm": {
     "name": "#%%\n"
    }
   }
  },
  {
   "cell_type": "code",
   "execution_count": 5,
   "outputs": [],
   "source": [
    "ae_res = F.load(ae_res_path)\n"
   ],
   "metadata": {
    "collapsed": false,
    "pycharm": {
     "name": "#%%\n"
    }
   }
  },
  {
   "cell_type": "code",
   "execution_count": 46,
   "outputs": [],
   "source": [
    "dfs = []\n",
    "for r1 in ae_res:\n",
    "    r1_res = pd.DataFrame()\n",
    "    r1_res[\"name\"] = pd.Series([r1[\"name\"]])\n",
    "    r1_res[\"params\"] = pd.Series([r1[\"params\"]])\n",
    "    r1_res[\"mem\"] = pd.Series([r1[\"mem\"]])\n",
    "    r1_res[\"time\"] = pd.Series([np.mean(r1[\"elapsed_times\"])])\n",
    "\n",
    "    recon_err = 0\n",
    "    for err in r1[\"recon_error\"]:\n",
    "        recon_err += err\n",
    "    recon_err /= float(len(r1[\"recon_error\"]))\n",
    "    r1_res[\"recon_err\"] = pd.Series([recon_err.item()])\n",
    "\n",
    "    adv_err = 0\n",
    "    for err in r1[\"adv_error\"]:\n",
    "        adv_err += err\n",
    "    recon_err /= float(len(r1[\"adv_error\"]))\n",
    "    r1_res[\"adv_err\"] = pd.Series([adv_err.item()])\n",
    "\n",
    "    rot_err = 0\n",
    "    for err in r1[\"rot_error\"]:\n",
    "        rot_err += err\n",
    "    rot_err /= float(len(r1[\"rot_error\"]))\n",
    "    r1_res[\"rot_err\"] = pd.Series([rot_err.item()])\n",
    "\n",
    "    sx = [sum(abs(delta[0])).item() for delta in r1[\"delta_rot\"]]\n",
    "    sy = [sum(abs(delta[1])).item() for delta in r1[\"delta_rot\"]]\n",
    "    sxx = sum(sx) / float(len(sx))\n",
    "    syy = sum(sy) / float(len(sy))\n",
    "\n",
    "    r1_res[\"sum_delta_rot_x\"] = pd.Series([sxx])\n",
    "    r1_res[\"sum_delta_rot_y\"] = pd.Series([syy])\n",
    "    dfs.append(r1_res)\n"
   ],
   "metadata": {
    "collapsed": false,
    "pycharm": {
     "name": "#%%\n"
    }
   }
  },
  {
   "cell_type": "code",
   "execution_count": 47,
   "outputs": [],
   "source": [
    "F.save(dfs, \"ae_dfs\", \"../results\")"
   ],
   "metadata": {
    "collapsed": false,
    "pycharm": {
     "name": "#%%\n"
    }
   }
  },
  {
   "cell_type": "code",
   "execution_count": 3,
   "outputs": [],
   "source": [
    "ref_res = F.load(ref_res_path)"
   ],
   "metadata": {
    "collapsed": false,
    "pycharm": {
     "name": "#%%\n"
    }
   }
  },
  {
   "cell_type": "code",
   "execution_count": 20,
   "outputs": [],
   "source": [
    "dfs = extract(ref_res)\n",
    "\n",
    "F.save(dfs, \"ref_dfs\", \"../results\")"
   ],
   "metadata": {
    "collapsed": false,
    "pycharm": {
     "name": "#%%\n"
    }
   }
  },
  {
   "cell_type": "code",
   "execution_count": 9,
   "outputs": [
    {
     "data": {
      "text/plain": "dict_keys(['AE+MoE', 'AE+LSTM', 'RBF-CAT+LSTM', 'RBF-IN+LSTM', 'RBF-CAT+MoE', 'RBF-IN+MoE', 'VAE-CAT+LSTM', 'VAE-IN+LSTM', 'VAE-CAT+MoE', 'VAE-IN+MoE', 'DEC-CAT+MoE', 'DEC-IN+MoE'])"
     },
     "execution_count": 9,
     "metadata": {},
     "output_type": "execute_result"
    }
   ],
   "source": [
    "dfs[0].keys()"
   ],
   "metadata": {
    "collapsed": false,
    "pycharm": {
     "name": "#%%\n"
    }
   }
  },
  {
   "cell_type": "code",
   "execution_count": 10,
   "outputs": [
    {
     "name": "stdout",
     "output_type": "stream",
     "text": [
      "1\n"
     ]
    }
   ],
   "source": [
    "print(len(dfs[0][\"AE+MoE\"][\"recon_err\"]))\n"
   ],
   "metadata": {
    "collapsed": false,
    "pycharm": {
     "name": "#%%\n"
    }
   }
  },
  {
   "cell_type": "code",
   "execution_count": 19,
   "outputs": [],
   "source": [
    "def extract(data):\n",
    "    df = []\n",
    "    for r1 in data:\n",
    "        ref_df = {}\n",
    "        for k, v in r1.items():\n",
    "            r1_res = pd.DataFrame()\n",
    "            # r1_res[\"name\"] = pd.Series([v[\"name\"]])\n",
    "            # r1_res[\"params\"] = pd.Series([v[\"params\"]])\n",
    "            # r1_res[\"mem\"] = pd.Series([v[\"mem\"]])\n",
    "            # r1_res[\"time\"] = pd.Series([np.mean(v[\"elapsed_times\"])])\n",
    "\n",
    "            recon_err = [err.item() for err in v[\"recon_error\"]]\n",
    "            r1_res[\"recon_err\"] = pd.Series(np.asarray(recon_err))\n",
    "            adv_err = [err.item() for err in v[\"adv_error\"]]\n",
    "            r1_res[\"adv_err\"] = pd.Series(np.asarray(adv_err))\n",
    "\n",
    "            rot_err = [err.item() for err in v[\"rot_error\"]]\n",
    "            r1_res[\"rot_err\"] = pd.Series(np.asarray(rot_err))\n",
    "            sx = [sum(abs(delta[0])).item() for delta in v[\"delta_rot\"]]\n",
    "            sy = [sum(abs(delta[1])).item() for delta in v[\"delta_rot\"]]\n",
    "            sxx = pd.Series(np.asarray(sx))\n",
    "            syy = pd.Series(np.asarray(sy))\n",
    "\n",
    "            r1_res[\"sum_delta_rot_x\"] = pd.Series([sxx])\n",
    "            r1_res[\"sum_delta_rot_y\"] = pd.Series([syy])\n",
    "            pCostx = [(sum(cost[0])/float(len(cost[0])+1)) for cost in v[\"potCost\"]]\n",
    "            pCosty = [(sum(cost[1])/float(len(cost[1])+1)) for cost in v[\"potCost\"]]\n",
    "            rCostx = [(sum(cost[0])/float(len(cost[3])+1)) for cost in v[\"rotCost\"]]\n",
    "            rCosty = [(sum(cost[1])/float(len(cost[2])+1)) for cost in v[\"rotCost\"]]\n",
    "\n",
    "            r1_res[\"avg_sum_pCost_x\"] = pd.Series(np.asarray(pCostx))\n",
    "            r1_res[\"avg_sum_pCost_y\"] = pd.Series(np.asarray(pCosty))\n",
    "            r1_res[\"avg_sum_rCost_x\"] = pd.Series(np.asarray(rCostx))\n",
    "            r1_res[\"avg_sum_rCost_t\"] = pd.Series(np.asarray(rCosty))\n",
    "\n",
    "            ref_df[k] = r1_res\n",
    "        df.append(ref_df)\n",
    "    return df"
   ],
   "metadata": {
    "collapsed": false,
    "pycharm": {
     "name": "#%%\n"
    }
   }
  },
  {
   "cell_type": "code",
   "execution_count": 22,
   "outputs": [
    {
     "ename": "KeyboardInterrupt",
     "evalue": "",
     "output_type": "error",
     "traceback": [
      "\u001B[1;31m---------------------------------------------------------------------------\u001B[0m",
      "\u001B[1;31mKeyboardInterrupt\u001B[0m                         Traceback (most recent call last)",
      "\u001B[1;32m<ipython-input-22-dd5ca72fa195>\u001B[0m in \u001B[0;36m<module>\u001B[1;34m\u001B[0m\n\u001B[1;32m----> 1\u001B[1;33m \u001B[0mtransfer_res\u001B[0m \u001B[1;33m=\u001B[0m \u001B[0mF\u001B[0m\u001B[1;33m.\u001B[0m\u001B[0mload\u001B[0m\u001B[1;33m(\u001B[0m\u001B[0mtrans_res_path\u001B[0m\u001B[1;33m)\u001B[0m\u001B[1;33m\u001B[0m\u001B[1;33m\u001B[0m\u001B[0m\n\u001B[0m\u001B[0;32m      2\u001B[0m \u001B[0mdfs\u001B[0m \u001B[1;33m=\u001B[0m \u001B[0mextract\u001B[0m\u001B[1;33m(\u001B[0m\u001B[0mtransfer_res\u001B[0m\u001B[1;33m)\u001B[0m\u001B[1;33m\u001B[0m\u001B[1;33m\u001B[0m\u001B[0m\n\u001B[0;32m      3\u001B[0m \u001B[0mF\u001B[0m\u001B[1;33m.\u001B[0m\u001B[0msave\u001B[0m\u001B[1;33m(\u001B[0m\u001B[0mdfs\u001B[0m\u001B[1;33m,\u001B[0m \u001B[1;34m\"transfer_dfs\"\u001B[0m\u001B[1;33m,\u001B[0m \u001B[1;34m\"../results\"\u001B[0m\u001B[1;33m)\u001B[0m\u001B[1;33m\u001B[0m\u001B[1;33m\u001B[0m\u001B[0m\n",
      "\u001B[1;32mG:\\MEX\\src\\func.py\u001B[0m in \u001B[0;36mload\u001B[1;34m(file_path)\u001B[0m\n\u001B[0;32m     44\u001B[0m     \"\"\"\n\u001B[0;32m     45\u001B[0m     \u001B[1;32mwith\u001B[0m \u001B[0mbz2\u001B[0m\u001B[1;33m.\u001B[0m\u001B[0mBZ2File\u001B[0m\u001B[1;33m(\u001B[0m\u001B[0mfile_path\u001B[0m\u001B[1;33m,\u001B[0m \u001B[1;34m\"rb\"\u001B[0m\u001B[1;33m)\u001B[0m \u001B[1;32mas\u001B[0m \u001B[0mf\u001B[0m\u001B[1;33m:\u001B[0m\u001B[1;33m\u001B[0m\u001B[1;33m\u001B[0m\u001B[0m\n\u001B[1;32m---> 46\u001B[1;33m         \u001B[0mobj\u001B[0m \u001B[1;33m=\u001B[0m \u001B[0mpickle\u001B[0m\u001B[1;33m.\u001B[0m\u001B[0mload\u001B[0m\u001B[1;33m(\u001B[0m\u001B[0mf\u001B[0m\u001B[1;33m)\u001B[0m\u001B[1;33m\u001B[0m\u001B[1;33m\u001B[0m\u001B[0m\n\u001B[0m\u001B[0;32m     47\u001B[0m         \u001B[1;32mreturn\u001B[0m \u001B[0mobj\u001B[0m\u001B[1;33m\u001B[0m\u001B[1;33m\u001B[0m\u001B[0m\n\u001B[0;32m     48\u001B[0m \u001B[1;33m\u001B[0m\u001B[0m\n",
      "\u001B[1;32m~\\miniconda3\\envs\\torch\\lib\\site-packages\\torch\\_utils.py\u001B[0m in \u001B[0;36m_rebuild_tensor_v2\u001B[1;34m(storage, storage_offset, size, stride, requires_grad, backward_hooks)\u001B[0m\n\u001B[0;32m    136\u001B[0m \u001B[1;33m\u001B[0m\u001B[0m\n\u001B[0;32m    137\u001B[0m \u001B[1;32mdef\u001B[0m \u001B[0m_rebuild_tensor_v2\u001B[0m\u001B[1;33m(\u001B[0m\u001B[0mstorage\u001B[0m\u001B[1;33m,\u001B[0m \u001B[0mstorage_offset\u001B[0m\u001B[1;33m,\u001B[0m \u001B[0msize\u001B[0m\u001B[1;33m,\u001B[0m \u001B[0mstride\u001B[0m\u001B[1;33m,\u001B[0m \u001B[0mrequires_grad\u001B[0m\u001B[1;33m,\u001B[0m \u001B[0mbackward_hooks\u001B[0m\u001B[1;33m)\u001B[0m\u001B[1;33m:\u001B[0m\u001B[1;33m\u001B[0m\u001B[1;33m\u001B[0m\u001B[0m\n\u001B[1;32m--> 138\u001B[1;33m     \u001B[0mtensor\u001B[0m \u001B[1;33m=\u001B[0m \u001B[0m_rebuild_tensor\u001B[0m\u001B[1;33m(\u001B[0m\u001B[0mstorage\u001B[0m\u001B[1;33m,\u001B[0m \u001B[0mstorage_offset\u001B[0m\u001B[1;33m,\u001B[0m \u001B[0msize\u001B[0m\u001B[1;33m,\u001B[0m \u001B[0mstride\u001B[0m\u001B[1;33m)\u001B[0m\u001B[1;33m\u001B[0m\u001B[1;33m\u001B[0m\u001B[0m\n\u001B[0m\u001B[0;32m    139\u001B[0m     \u001B[0mtensor\u001B[0m\u001B[1;33m.\u001B[0m\u001B[0mrequires_grad\u001B[0m \u001B[1;33m=\u001B[0m \u001B[0mrequires_grad\u001B[0m\u001B[1;33m\u001B[0m\u001B[1;33m\u001B[0m\u001B[0m\n\u001B[0;32m    140\u001B[0m     \u001B[1;31m# NB: This line exists only for backwards compatibility; the\u001B[0m\u001B[1;33m\u001B[0m\u001B[1;33m\u001B[0m\u001B[1;33m\u001B[0m\u001B[0m\n",
      "\u001B[1;32m~\\miniconda3\\envs\\torch\\lib\\site-packages\\torch\\_utils.py\u001B[0m in \u001B[0;36m_rebuild_tensor\u001B[1;34m(storage, storage_offset, size, stride)\u001B[0m\n\u001B[0;32m    132\u001B[0m     \u001B[1;31m# first construct a tensor with the correct dtype/device\u001B[0m\u001B[1;33m\u001B[0m\u001B[1;33m\u001B[0m\u001B[1;33m\u001B[0m\u001B[0m\n\u001B[0;32m    133\u001B[0m     \u001B[0mt\u001B[0m \u001B[1;33m=\u001B[0m \u001B[0mtorch\u001B[0m\u001B[1;33m.\u001B[0m\u001B[0mtensor\u001B[0m\u001B[1;33m(\u001B[0m\u001B[1;33m[\u001B[0m\u001B[1;33m]\u001B[0m\u001B[1;33m,\u001B[0m \u001B[0mdtype\u001B[0m\u001B[1;33m=\u001B[0m\u001B[0mstorage\u001B[0m\u001B[1;33m.\u001B[0m\u001B[0mdtype\u001B[0m\u001B[1;33m,\u001B[0m \u001B[0mdevice\u001B[0m\u001B[1;33m=\u001B[0m\u001B[0mstorage\u001B[0m\u001B[1;33m.\u001B[0m\u001B[0mdevice\u001B[0m\u001B[1;33m)\u001B[0m\u001B[1;33m\u001B[0m\u001B[1;33m\u001B[0m\u001B[0m\n\u001B[1;32m--> 134\u001B[1;33m     \u001B[1;32mreturn\u001B[0m \u001B[0mt\u001B[0m\u001B[1;33m.\u001B[0m\u001B[0mset_\u001B[0m\u001B[1;33m(\u001B[0m\u001B[0mstorage\u001B[0m\u001B[1;33m,\u001B[0m \u001B[0mstorage_offset\u001B[0m\u001B[1;33m,\u001B[0m \u001B[0msize\u001B[0m\u001B[1;33m,\u001B[0m \u001B[0mstride\u001B[0m\u001B[1;33m)\u001B[0m\u001B[1;33m\u001B[0m\u001B[1;33m\u001B[0m\u001B[0m\n\u001B[0m\u001B[0;32m    135\u001B[0m \u001B[1;33m\u001B[0m\u001B[0m\n\u001B[0;32m    136\u001B[0m \u001B[1;33m\u001B[0m\u001B[0m\n",
      "\u001B[1;31mKeyboardInterrupt\u001B[0m: "
     ]
    }
   ],
   "source": [
    "transfer_res = F.load(trans_res_path)\n",
    "dfs = extract(transfer_res)\n",
    "F.save(dfs, \"transfer_dfs\", \"../results\")"
   ],
   "metadata": {
    "collapsed": false,
    "pycharm": {
     "name": "#%%\n"
    }
   }
  },
  {
   "cell_type": "code",
   "execution_count": null,
   "outputs": [],
   "source": [
    "reduct_res1 = F.load(ref_reduc_res_path)\n",
    "reduct_res2 = F.load(ref_reduc_res_path2)"
   ],
   "metadata": {
    "collapsed": false,
    "pycharm": {
     "name": "#%%\n"
    }
   }
  },
  {
   "cell_type": "code",
   "execution_count": null,
   "outputs": [],
   "source": [
    "reduc_res = [reduct_res1[0]] + reduct_res2"
   ],
   "metadata": {
    "collapsed": false,
    "pycharm": {
     "name": "#%%\n"
    }
   }
  },
  {
   "cell_type": "code",
   "execution_count": null,
   "outputs": [],
   "source": [
    "dfs = extract(reduc_res)\n",
    "F.save(dfs, \"ref_reduc_dfs\", \"../results\")"
   ],
   "metadata": {
    "collapsed": false,
    "pycharm": {
     "name": "#%%\n"
    }
   }
  },
  {
   "cell_type": "code",
   "execution_count": null,
   "outputs": [],
   "source": [
    "reduc_res_tr = F.load(reduc_res_path)\n",
    "dfs = extract(reduc_res_tr)\n",
    "F.save(dfs, \"reduc_dfs\", \"../results\")"
   ],
   "metadata": {
    "collapsed": false,
    "pycharm": {
     "name": "#%%\n"
    }
   }
  },
  {
   "cell_type": "code",
   "execution_count": null,
   "outputs": [],
   "source": [],
   "metadata": {
    "collapsed": false,
    "pycharm": {
     "name": "#%%\n"
    }
   }
  }
 ],
 "metadata": {
  "kernelspec": {
   "name": "pycharm-89bbc665",
   "language": "python",
   "display_name": "PyCharm (MEX)"
  },
  "language_info": {
   "codemirror_mode": {
    "name": "ipython",
    "version": 2
   },
   "file_extension": ".py",
   "mimetype": "text/x-python",
   "name": "python",
   "nbconvert_exporter": "python",
   "pygments_lexer": "ipython2",
   "version": "2.7.6"
  }
 },
 "nbformat": 4,
 "nbformat_minor": 0
}